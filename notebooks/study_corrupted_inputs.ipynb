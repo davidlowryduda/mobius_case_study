{
 "cells": [
  {
   "cell_type": "markdown",
   "id": "30ca41",
   "metadata": {
    "collapsed": false
   },
   "source": [
    "# Study Corrupted Inputs #\n",
    "\n",
    "How can we tell what inputs actually matter to the models? In the paper, we describe the conjecture that the models care almost entirely about $n \\bmod 2$ and $n \\bmod 3$, largely ignoring all of the remaining input data.\n",
    "\n",
    "One way to test this is to deliberately **corrupt** various pieces of input data. For example, if we corrupt (e.g. by making completely random)  $n \\bmod p$ for all primes $p \\neq 2, 3$, but the predictions of the model don't change, then we have very strong evidence that the model only considers the primes $2$ and $3$. Similarly, if we corrupt $2$ and $3$ but leave all the remaining primes, and if the model then performs radically different, then we have strong evidence that the model uses the primes $2$ and $3$ in important ways.\n",
    "\n",
    "We now set out to test these.\n",
    "\n",
    "\n",
    "## Generating Corrupt Datafiles ##\n",
    "\n",
    "The logic to create the corrupt datafiles is in [scripts/generate_corrupted_datafiles.py](../scripts/generate_corrupted_datafiles.py). It takes some time. The easiest way to generate this is\n",
    "\n",
    "    cd ../scripts\n",
    "    make corrupted_data\n",
    "    \n",
    "This will populate `/input` with several new files.\n",
    "\n",
    "- `mu_only23_correct.txt` (only $p = 2$ and $p = 3$ correct, others are random)\n",
    "- `musq_only23_correct.txt` (same, but with $\\mu^2(\\cdot)$ output)\n",
    "- `mu_2_random.txt` (randomize $p = 2$ input, keep all others accurate)\n",
    "- `musq_2_random.txt` (same, but with $\\mu^2(\\cdot)$)\n",
    "- `mu_p_3_random.txt` (randomize $p = 3$ input, keep all others accurate)\n",
    "- `musq_p_3_random.txt` (same, but with $\\mu^2(\\cdot)$)\n",
    "- `mu_23_random.txt` (randomize both $p = 2$ and $p = 3$, keep all others accurate)\n",
    "- `musq_23_random.txt` (same, but with $\\mu^2(\\cdot)$)\n",
    "- `mu_true.txt` (correct data)\n",
    "- `musq_true.txt` (correct data, but for $\\mu^2(\\cdot)$)\n",
    "\n",
    "Each of these files will have use the same input integers $n$, but with the generated datafiles corrupted in the prescribed ways. We use the same integers $n$ to hold as much constant between different tests as possible.\n",
    "\n",
    "Below, we call Int2Int on these files, capture the outputs, and then study the results."
   ]
  },
  {
   "cell_type": "code",
   "execution_count": 1,
   "id": "597526",
   "metadata": {
    "collapsed": false
   },
   "outputs": [
   ],
   "source": [
    "import subprocess\n",
    "\n",
    "\n",
    "mu_cmd_string = \"python ~/Int2Int/train.py --num_workers 0 --dump_path '/home/user/fastdir/dump' --exp_name basic --exp_id 3 --eval_only True --eval_data '/home/user/fastdir/data/{}' --eval_size 20000 --data_types 'int[200]:range(-1,2)' 2>&1 | tee '/home/user/fastdir/records/{}'\"\n",
    "musq_cmd_string = \"python ~/Int2Int/train.py --num_workers 0 --dump_path '/home/user/fastdir/dump' --exp_name basicsq --exp_id 2 --eval_only True --eval_data '/home/user/fastdir/data/{}' --eval_size 20000 --data_types 'int[200]:range(-1,2)' 2>&1 | tee '/home/user/fastdir/records/{}'\""
   ]
  },
  {
   "cell_type": "code",
   "execution_count": 2,
   "id": "4a77e7",
   "metadata": {
    "collapsed": false,
    "scrolled": true
   },
   "outputs": [
    {
     "name": "stdout",
     "output_type": "stream",
     "text": [
      "INFO - 07/22/25 19:11:42 - 0:00:00 - ============ Initialized logger ============\n",
      "INFO - 07/22/25 19:11:42 - 0:00:00 - GRU: False\n",
      "                                     accumulate_gradients: 1\n",
      "                                     act_bias: 0\n",
      "                                     act_biased: False\n",
      "                                     act_ponder_coupling: 0.01\n",
      "                                     act_threshold: 0.01\n",
      "                                     amp: -1\n",
      "                                     architecture: encoder_decoder\n",
      "                                     attention_dropout: 0\n",
      "                                     base: 1000\n",
      "                                     batch_load: False\n",
      "                                     batch_size: 32\n",
      "                                     batch_size_eval: 128\n",
      "                                     beam_early_stopping: True\n",
      "                                     beam_eval: False\n",
      "                                     beam_eval_train: 0\n",
      "                                     beam_length_penalty: 1\n",
      "                                     beam_size: 1\n",
      "                                     biased_gates: False\n",
      "                                     bidirectional: False\n",
      "                                     class_by_length: False\n",
      "                                     clip_grad_norm: 5\n",
      "                                     command: python /home/user/Int2Int/train.py --num_workers 0 --dump_path '/home/user/fastdir/dump' --exp_name basic --exp_id 3 --eval_only True --eval_data '/home/user/fastdir/data/mu_only23_correct.txt' --eval_size 20000 --data_types 'int[200]:range(-1,2)' --exp_id \"3\"\n",
      "                                     cpu: False\n",
      "                                     data_types: int[200]:range(-1,2)\n",
      "                                     debug: False\n",
      "                                     debug_slurm: False\n",
      "                                     dec_act: False\n",
      "                                     dec_emb_dim: 256\n",
      "                                     dec_gated: False\n",
      "                                     dec_has_pos_emb: True\n",
      "                                     dec_loop_idx: -1\n",
      "                                     dec_loops: 1\n",
      "                                     dim1: 10\n",
      "                                     dim2: 10\n",
      "                                     dropout: 0\n",
      "                                     dump_path: /home/user/fastdir/dump/basic/3\n",
      "                                     enc_act: False\n",
      "                                     enc_emb_dim: 256\n",
      "                                     enc_gated: False\n",
      "                                     enc_has_pos_emb: True\n",
      "                                     enc_loop_idx: -1\n",
      "                                     enc_loops: 1\n",
      "                                     env_base_seed: -1\n",
      "                                     env_name: arithmetic\n",
      "                                     epoch_size: 300000\n",
      "                                     eval_data: /home/user/fastdir/data/mu_only23_correct.txt\n",
      "                                     eval_from_exp: \n",
      "                                     eval_only: True\n",
      "                                     eval_size: 20000\n",
      "                                     eval_verbose: 0\n",
      "                                     eval_verbose_print: False\n",
      "                                     exp_id: 3\n",
      "                                     exp_name: basic\n",
      "                                     export_data: False\n",
      "                                     first_class_prob: 0.25\n",
      "                                     first_class_size: 1000000\n",
      "                                     fp16: False\n",
      "                                     gate_bias: 0\n",
      "                                     gated: False\n",
      "                                     gelu_activation: False\n",
      "                                     global_rank: 0\n",
      "                                     is_master: True\n",
      "                                     is_slurm_job: False\n",
      "                                     local_gpu: -1\n",
      "                                     local_rank: 0\n",
      "                                     lstm: False\n",
      "                                     lstm_hidden_dim: 2048\n",
      "                                     master_port: -1\n",
      "                                     max_class: 101\n",
      "                                     max_epoch: 100000\n",
      "                                     max_len: 512\n",
      "                                     max_output_len: 512\n",
      "                                     max_src_len: 0\n",
      "                                     maxint: 1000000\n",
      "                                     minint: 1\n",
      "                                     modulus: 67\n",
      "                                     multi_gpu: False\n",
      "                                     multi_node: False\n",
      "                                     n_dec_heads: 8\n",
      "                                     n_dec_hidden_layers: 1\n",
      "                                     n_dec_layers: 4\n",
      "                                     n_enc_heads: 8\n",
      "                                     n_enc_hidden_layers: 1\n",
      "                                     n_enc_layers: 4\n",
      "                                     n_gpu_per_node: 1\n",
      "                                     n_nodes: 1\n",
      "                                     node_id: 0\n",
      "                                     norm_attention: False\n",
      "                                     num_workers: 0\n",
      "                                     operation: data\n",
      "                                     optimizer: adam,lr=0.0001\n",
      "                                     reload_checkpoint: \n",
      "                                     reload_model: \n",
      "                                     reload_size: -1\n",
      "                                     save_periodic: 0\n",
      "                                     scalar_gate: False\n",
      "                                     share_inout_emb: True\n",
      "                                     sinusoidal_embeddings: False\n",
      "                                     stopping_criterion: \n",
      "                                     tasks: arithmetic\n",
      "                                     train_data: \n",
      "                                     two_classes: False\n",
      "                                     validation_metrics: \n",
      "                                     windows: False\n",
      "                                     world_size: 1\n",
      "                                     xav_init: False\n",
      "INFO - 07/22/25 19:11:42 - 0:00:00 - The experiment will be stored in /home/user/fastdir/dump/basic/3\n",
      "                                     \n",
      "INFO - 07/22/25 19:11:42 - 0:00:00 - Running command: python /home/user/Int2Int/train.py --num_workers 0 --dump_path '/home/user/fastdir/dump' --exp_name basic --exp_id 3 --eval_only True --eval_data '/home/user/fastdir/data/mu_only23_correct.txt' --eval_size 20000 --data_types 'int[200]:range(-1,2)'\n",
      "\n",
      "INFO - 07/22/25 19:11:42 - 0:00:00 - words: {'<eos>': 0, '<pad>': 1, '<sep>': 2, '(': 3, ')': 4, '<SPECIAL_0>': 5, '<SPECIAL_1>': 6, '<SPECIAL_2>': 7, '<SPECIAL_3>': 8, '<SPECIAL_4>': 9, '<SPECIAL_5>': 10, '<SPECIAL_6>': 11, '<SPECIAL_7>': 12, '<SPECIAL_8>': 13, '<SPECIAL_9>': 14, '+': 15, '-': 16, '-1': 17, '0': 18, '1': 19, '10': 20, '100': 21, '101': 22, '102': 23, '103': 24, '104': 25, '105': 26, '106': 27, '107': 28, '108': 29, '109': 30, '11': 31, '110': 32, '111': 33, '112': 34, '113': 35, '114': 36, '115': 37, '116': 38, '117': 39, '118': 40, '119': 41, '12': 42, '120': 43, '121': 44, '122': 45, '123': 46, '124': 47, '125': 48, '126': 49, '127': 50, '128': 51, '129': 52, '13': 53, '130': 54, '131': 55, '132': 56, '133': 57, '134': 58, '135': 59, '136': 60, '137': 61, '138': 62, '139': 63, '14': 64, '140': 65, '141': 66, '142': 67, '143': 68, '144': 69, '145': 70, '146': 71, '147': 72, '148': 73, '149': 74, '15': 75, '150': 76, '151': 77, '152': 78, '153': 79, '154': 80, '155': 81, '156': 82, '157': 83, '158': 84, '159': 85, '16': 86, '160': 87, '161': 88, '162': 89, '163': 90, '164': 91, '165': 92, '166': 93, '167': 94, '168': 95, '169': 96, '17': 97, '170': 98, '171': 99, '172': 100, '173': 101, '174': 102, '175': 103, '176': 104, '177': 105, '178': 106, '179': 107, '18': 108, '180': 109, '181': 110, '182': 111, '183': 112, '184': 113, '185': 114, '186': 115, '187': 116, '188': 117, '189': 118, '19': 119, '190': 120, '191': 121, '192': 122, '193': 123, '194': 124, '195': 125, '196': 126, '197': 127, '198': 128, '199': 129, '2': 130, '20': 131, '200': 132, '201': 133, '202': 134, '203': 135, '204': 136, '205': 137, '206': 138, '207': 139, '208': 140, '209': 141, '21': 142, '210': 143, '211': 144, '212': 145, '213': 146, '214': 147, '215': 148, '216': 149, '217': 150, '218': 151, '219': 152, '22': 153, '220': 154, '221': 155, '222': 156, '223': 157, '224': 158, '225': 159, '226': 160, '227': 161, '228': 162, '229': 163, '23': 164, '230': 165, '231': 166, '232': 167, '233': 168, '234': 169, '235': 170, '236': 171, '237': 172, '238': 173, '239': 174, '24': 175, '240': 176, '241': 177, '242': 178, '243': 179, '244': 180, '245': 181, '246': 182, '247': 183, '248': 184, '249': 185, '25': 186, '250': 187, '251': 188, '252': 189, '253': 190, '254': 191, '255': 192, '256': 193, '257': 194, '258': 195, '259': 196, '26': 197, '260': 198, '261': 199, '262': 200, '263': 201, '264': 202, '265': 203, '266': 204, '267': 205, '268': 206, '269': 207, '27': 208, '270': 209, '271': 210, '272': 211, '273': 212, '274': 213, '275': 214, '276': 215, '277': 216, '278': 217, '279': 218, '28': 219, '280': 220, '281': 221, '282': 222, '283': 223, '284': 224, '285': 225, '286': 226, '287': 227, '288': 228, '289': 229, '29': 230, '290': 231, '291': 232, '292': 233, '293': 234, '294': 235, '295': 236, '296': 237, '297': 238, '298': 239, '299': 240, '3': 241, '30': 242, '300': 243, '301': 244, '302': 245, '303': 246, '304': 247, '305': 248, '306': 249, '307': 250, '308': 251, '309': 252, '31': 253, '310': 254, '311': 255, '312': 256, '313': 257, '314': 258, '315': 259, '316': 260, '317': 261, '318': 262, '319': 263, '32': 264, '320': 265, '321': 266, '322': 267, '323': 268, '324': 269, '325': 270, '326': 271, '327': 272, '328': 273, '329': 274, '33': 275, '330': 276, '331': 277, '332': 278, '333': 279, '334': 280, '335': 281, '336': 282, '337': 283, '338': 284, '339': 285, '34': 286, '340': 287, '341': 288, '342': 289, '343': 290, '344': 291, '345': 292, '346': 293, '347': 294, '348': 295, '349': 296, '35': 297, '350': 298, '351': 299, '352': 300, '353': 301, '354': 302, '355': 303, '356': 304, '357': 305, '358': 306, '359': 307, '36': 308, '360': 309, '361': 310, '362': 311, '363': 312, '364': 313, '365': 314, '366': 315, '367': 316, '368': 317, '369': 318, '37': 319, '370': 320, '371': 321, '372': 322, '373': 323, '374': 324, '375': 325, '376': 326, '377': 327, '378': 328, '379': 329, '38': 330, '380': 331, '381': 332, '382': 333, '383': 334, '384': 335, '385': 336, '386': 337, '387': 338, '388': 339, '389': 340, '39': 341, '390': 342, '391': 343, '392': 344, '393': 345, '394': 346, '395': 347, '396': 348, '397': 349, '398': 350, '399': 351, '4': 352, '40': 353, '400': 354, '401': 355, '402': 356, '403': 357, '404': 358, '405': 359, '406': 360, '407': 361, '408': 362, '409': 363, '41': 364, '410': 365, '411': 366, '412': 367, '413': 368, '414': 369, '415': 370, '416': 371, '417': 372, '418': 373, '419': 374, '42': 375, '420': 376, '421': 377, '422': 378, '423': 379, '424': 380, '425': 381, '426': 382, '427': 383, '428': 384, '429': 385, '43': 386, '430': 387, '431': 388, '432': 389, '433': 390, '434': 391, '435': 392, '436': 393, '437': 394, '438': 395, '439': 396, '44': 397, '440': 398, '441': 399, '442': 400, '443': 401, '444': 402, '445': 403, '446': 404, '447': 405, '448': 406, '449': 407, '45': 408, '450': 409, '451': 410, '452': 411, '453': 412, '454': 413, '455': 414, '456': 415, '457': 416, '458': 417, '459': 418, '46': 419, '460': 420, '461': 421, '462': 422, '463': 423, '464': 424, '465': 425, '466': 426, '467': 427, '468': 428, '469': 429, '47': 430, '470': 431, '471': 432, '472': 433, '473': 434, '474': 435, '475': 436, '476': 437, '477': 438, '478': 439, '479': 440, '48': 441, '480': 442, '481': 443, '482': 444, '483': 445, '484': 446, '485': 447, '486': 448, '487': 449, '488': 450, '489': 451, '49': 452, '490': 453, '491': 454, '492': 455, '493': 456, '494': 457, '495': 458, '496': 459, '497': 460, '498': 461, '499': 462, '5': 463, '50': 464, '500': 465, '501': 466, '502': 467, '503': 468, '504': 469, '505': 470, '506': 471, '507': 472, '508': 473, '509': 474, '51': 475, '510': 476, '511': 477, '512': 478, '513': 479, '514': 480, '515': 481, '516': 482, '517': 483, '518': 484, '519': 485, '52': 486, '520': 487, '521': 488, '522': 489, '523': 490, '524': 491, '525': 492, '526': 493, '527': 494, '528': 495, '529': 496, '53': 497, '530': 498, '531': 499, '532': 500, '533': 501, '534': 502, '535': 503, '536': 504, '537': 505, '538': 506, '539': 507, '54': 508, '540': 509, '541': 510, '542': 511, '543': 512, '544': 513, '545': 514, '546': 515, '547': 516, '548': 517, '549': 518, '55': 519, '550': 520, '551': 521, '552': 522, '553': 523, '554': 524, '555': 525, '556': 526, '557': 527, '558': 528, '559': 529, '56': 530, '560': 531, '561': 532, '562': 533, '563': 534, '564': 535, '565': 536, '566': 537, '567': 538, '568': 539, '569': 540, '57': 541, '570': 542, '571': 543, '572': 544, '573': 545, '574': 546, '575': 547, '576': 548, '577': 549, '578': 550, '579': 551, '58': 552, '580': 553, '581': 554, '582': 555, '583': 556, '584': 557, '585': 558, '586': 559, '587': 560, '588': 561, '589': 562, '59': 563, '590': 564, '591': 565, '592': 566, '593': 567, '594': 568, '595': 569, '596': 570, '597': 571, '598': 572, '599': 573, '6': 574, '60': 575, '600': 576, '601': 577, '602': 578, '603': 579, '604': 580, '605': 581, '606': 582, '607': 583, '608': 584, '609': 585, '61': 586, '610': 587, '611': 588, '612': 589, '613': 590, '614': 591, '615': 592, '616': 593, '617': 594, '618': 595, '619': 596, '62': 597, '620': 598, '621': 599, '622': 600, '623': 601, '624': 602, '625': 603, '626': 604, '627': 605, '628': 606, '629': 607, '63': 608, '630': 609, '631': 610, '632': 611, '633': 612, '634': 613, '635': 614, '636': 615, '637': 616, '638': 617, '639': 618, '64': 619, '640': 620, '641': 621, '642': 622, '643': 623, '644': 624, '645': 625, '646': 626, '647': 627, '648': 628, '649': 629, '65': 630, '650': 631, '651': 632, '652': 633, '653': 634, '654': 635, '655': 636, '656': 637, '657': 638, '658': 639, '659': 640, '66': 641, '660': 642, '661': 643, '662': 644, '663': 645, '664': 646, '665': 647, '666': 648, '667': 649, '668': 650, '669': 651, '67': 652, '670': 653, '671': 654, '672': 655, '673': 656, '674': 657, '675': 658, '676': 659, '677': 660, '678': 661, '679': 662, '68': 663, '680': 664, '681': 665, '682': 666, '683': 667, '684': 668, '685': 669, '686': 670, '687': 671, '688': 672, '689': 673, '69': 674, '690': 675, '691': 676, '692': 677, '693': 678, '694': 679, '695': 680, '696': 681, '697': 682, '698': 683, '699': 684, '7': 685, '70': 686, '700': 687, '701': 688, '702': 689, '703': 690, '704': 691, '705': 692, '706': 693, '707': 694, '708': 695, '709': 696, '71': 697, '710': 698, '711': 699, '712': 700, '713': 701, '714': 702, '715': 703, '716': 704, '717': 705, '718': 706, '719': 707, '72': 708, '720': 709, '721': 710, '722': 711, '723': 712, '724': 713, '725': 714, '726': 715, '727': 716, '728': 717, '729': 718, '73': 719, '730': 720, '731': 721, '732': 722, '733': 723, '734': 724, '735': 725, '736': 726, '737': 727, '738': 728, '739': 729, '74': 730, '740': 731, '741': 732, '742': 733, '743': 734, '744': 735, '745': 736, '746': 737, '747': 738, '748': 739, '749': 740, '75': 741, '750': 742, '751': 743, '752': 744, '753': 745, '754': 746, '755': 747, '756': 748, '757': 749, '758': 750, '759': 751, '76': 752, '760': 753, '761': 754, '762': 755, '763': 756, '764': 757, '765': 758, '766': 759, '767': 760, '768': 761, '769': 762, '77': 763, '770': 764, '771': 765, '772': 766, '773': 767, '774': 768, '775': 769, '776': 770, '777': 771, '778': 772, '779': 773, '78': 774, '780': 775, '781': 776, '782': 777, '783': 778, '784': 779, '785': 780, '786': 781, '787': 782, '788': 783, '789': 784, '79': 785, '790': 786, '791': 787, '792': 788, '793': 789, '794': 790, '795': 791, '796': 792, '797': 793, '798': 794, '799': 795, '8': 796, '80': 797, '800': 798, '801': 799, '802': 800, '803': 801, '804': 802, '805': 803, '806': 804, '807': 805, '808': 806, '809': 807, '81': 808, '810': 809, '811': 810, '812': 811, '813': 812, '814': 813, '815': 814, '816': 815, '817': 816, '818': 817, '819': 818, '82': 819, '820': 820, '821': 821, '822': 822, '823': 823, '824': 824, '825': 825, '826': 826, '827': 827, '828': 828, '829': 829, '83': 830, '830': 831, '831': 832, '832': 833, '833': 834, '834': 835, '835': 836, '836': 837, '837': 838, '838': 839, '839': 840, '84': 841, '840': 842, '841': 843, '842': 844, '843': 845, '844': 846, '845': 847, '846': 848, '847': 849, '848': 850, '849': 851, '85': 852, '850': 853, '851': 854, '852': 855, '853': 856, '854': 857, '855': 858, '856': 859, '857': 860, '858': 861, '859': 862, '86': 863, '860': 864, '861': 865, '862': 866, '863': 867, '864': 868, '865': 869, '866': 870, '867': 871, '868': 872, '869': 873, '87': 874, '870': 875, '871': 876, '872': 877, '873': 878, '874': 879, '875': 880, '876': 881, '877': 882, '878': 883, '879': 884, '88': 885, '880': 886, '881': 887, '882': 888, '883': 889, '884': 890, '885': 891, '886': 892, '887': 893, '888': 894, '889': 895, '89': 896, '890': 897, '891': 898, '892': 899, '893': 900, '894': 901, '895': 902, '896': 903, '897': 904, '898': 905, '899': 906, '9': 907, '90': 908, '900': 909, '901': 910, '902': 911, '903': 912, '904': 913, '905': 914, '906': 915, '907': 916, '908': 917, '909': 918, '91': 919, '910': 920, '911': 921, '912': 922, '913': 923, '914': 924, '915': 925, '916': 926, '917': 927, '918': 928, '919': 929, '92': 930, '920': 931, '921': 932, '922': 933, '923': 934, '924': 935, '925': 936, '926': 937, '927': 938, '928': 939, '929': 940, '93': 941, '930': 942, '931': 943, '932': 944, '933': 945, '934': 946, '935': 947, '936': 948, '937': 949, '938': 950, '939': 951, '94': 952, '940': 953, '941': 954, '942': 955, '943': 956, '944': 957, '945': 958, '946': 959, '947': 960, '948': 961, '949': 962, '95': 963, '950': 964, '951': 965, '952': 966, '953': 967, '954': 968, '955': 969, '956': 970, '957': 971, '958': 972, '959': 973, '96': 974, '960': 975, '961': 976, '962': 977, '963': 978, '964': 979, '965': 980, '966': 981, '967': 982, '968': 983, '969': 984, '97': 985, '970': 986, '971': 987, '972': 988, '973': 989, '974': 990, '975': 991, '976': 992, '977': 993, '978': 994, '979': 995, '98': 996, '980': 997, '981': 998, '982': 999, '983': 1000, '984': 1001, '985': 1002, '986': 1003, '987': 1004, '988': 1005, '989': 1006, '99': 1007, '990': 1008, '991': 1009, '992': 1010, '993': 1011, '994': 1012, '995': 1013, '996': 1014, '997': 1015, '998': 1016, '999': 1017, 'V1': 1018, 'V10': 1019, 'V100': 1020, 'V101': 1021, 'V102': 1022, 'V103': 1023, 'V104': 1024, 'V105': 1025, 'V106': 1026, 'V107': 1027, 'V108': 1028, 'V109': 1029, 'V11': 1030, 'V110': 1031, 'V111': 1032, 'V112': 1033, 'V113': 1034, 'V114': 1035, 'V115': 1036, 'V116': 1037, 'V117': 1038, 'V118': 1039, 'V119': 1040, 'V12': 1041, 'V120': 1042, 'V121': 1043, 'V122': 1044, 'V123': 1045, 'V124': 1046, 'V125': 1047, 'V126': 1048, 'V127': 1049, 'V128': 1050, 'V129': 1051, 'V13': 1052, 'V130': 1053, 'V131': 1054, 'V132': 1055, 'V133': 1056, 'V134': 1057, 'V135': 1058, 'V136': 1059, 'V137': 1060, 'V138': 1061, 'V139': 1062, 'V14': 1063, 'V140': 1064, 'V141': 1065, 'V142': 1066, 'V143': 1067, 'V144': 1068, 'V145': 1069, 'V146': 1070, 'V147': 1071, 'V148': 1072, 'V149': 1073, 'V15': 1074, 'V150': 1075, 'V151': 1076, 'V152': 1077, 'V153': 1078, 'V154': 1079, 'V155': 1080, 'V156': 1081, 'V157': 1082, 'V158': 1083, 'V159': 1084, 'V16': 1085, 'V160': 1086, 'V161': 1087, 'V162': 1088, 'V163': 1089, 'V164': 1090, 'V165': 1091, 'V166': 1092, 'V167': 1093, 'V168': 1094, 'V169': 1095, 'V17': 1096, 'V170': 1097, 'V171': 1098, 'V172': 1099, 'V173': 1100, 'V174': 1101, 'V175': 1102, 'V176': 1103, 'V177': 1104, 'V178': 1105, 'V179': 1106, 'V18': 1107, 'V180': 1108, 'V181': 1109, 'V182': 1110, 'V183': 1111, 'V184': 1112, 'V185': 1113, 'V186': 1114, 'V187': 1115, 'V188': 1116, 'V189': 1117, 'V19': 1118, 'V190': 1119, 'V191': 1120, 'V192': 1121, 'V193': 1122, 'V194': 1123, 'V195': 1124, 'V196': 1125, 'V197': 1126, 'V198': 1127, 'V199': 1128, 'V2': 1129, 'V20': 1130, 'V200': 1131, 'V21': 1132, 'V22': 1133, 'V23': 1134, 'V24': 1135, 'V25': 1136, 'V26': 1137, 'V27': 1138, 'V28': 1139, 'V29': 1140, 'V3': 1141, 'V30': 1142, 'V31': 1143, 'V32': 1144, 'V33': 1145, 'V34': 1146, 'V35': 1147, 'V36': 1148, 'V37': 1149, 'V38': 1150, 'V39': 1151, 'V4': 1152, 'V40': 1153, 'V41': 1154, 'V42': 1155, 'V43': 1156, 'V44': 1157, 'V45': 1158, 'V46': 1159, 'V47': 1160, 'V48': 1161, 'V49': 1162, 'V5': 1163, 'V50': 1164, 'V51': 1165, 'V52': 1166, 'V53': 1167, 'V54': 1168, 'V55': 1169, 'V56': 1170, 'V57': 1171, 'V58': 1172, 'V59': 1173, 'V6': 1174, 'V60': 1175, 'V61': 1176, 'V62': 1177, 'V63': 1178, 'V64': 1179, 'V65': 1180, 'V66': 1181, 'V67': 1182, 'V68': 1183, 'V69': 1184, 'V7': 1185, 'V70': 1186, 'V71': 1187, 'V72': 1188, 'V73': 1189, 'V74': 1190, 'V75': 1191, 'V76': 1192, 'V77': 1193, 'V78': 1194, 'V79': 1195, 'V8': 1196, 'V80': 1197, 'V81': 1198, 'V82': 1199, 'V83': 1200, 'V84': 1201, 'V85': 1202, 'V86': 1203, 'V87': 1204, 'V88': 1205, 'V89': 1206, 'V9': 1207, 'V90': 1208, 'V91': 1209, 'V92': 1210, 'V93': 1211, 'V94': 1212, 'V95': 1213, 'V96': 1214, 'V97': 1215, 'V98': 1216, 'V99': 1217}\n",
      "INFO - 07/22/25 19:11:42 - 0:00:00 - Training tasks: arithmetic\n",
      "INFO - 07/22/25 19:11:42 - 0:00:00 - Number of parameters (encoder): 4519936\n",
      "INFO - 07/22/25 19:11:42 - 0:00:00 - Number of parameters (decoder): 5575874\n"
     ]
    },
    {
     "name": "stdout",
     "output_type": "stream",
     "text": [
      "INFO - 07/22/25 19:11:42 - 0:00:00 - Found 177 parameters in model.\n"
     ]
    },
    {
     "name": "stdout",
     "output_type": "stream",
     "text": [
      "INFO - 07/22/25 19:11:43 - 0:00:01 - Optimizer: <class 'src.optim.Adam'>\n",
      "WARNING - 07/22/25 19:11:43 - 0:00:01 - Reloading checkpoint from /home/user/fastdir/dump/basic/3/checkpoint.pth ...\n",
      "/home/user/Int2Int/src/trainer.py:303: FutureWarning: You are using `torch.load` with `weights_only=False` (the current default value), which uses the default pickle module implicitly. It is possible to construct malicious pickle data which will execute arbitrary code during unpickling (See https://github.com/pytorch/pytorch/blob/main/SECURITY.md#untrusted-models for more details). In a future release, the default value for `weights_only` will be flipped to `True`. This limits the functions that could be executed during unpickling. Arbitrary objects will no longer be allowed to be loaded via this mode unless they are explicitly allowlisted by the user via `torch.serialization.add_safe_globals`. We recommend you start setting `weights_only=True` for any use case where you don't have full control of the loaded file. Please open an issue on GitHub for any issues related to this experimental feature.\n",
      "  data = torch.load(checkpoint_path, map_location=\"cpu\")\n",
      "WARNING - 07/22/25 19:11:44 - 0:00:02 - Reloading checkpoint optimizer ...\n",
      "WARNING - 07/22/25 19:11:44 - 0:00:02 - Checkpoint reloaded. Resuming at epoch 295 / iteration 184375 ...\n",
      "INFO - 07/22/25 19:11:44 - 0:00:02 - Creating valid iterator for arithmetic ...\n",
      "INFO - 07/22/25 19:11:44 - 0:00:02 - Loading data from /home/user/fastdir/data/mu_only23_correct.txt ...\n"
     ]
    },
    {
     "name": "stdout",
     "output_type": "stream",
     "text": [
      "INFO - 07/22/25 19:11:44 - 0:00:02 - Loaded 100000 equations from the disk.\n",
      "SLURM job: False\n",
      "0 - Number of nodes: 1\n",
      "0 - Node ID        : 0\n",
      "0 - Local rank     : 0\n",
      "0 - Global rank    : 0\n",
      "0 - World size     : 1\n",
      "0 - GPUs per node  : 1\n",
      "0 - Master         : True\n",
      "0 - Multi-node     : False\n",
      "0 - Multi-GPU      : False\n",
      "0 - Hostname       : compute-server-1\n"
     ]
    },
    {
     "name": "stdout",
     "output_type": "stream",
     "text": [
      "INFO - 07/22/25 19:11:45 - 0:00:03 - (128/20000) Found 70/128 valid top-1 predictions. Generating solutions ...\n",
      "INFO - 07/22/25 19:11:45 - 0:00:03 -     Found 70/128 solutions in beam hypotheses.\n"
     ]
    },
    {
     "name": "stdout",
     "output_type": "stream",
     "text": [
      "INFO - 07/22/25 19:11:45 - 0:00:03 - (256/20000) Found 69/128 valid top-1 predictions. Generating solutions ...\n",
      "INFO - 07/22/25 19:11:45 - 0:00:03 -     Found 69/128 solutions in beam hypotheses.\n"
     ]
    },
    {
     "name": "stdout",
     "output_type": "stream",
     "text": [
      "INFO - 07/22/25 19:11:45 - 0:00:03 - (384/20000) Found 55/128 valid top-1 predictions. Generating solutions ...\n",
      "INFO - 07/22/25 19:11:45 - 0:00:03 -     Found 55/128 solutions in beam hypotheses.\n"
     ]
    },
    {
     "name": "stdout",
     "output_type": "stream",
     "text": [
      "INFO - 07/22/25 19:11:46 - 0:00:04 - (512/20000) Found 68/128 valid top-1 predictions. Generating solutions ...\n",
      "INFO - 07/22/25 19:11:46 - 0:00:04 -     Found 68/128 solutions in beam hypotheses.\n"
     ]
    },
    {
     "name": "stdout",
     "output_type": "stream",
     "text": [
      "INFO - 07/22/25 19:11:46 - 0:00:04 - (640/20000) Found 69/128 valid top-1 predictions. Generating solutions ...\n",
      "INFO - 07/22/25 19:11:46 - 0:00:04 -     Found 69/128 solutions in beam hypotheses.\n"
     ]
    },
    {
     "name": "stdout",
     "output_type": "stream",
     "text": [
      "INFO - 07/22/25 19:11:46 - 0:00:04 - (768/20000) Found 63/128 valid top-1 predictions. Generating solutions ...\n",
      "INFO - 07/22/25 19:11:46 - 0:00:04 -     Found 63/128 solutions in beam hypotheses.\n"
     ]
    },
    {
     "name": "stdout",
     "output_type": "stream",
     "text": [
      "INFO - 07/22/25 19:11:46 - 0:00:04 - (896/20000) Found 65/128 valid top-1 predictions. Generating solutions ...\n",
      "INFO - 07/22/25 19:11:46 - 0:00:04 -     Found 65/128 solutions in beam hypotheses.\n"
     ]
    },
    {
     "name": "stdout",
     "output_type": "stream",
     "text": [
      "INFO - 07/22/25 19:11:47 - 0:00:05 - (1024/20000) Found 70/128 valid top-1 predictions. Generating solutions ...\n",
      "INFO - 07/22/25 19:11:47 - 0:00:05 -     Found 70/128 solutions in beam hypotheses.\n"
     ]
    },
    {
     "name": "stdout",
     "output_type": "stream",
     "text": [
      "INFO - 07/22/25 19:11:47 - 0:00:05 - (1152/20000) Found 63/128 valid top-1 predictions. Generating solutions ...\n",
      "INFO - 07/22/25 19:11:47 - 0:00:05 -     Found 63/128 solutions in beam hypotheses.\n"
     ]
    },
    {
     "name": "stdout",
     "output_type": "stream",
     "text": [
      "INFO - 07/22/25 19:11:47 - 0:00:05 - (1280/20000) Found 68/128 valid top-1 predictions. Generating solutions ...\n",
      "INFO - 07/22/25 19:11:47 - 0:00:05 -     Found 68/128 solutions in beam hypotheses.\n"
     ]
    },
    {
     "name": "stdout",
     "output_type": "stream",
     "text": [
      "INFO - 07/22/25 19:11:47 - 0:00:05 - (1408/20000) Found 68/128 valid top-1 predictions. Generating solutions ...\n",
      "INFO - 07/22/25 19:11:48 - 0:00:06 -     Found 68/128 solutions in beam hypotheses.\n"
     ]
    },
    {
     "name": "stdout",
     "output_type": "stream",
     "text": [
      "INFO - 07/22/25 19:11:48 - 0:00:06 - (1536/20000) Found 63/128 valid top-1 predictions. Generating solutions ...\n",
      "INFO - 07/22/25 19:11:48 - 0:00:06 -     Found 63/128 solutions in beam hypotheses.\n"
     ]
    },
    {
     "name": "stdout",
     "output_type": "stream",
     "text": [
      "INFO - 07/22/25 19:11:48 - 0:00:06 - (1664/20000) Found 67/128 valid top-1 predictions. Generating solutions ...\n",
      "INFO - 07/22/25 19:11:48 - 0:00:06 -     Found 67/128 solutions in beam hypotheses.\n"
     ]
    },
    {
     "name": "stdout",
     "output_type": "stream",
     "text": [
      "INFO - 07/22/25 19:11:48 - 0:00:06 - (1792/20000) Found 69/128 valid top-1 predictions. Generating solutions ...\n",
      "INFO - 07/22/25 19:11:48 - 0:00:06 -     Found 69/128 solutions in beam hypotheses.\n"
     ]
    },
    {
     "name": "stdout",
     "output_type": "stream",
     "text": [
      "INFO - 07/22/25 19:11:49 - 0:00:07 - (1920/20000) Found 68/128 valid top-1 predictions. Generating solutions ...\n",
      "INFO - 07/22/25 19:11:49 - 0:00:07 -     Found 68/128 solutions in beam hypotheses.\n"
     ]
    },
    {
     "name": "stdout",
     "output_type": "stream",
     "text": [
      "INFO - 07/22/25 19:11:49 - 0:00:07 - (2048/20000) Found 69/128 valid top-1 predictions. Generating solutions ...\n",
      "INFO - 07/22/25 19:11:49 - 0:00:07 -     Found 69/128 solutions in beam hypotheses.\n"
     ]
    },
    {
     "name": "stdout",
     "output_type": "stream",
     "text": [
      "INFO - 07/22/25 19:11:49 - 0:00:07 - (2176/20000) Found 66/128 valid top-1 predictions. Generating solutions ...\n",
      "INFO - 07/22/25 19:11:49 - 0:00:07 -     Found 66/128 solutions in beam hypotheses.\n"
     ]
    },
    {
     "name": "stdout",
     "output_type": "stream",
     "text": [
      "INFO - 07/22/25 19:11:49 - 0:00:07 - (2304/20000) Found 69/128 valid top-1 predictions. Generating solutions ...\n",
      "INFO - 07/22/25 19:11:49 - 0:00:07 -     Found 69/128 solutions in beam hypotheses.\n"
     ]
    },
    {
     "name": "stdout",
     "output_type": "stream",
     "text": [
      "INFO - 07/22/25 19:11:50 - 0:00:08 - (2432/20000) Found 63/128 valid top-1 predictions. Generating solutions ...\n",
      "INFO - 07/22/25 19:11:50 - 0:00:08 -     Found 63/128 solutions in beam hypotheses.\n"
     ]
    },
    {
     "name": "stdout",
     "output_type": "stream",
     "text": [
      "INFO - 07/22/25 19:11:50 - 0:00:08 - (2560/20000) Found 58/128 valid top-1 predictions. Generating solutions ...\n",
      "INFO - 07/22/25 19:11:50 - 0:00:08 -     Found 58/128 solutions in beam hypotheses.\n"
     ]
    },
    {
     "name": "stdout",
     "output_type": "stream",
     "text": [
      "INFO - 07/22/25 19:11:50 - 0:00:08 - (2688/20000) Found 62/128 valid top-1 predictions. Generating solutions ...\n",
      "INFO - 07/22/25 19:11:50 - 0:00:08 -     Found 62/128 solutions in beam hypotheses.\n"
     ]
    },
    {
     "name": "stdout",
     "output_type": "stream",
     "text": [
      "INFO - 07/22/25 19:11:51 - 0:00:08 - (2816/20000) Found 64/128 valid top-1 predictions. Generating solutions ...\n",
      "INFO - 07/22/25 19:11:51 - 0:00:09 -     Found 64/128 solutions in beam hypotheses.\n"
     ]
    },
    {
     "name": "stdout",
     "output_type": "stream",
     "text": [
      "INFO - 07/22/25 19:11:51 - 0:00:09 - (2944/20000) Found 58/128 valid top-1 predictions. Generating solutions ...\n",
      "INFO - 07/22/25 19:11:51 - 0:00:09 -     Found 58/128 solutions in beam hypotheses.\n"
     ]
    },
    {
     "name": "stdout",
     "output_type": "stream",
     "text": [
      "INFO - 07/22/25 19:11:51 - 0:00:09 - (3072/20000) Found 69/128 valid top-1 predictions. Generating solutions ...\n",
      "INFO - 07/22/25 19:11:51 - 0:00:09 -     Found 69/128 solutions in beam hypotheses.\n"
     ]
    },
    {
     "name": "stdout",
     "output_type": "stream",
     "text": [
      "INFO - 07/22/25 19:11:51 - 0:00:09 - (3200/20000) Found 68/128 valid top-1 predictions. Generating solutions ...\n",
      "INFO - 07/22/25 19:11:51 - 0:00:09 -     Found 68/128 solutions in beam hypotheses.\n"
     ]
    },
    {
     "name": "stdout",
     "output_type": "stream",
     "text": [
      "INFO - 07/22/25 19:11:52 - 0:00:10 - (3328/20000) Found 68/128 valid top-1 predictions. Generating solutions ...\n",
      "INFO - 07/22/25 19:11:52 - 0:00:10 -     Found 68/128 solutions in beam hypotheses.\n"
     ]
    },
    {
     "name": "stdout",
     "output_type": "stream",
     "text": [
      "INFO - 07/22/25 19:11:52 - 0:00:10 - (3456/20000) Found 67/128 valid top-1 predictions. Generating solutions ...\n",
      "INFO - 07/22/25 19:11:52 - 0:00:10 -     Found 67/128 solutions in beam hypotheses.\n"
     ]
    },
    {
     "name": "stdout",
     "output_type": "stream",
     "text": [
      "INFO - 07/22/25 19:11:52 - 0:00:10 - (3584/20000) Found 71/128 valid top-1 predictions. Generating solutions ...\n",
      "INFO - 07/22/25 19:11:52 - 0:00:10 -     Found 71/128 solutions in beam hypotheses.\n"
     ]
    },
    {
     "name": "stdout",
     "output_type": "stream",
     "text": [
      "INFO - 07/22/25 19:11:52 - 0:00:10 - (3712/20000) Found 55/128 valid top-1 predictions. Generating solutions ...\n",
      "INFO - 07/22/25 19:11:52 - 0:00:10 -     Found 55/128 solutions in beam hypotheses.\n"
     ]
    },
    {
     "name": "stdout",
     "output_type": "stream",
     "text": [
      "INFO - 07/22/25 19:11:53 - 0:00:11 - (3840/20000) Found 73/128 valid top-1 predictions. Generating solutions ...\n",
      "INFO - 07/22/25 19:11:53 - 0:00:11 -     Found 73/128 solutions in beam hypotheses.\n"
     ]
    },
    {
     "name": "stdout",
     "output_type": "stream",
     "text": [
      "INFO - 07/22/25 19:11:53 - 0:00:11 - (3968/20000) Found 66/128 valid top-1 predictions. Generating solutions ...\n",
      "INFO - 07/22/25 19:11:53 - 0:00:11 -     Found 66/128 solutions in beam hypotheses.\n"
     ]
    },
    {
     "name": "stdout",
     "output_type": "stream",
     "text": [
      "INFO - 07/22/25 19:11:53 - 0:00:11 - (4096/20000) Found 66/128 valid top-1 predictions. Generating solutions ...\n",
      "INFO - 07/22/25 19:11:53 - 0:00:11 -     Found 66/128 solutions in beam hypotheses.\n"
     ]
    },
    {
     "name": "stdout",
     "output_type": "stream",
     "text": [
      "INFO - 07/22/25 19:11:54 - 0:00:12 - (4224/20000) Found 61/128 valid top-1 predictions. Generating solutions ...\n",
      "INFO - 07/22/25 19:11:54 - 0:00:12 -     Found 61/128 solutions in beam hypotheses.\n"
     ]
    },
    {
     "name": "stdout",
     "output_type": "stream",
     "text": [
      "INFO - 07/22/25 19:11:54 - 0:00:12 - (4352/20000) Found 60/128 valid top-1 predictions. Generating solutions ...\n",
      "INFO - 07/22/25 19:11:54 - 0:00:12 -     Found 60/128 solutions in beam hypotheses.\n"
     ]
    },
    {
     "name": "stdout",
     "output_type": "stream",
     "text": [
      "INFO - 07/22/25 19:11:54 - 0:00:12 - (4480/20000) Found 65/128 valid top-1 predictions. Generating solutions ...\n",
      "INFO - 07/22/25 19:11:54 - 0:00:12 -     Found 65/128 solutions in beam hypotheses.\n"
     ]
    },
    {
     "name": "stdout",
     "output_type": "stream",
     "text": [
      "INFO - 07/22/25 19:11:54 - 0:00:12 - (4608/20000) Found 63/128 valid top-1 predictions. Generating solutions ...\n",
      "INFO - 07/22/25 19:11:54 - 0:00:12 -     Found 63/128 solutions in beam hypotheses.\n"
     ]
    },
    {
     "name": "stdout",
     "output_type": "stream",
     "text": [
      "INFO - 07/22/25 19:11:55 - 0:00:13 - (4736/20000) Found 61/128 valid top-1 predictions. Generating solutions ...\n",
      "INFO - 07/22/25 19:11:55 - 0:00:13 -     Found 61/128 solutions in beam hypotheses.\n"
     ]
    },
    {
     "name": "stdout",
     "output_type": "stream",
     "text": [
      "INFO - 07/22/25 19:11:55 - 0:00:13 - (4864/20000) Found 59/128 valid top-1 predictions. Generating solutions ...\n",
      "INFO - 07/22/25 19:11:55 - 0:00:13 -     Found 59/128 solutions in beam hypotheses.\n"
     ]
    },
    {
     "name": "stdout",
     "output_type": "stream",
     "text": [
      "INFO - 07/22/25 19:11:55 - 0:00:13 - (4992/20000) Found 61/128 valid top-1 predictions. Generating solutions ...\n",
      "INFO - 07/22/25 19:11:55 - 0:00:13 -     Found 61/128 solutions in beam hypotheses.\n"
     ]
    },
    {
     "name": "stdout",
     "output_type": "stream",
     "text": [
      "INFO - 07/22/25 19:11:55 - 0:00:13 - (5120/20000) Found 59/128 valid top-1 predictions. Generating solutions ...\n",
      "INFO - 07/22/25 19:11:55 - 0:00:13 -     Found 59/128 solutions in beam hypotheses.\n"
     ]
    },
    {
     "name": "stdout",
     "output_type": "stream",
     "text": [
      "INFO - 07/22/25 19:11:56 - 0:00:14 - (5248/20000) Found 58/128 valid top-1 predictions. Generating solutions ...\n",
      "INFO - 07/22/25 19:11:56 - 0:00:14 -     Found 58/128 solutions in beam hypotheses.\n"
     ]
    },
    {
     "name": "stdout",
     "output_type": "stream",
     "text": [
      "INFO - 07/22/25 19:11:56 - 0:00:14 - (5376/20000) Found 63/128 valid top-1 predictions. Generating solutions ...\n",
      "INFO - 07/22/25 19:11:56 - 0:00:14 -     Found 63/128 solutions in beam hypotheses.\n"
     ]
    },
    {
     "name": "stdout",
     "output_type": "stream",
     "text": [
      "INFO - 07/22/25 19:11:56 - 0:00:14 - (5504/20000) Found 65/128 valid top-1 predictions. Generating solutions ...\n",
      "INFO - 07/22/25 19:11:56 - 0:00:14 -     Found 65/128 solutions in beam hypotheses.\n"
     ]
    },
    {
     "name": "stdout",
     "output_type": "stream",
     "text": [
      "INFO - 07/22/25 19:11:57 - 0:00:15 - (5632/20000) Found 66/128 valid top-1 predictions. Generating solutions ...\n",
      "INFO - 07/22/25 19:11:57 - 0:00:15 -     Found 66/128 solutions in beam hypotheses.\n"
     ]
    },
    {
     "name": "stdout",
     "output_type": "stream",
     "text": [
      "INFO - 07/22/25 19:11:57 - 0:00:15 - (5760/20000) Found 64/128 valid top-1 predictions. Generating solutions ...\n",
      "INFO - 07/22/25 19:11:57 - 0:00:15 -     Found 64/128 solutions in beam hypotheses.\n"
     ]
    },
    {
     "name": "stdout",
     "output_type": "stream",
     "text": [
      "INFO - 07/22/25 19:11:57 - 0:00:15 - (5888/20000) Found 56/128 valid top-1 predictions. Generating solutions ...\n",
      "INFO - 07/22/25 19:11:57 - 0:00:15 -     Found 56/128 solutions in beam hypotheses.\n"
     ]
    },
    {
     "name": "stdout",
     "output_type": "stream",
     "text": [
      "INFO - 07/22/25 19:11:57 - 0:00:15 - (6016/20000) Found 71/128 valid top-1 predictions. Generating solutions ...\n",
      "INFO - 07/22/25 19:11:57 - 0:00:15 -     Found 71/128 solutions in beam hypotheses.\n"
     ]
    },
    {
     "name": "stdout",
     "output_type": "stream",
     "text": [
      "INFO - 07/22/25 19:11:58 - 0:00:16 - (6144/20000) Found 65/128 valid top-1 predictions. Generating solutions ...\n",
      "INFO - 07/22/25 19:11:58 - 0:00:16 -     Found 65/128 solutions in beam hypotheses.\n"
     ]
    },
    {
     "name": "stdout",
     "output_type": "stream",
     "text": [
      "INFO - 07/22/25 19:11:58 - 0:00:16 - (6272/20000) Found 58/128 valid top-1 predictions. Generating solutions ...\n",
      "INFO - 07/22/25 19:11:58 - 0:00:16 -     Found 58/128 solutions in beam hypotheses.\n"
     ]
    },
    {
     "name": "stdout",
     "output_type": "stream",
     "text": [
      "INFO - 07/22/25 19:11:58 - 0:00:16 - (6400/20000) Found 66/128 valid top-1 predictions. Generating solutions ...\n",
      "INFO - 07/22/25 19:11:58 - 0:00:16 -     Found 66/128 solutions in beam hypotheses.\n"
     ]
    },
    {
     "name": "stdout",
     "output_type": "stream",
     "text": [
      "INFO - 07/22/25 19:11:58 - 0:00:16 - (6528/20000) Found 68/128 valid top-1 predictions. Generating solutions ...\n",
      "INFO - 07/22/25 19:11:59 - 0:00:17 -     Found 68/128 solutions in beam hypotheses.\n"
     ]
    },
    {
     "name": "stdout",
     "output_type": "stream",
     "text": [
      "INFO - 07/22/25 19:11:59 - 0:00:17 - (6656/20000) Found 68/128 valid top-1 predictions. Generating solutions ...\n",
      "INFO - 07/22/25 19:11:59 - 0:00:17 -     Found 68/128 solutions in beam hypotheses.\n"
     ]
    },
    {
     "name": "stdout",
     "output_type": "stream",
     "text": [
      "INFO - 07/22/25 19:11:59 - 0:00:17 - (6784/20000) Found 70/128 valid top-1 predictions. Generating solutions ...\n",
      "INFO - 07/22/25 19:11:59 - 0:00:17 -     Found 70/128 solutions in beam hypotheses.\n"
     ]
    },
    {
     "name": "stdout",
     "output_type": "stream",
     "text": [
      "INFO - 07/22/25 19:11:59 - 0:00:17 - (6912/20000) Found 59/128 valid top-1 predictions. Generating solutions ...\n",
      "INFO - 07/22/25 19:11:59 - 0:00:17 -     Found 59/128 solutions in beam hypotheses.\n"
     ]
    },
    {
     "name": "stdout",
     "output_type": "stream",
     "text": [
      "INFO - 07/22/25 19:12:00 - 0:00:18 - (7040/20000) Found 63/128 valid top-1 predictions. Generating solutions ...\n",
      "INFO - 07/22/25 19:12:00 - 0:00:18 -     Found 63/128 solutions in beam hypotheses.\n"
     ]
    },
    {
     "name": "stdout",
     "output_type": "stream",
     "text": [
      "INFO - 07/22/25 19:12:00 - 0:00:18 - (7168/20000) Found 62/128 valid top-1 predictions. Generating solutions ...\n",
      "INFO - 07/22/25 19:12:00 - 0:00:18 -     Found 62/128 solutions in beam hypotheses.\n"
     ]
    },
    {
     "name": "stdout",
     "output_type": "stream",
     "text": [
      "INFO - 07/22/25 19:12:00 - 0:00:18 - (7296/20000) Found 74/128 valid top-1 predictions. Generating solutions ...\n",
      "INFO - 07/22/25 19:12:00 - 0:00:18 -     Found 74/128 solutions in beam hypotheses.\n"
     ]
    },
    {
     "name": "stdout",
     "output_type": "stream",
     "text": [
      "INFO - 07/22/25 19:12:00 - 0:00:18 - (7424/20000) Found 76/128 valid top-1 predictions. Generating solutions ...\n",
      "INFO - 07/22/25 19:12:00 - 0:00:18 -     Found 76/128 solutions in beam hypotheses.\n"
     ]
    },
    {
     "name": "stdout",
     "output_type": "stream",
     "text": [
      "INFO - 07/22/25 19:12:01 - 0:00:19 - (7552/20000) Found 60/128 valid top-1 predictions. Generating solutions ...\n",
      "INFO - 07/22/25 19:12:01 - 0:00:19 -     Found 60/128 solutions in beam hypotheses.\n"
     ]
    },
    {
     "name": "stdout",
     "output_type": "stream",
     "text": [
      "INFO - 07/22/25 19:12:01 - 0:00:19 - (7680/20000) Found 65/128 valid top-1 predictions. Generating solutions ...\n",
      "INFO - 07/22/25 19:12:01 - 0:00:19 -     Found 65/128 solutions in beam hypotheses.\n"
     ]
    },
    {
     "name": "stdout",
     "output_type": "stream",
     "text": [
      "INFO - 07/22/25 19:12:01 - 0:00:19 - (7808/20000) Found 73/128 valid top-1 predictions. Generating solutions ...\n",
      "INFO - 07/22/25 19:12:01 - 0:00:19 -     Found 73/128 solutions in beam hypotheses.\n"
     ]
    },
    {
     "name": "stdout",
     "output_type": "stream",
     "text": [
      "INFO - 07/22/25 19:12:02 - 0:00:20 - (7936/20000) Found 57/128 valid top-1 predictions. Generating solutions ...\n",
      "INFO - 07/22/25 19:12:02 - 0:00:20 -     Found 57/128 solutions in beam hypotheses.\n"
     ]
    },
    {
     "name": "stdout",
     "output_type": "stream",
     "text": [
      "INFO - 07/22/25 19:12:02 - 0:00:20 - (8064/20000) Found 60/128 valid top-1 predictions. Generating solutions ...\n",
      "INFO - 07/22/25 19:12:02 - 0:00:20 -     Found 60/128 solutions in beam hypotheses.\n"
     ]
    },
    {
     "name": "stdout",
     "output_type": "stream",
     "text": [
      "INFO - 07/22/25 19:12:02 - 0:00:20 - (8192/20000) Found 67/128 valid top-1 predictions. Generating solutions ...\n",
      "INFO - 07/22/25 19:12:02 - 0:00:20 -     Found 67/128 solutions in beam hypotheses.\n"
     ]
    },
    {
     "name": "stdout",
     "output_type": "stream",
     "text": [
      "INFO - 07/22/25 19:12:02 - 0:00:20 - (8320/20000) Found 59/128 valid top-1 predictions. Generating solutions ...\n",
      "INFO - 07/22/25 19:12:02 - 0:00:20 -     Found 59/128 solutions in beam hypotheses.\n"
     ]
    },
    {
     "name": "stdout",
     "output_type": "stream",
     "text": [
      "INFO - 07/22/25 19:12:03 - 0:00:21 - (8448/20000) Found 74/128 valid top-1 predictions. Generating solutions ...\n",
      "INFO - 07/22/25 19:12:03 - 0:00:21 -     Found 74/128 solutions in beam hypotheses.\n"
     ]
    },
    {
     "name": "stdout",
     "output_type": "stream",
     "text": [
      "INFO - 07/22/25 19:12:03 - 0:00:21 - (8576/20000) Found 66/128 valid top-1 predictions. Generating solutions ...\n",
      "INFO - 07/22/25 19:12:03 - 0:00:21 -     Found 66/128 solutions in beam hypotheses.\n"
     ]
    },
    {
     "name": "stdout",
     "output_type": "stream",
     "text": [
      "INFO - 07/22/25 19:12:03 - 0:00:21 - (8704/20000) Found 61/128 valid top-1 predictions. Generating solutions ...\n",
      "INFO - 07/22/25 19:12:03 - 0:00:21 -     Found 61/128 solutions in beam hypotheses.\n"
     ]
    },
    {
     "name": "stdout",
     "output_type": "stream",
     "text": [
      "INFO - 07/22/25 19:12:03 - 0:00:21 - (8832/20000) Found 73/128 valid top-1 predictions. Generating solutions ...\n",
      "INFO - 07/22/25 19:12:04 - 0:00:21 -     Found 73/128 solutions in beam hypotheses.\n"
     ]
    },
    {
     "name": "stdout",
     "output_type": "stream",
     "text": [
      "INFO - 07/22/25 19:12:04 - 0:00:22 - (8960/20000) Found 63/128 valid top-1 predictions. Generating solutions ...\n",
      "INFO - 07/22/25 19:12:04 - 0:00:22 -     Found 63/128 solutions in beam hypotheses.\n"
     ]
    },
    {
     "name": "stdout",
     "output_type": "stream",
     "text": [
      "INFO - 07/22/25 19:12:04 - 0:00:22 - (9088/20000) Found 57/128 valid top-1 predictions. Generating solutions ...\n",
      "INFO - 07/22/25 19:12:04 - 0:00:22 -     Found 57/128 solutions in beam hypotheses.\n"
     ]
    },
    {
     "name": "stdout",
     "output_type": "stream",
     "text": [
      "INFO - 07/22/25 19:12:04 - 0:00:22 - (9216/20000) Found 61/128 valid top-1 predictions. Generating solutions ...\n",
      "INFO - 07/22/25 19:12:04 - 0:00:22 -     Found 61/128 solutions in beam hypotheses.\n"
     ]
    },
    {
     "name": "stdout",
     "output_type": "stream",
     "text": [
      "INFO - 07/22/25 19:12:05 - 0:00:23 - (9344/20000) Found 56/128 valid top-1 predictions. Generating solutions ...\n",
      "INFO - 07/22/25 19:12:05 - 0:00:23 -     Found 56/128 solutions in beam hypotheses.\n"
     ]
    },
    {
     "name": "stdout",
     "output_type": "stream",
     "text": [
      "INFO - 07/22/25 19:12:05 - 0:00:23 - (9472/20000) Found 75/128 valid top-1 predictions. Generating solutions ...\n",
      "INFO - 07/22/25 19:12:05 - 0:00:23 -     Found 75/128 solutions in beam hypotheses.\n"
     ]
    },
    {
     "name": "stdout",
     "output_type": "stream",
     "text": [
      "INFO - 07/22/25 19:12:05 - 0:00:23 - (9600/20000) Found 55/128 valid top-1 predictions. Generating solutions ...\n",
      "INFO - 07/22/25 19:12:05 - 0:00:23 -     Found 55/128 solutions in beam hypotheses.\n"
     ]
    },
    {
     "name": "stdout",
     "output_type": "stream",
     "text": [
      "INFO - 07/22/25 19:12:05 - 0:00:23 - (9728/20000) Found 60/128 valid top-1 predictions. Generating solutions ...\n",
      "INFO - 07/22/25 19:12:05 - 0:00:23 -     Found 60/128 solutions in beam hypotheses.\n"
     ]
    },
    {
     "name": "stdout",
     "output_type": "stream",
     "text": [
      "INFO - 07/22/25 19:12:06 - 0:00:24 - (9856/20000) Found 69/128 valid top-1 predictions. Generating solutions ...\n",
      "INFO - 07/22/25 19:12:06 - 0:00:24 -     Found 69/128 solutions in beam hypotheses.\n"
     ]
    },
    {
     "name": "stdout",
     "output_type": "stream",
     "text": [
      "INFO - 07/22/25 19:12:06 - 0:00:24 - (9984/20000) Found 63/128 valid top-1 predictions. Generating solutions ...\n",
      "INFO - 07/22/25 19:12:06 - 0:00:24 -     Found 63/128 solutions in beam hypotheses.\n"
     ]
    },
    {
     "name": "stdout",
     "output_type": "stream",
     "text": [
      "INFO - 07/22/25 19:12:06 - 0:00:24 - (10112/20000) Found 68/128 valid top-1 predictions. Generating solutions ...\n",
      "INFO - 07/22/25 19:12:06 - 0:00:24 -     Found 68/128 solutions in beam hypotheses.\n"
     ]
    },
    {
     "name": "stdout",
     "output_type": "stream",
     "text": [
      "INFO - 07/22/25 19:12:06 - 0:00:24 - (10240/20000) Found 71/128 valid top-1 predictions. Generating solutions ...\n",
      "INFO - 07/22/25 19:12:07 - 0:00:25 -     Found 71/128 solutions in beam hypotheses.\n"
     ]
    },
    {
     "name": "stdout",
     "output_type": "stream",
     "text": [
      "INFO - 07/22/25 19:12:07 - 0:00:25 - (10368/20000) Found 64/128 valid top-1 predictions. Generating solutions ...\n",
      "INFO - 07/22/25 19:12:07 - 0:00:25 -     Found 64/128 solutions in beam hypotheses.\n"
     ]
    },
    {
     "name": "stdout",
     "output_type": "stream",
     "text": [
      "INFO - 07/22/25 19:12:07 - 0:00:25 - (10496/20000) Found 69/128 valid top-1 predictions. Generating solutions ...\n",
      "INFO - 07/22/25 19:12:07 - 0:00:25 -     Found 69/128 solutions in beam hypotheses.\n"
     ]
    },
    {
     "name": "stdout",
     "output_type": "stream",
     "text": [
      "INFO - 07/22/25 19:12:07 - 0:00:25 - (10624/20000) Found 74/128 valid top-1 predictions. Generating solutions ...\n",
      "INFO - 07/22/25 19:12:07 - 0:00:25 -     Found 74/128 solutions in beam hypotheses.\n"
     ]
    },
    {
     "name": "stdout",
     "output_type": "stream",
     "text": [
      "INFO - 07/22/25 19:12:08 - 0:00:26 - (10752/20000) Found 62/128 valid top-1 predictions. Generating solutions ...\n",
      "INFO - 07/22/25 19:12:08 - 0:00:26 -     Found 62/128 solutions in beam hypotheses.\n"
     ]
    },
    {
     "name": "stdout",
     "output_type": "stream",
     "text": [
      "INFO - 07/22/25 19:12:08 - 0:00:26 - (10880/20000) Found 64/128 valid top-1 predictions. Generating solutions ...\n",
      "INFO - 07/22/25 19:12:08 - 0:00:26 -     Found 64/128 solutions in beam hypotheses.\n"
     ]
    },
    {
     "name": "stdout",
     "output_type": "stream",
     "text": [
      "INFO - 07/22/25 19:12:08 - 0:00:26 - (11008/20000) Found 65/128 valid top-1 predictions. Generating solutions ...\n",
      "INFO - 07/22/25 19:12:08 - 0:00:26 -     Found 65/128 solutions in beam hypotheses.\n"
     ]
    },
    {
     "name": "stdout",
     "output_type": "stream",
     "text": [
      "INFO - 07/22/25 19:12:08 - 0:00:26 - (11136/20000) Found 65/128 valid top-1 predictions. Generating solutions ...\n",
      "INFO - 07/22/25 19:12:08 - 0:00:26 -     Found 65/128 solutions in beam hypotheses.\n"
     ]
    },
    {
     "name": "stdout",
     "output_type": "stream",
     "text": [
      "INFO - 07/22/25 19:12:09 - 0:00:27 - (11264/20000) Found 65/128 valid top-1 predictions. Generating solutions ...\n",
      "INFO - 07/22/25 19:12:09 - 0:00:27 -     Found 65/128 solutions in beam hypotheses.\n"
     ]
    },
    {
     "name": "stdout",
     "output_type": "stream",
     "text": [
      "INFO - 07/22/25 19:12:09 - 0:00:27 - (11392/20000) Found 75/128 valid top-1 predictions. Generating solutions ...\n",
      "INFO - 07/22/25 19:12:09 - 0:00:27 -     Found 75/128 solutions in beam hypotheses.\n"
     ]
    },
    {
     "name": "stdout",
     "output_type": "stream",
     "text": [
      "INFO - 07/22/25 19:12:09 - 0:00:27 - (11520/20000) Found 65/128 valid top-1 predictions. Generating solutions ...\n",
      "INFO - 07/22/25 19:12:09 - 0:00:27 -     Found 65/128 solutions in beam hypotheses.\n"
     ]
    },
    {
     "name": "stdout",
     "output_type": "stream",
     "text": [
      "INFO - 07/22/25 19:12:10 - 0:00:28 - (11648/20000) Found 70/128 valid top-1 predictions. Generating solutions ...\n",
      "INFO - 07/22/25 19:12:10 - 0:00:28 -     Found 70/128 solutions in beam hypotheses.\n"
     ]
    },
    {
     "name": "stdout",
     "output_type": "stream",
     "text": [
      "INFO - 07/22/25 19:12:10 - 0:00:28 - (11776/20000) Found 65/128 valid top-1 predictions. Generating solutions ...\n",
      "INFO - 07/22/25 19:12:10 - 0:00:28 -     Found 65/128 solutions in beam hypotheses.\n"
     ]
    },
    {
     "name": "stdout",
     "output_type": "stream",
     "text": [
      "INFO - 07/22/25 19:12:10 - 0:00:28 - (11904/20000) Found 66/128 valid top-1 predictions. Generating solutions ...\n",
      "INFO - 07/22/25 19:12:10 - 0:00:28 -     Found 66/128 solutions in beam hypotheses.\n"
     ]
    },
    {
     "name": "stdout",
     "output_type": "stream",
     "text": [
      "INFO - 07/22/25 19:12:10 - 0:00:28 - (12032/20000) Found 69/128 valid top-1 predictions. Generating solutions ...\n",
      "INFO - 07/22/25 19:12:10 - 0:00:28 -     Found 69/128 solutions in beam hypotheses.\n"
     ]
    },
    {
     "name": "stdout",
     "output_type": "stream",
     "text": [
      "INFO - 07/22/25 19:12:11 - 0:00:29 - (12160/20000) Found 67/128 valid top-1 predictions. Generating solutions ...\n",
      "INFO - 07/22/25 19:12:11 - 0:00:29 -     Found 67/128 solutions in beam hypotheses.\n"
     ]
    },
    {
     "name": "stdout",
     "output_type": "stream",
     "text": [
      "INFO - 07/22/25 19:12:11 - 0:00:29 - (12288/20000) Found 56/128 valid top-1 predictions. Generating solutions ...\n",
      "INFO - 07/22/25 19:12:11 - 0:00:29 -     Found 56/128 solutions in beam hypotheses.\n"
     ]
    },
    {
     "name": "stdout",
     "output_type": "stream",
     "text": [
      "INFO - 07/22/25 19:12:11 - 0:00:29 - (12416/20000) Found 67/128 valid top-1 predictions. Generating solutions ...\n",
      "INFO - 07/22/25 19:12:11 - 0:00:29 -     Found 67/128 solutions in beam hypotheses.\n"
     ]
    },
    {
     "name": "stdout",
     "output_type": "stream",
     "text": [
      "INFO - 07/22/25 19:12:11 - 0:00:29 - (12544/20000) Found 63/128 valid top-1 predictions. Generating solutions ...\n",
      "INFO - 07/22/25 19:12:12 - 0:00:30 -     Found 63/128 solutions in beam hypotheses.\n"
     ]
    },
    {
     "name": "stdout",
     "output_type": "stream",
     "text": [
      "INFO - 07/22/25 19:12:12 - 0:00:30 - (12672/20000) Found 64/128 valid top-1 predictions. Generating solutions ...\n",
      "INFO - 07/22/25 19:12:12 - 0:00:30 -     Found 64/128 solutions in beam hypotheses.\n"
     ]
    },
    {
     "name": "stdout",
     "output_type": "stream",
     "text": [
      "INFO - 07/22/25 19:12:12 - 0:00:30 - (12800/20000) Found 65/128 valid top-1 predictions. Generating solutions ...\n",
      "INFO - 07/22/25 19:12:12 - 0:00:30 -     Found 65/128 solutions in beam hypotheses.\n"
     ]
    },
    {
     "name": "stdout",
     "output_type": "stream",
     "text": [
      "INFO - 07/22/25 19:12:12 - 0:00:30 - (12928/20000) Found 70/128 valid top-1 predictions. Generating solutions ...\n",
      "INFO - 07/22/25 19:12:12 - 0:00:30 -     Found 70/128 solutions in beam hypotheses.\n"
     ]
    },
    {
     "name": "stdout",
     "output_type": "stream",
     "text": [
      "INFO - 07/22/25 19:12:13 - 0:00:31 - (13056/20000) Found 71/128 valid top-1 predictions. Generating solutions ...\n",
      "INFO - 07/22/25 19:12:13 - 0:00:31 -     Found 71/128 solutions in beam hypotheses.\n"
     ]
    },
    {
     "name": "stdout",
     "output_type": "stream",
     "text": [
      "INFO - 07/22/25 19:12:13 - 0:00:31 - (13184/20000) Found 60/128 valid top-1 predictions. Generating solutions ...\n",
      "INFO - 07/22/25 19:12:13 - 0:00:31 -     Found 60/128 solutions in beam hypotheses.\n"
     ]
    },
    {
     "name": "stdout",
     "output_type": "stream",
     "text": [
      "INFO - 07/22/25 19:12:13 - 0:00:31 - (13312/20000) Found 61/128 valid top-1 predictions. Generating solutions ...\n",
      "INFO - 07/22/25 19:12:13 - 0:00:31 -     Found 61/128 solutions in beam hypotheses.\n"
     ]
    },
    {
     "name": "stdout",
     "output_type": "stream",
     "text": [
      "INFO - 07/22/25 19:12:13 - 0:00:31 - (13440/20000) Found 70/128 valid top-1 predictions. Generating solutions ...\n",
      "INFO - 07/22/25 19:12:13 - 0:00:31 -     Found 70/128 solutions in beam hypotheses.\n"
     ]
    },
    {
     "name": "stdout",
     "output_type": "stream",
     "text": [
      "INFO - 07/22/25 19:12:14 - 0:00:32 - (13568/20000) Found 69/128 valid top-1 predictions. Generating solutions ...\n",
      "INFO - 07/22/25 19:12:14 - 0:00:32 -     Found 69/128 solutions in beam hypotheses.\n"
     ]
    },
    {
     "name": "stdout",
     "output_type": "stream",
     "text": [
      "INFO - 07/22/25 19:12:14 - 0:00:32 - (13696/20000) Found 70/128 valid top-1 predictions. Generating solutions ...\n",
      "INFO - 07/22/25 19:12:14 - 0:00:32 -     Found 70/128 solutions in beam hypotheses.\n"
     ]
    },
    {
     "name": "stdout",
     "output_type": "stream",
     "text": [
      "INFO - 07/22/25 19:12:14 - 0:00:32 - (13824/20000) Found 71/128 valid top-1 predictions. Generating solutions ...\n",
      "INFO - 07/22/25 19:12:14 - 0:00:32 -     Found 71/128 solutions in beam hypotheses.\n"
     ]
    },
    {
     "name": "stdout",
     "output_type": "stream",
     "text": [
      "INFO - 07/22/25 19:12:15 - 0:00:33 - (13952/20000) Found 57/128 valid top-1 predictions. Generating solutions ...\n",
      "INFO - 07/22/25 19:12:15 - 0:00:33 -     Found 57/128 solutions in beam hypotheses.\n"
     ]
    },
    {
     "name": "stdout",
     "output_type": "stream",
     "text": [
      "INFO - 07/22/25 19:12:15 - 0:00:33 - (14080/20000) Found 63/128 valid top-1 predictions. Generating solutions ...\n",
      "INFO - 07/22/25 19:12:15 - 0:00:33 -     Found 63/128 solutions in beam hypotheses.\n"
     ]
    },
    {
     "name": "stdout",
     "output_type": "stream",
     "text": [
      "INFO - 07/22/25 19:12:15 - 0:00:33 - (14208/20000) Found 64/128 valid top-1 predictions. Generating solutions ...\n",
      "INFO - 07/22/25 19:12:15 - 0:00:33 -     Found 64/128 solutions in beam hypotheses.\n"
     ]
    },
    {
     "name": "stdout",
     "output_type": "stream",
     "text": [
      "INFO - 07/22/25 19:12:15 - 0:00:33 - (14336/20000) Found 63/128 valid top-1 predictions. Generating solutions ...\n",
      "INFO - 07/22/25 19:12:15 - 0:00:33 -     Found 63/128 solutions in beam hypotheses.\n"
     ]
    },
    {
     "name": "stdout",
     "output_type": "stream",
     "text": [
      "INFO - 07/22/25 19:12:16 - 0:00:34 - (14464/20000) Found 69/128 valid top-1 predictions. Generating solutions ...\n",
      "INFO - 07/22/25 19:12:16 - 0:00:34 -     Found 69/128 solutions in beam hypotheses.\n"
     ]
    },
    {
     "name": "stdout",
     "output_type": "stream",
     "text": [
      "INFO - 07/22/25 19:12:16 - 0:00:34 - (14592/20000) Found 61/128 valid top-1 predictions. Generating solutions ...\n",
      "INFO - 07/22/25 19:12:16 - 0:00:34 -     Found 61/128 solutions in beam hypotheses.\n"
     ]
    },
    {
     "name": "stdout",
     "output_type": "stream",
     "text": [
      "INFO - 07/22/25 19:12:16 - 0:00:34 - (14720/20000) Found 65/128 valid top-1 predictions. Generating solutions ...\n",
      "INFO - 07/22/25 19:12:16 - 0:00:34 -     Found 65/128 solutions in beam hypotheses.\n"
     ]
    },
    {
     "name": "stdout",
     "output_type": "stream",
     "text": [
      "INFO - 07/22/25 19:12:16 - 0:00:34 - (14848/20000) Found 74/128 valid top-1 predictions. Generating solutions ...\n",
      "INFO - 07/22/25 19:12:17 - 0:00:35 -     Found 74/128 solutions in beam hypotheses.\n"
     ]
    },
    {
     "name": "stdout",
     "output_type": "stream",
     "text": [
      "INFO - 07/22/25 19:12:17 - 0:00:35 - (14976/20000) Found 68/128 valid top-1 predictions. Generating solutions ...\n",
      "INFO - 07/22/25 19:12:17 - 0:00:35 -     Found 68/128 solutions in beam hypotheses.\n"
     ]
    },
    {
     "name": "stdout",
     "output_type": "stream",
     "text": [
      "INFO - 07/22/25 19:12:17 - 0:00:35 - (15104/20000) Found 63/128 valid top-1 predictions. Generating solutions ...\n",
      "INFO - 07/22/25 19:12:17 - 0:00:35 -     Found 63/128 solutions in beam hypotheses.\n"
     ]
    },
    {
     "name": "stdout",
     "output_type": "stream",
     "text": [
      "INFO - 07/22/25 19:12:17 - 0:00:35 - (15232/20000) Found 57/128 valid top-1 predictions. Generating solutions ...\n",
      "INFO - 07/22/25 19:12:17 - 0:00:35 -     Found 57/128 solutions in beam hypotheses.\n"
     ]
    },
    {
     "name": "stdout",
     "output_type": "stream",
     "text": [
      "INFO - 07/22/25 19:12:18 - 0:00:36 - (15360/20000) Found 68/128 valid top-1 predictions. Generating solutions ...\n",
      "INFO - 07/22/25 19:12:18 - 0:00:36 -     Found 68/128 solutions in beam hypotheses.\n"
     ]
    },
    {
     "name": "stdout",
     "output_type": "stream",
     "text": [
      "INFO - 07/22/25 19:12:18 - 0:00:36 - (15488/20000) Found 63/128 valid top-1 predictions. Generating solutions ...\n",
      "INFO - 07/22/25 19:12:18 - 0:00:36 -     Found 63/128 solutions in beam hypotheses.\n"
     ]
    },
    {
     "name": "stdout",
     "output_type": "stream",
     "text": [
      "INFO - 07/22/25 19:12:18 - 0:00:36 - (15616/20000) Found 59/128 valid top-1 predictions. Generating solutions ...\n",
      "INFO - 07/22/25 19:12:18 - 0:00:36 -     Found 59/128 solutions in beam hypotheses.\n"
     ]
    },
    {
     "name": "stdout",
     "output_type": "stream",
     "text": [
      "INFO - 07/22/25 19:12:18 - 0:00:36 - (15744/20000) Found 63/128 valid top-1 predictions. Generating solutions ...\n",
      "INFO - 07/22/25 19:12:18 - 0:00:36 -     Found 63/128 solutions in beam hypotheses.\n"
     ]
    },
    {
     "name": "stdout",
     "output_type": "stream",
     "text": [
      "INFO - 07/22/25 19:12:19 - 0:00:37 - (15872/20000) Found 71/128 valid top-1 predictions. Generating solutions ...\n",
      "INFO - 07/22/25 19:12:19 - 0:00:37 -     Found 71/128 solutions in beam hypotheses.\n"
     ]
    },
    {
     "name": "stdout",
     "output_type": "stream",
     "text": [
      "INFO - 07/22/25 19:12:19 - 0:00:37 - (16000/20000) Found 60/128 valid top-1 predictions. Generating solutions ...\n",
      "INFO - 07/22/25 19:12:19 - 0:00:37 -     Found 60/128 solutions in beam hypotheses.\n"
     ]
    },
    {
     "name": "stdout",
     "output_type": "stream",
     "text": [
      "INFO - 07/22/25 19:12:19 - 0:00:37 - (16128/20000) Found 64/128 valid top-1 predictions. Generating solutions ...\n",
      "INFO - 07/22/25 19:12:19 - 0:00:37 -     Found 64/128 solutions in beam hypotheses.\n"
     ]
    },
    {
     "name": "stdout",
     "output_type": "stream",
     "text": [
      "INFO - 07/22/25 19:12:20 - 0:00:38 - (16256/20000) Found 57/128 valid top-1 predictions. Generating solutions ...\n",
      "INFO - 07/22/25 19:12:20 - 0:00:38 -     Found 57/128 solutions in beam hypotheses.\n"
     ]
    },
    {
     "name": "stdout",
     "output_type": "stream",
     "text": [
      "INFO - 07/22/25 19:12:20 - 0:00:38 - (16384/20000) Found 64/128 valid top-1 predictions. Generating solutions ...\n",
      "INFO - 07/22/25 19:12:20 - 0:00:38 -     Found 64/128 solutions in beam hypotheses.\n"
     ]
    },
    {
     "name": "stdout",
     "output_type": "stream",
     "text": [
      "INFO - 07/22/25 19:12:20 - 0:00:38 - (16512/20000) Found 66/128 valid top-1 predictions. Generating solutions ...\n",
      "INFO - 07/22/25 19:12:20 - 0:00:38 -     Found 66/128 solutions in beam hypotheses.\n"
     ]
    },
    {
     "name": "stdout",
     "output_type": "stream",
     "text": [
      "INFO - 07/22/25 19:12:20 - 0:00:38 - (16640/20000) Found 69/128 valid top-1 predictions. Generating solutions ...\n",
      "INFO - 07/22/25 19:12:20 - 0:00:38 -     Found 69/128 solutions in beam hypotheses.\n"
     ]
    },
    {
     "name": "stdout",
     "output_type": "stream",
     "text": [
      "INFO - 07/22/25 19:12:21 - 0:00:39 - (16768/20000) Found 58/128 valid top-1 predictions. Generating solutions ...\n",
      "INFO - 07/22/25 19:12:21 - 0:00:39 -     Found 58/128 solutions in beam hypotheses.\n"
     ]
    },
    {
     "name": "stdout",
     "output_type": "stream",
     "text": [
      "INFO - 07/22/25 19:12:21 - 0:00:39 - (16896/20000) Found 66/128 valid top-1 predictions. Generating solutions ...\n",
      "INFO - 07/22/25 19:12:21 - 0:00:39 -     Found 66/128 solutions in beam hypotheses.\n"
     ]
    },
    {
     "name": "stdout",
     "output_type": "stream",
     "text": [
      "INFO - 07/22/25 19:12:21 - 0:00:39 - (17024/20000) Found 71/128 valid top-1 predictions. Generating solutions ...\n",
      "INFO - 07/22/25 19:12:21 - 0:00:39 -     Found 71/128 solutions in beam hypotheses.\n"
     ]
    },
    {
     "name": "stdout",
     "output_type": "stream",
     "text": [
      "INFO - 07/22/25 19:12:22 - 0:00:40 - (17152/20000) Found 64/128 valid top-1 predictions. Generating solutions ...\n",
      "INFO - 07/22/25 19:12:22 - 0:00:40 -     Found 64/128 solutions in beam hypotheses.\n"
     ]
    },
    {
     "name": "stdout",
     "output_type": "stream",
     "text": [
      "INFO - 07/22/25 19:12:22 - 0:00:40 - (17280/20000) Found 68/128 valid top-1 predictions. Generating solutions ...\n",
      "INFO - 07/22/25 19:12:22 - 0:00:40 -     Found 68/128 solutions in beam hypotheses.\n"
     ]
    },
    {
     "name": "stdout",
     "output_type": "stream",
     "text": [
      "INFO - 07/22/25 19:12:22 - 0:00:40 - (17408/20000) Found 58/128 valid top-1 predictions. Generating solutions ...\n",
      "INFO - 07/22/25 19:12:22 - 0:00:40 -     Found 58/128 solutions in beam hypotheses.\n"
     ]
    },
    {
     "name": "stdout",
     "output_type": "stream",
     "text": [
      "INFO - 07/22/25 19:12:22 - 0:00:40 - (17536/20000) Found 62/128 valid top-1 predictions. Generating solutions ...\n",
      "INFO - 07/22/25 19:12:22 - 0:00:40 -     Found 62/128 solutions in beam hypotheses.\n"
     ]
    },
    {
     "name": "stdout",
     "output_type": "stream",
     "text": [
      "INFO - 07/22/25 19:12:23 - 0:00:41 - (17664/20000) Found 63/128 valid top-1 predictions. Generating solutions ...\n",
      "INFO - 07/22/25 19:12:23 - 0:00:41 -     Found 63/128 solutions in beam hypotheses.\n"
     ]
    },
    {
     "name": "stdout",
     "output_type": "stream",
     "text": [
      "INFO - 07/22/25 19:12:23 - 0:00:41 - (17792/20000) Found 70/128 valid top-1 predictions. Generating solutions ...\n",
      "INFO - 07/22/25 19:12:23 - 0:00:41 -     Found 70/128 solutions in beam hypotheses.\n"
     ]
    },
    {
     "name": "stdout",
     "output_type": "stream",
     "text": [
      "INFO - 07/22/25 19:12:23 - 0:00:41 - (17920/20000) Found 71/128 valid top-1 predictions. Generating solutions ...\n",
      "INFO - 07/22/25 19:12:23 - 0:00:41 -     Found 71/128 solutions in beam hypotheses.\n"
     ]
    },
    {
     "name": "stdout",
     "output_type": "stream",
     "text": [
      "INFO - 07/22/25 19:12:23 - 0:00:41 - (18048/20000) Found 60/128 valid top-1 predictions. Generating solutions ...\n",
      "INFO - 07/22/25 19:12:24 - 0:00:41 -     Found 60/128 solutions in beam hypotheses.\n"
     ]
    },
    {
     "name": "stdout",
     "output_type": "stream",
     "text": [
      "INFO - 07/22/25 19:12:24 - 0:00:42 - (18176/20000) Found 63/128 valid top-1 predictions. Generating solutions ...\n",
      "INFO - 07/22/25 19:12:24 - 0:00:42 -     Found 63/128 solutions in beam hypotheses.\n"
     ]
    },
    {
     "name": "stdout",
     "output_type": "stream",
     "text": [
      "INFO - 07/22/25 19:12:24 - 0:00:42 - (18304/20000) Found 70/128 valid top-1 predictions. Generating solutions ...\n",
      "INFO - 07/22/25 19:12:24 - 0:00:42 -     Found 70/128 solutions in beam hypotheses.\n"
     ]
    },
    {
     "name": "stdout",
     "output_type": "stream",
     "text": [
      "INFO - 07/22/25 19:12:24 - 0:00:42 - (18432/20000) Found 68/128 valid top-1 predictions. Generating solutions ...\n",
      "INFO - 07/22/25 19:12:24 - 0:00:42 -     Found 68/128 solutions in beam hypotheses.\n"
     ]
    },
    {
     "name": "stdout",
     "output_type": "stream",
     "text": [
      "INFO - 07/22/25 19:12:25 - 0:00:43 - (18560/20000) Found 68/128 valid top-1 predictions. Generating solutions ...\n",
      "INFO - 07/22/25 19:12:25 - 0:00:43 -     Found 68/128 solutions in beam hypotheses.\n"
     ]
    },
    {
     "name": "stdout",
     "output_type": "stream",
     "text": [
      "INFO - 07/22/25 19:12:25 - 0:00:43 - (18688/20000) Found 69/128 valid top-1 predictions. Generating solutions ...\n",
      "INFO - 07/22/25 19:12:25 - 0:00:43 -     Found 69/128 solutions in beam hypotheses.\n"
     ]
    },
    {
     "name": "stdout",
     "output_type": "stream",
     "text": [
      "INFO - 07/22/25 19:12:25 - 0:00:43 - (18816/20000) Found 67/128 valid top-1 predictions. Generating solutions ...\n",
      "INFO - 07/22/25 19:12:25 - 0:00:43 -     Found 67/128 solutions in beam hypotheses.\n"
     ]
    },
    {
     "name": "stdout",
     "output_type": "stream",
     "text": [
      "INFO - 07/22/25 19:12:25 - 0:00:43 - (18944/20000) Found 62/128 valid top-1 predictions. Generating solutions ...\n",
      "INFO - 07/22/25 19:12:25 - 0:00:43 -     Found 62/128 solutions in beam hypotheses.\n"
     ]
    },
    {
     "name": "stdout",
     "output_type": "stream",
     "text": [
      "INFO - 07/22/25 19:12:26 - 0:00:44 - (19072/20000) Found 62/128 valid top-1 predictions. Generating solutions ...\n",
      "INFO - 07/22/25 19:12:26 - 0:00:44 -     Found 62/128 solutions in beam hypotheses.\n"
     ]
    },
    {
     "name": "stdout",
     "output_type": "stream",
     "text": [
      "INFO - 07/22/25 19:12:26 - 0:00:44 - (19200/20000) Found 73/128 valid top-1 predictions. Generating solutions ...\n",
      "INFO - 07/22/25 19:12:26 - 0:00:44 -     Found 73/128 solutions in beam hypotheses.\n"
     ]
    },
    {
     "name": "stdout",
     "output_type": "stream",
     "text": [
      "INFO - 07/22/25 19:12:26 - 0:00:44 - (19328/20000) Found 71/128 valid top-1 predictions. Generating solutions ...\n",
      "INFO - 07/22/25 19:12:26 - 0:00:44 -     Found 71/128 solutions in beam hypotheses.\n"
     ]
    },
    {
     "name": "stdout",
     "output_type": "stream",
     "text": [
      "INFO - 07/22/25 19:12:27 - 0:00:45 - (19456/20000) Found 69/128 valid top-1 predictions. Generating solutions ...\n",
      "INFO - 07/22/25 19:12:27 - 0:00:45 -     Found 69/128 solutions in beam hypotheses.\n"
     ]
    },
    {
     "name": "stdout",
     "output_type": "stream",
     "text": [
      "INFO - 07/22/25 19:12:27 - 0:00:45 - (19584/20000) Found 69/128 valid top-1 predictions. Generating solutions ...\n",
      "INFO - 07/22/25 19:12:27 - 0:00:45 -     Found 69/128 solutions in beam hypotheses.\n"
     ]
    },
    {
     "name": "stdout",
     "output_type": "stream",
     "text": [
      "INFO - 07/22/25 19:12:27 - 0:00:45 - (19712/20000) Found 72/128 valid top-1 predictions. Generating solutions ...\n",
      "INFO - 07/22/25 19:12:27 - 0:00:45 -     Found 72/128 solutions in beam hypotheses.\n"
     ]
    },
    {
     "name": "stdout",
     "output_type": "stream",
     "text": [
      "INFO - 07/22/25 19:12:27 - 0:00:45 - (19840/20000) Found 64/128 valid top-1 predictions. Generating solutions ...\n",
      "INFO - 07/22/25 19:12:27 - 0:00:45 -     Found 64/128 solutions in beam hypotheses.\n"
     ]
    },
    {
     "name": "stdout",
     "output_type": "stream",
     "text": [
      "INFO - 07/22/25 19:12:28 - 0:00:46 - (19968/20000) Found 57/128 valid top-1 predictions. Generating solutions ...\n",
      "INFO - 07/22/25 19:12:28 - 0:00:46 -     Found 57/128 solutions in beam hypotheses.\n",
      "INFO - 07/22/25 19:12:28 - 0:00:46 - (20000/20000) Found 15/32 valid top-1 predictions. Generating solutions ...\n",
      "INFO - 07/22/25 19:12:28 - 0:00:46 -     Found 15/32 solutions in beam hypotheses.\n",
      "INFO - 07/22/25 19:12:28 - 0:00:46 - 10181/20000 (50.905%) equations were evaluated correctly.\n",
      "INFO - 07/22/25 19:12:28 - 0:00:46 - 0: 6807 / 7809 (87.17%)\n",
      "INFO - 07/22/25 19:12:28 - 0:00:46 - 1: 3017 / 6072 (49.69%)\n",
      "INFO - 07/22/25 19:12:28 - 0:00:46 - 100: 357 / 6119 (5.83%)\n"
     ]
    },
    {
     "name": "stdout",
     "output_type": "stream",
     "text": [
      "INFO - 07/22/25 19:12:28 - 0:00:46 - epoch -> 295.000000\n",
      "INFO - 07/22/25 19:12:28 - 0:00:46 - valid_arithmetic_xe_loss -> 1.004817\n",
      "INFO - 07/22/25 19:12:28 - 0:00:46 - valid_arithmetic_acc -> 50.905000\n",
      "INFO - 07/22/25 19:12:28 - 0:00:46 - valid_arithmetic_perfect -> 50.905000\n",
      "INFO - 07/22/25 19:12:28 - 0:00:46 - valid_arithmetic_correct -> 50.905000\n",
      "INFO - 07/22/25 19:12:28 - 0:00:46 - valid_arithmetic_acc_d1 -> 50.905000\n",
      "INFO - 07/22/25 19:12:28 - 0:00:46 - valid_arithmetic_acc_d2 -> 50.905000\n",
      "INFO - 07/22/25 19:12:28 - 0:00:46 - valid_arithmetic_acc_d3 -> 70.440000\n",
      "INFO - 07/22/25 19:12:28 - 0:00:46 - valid_arithmetic_acc_0 -> 87.168652\n",
      "INFO - 07/22/25 19:12:28 - 0:00:46 - valid_arithmetic_acc_1 -> 49.687088\n",
      "INFO - 07/22/25 19:12:28 - 0:00:46 - valid_arithmetic_acc_100 -> 5.834287\n",
      "INFO - 07/22/25 19:12:28 - 0:00:46 - __log__:{\"epoch\": 295, \"valid_arithmetic_xe_loss\": 1.0048168704986573, \"valid_arithmetic_acc\": 50.905, \"valid_arithmetic_perfect\": 50.905, \"valid_arithmetic_correct\": 50.905, \"valid_arithmetic_acc_d1\": 50.905, \"valid_arithmetic_acc_d2\": 50.905, \"valid_arithmetic_acc_d3\": 70.44, \"valid_arithmetic_acc_0\": 87.16865155589704, \"valid_arithmetic_acc_1\": 49.6870882740448, \"valid_arithmetic_acc_100\": 5.834286648145122}\n"
     ]
    },
    {
     "name": "stdout",
     "output_type": "stream",
     "text": [
      "INFO - 07/22/25 19:12:31 - 0:00:00 - ============ Initialized logger ============\n",
      "INFO - 07/22/25 19:12:31 - 0:00:00 - GRU: False\n",
      "                                     accumulate_gradients: 1\n",
      "                                     act_bias: 0\n",
      "                                     act_biased: False\n",
      "                                     act_ponder_coupling: 0.01\n",
      "                                     act_threshold: 0.01\n",
      "                                     amp: -1\n",
      "                                     architecture: encoder_decoder\n",
      "                                     attention_dropout: 0\n",
      "                                     base: 1000\n",
      "                                     batch_load: False\n",
      "                                     batch_size: 32\n",
      "                                     batch_size_eval: 128\n",
      "                                     beam_early_stopping: True\n",
      "                                     beam_eval: False\n",
      "                                     beam_eval_train: 0\n",
      "                                     beam_length_penalty: 1\n",
      "                                     beam_size: 1\n",
      "                                     biased_gates: False\n",
      "                                     bidirectional: False\n",
      "                                     class_by_length: False\n",
      "                                     clip_grad_norm: 5\n",
      "                                     command: python /home/user/Int2Int/train.py --num_workers 0 --dump_path '/home/user/fastdir/dump' --exp_name basic --exp_id 3 --eval_only True --eval_data '/home/user/fastdir/data/mu_2_random.txt' --eval_size 20000 --data_types 'int[200]:range(-1,2)' --exp_id \"3\"\n",
      "                                     cpu: False\n",
      "                                     data_types: int[200]:range(-1,2)\n",
      "                                     debug: False\n",
      "                                     debug_slurm: False\n",
      "                                     dec_act: False\n",
      "                                     dec_emb_dim: 256\n",
      "                                     dec_gated: False\n",
      "                                     dec_has_pos_emb: True\n",
      "                                     dec_loop_idx: -1\n",
      "                                     dec_loops: 1\n",
      "                                     dim1: 10\n",
      "                                     dim2: 10\n",
      "                                     dropout: 0\n",
      "                                     dump_path: /home/user/fastdir/dump/basic/3\n",
      "                                     enc_act: False\n",
      "                                     enc_emb_dim: 256\n",
      "                                     enc_gated: False\n",
      "                                     enc_has_pos_emb: True\n",
      "                                     enc_loop_idx: -1\n",
      "                                     enc_loops: 1\n",
      "                                     env_base_seed: -1\n",
      "                                     env_name: arithmetic\n",
      "                                     epoch_size: 300000\n",
      "                                     eval_data: /home/user/fastdir/data/mu_2_random.txt\n",
      "                                     eval_from_exp: \n",
      "                                     eval_only: True\n",
      "                                     eval_size: 20000\n",
      "                                     eval_verbose: 0\n",
      "                                     eval_verbose_print: False\n",
      "                                     exp_id: 3\n",
      "                                     exp_name: basic\n",
      "                                     export_data: False\n",
      "                                     first_class_prob: 0.25\n",
      "                                     first_class_size: 1000000\n",
      "                                     fp16: False\n",
      "                                     gate_bias: 0\n",
      "                                     gated: False\n",
      "                                     gelu_activation: False\n",
      "                                     global_rank: 0\n",
      "                                     is_master: True\n",
      "                                     is_slurm_job: False\n",
      "                                     local_gpu: -1\n",
      "                                     local_rank: 0\n",
      "                                     lstm: False\n",
      "                                     lstm_hidden_dim: 2048\n",
      "                                     master_port: -1\n",
      "                                     max_class: 101\n",
      "                                     max_epoch: 100000\n",
      "                                     max_len: 512\n",
      "                                     max_output_len: 512\n",
      "                                     max_src_len: 0\n",
      "                                     maxint: 1000000\n",
      "                                     minint: 1\n",
      "                                     modulus: 67\n",
      "                                     multi_gpu: False\n",
      "                                     multi_node: False\n",
      "                                     n_dec_heads: 8\n",
      "                                     n_dec_hidden_layers: 1\n",
      "                                     n_dec_layers: 4\n",
      "                                     n_enc_heads: 8\n",
      "                                     n_enc_hidden_layers: 1\n",
      "                                     n_enc_layers: 4\n",
      "                                     n_gpu_per_node: 1\n",
      "                                     n_nodes: 1\n",
      "                                     node_id: 0\n",
      "                                     norm_attention: False\n",
      "                                     num_workers: 0\n",
      "                                     operation: data\n",
      "                                     optimizer: adam,lr=0.0001\n",
      "                                     reload_checkpoint: \n",
      "                                     reload_model: \n",
      "                                     reload_size: -1\n",
      "                                     save_periodic: 0\n",
      "                                     scalar_gate: False\n",
      "                                     share_inout_emb: True\n",
      "                                     sinusoidal_embeddings: False\n",
      "                                     stopping_criterion: \n",
      "                                     tasks: arithmetic\n",
      "                                     train_data: \n",
      "                                     two_classes: False\n",
      "                                     validation_metrics: \n",
      "                                     windows: False\n",
      "                                     world_size: 1\n",
      "                                     xav_init: False\n",
      "INFO - 07/22/25 19:12:31 - 0:00:00 - The experiment will be stored in /home/user/fastdir/dump/basic/3\n",
      "                                     \n",
      "INFO - 07/22/25 19:12:31 - 0:00:00 - Running command: python /home/user/Int2Int/train.py --num_workers 0 --dump_path '/home/user/fastdir/dump' --exp_name basic --exp_id 3 --eval_only True --eval_data '/home/user/fastdir/data/mu_2_random.txt' --eval_size 20000 --data_types 'int[200]:range(-1,2)'\n",
      "\n",
      "INFO - 07/22/25 19:12:31 - 0:00:00 - words: {'<eos>': 0, '<pad>': 1, '<sep>': 2, '(': 3, ')': 4, '<SPECIAL_0>': 5, '<SPECIAL_1>': 6, '<SPECIAL_2>': 7, '<SPECIAL_3>': 8, '<SPECIAL_4>': 9, '<SPECIAL_5>': 10, '<SPECIAL_6>': 11, '<SPECIAL_7>': 12, '<SPECIAL_8>': 13, '<SPECIAL_9>': 14, '+': 15, '-': 16, '-1': 17, '0': 18, '1': 19, '10': 20, '100': 21, '101': 22, '102': 23, '103': 24, '104': 25, '105': 26, '106': 27, '107': 28, '108': 29, '109': 30, '11': 31, '110': 32, '111': 33, '112': 34, '113': 35, '114': 36, '115': 37, '116': 38, '117': 39, '118': 40, '119': 41, '12': 42, '120': 43, '121': 44, '122': 45, '123': 46, '124': 47, '125': 48, '126': 49, '127': 50, '128': 51, '129': 52, '13': 53, '130': 54, '131': 55, '132': 56, '133': 57, '134': 58, '135': 59, '136': 60, '137': 61, '138': 62, '139': 63, '14': 64, '140': 65, '141': 66, '142': 67, '143': 68, '144': 69, '145': 70, '146': 71, '147': 72, '148': 73, '149': 74, '15': 75, '150': 76, '151': 77, '152': 78, '153': 79, '154': 80, '155': 81, '156': 82, '157': 83, '158': 84, '159': 85, '16': 86, '160': 87, '161': 88, '162': 89, '163': 90, '164': 91, '165': 92, '166': 93, '167': 94, '168': 95, '169': 96, '17': 97, '170': 98, '171': 99, '172': 100, '173': 101, '174': 102, '175': 103, '176': 104, '177': 105, '178': 106, '179': 107, '18': 108, '180': 109, '181': 110, '182': 111, '183': 112, '184': 113, '185': 114, '186': 115, '187': 116, '188': 117, '189': 118, '19': 119, '190': 120, '191': 121, '192': 122, '193': 123, '194': 124, '195': 125, '196': 126, '197': 127, '198': 128, '199': 129, '2': 130, '20': 131, '200': 132, '201': 133, '202': 134, '203': 135, '204': 136, '205': 137, '206': 138, '207': 139, '208': 140, '209': 141, '21': 142, '210': 143, '211': 144, '212': 145, '213': 146, '214': 147, '215': 148, '216': 149, '217': 150, '218': 151, '219': 152, '22': 153, '220': 154, '221': 155, '222': 156, '223': 157, '224': 158, '225': 159, '226': 160, '227': 161, '228': 162, '229': 163, '23': 164, '230': 165, '231': 166, '232': 167, '233': 168, '234': 169, '235': 170, '236': 171, '237': 172, '238': 173, '239': 174, '24': 175, '240': 176, '241': 177, '242': 178, '243': 179, '244': 180, '245': 181, '246': 182, '247': 183, '248': 184, '249': 185, '25': 186, '250': 187, '251': 188, '252': 189, '253': 190, '254': 191, '255': 192, '256': 193, '257': 194, '258': 195, '259': 196, '26': 197, '260': 198, '261': 199, '262': 200, '263': 201, '264': 202, '265': 203, '266': 204, '267': 205, '268': 206, '269': 207, '27': 208, '270': 209, '271': 210, '272': 211, '273': 212, '274': 213, '275': 214, '276': 215, '277': 216, '278': 217, '279': 218, '28': 219, '280': 220, '281': 221, '282': 222, '283': 223, '284': 224, '285': 225, '286': 226, '287': 227, '288': 228, '289': 229, '29': 230, '290': 231, '291': 232, '292': 233, '293': 234, '294': 235, '295': 236, '296': 237, '297': 238, '298': 239, '299': 240, '3': 241, '30': 242, '300': 243, '301': 244, '302': 245, '303': 246, '304': 247, '305': 248, '306': 249, '307': 250, '308': 251, '309': 252, '31': 253, '310': 254, '311': 255, '312': 256, '313': 257, '314': 258, '315': 259, '316': 260, '317': 261, '318': 262, '319': 263, '32': 264, '320': 265, '321': 266, '322': 267, '323': 268, '324': 269, '325': 270, '326': 271, '327': 272, '328': 273, '329': 274, '33': 275, '330': 276, '331': 277, '332': 278, '333': 279, '334': 280, '335': 281, '336': 282, '337': 283, '338': 284, '339': 285, '34': 286, '340': 287, '341': 288, '342': 289, '343': 290, '344': 291, '345': 292, '346': 293, '347': 294, '348': 295, '349': 296, '35': 297, '350': 298, '351': 299, '352': 300, '353': 301, '354': 302, '355': 303, '356': 304, '357': 305, '358': 306, '359': 307, '36': 308, '360': 309, '361': 310, '362': 311, '363': 312, '364': 313, '365': 314, '366': 315, '367': 316, '368': 317, '369': 318, '37': 319, '370': 320, '371': 321, '372': 322, '373': 323, '374': 324, '375': 325, '376': 326, '377': 327, '378': 328, '379': 329, '38': 330, '380': 331, '381': 332, '382': 333, '383': 334, '384': 335, '385': 336, '386': 337, '387': 338, '388': 339, '389': 340, '39': 341, '390': 342, '391': 343, '392': 344, '393': 345, '394': 346, '395': 347, '396': 348, '397': 349, '398': 350, '399': 351, '4': 352, '40': 353, '400': 354, '401': 355, '402': 356, '403': 357, '404': 358, '405': 359, '406': 360, '407': 361, '408': 362, '409': 363, '41': 364, '410': 365, '411': 366, '412': 367, '413': 368, '414': 369, '415': 370, '416': 371, '417': 372, '418': 373, '419': 374, '42': 375, '420': 376, '421': 377, '422': 378, '423': 379, '424': 380, '425': 381, '426': 382, '427': 383, '428': 384, '429': 385, '43': 386, '430': 387, '431': 388, '432': 389, '433': 390, '434': 391, '435': 392, '436': 393, '437': 394, '438': 395, '439': 396, '44': 397, '440': 398, '441': 399, '442': 400, '443': 401, '444': 402, '445': 403, '446': 404, '447': 405, '448': 406, '449': 407, '45': 408, '450': 409, '451': 410, '452': 411, '453': 412, '454': 413, '455': 414, '456': 415, '457': 416, '458': 417, '459': 418, '46': 419, '460': 420, '461': 421, '462': 422, '463': 423, '464': 424, '465': 425, '466': 426, '467': 427, '468': 428, '469': 429, '47': 430, '470': 431, '471': 432, '472': 433, '473': 434, '474': 435, '475': 436, '476': 437, '477': 438, '478': 439, '479': 440, '48': 441, '480': 442, '481': 443, '482': 444, '483': 445, '484': 446, '485': 447, '486': 448, '487': 449, '488': 450, '489': 451, '49': 452, '490': 453, '491': 454, '492': 455, '493': 456, '494': 457, '495': 458, '496': 459, '497': 460, '498': 461, '499': 462, '5': 463, '50': 464, '500': 465, '501': 466, '502': 467, '503': 468, '504': 469, '505': 470, '506': 471, '507': 472, '508': 473, '509': 474, '51': 475, '510': 476, '511': 477, '512': 478, '513': 479, '514': 480, '515': 481, '516': 482, '517': 483, '518': 484, '519': 485, '52': 486, '520': 487, '521': 488, '522': 489, '523': 490, '524': 491, '525': 492, '526': 493, '527': 494, '528': 495, '529': 496, '53': 497, '530': 498, '531': 499, '532': 500, '533': 501, '534': 502, '535': 503, '536': 504, '537': 505, '538': 506, '539': 507, '54': 508, '540': 509, '541': 510, '542': 511, '543': 512, '544': 513, '545': 514, '546': 515, '547': 516, '548': 517, '549': 518, '55': 519, '550': 520, '551': 521, '552': 522, '553': 523, '554': 524, '555': 525, '556': 526, '557': 527, '558': 528, '559': 529, '56': 530, '560': 531, '561': 532, '562': 533, '563': 534, '564': 535, '565': 536, '566': 537, '567': 538, '568': 539, '569': 540, '57': 541, '570': 542, '571': 543, '572': 544, '573': 545, '574': 546, '575': 547, '576': 548, '577': 549, '578': 550, '579': 551, '58': 552, '580': 553, '581': 554, '582': 555, '583': 556, '584': 557, '585': 558, '586': 559, '587': 560, '588': 561, '589': 562, '59': 563, '590': 564, '591': 565, '592': 566, '593': 567, '594': 568, '595': 569, '596': 570, '597': 571, '598': 572, '599': 573, '6': 574, '60': 575, '600': 576, '601': 577, '602': 578, '603': 579, '604': 580, '605': 581, '606': 582, '607': 583, '608': 584, '609': 585, '61': 586, '610': 587, '611': 588, '612': 589, '613': 590, '614': 591, '615': 592, '616': 593, '617': 594, '618': 595, '619': 596, '62': 597, '620': 598, '621': 599, '622': 600, '623': 601, '624': 602, '625': 603, '626': 604, '627': 605, '628': 606, '629': 607, '63': 608, '630': 609, '631': 610, '632': 611, '633': 612, '634': 613, '635': 614, '636': 615, '637': 616, '638': 617, '639': 618, '64': 619, '640': 620, '641': 621, '642': 622, '643': 623, '644': 624, '645': 625, '646': 626, '647': 627, '648': 628, '649': 629, '65': 630, '650': 631, '651': 632, '652': 633, '653': 634, '654': 635, '655': 636, '656': 637, '657': 638, '658': 639, '659': 640, '66': 641, '660': 642, '661': 643, '662': 644, '663': 645, '664': 646, '665': 647, '666': 648, '667': 649, '668': 650, '669': 651, '67': 652, '670': 653, '671': 654, '672': 655, '673': 656, '674': 657, '675': 658, '676': 659, '677': 660, '678': 661, '679': 662, '68': 663, '680': 664, '681': 665, '682': 666, '683': 667, '684': 668, '685': 669, '686': 670, '687': 671, '688': 672, '689': 673, '69': 674, '690': 675, '691': 676, '692': 677, '693': 678, '694': 679, '695': 680, '696': 681, '697': 682, '698': 683, '699': 684, '7': 685, '70': 686, '700': 687, '701': 688, '702': 689, '703': 690, '704': 691, '705': 692, '706': 693, '707': 694, '708': 695, '709': 696, '71': 697, '710': 698, '711': 699, '712': 700, '713': 701, '714': 702, '715': 703, '716': 704, '717': 705, '718': 706, '719': 707, '72': 708, '720': 709, '721': 710, '722': 711, '723': 712, '724': 713, '725': 714, '726': 715, '727': 716, '728': 717, '729': 718, '73': 719, '730': 720, '731': 721, '732': 722, '733': 723, '734': 724, '735': 725, '736': 726, '737': 727, '738': 728, '739': 729, '74': 730, '740': 731, '741': 732, '742': 733, '743': 734, '744': 735, '745': 736, '746': 737, '747': 738, '748': 739, '749': 740, '75': 741, '750': 742, '751': 743, '752': 744, '753': 745, '754': 746, '755': 747, '756': 748, '757': 749, '758': 750, '759': 751, '76': 752, '760': 753, '761': 754, '762': 755, '763': 756, '764': 757, '765': 758, '766': 759, '767': 760, '768': 761, '769': 762, '77': 763, '770': 764, '771': 765, '772': 766, '773': 767, '774': 768, '775': 769, '776': 770, '777': 771, '778': 772, '779': 773, '78': 774, '780': 775, '781': 776, '782': 777, '783': 778, '784': 779, '785': 780, '786': 781, '787': 782, '788': 783, '789': 784, '79': 785, '790': 786, '791': 787, '792': 788, '793': 789, '794': 790, '795': 791, '796': 792, '797': 793, '798': 794, '799': 795, '8': 796, '80': 797, '800': 798, '801': 799, '802': 800, '803': 801, '804': 802, '805': 803, '806': 804, '807': 805, '808': 806, '809': 807, '81': 808, '810': 809, '811': 810, '812': 811, '813': 812, '814': 813, '815': 814, '816': 815, '817': 816, '818': 817, '819': 818, '82': 819, '820': 820, '821': 821, '822': 822, '823': 823, '824': 824, '825': 825, '826': 826, '827': 827, '828': 828, '829': 829, '83': 830, '830': 831, '831': 832, '832': 833, '833': 834, '834': 835, '835': 836, '836': 837, '837': 838, '838': 839, '839': 840, '84': 841, '840': 842, '841': 843, '842': 844, '843': 845, '844': 846, '845': 847, '846': 848, '847': 849, '848': 850, '849': 851, '85': 852, '850': 853, '851': 854, '852': 855, '853': 856, '854': 857, '855': 858, '856': 859, '857': 860, '858': 861, '859': 862, '86': 863, '860': 864, '861': 865, '862': 866, '863': 867, '864': 868, '865': 869, '866': 870, '867': 871, '868': 872, '869': 873, '87': 874, '870': 875, '871': 876, '872': 877, '873': 878, '874': 879, '875': 880, '876': 881, '877': 882, '878': 883, '879': 884, '88': 885, '880': 886, '881': 887, '882': 888, '883': 889, '884': 890, '885': 891, '886': 892, '887': 893, '888': 894, '889': 895, '89': 896, '890': 897, '891': 898, '892': 899, '893': 900, '894': 901, '895': 902, '896': 903, '897': 904, '898': 905, '899': 906, '9': 907, '90': 908, '900': 909, '901': 910, '902': 911, '903': 912, '904': 913, '905': 914, '906': 915, '907': 916, '908': 917, '909': 918, '91': 919, '910': 920, '911': 921, '912': 922, '913': 923, '914': 924, '915': 925, '916': 926, '917': 927, '918': 928, '919': 929, '92': 930, '920': 931, '921': 932, '922': 933, '923': 934, '924': 935, '925': 936, '926': 937, '927': 938, '928': 939, '929': 940, '93': 941, '930': 942, '931': 943, '932': 944, '933': 945, '934': 946, '935': 947, '936': 948, '937': 949, '938': 950, '939': 951, '94': 952, '940': 953, '941': 954, '942': 955, '943': 956, '944': 957, '945': 958, '946': 959, '947': 960, '948': 961, '949': 962, '95': 963, '950': 964, '951': 965, '952': 966, '953': 967, '954': 968, '955': 969, '956': 970, '957': 971, '958': 972, '959': 973, '96': 974, '960': 975, '961': 976, '962': 977, '963': 978, '964': 979, '965': 980, '966': 981, '967': 982, '968': 983, '969': 984, '97': 985, '970': 986, '971': 987, '972': 988, '973': 989, '974': 990, '975': 991, '976': 992, '977': 993, '978': 994, '979': 995, '98': 996, '980': 997, '981': 998, '982': 999, '983': 1000, '984': 1001, '985': 1002, '986': 1003, '987': 1004, '988': 1005, '989': 1006, '99': 1007, '990': 1008, '991': 1009, '992': 1010, '993': 1011, '994': 1012, '995': 1013, '996': 1014, '997': 1015, '998': 1016, '999': 1017, 'V1': 1018, 'V10': 1019, 'V100': 1020, 'V101': 1021, 'V102': 1022, 'V103': 1023, 'V104': 1024, 'V105': 1025, 'V106': 1026, 'V107': 1027, 'V108': 1028, 'V109': 1029, 'V11': 1030, 'V110': 1031, 'V111': 1032, 'V112': 1033, 'V113': 1034, 'V114': 1035, 'V115': 1036, 'V116': 1037, 'V117': 1038, 'V118': 1039, 'V119': 1040, 'V12': 1041, 'V120': 1042, 'V121': 1043, 'V122': 1044, 'V123': 1045, 'V124': 1046, 'V125': 1047, 'V126': 1048, 'V127': 1049, 'V128': 1050, 'V129': 1051, 'V13': 1052, 'V130': 1053, 'V131': 1054, 'V132': 1055, 'V133': 1056, 'V134': 1057, 'V135': 1058, 'V136': 1059, 'V137': 1060, 'V138': 1061, 'V139': 1062, 'V14': 1063, 'V140': 1064, 'V141': 1065, 'V142': 1066, 'V143': 1067, 'V144': 1068, 'V145': 1069, 'V146': 1070, 'V147': 1071, 'V148': 1072, 'V149': 1073, 'V15': 1074, 'V150': 1075, 'V151': 1076, 'V152': 1077, 'V153': 1078, 'V154': 1079, 'V155': 1080, 'V156': 1081, 'V157': 1082, 'V158': 1083, 'V159': 1084, 'V16': 1085, 'V160': 1086, 'V161': 1087, 'V162': 1088, 'V163': 1089, 'V164': 1090, 'V165': 1091, 'V166': 1092, 'V167': 1093, 'V168': 1094, 'V169': 1095, 'V17': 1096, 'V170': 1097, 'V171': 1098, 'V172': 1099, 'V173': 1100, 'V174': 1101, 'V175': 1102, 'V176': 1103, 'V177': 1104, 'V178': 1105, 'V179': 1106, 'V18': 1107, 'V180': 1108, 'V181': 1109, 'V182': 1110, 'V183': 1111, 'V184': 1112, 'V185': 1113, 'V186': 1114, 'V187': 1115, 'V188': 1116, 'V189': 1117, 'V19': 1118, 'V190': 1119, 'V191': 1120, 'V192': 1121, 'V193': 1122, 'V194': 1123, 'V195': 1124, 'V196': 1125, 'V197': 1126, 'V198': 1127, 'V199': 1128, 'V2': 1129, 'V20': 1130, 'V200': 1131, 'V21': 1132, 'V22': 1133, 'V23': 1134, 'V24': 1135, 'V25': 1136, 'V26': 1137, 'V27': 1138, 'V28': 1139, 'V29': 1140, 'V3': 1141, 'V30': 1142, 'V31': 1143, 'V32': 1144, 'V33': 1145, 'V34': 1146, 'V35': 1147, 'V36': 1148, 'V37': 1149, 'V38': 1150, 'V39': 1151, 'V4': 1152, 'V40': 1153, 'V41': 1154, 'V42': 1155, 'V43': 1156, 'V44': 1157, 'V45': 1158, 'V46': 1159, 'V47': 1160, 'V48': 1161, 'V49': 1162, 'V5': 1163, 'V50': 1164, 'V51': 1165, 'V52': 1166, 'V53': 1167, 'V54': 1168, 'V55': 1169, 'V56': 1170, 'V57': 1171, 'V58': 1172, 'V59': 1173, 'V6': 1174, 'V60': 1175, 'V61': 1176, 'V62': 1177, 'V63': 1178, 'V64': 1179, 'V65': 1180, 'V66': 1181, 'V67': 1182, 'V68': 1183, 'V69': 1184, 'V7': 1185, 'V70': 1186, 'V71': 1187, 'V72': 1188, 'V73': 1189, 'V74': 1190, 'V75': 1191, 'V76': 1192, 'V77': 1193, 'V78': 1194, 'V79': 1195, 'V8': 1196, 'V80': 1197, 'V81': 1198, 'V82': 1199, 'V83': 1200, 'V84': 1201, 'V85': 1202, 'V86': 1203, 'V87': 1204, 'V88': 1205, 'V89': 1206, 'V9': 1207, 'V90': 1208, 'V91': 1209, 'V92': 1210, 'V93': 1211, 'V94': 1212, 'V95': 1213, 'V96': 1214, 'V97': 1215, 'V98': 1216, 'V99': 1217}\n",
      "INFO - 07/22/25 19:12:31 - 0:00:00 - Training tasks: arithmetic\n",
      "INFO - 07/22/25 19:12:31 - 0:00:00 - Number of parameters (encoder): 4519936\n",
      "INFO - 07/22/25 19:12:31 - 0:00:00 - Number of parameters (decoder): 5575874\n"
     ]
    },
    {
     "name": "stdout",
     "output_type": "stream",
     "text": [
      "INFO - 07/22/25 19:12:31 - 0:00:00 - Found 177 parameters in model.\n"
     ]
    },
    {
     "name": "stdout",
     "output_type": "stream",
     "text": [
      "INFO - 07/22/25 19:12:32 - 0:00:01 - Optimizer: <class 'src.optim.Adam'>\n",
      "WARNING - 07/22/25 19:12:32 - 0:00:01 - Reloading checkpoint from /home/user/fastdir/dump/basic/3/checkpoint.pth ...\n",
      "/home/user/Int2Int/src/trainer.py:303: FutureWarning: You are using `torch.load` with `weights_only=False` (the current default value), which uses the default pickle module implicitly. It is possible to construct malicious pickle data which will execute arbitrary code during unpickling (See https://github.com/pytorch/pytorch/blob/main/SECURITY.md#untrusted-models for more details). In a future release, the default value for `weights_only` will be flipped to `True`. This limits the functions that could be executed during unpickling. Arbitrary objects will no longer be allowed to be loaded via this mode unless they are explicitly allowlisted by the user via `torch.serialization.add_safe_globals`. We recommend you start setting `weights_only=True` for any use case where you don't have full control of the loaded file. Please open an issue on GitHub for any issues related to this experimental feature.\n",
      "  data = torch.load(checkpoint_path, map_location=\"cpu\")\n",
      "WARNING - 07/22/25 19:12:32 - 0:00:01 - Reloading checkpoint optimizer ...\n",
      "WARNING - 07/22/25 19:12:32 - 0:00:01 - Checkpoint reloaded. Resuming at epoch 295 / iteration 184375 ...\n",
      "INFO - 07/22/25 19:12:32 - 0:00:01 - Creating valid iterator for arithmetic ...\n",
      "INFO - 07/22/25 19:12:32 - 0:00:01 - Loading data from /home/user/fastdir/data/mu_2_random.txt ...\n"
     ]
    },
    {
     "name": "stdout",
     "output_type": "stream",
     "text": [
      "INFO - 07/22/25 19:12:32 - 0:00:02 - Loaded 100000 equations from the disk.\n",
      "SLURM job: False\n",
      "0 - Number of nodes: 1\n",
      "0 - Node ID        : 0\n",
      "0 - Local rank     : 0\n",
      "0 - Global rank    : 0\n",
      "0 - World size     : 1\n",
      "0 - GPUs per node  : 1\n",
      "0 - Master         : True\n",
      "0 - Multi-node     : False\n",
      "0 - Multi-GPU      : False\n",
      "0 - Hostname       : compute-server-1\n"
     ]
    },
    {
     "name": "stdout",
     "output_type": "stream",
     "text": [
      "INFO - 07/22/25 19:12:33 - 0:00:03 - (128/20000) Found 53/128 valid top-1 predictions. Generating solutions ...\n",
      "INFO - 07/22/25 19:12:33 - 0:00:03 -     Found 53/128 solutions in beam hypotheses.\n"
     ]
    },
    {
     "name": "stdout",
     "output_type": "stream",
     "text": [
      "INFO - 07/22/25 19:12:33 - 0:00:03 - (256/20000) Found 49/128 valid top-1 predictions. Generating solutions ...\n",
      "INFO - 07/22/25 19:12:33 - 0:00:03 -     Found 49/128 solutions in beam hypotheses.\n"
     ]
    },
    {
     "name": "stdout",
     "output_type": "stream",
     "text": [
      "INFO - 07/22/25 19:12:34 - 0:00:03 - (384/20000) Found 46/128 valid top-1 predictions. Generating solutions ...\n",
      "INFO - 07/22/25 19:12:34 - 0:00:03 -     Found 46/128 solutions in beam hypotheses.\n"
     ]
    },
    {
     "name": "stdout",
     "output_type": "stream",
     "text": [
      "INFO - 07/22/25 19:12:34 - 0:00:03 - (512/20000) Found 48/128 valid top-1 predictions. Generating solutions ...\n",
      "INFO - 07/22/25 19:12:34 - 0:00:03 -     Found 48/128 solutions in beam hypotheses.\n"
     ]
    },
    {
     "name": "stdout",
     "output_type": "stream",
     "text": [
      "INFO - 07/22/25 19:12:34 - 0:00:04 - (640/20000) Found 56/128 valid top-1 predictions. Generating solutions ...\n",
      "INFO - 07/22/25 19:12:34 - 0:00:04 -     Found 56/128 solutions in beam hypotheses.\n"
     ]
    },
    {
     "name": "stdout",
     "output_type": "stream",
     "text": [
      "INFO - 07/22/25 19:12:35 - 0:00:04 - (768/20000) Found 49/128 valid top-1 predictions. Generating solutions ...\n",
      "INFO - 07/22/25 19:12:35 - 0:00:04 -     Found 49/128 solutions in beam hypotheses.\n"
     ]
    },
    {
     "name": "stdout",
     "output_type": "stream",
     "text": [
      "INFO - 07/22/25 19:12:35 - 0:00:04 - (896/20000) Found 52/128 valid top-1 predictions. Generating solutions ...\n",
      "INFO - 07/22/25 19:12:35 - 0:00:04 -     Found 52/128 solutions in beam hypotheses.\n"
     ]
    },
    {
     "name": "stdout",
     "output_type": "stream",
     "text": [
      "INFO - 07/22/25 19:12:35 - 0:00:05 - (1024/20000) Found 58/128 valid top-1 predictions. Generating solutions ...\n",
      "INFO - 07/22/25 19:12:35 - 0:00:05 -     Found 58/128 solutions in beam hypotheses.\n"
     ]
    },
    {
     "name": "stdout",
     "output_type": "stream",
     "text": [
      "INFO - 07/22/25 19:12:35 - 0:00:05 - (1152/20000) Found 45/128 valid top-1 predictions. Generating solutions ...\n",
      "INFO - 07/22/25 19:12:35 - 0:00:05 -     Found 45/128 solutions in beam hypotheses.\n"
     ]
    },
    {
     "name": "stdout",
     "output_type": "stream",
     "text": [
      "INFO - 07/22/25 19:12:36 - 0:00:05 - (1280/20000) Found 54/128 valid top-1 predictions. Generating solutions ...\n",
      "INFO - 07/22/25 19:12:36 - 0:00:05 -     Found 54/128 solutions in beam hypotheses.\n"
     ]
    },
    {
     "name": "stdout",
     "output_type": "stream",
     "text": [
      "INFO - 07/22/25 19:12:36 - 0:00:05 - (1408/20000) Found 63/128 valid top-1 predictions. Generating solutions ...\n",
      "INFO - 07/22/25 19:12:36 - 0:00:05 -     Found 63/128 solutions in beam hypotheses.\n"
     ]
    },
    {
     "name": "stdout",
     "output_type": "stream",
     "text": [
      "INFO - 07/22/25 19:12:36 - 0:00:06 - (1536/20000) Found 47/128 valid top-1 predictions. Generating solutions ...\n",
      "INFO - 07/22/25 19:12:36 - 0:00:06 -     Found 47/128 solutions in beam hypotheses.\n"
     ]
    },
    {
     "name": "stdout",
     "output_type": "stream",
     "text": [
      "INFO - 07/22/25 19:12:37 - 0:00:06 - (1664/20000) Found 50/128 valid top-1 predictions. Generating solutions ...\n",
      "INFO - 07/22/25 19:12:37 - 0:00:06 -     Found 50/128 solutions in beam hypotheses.\n"
     ]
    },
    {
     "name": "stdout",
     "output_type": "stream",
     "text": [
      "INFO - 07/22/25 19:12:37 - 0:00:06 - (1792/20000) Found 54/128 valid top-1 predictions. Generating solutions ...\n",
      "INFO - 07/22/25 19:12:37 - 0:00:06 -     Found 54/128 solutions in beam hypotheses.\n"
     ]
    },
    {
     "name": "stdout",
     "output_type": "stream",
     "text": [
      "INFO - 07/22/25 19:12:37 - 0:00:07 - (1920/20000) Found 41/128 valid top-1 predictions. Generating solutions ...\n",
      "INFO - 07/22/25 19:12:37 - 0:00:07 -     Found 41/128 solutions in beam hypotheses.\n"
     ]
    },
    {
     "name": "stdout",
     "output_type": "stream",
     "text": [
      "INFO - 07/22/25 19:12:37 - 0:00:07 - (2048/20000) Found 47/128 valid top-1 predictions. Generating solutions ...\n",
      "INFO - 07/22/25 19:12:37 - 0:00:07 -     Found 47/128 solutions in beam hypotheses.\n"
     ]
    },
    {
     "name": "stdout",
     "output_type": "stream",
     "text": [
      "INFO - 07/22/25 19:12:38 - 0:00:07 - (2176/20000) Found 52/128 valid top-1 predictions. Generating solutions ...\n",
      "INFO - 07/22/25 19:12:38 - 0:00:07 -     Found 52/128 solutions in beam hypotheses.\n"
     ]
    },
    {
     "name": "stdout",
     "output_type": "stream",
     "text": [
      "INFO - 07/22/25 19:12:38 - 0:00:07 - (2304/20000) Found 50/128 valid top-1 predictions. Generating solutions ...\n",
      "INFO - 07/22/25 19:12:38 - 0:00:07 -     Found 50/128 solutions in beam hypotheses.\n"
     ]
    },
    {
     "name": "stdout",
     "output_type": "stream",
     "text": [
      "INFO - 07/22/25 19:12:38 - 0:00:08 - (2432/20000) Found 47/128 valid top-1 predictions. Generating solutions ...\n",
      "INFO - 07/22/25 19:12:38 - 0:00:08 -     Found 47/128 solutions in beam hypotheses.\n"
     ]
    },
    {
     "name": "stdout",
     "output_type": "stream",
     "text": [
      "INFO - 07/22/25 19:12:39 - 0:00:08 - (2560/20000) Found 53/128 valid top-1 predictions. Generating solutions ...\n",
      "INFO - 07/22/25 19:12:39 - 0:00:08 -     Found 53/128 solutions in beam hypotheses.\n"
     ]
    },
    {
     "name": "stdout",
     "output_type": "stream",
     "text": [
      "INFO - 07/22/25 19:12:39 - 0:00:08 - (2688/20000) Found 49/128 valid top-1 predictions. Generating solutions ...\n",
      "INFO - 07/22/25 19:12:39 - 0:00:08 -     Found 49/128 solutions in beam hypotheses.\n"
     ]
    },
    {
     "name": "stdout",
     "output_type": "stream",
     "text": [
      "INFO - 07/22/25 19:12:39 - 0:00:09 - (2816/20000) Found 51/128 valid top-1 predictions. Generating solutions ...\n",
      "INFO - 07/22/25 19:12:39 - 0:00:09 -     Found 51/128 solutions in beam hypotheses.\n"
     ]
    },
    {
     "name": "stdout",
     "output_type": "stream",
     "text": [
      "INFO - 07/22/25 19:12:39 - 0:00:09 - (2944/20000) Found 46/128 valid top-1 predictions. Generating solutions ...\n",
      "INFO - 07/22/25 19:12:39 - 0:00:09 -     Found 46/128 solutions in beam hypotheses.\n"
     ]
    },
    {
     "name": "stdout",
     "output_type": "stream",
     "text": [
      "INFO - 07/22/25 19:12:40 - 0:00:09 - (3072/20000) Found 49/128 valid top-1 predictions. Generating solutions ...\n",
      "INFO - 07/22/25 19:12:40 - 0:00:09 -     Found 49/128 solutions in beam hypotheses.\n"
     ]
    },
    {
     "name": "stdout",
     "output_type": "stream",
     "text": [
      "INFO - 07/22/25 19:12:40 - 0:00:09 - (3200/20000) Found 47/128 valid top-1 predictions. Generating solutions ...\n",
      "INFO - 07/22/25 19:12:40 - 0:00:09 -     Found 47/128 solutions in beam hypotheses.\n"
     ]
    },
    {
     "name": "stdout",
     "output_type": "stream",
     "text": [
      "INFO - 07/22/25 19:12:40 - 0:00:10 - (3328/20000) Found 46/128 valid top-1 predictions. Generating solutions ...\n",
      "INFO - 07/22/25 19:12:40 - 0:00:10 -     Found 46/128 solutions in beam hypotheses.\n"
     ]
    },
    {
     "name": "stdout",
     "output_type": "stream",
     "text": [
      "INFO - 07/22/25 19:12:40 - 0:00:10 - (3456/20000) Found 50/128 valid top-1 predictions. Generating solutions ...\n",
      "INFO - 07/22/25 19:12:41 - 0:00:10 -     Found 50/128 solutions in beam hypotheses.\n"
     ]
    },
    {
     "name": "stdout",
     "output_type": "stream",
     "text": [
      "INFO - 07/22/25 19:12:41 - 0:00:10 - (3584/20000) Found 49/128 valid top-1 predictions. Generating solutions ...\n",
      "INFO - 07/22/25 19:12:41 - 0:00:10 -     Found 49/128 solutions in beam hypotheses.\n"
     ]
    },
    {
     "name": "stdout",
     "output_type": "stream",
     "text": [
      "INFO - 07/22/25 19:12:41 - 0:00:10 - (3712/20000) Found 42/128 valid top-1 predictions. Generating solutions ...\n",
      "INFO - 07/22/25 19:12:41 - 0:00:11 -     Found 42/128 solutions in beam hypotheses.\n"
     ]
    },
    {
     "name": "stdout",
     "output_type": "stream",
     "text": [
      "INFO - 07/22/25 19:12:41 - 0:00:11 - (3840/20000) Found 55/128 valid top-1 predictions. Generating solutions ...\n",
      "INFO - 07/22/25 19:12:41 - 0:00:11 -     Found 55/128 solutions in beam hypotheses.\n"
     ]
    },
    {
     "name": "stdout",
     "output_type": "stream",
     "text": [
      "INFO - 07/22/25 19:12:42 - 0:00:11 - (3968/20000) Found 50/128 valid top-1 predictions. Generating solutions ...\n",
      "INFO - 07/22/25 19:12:42 - 0:00:11 -     Found 50/128 solutions in beam hypotheses.\n"
     ]
    },
    {
     "name": "stdout",
     "output_type": "stream",
     "text": [
      "INFO - 07/22/25 19:12:42 - 0:00:11 - (4096/20000) Found 57/128 valid top-1 predictions. Generating solutions ...\n",
      "INFO - 07/22/25 19:12:42 - 0:00:11 -     Found 57/128 solutions in beam hypotheses.\n"
     ]
    },
    {
     "name": "stdout",
     "output_type": "stream",
     "text": [
      "INFO - 07/22/25 19:12:42 - 0:00:12 - (4224/20000) Found 50/128 valid top-1 predictions. Generating solutions ...\n",
      "INFO - 07/22/25 19:12:42 - 0:00:12 -     Found 50/128 solutions in beam hypotheses.\n"
     ]
    },
    {
     "name": "stdout",
     "output_type": "stream",
     "text": [
      "INFO - 07/22/25 19:12:42 - 0:00:12 - (4352/20000) Found 48/128 valid top-1 predictions. Generating solutions ...\n",
      "INFO - 07/22/25 19:12:43 - 0:00:12 -     Found 48/128 solutions in beam hypotheses.\n"
     ]
    },
    {
     "name": "stdout",
     "output_type": "stream",
     "text": [
      "INFO - 07/22/25 19:12:43 - 0:00:12 - (4480/20000) Found 48/128 valid top-1 predictions. Generating solutions ...\n",
      "INFO - 07/22/25 19:12:43 - 0:00:12 -     Found 48/128 solutions in beam hypotheses.\n"
     ]
    },
    {
     "name": "stdout",
     "output_type": "stream",
     "text": [
      "INFO - 07/22/25 19:12:43 - 0:00:12 - (4608/20000) Found 48/128 valid top-1 predictions. Generating solutions ...\n",
      "INFO - 07/22/25 19:12:43 - 0:00:13 -     Found 48/128 solutions in beam hypotheses.\n"
     ]
    },
    {
     "name": "stdout",
     "output_type": "stream",
     "text": [
      "INFO - 07/22/25 19:12:43 - 0:00:13 - (4736/20000) Found 44/128 valid top-1 predictions. Generating solutions ...\n",
      "INFO - 07/22/25 19:12:43 - 0:00:13 -     Found 44/128 solutions in beam hypotheses.\n"
     ]
    },
    {
     "name": "stdout",
     "output_type": "stream",
     "text": [
      "INFO - 07/22/25 19:12:44 - 0:00:13 - (4864/20000) Found 41/128 valid top-1 predictions. Generating solutions ...\n",
      "INFO - 07/22/25 19:12:44 - 0:00:13 -     Found 41/128 solutions in beam hypotheses.\n"
     ]
    },
    {
     "name": "stdout",
     "output_type": "stream",
     "text": [
      "INFO - 07/22/25 19:12:44 - 0:00:13 - (4992/20000) Found 44/128 valid top-1 predictions. Generating solutions ...\n",
      "INFO - 07/22/25 19:12:44 - 0:00:13 -     Found 44/128 solutions in beam hypotheses.\n"
     ]
    },
    {
     "name": "stdout",
     "output_type": "stream",
     "text": [
      "INFO - 07/22/25 19:12:44 - 0:00:14 - (5120/20000) Found 46/128 valid top-1 predictions. Generating solutions ...\n",
      "INFO - 07/22/25 19:12:44 - 0:00:14 -     Found 46/128 solutions in beam hypotheses.\n"
     ]
    },
    {
     "name": "stdout",
     "output_type": "stream",
     "text": [
      "INFO - 07/22/25 19:12:44 - 0:00:14 - (5248/20000) Found 42/128 valid top-1 predictions. Generating solutions ...\n",
      "INFO - 07/22/25 19:12:44 - 0:00:14 -     Found 42/128 solutions in beam hypotheses.\n"
     ]
    },
    {
     "name": "stdout",
     "output_type": "stream",
     "text": [
      "INFO - 07/22/25 19:12:45 - 0:00:14 - (5376/20000) Found 46/128 valid top-1 predictions. Generating solutions ...\n",
      "INFO - 07/22/25 19:12:45 - 0:00:14 -     Found 46/128 solutions in beam hypotheses.\n"
     ]
    },
    {
     "name": "stdout",
     "output_type": "stream",
     "text": [
      "INFO - 07/22/25 19:12:45 - 0:00:14 - (5504/20000) Found 46/128 valid top-1 predictions. Generating solutions ...\n",
      "INFO - 07/22/25 19:12:45 - 0:00:14 -     Found 46/128 solutions in beam hypotheses.\n"
     ]
    },
    {
     "name": "stdout",
     "output_type": "stream",
     "text": [
      "INFO - 07/22/25 19:12:45 - 0:00:15 - (5632/20000) Found 44/128 valid top-1 predictions. Generating solutions ...\n",
      "INFO - 07/22/25 19:12:45 - 0:00:15 -     Found 44/128 solutions in beam hypotheses.\n"
     ]
    },
    {
     "name": "stdout",
     "output_type": "stream",
     "text": [
      "INFO - 07/22/25 19:12:46 - 0:00:15 - (5760/20000) Found 46/128 valid top-1 predictions. Generating solutions ...\n",
      "INFO - 07/22/25 19:12:46 - 0:00:15 -     Found 46/128 solutions in beam hypotheses.\n"
     ]
    },
    {
     "name": "stdout",
     "output_type": "stream",
     "text": [
      "INFO - 07/22/25 19:12:46 - 0:00:15 - (5888/20000) Found 45/128 valid top-1 predictions. Generating solutions ...\n",
      "INFO - 07/22/25 19:12:46 - 0:00:15 -     Found 45/128 solutions in beam hypotheses.\n"
     ]
    },
    {
     "name": "stdout",
     "output_type": "stream",
     "text": [
      "INFO - 07/22/25 19:12:46 - 0:00:16 - (6016/20000) Found 55/128 valid top-1 predictions. Generating solutions ...\n",
      "INFO - 07/22/25 19:12:46 - 0:00:16 -     Found 55/128 solutions in beam hypotheses.\n"
     ]
    },
    {
     "name": "stdout",
     "output_type": "stream",
     "text": [
      "INFO - 07/22/25 19:12:46 - 0:00:16 - (6144/20000) Found 48/128 valid top-1 predictions. Generating solutions ...\n",
      "INFO - 07/22/25 19:12:46 - 0:00:16 -     Found 48/128 solutions in beam hypotheses.\n"
     ]
    },
    {
     "name": "stdout",
     "output_type": "stream",
     "text": [
      "INFO - 07/22/25 19:12:47 - 0:00:16 - (6272/20000) Found 44/128 valid top-1 predictions. Generating solutions ...\n",
      "INFO - 07/22/25 19:12:47 - 0:00:16 -     Found 44/128 solutions in beam hypotheses.\n"
     ]
    },
    {
     "name": "stdout",
     "output_type": "stream",
     "text": [
      "INFO - 07/22/25 19:12:47 - 0:00:16 - (6400/20000) Found 55/128 valid top-1 predictions. Generating solutions ...\n",
      "INFO - 07/22/25 19:12:47 - 0:00:16 -     Found 55/128 solutions in beam hypotheses.\n"
     ]
    },
    {
     "name": "stdout",
     "output_type": "stream",
     "text": [
      "INFO - 07/22/25 19:12:47 - 0:00:17 - (6528/20000) Found 57/128 valid top-1 predictions. Generating solutions ...\n",
      "INFO - 07/22/25 19:12:47 - 0:00:17 -     Found 57/128 solutions in beam hypotheses.\n"
     ]
    },
    {
     "name": "stdout",
     "output_type": "stream",
     "text": [
      "INFO - 07/22/25 19:12:48 - 0:00:17 - (6656/20000) Found 56/128 valid top-1 predictions. Generating solutions ...\n",
      "INFO - 07/22/25 19:12:48 - 0:00:17 -     Found 56/128 solutions in beam hypotheses.\n"
     ]
    },
    {
     "name": "stdout",
     "output_type": "stream",
     "text": [
      "INFO - 07/22/25 19:12:48 - 0:00:17 - (6784/20000) Found 53/128 valid top-1 predictions. Generating solutions ...\n",
      "INFO - 07/22/25 19:12:48 - 0:00:17 -     Found 53/128 solutions in beam hypotheses.\n"
     ]
    },
    {
     "name": "stdout",
     "output_type": "stream",
     "text": [
      "INFO - 07/22/25 19:12:48 - 0:00:18 - (6912/20000) Found 54/128 valid top-1 predictions. Generating solutions ...\n",
      "INFO - 07/22/25 19:12:48 - 0:00:18 -     Found 54/128 solutions in beam hypotheses.\n"
     ]
    },
    {
     "name": "stdout",
     "output_type": "stream",
     "text": [
      "INFO - 07/22/25 19:12:48 - 0:00:18 - (7040/20000) Found 55/128 valid top-1 predictions. Generating solutions ...\n",
      "INFO - 07/22/25 19:12:48 - 0:00:18 -     Found 55/128 solutions in beam hypotheses.\n"
     ]
    },
    {
     "name": "stdout",
     "output_type": "stream",
     "text": [
      "INFO - 07/22/25 19:12:49 - 0:00:18 - (7168/20000) Found 45/128 valid top-1 predictions. Generating solutions ...\n",
      "INFO - 07/22/25 19:12:49 - 0:00:18 -     Found 45/128 solutions in beam hypotheses.\n"
     ]
    },
    {
     "name": "stdout",
     "output_type": "stream",
     "text": [
      "INFO - 07/22/25 19:12:49 - 0:00:18 - (7296/20000) Found 56/128 valid top-1 predictions. Generating solutions ...\n",
      "INFO - 07/22/25 19:12:49 - 0:00:18 -     Found 56/128 solutions in beam hypotheses.\n"
     ]
    },
    {
     "name": "stdout",
     "output_type": "stream",
     "text": [
      "INFO - 07/22/25 19:12:49 - 0:00:19 - (7424/20000) Found 60/128 valid top-1 predictions. Generating solutions ...\n",
      "INFO - 07/22/25 19:12:49 - 0:00:19 -     Found 60/128 solutions in beam hypotheses.\n"
     ]
    },
    {
     "name": "stdout",
     "output_type": "stream",
     "text": [
      "INFO - 07/22/25 19:12:50 - 0:00:19 - (7552/20000) Found 51/128 valid top-1 predictions. Generating solutions ...\n",
      "INFO - 07/22/25 19:12:50 - 0:00:19 -     Found 51/128 solutions in beam hypotheses.\n"
     ]
    },
    {
     "name": "stdout",
     "output_type": "stream",
     "text": [
      "INFO - 07/22/25 19:12:50 - 0:00:19 - (7680/20000) Found 48/128 valid top-1 predictions. Generating solutions ...\n",
      "INFO - 07/22/25 19:12:50 - 0:00:19 -     Found 48/128 solutions in beam hypotheses.\n"
     ]
    },
    {
     "name": "stdout",
     "output_type": "stream",
     "text": [
      "INFO - 07/22/25 19:12:50 - 0:00:20 - (7808/20000) Found 47/128 valid top-1 predictions. Generating solutions ...\n",
      "INFO - 07/22/25 19:12:50 - 0:00:20 -     Found 47/128 solutions in beam hypotheses.\n"
     ]
    },
    {
     "name": "stdout",
     "output_type": "stream",
     "text": [
      "INFO - 07/22/25 19:12:50 - 0:00:20 - (7936/20000) Found 49/128 valid top-1 predictions. Generating solutions ...\n",
      "INFO - 07/22/25 19:12:50 - 0:00:20 -     Found 49/128 solutions in beam hypotheses.\n"
     ]
    },
    {
     "name": "stdout",
     "output_type": "stream",
     "text": [
      "INFO - 07/22/25 19:12:51 - 0:00:20 - (8064/20000) Found 46/128 valid top-1 predictions. Generating solutions ...\n",
      "INFO - 07/22/25 19:12:51 - 0:00:20 -     Found 46/128 solutions in beam hypotheses.\n"
     ]
    },
    {
     "name": "stdout",
     "output_type": "stream",
     "text": [
      "INFO - 07/22/25 19:12:51 - 0:00:20 - (8192/20000) Found 50/128 valid top-1 predictions. Generating solutions ...\n",
      "INFO - 07/22/25 19:12:51 - 0:00:20 -     Found 50/128 solutions in beam hypotheses.\n"
     ]
    },
    {
     "name": "stdout",
     "output_type": "stream",
     "text": [
      "INFO - 07/22/25 19:12:51 - 0:00:21 - (8320/20000) Found 37/128 valid top-1 predictions. Generating solutions ...\n",
      "INFO - 07/22/25 19:12:51 - 0:00:21 -     Found 37/128 solutions in beam hypotheses.\n"
     ]
    },
    {
     "name": "stdout",
     "output_type": "stream",
     "text": [
      "INFO - 07/22/25 19:12:52 - 0:00:21 - (8448/20000) Found 54/128 valid top-1 predictions. Generating solutions ...\n",
      "INFO - 07/22/25 19:12:52 - 0:00:21 -     Found 54/128 solutions in beam hypotheses.\n"
     ]
    },
    {
     "name": "stdout",
     "output_type": "stream",
     "text": [
      "INFO - 07/22/25 19:12:52 - 0:00:21 - (8576/20000) Found 57/128 valid top-1 predictions. Generating solutions ...\n",
      "INFO - 07/22/25 19:12:52 - 0:00:21 -     Found 57/128 solutions in beam hypotheses.\n"
     ]
    },
    {
     "name": "stdout",
     "output_type": "stream",
     "text": [
      "INFO - 07/22/25 19:12:52 - 0:00:22 - (8704/20000) Found 50/128 valid top-1 predictions. Generating solutions ...\n",
      "INFO - 07/22/25 19:12:52 - 0:00:22 -     Found 50/128 solutions in beam hypotheses.\n"
     ]
    },
    {
     "name": "stdout",
     "output_type": "stream",
     "text": [
      "INFO - 07/22/25 19:12:52 - 0:00:22 - (8832/20000) Found 57/128 valid top-1 predictions. Generating solutions ...\n",
      "INFO - 07/22/25 19:12:52 - 0:00:22 -     Found 57/128 solutions in beam hypotheses.\n"
     ]
    },
    {
     "name": "stdout",
     "output_type": "stream",
     "text": [
      "INFO - 07/22/25 19:12:53 - 0:00:22 - (8960/20000) Found 44/128 valid top-1 predictions. Generating solutions ...\n",
      "INFO - 07/22/25 19:12:53 - 0:00:22 -     Found 44/128 solutions in beam hypotheses.\n"
     ]
    },
    {
     "name": "stdout",
     "output_type": "stream",
     "text": [
      "INFO - 07/22/25 19:12:53 - 0:00:22 - (9088/20000) Found 44/128 valid top-1 predictions. Generating solutions ...\n",
      "INFO - 07/22/25 19:12:53 - 0:00:22 -     Found 44/128 solutions in beam hypotheses.\n"
     ]
    },
    {
     "name": "stdout",
     "output_type": "stream",
     "text": [
      "INFO - 07/22/25 19:12:53 - 0:00:23 - (9216/20000) Found 37/128 valid top-1 predictions. Generating solutions ...\n",
      "INFO - 07/22/25 19:12:53 - 0:00:23 -     Found 37/128 solutions in beam hypotheses.\n"
     ]
    },
    {
     "name": "stdout",
     "output_type": "stream",
     "text": [
      "INFO - 07/22/25 19:12:54 - 0:00:23 - (9344/20000) Found 54/128 valid top-1 predictions. Generating solutions ...\n",
      "INFO - 07/22/25 19:12:54 - 0:00:23 -     Found 54/128 solutions in beam hypotheses.\n"
     ]
    },
    {
     "name": "stdout",
     "output_type": "stream",
     "text": [
      "INFO - 07/22/25 19:12:54 - 0:00:23 - (9472/20000) Found 53/128 valid top-1 predictions. Generating solutions ...\n",
      "INFO - 07/22/25 19:12:54 - 0:00:23 -     Found 53/128 solutions in beam hypotheses.\n"
     ]
    },
    {
     "name": "stdout",
     "output_type": "stream",
     "text": [
      "INFO - 07/22/25 19:12:54 - 0:00:24 - (9600/20000) Found 36/128 valid top-1 predictions. Generating solutions ...\n",
      "INFO - 07/22/25 19:12:54 - 0:00:24 -     Found 36/128 solutions in beam hypotheses.\n"
     ]
    },
    {
     "name": "stdout",
     "output_type": "stream",
     "text": [
      "INFO - 07/22/25 19:12:54 - 0:00:24 - (9728/20000) Found 46/128 valid top-1 predictions. Generating solutions ...\n",
      "INFO - 07/22/25 19:12:54 - 0:00:24 -     Found 46/128 solutions in beam hypotheses.\n"
     ]
    },
    {
     "name": "stdout",
     "output_type": "stream",
     "text": [
      "INFO - 07/22/25 19:12:55 - 0:00:24 - (9856/20000) Found 51/128 valid top-1 predictions. Generating solutions ...\n",
      "INFO - 07/22/25 19:12:55 - 0:00:24 -     Found 51/128 solutions in beam hypotheses.\n"
     ]
    },
    {
     "name": "stdout",
     "output_type": "stream",
     "text": [
      "INFO - 07/22/25 19:12:55 - 0:00:24 - (9984/20000) Found 34/128 valid top-1 predictions. Generating solutions ...\n",
      "INFO - 07/22/25 19:12:55 - 0:00:24 -     Found 34/128 solutions in beam hypotheses.\n"
     ]
    },
    {
     "name": "stdout",
     "output_type": "stream",
     "text": [
      "INFO - 07/22/25 19:12:55 - 0:00:25 - (10112/20000) Found 47/128 valid top-1 predictions. Generating solutions ...\n",
      "INFO - 07/22/25 19:12:55 - 0:00:25 -     Found 47/128 solutions in beam hypotheses.\n"
     ]
    },
    {
     "name": "stdout",
     "output_type": "stream",
     "text": [
      "INFO - 07/22/25 19:12:56 - 0:00:25 - (10240/20000) Found 50/128 valid top-1 predictions. Generating solutions ...\n",
      "INFO - 07/22/25 19:12:56 - 0:00:25 -     Found 50/128 solutions in beam hypotheses.\n"
     ]
    },
    {
     "name": "stdout",
     "output_type": "stream",
     "text": [
      "INFO - 07/22/25 19:12:56 - 0:00:25 - (10368/20000) Found 51/128 valid top-1 predictions. Generating solutions ...\n",
      "INFO - 07/22/25 19:12:56 - 0:00:25 -     Found 51/128 solutions in beam hypotheses.\n"
     ]
    },
    {
     "name": "stdout",
     "output_type": "stream",
     "text": [
      "INFO - 07/22/25 19:12:56 - 0:00:26 - (10496/20000) Found 46/128 valid top-1 predictions. Generating solutions ...\n",
      "INFO - 07/22/25 19:12:56 - 0:00:26 -     Found 46/128 solutions in beam hypotheses.\n"
     ]
    },
    {
     "name": "stdout",
     "output_type": "stream",
     "text": [
      "INFO - 07/22/25 19:12:56 - 0:00:26 - (10624/20000) Found 52/128 valid top-1 predictions. Generating solutions ...\n",
      "INFO - 07/22/25 19:12:56 - 0:00:26 -     Found 52/128 solutions in beam hypotheses.\n"
     ]
    },
    {
     "name": "stdout",
     "output_type": "stream",
     "text": [
      "INFO - 07/22/25 19:12:57 - 0:00:26 - (10752/20000) Found 46/128 valid top-1 predictions. Generating solutions ...\n",
      "INFO - 07/22/25 19:12:57 - 0:00:26 -     Found 46/128 solutions in beam hypotheses.\n"
     ]
    },
    {
     "name": "stdout",
     "output_type": "stream",
     "text": [
      "INFO - 07/22/25 19:12:57 - 0:00:26 - (10880/20000) Found 52/128 valid top-1 predictions. Generating solutions ...\n",
      "INFO - 07/22/25 19:12:57 - 0:00:26 -     Found 52/128 solutions in beam hypotheses.\n"
     ]
    },
    {
     "name": "stdout",
     "output_type": "stream",
     "text": [
      "INFO - 07/22/25 19:12:57 - 0:00:27 - (11008/20000) Found 56/128 valid top-1 predictions. Generating solutions ...\n",
      "INFO - 07/22/25 19:12:57 - 0:00:27 -     Found 56/128 solutions in beam hypotheses.\n"
     ]
    },
    {
     "name": "stdout",
     "output_type": "stream",
     "text": [
      "INFO - 07/22/25 19:12:58 - 0:00:27 - (11136/20000) Found 59/128 valid top-1 predictions. Generating solutions ...\n",
      "INFO - 07/22/25 19:12:58 - 0:00:27 -     Found 59/128 solutions in beam hypotheses.\n"
     ]
    },
    {
     "name": "stdout",
     "output_type": "stream",
     "text": [
      "INFO - 07/22/25 19:12:58 - 0:00:27 - (11264/20000) Found 45/128 valid top-1 predictions. Generating solutions ...\n",
      "INFO - 07/22/25 19:12:58 - 0:00:27 -     Found 45/128 solutions in beam hypotheses.\n"
     ]
    },
    {
     "name": "stdout",
     "output_type": "stream",
     "text": [
      "INFO - 07/22/25 19:12:58 - 0:00:28 - (11392/20000) Found 57/128 valid top-1 predictions. Generating solutions ...\n",
      "INFO - 07/22/25 19:12:58 - 0:00:28 -     Found 57/128 solutions in beam hypotheses.\n"
     ]
    },
    {
     "name": "stdout",
     "output_type": "stream",
     "text": [
      "INFO - 07/22/25 19:12:58 - 0:00:28 - (11520/20000) Found 52/128 valid top-1 predictions. Generating solutions ...\n",
      "INFO - 07/22/25 19:12:58 - 0:00:28 -     Found 52/128 solutions in beam hypotheses.\n"
     ]
    },
    {
     "name": "stdout",
     "output_type": "stream",
     "text": [
      "INFO - 07/22/25 19:12:59 - 0:00:28 - (11648/20000) Found 54/128 valid top-1 predictions. Generating solutions ...\n",
      "INFO - 07/22/25 19:12:59 - 0:00:28 -     Found 54/128 solutions in beam hypotheses.\n"
     ]
    },
    {
     "name": "stdout",
     "output_type": "stream",
     "text": [
      "INFO - 07/22/25 19:12:59 - 0:00:28 - (11776/20000) Found 43/128 valid top-1 predictions. Generating solutions ...\n",
      "INFO - 07/22/25 19:12:59 - 0:00:28 -     Found 43/128 solutions in beam hypotheses.\n"
     ]
    },
    {
     "name": "stdout",
     "output_type": "stream",
     "text": [
      "INFO - 07/22/25 19:12:59 - 0:00:29 - (11904/20000) Found 45/128 valid top-1 predictions. Generating solutions ...\n",
      "INFO - 07/22/25 19:12:59 - 0:00:29 -     Found 45/128 solutions in beam hypotheses.\n"
     ]
    },
    {
     "name": "stdout",
     "output_type": "stream",
     "text": [
      "INFO - 07/22/25 19:13:00 - 0:00:29 - (12032/20000) Found 53/128 valid top-1 predictions. Generating solutions ...\n",
      "INFO - 07/22/25 19:13:00 - 0:00:29 -     Found 53/128 solutions in beam hypotheses.\n"
     ]
    },
    {
     "name": "stdout",
     "output_type": "stream",
     "text": [
      "INFO - 07/22/25 19:13:00 - 0:00:29 - (12160/20000) Found 54/128 valid top-1 predictions. Generating solutions ...\n",
      "INFO - 07/22/25 19:13:00 - 0:00:29 -     Found 54/128 solutions in beam hypotheses.\n"
     ]
    },
    {
     "name": "stdout",
     "output_type": "stream",
     "text": [
      "INFO - 07/22/25 19:13:00 - 0:00:30 - (12288/20000) Found 48/128 valid top-1 predictions. Generating solutions ...\n",
      "INFO - 07/22/25 19:13:00 - 0:00:30 -     Found 48/128 solutions in beam hypotheses.\n"
     ]
    },
    {
     "name": "stdout",
     "output_type": "stream",
     "text": [
      "INFO - 07/22/25 19:13:00 - 0:00:30 - (12416/20000) Found 43/128 valid top-1 predictions. Generating solutions ...\n",
      "INFO - 07/22/25 19:13:00 - 0:00:30 -     Found 43/128 solutions in beam hypotheses.\n"
     ]
    },
    {
     "name": "stdout",
     "output_type": "stream",
     "text": [
      "INFO - 07/22/25 19:13:01 - 0:00:30 - (12544/20000) Found 60/128 valid top-1 predictions. Generating solutions ...\n",
      "INFO - 07/22/25 19:13:01 - 0:00:30 -     Found 60/128 solutions in beam hypotheses.\n"
     ]
    },
    {
     "name": "stdout",
     "output_type": "stream",
     "text": [
      "INFO - 07/22/25 19:13:01 - 0:00:30 - (12672/20000) Found 51/128 valid top-1 predictions. Generating solutions ...\n",
      "INFO - 07/22/25 19:13:01 - 0:00:30 -     Found 51/128 solutions in beam hypotheses.\n"
     ]
    },
    {
     "name": "stdout",
     "output_type": "stream",
     "text": [
      "INFO - 07/22/25 19:13:01 - 0:00:31 - (12800/20000) Found 44/128 valid top-1 predictions. Generating solutions ...\n",
      "INFO - 07/22/25 19:13:01 - 0:00:31 -     Found 44/128 solutions in beam hypotheses.\n"
     ]
    },
    {
     "name": "stdout",
     "output_type": "stream",
     "text": [
      "INFO - 07/22/25 19:13:02 - 0:00:31 - (12928/20000) Found 56/128 valid top-1 predictions. Generating solutions ...\n",
      "INFO - 07/22/25 19:13:02 - 0:00:31 -     Found 56/128 solutions in beam hypotheses.\n"
     ]
    },
    {
     "name": "stdout",
     "output_type": "stream",
     "text": [
      "INFO - 07/22/25 19:13:02 - 0:00:31 - (13056/20000) Found 51/128 valid top-1 predictions. Generating solutions ...\n",
      "INFO - 07/22/25 19:13:02 - 0:00:31 -     Found 51/128 solutions in beam hypotheses.\n"
     ]
    },
    {
     "name": "stdout",
     "output_type": "stream",
     "text": [
      "INFO - 07/22/25 19:13:02 - 0:00:32 - (13184/20000) Found 35/128 valid top-1 predictions. Generating solutions ...\n",
      "INFO - 07/22/25 19:13:02 - 0:00:32 -     Found 35/128 solutions in beam hypotheses.\n"
     ]
    },
    {
     "name": "stdout",
     "output_type": "stream",
     "text": [
      "INFO - 07/22/25 19:13:02 - 0:00:32 - (13312/20000) Found 45/128 valid top-1 predictions. Generating solutions ...\n",
      "INFO - 07/22/25 19:13:02 - 0:00:32 -     Found 45/128 solutions in beam hypotheses.\n"
     ]
    },
    {
     "name": "stdout",
     "output_type": "stream",
     "text": [
      "INFO - 07/22/25 19:13:03 - 0:00:32 - (13440/20000) Found 49/128 valid top-1 predictions. Generating solutions ...\n",
      "INFO - 07/22/25 19:13:03 - 0:00:32 -     Found 49/128 solutions in beam hypotheses.\n"
     ]
    },
    {
     "name": "stdout",
     "output_type": "stream",
     "text": [
      "INFO - 07/22/25 19:13:03 - 0:00:32 - (13568/20000) Found 51/128 valid top-1 predictions. Generating solutions ...\n",
      "INFO - 07/22/25 19:13:03 - 0:00:32 -     Found 51/128 solutions in beam hypotheses.\n"
     ]
    },
    {
     "name": "stdout",
     "output_type": "stream",
     "text": [
      "INFO - 07/22/25 19:13:03 - 0:00:33 - (13696/20000) Found 43/128 valid top-1 predictions. Generating solutions ...\n",
      "INFO - 07/22/25 19:13:03 - 0:00:33 -     Found 43/128 solutions in beam hypotheses.\n"
     ]
    },
    {
     "name": "stdout",
     "output_type": "stream",
     "text": [
      "INFO - 07/22/25 19:13:04 - 0:00:33 - (13824/20000) Found 57/128 valid top-1 predictions. Generating solutions ...\n",
      "INFO - 07/22/25 19:13:04 - 0:00:33 -     Found 57/128 solutions in beam hypotheses.\n"
     ]
    },
    {
     "name": "stdout",
     "output_type": "stream",
     "text": [
      "INFO - 07/22/25 19:13:04 - 0:00:33 - (13952/20000) Found 40/128 valid top-1 predictions. Generating solutions ...\n",
      "INFO - 07/22/25 19:13:04 - 0:00:33 -     Found 40/128 solutions in beam hypotheses.\n"
     ]
    },
    {
     "name": "stdout",
     "output_type": "stream",
     "text": [
      "INFO - 07/22/25 19:13:04 - 0:00:34 - (14080/20000) Found 47/128 valid top-1 predictions. Generating solutions ...\n",
      "INFO - 07/22/25 19:13:04 - 0:00:34 -     Found 47/128 solutions in beam hypotheses.\n"
     ]
    },
    {
     "name": "stdout",
     "output_type": "stream",
     "text": [
      "INFO - 07/22/25 19:13:04 - 0:00:34 - (14208/20000) Found 55/128 valid top-1 predictions. Generating solutions ...\n",
      "INFO - 07/22/25 19:13:04 - 0:00:34 -     Found 55/128 solutions in beam hypotheses.\n"
     ]
    },
    {
     "name": "stdout",
     "output_type": "stream",
     "text": [
      "INFO - 07/22/25 19:13:05 - 0:00:34 - (14336/20000) Found 51/128 valid top-1 predictions. Generating solutions ...\n",
      "INFO - 07/22/25 19:13:05 - 0:00:34 -     Found 51/128 solutions in beam hypotheses.\n"
     ]
    },
    {
     "name": "stdout",
     "output_type": "stream",
     "text": [
      "INFO - 07/22/25 19:13:05 - 0:00:34 - (14464/20000) Found 52/128 valid top-1 predictions. Generating solutions ...\n",
      "INFO - 07/22/25 19:13:05 - 0:00:34 -     Found 52/128 solutions in beam hypotheses.\n"
     ]
    },
    {
     "name": "stdout",
     "output_type": "stream",
     "text": [
      "INFO - 07/22/25 19:13:05 - 0:00:35 - (14592/20000) Found 57/128 valid top-1 predictions. Generating solutions ...\n",
      "INFO - 07/22/25 19:13:05 - 0:00:35 -     Found 57/128 solutions in beam hypotheses.\n"
     ]
    },
    {
     "name": "stdout",
     "output_type": "stream",
     "text": [
      "INFO - 07/22/25 19:13:06 - 0:00:35 - (14720/20000) Found 56/128 valid top-1 predictions. Generating solutions ...\n",
      "INFO - 07/22/25 19:13:06 - 0:00:35 -     Found 56/128 solutions in beam hypotheses.\n"
     ]
    },
    {
     "name": "stdout",
     "output_type": "stream",
     "text": [
      "INFO - 07/22/25 19:13:06 - 0:00:35 - (14848/20000) Found 53/128 valid top-1 predictions. Generating solutions ...\n",
      "INFO - 07/22/25 19:13:06 - 0:00:35 -     Found 53/128 solutions in beam hypotheses.\n"
     ]
    },
    {
     "name": "stdout",
     "output_type": "stream",
     "text": [
      "INFO - 07/22/25 19:13:06 - 0:00:36 - (14976/20000) Found 53/128 valid top-1 predictions. Generating solutions ...\n",
      "INFO - 07/22/25 19:13:06 - 0:00:36 -     Found 53/128 solutions in beam hypotheses.\n"
     ]
    },
    {
     "name": "stdout",
     "output_type": "stream",
     "text": [
      "INFO - 07/22/25 19:13:06 - 0:00:36 - (15104/20000) Found 46/128 valid top-1 predictions. Generating solutions ...\n",
      "INFO - 07/22/25 19:13:06 - 0:00:36 -     Found 46/128 solutions in beam hypotheses.\n"
     ]
    },
    {
     "name": "stdout",
     "output_type": "stream",
     "text": [
      "INFO - 07/22/25 19:13:07 - 0:00:36 - (15232/20000) Found 49/128 valid top-1 predictions. Generating solutions ...\n",
      "INFO - 07/22/25 19:13:07 - 0:00:36 -     Found 49/128 solutions in beam hypotheses.\n"
     ]
    },
    {
     "name": "stdout",
     "output_type": "stream",
     "text": [
      "INFO - 07/22/25 19:13:07 - 0:00:36 - (15360/20000) Found 41/128 valid top-1 predictions. Generating solutions ...\n",
      "INFO - 07/22/25 19:13:07 - 0:00:36 -     Found 41/128 solutions in beam hypotheses.\n"
     ]
    },
    {
     "name": "stdout",
     "output_type": "stream",
     "text": [
      "INFO - 07/22/25 19:13:07 - 0:00:37 - (15488/20000) Found 52/128 valid top-1 predictions. Generating solutions ...\n",
      "INFO - 07/22/25 19:13:07 - 0:00:37 -     Found 52/128 solutions in beam hypotheses.\n"
     ]
    },
    {
     "name": "stdout",
     "output_type": "stream",
     "text": [
      "INFO - 07/22/25 19:13:08 - 0:00:37 - (15616/20000) Found 47/128 valid top-1 predictions. Generating solutions ...\n",
      "INFO - 07/22/25 19:13:08 - 0:00:37 -     Found 47/128 solutions in beam hypotheses.\n"
     ]
    },
    {
     "name": "stdout",
     "output_type": "stream",
     "text": [
      "INFO - 07/22/25 19:13:08 - 0:00:37 - (15744/20000) Found 50/128 valid top-1 predictions. Generating solutions ...\n",
      "INFO - 07/22/25 19:13:08 - 0:00:37 -     Found 50/128 solutions in beam hypotheses.\n"
     ]
    },
    {
     "name": "stdout",
     "output_type": "stream",
     "text": [
      "INFO - 07/22/25 19:13:08 - 0:00:38 - (15872/20000) Found 50/128 valid top-1 predictions. Generating solutions ...\n",
      "INFO - 07/22/25 19:13:08 - 0:00:38 -     Found 50/128 solutions in beam hypotheses.\n"
     ]
    },
    {
     "name": "stdout",
     "output_type": "stream",
     "text": [
      "INFO - 07/22/25 19:13:08 - 0:00:38 - (16000/20000) Found 41/128 valid top-1 predictions. Generating solutions ...\n",
      "INFO - 07/22/25 19:13:08 - 0:00:38 -     Found 41/128 solutions in beam hypotheses.\n"
     ]
    },
    {
     "name": "stdout",
     "output_type": "stream",
     "text": [
      "INFO - 07/22/25 19:13:09 - 0:00:38 - (16128/20000) Found 50/128 valid top-1 predictions. Generating solutions ...\n",
      "INFO - 07/22/25 19:13:09 - 0:00:38 -     Found 50/128 solutions in beam hypotheses.\n"
     ]
    },
    {
     "name": "stdout",
     "output_type": "stream",
     "text": [
      "INFO - 07/22/25 19:13:09 - 0:00:38 - (16256/20000) Found 45/128 valid top-1 predictions. Generating solutions ...\n",
      "INFO - 07/22/25 19:13:09 - 0:00:38 -     Found 45/128 solutions in beam hypotheses.\n"
     ]
    },
    {
     "name": "stdout",
     "output_type": "stream",
     "text": [
      "INFO - 07/22/25 19:13:09 - 0:00:39 - (16384/20000) Found 44/128 valid top-1 predictions. Generating solutions ...\n",
      "INFO - 07/22/25 19:13:09 - 0:00:39 -     Found 44/128 solutions in beam hypotheses.\n"
     ]
    },
    {
     "name": "stdout",
     "output_type": "stream",
     "text": [
      "INFO - 07/22/25 19:13:10 - 0:00:39 - (16512/20000) Found 42/128 valid top-1 predictions. Generating solutions ...\n",
      "INFO - 07/22/25 19:13:10 - 0:00:39 -     Found 42/128 solutions in beam hypotheses.\n"
     ]
    },
    {
     "name": "stdout",
     "output_type": "stream",
     "text": [
      "INFO - 07/22/25 19:13:10 - 0:00:39 - (16640/20000) Found 49/128 valid top-1 predictions. Generating solutions ...\n",
      "INFO - 07/22/25 19:13:10 - 0:00:39 -     Found 49/128 solutions in beam hypotheses.\n"
     ]
    },
    {
     "name": "stdout",
     "output_type": "stream",
     "text": [
      "INFO - 07/22/25 19:13:10 - 0:00:40 - (16768/20000) Found 45/128 valid top-1 predictions. Generating solutions ...\n",
      "INFO - 07/22/25 19:13:10 - 0:00:40 -     Found 45/128 solutions in beam hypotheses.\n"
     ]
    },
    {
     "name": "stdout",
     "output_type": "stream",
     "text": [
      "INFO - 07/22/25 19:13:10 - 0:00:40 - (16896/20000) Found 49/128 valid top-1 predictions. Generating solutions ...\n",
      "INFO - 07/22/25 19:13:11 - 0:00:40 -     Found 49/128 solutions in beam hypotheses.\n"
     ]
    },
    {
     "name": "stdout",
     "output_type": "stream",
     "text": [
      "INFO - 07/22/25 19:13:11 - 0:00:40 - (17024/20000) Found 48/128 valid top-1 predictions. Generating solutions ...\n",
      "INFO - 07/22/25 19:13:11 - 0:00:40 -     Found 48/128 solutions in beam hypotheses.\n"
     ]
    },
    {
     "name": "stdout",
     "output_type": "stream",
     "text": [
      "INFO - 07/22/25 19:13:11 - 0:00:40 - (17152/20000) Found 52/128 valid top-1 predictions. Generating solutions ...\n",
      "INFO - 07/22/25 19:13:11 - 0:00:41 -     Found 52/128 solutions in beam hypotheses.\n"
     ]
    },
    {
     "name": "stdout",
     "output_type": "stream",
     "text": [
      "INFO - 07/22/25 19:13:11 - 0:00:41 - (17280/20000) Found 49/128 valid top-1 predictions. Generating solutions ...\n",
      "INFO - 07/22/25 19:13:11 - 0:00:41 -     Found 49/128 solutions in beam hypotheses.\n"
     ]
    },
    {
     "name": "stdout",
     "output_type": "stream",
     "text": [
      "INFO - 07/22/25 19:13:12 - 0:00:41 - (17408/20000) Found 56/128 valid top-1 predictions. Generating solutions ...\n",
      "INFO - 07/22/25 19:13:12 - 0:00:41 -     Found 56/128 solutions in beam hypotheses.\n"
     ]
    },
    {
     "name": "stdout",
     "output_type": "stream",
     "text": [
      "INFO - 07/22/25 19:13:12 - 0:00:41 - (17536/20000) Found 46/128 valid top-1 predictions. Generating solutions ...\n",
      "INFO - 07/22/25 19:13:12 - 0:00:41 -     Found 46/128 solutions in beam hypotheses.\n"
     ]
    },
    {
     "name": "stdout",
     "output_type": "stream",
     "text": [
      "INFO - 07/22/25 19:13:12 - 0:00:42 - (17664/20000) Found 51/128 valid top-1 predictions. Generating solutions ...\n",
      "INFO - 07/22/25 19:13:12 - 0:00:42 -     Found 51/128 solutions in beam hypotheses.\n"
     ]
    },
    {
     "name": "stdout",
     "output_type": "stream",
     "text": [
      "INFO - 07/22/25 19:13:12 - 0:00:42 - (17792/20000) Found 47/128 valid top-1 predictions. Generating solutions ...\n",
      "INFO - 07/22/25 19:13:13 - 0:00:42 -     Found 47/128 solutions in beam hypotheses.\n"
     ]
    },
    {
     "name": "stdout",
     "output_type": "stream",
     "text": [
      "INFO - 07/22/25 19:13:13 - 0:00:42 - (17920/20000) Found 48/128 valid top-1 predictions. Generating solutions ...\n",
      "INFO - 07/22/25 19:13:13 - 0:00:42 -     Found 48/128 solutions in beam hypotheses.\n"
     ]
    },
    {
     "name": "stdout",
     "output_type": "stream",
     "text": [
      "INFO - 07/22/25 19:13:13 - 0:00:42 - (18048/20000) Found 48/128 valid top-1 predictions. Generating solutions ...\n",
      "INFO - 07/22/25 19:13:13 - 0:00:43 -     Found 48/128 solutions in beam hypotheses.\n"
     ]
    },
    {
     "name": "stdout",
     "output_type": "stream",
     "text": [
      "INFO - 07/22/25 19:13:13 - 0:00:43 - (18176/20000) Found 40/128 valid top-1 predictions. Generating solutions ...\n",
      "INFO - 07/22/25 19:13:13 - 0:00:43 -     Found 40/128 solutions in beam hypotheses.\n"
     ]
    },
    {
     "name": "stdout",
     "output_type": "stream",
     "text": [
      "INFO - 07/22/25 19:13:14 - 0:00:43 - (18304/20000) Found 55/128 valid top-1 predictions. Generating solutions ...\n",
      "INFO - 07/22/25 19:13:14 - 0:00:43 -     Found 55/128 solutions in beam hypotheses.\n"
     ]
    },
    {
     "name": "stdout",
     "output_type": "stream",
     "text": [
      "INFO - 07/22/25 19:13:14 - 0:00:43 - (18432/20000) Found 62/128 valid top-1 predictions. Generating solutions ...\n",
      "INFO - 07/22/25 19:13:14 - 0:00:43 -     Found 62/128 solutions in beam hypotheses.\n"
     ]
    },
    {
     "name": "stdout",
     "output_type": "stream",
     "text": [
      "INFO - 07/22/25 19:13:14 - 0:00:44 - (18560/20000) Found 47/128 valid top-1 predictions. Generating solutions ...\n",
      "INFO - 07/22/25 19:13:14 - 0:00:44 -     Found 47/128 solutions in beam hypotheses.\n"
     ]
    },
    {
     "name": "stdout",
     "output_type": "stream",
     "text": [
      "INFO - 07/22/25 19:13:15 - 0:00:44 - (18688/20000) Found 56/128 valid top-1 predictions. Generating solutions ...\n",
      "INFO - 07/22/25 19:13:15 - 0:00:44 -     Found 56/128 solutions in beam hypotheses.\n"
     ]
    },
    {
     "name": "stdout",
     "output_type": "stream",
     "text": [
      "INFO - 07/22/25 19:13:15 - 0:00:44 - (18816/20000) Found 47/128 valid top-1 predictions. Generating solutions ...\n",
      "INFO - 07/22/25 19:13:15 - 0:00:44 -     Found 47/128 solutions in beam hypotheses.\n"
     ]
    },
    {
     "name": "stdout",
     "output_type": "stream",
     "text": [
      "INFO - 07/22/25 19:13:15 - 0:00:45 - (18944/20000) Found 50/128 valid top-1 predictions. Generating solutions ...\n",
      "INFO - 07/22/25 19:13:15 - 0:00:45 -     Found 50/128 solutions in beam hypotheses.\n"
     ]
    },
    {
     "name": "stdout",
     "output_type": "stream",
     "text": [
      "INFO - 07/22/25 19:13:15 - 0:00:45 - (19072/20000) Found 43/128 valid top-1 predictions. Generating solutions ...\n",
      "INFO - 07/22/25 19:13:15 - 0:00:45 -     Found 43/128 solutions in beam hypotheses.\n"
     ]
    },
    {
     "name": "stdout",
     "output_type": "stream",
     "text": [
      "INFO - 07/22/25 19:13:16 - 0:00:45 - (19200/20000) Found 52/128 valid top-1 predictions. Generating solutions ...\n",
      "INFO - 07/22/25 19:13:16 - 0:00:45 -     Found 52/128 solutions in beam hypotheses.\n"
     ]
    },
    {
     "name": "stdout",
     "output_type": "stream",
     "text": [
      "INFO - 07/22/25 19:13:16 - 0:00:45 - (19328/20000) Found 54/128 valid top-1 predictions. Generating solutions ...\n",
      "INFO - 07/22/25 19:13:16 - 0:00:45 -     Found 54/128 solutions in beam hypotheses.\n"
     ]
    },
    {
     "name": "stdout",
     "output_type": "stream",
     "text": [
      "INFO - 07/22/25 19:13:16 - 0:00:46 - (19456/20000) Found 53/128 valid top-1 predictions. Generating solutions ...\n",
      "INFO - 07/22/25 19:13:16 - 0:00:46 -     Found 53/128 solutions in beam hypotheses.\n"
     ]
    },
    {
     "name": "stdout",
     "output_type": "stream",
     "text": [
      "INFO - 07/22/25 19:13:17 - 0:00:46 - (19584/20000) Found 44/128 valid top-1 predictions. Generating solutions ...\n",
      "INFO - 07/22/25 19:13:17 - 0:00:46 -     Found 44/128 solutions in beam hypotheses.\n"
     ]
    },
    {
     "name": "stdout",
     "output_type": "stream",
     "text": [
      "INFO - 07/22/25 19:13:17 - 0:00:46 - (19712/20000) Found 59/128 valid top-1 predictions. Generating solutions ...\n",
      "INFO - 07/22/25 19:13:17 - 0:00:46 -     Found 59/128 solutions in beam hypotheses.\n"
     ]
    },
    {
     "name": "stdout",
     "output_type": "stream",
     "text": [
      "INFO - 07/22/25 19:13:17 - 0:00:47 - (19840/20000) Found 45/128 valid top-1 predictions. Generating solutions ...\n",
      "INFO - 07/22/25 19:13:17 - 0:00:47 -     Found 45/128 solutions in beam hypotheses.\n"
     ]
    },
    {
     "name": "stdout",
     "output_type": "stream",
     "text": [
      "INFO - 07/22/25 19:13:17 - 0:00:47 - (19968/20000) Found 54/128 valid top-1 predictions. Generating solutions ...\n",
      "INFO - 07/22/25 19:13:17 - 0:00:47 -     Found 54/128 solutions in beam hypotheses.\n",
      "INFO - 07/22/25 19:13:18 - 0:00:47 - (20000/20000) Found 8/32 valid top-1 predictions. Generating solutions ...\n",
      "INFO - 07/22/25 19:13:18 - 0:00:47 -     Found 8/32 solutions in beam hypotheses.\n",
      "INFO - 07/22/25 19:13:18 - 0:00:47 - 7699/20000 (38.495%) equations were evaluated correctly.\n",
      "INFO - 07/22/25 19:13:18 - 0:00:47 - 0: 5218 / 7809 (66.82%)\n",
      "INFO - 07/22/25 19:13:18 - 0:00:47 - 1: 2224 / 6072 (36.63%)\n",
      "INFO - 07/22/25 19:13:18 - 0:00:47 - 100: 257 / 6119 (4.20%)\n"
     ]
    },
    {
     "name": "stdout",
     "output_type": "stream",
     "text": [
      "INFO - 07/22/25 19:13:18 - 0:00:47 - epoch -> 295.000000\n",
      "INFO - 07/22/25 19:13:18 - 0:00:47 - valid_arithmetic_xe_loss -> 1.245494\n",
      "INFO - 07/22/25 19:13:18 - 0:00:47 - valid_arithmetic_acc -> 38.495000\n",
      "INFO - 07/22/25 19:13:18 - 0:00:47 - valid_arithmetic_perfect -> 38.495000\n",
      "INFO - 07/22/25 19:13:18 - 0:00:47 - valid_arithmetic_correct -> 38.495000\n",
      "INFO - 07/22/25 19:13:18 - 0:00:47 - valid_arithmetic_acc_d1 -> 38.495000\n",
      "INFO - 07/22/25 19:13:18 - 0:00:47 - valid_arithmetic_acc_d2 -> 38.495000\n",
      "INFO - 07/22/25 19:13:18 - 0:00:47 - valid_arithmetic_acc_d3 -> 61.700000\n",
      "INFO - 07/22/25 19:13:18 - 0:00:47 - valid_arithmetic_acc_0 -> 66.820336\n",
      "INFO - 07/22/25 19:13:18 - 0:00:47 - valid_arithmetic_acc_1 -> 36.627141\n",
      "INFO - 07/22/25 19:13:18 - 0:00:47 - valid_arithmetic_acc_100 -> 4.200033\n",
      "INFO - 07/22/25 19:13:18 - 0:00:47 - __log__:{\"epoch\": 295, \"valid_arithmetic_xe_loss\": 1.2454938941955567, \"valid_arithmetic_acc\": 38.495, \"valid_arithmetic_perfect\": 38.495, \"valid_arithmetic_correct\": 38.495, \"valid_arithmetic_acc_d1\": 38.495, \"valid_arithmetic_acc_d2\": 38.495, \"valid_arithmetic_acc_d3\": 61.7, \"valid_arithmetic_acc_0\": 66.82033551030862, \"valid_arithmetic_acc_1\": 36.62714097496706, \"valid_arithmetic_acc_100\": 4.200032685079261}\n"
     ]
    },
    {
     "name": "stdout",
     "output_type": "stream",
     "text": [
      "INFO - 07/22/25 19:13:20 - 0:00:00 - ============ Initialized logger ============\n",
      "INFO - 07/22/25 19:13:20 - 0:00:00 - GRU: False\n",
      "                                     accumulate_gradients: 1\n",
      "                                     act_bias: 0\n",
      "                                     act_biased: False\n",
      "                                     act_ponder_coupling: 0.01\n",
      "                                     act_threshold: 0.01\n",
      "                                     amp: -1\n",
      "                                     architecture: encoder_decoder\n",
      "                                     attention_dropout: 0\n",
      "                                     base: 1000\n",
      "                                     batch_load: False\n",
      "                                     batch_size: 32\n",
      "                                     batch_size_eval: 128\n",
      "                                     beam_early_stopping: True\n",
      "                                     beam_eval: False\n",
      "                                     beam_eval_train: 0\n",
      "                                     beam_length_penalty: 1\n",
      "                                     beam_size: 1\n",
      "                                     biased_gates: False\n",
      "                                     bidirectional: False\n",
      "                                     class_by_length: False\n",
      "                                     clip_grad_norm: 5\n",
      "                                     command: python /home/user/Int2Int/train.py --num_workers 0 --dump_path '/home/user/fastdir/dump' --exp_name basic --exp_id 3 --eval_only True --eval_data '/home/user/fastdir/data/mu_p_3_random.txt' --eval_size 20000 --data_types 'int[200]:range(-1,2)' --exp_id \"3\"\n",
      "                                     cpu: False\n",
      "                                     data_types: int[200]:range(-1,2)\n",
      "                                     debug: False\n",
      "                                     debug_slurm: False\n",
      "                                     dec_act: False\n",
      "                                     dec_emb_dim: 256\n",
      "                                     dec_gated: False\n",
      "                                     dec_has_pos_emb: True\n",
      "                                     dec_loop_idx: -1\n",
      "                                     dec_loops: 1\n",
      "                                     dim1: 10\n",
      "                                     dim2: 10\n",
      "                                     dropout: 0\n",
      "                                     dump_path: /home/user/fastdir/dump/basic/3\n",
      "                                     enc_act: False\n",
      "                                     enc_emb_dim: 256\n",
      "                                     enc_gated: False\n",
      "                                     enc_has_pos_emb: True\n",
      "                                     enc_loop_idx: -1\n",
      "                                     enc_loops: 1\n",
      "                                     env_base_seed: -1\n",
      "                                     env_name: arithmetic\n",
      "                                     epoch_size: 300000\n",
      "                                     eval_data: /home/user/fastdir/data/mu_p_3_random.txt\n",
      "                                     eval_from_exp: \n",
      "                                     eval_only: True\n",
      "                                     eval_size: 20000\n",
      "                                     eval_verbose: 0\n",
      "                                     eval_verbose_print: False\n",
      "                                     exp_id: 3\n",
      "                                     exp_name: basic\n",
      "                                     export_data: False\n",
      "                                     first_class_prob: 0.25\n",
      "                                     first_class_size: 1000000\n",
      "                                     fp16: False\n",
      "                                     gate_bias: 0\n",
      "                                     gated: False\n",
      "                                     gelu_activation: False\n",
      "                                     global_rank: 0\n",
      "                                     is_master: True\n",
      "                                     is_slurm_job: False\n",
      "                                     local_gpu: -1\n",
      "                                     local_rank: 0\n",
      "                                     lstm: False\n",
      "                                     lstm_hidden_dim: 2048\n",
      "                                     master_port: -1\n",
      "                                     max_class: 101\n",
      "                                     max_epoch: 100000\n",
      "                                     max_len: 512\n",
      "                                     max_output_len: 512\n",
      "                                     max_src_len: 0\n",
      "                                     maxint: 1000000\n",
      "                                     minint: 1\n",
      "                                     modulus: 67\n",
      "                                     multi_gpu: False\n",
      "                                     multi_node: False\n",
      "                                     n_dec_heads: 8\n",
      "                                     n_dec_hidden_layers: 1\n",
      "                                     n_dec_layers: 4\n",
      "                                     n_enc_heads: 8\n",
      "                                     n_enc_hidden_layers: 1\n",
      "                                     n_enc_layers: 4\n",
      "                                     n_gpu_per_node: 1\n",
      "                                     n_nodes: 1\n",
      "                                     node_id: 0\n",
      "                                     norm_attention: False\n",
      "                                     num_workers: 0\n",
      "                                     operation: data\n",
      "                                     optimizer: adam,lr=0.0001\n",
      "                                     reload_checkpoint: \n",
      "                                     reload_model: \n",
      "                                     reload_size: -1\n",
      "                                     save_periodic: 0\n",
      "                                     scalar_gate: False\n",
      "                                     share_inout_emb: True\n",
      "                                     sinusoidal_embeddings: False\n",
      "                                     stopping_criterion: \n",
      "                                     tasks: arithmetic\n",
      "                                     train_data: \n",
      "                                     two_classes: False\n",
      "                                     validation_metrics: \n",
      "                                     windows: False\n",
      "                                     world_size: 1\n",
      "                                     xav_init: False\n",
      "INFO - 07/22/25 19:13:20 - 0:00:00 - The experiment will be stored in /home/user/fastdir/dump/basic/3\n",
      "                                     \n",
      "INFO - 07/22/25 19:13:20 - 0:00:00 - Running command: python /home/user/Int2Int/train.py --num_workers 0 --dump_path '/home/user/fastdir/dump' --exp_name basic --exp_id 3 --eval_only True --eval_data '/home/user/fastdir/data/mu_p_3_random.txt' --eval_size 20000 --data_types 'int[200]:range(-1,2)'\n",
      "\n",
      "INFO - 07/22/25 19:13:20 - 0:00:00 - words: {'<eos>': 0, '<pad>': 1, '<sep>': 2, '(': 3, ')': 4, '<SPECIAL_0>': 5, '<SPECIAL_1>': 6, '<SPECIAL_2>': 7, '<SPECIAL_3>': 8, '<SPECIAL_4>': 9, '<SPECIAL_5>': 10, '<SPECIAL_6>': 11, '<SPECIAL_7>': 12, '<SPECIAL_8>': 13, '<SPECIAL_9>': 14, '+': 15, '-': 16, '-1': 17, '0': 18, '1': 19, '10': 20, '100': 21, '101': 22, '102': 23, '103': 24, '104': 25, '105': 26, '106': 27, '107': 28, '108': 29, '109': 30, '11': 31, '110': 32, '111': 33, '112': 34, '113': 35, '114': 36, '115': 37, '116': 38, '117': 39, '118': 40, '119': 41, '12': 42, '120': 43, '121': 44, '122': 45, '123': 46, '124': 47, '125': 48, '126': 49, '127': 50, '128': 51, '129': 52, '13': 53, '130': 54, '131': 55, '132': 56, '133': 57, '134': 58, '135': 59, '136': 60, '137': 61, '138': 62, '139': 63, '14': 64, '140': 65, '141': 66, '142': 67, '143': 68, '144': 69, '145': 70, '146': 71, '147': 72, '148': 73, '149': 74, '15': 75, '150': 76, '151': 77, '152': 78, '153': 79, '154': 80, '155': 81, '156': 82, '157': 83, '158': 84, '159': 85, '16': 86, '160': 87, '161': 88, '162': 89, '163': 90, '164': 91, '165': 92, '166': 93, '167': 94, '168': 95, '169': 96, '17': 97, '170': 98, '171': 99, '172': 100, '173': 101, '174': 102, '175': 103, '176': 104, '177': 105, '178': 106, '179': 107, '18': 108, '180': 109, '181': 110, '182': 111, '183': 112, '184': 113, '185': 114, '186': 115, '187': 116, '188': 117, '189': 118, '19': 119, '190': 120, '191': 121, '192': 122, '193': 123, '194': 124, '195': 125, '196': 126, '197': 127, '198': 128, '199': 129, '2': 130, '20': 131, '200': 132, '201': 133, '202': 134, '203': 135, '204': 136, '205': 137, '206': 138, '207': 139, '208': 140, '209': 141, '21': 142, '210': 143, '211': 144, '212': 145, '213': 146, '214': 147, '215': 148, '216': 149, '217': 150, '218': 151, '219': 152, '22': 153, '220': 154, '221': 155, '222': 156, '223': 157, '224': 158, '225': 159, '226': 160, '227': 161, '228': 162, '229': 163, '23': 164, '230': 165, '231': 166, '232': 167, '233': 168, '234': 169, '235': 170, '236': 171, '237': 172, '238': 173, '239': 174, '24': 175, '240': 176, '241': 177, '242': 178, '243': 179, '244': 180, '245': 181, '246': 182, '247': 183, '248': 184, '249': 185, '25': 186, '250': 187, '251': 188, '252': 189, '253': 190, '254': 191, '255': 192, '256': 193, '257': 194, '258': 195, '259': 196, '26': 197, '260': 198, '261': 199, '262': 200, '263': 201, '264': 202, '265': 203, '266': 204, '267': 205, '268': 206, '269': 207, '27': 208, '270': 209, '271': 210, '272': 211, '273': 212, '274': 213, '275': 214, '276': 215, '277': 216, '278': 217, '279': 218, '28': 219, '280': 220, '281': 221, '282': 222, '283': 223, '284': 224, '285': 225, '286': 226, '287': 227, '288': 228, '289': 229, '29': 230, '290': 231, '291': 232, '292': 233, '293': 234, '294': 235, '295': 236, '296': 237, '297': 238, '298': 239, '299': 240, '3': 241, '30': 242, '300': 243, '301': 244, '302': 245, '303': 246, '304': 247, '305': 248, '306': 249, '307': 250, '308': 251, '309': 252, '31': 253, '310': 254, '311': 255, '312': 256, '313': 257, '314': 258, '315': 259, '316': 260, '317': 261, '318': 262, '319': 263, '32': 264, '320': 265, '321': 266, '322': 267, '323': 268, '324': 269, '325': 270, '326': 271, '327': 272, '328': 273, '329': 274, '33': 275, '330': 276, '331': 277, '332': 278, '333': 279, '334': 280, '335': 281, '336': 282, '337': 283, '338': 284, '339': 285, '34': 286, '340': 287, '341': 288, '342': 289, '343': 290, '344': 291, '345': 292, '346': 293, '347': 294, '348': 295, '349': 296, '35': 297, '350': 298, '351': 299, '352': 300, '353': 301, '354': 302, '355': 303, '356': 304, '357': 305, '358': 306, '359': 307, '36': 308, '360': 309, '361': 310, '362': 311, '363': 312, '364': 313, '365': 314, '366': 315, '367': 316, '368': 317, '369': 318, '37': 319, '370': 320, '371': 321, '372': 322, '373': 323, '374': 324, '375': 325, '376': 326, '377': 327, '378': 328, '379': 329, '38': 330, '380': 331, '381': 332, '382': 333, '383': 334, '384': 335, '385': 336, '386': 337, '387': 338, '388': 339, '389': 340, '39': 341, '390': 342, '391': 343, '392': 344, '393': 345, '394': 346, '395': 347, '396': 348, '397': 349, '398': 350, '399': 351, '4': 352, '40': 353, '400': 354, '401': 355, '402': 356, '403': 357, '404': 358, '405': 359, '406': 360, '407': 361, '408': 362, '409': 363, '41': 364, '410': 365, '411': 366, '412': 367, '413': 368, '414': 369, '415': 370, '416': 371, '417': 372, '418': 373, '419': 374, '42': 375, '420': 376, '421': 377, '422': 378, '423': 379, '424': 380, '425': 381, '426': 382, '427': 383, '428': 384, '429': 385, '43': 386, '430': 387, '431': 388, '432': 389, '433': 390, '434': 391, '435': 392, '436': 393, '437': 394, '438': 395, '439': 396, '44': 397, '440': 398, '441': 399, '442': 400, '443': 401, '444': 402, '445': 403, '446': 404, '447': 405, '448': 406, '449': 407, '45': 408, '450': 409, '451': 410, '452': 411, '453': 412, '454': 413, '455': 414, '456': 415, '457': 416, '458': 417, '459': 418, '46': 419, '460': 420, '461': 421, '462': 422, '463': 423, '464': 424, '465': 425, '466': 426, '467': 427, '468': 428, '469': 429, '47': 430, '470': 431, '471': 432, '472': 433, '473': 434, '474': 435, '475': 436, '476': 437, '477': 438, '478': 439, '479': 440, '48': 441, '480': 442, '481': 443, '482': 444, '483': 445, '484': 446, '485': 447, '486': 448, '487': 449, '488': 450, '489': 451, '49': 452, '490': 453, '491': 454, '492': 455, '493': 456, '494': 457, '495': 458, '496': 459, '497': 460, '498': 461, '499': 462, '5': 463, '50': 464, '500': 465, '501': 466, '502': 467, '503': 468, '504': 469, '505': 470, '506': 471, '507': 472, '508': 473, '509': 474, '51': 475, '510': 476, '511': 477, '512': 478, '513': 479, '514': 480, '515': 481, '516': 482, '517': 483, '518': 484, '519': 485, '52': 486, '520': 487, '521': 488, '522': 489, '523': 490, '524': 491, '525': 492, '526': 493, '527': 494, '528': 495, '529': 496, '53': 497, '530': 498, '531': 499, '532': 500, '533': 501, '534': 502, '535': 503, '536': 504, '537': 505, '538': 506, '539': 507, '54': 508, '540': 509, '541': 510, '542': 511, '543': 512, '544': 513, '545': 514, '546': 515, '547': 516, '548': 517, '549': 518, '55': 519, '550': 520, '551': 521, '552': 522, '553': 523, '554': 524, '555': 525, '556': 526, '557': 527, '558': 528, '559': 529, '56': 530, '560': 531, '561': 532, '562': 533, '563': 534, '564': 535, '565': 536, '566': 537, '567': 538, '568': 539, '569': 540, '57': 541, '570': 542, '571': 543, '572': 544, '573': 545, '574': 546, '575': 547, '576': 548, '577': 549, '578': 550, '579': 551, '58': 552, '580': 553, '581': 554, '582': 555, '583': 556, '584': 557, '585': 558, '586': 559, '587': 560, '588': 561, '589': 562, '59': 563, '590': 564, '591': 565, '592': 566, '593': 567, '594': 568, '595': 569, '596': 570, '597': 571, '598': 572, '599': 573, '6': 574, '60': 575, '600': 576, '601': 577, '602': 578, '603': 579, '604': 580, '605': 581, '606': 582, '607': 583, '608': 584, '609': 585, '61': 586, '610': 587, '611': 588, '612': 589, '613': 590, '614': 591, '615': 592, '616': 593, '617': 594, '618': 595, '619': 596, '62': 597, '620': 598, '621': 599, '622': 600, '623': 601, '624': 602, '625': 603, '626': 604, '627': 605, '628': 606, '629': 607, '63': 608, '630': 609, '631': 610, '632': 611, '633': 612, '634': 613, '635': 614, '636': 615, '637': 616, '638': 617, '639': 618, '64': 619, '640': 620, '641': 621, '642': 622, '643': 623, '644': 624, '645': 625, '646': 626, '647': 627, '648': 628, '649': 629, '65': 630, '650': 631, '651': 632, '652': 633, '653': 634, '654': 635, '655': 636, '656': 637, '657': 638, '658': 639, '659': 640, '66': 641, '660': 642, '661': 643, '662': 644, '663': 645, '664': 646, '665': 647, '666': 648, '667': 649, '668': 650, '669': 651, '67': 652, '670': 653, '671': 654, '672': 655, '673': 656, '674': 657, '675': 658, '676': 659, '677': 660, '678': 661, '679': 662, '68': 663, '680': 664, '681': 665, '682': 666, '683': 667, '684': 668, '685': 669, '686': 670, '687': 671, '688': 672, '689': 673, '69': 674, '690': 675, '691': 676, '692': 677, '693': 678, '694': 679, '695': 680, '696': 681, '697': 682, '698': 683, '699': 684, '7': 685, '70': 686, '700': 687, '701': 688, '702': 689, '703': 690, '704': 691, '705': 692, '706': 693, '707': 694, '708': 695, '709': 696, '71': 697, '710': 698, '711': 699, '712': 700, '713': 701, '714': 702, '715': 703, '716': 704, '717': 705, '718': 706, '719': 707, '72': 708, '720': 709, '721': 710, '722': 711, '723': 712, '724': 713, '725': 714, '726': 715, '727': 716, '728': 717, '729': 718, '73': 719, '730': 720, '731': 721, '732': 722, '733': 723, '734': 724, '735': 725, '736': 726, '737': 727, '738': 728, '739': 729, '74': 730, '740': 731, '741': 732, '742': 733, '743': 734, '744': 735, '745': 736, '746': 737, '747': 738, '748': 739, '749': 740, '75': 741, '750': 742, '751': 743, '752': 744, '753': 745, '754': 746, '755': 747, '756': 748, '757': 749, '758': 750, '759': 751, '76': 752, '760': 753, '761': 754, '762': 755, '763': 756, '764': 757, '765': 758, '766': 759, '767': 760, '768': 761, '769': 762, '77': 763, '770': 764, '771': 765, '772': 766, '773': 767, '774': 768, '775': 769, '776': 770, '777': 771, '778': 772, '779': 773, '78': 774, '780': 775, '781': 776, '782': 777, '783': 778, '784': 779, '785': 780, '786': 781, '787': 782, '788': 783, '789': 784, '79': 785, '790': 786, '791': 787, '792': 788, '793': 789, '794': 790, '795': 791, '796': 792, '797': 793, '798': 794, '799': 795, '8': 796, '80': 797, '800': 798, '801': 799, '802': 800, '803': 801, '804': 802, '805': 803, '806': 804, '807': 805, '808': 806, '809': 807, '81': 808, '810': 809, '811': 810, '812': 811, '813': 812, '814': 813, '815': 814, '816': 815, '817': 816, '818': 817, '819': 818, '82': 819, '820': 820, '821': 821, '822': 822, '823': 823, '824': 824, '825': 825, '826': 826, '827': 827, '828': 828, '829': 829, '83': 830, '830': 831, '831': 832, '832': 833, '833': 834, '834': 835, '835': 836, '836': 837, '837': 838, '838': 839, '839': 840, '84': 841, '840': 842, '841': 843, '842': 844, '843': 845, '844': 846, '845': 847, '846': 848, '847': 849, '848': 850, '849': 851, '85': 852, '850': 853, '851': 854, '852': 855, '853': 856, '854': 857, '855': 858, '856': 859, '857': 860, '858': 861, '859': 862, '86': 863, '860': 864, '861': 865, '862': 866, '863': 867, '864': 868, '865': 869, '866': 870, '867': 871, '868': 872, '869': 873, '87': 874, '870': 875, '871': 876, '872': 877, '873': 878, '874': 879, '875': 880, '876': 881, '877': 882, '878': 883, '879': 884, '88': 885, '880': 886, '881': 887, '882': 888, '883': 889, '884': 890, '885': 891, '886': 892, '887': 893, '888': 894, '889': 895, '89': 896, '890': 897, '891': 898, '892': 899, '893': 900, '894': 901, '895': 902, '896': 903, '897': 904, '898': 905, '899': 906, '9': 907, '90': 908, '900': 909, '901': 910, '902': 911, '903': 912, '904': 913, '905': 914, '906': 915, '907': 916, '908': 917, '909': 918, '91': 919, '910': 920, '911': 921, '912': 922, '913': 923, '914': 924, '915': 925, '916': 926, '917': 927, '918': 928, '919': 929, '92': 930, '920': 931, '921': 932, '922': 933, '923': 934, '924': 935, '925': 936, '926': 937, '927': 938, '928': 939, '929': 940, '93': 941, '930': 942, '931': 943, '932': 944, '933': 945, '934': 946, '935': 947, '936': 948, '937': 949, '938': 950, '939': 951, '94': 952, '940': 953, '941': 954, '942': 955, '943': 956, '944': 957, '945': 958, '946': 959, '947': 960, '948': 961, '949': 962, '95': 963, '950': 964, '951': 965, '952': 966, '953': 967, '954': 968, '955': 969, '956': 970, '957': 971, '958': 972, '959': 973, '96': 974, '960': 975, '961': 976, '962': 977, '963': 978, '964': 979, '965': 980, '966': 981, '967': 982, '968': 983, '969': 984, '97': 985, '970': 986, '971': 987, '972': 988, '973': 989, '974': 990, '975': 991, '976': 992, '977': 993, '978': 994, '979': 995, '98': 996, '980': 997, '981': 998, '982': 999, '983': 1000, '984': 1001, '985': 1002, '986': 1003, '987': 1004, '988': 1005, '989': 1006, '99': 1007, '990': 1008, '991': 1009, '992': 1010, '993': 1011, '994': 1012, '995': 1013, '996': 1014, '997': 1015, '998': 1016, '999': 1017, 'V1': 1018, 'V10': 1019, 'V100': 1020, 'V101': 1021, 'V102': 1022, 'V103': 1023, 'V104': 1024, 'V105': 1025, 'V106': 1026, 'V107': 1027, 'V108': 1028, 'V109': 1029, 'V11': 1030, 'V110': 1031, 'V111': 1032, 'V112': 1033, 'V113': 1034, 'V114': 1035, 'V115': 1036, 'V116': 1037, 'V117': 1038, 'V118': 1039, 'V119': 1040, 'V12': 1041, 'V120': 1042, 'V121': 1043, 'V122': 1044, 'V123': 1045, 'V124': 1046, 'V125': 1047, 'V126': 1048, 'V127': 1049, 'V128': 1050, 'V129': 1051, 'V13': 1052, 'V130': 1053, 'V131': 1054, 'V132': 1055, 'V133': 1056, 'V134': 1057, 'V135': 1058, 'V136': 1059, 'V137': 1060, 'V138': 1061, 'V139': 1062, 'V14': 1063, 'V140': 1064, 'V141': 1065, 'V142': 1066, 'V143': 1067, 'V144': 1068, 'V145': 1069, 'V146': 1070, 'V147': 1071, 'V148': 1072, 'V149': 1073, 'V15': 1074, 'V150': 1075, 'V151': 1076, 'V152': 1077, 'V153': 1078, 'V154': 1079, 'V155': 1080, 'V156': 1081, 'V157': 1082, 'V158': 1083, 'V159': 1084, 'V16': 1085, 'V160': 1086, 'V161': 1087, 'V162': 1088, 'V163': 1089, 'V164': 1090, 'V165': 1091, 'V166': 1092, 'V167': 1093, 'V168': 1094, 'V169': 1095, 'V17': 1096, 'V170': 1097, 'V171': 1098, 'V172': 1099, 'V173': 1100, 'V174': 1101, 'V175': 1102, 'V176': 1103, 'V177': 1104, 'V178': 1105, 'V179': 1106, 'V18': 1107, 'V180': 1108, 'V181': 1109, 'V182': 1110, 'V183': 1111, 'V184': 1112, 'V185': 1113, 'V186': 1114, 'V187': 1115, 'V188': 1116, 'V189': 1117, 'V19': 1118, 'V190': 1119, 'V191': 1120, 'V192': 1121, 'V193': 1122, 'V194': 1123, 'V195': 1124, 'V196': 1125, 'V197': 1126, 'V198': 1127, 'V199': 1128, 'V2': 1129, 'V20': 1130, 'V200': 1131, 'V21': 1132, 'V22': 1133, 'V23': 1134, 'V24': 1135, 'V25': 1136, 'V26': 1137, 'V27': 1138, 'V28': 1139, 'V29': 1140, 'V3': 1141, 'V30': 1142, 'V31': 1143, 'V32': 1144, 'V33': 1145, 'V34': 1146, 'V35': 1147, 'V36': 1148, 'V37': 1149, 'V38': 1150, 'V39': 1151, 'V4': 1152, 'V40': 1153, 'V41': 1154, 'V42': 1155, 'V43': 1156, 'V44': 1157, 'V45': 1158, 'V46': 1159, 'V47': 1160, 'V48': 1161, 'V49': 1162, 'V5': 1163, 'V50': 1164, 'V51': 1165, 'V52': 1166, 'V53': 1167, 'V54': 1168, 'V55': 1169, 'V56': 1170, 'V57': 1171, 'V58': 1172, 'V59': 1173, 'V6': 1174, 'V60': 1175, 'V61': 1176, 'V62': 1177, 'V63': 1178, 'V64': 1179, 'V65': 1180, 'V66': 1181, 'V67': 1182, 'V68': 1183, 'V69': 1184, 'V7': 1185, 'V70': 1186, 'V71': 1187, 'V72': 1188, 'V73': 1189, 'V74': 1190, 'V75': 1191, 'V76': 1192, 'V77': 1193, 'V78': 1194, 'V79': 1195, 'V8': 1196, 'V80': 1197, 'V81': 1198, 'V82': 1199, 'V83': 1200, 'V84': 1201, 'V85': 1202, 'V86': 1203, 'V87': 1204, 'V88': 1205, 'V89': 1206, 'V9': 1207, 'V90': 1208, 'V91': 1209, 'V92': 1210, 'V93': 1211, 'V94': 1212, 'V95': 1213, 'V96': 1214, 'V97': 1215, 'V98': 1216, 'V99': 1217}\n",
      "INFO - 07/22/25 19:13:20 - 0:00:00 - Training tasks: arithmetic\n",
      "INFO - 07/22/25 19:13:21 - 0:00:00 - Number of parameters (encoder): 4519936\n",
      "INFO - 07/22/25 19:13:21 - 0:00:00 - Number of parameters (decoder): 5575874\n"
     ]
    },
    {
     "name": "stdout",
     "output_type": "stream",
     "text": [
      "INFO - 07/22/25 19:13:21 - 0:00:00 - Found 177 parameters in model.\n"
     ]
    },
    {
     "name": "stdout",
     "output_type": "stream",
     "text": [
      "INFO - 07/22/25 19:13:22 - 0:00:01 - Optimizer: <class 'src.optim.Adam'>\n",
      "WARNING - 07/22/25 19:13:22 - 0:00:01 - Reloading checkpoint from /home/user/fastdir/dump/basic/3/checkpoint.pth ...\n",
      "/home/user/Int2Int/src/trainer.py:303: FutureWarning: You are using `torch.load` with `weights_only=False` (the current default value), which uses the default pickle module implicitly. It is possible to construct malicious pickle data which will execute arbitrary code during unpickling (See https://github.com/pytorch/pytorch/blob/main/SECURITY.md#untrusted-models for more details). In a future release, the default value for `weights_only` will be flipped to `True`. This limits the functions that could be executed during unpickling. Arbitrary objects will no longer be allowed to be loaded via this mode unless they are explicitly allowlisted by the user via `torch.serialization.add_safe_globals`. We recommend you start setting `weights_only=True` for any use case where you don't have full control of the loaded file. Please open an issue on GitHub for any issues related to this experimental feature.\n",
      "  data = torch.load(checkpoint_path, map_location=\"cpu\")\n",
      "WARNING - 07/22/25 19:13:22 - 0:00:01 - Reloading checkpoint optimizer ...\n",
      "WARNING - 07/22/25 19:13:22 - 0:00:02 - Checkpoint reloaded. Resuming at epoch 295 / iteration 184375 ...\n",
      "INFO - 07/22/25 19:13:22 - 0:00:02 - Creating valid iterator for arithmetic ...\n",
      "INFO - 07/22/25 19:13:22 - 0:00:02 - Loading data from /home/user/fastdir/data/mu_p_3_random.txt ...\n"
     ]
    },
    {
     "name": "stdout",
     "output_type": "stream",
     "text": [
      "INFO - 07/22/25 19:13:22 - 0:00:02 - Loaded 100000 equations from the disk.\n",
      "SLURM job: False\n",
      "0 - Number of nodes: 1\n",
      "0 - Node ID        : 0\n",
      "0 - Local rank     : 0\n",
      "0 - Global rank    : 0\n",
      "0 - World size     : 1\n",
      "0 - GPUs per node  : 1\n",
      "0 - Master         : True\n",
      "0 - Multi-node     : False\n",
      "0 - Multi-GPU      : False\n",
      "0 - Hostname       : compute-server-1\n"
     ]
    },
    {
     "name": "stdout",
     "output_type": "stream",
     "text": [
      "INFO - 07/22/25 19:13:23 - 0:00:03 - (128/20000) Found 62/128 valid top-1 predictions. Generating solutions ...\n",
      "INFO - 07/22/25 19:13:23 - 0:00:03 -     Found 62/128 solutions in beam hypotheses.\n"
     ]
    },
    {
     "name": "stdout",
     "output_type": "stream",
     "text": [
      "INFO - 07/22/25 19:13:23 - 0:00:03 - (256/20000) Found 66/128 valid top-1 predictions. Generating solutions ...\n",
      "INFO - 07/22/25 19:13:23 - 0:00:03 -     Found 66/128 solutions in beam hypotheses.\n"
     ]
    },
    {
     "name": "stdout",
     "output_type": "stream",
     "text": [
      "INFO - 07/22/25 19:13:24 - 0:00:03 - (384/20000) Found 53/128 valid top-1 predictions. Generating solutions ...\n",
      "INFO - 07/22/25 19:13:24 - 0:00:03 -     Found 53/128 solutions in beam hypotheses.\n"
     ]
    },
    {
     "name": "stdout",
     "output_type": "stream",
     "text": [
      "INFO - 07/22/25 19:13:24 - 0:00:04 - (512/20000) Found 57/128 valid top-1 predictions. Generating solutions ...\n",
      "INFO - 07/22/25 19:13:24 - 0:00:04 -     Found 57/128 solutions in beam hypotheses.\n"
     ]
    },
    {
     "name": "stdout",
     "output_type": "stream",
     "text": [
      "INFO - 07/22/25 19:13:24 - 0:00:04 - (640/20000) Found 66/128 valid top-1 predictions. Generating solutions ...\n",
      "INFO - 07/22/25 19:13:24 - 0:00:04 -     Found 66/128 solutions in beam hypotheses.\n"
     ]
    },
    {
     "name": "stdout",
     "output_type": "stream",
     "text": [
      "INFO - 07/22/25 19:13:24 - 0:00:04 - (768/20000) Found 61/128 valid top-1 predictions. Generating solutions ...\n",
      "INFO - 07/22/25 19:13:25 - 0:00:04 -     Found 61/128 solutions in beam hypotheses.\n"
     ]
    },
    {
     "name": "stdout",
     "output_type": "stream",
     "text": [
      "INFO - 07/22/25 19:13:25 - 0:00:04 - (896/20000) Found 64/128 valid top-1 predictions. Generating solutions ...\n",
      "INFO - 07/22/25 19:13:25 - 0:00:04 -     Found 64/128 solutions in beam hypotheses.\n"
     ]
    },
    {
     "name": "stdout",
     "output_type": "stream",
     "text": [
      "INFO - 07/22/25 19:13:25 - 0:00:05 - (1024/20000) Found 65/128 valid top-1 predictions. Generating solutions ...\n",
      "INFO - 07/22/25 19:13:25 - 0:00:05 -     Found 65/128 solutions in beam hypotheses.\n"
     ]
    },
    {
     "name": "stdout",
     "output_type": "stream",
     "text": [
      "INFO - 07/22/25 19:13:25 - 0:00:05 - (1152/20000) Found 58/128 valid top-1 predictions. Generating solutions ...\n",
      "INFO - 07/22/25 19:13:25 - 0:00:05 -     Found 58/128 solutions in beam hypotheses.\n"
     ]
    },
    {
     "name": "stdout",
     "output_type": "stream",
     "text": [
      "INFO - 07/22/25 19:13:26 - 0:00:05 - (1280/20000) Found 64/128 valid top-1 predictions. Generating solutions ...\n",
      "INFO - 07/22/25 19:13:26 - 0:00:05 -     Found 64/128 solutions in beam hypotheses.\n"
     ]
    },
    {
     "name": "stdout",
     "output_type": "stream",
     "text": [
      "INFO - 07/22/25 19:13:26 - 0:00:06 - (1408/20000) Found 66/128 valid top-1 predictions. Generating solutions ...\n",
      "INFO - 07/22/25 19:13:26 - 0:00:06 -     Found 66/128 solutions in beam hypotheses.\n"
     ]
    },
    {
     "name": "stdout",
     "output_type": "stream",
     "text": [
      "INFO - 07/22/25 19:13:26 - 0:00:06 - (1536/20000) Found 59/128 valid top-1 predictions. Generating solutions ...\n",
      "INFO - 07/22/25 19:13:26 - 0:00:06 -     Found 59/128 solutions in beam hypotheses.\n"
     ]
    },
    {
     "name": "stdout",
     "output_type": "stream",
     "text": [
      "INFO - 07/22/25 19:13:27 - 0:00:06 - (1664/20000) Found 55/128 valid top-1 predictions. Generating solutions ...\n",
      "INFO - 07/22/25 19:13:27 - 0:00:06 -     Found 55/128 solutions in beam hypotheses.\n"
     ]
    },
    {
     "name": "stdout",
     "output_type": "stream",
     "text": [
      "INFO - 07/22/25 19:13:27 - 0:00:06 - (1792/20000) Found 60/128 valid top-1 predictions. Generating solutions ...\n",
      "INFO - 07/22/25 19:13:27 - 0:00:06 -     Found 60/128 solutions in beam hypotheses.\n"
     ]
    },
    {
     "name": "stdout",
     "output_type": "stream",
     "text": [
      "INFO - 07/22/25 19:13:27 - 0:00:07 - (1920/20000) Found 58/128 valid top-1 predictions. Generating solutions ...\n",
      "INFO - 07/22/25 19:13:27 - 0:00:07 -     Found 58/128 solutions in beam hypotheses.\n"
     ]
    },
    {
     "name": "stdout",
     "output_type": "stream",
     "text": [
      "INFO - 07/22/25 19:13:27 - 0:00:07 - (2048/20000) Found 62/128 valid top-1 predictions. Generating solutions ...\n",
      "INFO - 07/22/25 19:13:27 - 0:00:07 -     Found 62/128 solutions in beam hypotheses.\n"
     ]
    },
    {
     "name": "stdout",
     "output_type": "stream",
     "text": [
      "INFO - 07/22/25 19:13:28 - 0:00:07 - (2176/20000) Found 60/128 valid top-1 predictions. Generating solutions ...\n",
      "INFO - 07/22/25 19:13:28 - 0:00:07 -     Found 60/128 solutions in beam hypotheses.\n"
     ]
    },
    {
     "name": "stdout",
     "output_type": "stream",
     "text": [
      "INFO - 07/22/25 19:13:28 - 0:00:08 - (2304/20000) Found 60/128 valid top-1 predictions. Generating solutions ...\n",
      "INFO - 07/22/25 19:13:28 - 0:00:08 -     Found 60/128 solutions in beam hypotheses.\n"
     ]
    },
    {
     "name": "stdout",
     "output_type": "stream",
     "text": [
      "INFO - 07/22/25 19:13:28 - 0:00:08 - (2432/20000) Found 57/128 valid top-1 predictions. Generating solutions ...\n",
      "INFO - 07/22/25 19:13:28 - 0:00:08 -     Found 57/128 solutions in beam hypotheses.\n"
     ]
    },
    {
     "name": "stdout",
     "output_type": "stream",
     "text": [
      "INFO - 07/22/25 19:13:29 - 0:00:08 - (2560/20000) Found 58/128 valid top-1 predictions. Generating solutions ...\n",
      "INFO - 07/22/25 19:13:29 - 0:00:08 -     Found 58/128 solutions in beam hypotheses.\n"
     ]
    },
    {
     "name": "stdout",
     "output_type": "stream",
     "text": [
      "INFO - 07/22/25 19:13:29 - 0:00:08 - (2688/20000) Found 54/128 valid top-1 predictions. Generating solutions ...\n",
      "INFO - 07/22/25 19:13:29 - 0:00:08 -     Found 54/128 solutions in beam hypotheses.\n"
     ]
    },
    {
     "name": "stdout",
     "output_type": "stream",
     "text": [
      "INFO - 07/22/25 19:13:29 - 0:00:09 - (2816/20000) Found 60/128 valid top-1 predictions. Generating solutions ...\n",
      "INFO - 07/22/25 19:13:29 - 0:00:09 -     Found 60/128 solutions in beam hypotheses.\n"
     ]
    },
    {
     "name": "stdout",
     "output_type": "stream",
     "text": [
      "INFO - 07/22/25 19:13:29 - 0:00:09 - (2944/20000) Found 56/128 valid top-1 predictions. Generating solutions ...\n",
      "INFO - 07/22/25 19:13:29 - 0:00:09 -     Found 56/128 solutions in beam hypotheses.\n"
     ]
    },
    {
     "name": "stdout",
     "output_type": "stream",
     "text": [
      "INFO - 07/22/25 19:13:30 - 0:00:09 - (3072/20000) Found 65/128 valid top-1 predictions. Generating solutions ...\n",
      "INFO - 07/22/25 19:13:30 - 0:00:09 -     Found 65/128 solutions in beam hypotheses.\n"
     ]
    },
    {
     "name": "stdout",
     "output_type": "stream",
     "text": [
      "INFO - 07/22/25 19:13:30 - 0:00:10 - (3200/20000) Found 66/128 valid top-1 predictions. Generating solutions ...\n",
      "INFO - 07/22/25 19:13:30 - 0:00:10 -     Found 66/128 solutions in beam hypotheses.\n"
     ]
    },
    {
     "name": "stdout",
     "output_type": "stream",
     "text": [
      "INFO - 07/22/25 19:13:30 - 0:00:10 - (3328/20000) Found 70/128 valid top-1 predictions. Generating solutions ...\n",
      "INFO - 07/22/25 19:13:30 - 0:00:10 -     Found 70/128 solutions in beam hypotheses.\n"
     ]
    },
    {
     "name": "stdout",
     "output_type": "stream",
     "text": [
      "INFO - 07/22/25 19:13:31 - 0:00:10 - (3456/20000) Found 62/128 valid top-1 predictions. Generating solutions ...\n",
      "INFO - 07/22/25 19:13:31 - 0:00:10 -     Found 62/128 solutions in beam hypotheses.\n"
     ]
    },
    {
     "name": "stdout",
     "output_type": "stream",
     "text": [
      "INFO - 07/22/25 19:13:31 - 0:00:10 - (3584/20000) Found 64/128 valid top-1 predictions. Generating solutions ...\n",
      "INFO - 07/22/25 19:13:31 - 0:00:10 -     Found 64/128 solutions in beam hypotheses.\n"
     ]
    },
    {
     "name": "stdout",
     "output_type": "stream",
     "text": [
      "INFO - 07/22/25 19:13:31 - 0:00:11 - (3712/20000) Found 47/128 valid top-1 predictions. Generating solutions ...\n",
      "INFO - 07/22/25 19:13:31 - 0:00:11 -     Found 47/128 solutions in beam hypotheses.\n"
     ]
    },
    {
     "name": "stdout",
     "output_type": "stream",
     "text": [
      "INFO - 07/22/25 19:13:31 - 0:00:11 - (3840/20000) Found 62/128 valid top-1 predictions. Generating solutions ...\n",
      "INFO - 07/22/25 19:13:31 - 0:00:11 -     Found 62/128 solutions in beam hypotheses.\n"
     ]
    },
    {
     "name": "stdout",
     "output_type": "stream",
     "text": [
      "INFO - 07/22/25 19:13:32 - 0:00:11 - (3968/20000) Found 55/128 valid top-1 predictions. Generating solutions ...\n",
      "INFO - 07/22/25 19:13:32 - 0:00:11 -     Found 55/128 solutions in beam hypotheses.\n"
     ]
    },
    {
     "name": "stdout",
     "output_type": "stream",
     "text": [
      "INFO - 07/22/25 19:13:32 - 0:00:12 - (4096/20000) Found 74/128 valid top-1 predictions. Generating solutions ...\n",
      "INFO - 07/22/25 19:13:32 - 0:00:12 -     Found 74/128 solutions in beam hypotheses.\n"
     ]
    },
    {
     "name": "stdout",
     "output_type": "stream",
     "text": [
      "INFO - 07/22/25 19:13:32 - 0:00:12 - (4224/20000) Found 60/128 valid top-1 predictions. Generating solutions ...\n",
      "INFO - 07/22/25 19:13:32 - 0:00:12 -     Found 60/128 solutions in beam hypotheses.\n"
     ]
    },
    {
     "name": "stdout",
     "output_type": "stream",
     "text": [
      "INFO - 07/22/25 19:13:33 - 0:00:12 - (4352/20000) Found 64/128 valid top-1 predictions. Generating solutions ...\n",
      "INFO - 07/22/25 19:13:33 - 0:00:12 -     Found 64/128 solutions in beam hypotheses.\n"
     ]
    },
    {
     "name": "stdout",
     "output_type": "stream",
     "text": [
      "INFO - 07/22/25 19:13:33 - 0:00:12 - (4480/20000) Found 58/128 valid top-1 predictions. Generating solutions ...\n",
      "INFO - 07/22/25 19:13:33 - 0:00:13 -     Found 58/128 solutions in beam hypotheses.\n"
     ]
    },
    {
     "name": "stdout",
     "output_type": "stream",
     "text": [
      "INFO - 07/22/25 19:13:33 - 0:00:13 - (4608/20000) Found 59/128 valid top-1 predictions. Generating solutions ...\n",
      "INFO - 07/22/25 19:13:33 - 0:00:13 -     Found 59/128 solutions in beam hypotheses.\n"
     ]
    },
    {
     "name": "stdout",
     "output_type": "stream",
     "text": [
      "INFO - 07/22/25 19:13:33 - 0:00:13 - (4736/20000) Found 57/128 valid top-1 predictions. Generating solutions ...\n",
      "INFO - 07/22/25 19:13:34 - 0:00:13 -     Found 57/128 solutions in beam hypotheses.\n"
     ]
    },
    {
     "name": "stdout",
     "output_type": "stream",
     "text": [
      "INFO - 07/22/25 19:13:34 - 0:00:13 - (4864/20000) Found 54/128 valid top-1 predictions. Generating solutions ...\n",
      "INFO - 07/22/25 19:13:34 - 0:00:13 -     Found 54/128 solutions in beam hypotheses.\n"
     ]
    },
    {
     "name": "stdout",
     "output_type": "stream",
     "text": [
      "INFO - 07/22/25 19:13:34 - 0:00:14 - (4992/20000) Found 59/128 valid top-1 predictions. Generating solutions ...\n",
      "INFO - 07/22/25 19:13:34 - 0:00:14 -     Found 59/128 solutions in beam hypotheses.\n"
     ]
    },
    {
     "name": "stdout",
     "output_type": "stream",
     "text": [
      "INFO - 07/22/25 19:13:34 - 0:00:14 - (5120/20000) Found 60/128 valid top-1 predictions. Generating solutions ...\n",
      "INFO - 07/22/25 19:13:34 - 0:00:14 -     Found 60/128 solutions in beam hypotheses.\n"
     ]
    },
    {
     "name": "stdout",
     "output_type": "stream",
     "text": [
      "INFO - 07/22/25 19:13:35 - 0:00:14 - (5248/20000) Found 58/128 valid top-1 predictions. Generating solutions ...\n",
      "INFO - 07/22/25 19:13:35 - 0:00:14 -     Found 58/128 solutions in beam hypotheses.\n"
     ]
    },
    {
     "name": "stdout",
     "output_type": "stream",
     "text": [
      "INFO - 07/22/25 19:13:35 - 0:00:15 - (5376/20000) Found 57/128 valid top-1 predictions. Generating solutions ...\n",
      "INFO - 07/22/25 19:13:35 - 0:00:15 -     Found 57/128 solutions in beam hypotheses.\n"
     ]
    },
    {
     "name": "stdout",
     "output_type": "stream",
     "text": [
      "INFO - 07/22/25 19:13:35 - 0:00:15 - (5504/20000) Found 68/128 valid top-1 predictions. Generating solutions ...\n",
      "INFO - 07/22/25 19:13:35 - 0:00:15 -     Found 68/128 solutions in beam hypotheses.\n"
     ]
    },
    {
     "name": "stdout",
     "output_type": "stream",
     "text": [
      "INFO - 07/22/25 19:13:36 - 0:00:15 - (5632/20000) Found 57/128 valid top-1 predictions. Generating solutions ...\n",
      "INFO - 07/22/25 19:13:36 - 0:00:15 -     Found 57/128 solutions in beam hypotheses.\n"
     ]
    },
    {
     "name": "stdout",
     "output_type": "stream",
     "text": [
      "INFO - 07/22/25 19:13:36 - 0:00:15 - (5760/20000) Found 57/128 valid top-1 predictions. Generating solutions ...\n",
      "INFO - 07/22/25 19:13:36 - 0:00:15 -     Found 57/128 solutions in beam hypotheses.\n"
     ]
    },
    {
     "name": "stdout",
     "output_type": "stream",
     "text": [
      "INFO - 07/22/25 19:13:36 - 0:00:16 - (5888/20000) Found 61/128 valid top-1 predictions. Generating solutions ...\n",
      "INFO - 07/22/25 19:13:36 - 0:00:16 -     Found 61/128 solutions in beam hypotheses.\n"
     ]
    },
    {
     "name": "stdout",
     "output_type": "stream",
     "text": [
      "INFO - 07/22/25 19:13:36 - 0:00:16 - (6016/20000) Found 65/128 valid top-1 predictions. Generating solutions ...\n",
      "INFO - 07/22/25 19:13:36 - 0:00:16 -     Found 65/128 solutions in beam hypotheses.\n"
     ]
    },
    {
     "name": "stdout",
     "output_type": "stream",
     "text": [
      "INFO - 07/22/25 19:13:37 - 0:00:16 - (6144/20000) Found 63/128 valid top-1 predictions. Generating solutions ...\n",
      "INFO - 07/22/25 19:13:37 - 0:00:16 -     Found 63/128 solutions in beam hypotheses.\n"
     ]
    },
    {
     "name": "stdout",
     "output_type": "stream",
     "text": [
      "INFO - 07/22/25 19:13:37 - 0:00:17 - (6272/20000) Found 61/128 valid top-1 predictions. Generating solutions ...\n",
      "INFO - 07/22/25 19:13:37 - 0:00:17 -     Found 61/128 solutions in beam hypotheses.\n"
     ]
    },
    {
     "name": "stdout",
     "output_type": "stream",
     "text": [
      "INFO - 07/22/25 19:13:37 - 0:00:17 - (6400/20000) Found 58/128 valid top-1 predictions. Generating solutions ...\n",
      "INFO - 07/22/25 19:13:37 - 0:00:17 -     Found 58/128 solutions in beam hypotheses.\n"
     ]
    },
    {
     "name": "stdout",
     "output_type": "stream",
     "text": [
      "INFO - 07/22/25 19:13:38 - 0:00:17 - (6528/20000) Found 65/128 valid top-1 predictions. Generating solutions ...\n",
      "INFO - 07/22/25 19:13:38 - 0:00:17 -     Found 65/128 solutions in beam hypotheses.\n"
     ]
    },
    {
     "name": "stdout",
     "output_type": "stream",
     "text": [
      "INFO - 07/22/25 19:13:38 - 0:00:17 - (6656/20000) Found 56/128 valid top-1 predictions. Generating solutions ...\n",
      "INFO - 07/22/25 19:13:38 - 0:00:17 -     Found 56/128 solutions in beam hypotheses.\n"
     ]
    },
    {
     "name": "stdout",
     "output_type": "stream",
     "text": [
      "INFO - 07/22/25 19:13:38 - 0:00:18 - (6784/20000) Found 62/128 valid top-1 predictions. Generating solutions ...\n",
      "INFO - 07/22/25 19:13:38 - 0:00:18 -     Found 62/128 solutions in beam hypotheses.\n"
     ]
    },
    {
     "name": "stdout",
     "output_type": "stream",
     "text": [
      "INFO - 07/22/25 19:13:38 - 0:00:18 - (6912/20000) Found 55/128 valid top-1 predictions. Generating solutions ...\n",
      "INFO - 07/22/25 19:13:38 - 0:00:18 -     Found 55/128 solutions in beam hypotheses.\n"
     ]
    },
    {
     "name": "stdout",
     "output_type": "stream",
     "text": [
      "INFO - 07/22/25 19:13:39 - 0:00:18 - (7040/20000) Found 57/128 valid top-1 predictions. Generating solutions ...\n",
      "INFO - 07/22/25 19:13:39 - 0:00:18 -     Found 57/128 solutions in beam hypotheses.\n"
     ]
    },
    {
     "name": "stdout",
     "output_type": "stream",
     "text": [
      "INFO - 07/22/25 19:13:39 - 0:00:19 - (7168/20000) Found 60/128 valid top-1 predictions. Generating solutions ...\n",
      "INFO - 07/22/25 19:13:39 - 0:00:19 -     Found 60/128 solutions in beam hypotheses.\n"
     ]
    },
    {
     "name": "stdout",
     "output_type": "stream",
     "text": [
      "INFO - 07/22/25 19:13:39 - 0:00:19 - (7296/20000) Found 64/128 valid top-1 predictions. Generating solutions ...\n",
      "INFO - 07/22/25 19:13:39 - 0:00:19 -     Found 64/128 solutions in beam hypotheses.\n"
     ]
    },
    {
     "name": "stdout",
     "output_type": "stream",
     "text": [
      "INFO - 07/22/25 19:13:40 - 0:00:19 - (7424/20000) Found 70/128 valid top-1 predictions. Generating solutions ...\n",
      "INFO - 07/22/25 19:13:40 - 0:00:19 -     Found 70/128 solutions in beam hypotheses.\n"
     ]
    },
    {
     "name": "stdout",
     "output_type": "stream",
     "text": [
      "INFO - 07/22/25 19:13:40 - 0:00:19 - (7552/20000) Found 58/128 valid top-1 predictions. Generating solutions ...\n",
      "INFO - 07/22/25 19:13:40 - 0:00:20 -     Found 58/128 solutions in beam hypotheses.\n"
     ]
    },
    {
     "name": "stdout",
     "output_type": "stream",
     "text": [
      "INFO - 07/22/25 19:13:40 - 0:00:20 - (7680/20000) Found 61/128 valid top-1 predictions. Generating solutions ...\n",
      "INFO - 07/22/25 19:13:40 - 0:00:20 -     Found 61/128 solutions in beam hypotheses.\n"
     ]
    },
    {
     "name": "stdout",
     "output_type": "stream",
     "text": [
      "INFO - 07/22/25 19:13:40 - 0:00:20 - (7808/20000) Found 66/128 valid top-1 predictions. Generating solutions ...\n",
      "INFO - 07/22/25 19:13:41 - 0:00:20 -     Found 66/128 solutions in beam hypotheses.\n"
     ]
    },
    {
     "name": "stdout",
     "output_type": "stream",
     "text": [
      "INFO - 07/22/25 19:13:41 - 0:00:20 - (7936/20000) Found 54/128 valid top-1 predictions. Generating solutions ...\n",
      "INFO - 07/22/25 19:13:41 - 0:00:20 -     Found 54/128 solutions in beam hypotheses.\n"
     ]
    },
    {
     "name": "stdout",
     "output_type": "stream",
     "text": [
      "INFO - 07/22/25 19:13:41 - 0:00:21 - (8064/20000) Found 64/128 valid top-1 predictions. Generating solutions ...\n",
      "INFO - 07/22/25 19:13:41 - 0:00:21 -     Found 64/128 solutions in beam hypotheses.\n"
     ]
    },
    {
     "name": "stdout",
     "output_type": "stream",
     "text": [
      "INFO - 07/22/25 19:13:41 - 0:00:21 - (8192/20000) Found 60/128 valid top-1 predictions. Generating solutions ...\n",
      "INFO - 07/22/25 19:13:41 - 0:00:21 -     Found 60/128 solutions in beam hypotheses.\n"
     ]
    },
    {
     "name": "stdout",
     "output_type": "stream",
     "text": [
      "INFO - 07/22/25 19:13:42 - 0:00:21 - (8320/20000) Found 59/128 valid top-1 predictions. Generating solutions ...\n",
      "INFO - 07/22/25 19:13:42 - 0:00:21 -     Found 59/128 solutions in beam hypotheses.\n"
     ]
    },
    {
     "name": "stdout",
     "output_type": "stream",
     "text": [
      "INFO - 07/22/25 19:13:42 - 0:00:22 - (8448/20000) Found 64/128 valid top-1 predictions. Generating solutions ...\n",
      "INFO - 07/22/25 19:13:42 - 0:00:22 -     Found 64/128 solutions in beam hypotheses.\n"
     ]
    },
    {
     "name": "stdout",
     "output_type": "stream",
     "text": [
      "INFO - 07/22/25 19:13:42 - 0:00:22 - (8576/20000) Found 60/128 valid top-1 predictions. Generating solutions ...\n",
      "INFO - 07/22/25 19:13:42 - 0:00:22 -     Found 60/128 solutions in beam hypotheses.\n"
     ]
    },
    {
     "name": "stdout",
     "output_type": "stream",
     "text": [
      "INFO - 07/22/25 19:13:43 - 0:00:22 - (8704/20000) Found 54/128 valid top-1 predictions. Generating solutions ...\n",
      "INFO - 07/22/25 19:13:43 - 0:00:22 -     Found 54/128 solutions in beam hypotheses.\n"
     ]
    },
    {
     "name": "stdout",
     "output_type": "stream",
     "text": [
      "INFO - 07/22/25 19:13:43 - 0:00:22 - (8832/20000) Found 63/128 valid top-1 predictions. Generating solutions ...\n",
      "INFO - 07/22/25 19:13:43 - 0:00:22 -     Found 63/128 solutions in beam hypotheses.\n"
     ]
    },
    {
     "name": "stdout",
     "output_type": "stream",
     "text": [
      "INFO - 07/22/25 19:13:43 - 0:00:23 - (8960/20000) Found 59/128 valid top-1 predictions. Generating solutions ...\n",
      "INFO - 07/22/25 19:13:43 - 0:00:23 -     Found 59/128 solutions in beam hypotheses.\n"
     ]
    },
    {
     "name": "stdout",
     "output_type": "stream",
     "text": [
      "INFO - 07/22/25 19:13:43 - 0:00:23 - (9088/20000) Found 55/128 valid top-1 predictions. Generating solutions ...\n",
      "INFO - 07/22/25 19:13:43 - 0:00:23 -     Found 55/128 solutions in beam hypotheses.\n"
     ]
    },
    {
     "name": "stdout",
     "output_type": "stream",
     "text": [
      "INFO - 07/22/25 19:13:44 - 0:00:23 - (9216/20000) Found 55/128 valid top-1 predictions. Generating solutions ...\n",
      "INFO - 07/22/25 19:13:44 - 0:00:23 -     Found 55/128 solutions in beam hypotheses.\n"
     ]
    },
    {
     "name": "stdout",
     "output_type": "stream",
     "text": [
      "INFO - 07/22/25 19:13:44 - 0:00:24 - (9344/20000) Found 61/128 valid top-1 predictions. Generating solutions ...\n",
      "INFO - 07/22/25 19:13:44 - 0:00:24 -     Found 61/128 solutions in beam hypotheses.\n"
     ]
    },
    {
     "name": "stdout",
     "output_type": "stream",
     "text": [
      "INFO - 07/22/25 19:13:44 - 0:00:24 - (9472/20000) Found 61/128 valid top-1 predictions. Generating solutions ...\n",
      "INFO - 07/22/25 19:13:44 - 0:00:24 -     Found 61/128 solutions in beam hypotheses.\n"
     ]
    },
    {
     "name": "stdout",
     "output_type": "stream",
     "text": [
      "INFO - 07/22/25 19:13:45 - 0:00:24 - (9600/20000) Found 52/128 valid top-1 predictions. Generating solutions ...\n",
      "INFO - 07/22/25 19:13:45 - 0:00:24 -     Found 52/128 solutions in beam hypotheses.\n"
     ]
    },
    {
     "name": "stdout",
     "output_type": "stream",
     "text": [
      "INFO - 07/22/25 19:13:45 - 0:00:25 - (9728/20000) Found 59/128 valid top-1 predictions. Generating solutions ...\n",
      "INFO - 07/22/25 19:13:45 - 0:00:25 -     Found 59/128 solutions in beam hypotheses.\n"
     ]
    },
    {
     "name": "stdout",
     "output_type": "stream",
     "text": [
      "INFO - 07/22/25 19:13:45 - 0:00:25 - (9856/20000) Found 67/128 valid top-1 predictions. Generating solutions ...\n",
      "INFO - 07/22/25 19:13:45 - 0:00:25 -     Found 67/128 solutions in beam hypotheses.\n"
     ]
    },
    {
     "name": "stdout",
     "output_type": "stream",
     "text": [
      "INFO - 07/22/25 19:13:46 - 0:00:25 - (9984/20000) Found 56/128 valid top-1 predictions. Generating solutions ...\n",
      "INFO - 07/22/25 19:13:46 - 0:00:25 -     Found 56/128 solutions in beam hypotheses.\n"
     ]
    },
    {
     "name": "stdout",
     "output_type": "stream",
     "text": [
      "INFO - 07/22/25 19:13:46 - 0:00:25 - (10112/20000) Found 57/128 valid top-1 predictions. Generating solutions ...\n",
      "INFO - 07/22/25 19:13:46 - 0:00:25 -     Found 57/128 solutions in beam hypotheses.\n"
     ]
    },
    {
     "name": "stdout",
     "output_type": "stream",
     "text": [
      "INFO - 07/22/25 19:13:46 - 0:00:26 - (10240/20000) Found 63/128 valid top-1 predictions. Generating solutions ...\n",
      "INFO - 07/22/25 19:13:46 - 0:00:26 -     Found 63/128 solutions in beam hypotheses.\n"
     ]
    },
    {
     "name": "stdout",
     "output_type": "stream",
     "text": [
      "INFO - 07/22/25 19:13:46 - 0:00:26 - (10368/20000) Found 58/128 valid top-1 predictions. Generating solutions ...\n",
      "INFO - 07/22/25 19:13:46 - 0:00:26 -     Found 58/128 solutions in beam hypotheses.\n"
     ]
    },
    {
     "name": "stdout",
     "output_type": "stream",
     "text": [
      "INFO - 07/22/25 19:13:47 - 0:00:26 - (10496/20000) Found 60/128 valid top-1 predictions. Generating solutions ...\n",
      "INFO - 07/22/25 19:13:47 - 0:00:26 -     Found 60/128 solutions in beam hypotheses.\n"
     ]
    },
    {
     "name": "stdout",
     "output_type": "stream",
     "text": [
      "INFO - 07/22/25 19:13:47 - 0:00:27 - (10624/20000) Found 72/128 valid top-1 predictions. Generating solutions ...\n",
      "INFO - 07/22/25 19:13:47 - 0:00:27 -     Found 72/128 solutions in beam hypotheses.\n"
     ]
    },
    {
     "name": "stdout",
     "output_type": "stream",
     "text": [
      "INFO - 07/22/25 19:13:47 - 0:00:27 - (10752/20000) Found 58/128 valid top-1 predictions. Generating solutions ...\n",
      "INFO - 07/22/25 19:13:47 - 0:00:27 -     Found 58/128 solutions in beam hypotheses.\n"
     ]
    },
    {
     "name": "stdout",
     "output_type": "stream",
     "text": [
      "INFO - 07/22/25 19:13:48 - 0:00:27 - (10880/20000) Found 61/128 valid top-1 predictions. Generating solutions ...\n",
      "INFO - 07/22/25 19:13:48 - 0:00:27 -     Found 61/128 solutions in beam hypotheses.\n"
     ]
    },
    {
     "name": "stdout",
     "output_type": "stream",
     "text": [
      "INFO - 07/22/25 19:13:48 - 0:00:27 - (11008/20000) Found 65/128 valid top-1 predictions. Generating solutions ...\n",
      "INFO - 07/22/25 19:13:48 - 0:00:28 -     Found 65/128 solutions in beam hypotheses.\n"
     ]
    },
    {
     "name": "stdout",
     "output_type": "stream",
     "text": [
      "INFO - 07/22/25 19:13:48 - 0:00:28 - (11136/20000) Found 61/128 valid top-1 predictions. Generating solutions ...\n",
      "INFO - 07/22/25 19:13:48 - 0:00:28 -     Found 61/128 solutions in beam hypotheses.\n"
     ]
    },
    {
     "name": "stdout",
     "output_type": "stream",
     "text": [
      "INFO - 07/22/25 19:13:48 - 0:00:28 - (11264/20000) Found 60/128 valid top-1 predictions. Generating solutions ...\n",
      "INFO - 07/22/25 19:13:49 - 0:00:28 -     Found 60/128 solutions in beam hypotheses.\n"
     ]
    },
    {
     "name": "stdout",
     "output_type": "stream",
     "text": [
      "INFO - 07/22/25 19:13:49 - 0:00:28 - (11392/20000) Found 69/128 valid top-1 predictions. Generating solutions ...\n",
      "INFO - 07/22/25 19:13:49 - 0:00:28 -     Found 69/128 solutions in beam hypotheses.\n"
     ]
    },
    {
     "name": "stdout",
     "output_type": "stream",
     "text": [
      "INFO - 07/22/25 19:13:49 - 0:00:29 - (11520/20000) Found 60/128 valid top-1 predictions. Generating solutions ...\n",
      "INFO - 07/22/25 19:13:49 - 0:00:29 -     Found 60/128 solutions in beam hypotheses.\n"
     ]
    },
    {
     "name": "stdout",
     "output_type": "stream",
     "text": [
      "INFO - 07/22/25 19:13:49 - 0:00:29 - (11648/20000) Found 58/128 valid top-1 predictions. Generating solutions ...\n",
      "INFO - 07/22/25 19:13:49 - 0:00:29 -     Found 58/128 solutions in beam hypotheses.\n"
     ]
    },
    {
     "name": "stdout",
     "output_type": "stream",
     "text": [
      "INFO - 07/22/25 19:13:50 - 0:00:29 - (11776/20000) Found 62/128 valid top-1 predictions. Generating solutions ...\n",
      "INFO - 07/22/25 19:13:50 - 0:00:29 -     Found 62/128 solutions in beam hypotheses.\n"
     ]
    },
    {
     "name": "stdout",
     "output_type": "stream",
     "text": [
      "INFO - 07/22/25 19:13:50 - 0:00:30 - (11904/20000) Found 62/128 valid top-1 predictions. Generating solutions ...\n",
      "INFO - 07/22/25 19:13:50 - 0:00:30 -     Found 62/128 solutions in beam hypotheses.\n"
     ]
    },
    {
     "name": "stdout",
     "output_type": "stream",
     "text": [
      "INFO - 07/22/25 19:13:50 - 0:00:30 - (12032/20000) Found 69/128 valid top-1 predictions. Generating solutions ...\n",
      "INFO - 07/22/25 19:13:50 - 0:00:30 -     Found 69/128 solutions in beam hypotheses.\n"
     ]
    },
    {
     "name": "stdout",
     "output_type": "stream",
     "text": [
      "INFO - 07/22/25 19:13:51 - 0:00:30 - (12160/20000) Found 64/128 valid top-1 predictions. Generating solutions ...\n",
      "INFO - 07/22/25 19:13:51 - 0:00:30 -     Found 64/128 solutions in beam hypotheses.\n"
     ]
    },
    {
     "name": "stdout",
     "output_type": "stream",
     "text": [
      "INFO - 07/22/25 19:13:51 - 0:00:30 - (12288/20000) Found 61/128 valid top-1 predictions. Generating solutions ...\n",
      "INFO - 07/22/25 19:13:51 - 0:00:30 -     Found 61/128 solutions in beam hypotheses.\n"
     ]
    },
    {
     "name": "stdout",
     "output_type": "stream",
     "text": [
      "INFO - 07/22/25 19:13:51 - 0:00:31 - (12416/20000) Found 60/128 valid top-1 predictions. Generating solutions ...\n",
      "INFO - 07/22/25 19:13:51 - 0:00:31 -     Found 60/128 solutions in beam hypotheses.\n"
     ]
    },
    {
     "name": "stdout",
     "output_type": "stream",
     "text": [
      "INFO - 07/22/25 19:13:51 - 0:00:31 - (12544/20000) Found 60/128 valid top-1 predictions. Generating solutions ...\n",
      "INFO - 07/22/25 19:13:51 - 0:00:31 -     Found 60/128 solutions in beam hypotheses.\n"
     ]
    },
    {
     "name": "stdout",
     "output_type": "stream",
     "text": [
      "INFO - 07/22/25 19:13:52 - 0:00:31 - (12672/20000) Found 70/128 valid top-1 predictions. Generating solutions ...\n",
      "INFO - 07/22/25 19:13:52 - 0:00:31 -     Found 70/128 solutions in beam hypotheses.\n"
     ]
    },
    {
     "name": "stdout",
     "output_type": "stream",
     "text": [
      "INFO - 07/22/25 19:13:52 - 0:00:32 - (12800/20000) Found 69/128 valid top-1 predictions. Generating solutions ...\n",
      "INFO - 07/22/25 19:13:52 - 0:00:32 -     Found 69/128 solutions in beam hypotheses.\n"
     ]
    },
    {
     "name": "stdout",
     "output_type": "stream",
     "text": [
      "INFO - 07/22/25 19:13:52 - 0:00:32 - (12928/20000) Found 62/128 valid top-1 predictions. Generating solutions ...\n",
      "INFO - 07/22/25 19:13:52 - 0:00:32 -     Found 62/128 solutions in beam hypotheses.\n"
     ]
    },
    {
     "name": "stdout",
     "output_type": "stream",
     "text": [
      "INFO - 07/22/25 19:13:53 - 0:00:32 - (13056/20000) Found 61/128 valid top-1 predictions. Generating solutions ...\n",
      "INFO - 07/22/25 19:13:53 - 0:00:32 -     Found 61/128 solutions in beam hypotheses.\n"
     ]
    },
    {
     "name": "stdout",
     "output_type": "stream",
     "text": [
      "INFO - 07/22/25 19:13:53 - 0:00:32 - (13184/20000) Found 57/128 valid top-1 predictions. Generating solutions ...\n",
      "INFO - 07/22/25 19:13:53 - 0:00:32 -     Found 57/128 solutions in beam hypotheses.\n"
     ]
    },
    {
     "name": "stdout",
     "output_type": "stream",
     "text": [
      "INFO - 07/22/25 19:13:53 - 0:00:33 - (13312/20000) Found 55/128 valid top-1 predictions. Generating solutions ...\n",
      "INFO - 07/22/25 19:13:53 - 0:00:33 -     Found 55/128 solutions in beam hypotheses.\n"
     ]
    },
    {
     "name": "stdout",
     "output_type": "stream",
     "text": [
      "INFO - 07/22/25 19:13:53 - 0:00:33 - (13440/20000) Found 61/128 valid top-1 predictions. Generating solutions ...\n",
      "INFO - 07/22/25 19:13:53 - 0:00:33 -     Found 61/128 solutions in beam hypotheses.\n"
     ]
    },
    {
     "name": "stdout",
     "output_type": "stream",
     "text": [
      "INFO - 07/22/25 19:13:54 - 0:00:33 - (13568/20000) Found 62/128 valid top-1 predictions. Generating solutions ...\n",
      "INFO - 07/22/25 19:13:54 - 0:00:33 -     Found 62/128 solutions in beam hypotheses.\n"
     ]
    },
    {
     "name": "stdout",
     "output_type": "stream",
     "text": [
      "INFO - 07/22/25 19:13:54 - 0:00:34 - (13696/20000) Found 61/128 valid top-1 predictions. Generating solutions ...\n",
      "INFO - 07/22/25 19:13:54 - 0:00:34 -     Found 61/128 solutions in beam hypotheses.\n"
     ]
    },
    {
     "name": "stdout",
     "output_type": "stream",
     "text": [
      "INFO - 07/22/25 19:13:54 - 0:00:34 - (13824/20000) Found 66/128 valid top-1 predictions. Generating solutions ...\n",
      "INFO - 07/22/25 19:13:54 - 0:00:34 -     Found 66/128 solutions in beam hypotheses.\n"
     ]
    },
    {
     "name": "stdout",
     "output_type": "stream",
     "text": [
      "INFO - 07/22/25 19:13:55 - 0:00:34 - (13952/20000) Found 60/128 valid top-1 predictions. Generating solutions ...\n",
      "INFO - 07/22/25 19:13:55 - 0:00:34 -     Found 60/128 solutions in beam hypotheses.\n"
     ]
    },
    {
     "name": "stdout",
     "output_type": "stream",
     "text": [
      "INFO - 07/22/25 19:13:55 - 0:00:35 - (14080/20000) Found 62/128 valid top-1 predictions. Generating solutions ...\n",
      "INFO - 07/22/25 19:13:55 - 0:00:35 -     Found 62/128 solutions in beam hypotheses.\n"
     ]
    },
    {
     "name": "stdout",
     "output_type": "stream",
     "text": [
      "INFO - 07/22/25 19:13:55 - 0:00:35 - (14208/20000) Found 59/128 valid top-1 predictions. Generating solutions ...\n",
      "INFO - 07/22/25 19:13:55 - 0:00:35 -     Found 59/128 solutions in beam hypotheses.\n"
     ]
    },
    {
     "name": "stdout",
     "output_type": "stream",
     "text": [
      "INFO - 07/22/25 19:13:56 - 0:00:35 - (14336/20000) Found 64/128 valid top-1 predictions. Generating solutions ...\n",
      "INFO - 07/22/25 19:13:56 - 0:00:35 -     Found 64/128 solutions in beam hypotheses.\n"
     ]
    },
    {
     "name": "stdout",
     "output_type": "stream",
     "text": [
      "INFO - 07/22/25 19:13:56 - 0:00:35 - (14464/20000) Found 63/128 valid top-1 predictions. Generating solutions ...\n",
      "INFO - 07/22/25 19:13:56 - 0:00:35 -     Found 63/128 solutions in beam hypotheses.\n"
     ]
    },
    {
     "name": "stdout",
     "output_type": "stream",
     "text": [
      "INFO - 07/22/25 19:13:56 - 0:00:36 - (14592/20000) Found 56/128 valid top-1 predictions. Generating solutions ...\n",
      "INFO - 07/22/25 19:13:56 - 0:00:36 -     Found 56/128 solutions in beam hypotheses.\n"
     ]
    },
    {
     "name": "stdout",
     "output_type": "stream",
     "text": [
      "INFO - 07/22/25 19:13:56 - 0:00:36 - (14720/20000) Found 62/128 valid top-1 predictions. Generating solutions ...\n",
      "INFO - 07/22/25 19:13:56 - 0:00:36 -     Found 62/128 solutions in beam hypotheses.\n"
     ]
    },
    {
     "name": "stdout",
     "output_type": "stream",
     "text": [
      "INFO - 07/22/25 19:13:57 - 0:00:36 - (14848/20000) Found 69/128 valid top-1 predictions. Generating solutions ...\n",
      "INFO - 07/22/25 19:13:57 - 0:00:36 -     Found 69/128 solutions in beam hypotheses.\n"
     ]
    },
    {
     "name": "stdout",
     "output_type": "stream",
     "text": [
      "INFO - 07/22/25 19:13:57 - 0:00:37 - (14976/20000) Found 62/128 valid top-1 predictions. Generating solutions ...\n",
      "INFO - 07/22/25 19:13:57 - 0:00:37 -     Found 62/128 solutions in beam hypotheses.\n"
     ]
    },
    {
     "name": "stdout",
     "output_type": "stream",
     "text": [
      "INFO - 07/22/25 19:13:57 - 0:00:37 - (15104/20000) Found 59/128 valid top-1 predictions. Generating solutions ...\n",
      "INFO - 07/22/25 19:13:57 - 0:00:37 -     Found 59/128 solutions in beam hypotheses.\n"
     ]
    },
    {
     "name": "stdout",
     "output_type": "stream",
     "text": [
      "INFO - 07/22/25 19:13:58 - 0:00:37 - (15232/20000) Found 52/128 valid top-1 predictions. Generating solutions ...\n",
      "INFO - 07/22/25 19:13:58 - 0:00:37 -     Found 52/128 solutions in beam hypotheses.\n"
     ]
    },
    {
     "name": "stdout",
     "output_type": "stream",
     "text": [
      "INFO - 07/22/25 19:13:58 - 0:00:37 - (15360/20000) Found 63/128 valid top-1 predictions. Generating solutions ...\n",
      "INFO - 07/22/25 19:13:58 - 0:00:37 -     Found 63/128 solutions in beam hypotheses.\n"
     ]
    },
    {
     "name": "stdout",
     "output_type": "stream",
     "text": [
      "INFO - 07/22/25 19:13:58 - 0:00:38 - (15488/20000) Found 59/128 valid top-1 predictions. Generating solutions ...\n",
      "INFO - 07/22/25 19:13:58 - 0:00:38 -     Found 59/128 solutions in beam hypotheses.\n"
     ]
    },
    {
     "name": "stdout",
     "output_type": "stream",
     "text": [
      "INFO - 07/22/25 19:13:58 - 0:00:38 - (15616/20000) Found 56/128 valid top-1 predictions. Generating solutions ...\n",
      "INFO - 07/22/25 19:13:58 - 0:00:38 -     Found 56/128 solutions in beam hypotheses.\n"
     ]
    },
    {
     "name": "stdout",
     "output_type": "stream",
     "text": [
      "INFO - 07/22/25 19:13:59 - 0:00:38 - (15744/20000) Found 62/128 valid top-1 predictions. Generating solutions ...\n",
      "INFO - 07/22/25 19:13:59 - 0:00:38 -     Found 62/128 solutions in beam hypotheses.\n"
     ]
    },
    {
     "name": "stdout",
     "output_type": "stream",
     "text": [
      "INFO - 07/22/25 19:13:59 - 0:00:39 - (15872/20000) Found 61/128 valid top-1 predictions. Generating solutions ...\n",
      "INFO - 07/22/25 19:13:59 - 0:00:39 -     Found 61/128 solutions in beam hypotheses.\n"
     ]
    },
    {
     "name": "stdout",
     "output_type": "stream",
     "text": [
      "INFO - 07/22/25 19:13:59 - 0:00:39 - (16000/20000) Found 55/128 valid top-1 predictions. Generating solutions ...\n",
      "INFO - 07/22/25 19:13:59 - 0:00:39 -     Found 55/128 solutions in beam hypotheses.\n"
     ]
    },
    {
     "name": "stdout",
     "output_type": "stream",
     "text": [
      "INFO - 07/22/25 19:14:00 - 0:00:39 - (16128/20000) Found 57/128 valid top-1 predictions. Generating solutions ...\n",
      "INFO - 07/22/25 19:14:00 - 0:00:39 -     Found 57/128 solutions in beam hypotheses.\n"
     ]
    },
    {
     "name": "stdout",
     "output_type": "stream",
     "text": [
      "INFO - 07/22/25 19:14:00 - 0:00:39 - (16256/20000) Found 49/128 valid top-1 predictions. Generating solutions ...\n",
      "INFO - 07/22/25 19:14:00 - 0:00:40 -     Found 49/128 solutions in beam hypotheses.\n"
     ]
    },
    {
     "name": "stdout",
     "output_type": "stream",
     "text": [
      "INFO - 07/22/25 19:14:00 - 0:00:40 - (16384/20000) Found 68/128 valid top-1 predictions. Generating solutions ...\n",
      "INFO - 07/22/25 19:14:00 - 0:00:40 -     Found 68/128 solutions in beam hypotheses.\n"
     ]
    },
    {
     "name": "stdout",
     "output_type": "stream",
     "text": [
      "INFO - 07/22/25 19:14:00 - 0:00:40 - (16512/20000) Found 57/128 valid top-1 predictions. Generating solutions ...\n",
      "INFO - 07/22/25 19:14:01 - 0:00:40 -     Found 57/128 solutions in beam hypotheses.\n"
     ]
    },
    {
     "name": "stdout",
     "output_type": "stream",
     "text": [
      "INFO - 07/22/25 19:14:01 - 0:00:40 - (16640/20000) Found 59/128 valid top-1 predictions. Generating solutions ...\n",
      "INFO - 07/22/25 19:14:01 - 0:00:40 -     Found 59/128 solutions in beam hypotheses.\n"
     ]
    },
    {
     "name": "stdout",
     "output_type": "stream",
     "text": [
      "INFO - 07/22/25 19:14:01 - 0:00:41 - (16768/20000) Found 56/128 valid top-1 predictions. Generating solutions ...\n",
      "INFO - 07/22/25 19:14:01 - 0:00:41 -     Found 56/128 solutions in beam hypotheses.\n"
     ]
    },
    {
     "name": "stdout",
     "output_type": "stream",
     "text": [
      "INFO - 07/22/25 19:14:01 - 0:00:41 - (16896/20000) Found 64/128 valid top-1 predictions. Generating solutions ...\n",
      "INFO - 07/22/25 19:14:01 - 0:00:41 -     Found 64/128 solutions in beam hypotheses.\n"
     ]
    },
    {
     "name": "stdout",
     "output_type": "stream",
     "text": [
      "INFO - 07/22/25 19:14:02 - 0:00:41 - (17024/20000) Found 63/128 valid top-1 predictions. Generating solutions ...\n",
      "INFO - 07/22/25 19:14:02 - 0:00:41 -     Found 63/128 solutions in beam hypotheses.\n"
     ]
    },
    {
     "name": "stdout",
     "output_type": "stream",
     "text": [
      "INFO - 07/22/25 19:14:02 - 0:00:42 - (17152/20000) Found 60/128 valid top-1 predictions. Generating solutions ...\n",
      "INFO - 07/22/25 19:14:02 - 0:00:42 -     Found 60/128 solutions in beam hypotheses.\n"
     ]
    },
    {
     "name": "stdout",
     "output_type": "stream",
     "text": [
      "INFO - 07/22/25 19:14:02 - 0:00:42 - (17280/20000) Found 62/128 valid top-1 predictions. Generating solutions ...\n",
      "INFO - 07/22/25 19:14:02 - 0:00:42 -     Found 62/128 solutions in beam hypotheses.\n"
     ]
    },
    {
     "name": "stdout",
     "output_type": "stream",
     "text": [
      "INFO - 07/22/25 19:14:03 - 0:00:42 - (17408/20000) Found 54/128 valid top-1 predictions. Generating solutions ...\n",
      "INFO - 07/22/25 19:14:03 - 0:00:42 -     Found 54/128 solutions in beam hypotheses.\n"
     ]
    },
    {
     "name": "stdout",
     "output_type": "stream",
     "text": [
      "INFO - 07/22/25 19:14:03 - 0:00:42 - (17536/20000) Found 59/128 valid top-1 predictions. Generating solutions ...\n",
      "INFO - 07/22/25 19:14:03 - 0:00:42 -     Found 59/128 solutions in beam hypotheses.\n"
     ]
    },
    {
     "name": "stdout",
     "output_type": "stream",
     "text": [
      "INFO - 07/22/25 19:14:03 - 0:00:43 - (17664/20000) Found 59/128 valid top-1 predictions. Generating solutions ...\n",
      "INFO - 07/22/25 19:14:03 - 0:00:43 -     Found 59/128 solutions in beam hypotheses.\n"
     ]
    },
    {
     "name": "stdout",
     "output_type": "stream",
     "text": [
      "INFO - 07/22/25 19:14:03 - 0:00:43 - (17792/20000) Found 67/128 valid top-1 predictions. Generating solutions ...\n",
      "INFO - 07/22/25 19:14:03 - 0:00:43 -     Found 67/128 solutions in beam hypotheses.\n"
     ]
    },
    {
     "name": "stdout",
     "output_type": "stream",
     "text": [
      "INFO - 07/22/25 19:14:04 - 0:00:43 - (17920/20000) Found 68/128 valid top-1 predictions. Generating solutions ...\n",
      "INFO - 07/22/25 19:14:04 - 0:00:43 -     Found 68/128 solutions in beam hypotheses.\n"
     ]
    },
    {
     "name": "stdout",
     "output_type": "stream",
     "text": [
      "INFO - 07/22/25 19:14:04 - 0:00:44 - (18048/20000) Found 50/128 valid top-1 predictions. Generating solutions ...\n",
      "INFO - 07/22/25 19:14:04 - 0:00:44 -     Found 50/128 solutions in beam hypotheses.\n"
     ]
    },
    {
     "name": "stdout",
     "output_type": "stream",
     "text": [
      "INFO - 07/22/25 19:14:04 - 0:00:44 - (18176/20000) Found 63/128 valid top-1 predictions. Generating solutions ...\n",
      "INFO - 07/22/25 19:14:04 - 0:00:44 -     Found 63/128 solutions in beam hypotheses.\n"
     ]
    },
    {
     "name": "stdout",
     "output_type": "stream",
     "text": [
      "INFO - 07/22/25 19:14:05 - 0:00:44 - (18304/20000) Found 69/128 valid top-1 predictions. Generating solutions ...\n",
      "INFO - 07/22/25 19:14:05 - 0:00:44 -     Found 69/128 solutions in beam hypotheses.\n"
     ]
    },
    {
     "name": "stdout",
     "output_type": "stream",
     "text": [
      "INFO - 07/22/25 19:14:05 - 0:00:44 - (18432/20000) Found 60/128 valid top-1 predictions. Generating solutions ...\n",
      "INFO - 07/22/25 19:14:05 - 0:00:45 -     Found 60/128 solutions in beam hypotheses.\n"
     ]
    },
    {
     "name": "stdout",
     "output_type": "stream",
     "text": [
      "INFO - 07/22/25 19:14:05 - 0:00:45 - (18560/20000) Found 61/128 valid top-1 predictions. Generating solutions ...\n",
      "INFO - 07/22/25 19:14:05 - 0:00:45 -     Found 61/128 solutions in beam hypotheses.\n"
     ]
    },
    {
     "name": "stdout",
     "output_type": "stream",
     "text": [
      "INFO - 07/22/25 19:14:05 - 0:00:45 - (18688/20000) Found 65/128 valid top-1 predictions. Generating solutions ...\n",
      "INFO - 07/22/25 19:14:06 - 0:00:45 -     Found 65/128 solutions in beam hypotheses.\n"
     ]
    },
    {
     "name": "stdout",
     "output_type": "stream",
     "text": [
      "INFO - 07/22/25 19:14:06 - 0:00:45 - (18816/20000) Found 71/128 valid top-1 predictions. Generating solutions ...\n",
      "INFO - 07/22/25 19:14:06 - 0:00:45 -     Found 71/128 solutions in beam hypotheses.\n"
     ]
    },
    {
     "name": "stdout",
     "output_type": "stream",
     "text": [
      "INFO - 07/22/25 19:14:06 - 0:00:46 - (18944/20000) Found 59/128 valid top-1 predictions. Generating solutions ...\n",
      "INFO - 07/22/25 19:14:06 - 0:00:46 -     Found 59/128 solutions in beam hypotheses.\n"
     ]
    },
    {
     "name": "stdout",
     "output_type": "stream",
     "text": [
      "INFO - 07/22/25 19:14:06 - 0:00:46 - (19072/20000) Found 63/128 valid top-1 predictions. Generating solutions ...\n",
      "INFO - 07/22/25 19:14:06 - 0:00:46 -     Found 63/128 solutions in beam hypotheses.\n"
     ]
    },
    {
     "name": "stdout",
     "output_type": "stream",
     "text": [
      "INFO - 07/22/25 19:14:07 - 0:00:46 - (19200/20000) Found 68/128 valid top-1 predictions. Generating solutions ...\n",
      "INFO - 07/22/25 19:14:07 - 0:00:46 -     Found 68/128 solutions in beam hypotheses.\n"
     ]
    },
    {
     "name": "stdout",
     "output_type": "stream",
     "text": [
      "INFO - 07/22/25 19:14:07 - 0:00:47 - (19328/20000) Found 58/128 valid top-1 predictions. Generating solutions ...\n",
      "INFO - 07/22/25 19:14:07 - 0:00:47 -     Found 58/128 solutions in beam hypotheses.\n"
     ]
    },
    {
     "name": "stdout",
     "output_type": "stream",
     "text": [
      "INFO - 07/22/25 19:14:07 - 0:00:47 - (19456/20000) Found 71/128 valid top-1 predictions. Generating solutions ...\n",
      "INFO - 07/22/25 19:14:07 - 0:00:47 -     Found 71/128 solutions in beam hypotheses.\n"
     ]
    },
    {
     "name": "stdout",
     "output_type": "stream",
     "text": [
      "INFO - 07/22/25 19:14:08 - 0:00:47 - (19584/20000) Found 62/128 valid top-1 predictions. Generating solutions ...\n",
      "INFO - 07/22/25 19:14:08 - 0:00:47 -     Found 62/128 solutions in beam hypotheses.\n"
     ]
    },
    {
     "name": "stdout",
     "output_type": "stream",
     "text": [
      "INFO - 07/22/25 19:14:08 - 0:00:47 - (19712/20000) Found 78/128 valid top-1 predictions. Generating solutions ...\n",
      "INFO - 07/22/25 19:14:08 - 0:00:47 -     Found 78/128 solutions in beam hypotheses.\n"
     ]
    },
    {
     "name": "stdout",
     "output_type": "stream",
     "text": [
      "INFO - 07/22/25 19:14:08 - 0:00:48 - (19840/20000) Found 55/128 valid top-1 predictions. Generating solutions ...\n",
      "INFO - 07/22/25 19:14:08 - 0:00:48 -     Found 55/128 solutions in beam hypotheses.\n"
     ]
    },
    {
     "name": "stdout",
     "output_type": "stream",
     "text": [
      "INFO - 07/22/25 19:14:08 - 0:00:48 - (19968/20000) Found 53/128 valid top-1 predictions. Generating solutions ...\n",
      "INFO - 07/22/25 19:14:08 - 0:00:48 -     Found 53/128 solutions in beam hypotheses.\n",
      "INFO - 07/22/25 19:14:09 - 0:00:48 - (20000/20000) Found 17/32 valid top-1 predictions. Generating solutions ...\n",
      "INFO - 07/22/25 19:14:09 - 0:00:48 -     Found 17/32 solutions in beam hypotheses.\n",
      "INFO - 07/22/25 19:14:09 - 0:00:48 - 9512/20000 (47.56%) equations were evaluated correctly.\n",
      "INFO - 07/22/25 19:14:09 - 0:00:48 - 0: 6416 / 7809 (82.16%)\n",
      "INFO - 07/22/25 19:14:09 - 0:00:48 - 1: 2809 / 6072 (46.26%)\n",
      "INFO - 07/22/25 19:14:09 - 0:00:48 - 100: 287 / 6119 (4.69%)\n"
     ]
    },
    {
     "name": "stdout",
     "output_type": "stream",
     "text": [
      "INFO - 07/22/25 19:14:09 - 0:00:48 - epoch -> 295.000000\n",
      "INFO - 07/22/25 19:14:09 - 0:00:48 - valid_arithmetic_xe_loss -> 1.055877\n",
      "INFO - 07/22/25 19:14:09 - 0:00:48 - valid_arithmetic_acc -> 47.560000\n",
      "INFO - 07/22/25 19:14:09 - 0:00:48 - valid_arithmetic_perfect -> 47.560000\n",
      "INFO - 07/22/25 19:14:09 - 0:00:48 - valid_arithmetic_correct -> 47.560000\n",
      "INFO - 07/22/25 19:14:09 - 0:00:48 - valid_arithmetic_acc_d1 -> 47.560000\n",
      "INFO - 07/22/25 19:14:09 - 0:00:48 - valid_arithmetic_acc_d2 -> 47.560000\n",
      "INFO - 07/22/25 19:14:09 - 0:00:48 - valid_arithmetic_acc_d3 -> 67.805000\n",
      "INFO - 07/22/25 19:14:09 - 0:00:48 - valid_arithmetic_acc_0 -> 82.161608\n",
      "INFO - 07/22/25 19:14:09 - 0:00:48 - valid_arithmetic_acc_1 -> 46.261528\n",
      "INFO - 07/22/25 19:14:09 - 0:00:48 - valid_arithmetic_acc_100 -> 4.690309\n",
      "INFO - 07/22/25 19:14:09 - 0:00:48 - __log__:{\"epoch\": 295, \"valid_arithmetic_xe_loss\": 1.055877096748352, \"valid_arithmetic_acc\": 47.56, \"valid_arithmetic_perfect\": 47.56, \"valid_arithmetic_correct\": 47.56, \"valid_arithmetic_acc_d1\": 47.56, \"valid_arithmetic_acc_d2\": 47.56, \"valid_arithmetic_acc_d3\": 67.805, \"valid_arithmetic_acc_0\": 82.16160840056345, \"valid_arithmetic_acc_1\": 46.26152832674572, \"valid_arithmetic_acc_100\": 4.69030887399902}\n"
     ]
    },
    {
     "name": "stdout",
     "output_type": "stream",
     "text": [
      "INFO - 07/22/25 19:14:11 - 0:00:00 - ============ Initialized logger ============\n",
      "INFO - 07/22/25 19:14:11 - 0:00:00 - GRU: False\n",
      "                                     accumulate_gradients: 1\n",
      "                                     act_bias: 0\n",
      "                                     act_biased: False\n",
      "                                     act_ponder_coupling: 0.01\n",
      "                                     act_threshold: 0.01\n",
      "                                     amp: -1\n",
      "                                     architecture: encoder_decoder\n",
      "                                     attention_dropout: 0\n",
      "                                     base: 1000\n",
      "                                     batch_load: False\n",
      "                                     batch_size: 32\n",
      "                                     batch_size_eval: 128\n",
      "                                     beam_early_stopping: True\n",
      "                                     beam_eval: False\n",
      "                                     beam_eval_train: 0\n",
      "                                     beam_length_penalty: 1\n",
      "                                     beam_size: 1\n",
      "                                     biased_gates: False\n",
      "                                     bidirectional: False\n",
      "                                     class_by_length: False\n",
      "                                     clip_grad_norm: 5\n",
      "                                     command: python /home/user/Int2Int/train.py --num_workers 0 --dump_path '/home/user/fastdir/dump' --exp_name basic --exp_id 3 --eval_only True --eval_data '/home/user/fastdir/data/mu_23_random.txt' --eval_size 20000 --data_types 'int[200]:range(-1,2)' --exp_id \"3\"\n",
      "                                     cpu: False\n",
      "                                     data_types: int[200]:range(-1,2)\n",
      "                                     debug: False\n",
      "                                     debug_slurm: False\n",
      "                                     dec_act: False\n",
      "                                     dec_emb_dim: 256\n",
      "                                     dec_gated: False\n",
      "                                     dec_has_pos_emb: True\n",
      "                                     dec_loop_idx: -1\n",
      "                                     dec_loops: 1\n",
      "                                     dim1: 10\n",
      "                                     dim2: 10\n",
      "                                     dropout: 0\n",
      "                                     dump_path: /home/user/fastdir/dump/basic/3\n",
      "                                     enc_act: False\n",
      "                                     enc_emb_dim: 256\n",
      "                                     enc_gated: False\n",
      "                                     enc_has_pos_emb: True\n",
      "                                     enc_loop_idx: -1\n",
      "                                     enc_loops: 1\n",
      "                                     env_base_seed: -1\n",
      "                                     env_name: arithmetic\n",
      "                                     epoch_size: 300000\n",
      "                                     eval_data: /home/user/fastdir/data/mu_23_random.txt\n",
      "                                     eval_from_exp: \n",
      "                                     eval_only: True\n",
      "                                     eval_size: 20000\n",
      "                                     eval_verbose: 0\n",
      "                                     eval_verbose_print: False\n",
      "                                     exp_id: 3\n",
      "                                     exp_name: basic\n",
      "                                     export_data: False\n",
      "                                     first_class_prob: 0.25\n",
      "                                     first_class_size: 1000000\n",
      "                                     fp16: False\n",
      "                                     gate_bias: 0\n",
      "                                     gated: False\n",
      "                                     gelu_activation: False\n",
      "                                     global_rank: 0\n",
      "                                     is_master: True\n",
      "                                     is_slurm_job: False\n",
      "                                     local_gpu: -1\n",
      "                                     local_rank: 0\n",
      "                                     lstm: False\n",
      "                                     lstm_hidden_dim: 2048\n",
      "                                     master_port: -1\n",
      "                                     max_class: 101\n",
      "                                     max_epoch: 100000\n",
      "                                     max_len: 512\n",
      "                                     max_output_len: 512\n",
      "                                     max_src_len: 0\n",
      "                                     maxint: 1000000\n",
      "                                     minint: 1\n",
      "                                     modulus: 67\n",
      "                                     multi_gpu: False\n",
      "                                     multi_node: False\n",
      "                                     n_dec_heads: 8\n",
      "                                     n_dec_hidden_layers: 1\n",
      "                                     n_dec_layers: 4\n",
      "                                     n_enc_heads: 8\n",
      "                                     n_enc_hidden_layers: 1\n",
      "                                     n_enc_layers: 4\n",
      "                                     n_gpu_per_node: 1\n",
      "                                     n_nodes: 1\n",
      "                                     node_id: 0\n",
      "                                     norm_attention: False\n",
      "                                     num_workers: 0\n",
      "                                     operation: data\n",
      "                                     optimizer: adam,lr=0.0001\n",
      "                                     reload_checkpoint: \n",
      "                                     reload_model: \n",
      "                                     reload_size: -1\n",
      "                                     save_periodic: 0\n",
      "                                     scalar_gate: False\n",
      "                                     share_inout_emb: True\n",
      "                                     sinusoidal_embeddings: False\n",
      "                                     stopping_criterion: \n",
      "                                     tasks: arithmetic\n",
      "                                     train_data: \n",
      "                                     two_classes: False\n",
      "                                     validation_metrics: \n",
      "                                     windows: False\n",
      "                                     world_size: 1\n",
      "                                     xav_init: False\n",
      "INFO - 07/22/25 19:14:11 - 0:00:00 - The experiment will be stored in /home/user/fastdir/dump/basic/3\n",
      "                                     \n",
      "INFO - 07/22/25 19:14:11 - 0:00:00 - Running command: python /home/user/Int2Int/train.py --num_workers 0 --dump_path '/home/user/fastdir/dump' --exp_name basic --exp_id 3 --eval_only True --eval_data '/home/user/fastdir/data/mu_23_random.txt' --eval_size 20000 --data_types 'int[200]:range(-1,2)'\n",
      "\n",
      "INFO - 07/22/25 19:14:11 - 0:00:00 - words: {'<eos>': 0, '<pad>': 1, '<sep>': 2, '(': 3, ')': 4, '<SPECIAL_0>': 5, '<SPECIAL_1>': 6, '<SPECIAL_2>': 7, '<SPECIAL_3>': 8, '<SPECIAL_4>': 9, '<SPECIAL_5>': 10, '<SPECIAL_6>': 11, '<SPECIAL_7>': 12, '<SPECIAL_8>': 13, '<SPECIAL_9>': 14, '+': 15, '-': 16, '-1': 17, '0': 18, '1': 19, '10': 20, '100': 21, '101': 22, '102': 23, '103': 24, '104': 25, '105': 26, '106': 27, '107': 28, '108': 29, '109': 30, '11': 31, '110': 32, '111': 33, '112': 34, '113': 35, '114': 36, '115': 37, '116': 38, '117': 39, '118': 40, '119': 41, '12': 42, '120': 43, '121': 44, '122': 45, '123': 46, '124': 47, '125': 48, '126': 49, '127': 50, '128': 51, '129': 52, '13': 53, '130': 54, '131': 55, '132': 56, '133': 57, '134': 58, '135': 59, '136': 60, '137': 61, '138': 62, '139': 63, '14': 64, '140': 65, '141': 66, '142': 67, '143': 68, '144': 69, '145': 70, '146': 71, '147': 72, '148': 73, '149': 74, '15': 75, '150': 76, '151': 77, '152': 78, '153': 79, '154': 80, '155': 81, '156': 82, '157': 83, '158': 84, '159': 85, '16': 86, '160': 87, '161': 88, '162': 89, '163': 90, '164': 91, '165': 92, '166': 93, '167': 94, '168': 95, '169': 96, '17': 97, '170': 98, '171': 99, '172': 100, '173': 101, '174': 102, '175': 103, '176': 104, '177': 105, '178': 106, '179': 107, '18': 108, '180': 109, '181': 110, '182': 111, '183': 112, '184': 113, '185': 114, '186': 115, '187': 116, '188': 117, '189': 118, '19': 119, '190': 120, '191': 121, '192': 122, '193': 123, '194': 124, '195': 125, '196': 126, '197': 127, '198': 128, '199': 129, '2': 130, '20': 131, '200': 132, '201': 133, '202': 134, '203': 135, '204': 136, '205': 137, '206': 138, '207': 139, '208': 140, '209': 141, '21': 142, '210': 143, '211': 144, '212': 145, '213': 146, '214': 147, '215': 148, '216': 149, '217': 150, '218': 151, '219': 152, '22': 153, '220': 154, '221': 155, '222': 156, '223': 157, '224': 158, '225': 159, '226': 160, '227': 161, '228': 162, '229': 163, '23': 164, '230': 165, '231': 166, '232': 167, '233': 168, '234': 169, '235': 170, '236': 171, '237': 172, '238': 173, '239': 174, '24': 175, '240': 176, '241': 177, '242': 178, '243': 179, '244': 180, '245': 181, '246': 182, '247': 183, '248': 184, '249': 185, '25': 186, '250': 187, '251': 188, '252': 189, '253': 190, '254': 191, '255': 192, '256': 193, '257': 194, '258': 195, '259': 196, '26': 197, '260': 198, '261': 199, '262': 200, '263': 201, '264': 202, '265': 203, '266': 204, '267': 205, '268': 206, '269': 207, '27': 208, '270': 209, '271': 210, '272': 211, '273': 212, '274': 213, '275': 214, '276': 215, '277': 216, '278': 217, '279': 218, '28': 219, '280': 220, '281': 221, '282': 222, '283': 223, '284': 224, '285': 225, '286': 226, '287': 227, '288': 228, '289': 229, '29': 230, '290': 231, '291': 232, '292': 233, '293': 234, '294': 235, '295': 236, '296': 237, '297': 238, '298': 239, '299': 240, '3': 241, '30': 242, '300': 243, '301': 244, '302': 245, '303': 246, '304': 247, '305': 248, '306': 249, '307': 250, '308': 251, '309': 252, '31': 253, '310': 254, '311': 255, '312': 256, '313': 257, '314': 258, '315': 259, '316': 260, '317': 261, '318': 262, '319': 263, '32': 264, '320': 265, '321': 266, '322': 267, '323': 268, '324': 269, '325': 270, '326': 271, '327': 272, '328': 273, '329': 274, '33': 275, '330': 276, '331': 277, '332': 278, '333': 279, '334': 280, '335': 281, '336': 282, '337': 283, '338': 284, '339': 285, '34': 286, '340': 287, '341': 288, '342': 289, '343': 290, '344': 291, '345': 292, '346': 293, '347': 294, '348': 295, '349': 296, '35': 297, '350': 298, '351': 299, '352': 300, '353': 301, '354': 302, '355': 303, '356': 304, '357': 305, '358': 306, '359': 307, '36': 308, '360': 309, '361': 310, '362': 311, '363': 312, '364': 313, '365': 314, '366': 315, '367': 316, '368': 317, '369': 318, '37': 319, '370': 320, '371': 321, '372': 322, '373': 323, '374': 324, '375': 325, '376': 326, '377': 327, '378': 328, '379': 329, '38': 330, '380': 331, '381': 332, '382': 333, '383': 334, '384': 335, '385': 336, '386': 337, '387': 338, '388': 339, '389': 340, '39': 341, '390': 342, '391': 343, '392': 344, '393': 345, '394': 346, '395': 347, '396': 348, '397': 349, '398': 350, '399': 351, '4': 352, '40': 353, '400': 354, '401': 355, '402': 356, '403': 357, '404': 358, '405': 359, '406': 360, '407': 361, '408': 362, '409': 363, '41': 364, '410': 365, '411': 366, '412': 367, '413': 368, '414': 369, '415': 370, '416': 371, '417': 372, '418': 373, '419': 374, '42': 375, '420': 376, '421': 377, '422': 378, '423': 379, '424': 380, '425': 381, '426': 382, '427': 383, '428': 384, '429': 385, '43': 386, '430': 387, '431': 388, '432': 389, '433': 390, '434': 391, '435': 392, '436': 393, '437': 394, '438': 395, '439': 396, '44': 397, '440': 398, '441': 399, '442': 400, '443': 401, '444': 402, '445': 403, '446': 404, '447': 405, '448': 406, '449': 407, '45': 408, '450': 409, '451': 410, '452': 411, '453': 412, '454': 413, '455': 414, '456': 415, '457': 416, '458': 417, '459': 418, '46': 419, '460': 420, '461': 421, '462': 422, '463': 423, '464': 424, '465': 425, '466': 426, '467': 427, '468': 428, '469': 429, '47': 430, '470': 431, '471': 432, '472': 433, '473': 434, '474': 435, '475': 436, '476': 437, '477': 438, '478': 439, '479': 440, '48': 441, '480': 442, '481': 443, '482': 444, '483': 445, '484': 446, '485': 447, '486': 448, '487': 449, '488': 450, '489': 451, '49': 452, '490': 453, '491': 454, '492': 455, '493': 456, '494': 457, '495': 458, '496': 459, '497': 460, '498': 461, '499': 462, '5': 463, '50': 464, '500': 465, '501': 466, '502': 467, '503': 468, '504': 469, '505': 470, '506': 471, '507': 472, '508': 473, '509': 474, '51': 475, '510': 476, '511': 477, '512': 478, '513': 479, '514': 480, '515': 481, '516': 482, '517': 483, '518': 484, '519': 485, '52': 486, '520': 487, '521': 488, '522': 489, '523': 490, '524': 491, '525': 492, '526': 493, '527': 494, '528': 495, '529': 496, '53': 497, '530': 498, '531': 499, '532': 500, '533': 501, '534': 502, '535': 503, '536': 504, '537': 505, '538': 506, '539': 507, '54': 508, '540': 509, '541': 510, '542': 511, '543': 512, '544': 513, '545': 514, '546': 515, '547': 516, '548': 517, '549': 518, '55': 519, '550': 520, '551': 521, '552': 522, '553': 523, '554': 524, '555': 525, '556': 526, '557': 527, '558': 528, '559': 529, '56': 530, '560': 531, '561': 532, '562': 533, '563': 534, '564': 535, '565': 536, '566': 537, '567': 538, '568': 539, '569': 540, '57': 541, '570': 542, '571': 543, '572': 544, '573': 545, '574': 546, '575': 547, '576': 548, '577': 549, '578': 550, '579': 551, '58': 552, '580': 553, '581': 554, '582': 555, '583': 556, '584': 557, '585': 558, '586': 559, '587': 560, '588': 561, '589': 562, '59': 563, '590': 564, '591': 565, '592': 566, '593': 567, '594': 568, '595': 569, '596': 570, '597': 571, '598': 572, '599': 573, '6': 574, '60': 575, '600': 576, '601': 577, '602': 578, '603': 579, '604': 580, '605': 581, '606': 582, '607': 583, '608': 584, '609': 585, '61': 586, '610': 587, '611': 588, '612': 589, '613': 590, '614': 591, '615': 592, '616': 593, '617': 594, '618': 595, '619': 596, '62': 597, '620': 598, '621': 599, '622': 600, '623': 601, '624': 602, '625': 603, '626': 604, '627': 605, '628': 606, '629': 607, '63': 608, '630': 609, '631': 610, '632': 611, '633': 612, '634': 613, '635': 614, '636': 615, '637': 616, '638': 617, '639': 618, '64': 619, '640': 620, '641': 621, '642': 622, '643': 623, '644': 624, '645': 625, '646': 626, '647': 627, '648': 628, '649': 629, '65': 630, '650': 631, '651': 632, '652': 633, '653': 634, '654': 635, '655': 636, '656': 637, '657': 638, '658': 639, '659': 640, '66': 641, '660': 642, '661': 643, '662': 644, '663': 645, '664': 646, '665': 647, '666': 648, '667': 649, '668': 650, '669': 651, '67': 652, '670': 653, '671': 654, '672': 655, '673': 656, '674': 657, '675': 658, '676': 659, '677': 660, '678': 661, '679': 662, '68': 663, '680': 664, '681': 665, '682': 666, '683': 667, '684': 668, '685': 669, '686': 670, '687': 671, '688': 672, '689': 673, '69': 674, '690': 675, '691': 676, '692': 677, '693': 678, '694': 679, '695': 680, '696': 681, '697': 682, '698': 683, '699': 684, '7': 685, '70': 686, '700': 687, '701': 688, '702': 689, '703': 690, '704': 691, '705': 692, '706': 693, '707': 694, '708': 695, '709': 696, '71': 697, '710': 698, '711': 699, '712': 700, '713': 701, '714': 702, '715': 703, '716': 704, '717': 705, '718': 706, '719': 707, '72': 708, '720': 709, '721': 710, '722': 711, '723': 712, '724': 713, '725': 714, '726': 715, '727': 716, '728': 717, '729': 718, '73': 719, '730': 720, '731': 721, '732': 722, '733': 723, '734': 724, '735': 725, '736': 726, '737': 727, '738': 728, '739': 729, '74': 730, '740': 731, '741': 732, '742': 733, '743': 734, '744': 735, '745': 736, '746': 737, '747': 738, '748': 739, '749': 740, '75': 741, '750': 742, '751': 743, '752': 744, '753': 745, '754': 746, '755': 747, '756': 748, '757': 749, '758': 750, '759': 751, '76': 752, '760': 753, '761': 754, '762': 755, '763': 756, '764': 757, '765': 758, '766': 759, '767': 760, '768': 761, '769': 762, '77': 763, '770': 764, '771': 765, '772': 766, '773': 767, '774': 768, '775': 769, '776': 770, '777': 771, '778': 772, '779': 773, '78': 774, '780': 775, '781': 776, '782': 777, '783': 778, '784': 779, '785': 780, '786': 781, '787': 782, '788': 783, '789': 784, '79': 785, '790': 786, '791': 787, '792': 788, '793': 789, '794': 790, '795': 791, '796': 792, '797': 793, '798': 794, '799': 795, '8': 796, '80': 797, '800': 798, '801': 799, '802': 800, '803': 801, '804': 802, '805': 803, '806': 804, '807': 805, '808': 806, '809': 807, '81': 808, '810': 809, '811': 810, '812': 811, '813': 812, '814': 813, '815': 814, '816': 815, '817': 816, '818': 817, '819': 818, '82': 819, '820': 820, '821': 821, '822': 822, '823': 823, '824': 824, '825': 825, '826': 826, '827': 827, '828': 828, '829': 829, '83': 830, '830': 831, '831': 832, '832': 833, '833': 834, '834': 835, '835': 836, '836': 837, '837': 838, '838': 839, '839': 840, '84': 841, '840': 842, '841': 843, '842': 844, '843': 845, '844': 846, '845': 847, '846': 848, '847': 849, '848': 850, '849': 851, '85': 852, '850': 853, '851': 854, '852': 855, '853': 856, '854': 857, '855': 858, '856': 859, '857': 860, '858': 861, '859': 862, '86': 863, '860': 864, '861': 865, '862': 866, '863': 867, '864': 868, '865': 869, '866': 870, '867': 871, '868': 872, '869': 873, '87': 874, '870': 875, '871': 876, '872': 877, '873': 878, '874': 879, '875': 880, '876': 881, '877': 882, '878': 883, '879': 884, '88': 885, '880': 886, '881': 887, '882': 888, '883': 889, '884': 890, '885': 891, '886': 892, '887': 893, '888': 894, '889': 895, '89': 896, '890': 897, '891': 898, '892': 899, '893': 900, '894': 901, '895': 902, '896': 903, '897': 904, '898': 905, '899': 906, '9': 907, '90': 908, '900': 909, '901': 910, '902': 911, '903': 912, '904': 913, '905': 914, '906': 915, '907': 916, '908': 917, '909': 918, '91': 919, '910': 920, '911': 921, '912': 922, '913': 923, '914': 924, '915': 925, '916': 926, '917': 927, '918': 928, '919': 929, '92': 930, '920': 931, '921': 932, '922': 933, '923': 934, '924': 935, '925': 936, '926': 937, '927': 938, '928': 939, '929': 940, '93': 941, '930': 942, '931': 943, '932': 944, '933': 945, '934': 946, '935': 947, '936': 948, '937': 949, '938': 950, '939': 951, '94': 952, '940': 953, '941': 954, '942': 955, '943': 956, '944': 957, '945': 958, '946': 959, '947': 960, '948': 961, '949': 962, '95': 963, '950': 964, '951': 965, '952': 966, '953': 967, '954': 968, '955': 969, '956': 970, '957': 971, '958': 972, '959': 973, '96': 974, '960': 975, '961': 976, '962': 977, '963': 978, '964': 979, '965': 980, '966': 981, '967': 982, '968': 983, '969': 984, '97': 985, '970': 986, '971': 987, '972': 988, '973': 989, '974': 990, '975': 991, '976': 992, '977': 993, '978': 994, '979': 995, '98': 996, '980': 997, '981': 998, '982': 999, '983': 1000, '984': 1001, '985': 1002, '986': 1003, '987': 1004, '988': 1005, '989': 1006, '99': 1007, '990': 1008, '991': 1009, '992': 1010, '993': 1011, '994': 1012, '995': 1013, '996': 1014, '997': 1015, '998': 1016, '999': 1017, 'V1': 1018, 'V10': 1019, 'V100': 1020, 'V101': 1021, 'V102': 1022, 'V103': 1023, 'V104': 1024, 'V105': 1025, 'V106': 1026, 'V107': 1027, 'V108': 1028, 'V109': 1029, 'V11': 1030, 'V110': 1031, 'V111': 1032, 'V112': 1033, 'V113': 1034, 'V114': 1035, 'V115': 1036, 'V116': 1037, 'V117': 1038, 'V118': 1039, 'V119': 1040, 'V12': 1041, 'V120': 1042, 'V121': 1043, 'V122': 1044, 'V123': 1045, 'V124': 1046, 'V125': 1047, 'V126': 1048, 'V127': 1049, 'V128': 1050, 'V129': 1051, 'V13': 1052, 'V130': 1053, 'V131': 1054, 'V132': 1055, 'V133': 1056, 'V134': 1057, 'V135': 1058, 'V136': 1059, 'V137': 1060, 'V138': 1061, 'V139': 1062, 'V14': 1063, 'V140': 1064, 'V141': 1065, 'V142': 1066, 'V143': 1067, 'V144': 1068, 'V145': 1069, 'V146': 1070, 'V147': 1071, 'V148': 1072, 'V149': 1073, 'V15': 1074, 'V150': 1075, 'V151': 1076, 'V152': 1077, 'V153': 1078, 'V154': 1079, 'V155': 1080, 'V156': 1081, 'V157': 1082, 'V158': 1083, 'V159': 1084, 'V16': 1085, 'V160': 1086, 'V161': 1087, 'V162': 1088, 'V163': 1089, 'V164': 1090, 'V165': 1091, 'V166': 1092, 'V167': 1093, 'V168': 1094, 'V169': 1095, 'V17': 1096, 'V170': 1097, 'V171': 1098, 'V172': 1099, 'V173': 1100, 'V174': 1101, 'V175': 1102, 'V176': 1103, 'V177': 1104, 'V178': 1105, 'V179': 1106, 'V18': 1107, 'V180': 1108, 'V181': 1109, 'V182': 1110, 'V183': 1111, 'V184': 1112, 'V185': 1113, 'V186': 1114, 'V187': 1115, 'V188': 1116, 'V189': 1117, 'V19': 1118, 'V190': 1119, 'V191': 1120, 'V192': 1121, 'V193': 1122, 'V194': 1123, 'V195': 1124, 'V196': 1125, 'V197': 1126, 'V198': 1127, 'V199': 1128, 'V2': 1129, 'V20': 1130, 'V200': 1131, 'V21': 1132, 'V22': 1133, 'V23': 1134, 'V24': 1135, 'V25': 1136, 'V26': 1137, 'V27': 1138, 'V28': 1139, 'V29': 1140, 'V3': 1141, 'V30': 1142, 'V31': 1143, 'V32': 1144, 'V33': 1145, 'V34': 1146, 'V35': 1147, 'V36': 1148, 'V37': 1149, 'V38': 1150, 'V39': 1151, 'V4': 1152, 'V40': 1153, 'V41': 1154, 'V42': 1155, 'V43': 1156, 'V44': 1157, 'V45': 1158, 'V46': 1159, 'V47': 1160, 'V48': 1161, 'V49': 1162, 'V5': 1163, 'V50': 1164, 'V51': 1165, 'V52': 1166, 'V53': 1167, 'V54': 1168, 'V55': 1169, 'V56': 1170, 'V57': 1171, 'V58': 1172, 'V59': 1173, 'V6': 1174, 'V60': 1175, 'V61': 1176, 'V62': 1177, 'V63': 1178, 'V64': 1179, 'V65': 1180, 'V66': 1181, 'V67': 1182, 'V68': 1183, 'V69': 1184, 'V7': 1185, 'V70': 1186, 'V71': 1187, 'V72': 1188, 'V73': 1189, 'V74': 1190, 'V75': 1191, 'V76': 1192, 'V77': 1193, 'V78': 1194, 'V79': 1195, 'V8': 1196, 'V80': 1197, 'V81': 1198, 'V82': 1199, 'V83': 1200, 'V84': 1201, 'V85': 1202, 'V86': 1203, 'V87': 1204, 'V88': 1205, 'V89': 1206, 'V9': 1207, 'V90': 1208, 'V91': 1209, 'V92': 1210, 'V93': 1211, 'V94': 1212, 'V95': 1213, 'V96': 1214, 'V97': 1215, 'V98': 1216, 'V99': 1217}\n",
      "INFO - 07/22/25 19:14:11 - 0:00:00 - Training tasks: arithmetic\n",
      "INFO - 07/22/25 19:14:11 - 0:00:00 - Number of parameters (encoder): 4519936\n",
      "INFO - 07/22/25 19:14:11 - 0:00:00 - Number of parameters (decoder): 5575874\n"
     ]
    },
    {
     "name": "stdout",
     "output_type": "stream",
     "text": [
      "INFO - 07/22/25 19:14:12 - 0:00:00 - Found 177 parameters in model.\n"
     ]
    },
    {
     "name": "stdout",
     "output_type": "stream",
     "text": [
      "INFO - 07/22/25 19:14:13 - 0:00:01 - Optimizer: <class 'src.optim.Adam'>\n",
      "WARNING - 07/22/25 19:14:13 - 0:00:01 - Reloading checkpoint from /home/user/fastdir/dump/basic/3/checkpoint.pth ...\n",
      "/home/user/Int2Int/src/trainer.py:303: FutureWarning: You are using `torch.load` with `weights_only=False` (the current default value), which uses the default pickle module implicitly. It is possible to construct malicious pickle data which will execute arbitrary code during unpickling (See https://github.com/pytorch/pytorch/blob/main/SECURITY.md#untrusted-models for more details). In a future release, the default value for `weights_only` will be flipped to `True`. This limits the functions that could be executed during unpickling. Arbitrary objects will no longer be allowed to be loaded via this mode unless they are explicitly allowlisted by the user via `torch.serialization.add_safe_globals`. We recommend you start setting `weights_only=True` for any use case where you don't have full control of the loaded file. Please open an issue on GitHub for any issues related to this experimental feature.\n",
      "  data = torch.load(checkpoint_path, map_location=\"cpu\")\n",
      "WARNING - 07/22/25 19:14:13 - 0:00:01 - Reloading checkpoint optimizer ...\n",
      "WARNING - 07/22/25 19:14:13 - 0:00:02 - Checkpoint reloaded. Resuming at epoch 295 / iteration 184375 ...\n",
      "INFO - 07/22/25 19:14:13 - 0:00:02 - Creating valid iterator for arithmetic ...\n",
      "INFO - 07/22/25 19:14:13 - 0:00:02 - Loading data from /home/user/fastdir/data/mu_23_random.txt ...\n"
     ]
    },
    {
     "name": "stdout",
     "output_type": "stream",
     "text": [
      "INFO - 07/22/25 19:14:13 - 0:00:02 - Loaded 100000 equations from the disk.\n",
      "SLURM job: False\n",
      "0 - Number of nodes: 1\n",
      "0 - Node ID        : 0\n",
      "0 - Local rank     : 0\n",
      "0 - Global rank    : 0\n",
      "0 - World size     : 1\n",
      "0 - GPUs per node  : 1\n",
      "0 - Master         : True\n",
      "0 - Multi-node     : False\n",
      "0 - Multi-GPU      : False\n",
      "0 - Hostname       : compute-server-1\n"
     ]
    },
    {
     "name": "stdout",
     "output_type": "stream",
     "text": [
      "INFO - 07/22/25 19:14:14 - 0:00:03 - (128/20000) Found 55/128 valid top-1 predictions. Generating solutions ...\n",
      "INFO - 07/22/25 19:14:14 - 0:00:03 -     Found 55/128 solutions in beam hypotheses.\n"
     ]
    },
    {
     "name": "stdout",
     "output_type": "stream",
     "text": [
      "INFO - 07/22/25 19:14:14 - 0:00:03 - (256/20000) Found 45/128 valid top-1 predictions. Generating solutions ...\n",
      "INFO - 07/22/25 19:14:14 - 0:00:03 -     Found 45/128 solutions in beam hypotheses.\n"
     ]
    },
    {
     "name": "stdout",
     "output_type": "stream",
     "text": [
      "INFO - 07/22/25 19:14:15 - 0:00:03 - (384/20000) Found 48/128 valid top-1 predictions. Generating solutions ...\n",
      "INFO - 07/22/25 19:14:15 - 0:00:03 -     Found 48/128 solutions in beam hypotheses.\n"
     ]
    },
    {
     "name": "stdout",
     "output_type": "stream",
     "text": [
      "INFO - 07/22/25 19:14:15 - 0:00:04 - (512/20000) Found 43/128 valid top-1 predictions. Generating solutions ...\n",
      "INFO - 07/22/25 19:14:15 - 0:00:04 -     Found 43/128 solutions in beam hypotheses.\n"
     ]
    },
    {
     "name": "stdout",
     "output_type": "stream",
     "text": [
      "INFO - 07/22/25 19:14:15 - 0:00:04 - (640/20000) Found 52/128 valid top-1 predictions. Generating solutions ...\n",
      "INFO - 07/22/25 19:14:15 - 0:00:04 -     Found 52/128 solutions in beam hypotheses.\n"
     ]
    },
    {
     "name": "stdout",
     "output_type": "stream",
     "text": [
      "INFO - 07/22/25 19:14:15 - 0:00:04 - (768/20000) Found 44/128 valid top-1 predictions. Generating solutions ...\n",
      "INFO - 07/22/25 19:14:16 - 0:00:04 -     Found 44/128 solutions in beam hypotheses.\n"
     ]
    },
    {
     "name": "stdout",
     "output_type": "stream",
     "text": [
      "INFO - 07/22/25 19:14:16 - 0:00:04 - (896/20000) Found 39/128 valid top-1 predictions. Generating solutions ...\n",
      "INFO - 07/22/25 19:14:16 - 0:00:04 -     Found 39/128 solutions in beam hypotheses.\n"
     ]
    },
    {
     "name": "stdout",
     "output_type": "stream",
     "text": [
      "INFO - 07/22/25 19:14:16 - 0:00:05 - (1024/20000) Found 56/128 valid top-1 predictions. Generating solutions ...\n",
      "INFO - 07/22/25 19:14:16 - 0:00:05 -     Found 56/128 solutions in beam hypotheses.\n"
     ]
    },
    {
     "name": "stdout",
     "output_type": "stream",
     "text": [
      "INFO - 07/22/25 19:14:16 - 0:00:05 - (1152/20000) Found 55/128 valid top-1 predictions. Generating solutions ...\n",
      "INFO - 07/22/25 19:14:16 - 0:00:05 -     Found 55/128 solutions in beam hypotheses.\n"
     ]
    },
    {
     "name": "stdout",
     "output_type": "stream",
     "text": [
      "INFO - 07/22/25 19:14:17 - 0:00:05 - (1280/20000) Found 52/128 valid top-1 predictions. Generating solutions ...\n",
      "INFO - 07/22/25 19:14:17 - 0:00:05 -     Found 52/128 solutions in beam hypotheses.\n"
     ]
    },
    {
     "name": "stdout",
     "output_type": "stream",
     "text": [
      "INFO - 07/22/25 19:14:17 - 0:00:06 - (1408/20000) Found 59/128 valid top-1 predictions. Generating solutions ...\n",
      "INFO - 07/22/25 19:14:17 - 0:00:06 -     Found 59/128 solutions in beam hypotheses.\n"
     ]
    },
    {
     "name": "stdout",
     "output_type": "stream",
     "text": [
      "INFO - 07/22/25 19:14:17 - 0:00:06 - (1536/20000) Found 45/128 valid top-1 predictions. Generating solutions ...\n",
      "INFO - 07/22/25 19:14:17 - 0:00:06 -     Found 45/128 solutions in beam hypotheses.\n"
     ]
    },
    {
     "name": "stdout",
     "output_type": "stream",
     "text": [
      "INFO - 07/22/25 19:14:18 - 0:00:06 - (1664/20000) Found 37/128 valid top-1 predictions. Generating solutions ...\n",
      "INFO - 07/22/25 19:14:18 - 0:00:06 -     Found 37/128 solutions in beam hypotheses.\n"
     ]
    },
    {
     "name": "stdout",
     "output_type": "stream",
     "text": [
      "INFO - 07/22/25 19:14:18 - 0:00:07 - (1792/20000) Found 44/128 valid top-1 predictions. Generating solutions ...\n",
      "INFO - 07/22/25 19:14:18 - 0:00:07 -     Found 44/128 solutions in beam hypotheses.\n"
     ]
    },
    {
     "name": "stdout",
     "output_type": "stream",
     "text": [
      "INFO - 07/22/25 19:14:18 - 0:00:07 - (1920/20000) Found 44/128 valid top-1 predictions. Generating solutions ...\n",
      "INFO - 07/22/25 19:14:18 - 0:00:07 -     Found 44/128 solutions in beam hypotheses.\n"
     ]
    },
    {
     "name": "stdout",
     "output_type": "stream",
     "text": [
      "INFO - 07/22/25 19:14:18 - 0:00:07 - (2048/20000) Found 43/128 valid top-1 predictions. Generating solutions ...\n",
      "INFO - 07/22/25 19:14:18 - 0:00:07 -     Found 43/128 solutions in beam hypotheses.\n"
     ]
    },
    {
     "name": "stdout",
     "output_type": "stream",
     "text": [
      "INFO - 07/22/25 19:14:19 - 0:00:07 - (2176/20000) Found 44/128 valid top-1 predictions. Generating solutions ...\n",
      "INFO - 07/22/25 19:14:19 - 0:00:07 -     Found 44/128 solutions in beam hypotheses.\n"
     ]
    },
    {
     "name": "stdout",
     "output_type": "stream",
     "text": [
      "INFO - 07/22/25 19:14:19 - 0:00:08 - (2304/20000) Found 37/128 valid top-1 predictions. Generating solutions ...\n",
      "INFO - 07/22/25 19:14:19 - 0:00:08 -     Found 37/128 solutions in beam hypotheses.\n"
     ]
    },
    {
     "name": "stdout",
     "output_type": "stream",
     "text": [
      "INFO - 07/22/25 19:14:19 - 0:00:08 - (2432/20000) Found 47/128 valid top-1 predictions. Generating solutions ...\n",
      "INFO - 07/22/25 19:14:19 - 0:00:08 -     Found 47/128 solutions in beam hypotheses.\n"
     ]
    },
    {
     "name": "stdout",
     "output_type": "stream",
     "text": [
      "INFO - 07/22/25 19:14:20 - 0:00:08 - (2560/20000) Found 43/128 valid top-1 predictions. Generating solutions ...\n",
      "INFO - 07/22/25 19:14:20 - 0:00:08 -     Found 43/128 solutions in beam hypotheses.\n"
     ]
    },
    {
     "name": "stdout",
     "output_type": "stream",
     "text": [
      "INFO - 07/22/25 19:14:20 - 0:00:09 - (2688/20000) Found 50/128 valid top-1 predictions. Generating solutions ...\n",
      "INFO - 07/22/25 19:14:20 - 0:00:09 -     Found 50/128 solutions in beam hypotheses.\n"
     ]
    },
    {
     "name": "stdout",
     "output_type": "stream",
     "text": [
      "INFO - 07/22/25 19:14:20 - 0:00:09 - (2816/20000) Found 48/128 valid top-1 predictions. Generating solutions ...\n",
      "INFO - 07/22/25 19:14:20 - 0:00:09 -     Found 48/128 solutions in beam hypotheses.\n"
     ]
    },
    {
     "name": "stdout",
     "output_type": "stream",
     "text": [
      "INFO - 07/22/25 19:14:21 - 0:00:09 - (2944/20000) Found 41/128 valid top-1 predictions. Generating solutions ...\n",
      "INFO - 07/22/25 19:14:21 - 0:00:09 -     Found 41/128 solutions in beam hypotheses.\n"
     ]
    },
    {
     "name": "stdout",
     "output_type": "stream",
     "text": [
      "INFO - 07/22/25 19:14:21 - 0:00:09 - (3072/20000) Found 38/128 valid top-1 predictions. Generating solutions ...\n",
      "INFO - 07/22/25 19:14:21 - 0:00:10 -     Found 38/128 solutions in beam hypotheses.\n"
     ]
    },
    {
     "name": "stdout",
     "output_type": "stream",
     "text": [
      "INFO - 07/22/25 19:14:21 - 0:00:10 - (3200/20000) Found 38/128 valid top-1 predictions. Generating solutions ...\n",
      "INFO - 07/22/25 19:14:21 - 0:00:10 -     Found 38/128 solutions in beam hypotheses.\n"
     ]
    },
    {
     "name": "stdout",
     "output_type": "stream",
     "text": [
      "INFO - 07/22/25 19:14:21 - 0:00:10 - (3328/20000) Found 50/128 valid top-1 predictions. Generating solutions ...\n",
      "INFO - 07/22/25 19:14:21 - 0:00:10 -     Found 50/128 solutions in beam hypotheses.\n"
     ]
    },
    {
     "name": "stdout",
     "output_type": "stream",
     "text": [
      "INFO - 07/22/25 19:14:22 - 0:00:10 - (3456/20000) Found 50/128 valid top-1 predictions. Generating solutions ...\n",
      "INFO - 07/22/25 19:14:22 - 0:00:10 -     Found 50/128 solutions in beam hypotheses.\n"
     ]
    },
    {
     "name": "stdout",
     "output_type": "stream",
     "text": [
      "INFO - 07/22/25 19:14:22 - 0:00:11 - (3584/20000) Found 50/128 valid top-1 predictions. Generating solutions ...\n",
      "INFO - 07/22/25 19:14:22 - 0:00:11 -     Found 50/128 solutions in beam hypotheses.\n"
     ]
    },
    {
     "name": "stdout",
     "output_type": "stream",
     "text": [
      "INFO - 07/22/25 19:14:22 - 0:00:11 - (3712/20000) Found 42/128 valid top-1 predictions. Generating solutions ...\n",
      "INFO - 07/22/25 19:14:22 - 0:00:11 -     Found 42/128 solutions in beam hypotheses.\n"
     ]
    },
    {
     "name": "stdout",
     "output_type": "stream",
     "text": [
      "INFO - 07/22/25 19:14:23 - 0:00:11 - (3840/20000) Found 59/128 valid top-1 predictions. Generating solutions ...\n",
      "INFO - 07/22/25 19:14:23 - 0:00:11 -     Found 59/128 solutions in beam hypotheses.\n"
     ]
    },
    {
     "name": "stdout",
     "output_type": "stream",
     "text": [
      "INFO - 07/22/25 19:14:23 - 0:00:12 - (3968/20000) Found 36/128 valid top-1 predictions. Generating solutions ...\n",
      "INFO - 07/22/25 19:14:23 - 0:00:12 -     Found 36/128 solutions in beam hypotheses.\n"
     ]
    },
    {
     "name": "stdout",
     "output_type": "stream",
     "text": [
      "INFO - 07/22/25 19:14:23 - 0:00:12 - (4096/20000) Found 50/128 valid top-1 predictions. Generating solutions ...\n",
      "INFO - 07/22/25 19:14:23 - 0:00:12 -     Found 50/128 solutions in beam hypotheses.\n"
     ]
    },
    {
     "name": "stdout",
     "output_type": "stream",
     "text": [
      "INFO - 07/22/25 19:14:23 - 0:00:12 - (4224/20000) Found 43/128 valid top-1 predictions. Generating solutions ...\n",
      "INFO - 07/22/25 19:14:24 - 0:00:12 -     Found 43/128 solutions in beam hypotheses.\n"
     ]
    },
    {
     "name": "stdout",
     "output_type": "stream",
     "text": [
      "INFO - 07/22/25 19:14:24 - 0:00:12 - (4352/20000) Found 56/128 valid top-1 predictions. Generating solutions ...\n",
      "INFO - 07/22/25 19:14:24 - 0:00:13 -     Found 56/128 solutions in beam hypotheses.\n"
     ]
    },
    {
     "name": "stdout",
     "output_type": "stream",
     "text": [
      "INFO - 07/22/25 19:14:24 - 0:00:13 - (4480/20000) Found 38/128 valid top-1 predictions. Generating solutions ...\n",
      "INFO - 07/22/25 19:14:24 - 0:00:13 -     Found 38/128 solutions in beam hypotheses.\n"
     ]
    },
    {
     "name": "stdout",
     "output_type": "stream",
     "text": [
      "INFO - 07/22/25 19:14:24 - 0:00:13 - (4608/20000) Found 42/128 valid top-1 predictions. Generating solutions ...\n",
      "INFO - 07/22/25 19:14:24 - 0:00:13 -     Found 42/128 solutions in beam hypotheses.\n"
     ]
    },
    {
     "name": "stdout",
     "output_type": "stream",
     "text": [
      "INFO - 07/22/25 19:14:25 - 0:00:13 - (4736/20000) Found 37/128 valid top-1 predictions. Generating solutions ...\n",
      "INFO - 07/22/25 19:14:25 - 0:00:13 -     Found 37/128 solutions in beam hypotheses.\n"
     ]
    },
    {
     "name": "stdout",
     "output_type": "stream",
     "text": [
      "INFO - 07/22/25 19:14:25 - 0:00:14 - (4864/20000) Found 36/128 valid top-1 predictions. Generating solutions ...\n",
      "INFO - 07/22/25 19:14:25 - 0:00:14 -     Found 36/128 solutions in beam hypotheses.\n"
     ]
    },
    {
     "name": "stdout",
     "output_type": "stream",
     "text": [
      "INFO - 07/22/25 19:14:25 - 0:00:14 - (4992/20000) Found 44/128 valid top-1 predictions. Generating solutions ...\n",
      "INFO - 07/22/25 19:14:25 - 0:00:14 -     Found 44/128 solutions in beam hypotheses.\n"
     ]
    },
    {
     "name": "stdout",
     "output_type": "stream",
     "text": [
      "INFO - 07/22/25 19:14:26 - 0:00:14 - (5120/20000) Found 46/128 valid top-1 predictions. Generating solutions ...\n",
      "INFO - 07/22/25 19:14:26 - 0:00:14 -     Found 46/128 solutions in beam hypotheses.\n"
     ]
    },
    {
     "name": "stdout",
     "output_type": "stream",
     "text": [
      "INFO - 07/22/25 19:14:26 - 0:00:15 - (5248/20000) Found 42/128 valid top-1 predictions. Generating solutions ...\n",
      "INFO - 07/22/25 19:14:26 - 0:00:15 -     Found 42/128 solutions in beam hypotheses.\n"
     ]
    },
    {
     "name": "stdout",
     "output_type": "stream",
     "text": [
      "INFO - 07/22/25 19:14:26 - 0:00:15 - (5376/20000) Found 42/128 valid top-1 predictions. Generating solutions ...\n",
      "INFO - 07/22/25 19:14:26 - 0:00:15 -     Found 42/128 solutions in beam hypotheses.\n"
     ]
    },
    {
     "name": "stdout",
     "output_type": "stream",
     "text": [
      "INFO - 07/22/25 19:14:26 - 0:00:15 - (5504/20000) Found 41/128 valid top-1 predictions. Generating solutions ...\n",
      "INFO - 07/22/25 19:14:27 - 0:00:15 -     Found 41/128 solutions in beam hypotheses.\n"
     ]
    },
    {
     "name": "stdout",
     "output_type": "stream",
     "text": [
      "INFO - 07/22/25 19:14:27 - 0:00:15 - (5632/20000) Found 48/128 valid top-1 predictions. Generating solutions ...\n",
      "INFO - 07/22/25 19:14:27 - 0:00:16 -     Found 48/128 solutions in beam hypotheses.\n"
     ]
    },
    {
     "name": "stdout",
     "output_type": "stream",
     "text": [
      "INFO - 07/22/25 19:14:27 - 0:00:16 - (5760/20000) Found 54/128 valid top-1 predictions. Generating solutions ...\n",
      "INFO - 07/22/25 19:14:27 - 0:00:16 -     Found 54/128 solutions in beam hypotheses.\n"
     ]
    },
    {
     "name": "stdout",
     "output_type": "stream",
     "text": [
      "INFO - 07/22/25 19:14:27 - 0:00:16 - (5888/20000) Found 48/128 valid top-1 predictions. Generating solutions ...\n",
      "INFO - 07/22/25 19:14:27 - 0:00:16 -     Found 48/128 solutions in beam hypotheses.\n"
     ]
    },
    {
     "name": "stdout",
     "output_type": "stream",
     "text": [
      "INFO - 07/22/25 19:14:28 - 0:00:16 - (6016/20000) Found 52/128 valid top-1 predictions. Generating solutions ...\n",
      "INFO - 07/22/25 19:14:28 - 0:00:16 -     Found 52/128 solutions in beam hypotheses.\n"
     ]
    },
    {
     "name": "stdout",
     "output_type": "stream",
     "text": [
      "INFO - 07/22/25 19:14:28 - 0:00:17 - (6144/20000) Found 42/128 valid top-1 predictions. Generating solutions ...\n",
      "INFO - 07/22/25 19:14:28 - 0:00:17 -     Found 42/128 solutions in beam hypotheses.\n"
     ]
    },
    {
     "name": "stdout",
     "output_type": "stream",
     "text": [
      "INFO - 07/22/25 19:14:28 - 0:00:17 - (6272/20000) Found 49/128 valid top-1 predictions. Generating solutions ...\n",
      "INFO - 07/22/25 19:14:28 - 0:00:17 -     Found 49/128 solutions in beam hypotheses.\n"
     ]
    },
    {
     "name": "stdout",
     "output_type": "stream",
     "text": [
      "INFO - 07/22/25 19:14:29 - 0:00:17 - (6400/20000) Found 48/128 valid top-1 predictions. Generating solutions ...\n",
      "INFO - 07/22/25 19:14:29 - 0:00:17 -     Found 48/128 solutions in beam hypotheses.\n"
     ]
    },
    {
     "name": "stdout",
     "output_type": "stream",
     "text": [
      "INFO - 07/22/25 19:14:29 - 0:00:18 - (6528/20000) Found 53/128 valid top-1 predictions. Generating solutions ...\n",
      "INFO - 07/22/25 19:14:29 - 0:00:18 -     Found 53/128 solutions in beam hypotheses.\n"
     ]
    },
    {
     "name": "stdout",
     "output_type": "stream",
     "text": [
      "INFO - 07/22/25 19:14:29 - 0:00:18 - (6656/20000) Found 45/128 valid top-1 predictions. Generating solutions ...\n",
      "INFO - 07/22/25 19:14:29 - 0:00:18 -     Found 45/128 solutions in beam hypotheses.\n"
     ]
    },
    {
     "name": "stdout",
     "output_type": "stream",
     "text": [
      "INFO - 07/22/25 19:14:30 - 0:00:18 - (6784/20000) Found 51/128 valid top-1 predictions. Generating solutions ...\n",
      "INFO - 07/22/25 19:14:30 - 0:00:18 -     Found 51/128 solutions in beam hypotheses.\n"
     ]
    },
    {
     "name": "stdout",
     "output_type": "stream",
     "text": [
      "INFO - 07/22/25 19:14:30 - 0:00:18 - (6912/20000) Found 45/128 valid top-1 predictions. Generating solutions ...\n",
      "INFO - 07/22/25 19:14:30 - 0:00:19 -     Found 45/128 solutions in beam hypotheses.\n"
     ]
    },
    {
     "name": "stdout",
     "output_type": "stream",
     "text": [
      "INFO - 07/22/25 19:14:30 - 0:00:19 - (7040/20000) Found 45/128 valid top-1 predictions. Generating solutions ...\n",
      "INFO - 07/22/25 19:14:30 - 0:00:19 -     Found 45/128 solutions in beam hypotheses.\n"
     ]
    },
    {
     "name": "stdout",
     "output_type": "stream",
     "text": [
      "INFO - 07/22/25 19:14:30 - 0:00:19 - (7168/20000) Found 44/128 valid top-1 predictions. Generating solutions ...\n",
      "INFO - 07/22/25 19:14:30 - 0:00:19 -     Found 44/128 solutions in beam hypotheses.\n"
     ]
    },
    {
     "name": "stdout",
     "output_type": "stream",
     "text": [
      "INFO - 07/22/25 19:14:31 - 0:00:19 - (7296/20000) Found 43/128 valid top-1 predictions. Generating solutions ...\n",
      "INFO - 07/22/25 19:14:31 - 0:00:19 -     Found 43/128 solutions in beam hypotheses.\n"
     ]
    },
    {
     "name": "stdout",
     "output_type": "stream",
     "text": [
      "INFO - 07/22/25 19:14:31 - 0:00:20 - (7424/20000) Found 52/128 valid top-1 predictions. Generating solutions ...\n",
      "INFO - 07/22/25 19:14:31 - 0:00:20 -     Found 52/128 solutions in beam hypotheses.\n"
     ]
    },
    {
     "name": "stdout",
     "output_type": "stream",
     "text": [
      "INFO - 07/22/25 19:14:31 - 0:00:20 - (7552/20000) Found 40/128 valid top-1 predictions. Generating solutions ...\n",
      "INFO - 07/22/25 19:14:31 - 0:00:20 -     Found 40/128 solutions in beam hypotheses.\n"
     ]
    },
    {
     "name": "stdout",
     "output_type": "stream",
     "text": [
      "INFO - 07/22/25 19:14:32 - 0:00:20 - (7680/20000) Found 37/128 valid top-1 predictions. Generating solutions ...\n",
      "INFO - 07/22/25 19:14:32 - 0:00:20 -     Found 37/128 solutions in beam hypotheses.\n"
     ]
    },
    {
     "name": "stdout",
     "output_type": "stream",
     "text": [
      "INFO - 07/22/25 19:14:32 - 0:00:21 - (7808/20000) Found 51/128 valid top-1 predictions. Generating solutions ...\n",
      "INFO - 07/22/25 19:14:32 - 0:00:21 -     Found 51/128 solutions in beam hypotheses.\n"
     ]
    },
    {
     "name": "stdout",
     "output_type": "stream",
     "text": [
      "INFO - 07/22/25 19:14:32 - 0:00:21 - (7936/20000) Found 51/128 valid top-1 predictions. Generating solutions ...\n",
      "INFO - 07/22/25 19:14:32 - 0:00:21 -     Found 51/128 solutions in beam hypotheses.\n"
     ]
    },
    {
     "name": "stdout",
     "output_type": "stream",
     "text": [
      "INFO - 07/22/25 19:14:33 - 0:00:21 - (8064/20000) Found 51/128 valid top-1 predictions. Generating solutions ...\n",
      "INFO - 07/22/25 19:14:33 - 0:00:21 -     Found 51/128 solutions in beam hypotheses.\n"
     ]
    },
    {
     "name": "stdout",
     "output_type": "stream",
     "text": [
      "INFO - 07/22/25 19:14:33 - 0:00:22 - (8192/20000) Found 58/128 valid top-1 predictions. Generating solutions ...\n",
      "INFO - 07/22/25 19:14:33 - 0:00:22 -     Found 58/128 solutions in beam hypotheses.\n"
     ]
    },
    {
     "name": "stdout",
     "output_type": "stream",
     "text": [
      "INFO - 07/22/25 19:14:33 - 0:00:22 - (8320/20000) Found 37/128 valid top-1 predictions. Generating solutions ...\n",
      "INFO - 07/22/25 19:14:33 - 0:00:22 -     Found 37/128 solutions in beam hypotheses.\n"
     ]
    },
    {
     "name": "stdout",
     "output_type": "stream",
     "text": [
      "INFO - 07/22/25 19:14:33 - 0:00:22 - (8448/20000) Found 46/128 valid top-1 predictions. Generating solutions ...\n",
      "INFO - 07/22/25 19:14:33 - 0:00:22 -     Found 46/128 solutions in beam hypotheses.\n"
     ]
    },
    {
     "name": "stdout",
     "output_type": "stream",
     "text": [
      "INFO - 07/22/25 19:14:34 - 0:00:22 - (8576/20000) Found 44/128 valid top-1 predictions. Generating solutions ...\n",
      "INFO - 07/22/25 19:14:34 - 0:00:22 -     Found 44/128 solutions in beam hypotheses.\n"
     ]
    },
    {
     "name": "stdout",
     "output_type": "stream",
     "text": [
      "INFO - 07/22/25 19:14:34 - 0:00:23 - (8704/20000) Found 48/128 valid top-1 predictions. Generating solutions ...\n",
      "INFO - 07/22/25 19:14:34 - 0:00:23 -     Found 48/128 solutions in beam hypotheses.\n"
     ]
    },
    {
     "name": "stdout",
     "output_type": "stream",
     "text": [
      "INFO - 07/22/25 19:14:34 - 0:00:23 - (8832/20000) Found 51/128 valid top-1 predictions. Generating solutions ...\n",
      "INFO - 07/22/25 19:14:34 - 0:00:23 -     Found 51/128 solutions in beam hypotheses.\n"
     ]
    },
    {
     "name": "stdout",
     "output_type": "stream",
     "text": [
      "INFO - 07/22/25 19:14:35 - 0:00:23 - (8960/20000) Found 53/128 valid top-1 predictions. Generating solutions ...\n",
      "INFO - 07/22/25 19:14:35 - 0:00:23 -     Found 53/128 solutions in beam hypotheses.\n"
     ]
    },
    {
     "name": "stdout",
     "output_type": "stream",
     "text": [
      "INFO - 07/22/25 19:14:35 - 0:00:24 - (9088/20000) Found 41/128 valid top-1 predictions. Generating solutions ...\n",
      "INFO - 07/22/25 19:14:35 - 0:00:24 -     Found 41/128 solutions in beam hypotheses.\n"
     ]
    },
    {
     "name": "stdout",
     "output_type": "stream",
     "text": [
      "INFO - 07/22/25 19:14:35 - 0:00:24 - (9216/20000) Found 49/128 valid top-1 predictions. Generating solutions ...\n",
      "INFO - 07/22/25 19:14:35 - 0:00:24 -     Found 49/128 solutions in beam hypotheses.\n"
     ]
    },
    {
     "name": "stdout",
     "output_type": "stream",
     "text": [
      "INFO - 07/22/25 19:14:36 - 0:00:24 - (9344/20000) Found 50/128 valid top-1 predictions. Generating solutions ...\n",
      "INFO - 07/22/25 19:14:36 - 0:00:24 -     Found 50/128 solutions in beam hypotheses.\n"
     ]
    },
    {
     "name": "stdout",
     "output_type": "stream",
     "text": [
      "INFO - 07/22/25 19:14:36 - 0:00:25 - (9472/20000) Found 53/128 valid top-1 predictions. Generating solutions ...\n",
      "INFO - 07/22/25 19:14:36 - 0:00:25 -     Found 53/128 solutions in beam hypotheses.\n"
     ]
    },
    {
     "name": "stdout",
     "output_type": "stream",
     "text": [
      "INFO - 07/22/25 19:14:36 - 0:00:25 - (9600/20000) Found 36/128 valid top-1 predictions. Generating solutions ...\n",
      "INFO - 07/22/25 19:14:36 - 0:00:25 -     Found 36/128 solutions in beam hypotheses.\n"
     ]
    },
    {
     "name": "stdout",
     "output_type": "stream",
     "text": [
      "INFO - 07/22/25 19:14:36 - 0:00:25 - (9728/20000) Found 43/128 valid top-1 predictions. Generating solutions ...\n",
      "INFO - 07/22/25 19:14:37 - 0:00:25 -     Found 43/128 solutions in beam hypotheses.\n"
     ]
    },
    {
     "name": "stdout",
     "output_type": "stream",
     "text": [
      "INFO - 07/22/25 19:14:37 - 0:00:25 - (9856/20000) Found 55/128 valid top-1 predictions. Generating solutions ...\n",
      "INFO - 07/22/25 19:14:37 - 0:00:25 -     Found 55/128 solutions in beam hypotheses.\n"
     ]
    },
    {
     "name": "stdout",
     "output_type": "stream",
     "text": [
      "INFO - 07/22/25 19:14:37 - 0:00:26 - (9984/20000) Found 36/128 valid top-1 predictions. Generating solutions ...\n",
      "INFO - 07/22/25 19:14:37 - 0:00:26 -     Found 36/128 solutions in beam hypotheses.\n"
     ]
    },
    {
     "name": "stdout",
     "output_type": "stream",
     "text": [
      "INFO - 07/22/25 19:14:37 - 0:00:26 - (10112/20000) Found 39/128 valid top-1 predictions. Generating solutions ...\n",
      "INFO - 07/22/25 19:14:37 - 0:00:26 -     Found 39/128 solutions in beam hypotheses.\n"
     ]
    },
    {
     "name": "stdout",
     "output_type": "stream",
     "text": [
      "INFO - 07/22/25 19:14:38 - 0:00:26 - (10240/20000) Found 37/128 valid top-1 predictions. Generating solutions ...\n",
      "INFO - 07/22/25 19:14:38 - 0:00:26 -     Found 37/128 solutions in beam hypotheses.\n"
     ]
    },
    {
     "name": "stdout",
     "output_type": "stream",
     "text": [
      "INFO - 07/22/25 19:14:38 - 0:00:27 - (10368/20000) Found 41/128 valid top-1 predictions. Generating solutions ...\n",
      "INFO - 07/22/25 19:14:38 - 0:00:27 -     Found 41/128 solutions in beam hypotheses.\n"
     ]
    },
    {
     "name": "stdout",
     "output_type": "stream",
     "text": [
      "INFO - 07/22/25 19:14:38 - 0:00:27 - (10496/20000) Found 53/128 valid top-1 predictions. Generating solutions ...\n",
      "INFO - 07/22/25 19:14:38 - 0:00:27 -     Found 53/128 solutions in beam hypotheses.\n"
     ]
    },
    {
     "name": "stdout",
     "output_type": "stream",
     "text": [
      "INFO - 07/22/25 19:14:39 - 0:00:27 - (10624/20000) Found 48/128 valid top-1 predictions. Generating solutions ...\n",
      "INFO - 07/22/25 19:14:39 - 0:00:27 -     Found 48/128 solutions in beam hypotheses.\n"
     ]
    },
    {
     "name": "stdout",
     "output_type": "stream",
     "text": [
      "INFO - 07/22/25 19:14:39 - 0:00:28 - (10752/20000) Found 44/128 valid top-1 predictions. Generating solutions ...\n",
      "INFO - 07/22/25 19:14:39 - 0:00:28 -     Found 44/128 solutions in beam hypotheses.\n"
     ]
    },
    {
     "name": "stdout",
     "output_type": "stream",
     "text": [
      "INFO - 07/22/25 19:14:39 - 0:00:28 - (10880/20000) Found 44/128 valid top-1 predictions. Generating solutions ...\n",
      "INFO - 07/22/25 19:14:39 - 0:00:28 -     Found 44/128 solutions in beam hypotheses.\n"
     ]
    },
    {
     "name": "stdout",
     "output_type": "stream",
     "text": [
      "INFO - 07/22/25 19:14:39 - 0:00:28 - (11008/20000) Found 58/128 valid top-1 predictions. Generating solutions ...\n",
      "INFO - 07/22/25 19:14:40 - 0:00:28 -     Found 58/128 solutions in beam hypotheses.\n"
     ]
    },
    {
     "name": "stdout",
     "output_type": "stream",
     "text": [
      "INFO - 07/22/25 19:14:40 - 0:00:28 - (11136/20000) Found 50/128 valid top-1 predictions. Generating solutions ...\n",
      "INFO - 07/22/25 19:14:40 - 0:00:29 -     Found 50/128 solutions in beam hypotheses.\n"
     ]
    },
    {
     "name": "stdout",
     "output_type": "stream",
     "text": [
      "INFO - 07/22/25 19:14:40 - 0:00:29 - (11264/20000) Found 45/128 valid top-1 predictions. Generating solutions ...\n",
      "INFO - 07/22/25 19:14:40 - 0:00:29 -     Found 45/128 solutions in beam hypotheses.\n"
     ]
    },
    {
     "name": "stdout",
     "output_type": "stream",
     "text": [
      "INFO - 07/22/25 19:14:40 - 0:00:29 - (11392/20000) Found 49/128 valid top-1 predictions. Generating solutions ...\n",
      "INFO - 07/22/25 19:14:40 - 0:00:29 -     Found 49/128 solutions in beam hypotheses.\n"
     ]
    },
    {
     "name": "stdout",
     "output_type": "stream",
     "text": [
      "INFO - 07/22/25 19:14:41 - 0:00:29 - (11520/20000) Found 57/128 valid top-1 predictions. Generating solutions ...\n",
      "INFO - 07/22/25 19:14:41 - 0:00:29 -     Found 57/128 solutions in beam hypotheses.\n"
     ]
    },
    {
     "name": "stdout",
     "output_type": "stream",
     "text": [
      "INFO - 07/22/25 19:14:41 - 0:00:30 - (11648/20000) Found 60/128 valid top-1 predictions. Generating solutions ...\n",
      "INFO - 07/22/25 19:14:41 - 0:00:30 -     Found 60/128 solutions in beam hypotheses.\n"
     ]
    },
    {
     "name": "stdout",
     "output_type": "stream",
     "text": [
      "INFO - 07/22/25 19:14:41 - 0:00:30 - (11776/20000) Found 46/128 valid top-1 predictions. Generating solutions ...\n",
      "INFO - 07/22/25 19:14:41 - 0:00:30 -     Found 46/128 solutions in beam hypotheses.\n"
     ]
    },
    {
     "name": "stdout",
     "output_type": "stream",
     "text": [
      "INFO - 07/22/25 19:14:42 - 0:00:30 - (11904/20000) Found 43/128 valid top-1 predictions. Generating solutions ...\n",
      "INFO - 07/22/25 19:14:42 - 0:00:30 -     Found 43/128 solutions in beam hypotheses.\n"
     ]
    },
    {
     "name": "stdout",
     "output_type": "stream",
     "text": [
      "INFO - 07/22/25 19:14:42 - 0:00:31 - (12032/20000) Found 45/128 valid top-1 predictions. Generating solutions ...\n",
      "INFO - 07/22/25 19:14:42 - 0:00:31 -     Found 45/128 solutions in beam hypotheses.\n"
     ]
    },
    {
     "name": "stdout",
     "output_type": "stream",
     "text": [
      "INFO - 07/22/25 19:14:42 - 0:00:31 - (12160/20000) Found 48/128 valid top-1 predictions. Generating solutions ...\n",
      "INFO - 07/22/25 19:14:42 - 0:00:31 -     Found 48/128 solutions in beam hypotheses.\n"
     ]
    },
    {
     "name": "stdout",
     "output_type": "stream",
     "text": [
      "INFO - 07/22/25 19:14:43 - 0:00:31 - (12288/20000) Found 41/128 valid top-1 predictions. Generating solutions ...\n",
      "INFO - 07/22/25 19:14:43 - 0:00:31 -     Found 41/128 solutions in beam hypotheses.\n"
     ]
    },
    {
     "name": "stdout",
     "output_type": "stream",
     "text": [
      "INFO - 07/22/25 19:14:43 - 0:00:32 - (12416/20000) Found 48/128 valid top-1 predictions. Generating solutions ...\n",
      "INFO - 07/22/25 19:14:43 - 0:00:32 -     Found 48/128 solutions in beam hypotheses.\n"
     ]
    },
    {
     "name": "stdout",
     "output_type": "stream",
     "text": [
      "INFO - 07/22/25 19:14:43 - 0:00:32 - (12544/20000) Found 59/128 valid top-1 predictions. Generating solutions ...\n",
      "INFO - 07/22/25 19:14:43 - 0:00:32 -     Found 59/128 solutions in beam hypotheses.\n"
     ]
    },
    {
     "name": "stdout",
     "output_type": "stream",
     "text": [
      "INFO - 07/22/25 19:14:43 - 0:00:32 - (12672/20000) Found 49/128 valid top-1 predictions. Generating solutions ...\n",
      "INFO - 07/22/25 19:14:43 - 0:00:32 -     Found 49/128 solutions in beam hypotheses.\n"
     ]
    },
    {
     "name": "stdout",
     "output_type": "stream",
     "text": [
      "INFO - 07/22/25 19:14:44 - 0:00:32 - (12800/20000) Found 47/128 valid top-1 predictions. Generating solutions ...\n",
      "INFO - 07/22/25 19:14:44 - 0:00:32 -     Found 47/128 solutions in beam hypotheses.\n"
     ]
    },
    {
     "name": "stdout",
     "output_type": "stream",
     "text": [
      "INFO - 07/22/25 19:14:44 - 0:00:33 - (12928/20000) Found 37/128 valid top-1 predictions. Generating solutions ...\n",
      "INFO - 07/22/25 19:14:44 - 0:00:33 -     Found 37/128 solutions in beam hypotheses.\n"
     ]
    },
    {
     "name": "stdout",
     "output_type": "stream",
     "text": [
      "INFO - 07/22/25 19:14:44 - 0:00:33 - (13056/20000) Found 45/128 valid top-1 predictions. Generating solutions ...\n",
      "INFO - 07/22/25 19:14:44 - 0:00:33 -     Found 45/128 solutions in beam hypotheses.\n"
     ]
    },
    {
     "name": "stdout",
     "output_type": "stream",
     "text": [
      "INFO - 07/22/25 19:14:45 - 0:00:33 - (13184/20000) Found 38/128 valid top-1 predictions. Generating solutions ...\n",
      "INFO - 07/22/25 19:14:45 - 0:00:33 -     Found 38/128 solutions in beam hypotheses.\n"
     ]
    },
    {
     "name": "stdout",
     "output_type": "stream",
     "text": [
      "INFO - 07/22/25 19:14:45 - 0:00:34 - (13312/20000) Found 42/128 valid top-1 predictions. Generating solutions ...\n",
      "INFO - 07/22/25 19:14:45 - 0:00:34 -     Found 42/128 solutions in beam hypotheses.\n"
     ]
    },
    {
     "name": "stdout",
     "output_type": "stream",
     "text": [
      "INFO - 07/22/25 19:14:45 - 0:00:34 - (13440/20000) Found 43/128 valid top-1 predictions. Generating solutions ...\n",
      "INFO - 07/22/25 19:14:45 - 0:00:34 -     Found 43/128 solutions in beam hypotheses.\n"
     ]
    },
    {
     "name": "stdout",
     "output_type": "stream",
     "text": [
      "INFO - 07/22/25 19:14:46 - 0:00:34 - (13568/20000) Found 49/128 valid top-1 predictions. Generating solutions ...\n",
      "INFO - 07/22/25 19:14:46 - 0:00:34 -     Found 49/128 solutions in beam hypotheses.\n"
     ]
    },
    {
     "name": "stdout",
     "output_type": "stream",
     "text": [
      "INFO - 07/22/25 19:14:46 - 0:00:35 - (13696/20000) Found 35/128 valid top-1 predictions. Generating solutions ...\n",
      "INFO - 07/22/25 19:14:46 - 0:00:35 -     Found 35/128 solutions in beam hypotheses.\n"
     ]
    },
    {
     "name": "stdout",
     "output_type": "stream",
     "text": [
      "INFO - 07/22/25 19:14:46 - 0:00:35 - (13824/20000) Found 44/128 valid top-1 predictions. Generating solutions ...\n",
      "INFO - 07/22/25 19:14:46 - 0:00:35 -     Found 44/128 solutions in beam hypotheses.\n"
     ]
    },
    {
     "name": "stdout",
     "output_type": "stream",
     "text": [
      "INFO - 07/22/25 19:14:46 - 0:00:35 - (13952/20000) Found 48/128 valid top-1 predictions. Generating solutions ...\n",
      "INFO - 07/22/25 19:14:47 - 0:00:35 -     Found 48/128 solutions in beam hypotheses.\n"
     ]
    },
    {
     "name": "stdout",
     "output_type": "stream",
     "text": [
      "INFO - 07/22/25 19:14:47 - 0:00:35 - (14080/20000) Found 55/128 valid top-1 predictions. Generating solutions ...\n",
      "INFO - 07/22/25 19:14:47 - 0:00:35 -     Found 55/128 solutions in beam hypotheses.\n"
     ]
    },
    {
     "name": "stdout",
     "output_type": "stream",
     "text": [
      "INFO - 07/22/25 19:14:47 - 0:00:36 - (14208/20000) Found 49/128 valid top-1 predictions. Generating solutions ...\n",
      "INFO - 07/22/25 19:14:47 - 0:00:36 -     Found 49/128 solutions in beam hypotheses.\n"
     ]
    },
    {
     "name": "stdout",
     "output_type": "stream",
     "text": [
      "INFO - 07/22/25 19:14:47 - 0:00:36 - (14336/20000) Found 43/128 valid top-1 predictions. Generating solutions ...\n",
      "INFO - 07/22/25 19:14:47 - 0:00:36 -     Found 43/128 solutions in beam hypotheses.\n"
     ]
    },
    {
     "name": "stdout",
     "output_type": "stream",
     "text": [
      "INFO - 07/22/25 19:14:48 - 0:00:36 - (14464/20000) Found 51/128 valid top-1 predictions. Generating solutions ...\n",
      "INFO - 07/22/25 19:14:48 - 0:00:36 -     Found 51/128 solutions in beam hypotheses.\n"
     ]
    },
    {
     "name": "stdout",
     "output_type": "stream",
     "text": [
      "INFO - 07/22/25 19:14:48 - 0:00:37 - (14592/20000) Found 42/128 valid top-1 predictions. Generating solutions ...\n",
      "INFO - 07/22/25 19:14:48 - 0:00:37 -     Found 42/128 solutions in beam hypotheses.\n"
     ]
    },
    {
     "name": "stdout",
     "output_type": "stream",
     "text": [
      "INFO - 07/22/25 19:14:48 - 0:00:37 - (14720/20000) Found 48/128 valid top-1 predictions. Generating solutions ...\n",
      "INFO - 07/22/25 19:14:48 - 0:00:37 -     Found 48/128 solutions in beam hypotheses.\n"
     ]
    },
    {
     "name": "stdout",
     "output_type": "stream",
     "text": [
      "INFO - 07/22/25 19:14:49 - 0:00:37 - (14848/20000) Found 47/128 valid top-1 predictions. Generating solutions ...\n",
      "INFO - 07/22/25 19:14:49 - 0:00:37 -     Found 47/128 solutions in beam hypotheses.\n"
     ]
    },
    {
     "name": "stdout",
     "output_type": "stream",
     "text": [
      "INFO - 07/22/25 19:14:49 - 0:00:38 - (14976/20000) Found 51/128 valid top-1 predictions. Generating solutions ...\n",
      "INFO - 07/22/25 19:14:49 - 0:00:38 -     Found 51/128 solutions in beam hypotheses.\n"
     ]
    },
    {
     "name": "stdout",
     "output_type": "stream",
     "text": [
      "INFO - 07/22/25 19:14:49 - 0:00:38 - (15104/20000) Found 42/128 valid top-1 predictions. Generating solutions ...\n",
      "INFO - 07/22/25 19:14:49 - 0:00:38 -     Found 42/128 solutions in beam hypotheses.\n"
     ]
    },
    {
     "name": "stdout",
     "output_type": "stream",
     "text": [
      "INFO - 07/22/25 19:14:50 - 0:00:38 - (15232/20000) Found 45/128 valid top-1 predictions. Generating solutions ...\n",
      "INFO - 07/22/25 19:14:50 - 0:00:38 -     Found 45/128 solutions in beam hypotheses.\n"
     ]
    },
    {
     "name": "stdout",
     "output_type": "stream",
     "text": [
      "INFO - 07/22/25 19:14:50 - 0:00:38 - (15360/20000) Found 44/128 valid top-1 predictions. Generating solutions ...\n",
      "INFO - 07/22/25 19:14:50 - 0:00:39 -     Found 44/128 solutions in beam hypotheses.\n"
     ]
    },
    {
     "name": "stdout",
     "output_type": "stream",
     "text": [
      "INFO - 07/22/25 19:14:50 - 0:00:39 - (15488/20000) Found 44/128 valid top-1 predictions. Generating solutions ...\n",
      "INFO - 07/22/25 19:14:50 - 0:00:39 -     Found 44/128 solutions in beam hypotheses.\n"
     ]
    },
    {
     "name": "stdout",
     "output_type": "stream",
     "text": [
      "INFO - 07/22/25 19:14:50 - 0:00:39 - (15616/20000) Found 42/128 valid top-1 predictions. Generating solutions ...\n",
      "INFO - 07/22/25 19:14:50 - 0:00:39 -     Found 42/128 solutions in beam hypotheses.\n"
     ]
    },
    {
     "name": "stdout",
     "output_type": "stream",
     "text": [
      "INFO - 07/22/25 19:14:51 - 0:00:39 - (15744/20000) Found 51/128 valid top-1 predictions. Generating solutions ...\n",
      "INFO - 07/22/25 19:14:51 - 0:00:39 -     Found 51/128 solutions in beam hypotheses.\n"
     ]
    },
    {
     "name": "stdout",
     "output_type": "stream",
     "text": [
      "INFO - 07/22/25 19:14:51 - 0:00:40 - (15872/20000) Found 41/128 valid top-1 predictions. Generating solutions ...\n",
      "INFO - 07/22/25 19:14:51 - 0:00:40 -     Found 41/128 solutions in beam hypotheses.\n"
     ]
    },
    {
     "name": "stdout",
     "output_type": "stream",
     "text": [
      "INFO - 07/22/25 19:14:51 - 0:00:40 - (16000/20000) Found 41/128 valid top-1 predictions. Generating solutions ...\n",
      "INFO - 07/22/25 19:14:51 - 0:00:40 -     Found 41/128 solutions in beam hypotheses.\n"
     ]
    },
    {
     "name": "stdout",
     "output_type": "stream",
     "text": [
      "INFO - 07/22/25 19:14:52 - 0:00:40 - (16128/20000) Found 47/128 valid top-1 predictions. Generating solutions ...\n",
      "INFO - 07/22/25 19:14:52 - 0:00:40 -     Found 47/128 solutions in beam hypotheses.\n"
     ]
    },
    {
     "name": "stdout",
     "output_type": "stream",
     "text": [
      "INFO - 07/22/25 19:14:52 - 0:00:41 - (16256/20000) Found 42/128 valid top-1 predictions. Generating solutions ...\n",
      "INFO - 07/22/25 19:14:52 - 0:00:41 -     Found 42/128 solutions in beam hypotheses.\n"
     ]
    },
    {
     "name": "stdout",
     "output_type": "stream",
     "text": [
      "INFO - 07/22/25 19:14:52 - 0:00:41 - (16384/20000) Found 38/128 valid top-1 predictions. Generating solutions ...\n",
      "INFO - 07/22/25 19:14:52 - 0:00:41 -     Found 38/128 solutions in beam hypotheses.\n"
     ]
    },
    {
     "name": "stdout",
     "output_type": "stream",
     "text": [
      "INFO - 07/22/25 19:14:53 - 0:00:41 - (16512/20000) Found 51/128 valid top-1 predictions. Generating solutions ...\n",
      "INFO - 07/22/25 19:14:53 - 0:00:41 -     Found 51/128 solutions in beam hypotheses.\n"
     ]
    },
    {
     "name": "stdout",
     "output_type": "stream",
     "text": [
      "INFO - 07/22/25 19:14:53 - 0:00:42 - (16640/20000) Found 40/128 valid top-1 predictions. Generating solutions ...\n",
      "INFO - 07/22/25 19:14:53 - 0:00:42 -     Found 40/128 solutions in beam hypotheses.\n"
     ]
    },
    {
     "name": "stdout",
     "output_type": "stream",
     "text": [
      "INFO - 07/22/25 19:14:53 - 0:00:42 - (16768/20000) Found 38/128 valid top-1 predictions. Generating solutions ...\n",
      "INFO - 07/22/25 19:14:53 - 0:00:42 -     Found 38/128 solutions in beam hypotheses.\n"
     ]
    },
    {
     "name": "stdout",
     "output_type": "stream",
     "text": [
      "INFO - 07/22/25 19:14:53 - 0:00:42 - (16896/20000) Found 51/128 valid top-1 predictions. Generating solutions ...\n",
      "INFO - 07/22/25 19:14:54 - 0:00:42 -     Found 51/128 solutions in beam hypotheses.\n"
     ]
    },
    {
     "name": "stdout",
     "output_type": "stream",
     "text": [
      "INFO - 07/22/25 19:14:54 - 0:00:42 - (17024/20000) Found 41/128 valid top-1 predictions. Generating solutions ...\n",
      "INFO - 07/22/25 19:14:54 - 0:00:42 -     Found 41/128 solutions in beam hypotheses.\n"
     ]
    },
    {
     "name": "stdout",
     "output_type": "stream",
     "text": [
      "INFO - 07/22/25 19:14:54 - 0:00:43 - (17152/20000) Found 37/128 valid top-1 predictions. Generating solutions ...\n",
      "INFO - 07/22/25 19:14:54 - 0:00:43 -     Found 37/128 solutions in beam hypotheses.\n"
     ]
    },
    {
     "name": "stdout",
     "output_type": "stream",
     "text": [
      "INFO - 07/22/25 19:14:54 - 0:00:43 - (17280/20000) Found 45/128 valid top-1 predictions. Generating solutions ...\n",
      "INFO - 07/22/25 19:14:54 - 0:00:43 -     Found 45/128 solutions in beam hypotheses.\n"
     ]
    },
    {
     "name": "stdout",
     "output_type": "stream",
     "text": [
      "INFO - 07/22/25 19:14:55 - 0:00:43 - (17408/20000) Found 46/128 valid top-1 predictions. Generating solutions ...\n",
      "INFO - 07/22/25 19:14:55 - 0:00:43 -     Found 46/128 solutions in beam hypotheses.\n"
     ]
    },
    {
     "name": "stdout",
     "output_type": "stream",
     "text": [
      "INFO - 07/22/25 19:14:55 - 0:00:44 - (17536/20000) Found 44/128 valid top-1 predictions. Generating solutions ...\n",
      "INFO - 07/22/25 19:14:55 - 0:00:44 -     Found 44/128 solutions in beam hypotheses.\n"
     ]
    },
    {
     "name": "stdout",
     "output_type": "stream",
     "text": [
      "INFO - 07/22/25 19:14:55 - 0:00:44 - (17664/20000) Found 53/128 valid top-1 predictions. Generating solutions ...\n",
      "INFO - 07/22/25 19:14:55 - 0:00:44 -     Found 53/128 solutions in beam hypotheses.\n"
     ]
    },
    {
     "name": "stdout",
     "output_type": "stream",
     "text": [
      "INFO - 07/22/25 19:14:56 - 0:00:44 - (17792/20000) Found 51/128 valid top-1 predictions. Generating solutions ...\n",
      "INFO - 07/22/25 19:14:56 - 0:00:44 -     Found 51/128 solutions in beam hypotheses.\n"
     ]
    },
    {
     "name": "stdout",
     "output_type": "stream",
     "text": [
      "INFO - 07/22/25 19:14:56 - 0:00:45 - (17920/20000) Found 42/128 valid top-1 predictions. Generating solutions ...\n",
      "INFO - 07/22/25 19:14:56 - 0:00:45 -     Found 42/128 solutions in beam hypotheses.\n"
     ]
    },
    {
     "name": "stdout",
     "output_type": "stream",
     "text": [
      "INFO - 07/22/25 19:14:56 - 0:00:45 - (18048/20000) Found 40/128 valid top-1 predictions. Generating solutions ...\n",
      "INFO - 07/22/25 19:14:56 - 0:00:45 -     Found 40/128 solutions in beam hypotheses.\n"
     ]
    },
    {
     "name": "stdout",
     "output_type": "stream",
     "text": [
      "INFO - 07/22/25 19:14:57 - 0:00:45 - (18176/20000) Found 38/128 valid top-1 predictions. Generating solutions ...\n",
      "INFO - 07/22/25 19:14:57 - 0:00:45 -     Found 38/128 solutions in beam hypotheses.\n"
     ]
    },
    {
     "name": "stdout",
     "output_type": "stream",
     "text": [
      "INFO - 07/22/25 19:14:57 - 0:00:45 - (18304/20000) Found 47/128 valid top-1 predictions. Generating solutions ...\n",
      "INFO - 07/22/25 19:14:57 - 0:00:46 -     Found 47/128 solutions in beam hypotheses.\n"
     ]
    },
    {
     "name": "stdout",
     "output_type": "stream",
     "text": [
      "INFO - 07/22/25 19:14:57 - 0:00:46 - (18432/20000) Found 48/128 valid top-1 predictions. Generating solutions ...\n",
      "INFO - 07/22/25 19:14:57 - 0:00:46 -     Found 48/128 solutions in beam hypotheses.\n"
     ]
    },
    {
     "name": "stdout",
     "output_type": "stream",
     "text": [
      "INFO - 07/22/25 19:14:57 - 0:00:46 - (18560/20000) Found 42/128 valid top-1 predictions. Generating solutions ...\n",
      "INFO - 07/22/25 19:14:57 - 0:00:46 -     Found 42/128 solutions in beam hypotheses.\n"
     ]
    },
    {
     "name": "stdout",
     "output_type": "stream",
     "text": [
      "INFO - 07/22/25 19:14:58 - 0:00:46 - (18688/20000) Found 50/128 valid top-1 predictions. Generating solutions ...\n",
      "INFO - 07/22/25 19:14:58 - 0:00:46 -     Found 50/128 solutions in beam hypotheses.\n"
     ]
    },
    {
     "name": "stdout",
     "output_type": "stream",
     "text": [
      "INFO - 07/22/25 19:14:58 - 0:00:47 - (18816/20000) Found 51/128 valid top-1 predictions. Generating solutions ...\n",
      "INFO - 07/22/25 19:14:58 - 0:00:47 -     Found 51/128 solutions in beam hypotheses.\n"
     ]
    },
    {
     "name": "stdout",
     "output_type": "stream",
     "text": [
      "INFO - 07/22/25 19:14:58 - 0:00:47 - (18944/20000) Found 42/128 valid top-1 predictions. Generating solutions ...\n",
      "INFO - 07/22/25 19:14:58 - 0:00:47 -     Found 42/128 solutions in beam hypotheses.\n"
     ]
    },
    {
     "name": "stdout",
     "output_type": "stream",
     "text": [
      "INFO - 07/22/25 19:14:59 - 0:00:47 - (19072/20000) Found 48/128 valid top-1 predictions. Generating solutions ...\n",
      "INFO - 07/22/25 19:14:59 - 0:00:47 -     Found 48/128 solutions in beam hypotheses.\n"
     ]
    },
    {
     "name": "stdout",
     "output_type": "stream",
     "text": [
      "INFO - 07/22/25 19:14:59 - 0:00:48 - (19200/20000) Found 47/128 valid top-1 predictions. Generating solutions ...\n",
      "INFO - 07/22/25 19:14:59 - 0:00:48 -     Found 47/128 solutions in beam hypotheses.\n"
     ]
    },
    {
     "name": "stdout",
     "output_type": "stream",
     "text": [
      "INFO - 07/22/25 19:14:59 - 0:00:48 - (19328/20000) Found 46/128 valid top-1 predictions. Generating solutions ...\n",
      "INFO - 07/22/25 19:14:59 - 0:00:48 -     Found 46/128 solutions in beam hypotheses.\n"
     ]
    },
    {
     "name": "stdout",
     "output_type": "stream",
     "text": [
      "INFO - 07/22/25 19:15:00 - 0:00:48 - (19456/20000) Found 46/128 valid top-1 predictions. Generating solutions ...\n",
      "INFO - 07/22/25 19:15:00 - 0:00:48 -     Found 46/128 solutions in beam hypotheses.\n"
     ]
    },
    {
     "name": "stdout",
     "output_type": "stream",
     "text": [
      "INFO - 07/22/25 19:15:00 - 0:00:49 - (19584/20000) Found 43/128 valid top-1 predictions. Generating solutions ...\n",
      "INFO - 07/22/25 19:15:00 - 0:00:49 -     Found 43/128 solutions in beam hypotheses.\n"
     ]
    },
    {
     "name": "stdout",
     "output_type": "stream",
     "text": [
      "INFO - 07/22/25 19:15:00 - 0:00:49 - (19712/20000) Found 60/128 valid top-1 predictions. Generating solutions ...\n",
      "INFO - 07/22/25 19:15:00 - 0:00:49 -     Found 60/128 solutions in beam hypotheses.\n"
     ]
    },
    {
     "name": "stdout",
     "output_type": "stream",
     "text": [
      "INFO - 07/22/25 19:15:00 - 0:00:49 - (19840/20000) Found 43/128 valid top-1 predictions. Generating solutions ...\n",
      "INFO - 07/22/25 19:15:01 - 0:00:49 -     Found 43/128 solutions in beam hypotheses.\n"
     ]
    },
    {
     "name": "stdout",
     "output_type": "stream",
     "text": [
      "INFO - 07/22/25 19:15:01 - 0:00:49 - (19968/20000) Found 40/128 valid top-1 predictions. Generating solutions ...\n",
      "INFO - 07/22/25 19:15:01 - 0:00:49 -     Found 40/128 solutions in beam hypotheses.\n",
      "INFO - 07/22/25 19:15:01 - 0:00:50 - (20000/20000) Found 7/32 valid top-1 predictions. Generating solutions ...\n",
      "INFO - 07/22/25 19:15:01 - 0:00:50 -     Found 7/32 solutions in beam hypotheses.\n",
      "INFO - 07/22/25 19:15:01 - 0:00:50 - 7172/20000 (35.86%) equations were evaluated correctly.\n",
      "INFO - 07/22/25 19:15:01 - 0:00:50 - 0: 4872 / 7809 (62.39%)\n",
      "INFO - 07/22/25 19:15:01 - 0:00:50 - 1: 2101 / 6072 (34.60%)\n",
      "INFO - 07/22/25 19:15:01 - 0:00:50 - 100: 199 / 6119 (3.25%)\n"
     ]
    },
    {
     "name": "stdout",
     "output_type": "stream",
     "text": [
      "INFO - 07/22/25 19:15:01 - 0:00:50 - epoch -> 295.000000\n",
      "INFO - 07/22/25 19:15:01 - 0:00:50 - valid_arithmetic_xe_loss -> 1.327497\n",
      "INFO - 07/22/25 19:15:01 - 0:00:50 - valid_arithmetic_acc -> 35.860000\n",
      "INFO - 07/22/25 19:15:01 - 0:00:50 - valid_arithmetic_perfect -> 35.860000\n",
      "INFO - 07/22/25 19:15:01 - 0:00:50 - valid_arithmetic_correct -> 35.860000\n",
      "INFO - 07/22/25 19:15:01 - 0:00:50 - valid_arithmetic_acc_d1 -> 35.860000\n",
      "INFO - 07/22/25 19:15:01 - 0:00:50 - valid_arithmetic_acc_d2 -> 35.860000\n",
      "INFO - 07/22/25 19:15:01 - 0:00:50 - valid_arithmetic_acc_d3 -> 59.485000\n",
      "INFO - 07/22/25 19:15:01 - 0:00:50 - valid_arithmetic_acc_0 -> 62.389551\n",
      "INFO - 07/22/25 19:15:01 - 0:00:50 - valid_arithmetic_acc_1 -> 34.601449\n",
      "INFO - 07/22/25 19:15:01 - 0:00:50 - valid_arithmetic_acc_100 -> 3.252165\n",
      "INFO - 07/22/25 19:15:01 - 0:00:50 - __log__:{\"epoch\": 295, \"valid_arithmetic_xe_loss\": 1.327496562576294, \"valid_arithmetic_acc\": 35.86, \"valid_arithmetic_perfect\": 35.86, \"valid_arithmetic_correct\": 35.86, \"valid_arithmetic_acc_d1\": 35.86, \"valid_arithmetic_acc_d2\": 35.86, \"valid_arithmetic_acc_d3\": 59.485, \"valid_arithmetic_acc_0\": 62.38955051863235, \"valid_arithmetic_acc_1\": 34.60144927536232, \"valid_arithmetic_acc_100\": 3.2521653865010625}\n"
     ]
    },
    {
     "name": "stdout",
     "output_type": "stream",
     "text": [
      "INFO - 07/22/25 19:15:04 - 0:00:00 - ============ Initialized logger ============\n",
      "INFO - 07/22/25 19:15:04 - 0:00:00 - GRU: False\n",
      "                                     accumulate_gradients: 1\n",
      "                                     act_bias: 0\n",
      "                                     act_biased: False\n",
      "                                     act_ponder_coupling: 0.01\n",
      "                                     act_threshold: 0.01\n",
      "                                     amp: -1\n",
      "                                     architecture: encoder_decoder\n",
      "                                     attention_dropout: 0\n",
      "                                     base: 1000\n",
      "                                     batch_load: False\n",
      "                                     batch_size: 32\n",
      "                                     batch_size_eval: 128\n",
      "                                     beam_early_stopping: True\n",
      "                                     beam_eval: False\n",
      "                                     beam_eval_train: 0\n",
      "                                     beam_length_penalty: 1\n",
      "                                     beam_size: 1\n",
      "                                     biased_gates: False\n",
      "                                     bidirectional: False\n",
      "                                     class_by_length: False\n",
      "                                     clip_grad_norm: 5\n",
      "                                     command: python /home/user/Int2Int/train.py --num_workers 0 --dump_path '/home/user/fastdir/dump' --exp_name basic --exp_id 3 --eval_only True --eval_data '/home/user/fastdir/data/mu_true.txt' --eval_size 20000 --data_types 'int[200]:range(-1,2)' --exp_id \"3\"\n",
      "                                     cpu: False\n",
      "                                     data_types: int[200]:range(-1,2)\n",
      "                                     debug: False\n",
      "                                     debug_slurm: False\n",
      "                                     dec_act: False\n",
      "                                     dec_emb_dim: 256\n",
      "                                     dec_gated: False\n",
      "                                     dec_has_pos_emb: True\n",
      "                                     dec_loop_idx: -1\n",
      "                                     dec_loops: 1\n",
      "                                     dim1: 10\n",
      "                                     dim2: 10\n",
      "                                     dropout: 0\n",
      "                                     dump_path: /home/user/fastdir/dump/basic/3\n",
      "                                     enc_act: False\n",
      "                                     enc_emb_dim: 256\n",
      "                                     enc_gated: False\n",
      "                                     enc_has_pos_emb: True\n",
      "                                     enc_loop_idx: -1\n",
      "                                     enc_loops: 1\n",
      "                                     env_base_seed: -1\n",
      "                                     env_name: arithmetic\n",
      "                                     epoch_size: 300000\n",
      "                                     eval_data: /home/user/fastdir/data/mu_true.txt\n",
      "                                     eval_from_exp: \n",
      "                                     eval_only: True\n",
      "                                     eval_size: 20000\n",
      "                                     eval_verbose: 0\n",
      "                                     eval_verbose_print: False\n",
      "                                     exp_id: 3\n",
      "                                     exp_name: basic\n",
      "                                     export_data: False\n",
      "                                     first_class_prob: 0.25\n",
      "                                     first_class_size: 1000000\n",
      "                                     fp16: False\n",
      "                                     gate_bias: 0\n",
      "                                     gated: False\n",
      "                                     gelu_activation: False\n",
      "                                     global_rank: 0\n",
      "                                     is_master: True\n",
      "                                     is_slurm_job: False\n",
      "                                     local_gpu: -1\n",
      "                                     local_rank: 0\n",
      "                                     lstm: False\n",
      "                                     lstm_hidden_dim: 2048\n",
      "                                     master_port: -1\n",
      "                                     max_class: 101\n",
      "                                     max_epoch: 100000\n",
      "                                     max_len: 512\n",
      "                                     max_output_len: 512\n",
      "                                     max_src_len: 0\n",
      "                                     maxint: 1000000\n",
      "                                     minint: 1\n",
      "                                     modulus: 67\n",
      "                                     multi_gpu: False\n",
      "                                     multi_node: False\n",
      "                                     n_dec_heads: 8\n",
      "                                     n_dec_hidden_layers: 1\n",
      "                                     n_dec_layers: 4\n",
      "                                     n_enc_heads: 8\n",
      "                                     n_enc_hidden_layers: 1\n",
      "                                     n_enc_layers: 4\n",
      "                                     n_gpu_per_node: 1\n",
      "                                     n_nodes: 1\n",
      "                                     node_id: 0\n",
      "                                     norm_attention: False\n",
      "                                     num_workers: 0\n",
      "                                     operation: data\n",
      "                                     optimizer: adam,lr=0.0001\n",
      "                                     reload_checkpoint: \n",
      "                                     reload_model: \n",
      "                                     reload_size: -1\n",
      "                                     save_periodic: 0\n",
      "                                     scalar_gate: False\n",
      "                                     share_inout_emb: True\n",
      "                                     sinusoidal_embeddings: False\n",
      "                                     stopping_criterion: \n",
      "                                     tasks: arithmetic\n",
      "                                     train_data: \n",
      "                                     two_classes: False\n",
      "                                     validation_metrics: \n",
      "                                     windows: False\n",
      "                                     world_size: 1\n",
      "                                     xav_init: False\n",
      "INFO - 07/22/25 19:15:04 - 0:00:00 - The experiment will be stored in /home/user/fastdir/dump/basic/3\n",
      "                                     \n",
      "INFO - 07/22/25 19:15:04 - 0:00:00 - Running command: python /home/user/Int2Int/train.py --num_workers 0 --dump_path '/home/user/fastdir/dump' --exp_name basic --exp_id 3 --eval_only True --eval_data '/home/user/fastdir/data/mu_true.txt' --eval_size 20000 --data_types 'int[200]:range(-1,2)'\n",
      "\n",
      "INFO - 07/22/25 19:15:04 - 0:00:00 - words: {'<eos>': 0, '<pad>': 1, '<sep>': 2, '(': 3, ')': 4, '<SPECIAL_0>': 5, '<SPECIAL_1>': 6, '<SPECIAL_2>': 7, '<SPECIAL_3>': 8, '<SPECIAL_4>': 9, '<SPECIAL_5>': 10, '<SPECIAL_6>': 11, '<SPECIAL_7>': 12, '<SPECIAL_8>': 13, '<SPECIAL_9>': 14, '+': 15, '-': 16, '-1': 17, '0': 18, '1': 19, '10': 20, '100': 21, '101': 22, '102': 23, '103': 24, '104': 25, '105': 26, '106': 27, '107': 28, '108': 29, '109': 30, '11': 31, '110': 32, '111': 33, '112': 34, '113': 35, '114': 36, '115': 37, '116': 38, '117': 39, '118': 40, '119': 41, '12': 42, '120': 43, '121': 44, '122': 45, '123': 46, '124': 47, '125': 48, '126': 49, '127': 50, '128': 51, '129': 52, '13': 53, '130': 54, '131': 55, '132': 56, '133': 57, '134': 58, '135': 59, '136': 60, '137': 61, '138': 62, '139': 63, '14': 64, '140': 65, '141': 66, '142': 67, '143': 68, '144': 69, '145': 70, '146': 71, '147': 72, '148': 73, '149': 74, '15': 75, '150': 76, '151': 77, '152': 78, '153': 79, '154': 80, '155': 81, '156': 82, '157': 83, '158': 84, '159': 85, '16': 86, '160': 87, '161': 88, '162': 89, '163': 90, '164': 91, '165': 92, '166': 93, '167': 94, '168': 95, '169': 96, '17': 97, '170': 98, '171': 99, '172': 100, '173': 101, '174': 102, '175': 103, '176': 104, '177': 105, '178': 106, '179': 107, '18': 108, '180': 109, '181': 110, '182': 111, '183': 112, '184': 113, '185': 114, '186': 115, '187': 116, '188': 117, '189': 118, '19': 119, '190': 120, '191': 121, '192': 122, '193': 123, '194': 124, '195': 125, '196': 126, '197': 127, '198': 128, '199': 129, '2': 130, '20': 131, '200': 132, '201': 133, '202': 134, '203': 135, '204': 136, '205': 137, '206': 138, '207': 139, '208': 140, '209': 141, '21': 142, '210': 143, '211': 144, '212': 145, '213': 146, '214': 147, '215': 148, '216': 149, '217': 150, '218': 151, '219': 152, '22': 153, '220': 154, '221': 155, '222': 156, '223': 157, '224': 158, '225': 159, '226': 160, '227': 161, '228': 162, '229': 163, '23': 164, '230': 165, '231': 166, '232': 167, '233': 168, '234': 169, '235': 170, '236': 171, '237': 172, '238': 173, '239': 174, '24': 175, '240': 176, '241': 177, '242': 178, '243': 179, '244': 180, '245': 181, '246': 182, '247': 183, '248': 184, '249': 185, '25': 186, '250': 187, '251': 188, '252': 189, '253': 190, '254': 191, '255': 192, '256': 193, '257': 194, '258': 195, '259': 196, '26': 197, '260': 198, '261': 199, '262': 200, '263': 201, '264': 202, '265': 203, '266': 204, '267': 205, '268': 206, '269': 207, '27': 208, '270': 209, '271': 210, '272': 211, '273': 212, '274': 213, '275': 214, '276': 215, '277': 216, '278': 217, '279': 218, '28': 219, '280': 220, '281': 221, '282': 222, '283': 223, '284': 224, '285': 225, '286': 226, '287': 227, '288': 228, '289': 229, '29': 230, '290': 231, '291': 232, '292': 233, '293': 234, '294': 235, '295': 236, '296': 237, '297': 238, '298': 239, '299': 240, '3': 241, '30': 242, '300': 243, '301': 244, '302': 245, '303': 246, '304': 247, '305': 248, '306': 249, '307': 250, '308': 251, '309': 252, '31': 253, '310': 254, '311': 255, '312': 256, '313': 257, '314': 258, '315': 259, '316': 260, '317': 261, '318': 262, '319': 263, '32': 264, '320': 265, '321': 266, '322': 267, '323': 268, '324': 269, '325': 270, '326': 271, '327': 272, '328': 273, '329': 274, '33': 275, '330': 276, '331': 277, '332': 278, '333': 279, '334': 280, '335': 281, '336': 282, '337': 283, '338': 284, '339': 285, '34': 286, '340': 287, '341': 288, '342': 289, '343': 290, '344': 291, '345': 292, '346': 293, '347': 294, '348': 295, '349': 296, '35': 297, '350': 298, '351': 299, '352': 300, '353': 301, '354': 302, '355': 303, '356': 304, '357': 305, '358': 306, '359': 307, '36': 308, '360': 309, '361': 310, '362': 311, '363': 312, '364': 313, '365': 314, '366': 315, '367': 316, '368': 317, '369': 318, '37': 319, '370': 320, '371': 321, '372': 322, '373': 323, '374': 324, '375': 325, '376': 326, '377': 327, '378': 328, '379': 329, '38': 330, '380': 331, '381': 332, '382': 333, '383': 334, '384': 335, '385': 336, '386': 337, '387': 338, '388': 339, '389': 340, '39': 341, '390': 342, '391': 343, '392': 344, '393': 345, '394': 346, '395': 347, '396': 348, '397': 349, '398': 350, '399': 351, '4': 352, '40': 353, '400': 354, '401': 355, '402': 356, '403': 357, '404': 358, '405': 359, '406': 360, '407': 361, '408': 362, '409': 363, '41': 364, '410': 365, '411': 366, '412': 367, '413': 368, '414': 369, '415': 370, '416': 371, '417': 372, '418': 373, '419': 374, '42': 375, '420': 376, '421': 377, '422': 378, '423': 379, '424': 380, '425': 381, '426': 382, '427': 383, '428': 384, '429': 385, '43': 386, '430': 387, '431': 388, '432': 389, '433': 390, '434': 391, '435': 392, '436': 393, '437': 394, '438': 395, '439': 396, '44': 397, '440': 398, '441': 399, '442': 400, '443': 401, '444': 402, '445': 403, '446': 404, '447': 405, '448': 406, '449': 407, '45': 408, '450': 409, '451': 410, '452': 411, '453': 412, '454': 413, '455': 414, '456': 415, '457': 416, '458': 417, '459': 418, '46': 419, '460': 420, '461': 421, '462': 422, '463': 423, '464': 424, '465': 425, '466': 426, '467': 427, '468': 428, '469': 429, '47': 430, '470': 431, '471': 432, '472': 433, '473': 434, '474': 435, '475': 436, '476': 437, '477': 438, '478': 439, '479': 440, '48': 441, '480': 442, '481': 443, '482': 444, '483': 445, '484': 446, '485': 447, '486': 448, '487': 449, '488': 450, '489': 451, '49': 452, '490': 453, '491': 454, '492': 455, '493': 456, '494': 457, '495': 458, '496': 459, '497': 460, '498': 461, '499': 462, '5': 463, '50': 464, '500': 465, '501': 466, '502': 467, '503': 468, '504': 469, '505': 470, '506': 471, '507': 472, '508': 473, '509': 474, '51': 475, '510': 476, '511': 477, '512': 478, '513': 479, '514': 480, '515': 481, '516': 482, '517': 483, '518': 484, '519': 485, '52': 486, '520': 487, '521': 488, '522': 489, '523': 490, '524': 491, '525': 492, '526': 493, '527': 494, '528': 495, '529': 496, '53': 497, '530': 498, '531': 499, '532': 500, '533': 501, '534': 502, '535': 503, '536': 504, '537': 505, '538': 506, '539': 507, '54': 508, '540': 509, '541': 510, '542': 511, '543': 512, '544': 513, '545': 514, '546': 515, '547': 516, '548': 517, '549': 518, '55': 519, '550': 520, '551': 521, '552': 522, '553': 523, '554': 524, '555': 525, '556': 526, '557': 527, '558': 528, '559': 529, '56': 530, '560': 531, '561': 532, '562': 533, '563': 534, '564': 535, '565': 536, '566': 537, '567': 538, '568': 539, '569': 540, '57': 541, '570': 542, '571': 543, '572': 544, '573': 545, '574': 546, '575': 547, '576': 548, '577': 549, '578': 550, '579': 551, '58': 552, '580': 553, '581': 554, '582': 555, '583': 556, '584': 557, '585': 558, '586': 559, '587': 560, '588': 561, '589': 562, '59': 563, '590': 564, '591': 565, '592': 566, '593': 567, '594': 568, '595': 569, '596': 570, '597': 571, '598': 572, '599': 573, '6': 574, '60': 575, '600': 576, '601': 577, '602': 578, '603': 579, '604': 580, '605': 581, '606': 582, '607': 583, '608': 584, '609': 585, '61': 586, '610': 587, '611': 588, '612': 589, '613': 590, '614': 591, '615': 592, '616': 593, '617': 594, '618': 595, '619': 596, '62': 597, '620': 598, '621': 599, '622': 600, '623': 601, '624': 602, '625': 603, '626': 604, '627': 605, '628': 606, '629': 607, '63': 608, '630': 609, '631': 610, '632': 611, '633': 612, '634': 613, '635': 614, '636': 615, '637': 616, '638': 617, '639': 618, '64': 619, '640': 620, '641': 621, '642': 622, '643': 623, '644': 624, '645': 625, '646': 626, '647': 627, '648': 628, '649': 629, '65': 630, '650': 631, '651': 632, '652': 633, '653': 634, '654': 635, '655': 636, '656': 637, '657': 638, '658': 639, '659': 640, '66': 641, '660': 642, '661': 643, '662': 644, '663': 645, '664': 646, '665': 647, '666': 648, '667': 649, '668': 650, '669': 651, '67': 652, '670': 653, '671': 654, '672': 655, '673': 656, '674': 657, '675': 658, '676': 659, '677': 660, '678': 661, '679': 662, '68': 663, '680': 664, '681': 665, '682': 666, '683': 667, '684': 668, '685': 669, '686': 670, '687': 671, '688': 672, '689': 673, '69': 674, '690': 675, '691': 676, '692': 677, '693': 678, '694': 679, '695': 680, '696': 681, '697': 682, '698': 683, '699': 684, '7': 685, '70': 686, '700': 687, '701': 688, '702': 689, '703': 690, '704': 691, '705': 692, '706': 693, '707': 694, '708': 695, '709': 696, '71': 697, '710': 698, '711': 699, '712': 700, '713': 701, '714': 702, '715': 703, '716': 704, '717': 705, '718': 706, '719': 707, '72': 708, '720': 709, '721': 710, '722': 711, '723': 712, '724': 713, '725': 714, '726': 715, '727': 716, '728': 717, '729': 718, '73': 719, '730': 720, '731': 721, '732': 722, '733': 723, '734': 724, '735': 725, '736': 726, '737': 727, '738': 728, '739': 729, '74': 730, '740': 731, '741': 732, '742': 733, '743': 734, '744': 735, '745': 736, '746': 737, '747': 738, '748': 739, '749': 740, '75': 741, '750': 742, '751': 743, '752': 744, '753': 745, '754': 746, '755': 747, '756': 748, '757': 749, '758': 750, '759': 751, '76': 752, '760': 753, '761': 754, '762': 755, '763': 756, '764': 757, '765': 758, '766': 759, '767': 760, '768': 761, '769': 762, '77': 763, '770': 764, '771': 765, '772': 766, '773': 767, '774': 768, '775': 769, '776': 770, '777': 771, '778': 772, '779': 773, '78': 774, '780': 775, '781': 776, '782': 777, '783': 778, '784': 779, '785': 780, '786': 781, '787': 782, '788': 783, '789': 784, '79': 785, '790': 786, '791': 787, '792': 788, '793': 789, '794': 790, '795': 791, '796': 792, '797': 793, '798': 794, '799': 795, '8': 796, '80': 797, '800': 798, '801': 799, '802': 800, '803': 801, '804': 802, '805': 803, '806': 804, '807': 805, '808': 806, '809': 807, '81': 808, '810': 809, '811': 810, '812': 811, '813': 812, '814': 813, '815': 814, '816': 815, '817': 816, '818': 817, '819': 818, '82': 819, '820': 820, '821': 821, '822': 822, '823': 823, '824': 824, '825': 825, '826': 826, '827': 827, '828': 828, '829': 829, '83': 830, '830': 831, '831': 832, '832': 833, '833': 834, '834': 835, '835': 836, '836': 837, '837': 838, '838': 839, '839': 840, '84': 841, '840': 842, '841': 843, '842': 844, '843': 845, '844': 846, '845': 847, '846': 848, '847': 849, '848': 850, '849': 851, '85': 852, '850': 853, '851': 854, '852': 855, '853': 856, '854': 857, '855': 858, '856': 859, '857': 860, '858': 861, '859': 862, '86': 863, '860': 864, '861': 865, '862': 866, '863': 867, '864': 868, '865': 869, '866': 870, '867': 871, '868': 872, '869': 873, '87': 874, '870': 875, '871': 876, '872': 877, '873': 878, '874': 879, '875': 880, '876': 881, '877': 882, '878': 883, '879': 884, '88': 885, '880': 886, '881': 887, '882': 888, '883': 889, '884': 890, '885': 891, '886': 892, '887': 893, '888': 894, '889': 895, '89': 896, '890': 897, '891': 898, '892': 899, '893': 900, '894': 901, '895': 902, '896': 903, '897': 904, '898': 905, '899': 906, '9': 907, '90': 908, '900': 909, '901': 910, '902': 911, '903': 912, '904': 913, '905': 914, '906': 915, '907': 916, '908': 917, '909': 918, '91': 919, '910': 920, '911': 921, '912': 922, '913': 923, '914': 924, '915': 925, '916': 926, '917': 927, '918': 928, '919': 929, '92': 930, '920': 931, '921': 932, '922': 933, '923': 934, '924': 935, '925': 936, '926': 937, '927': 938, '928': 939, '929': 940, '93': 941, '930': 942, '931': 943, '932': 944, '933': 945, '934': 946, '935': 947, '936': 948, '937': 949, '938': 950, '939': 951, '94': 952, '940': 953, '941': 954, '942': 955, '943': 956, '944': 957, '945': 958, '946': 959, '947': 960, '948': 961, '949': 962, '95': 963, '950': 964, '951': 965, '952': 966, '953': 967, '954': 968, '955': 969, '956': 970, '957': 971, '958': 972, '959': 973, '96': 974, '960': 975, '961': 976, '962': 977, '963': 978, '964': 979, '965': 980, '966': 981, '967': 982, '968': 983, '969': 984, '97': 985, '970': 986, '971': 987, '972': 988, '973': 989, '974': 990, '975': 991, '976': 992, '977': 993, '978': 994, '979': 995, '98': 996, '980': 997, '981': 998, '982': 999, '983': 1000, '984': 1001, '985': 1002, '986': 1003, '987': 1004, '988': 1005, '989': 1006, '99': 1007, '990': 1008, '991': 1009, '992': 1010, '993': 1011, '994': 1012, '995': 1013, '996': 1014, '997': 1015, '998': 1016, '999': 1017, 'V1': 1018, 'V10': 1019, 'V100': 1020, 'V101': 1021, 'V102': 1022, 'V103': 1023, 'V104': 1024, 'V105': 1025, 'V106': 1026, 'V107': 1027, 'V108': 1028, 'V109': 1029, 'V11': 1030, 'V110': 1031, 'V111': 1032, 'V112': 1033, 'V113': 1034, 'V114': 1035, 'V115': 1036, 'V116': 1037, 'V117': 1038, 'V118': 1039, 'V119': 1040, 'V12': 1041, 'V120': 1042, 'V121': 1043, 'V122': 1044, 'V123': 1045, 'V124': 1046, 'V125': 1047, 'V126': 1048, 'V127': 1049, 'V128': 1050, 'V129': 1051, 'V13': 1052, 'V130': 1053, 'V131': 1054, 'V132': 1055, 'V133': 1056, 'V134': 1057, 'V135': 1058, 'V136': 1059, 'V137': 1060, 'V138': 1061, 'V139': 1062, 'V14': 1063, 'V140': 1064, 'V141': 1065, 'V142': 1066, 'V143': 1067, 'V144': 1068, 'V145': 1069, 'V146': 1070, 'V147': 1071, 'V148': 1072, 'V149': 1073, 'V15': 1074, 'V150': 1075, 'V151': 1076, 'V152': 1077, 'V153': 1078, 'V154': 1079, 'V155': 1080, 'V156': 1081, 'V157': 1082, 'V158': 1083, 'V159': 1084, 'V16': 1085, 'V160': 1086, 'V161': 1087, 'V162': 1088, 'V163': 1089, 'V164': 1090, 'V165': 1091, 'V166': 1092, 'V167': 1093, 'V168': 1094, 'V169': 1095, 'V17': 1096, 'V170': 1097, 'V171': 1098, 'V172': 1099, 'V173': 1100, 'V174': 1101, 'V175': 1102, 'V176': 1103, 'V177': 1104, 'V178': 1105, 'V179': 1106, 'V18': 1107, 'V180': 1108, 'V181': 1109, 'V182': 1110, 'V183': 1111, 'V184': 1112, 'V185': 1113, 'V186': 1114, 'V187': 1115, 'V188': 1116, 'V189': 1117, 'V19': 1118, 'V190': 1119, 'V191': 1120, 'V192': 1121, 'V193': 1122, 'V194': 1123, 'V195': 1124, 'V196': 1125, 'V197': 1126, 'V198': 1127, 'V199': 1128, 'V2': 1129, 'V20': 1130, 'V200': 1131, 'V21': 1132, 'V22': 1133, 'V23': 1134, 'V24': 1135, 'V25': 1136, 'V26': 1137, 'V27': 1138, 'V28': 1139, 'V29': 1140, 'V3': 1141, 'V30': 1142, 'V31': 1143, 'V32': 1144, 'V33': 1145, 'V34': 1146, 'V35': 1147, 'V36': 1148, 'V37': 1149, 'V38': 1150, 'V39': 1151, 'V4': 1152, 'V40': 1153, 'V41': 1154, 'V42': 1155, 'V43': 1156, 'V44': 1157, 'V45': 1158, 'V46': 1159, 'V47': 1160, 'V48': 1161, 'V49': 1162, 'V5': 1163, 'V50': 1164, 'V51': 1165, 'V52': 1166, 'V53': 1167, 'V54': 1168, 'V55': 1169, 'V56': 1170, 'V57': 1171, 'V58': 1172, 'V59': 1173, 'V6': 1174, 'V60': 1175, 'V61': 1176, 'V62': 1177, 'V63': 1178, 'V64': 1179, 'V65': 1180, 'V66': 1181, 'V67': 1182, 'V68': 1183, 'V69': 1184, 'V7': 1185, 'V70': 1186, 'V71': 1187, 'V72': 1188, 'V73': 1189, 'V74': 1190, 'V75': 1191, 'V76': 1192, 'V77': 1193, 'V78': 1194, 'V79': 1195, 'V8': 1196, 'V80': 1197, 'V81': 1198, 'V82': 1199, 'V83': 1200, 'V84': 1201, 'V85': 1202, 'V86': 1203, 'V87': 1204, 'V88': 1205, 'V89': 1206, 'V9': 1207, 'V90': 1208, 'V91': 1209, 'V92': 1210, 'V93': 1211, 'V94': 1212, 'V95': 1213, 'V96': 1214, 'V97': 1215, 'V98': 1216, 'V99': 1217}\n",
      "INFO - 07/22/25 19:15:04 - 0:00:00 - Training tasks: arithmetic\n",
      "INFO - 07/22/25 19:15:04 - 0:00:00 - Number of parameters (encoder): 4519936\n",
      "INFO - 07/22/25 19:15:04 - 0:00:00 - Number of parameters (decoder): 5575874\n"
     ]
    },
    {
     "name": "stdout",
     "output_type": "stream",
     "text": [
      "INFO - 07/22/25 19:15:04 - 0:00:00 - Found 177 parameters in model.\n"
     ]
    },
    {
     "name": "stdout",
     "output_type": "stream",
     "text": [
      "INFO - 07/22/25 19:15:05 - 0:00:01 - Optimizer: <class 'src.optim.Adam'>\n",
      "WARNING - 07/22/25 19:15:05 - 0:00:01 - Reloading checkpoint from /home/user/fastdir/dump/basic/3/checkpoint.pth ...\n",
      "/home/user/Int2Int/src/trainer.py:303: FutureWarning: You are using `torch.load` with `weights_only=False` (the current default value), which uses the default pickle module implicitly. It is possible to construct malicious pickle data which will execute arbitrary code during unpickling (See https://github.com/pytorch/pytorch/blob/main/SECURITY.md#untrusted-models for more details). In a future release, the default value for `weights_only` will be flipped to `True`. This limits the functions that could be executed during unpickling. Arbitrary objects will no longer be allowed to be loaded via this mode unless they are explicitly allowlisted by the user via `torch.serialization.add_safe_globals`. We recommend you start setting `weights_only=True` for any use case where you don't have full control of the loaded file. Please open an issue on GitHub for any issues related to this experimental feature.\n",
      "  data = torch.load(checkpoint_path, map_location=\"cpu\")\n",
      "WARNING - 07/22/25 19:15:05 - 0:00:01 - Reloading checkpoint optimizer ...\n",
      "WARNING - 07/22/25 19:15:05 - 0:00:02 - Checkpoint reloaded. Resuming at epoch 295 / iteration 184375 ...\n",
      "INFO - 07/22/25 19:15:05 - 0:00:02 - Creating valid iterator for arithmetic ...\n",
      "INFO - 07/22/25 19:15:05 - 0:00:02 - Loading data from /home/user/fastdir/data/mu_true.txt ...\n"
     ]
    },
    {
     "name": "stdout",
     "output_type": "stream",
     "text": [
      "INFO - 07/22/25 19:15:06 - 0:00:02 - Loaded 100000 equations from the disk.\n",
      "SLURM job: False\n",
      "0 - Number of nodes: 1\n",
      "0 - Node ID        : 0\n",
      "0 - Local rank     : 0\n",
      "0 - Global rank    : 0\n",
      "0 - World size     : 1\n",
      "0 - GPUs per node  : 1\n",
      "0 - Master         : True\n",
      "0 - Multi-node     : False\n",
      "0 - Multi-GPU      : False\n",
      "0 - Hostname       : compute-server-1\n"
     ]
    },
    {
     "name": "stdout",
     "output_type": "stream",
     "text": [
      "INFO - 07/22/25 19:15:06 - 0:00:03 - (128/20000) Found 67/128 valid top-1 predictions. Generating solutions ...\n",
      "INFO - 07/22/25 19:15:06 - 0:00:03 -     Found 67/128 solutions in beam hypotheses.\n"
     ]
    },
    {
     "name": "stdout",
     "output_type": "stream",
     "text": [
      "INFO - 07/22/25 19:15:07 - 0:00:03 - (256/20000) Found 70/128 valid top-1 predictions. Generating solutions ...\n",
      "INFO - 07/22/25 19:15:07 - 0:00:03 -     Found 70/128 solutions in beam hypotheses.\n"
     ]
    },
    {
     "name": "stdout",
     "output_type": "stream",
     "text": [
      "INFO - 07/22/25 19:15:07 - 0:00:03 - (384/20000) Found 50/128 valid top-1 predictions. Generating solutions ...\n",
      "INFO - 07/22/25 19:15:07 - 0:00:03 -     Found 50/128 solutions in beam hypotheses.\n"
     ]
    },
    {
     "name": "stdout",
     "output_type": "stream",
     "text": [
      "INFO - 07/22/25 19:15:07 - 0:00:04 - (512/20000) Found 64/128 valid top-1 predictions. Generating solutions ...\n",
      "INFO - 07/22/25 19:15:07 - 0:00:04 -     Found 64/128 solutions in beam hypotheses.\n"
     ]
    },
    {
     "name": "stdout",
     "output_type": "stream",
     "text": [
      "INFO - 07/22/25 19:15:08 - 0:00:04 - (640/20000) Found 70/128 valid top-1 predictions. Generating solutions ...\n",
      "INFO - 07/22/25 19:15:08 - 0:00:04 -     Found 70/128 solutions in beam hypotheses.\n"
     ]
    },
    {
     "name": "stdout",
     "output_type": "stream",
     "text": [
      "INFO - 07/22/25 19:15:08 - 0:00:04 - (768/20000) Found 69/128 valid top-1 predictions. Generating solutions ...\n",
      "INFO - 07/22/25 19:15:08 - 0:00:04 -     Found 69/128 solutions in beam hypotheses.\n"
     ]
    },
    {
     "name": "stdout",
     "output_type": "stream",
     "text": [
      "INFO - 07/22/25 19:15:08 - 0:00:04 - (896/20000) Found 66/128 valid top-1 predictions. Generating solutions ...\n",
      "INFO - 07/22/25 19:15:08 - 0:00:04 -     Found 66/128 solutions in beam hypotheses.\n"
     ]
    },
    {
     "name": "stdout",
     "output_type": "stream",
     "text": [
      "INFO - 07/22/25 19:15:09 - 0:00:05 - (1024/20000) Found 74/128 valid top-1 predictions. Generating solutions ...\n",
      "INFO - 07/22/25 19:15:09 - 0:00:05 -     Found 74/128 solutions in beam hypotheses.\n"
     ]
    },
    {
     "name": "stdout",
     "output_type": "stream",
     "text": [
      "INFO - 07/22/25 19:15:09 - 0:00:05 - (1152/20000) Found 62/128 valid top-1 predictions. Generating solutions ...\n",
      "INFO - 07/22/25 19:15:09 - 0:00:05 -     Found 62/128 solutions in beam hypotheses.\n"
     ]
    },
    {
     "name": "stdout",
     "output_type": "stream",
     "text": [
      "INFO - 07/22/25 19:15:09 - 0:00:05 - (1280/20000) Found 69/128 valid top-1 predictions. Generating solutions ...\n",
      "INFO - 07/22/25 19:15:09 - 0:00:05 -     Found 69/128 solutions in beam hypotheses.\n"
     ]
    },
    {
     "name": "stdout",
     "output_type": "stream",
     "text": [
      "INFO - 07/22/25 19:15:09 - 0:00:06 - (1408/20000) Found 71/128 valid top-1 predictions. Generating solutions ...\n",
      "INFO - 07/22/25 19:15:09 - 0:00:06 -     Found 71/128 solutions in beam hypotheses.\n"
     ]
    },
    {
     "name": "stdout",
     "output_type": "stream",
     "text": [
      "INFO - 07/22/25 19:15:10 - 0:00:06 - (1536/20000) Found 62/128 valid top-1 predictions. Generating solutions ...\n",
      "INFO - 07/22/25 19:15:10 - 0:00:06 -     Found 62/128 solutions in beam hypotheses.\n"
     ]
    },
    {
     "name": "stdout",
     "output_type": "stream",
     "text": [
      "INFO - 07/22/25 19:15:10 - 0:00:06 - (1664/20000) Found 63/128 valid top-1 predictions. Generating solutions ...\n",
      "INFO - 07/22/25 19:15:10 - 0:00:06 -     Found 63/128 solutions in beam hypotheses.\n"
     ]
    },
    {
     "name": "stdout",
     "output_type": "stream",
     "text": [
      "INFO - 07/22/25 19:15:10 - 0:00:07 - (1792/20000) Found 66/128 valid top-1 predictions. Generating solutions ...\n",
      "INFO - 07/22/25 19:15:10 - 0:00:07 -     Found 66/128 solutions in beam hypotheses.\n"
     ]
    },
    {
     "name": "stdout",
     "output_type": "stream",
     "text": [
      "INFO - 07/22/25 19:15:11 - 0:00:07 - (1920/20000) Found 65/128 valid top-1 predictions. Generating solutions ...\n",
      "INFO - 07/22/25 19:15:11 - 0:00:07 -     Found 65/128 solutions in beam hypotheses.\n"
     ]
    },
    {
     "name": "stdout",
     "output_type": "stream",
     "text": [
      "INFO - 07/22/25 19:15:11 - 0:00:07 - (2048/20000) Found 67/128 valid top-1 predictions. Generating solutions ...\n",
      "INFO - 07/22/25 19:15:11 - 0:00:07 -     Found 67/128 solutions in beam hypotheses.\n"
     ]
    },
    {
     "name": "stdout",
     "output_type": "stream",
     "text": [
      "INFO - 07/22/25 19:15:11 - 0:00:07 - (2176/20000) Found 67/128 valid top-1 predictions. Generating solutions ...\n",
      "INFO - 07/22/25 19:15:11 - 0:00:08 -     Found 67/128 solutions in beam hypotheses.\n"
     ]
    },
    {
     "name": "stdout",
     "output_type": "stream",
     "text": [
      "INFO - 07/22/25 19:15:12 - 0:00:08 - (2304/20000) Found 67/128 valid top-1 predictions. Generating solutions ...\n",
      "INFO - 07/22/25 19:15:12 - 0:00:08 -     Found 67/128 solutions in beam hypotheses.\n"
     ]
    },
    {
     "name": "stdout",
     "output_type": "stream",
     "text": [
      "INFO - 07/22/25 19:15:12 - 0:00:08 - (2432/20000) Found 60/128 valid top-1 predictions. Generating solutions ...\n",
      "INFO - 07/22/25 19:15:12 - 0:00:08 -     Found 60/128 solutions in beam hypotheses.\n"
     ]
    },
    {
     "name": "stdout",
     "output_type": "stream",
     "text": [
      "INFO - 07/22/25 19:15:12 - 0:00:08 - (2560/20000) Found 61/128 valid top-1 predictions. Generating solutions ...\n",
      "INFO - 07/22/25 19:15:12 - 0:00:08 -     Found 61/128 solutions in beam hypotheses.\n"
     ]
    },
    {
     "name": "stdout",
     "output_type": "stream",
     "text": [
      "INFO - 07/22/25 19:15:12 - 0:00:09 - (2688/20000) Found 61/128 valid top-1 predictions. Generating solutions ...\n",
      "INFO - 07/22/25 19:15:13 - 0:00:09 -     Found 61/128 solutions in beam hypotheses.\n"
     ]
    },
    {
     "name": "stdout",
     "output_type": "stream",
     "text": [
      "INFO - 07/22/25 19:15:13 - 0:00:09 - (2816/20000) Found 68/128 valid top-1 predictions. Generating solutions ...\n",
      "INFO - 07/22/25 19:15:13 - 0:00:09 -     Found 68/128 solutions in beam hypotheses.\n"
     ]
    },
    {
     "name": "stdout",
     "output_type": "stream",
     "text": [
      "INFO - 07/22/25 19:15:13 - 0:00:09 - (2944/20000) Found 60/128 valid top-1 predictions. Generating solutions ...\n",
      "INFO - 07/22/25 19:15:13 - 0:00:09 -     Found 60/128 solutions in beam hypotheses.\n"
     ]
    },
    {
     "name": "stdout",
     "output_type": "stream",
     "text": [
      "INFO - 07/22/25 19:15:13 - 0:00:10 - (3072/20000) Found 67/128 valid top-1 predictions. Generating solutions ...\n",
      "INFO - 07/22/25 19:15:13 - 0:00:10 -     Found 67/128 solutions in beam hypotheses.\n"
     ]
    },
    {
     "name": "stdout",
     "output_type": "stream",
     "text": [
      "INFO - 07/22/25 19:15:14 - 0:00:10 - (3200/20000) Found 67/128 valid top-1 predictions. Generating solutions ...\n",
      "INFO - 07/22/25 19:15:14 - 0:00:10 -     Found 67/128 solutions in beam hypotheses.\n"
     ]
    },
    {
     "name": "stdout",
     "output_type": "stream",
     "text": [
      "INFO - 07/22/25 19:15:14 - 0:00:10 - (3328/20000) Found 67/128 valid top-1 predictions. Generating solutions ...\n",
      "INFO - 07/22/25 19:15:14 - 0:00:10 -     Found 67/128 solutions in beam hypotheses.\n"
     ]
    },
    {
     "name": "stdout",
     "output_type": "stream",
     "text": [
      "INFO - 07/22/25 19:15:14 - 0:00:11 - (3456/20000) Found 64/128 valid top-1 predictions. Generating solutions ...\n",
      "INFO - 07/22/25 19:15:14 - 0:00:11 -     Found 64/128 solutions in beam hypotheses.\n"
     ]
    },
    {
     "name": "stdout",
     "output_type": "stream",
     "text": [
      "INFO - 07/22/25 19:15:15 - 0:00:11 - (3584/20000) Found 70/128 valid top-1 predictions. Generating solutions ...\n",
      "INFO - 07/22/25 19:15:15 - 0:00:11 -     Found 70/128 solutions in beam hypotheses.\n"
     ]
    },
    {
     "name": "stdout",
     "output_type": "stream",
     "text": [
      "INFO - 07/22/25 19:15:15 - 0:00:11 - (3712/20000) Found 52/128 valid top-1 predictions. Generating solutions ...\n",
      "INFO - 07/22/25 19:15:15 - 0:00:11 -     Found 52/128 solutions in beam hypotheses.\n"
     ]
    },
    {
     "name": "stdout",
     "output_type": "stream",
     "text": [
      "INFO - 07/22/25 19:15:15 - 0:00:11 - (3840/20000) Found 70/128 valid top-1 predictions. Generating solutions ...\n",
      "INFO - 07/22/25 19:15:15 - 0:00:11 -     Found 70/128 solutions in beam hypotheses.\n"
     ]
    },
    {
     "name": "stdout",
     "output_type": "stream",
     "text": [
      "INFO - 07/22/25 19:15:16 - 0:00:12 - (3968/20000) Found 62/128 valid top-1 predictions. Generating solutions ...\n",
      "INFO - 07/22/25 19:15:16 - 0:00:12 -     Found 62/128 solutions in beam hypotheses.\n"
     ]
    },
    {
     "name": "stdout",
     "output_type": "stream",
     "text": [
      "INFO - 07/22/25 19:15:16 - 0:00:12 - (4096/20000) Found 75/128 valid top-1 predictions. Generating solutions ...\n",
      "INFO - 07/22/25 19:15:16 - 0:00:12 -     Found 75/128 solutions in beam hypotheses.\n"
     ]
    },
    {
     "name": "stdout",
     "output_type": "stream",
     "text": [
      "INFO - 07/22/25 19:15:16 - 0:00:12 - (4224/20000) Found 65/128 valid top-1 predictions. Generating solutions ...\n",
      "INFO - 07/22/25 19:15:16 - 0:00:12 -     Found 65/128 solutions in beam hypotheses.\n"
     ]
    },
    {
     "name": "stdout",
     "output_type": "stream",
     "text": [
      "INFO - 07/22/25 19:15:16 - 0:00:13 - (4352/20000) Found 65/128 valid top-1 predictions. Generating solutions ...\n",
      "INFO - 07/22/25 19:15:16 - 0:00:13 -     Found 65/128 solutions in beam hypotheses.\n"
     ]
    },
    {
     "name": "stdout",
     "output_type": "stream",
     "text": [
      "INFO - 07/22/25 19:15:17 - 0:00:13 - (4480/20000) Found 63/128 valid top-1 predictions. Generating solutions ...\n",
      "INFO - 07/22/25 19:15:17 - 0:00:13 -     Found 63/128 solutions in beam hypotheses.\n"
     ]
    },
    {
     "name": "stdout",
     "output_type": "stream",
     "text": [
      "INFO - 07/22/25 19:15:17 - 0:00:13 - (4608/20000) Found 62/128 valid top-1 predictions. Generating solutions ...\n",
      "INFO - 07/22/25 19:15:17 - 0:00:13 -     Found 62/128 solutions in beam hypotheses.\n"
     ]
    },
    {
     "name": "stdout",
     "output_type": "stream",
     "text": [
      "INFO - 07/22/25 19:15:17 - 0:00:14 - (4736/20000) Found 60/128 valid top-1 predictions. Generating solutions ...\n",
      "INFO - 07/22/25 19:15:17 - 0:00:14 -     Found 60/128 solutions in beam hypotheses.\n"
     ]
    },
    {
     "name": "stdout",
     "output_type": "stream",
     "text": [
      "INFO - 07/22/25 19:15:18 - 0:00:14 - (4864/20000) Found 59/128 valid top-1 predictions. Generating solutions ...\n",
      "INFO - 07/22/25 19:15:18 - 0:00:14 -     Found 59/128 solutions in beam hypotheses.\n"
     ]
    },
    {
     "name": "stdout",
     "output_type": "stream",
     "text": [
      "INFO - 07/22/25 19:15:18 - 0:00:14 - (4992/20000) Found 67/128 valid top-1 predictions. Generating solutions ...\n",
      "INFO - 07/22/25 19:15:18 - 0:00:14 -     Found 67/128 solutions in beam hypotheses.\n"
     ]
    },
    {
     "name": "stdout",
     "output_type": "stream",
     "text": [
      "INFO - 07/22/25 19:15:18 - 0:00:14 - (5120/20000) Found 61/128 valid top-1 predictions. Generating solutions ...\n",
      "INFO - 07/22/25 19:15:18 - 0:00:15 -     Found 61/128 solutions in beam hypotheses.\n"
     ]
    },
    {
     "name": "stdout",
     "output_type": "stream",
     "text": [
      "INFO - 07/22/25 19:15:19 - 0:00:15 - (5248/20000) Found 58/128 valid top-1 predictions. Generating solutions ...\n",
      "INFO - 07/22/25 19:15:19 - 0:00:15 -     Found 58/128 solutions in beam hypotheses.\n"
     ]
    },
    {
     "name": "stdout",
     "output_type": "stream",
     "text": [
      "INFO - 07/22/25 19:15:19 - 0:00:15 - (5376/20000) Found 64/128 valid top-1 predictions. Generating solutions ...\n",
      "INFO - 07/22/25 19:15:19 - 0:00:15 -     Found 64/128 solutions in beam hypotheses.\n"
     ]
    },
    {
     "name": "stdout",
     "output_type": "stream",
     "text": [
      "INFO - 07/22/25 19:15:19 - 0:00:15 - (5504/20000) Found 67/128 valid top-1 predictions. Generating solutions ...\n",
      "INFO - 07/22/25 19:15:19 - 0:00:15 -     Found 67/128 solutions in beam hypotheses.\n"
     ]
    },
    {
     "name": "stdout",
     "output_type": "stream",
     "text": [
      "INFO - 07/22/25 19:15:19 - 0:00:16 - (5632/20000) Found 65/128 valid top-1 predictions. Generating solutions ...\n",
      "INFO - 07/22/25 19:15:19 - 0:00:16 -     Found 65/128 solutions in beam hypotheses.\n"
     ]
    },
    {
     "name": "stdout",
     "output_type": "stream",
     "text": [
      "INFO - 07/22/25 19:15:20 - 0:00:16 - (5760/20000) Found 63/128 valid top-1 predictions. Generating solutions ...\n",
      "INFO - 07/22/25 19:15:20 - 0:00:16 -     Found 63/128 solutions in beam hypotheses.\n"
     ]
    },
    {
     "name": "stdout",
     "output_type": "stream",
     "text": [
      "INFO - 07/22/25 19:15:20 - 0:00:16 - (5888/20000) Found 61/128 valid top-1 predictions. Generating solutions ...\n",
      "INFO - 07/22/25 19:15:20 - 0:00:16 -     Found 61/128 solutions in beam hypotheses.\n"
     ]
    },
    {
     "name": "stdout",
     "output_type": "stream",
     "text": [
      "INFO - 07/22/25 19:15:20 - 0:00:17 - (6016/20000) Found 72/128 valid top-1 predictions. Generating solutions ...\n",
      "INFO - 07/22/25 19:15:20 - 0:00:17 -     Found 72/128 solutions in beam hypotheses.\n"
     ]
    },
    {
     "name": "stdout",
     "output_type": "stream",
     "text": [
      "INFO - 07/22/25 19:15:21 - 0:00:17 - (6144/20000) Found 67/128 valid top-1 predictions. Generating solutions ...\n",
      "INFO - 07/22/25 19:15:21 - 0:00:17 -     Found 67/128 solutions in beam hypotheses.\n"
     ]
    },
    {
     "name": "stdout",
     "output_type": "stream",
     "text": [
      "INFO - 07/22/25 19:15:21 - 0:00:17 - (6272/20000) Found 61/128 valid top-1 predictions. Generating solutions ...\n",
      "INFO - 07/22/25 19:15:21 - 0:00:17 -     Found 61/128 solutions in beam hypotheses.\n"
     ]
    },
    {
     "name": "stdout",
     "output_type": "stream",
     "text": [
      "INFO - 07/22/25 19:15:21 - 0:00:17 - (6400/20000) Found 66/128 valid top-1 predictions. Generating solutions ...\n",
      "INFO - 07/22/25 19:15:21 - 0:00:18 -     Found 66/128 solutions in beam hypotheses.\n"
     ]
    },
    {
     "name": "stdout",
     "output_type": "stream",
     "text": [
      "INFO - 07/22/25 19:15:22 - 0:00:18 - (6528/20000) Found 69/128 valid top-1 predictions. Generating solutions ...\n",
      "INFO - 07/22/25 19:15:22 - 0:00:18 -     Found 69/128 solutions in beam hypotheses.\n"
     ]
    },
    {
     "name": "stdout",
     "output_type": "stream",
     "text": [
      "INFO - 07/22/25 19:15:22 - 0:00:18 - (6656/20000) Found 62/128 valid top-1 predictions. Generating solutions ...\n",
      "INFO - 07/22/25 19:15:22 - 0:00:18 -     Found 62/128 solutions in beam hypotheses.\n"
     ]
    },
    {
     "name": "stdout",
     "output_type": "stream",
     "text": [
      "INFO - 07/22/25 19:15:22 - 0:00:18 - (6784/20000) Found 70/128 valid top-1 predictions. Generating solutions ...\n",
      "INFO - 07/22/25 19:15:22 - 0:00:18 -     Found 70/128 solutions in beam hypotheses.\n"
     ]
    },
    {
     "name": "stdout",
     "output_type": "stream",
     "text": [
      "INFO - 07/22/25 19:15:22 - 0:00:19 - (6912/20000) Found 66/128 valid top-1 predictions. Generating solutions ...\n",
      "INFO - 07/22/25 19:15:23 - 0:00:19 -     Found 66/128 solutions in beam hypotheses.\n"
     ]
    },
    {
     "name": "stdout",
     "output_type": "stream",
     "text": [
      "INFO - 07/22/25 19:15:23 - 0:00:19 - (7040/20000) Found 61/128 valid top-1 predictions. Generating solutions ...\n",
      "INFO - 07/22/25 19:15:23 - 0:00:19 -     Found 61/128 solutions in beam hypotheses.\n"
     ]
    },
    {
     "name": "stdout",
     "output_type": "stream",
     "text": [
      "INFO - 07/22/25 19:15:23 - 0:00:19 - (7168/20000) Found 63/128 valid top-1 predictions. Generating solutions ...\n",
      "INFO - 07/22/25 19:15:23 - 0:00:19 -     Found 63/128 solutions in beam hypotheses.\n"
     ]
    },
    {
     "name": "stdout",
     "output_type": "stream",
     "text": [
      "INFO - 07/22/25 19:15:23 - 0:00:20 - (7296/20000) Found 69/128 valid top-1 predictions. Generating solutions ...\n",
      "INFO - 07/22/25 19:15:23 - 0:00:20 -     Found 69/128 solutions in beam hypotheses.\n"
     ]
    },
    {
     "name": "stdout",
     "output_type": "stream",
     "text": [
      "INFO - 07/22/25 19:15:24 - 0:00:20 - (7424/20000) Found 74/128 valid top-1 predictions. Generating solutions ...\n",
      "INFO - 07/22/25 19:15:24 - 0:00:20 -     Found 74/128 solutions in beam hypotheses.\n"
     ]
    },
    {
     "name": "stdout",
     "output_type": "stream",
     "text": [
      "INFO - 07/22/25 19:15:24 - 0:00:20 - (7552/20000) Found 59/128 valid top-1 predictions. Generating solutions ...\n",
      "INFO - 07/22/25 19:15:24 - 0:00:20 -     Found 59/128 solutions in beam hypotheses.\n"
     ]
    },
    {
     "name": "stdout",
     "output_type": "stream",
     "text": [
      "INFO - 07/22/25 19:15:24 - 0:00:21 - (7680/20000) Found 66/128 valid top-1 predictions. Generating solutions ...\n",
      "INFO - 07/22/25 19:15:24 - 0:00:21 -     Found 66/128 solutions in beam hypotheses.\n"
     ]
    },
    {
     "name": "stdout",
     "output_type": "stream",
     "text": [
      "INFO - 07/22/25 19:15:25 - 0:00:21 - (7808/20000) Found 68/128 valid top-1 predictions. Generating solutions ...\n",
      "INFO - 07/22/25 19:15:25 - 0:00:21 -     Found 68/128 solutions in beam hypotheses.\n"
     ]
    },
    {
     "name": "stdout",
     "output_type": "stream",
     "text": [
      "INFO - 07/22/25 19:15:25 - 0:00:21 - (7936/20000) Found 56/128 valid top-1 predictions. Generating solutions ...\n",
      "INFO - 07/22/25 19:15:25 - 0:00:21 -     Found 56/128 solutions in beam hypotheses.\n"
     ]
    },
    {
     "name": "stdout",
     "output_type": "stream",
     "text": [
      "INFO - 07/22/25 19:15:25 - 0:00:21 - (8064/20000) Found 63/128 valid top-1 predictions. Generating solutions ...\n",
      "INFO - 07/22/25 19:15:25 - 0:00:21 -     Found 63/128 solutions in beam hypotheses.\n"
     ]
    },
    {
     "name": "stdout",
     "output_type": "stream",
     "text": [
      "INFO - 07/22/25 19:15:26 - 0:00:22 - (8192/20000) Found 67/128 valid top-1 predictions. Generating solutions ...\n",
      "INFO - 07/22/25 19:15:26 - 0:00:22 -     Found 67/128 solutions in beam hypotheses.\n"
     ]
    },
    {
     "name": "stdout",
     "output_type": "stream",
     "text": [
      "INFO - 07/22/25 19:15:26 - 0:00:22 - (8320/20000) Found 56/128 valid top-1 predictions. Generating solutions ...\n",
      "INFO - 07/22/25 19:15:26 - 0:00:22 -     Found 56/128 solutions in beam hypotheses.\n"
     ]
    },
    {
     "name": "stdout",
     "output_type": "stream",
     "text": [
      "INFO - 07/22/25 19:15:26 - 0:00:22 - (8448/20000) Found 74/128 valid top-1 predictions. Generating solutions ...\n",
      "INFO - 07/22/25 19:15:26 - 0:00:22 -     Found 74/128 solutions in beam hypotheses.\n"
     ]
    },
    {
     "name": "stdout",
     "output_type": "stream",
     "text": [
      "INFO - 07/22/25 19:15:26 - 0:00:23 - (8576/20000) Found 69/128 valid top-1 predictions. Generating solutions ...\n",
      "INFO - 07/22/25 19:15:26 - 0:00:23 -     Found 69/128 solutions in beam hypotheses.\n"
     ]
    },
    {
     "name": "stdout",
     "output_type": "stream",
     "text": [
      "INFO - 07/22/25 19:15:27 - 0:00:23 - (8704/20000) Found 60/128 valid top-1 predictions. Generating solutions ...\n",
      "INFO - 07/22/25 19:15:27 - 0:00:23 -     Found 60/128 solutions in beam hypotheses.\n"
     ]
    },
    {
     "name": "stdout",
     "output_type": "stream",
     "text": [
      "INFO - 07/22/25 19:15:27 - 0:00:23 - (8832/20000) Found 78/128 valid top-1 predictions. Generating solutions ...\n",
      "INFO - 07/22/25 19:15:27 - 0:00:23 -     Found 78/128 solutions in beam hypotheses.\n"
     ]
    },
    {
     "name": "stdout",
     "output_type": "stream",
     "text": [
      "INFO - 07/22/25 19:15:27 - 0:00:24 - (8960/20000) Found 61/128 valid top-1 predictions. Generating solutions ...\n",
      "INFO - 07/22/25 19:15:27 - 0:00:24 -     Found 61/128 solutions in beam hypotheses.\n"
     ]
    },
    {
     "name": "stdout",
     "output_type": "stream",
     "text": [
      "INFO - 07/22/25 19:15:28 - 0:00:24 - (9088/20000) Found 58/128 valid top-1 predictions. Generating solutions ...\n",
      "INFO - 07/22/25 19:15:28 - 0:00:24 -     Found 58/128 solutions in beam hypotheses.\n"
     ]
    },
    {
     "name": "stdout",
     "output_type": "stream",
     "text": [
      "INFO - 07/22/25 19:15:28 - 0:00:24 - (9216/20000) Found 57/128 valid top-1 predictions. Generating solutions ...\n",
      "INFO - 07/22/25 19:15:28 - 0:00:24 -     Found 57/128 solutions in beam hypotheses.\n"
     ]
    },
    {
     "name": "stdout",
     "output_type": "stream",
     "text": [
      "INFO - 07/22/25 19:15:28 - 0:00:24 - (9344/20000) Found 61/128 valid top-1 predictions. Generating solutions ...\n",
      "INFO - 07/22/25 19:15:28 - 0:00:25 -     Found 61/128 solutions in beam hypotheses.\n"
     ]
    },
    {
     "name": "stdout",
     "output_type": "stream",
     "text": [
      "INFO - 07/22/25 19:15:29 - 0:00:25 - (9472/20000) Found 68/128 valid top-1 predictions. Generating solutions ...\n",
      "INFO - 07/22/25 19:15:29 - 0:00:25 -     Found 68/128 solutions in beam hypotheses.\n"
     ]
    },
    {
     "name": "stdout",
     "output_type": "stream",
     "text": [
      "INFO - 07/22/25 19:15:29 - 0:00:25 - (9600/20000) Found 55/128 valid top-1 predictions. Generating solutions ...\n",
      "INFO - 07/22/25 19:15:29 - 0:00:25 -     Found 55/128 solutions in beam hypotheses.\n"
     ]
    },
    {
     "name": "stdout",
     "output_type": "stream",
     "text": [
      "INFO - 07/22/25 19:15:29 - 0:00:25 - (9728/20000) Found 59/128 valid top-1 predictions. Generating solutions ...\n",
      "INFO - 07/22/25 19:15:29 - 0:00:25 -     Found 59/128 solutions in beam hypotheses.\n"
     ]
    },
    {
     "name": "stdout",
     "output_type": "stream",
     "text": [
      "INFO - 07/22/25 19:15:29 - 0:00:26 - (9856/20000) Found 74/128 valid top-1 predictions. Generating solutions ...\n",
      "INFO - 07/22/25 19:15:30 - 0:00:26 -     Found 74/128 solutions in beam hypotheses.\n"
     ]
    },
    {
     "name": "stdout",
     "output_type": "stream",
     "text": [
      "INFO - 07/22/25 19:15:30 - 0:00:26 - (9984/20000) Found 57/128 valid top-1 predictions. Generating solutions ...\n",
      "INFO - 07/22/25 19:15:30 - 0:00:26 -     Found 57/128 solutions in beam hypotheses.\n"
     ]
    },
    {
     "name": "stdout",
     "output_type": "stream",
     "text": [
      "INFO - 07/22/25 19:15:30 - 0:00:26 - (10112/20000) Found 63/128 valid top-1 predictions. Generating solutions ...\n",
      "INFO - 07/22/25 19:15:30 - 0:00:26 -     Found 63/128 solutions in beam hypotheses.\n"
     ]
    },
    {
     "name": "stdout",
     "output_type": "stream",
     "text": [
      "INFO - 07/22/25 19:15:30 - 0:00:27 - (10240/20000) Found 69/128 valid top-1 predictions. Generating solutions ...\n",
      "INFO - 07/22/25 19:15:30 - 0:00:27 -     Found 69/128 solutions in beam hypotheses.\n"
     ]
    },
    {
     "name": "stdout",
     "output_type": "stream",
     "text": [
      "INFO - 07/22/25 19:15:31 - 0:00:27 - (10368/20000) Found 61/128 valid top-1 predictions. Generating solutions ...\n",
      "INFO - 07/22/25 19:15:31 - 0:00:27 -     Found 61/128 solutions in beam hypotheses.\n"
     ]
    },
    {
     "name": "stdout",
     "output_type": "stream",
     "text": [
      "INFO - 07/22/25 19:15:31 - 0:00:27 - (10496/20000) Found 67/128 valid top-1 predictions. Generating solutions ...\n",
      "INFO - 07/22/25 19:15:31 - 0:00:27 -     Found 67/128 solutions in beam hypotheses.\n"
     ]
    },
    {
     "name": "stdout",
     "output_type": "stream",
     "text": [
      "INFO - 07/22/25 19:15:31 - 0:00:28 - (10624/20000) Found 72/128 valid top-1 predictions. Generating solutions ...\n",
      "INFO - 07/22/25 19:15:31 - 0:00:28 -     Found 72/128 solutions in beam hypotheses.\n"
     ]
    },
    {
     "name": "stdout",
     "output_type": "stream",
     "text": [
      "INFO - 07/22/25 19:15:32 - 0:00:28 - (10752/20000) Found 60/128 valid top-1 predictions. Generating solutions ...\n",
      "INFO - 07/22/25 19:15:32 - 0:00:28 -     Found 60/128 solutions in beam hypotheses.\n"
     ]
    },
    {
     "name": "stdout",
     "output_type": "stream",
     "text": [
      "INFO - 07/22/25 19:15:32 - 0:00:28 - (10880/20000) Found 63/128 valid top-1 predictions. Generating solutions ...\n",
      "INFO - 07/22/25 19:15:32 - 0:00:28 -     Found 63/128 solutions in beam hypotheses.\n"
     ]
    },
    {
     "name": "stdout",
     "output_type": "stream",
     "text": [
      "INFO - 07/22/25 19:15:32 - 0:00:28 - (11008/20000) Found 70/128 valid top-1 predictions. Generating solutions ...\n",
      "INFO - 07/22/25 19:15:32 - 0:00:28 -     Found 70/128 solutions in beam hypotheses.\n"
     ]
    },
    {
     "name": "stdout",
     "output_type": "stream",
     "text": [
      "INFO - 07/22/25 19:15:32 - 0:00:29 - (11136/20000) Found 70/128 valid top-1 predictions. Generating solutions ...\n",
      "INFO - 07/22/25 19:15:33 - 0:00:29 -     Found 70/128 solutions in beam hypotheses.\n"
     ]
    },
    {
     "name": "stdout",
     "output_type": "stream",
     "text": [
      "INFO - 07/22/25 19:15:33 - 0:00:29 - (11264/20000) Found 62/128 valid top-1 predictions. Generating solutions ...\n",
      "INFO - 07/22/25 19:15:33 - 0:00:29 -     Found 62/128 solutions in beam hypotheses.\n"
     ]
    },
    {
     "name": "stdout",
     "output_type": "stream",
     "text": [
      "INFO - 07/22/25 19:15:33 - 0:00:29 - (11392/20000) Found 74/128 valid top-1 predictions. Generating solutions ...\n",
      "INFO - 07/22/25 19:15:33 - 0:00:29 -     Found 74/128 solutions in beam hypotheses.\n"
     ]
    },
    {
     "name": "stdout",
     "output_type": "stream",
     "text": [
      "INFO - 07/22/25 19:15:33 - 0:00:30 - (11520/20000) Found 68/128 valid top-1 predictions. Generating solutions ...\n",
      "INFO - 07/22/25 19:15:33 - 0:00:30 -     Found 68/128 solutions in beam hypotheses.\n"
     ]
    },
    {
     "name": "stdout",
     "output_type": "stream",
     "text": [
      "INFO - 07/22/25 19:15:34 - 0:00:30 - (11648/20000) Found 68/128 valid top-1 predictions. Generating solutions ...\n",
      "INFO - 07/22/25 19:15:34 - 0:00:30 -     Found 68/128 solutions in beam hypotheses.\n"
     ]
    },
    {
     "name": "stdout",
     "output_type": "stream",
     "text": [
      "INFO - 07/22/25 19:15:34 - 0:00:30 - (11776/20000) Found 66/128 valid top-1 predictions. Generating solutions ...\n",
      "INFO - 07/22/25 19:15:34 - 0:00:30 -     Found 66/128 solutions in beam hypotheses.\n"
     ]
    },
    {
     "name": "stdout",
     "output_type": "stream",
     "text": [
      "INFO - 07/22/25 19:15:34 - 0:00:31 - (11904/20000) Found 64/128 valid top-1 predictions. Generating solutions ...\n",
      "INFO - 07/22/25 19:15:34 - 0:00:31 -     Found 64/128 solutions in beam hypotheses.\n"
     ]
    },
    {
     "name": "stdout",
     "output_type": "stream",
     "text": [
      "INFO - 07/22/25 19:15:35 - 0:00:31 - (12032/20000) Found 73/128 valid top-1 predictions. Generating solutions ...\n",
      "INFO - 07/22/25 19:15:35 - 0:00:31 -     Found 73/128 solutions in beam hypotheses.\n"
     ]
    },
    {
     "name": "stdout",
     "output_type": "stream",
     "text": [
      "INFO - 07/22/25 19:15:35 - 0:00:31 - (12160/20000) Found 64/128 valid top-1 predictions. Generating solutions ...\n",
      "INFO - 07/22/25 19:15:35 - 0:00:31 -     Found 64/128 solutions in beam hypotheses.\n"
     ]
    },
    {
     "name": "stdout",
     "output_type": "stream",
     "text": [
      "INFO - 07/22/25 19:15:35 - 0:00:31 - (12288/20000) Found 61/128 valid top-1 predictions. Generating solutions ...\n",
      "INFO - 07/22/25 19:15:35 - 0:00:31 -     Found 61/128 solutions in beam hypotheses.\n"
     ]
    },
    {
     "name": "stdout",
     "output_type": "stream",
     "text": [
      "INFO - 07/22/25 19:15:36 - 0:00:32 - (12416/20000) Found 64/128 valid top-1 predictions. Generating solutions ...\n",
      "INFO - 07/22/25 19:15:36 - 0:00:32 -     Found 64/128 solutions in beam hypotheses.\n"
     ]
    },
    {
     "name": "stdout",
     "output_type": "stream",
     "text": [
      "INFO - 07/22/25 19:15:36 - 0:00:32 - (12544/20000) Found 64/128 valid top-1 predictions. Generating solutions ...\n",
      "INFO - 07/22/25 19:15:36 - 0:00:32 -     Found 64/128 solutions in beam hypotheses.\n"
     ]
    },
    {
     "name": "stdout",
     "output_type": "stream",
     "text": [
      "INFO - 07/22/25 19:15:36 - 0:00:32 - (12672/20000) Found 72/128 valid top-1 predictions. Generating solutions ...\n",
      "INFO - 07/22/25 19:15:36 - 0:00:32 -     Found 72/128 solutions in beam hypotheses.\n"
     ]
    },
    {
     "name": "stdout",
     "output_type": "stream",
     "text": [
      "INFO - 07/22/25 19:15:36 - 0:00:33 - (12800/20000) Found 66/128 valid top-1 predictions. Generating solutions ...\n",
      "INFO - 07/22/25 19:15:36 - 0:00:33 -     Found 66/128 solutions in beam hypotheses.\n"
     ]
    },
    {
     "name": "stdout",
     "output_type": "stream",
     "text": [
      "INFO - 07/22/25 19:15:37 - 0:00:33 - (12928/20000) Found 71/128 valid top-1 predictions. Generating solutions ...\n",
      "INFO - 07/22/25 19:15:37 - 0:00:33 -     Found 71/128 solutions in beam hypotheses.\n"
     ]
    },
    {
     "name": "stdout",
     "output_type": "stream",
     "text": [
      "INFO - 07/22/25 19:15:37 - 0:00:33 - (13056/20000) Found 64/128 valid top-1 predictions. Generating solutions ...\n",
      "INFO - 07/22/25 19:15:37 - 0:00:33 -     Found 64/128 solutions in beam hypotheses.\n"
     ]
    },
    {
     "name": "stdout",
     "output_type": "stream",
     "text": [
      "INFO - 07/22/25 19:15:37 - 0:00:34 - (13184/20000) Found 56/128 valid top-1 predictions. Generating solutions ...\n",
      "INFO - 07/22/25 19:15:37 - 0:00:34 -     Found 56/128 solutions in beam hypotheses.\n"
     ]
    },
    {
     "name": "stdout",
     "output_type": "stream",
     "text": [
      "INFO - 07/22/25 19:15:38 - 0:00:34 - (13312/20000) Found 59/128 valid top-1 predictions. Generating solutions ...\n",
      "INFO - 07/22/25 19:15:38 - 0:00:34 -     Found 59/128 solutions in beam hypotheses.\n"
     ]
    },
    {
     "name": "stdout",
     "output_type": "stream",
     "text": [
      "INFO - 07/22/25 19:15:38 - 0:00:34 - (13440/20000) Found 64/128 valid top-1 predictions. Generating solutions ...\n",
      "INFO - 07/22/25 19:15:38 - 0:00:34 -     Found 64/128 solutions in beam hypotheses.\n"
     ]
    },
    {
     "name": "stdout",
     "output_type": "stream",
     "text": [
      "INFO - 07/22/25 19:15:38 - 0:00:34 - (13568/20000) Found 69/128 valid top-1 predictions. Generating solutions ...\n",
      "INFO - 07/22/25 19:15:38 - 0:00:35 -     Found 69/128 solutions in beam hypotheses.\n"
     ]
    },
    {
     "name": "stdout",
     "output_type": "stream",
     "text": [
      "INFO - 07/22/25 19:15:39 - 0:00:35 - (13696/20000) Found 65/128 valid top-1 predictions. Generating solutions ...\n",
      "INFO - 07/22/25 19:15:39 - 0:00:35 -     Found 65/128 solutions in beam hypotheses.\n"
     ]
    },
    {
     "name": "stdout",
     "output_type": "stream",
     "text": [
      "INFO - 07/22/25 19:15:39 - 0:00:35 - (13824/20000) Found 72/128 valid top-1 predictions. Generating solutions ...\n",
      "INFO - 07/22/25 19:15:39 - 0:00:35 -     Found 72/128 solutions in beam hypotheses.\n"
     ]
    },
    {
     "name": "stdout",
     "output_type": "stream",
     "text": [
      "INFO - 07/22/25 19:15:39 - 0:00:35 - (13952/20000) Found 59/128 valid top-1 predictions. Generating solutions ...\n",
      "INFO - 07/22/25 19:15:39 - 0:00:35 -     Found 59/128 solutions in beam hypotheses.\n"
     ]
    },
    {
     "name": "stdout",
     "output_type": "stream",
     "text": [
      "INFO - 07/22/25 19:15:39 - 0:00:36 - (14080/20000) Found 64/128 valid top-1 predictions. Generating solutions ...\n",
      "INFO - 07/22/25 19:15:40 - 0:00:36 -     Found 64/128 solutions in beam hypotheses.\n"
     ]
    },
    {
     "name": "stdout",
     "output_type": "stream",
     "text": [
      "INFO - 07/22/25 19:15:40 - 0:00:36 - (14208/20000) Found 66/128 valid top-1 predictions. Generating solutions ...\n",
      "INFO - 07/22/25 19:15:40 - 0:00:36 -     Found 66/128 solutions in beam hypotheses.\n"
     ]
    },
    {
     "name": "stdout",
     "output_type": "stream",
     "text": [
      "INFO - 07/22/25 19:15:40 - 0:00:36 - (14336/20000) Found 65/128 valid top-1 predictions. Generating solutions ...\n",
      "INFO - 07/22/25 19:15:40 - 0:00:36 -     Found 65/128 solutions in beam hypotheses.\n"
     ]
    },
    {
     "name": "stdout",
     "output_type": "stream",
     "text": [
      "INFO - 07/22/25 19:15:40 - 0:00:37 - (14464/20000) Found 66/128 valid top-1 predictions. Generating solutions ...\n",
      "INFO - 07/22/25 19:15:40 - 0:00:37 -     Found 66/128 solutions in beam hypotheses.\n"
     ]
    },
    {
     "name": "stdout",
     "output_type": "stream",
     "text": [
      "INFO - 07/22/25 19:15:41 - 0:00:37 - (14592/20000) Found 66/128 valid top-1 predictions. Generating solutions ...\n",
      "INFO - 07/22/25 19:15:41 - 0:00:37 -     Found 66/128 solutions in beam hypotheses.\n"
     ]
    },
    {
     "name": "stdout",
     "output_type": "stream",
     "text": [
      "INFO - 07/22/25 19:15:41 - 0:00:37 - (14720/20000) Found 66/128 valid top-1 predictions. Generating solutions ...\n",
      "INFO - 07/22/25 19:15:41 - 0:00:37 -     Found 66/128 solutions in beam hypotheses.\n"
     ]
    },
    {
     "name": "stdout",
     "output_type": "stream",
     "text": [
      "INFO - 07/22/25 19:15:41 - 0:00:38 - (14848/20000) Found 71/128 valid top-1 predictions. Generating solutions ...\n",
      "INFO - 07/22/25 19:15:41 - 0:00:38 -     Found 71/128 solutions in beam hypotheses.\n"
     ]
    },
    {
     "name": "stdout",
     "output_type": "stream",
     "text": [
      "INFO - 07/22/25 19:15:42 - 0:00:38 - (14976/20000) Found 70/128 valid top-1 predictions. Generating solutions ...\n",
      "INFO - 07/22/25 19:15:42 - 0:00:38 -     Found 70/128 solutions in beam hypotheses.\n"
     ]
    },
    {
     "name": "stdout",
     "output_type": "stream",
     "text": [
      "INFO - 07/22/25 19:15:42 - 0:00:38 - (15104/20000) Found 63/128 valid top-1 predictions. Generating solutions ...\n",
      "INFO - 07/22/25 19:15:42 - 0:00:38 -     Found 63/128 solutions in beam hypotheses.\n"
     ]
    },
    {
     "name": "stdout",
     "output_type": "stream",
     "text": [
      "INFO - 07/22/25 19:15:42 - 0:00:38 - (15232/20000) Found 60/128 valid top-1 predictions. Generating solutions ...\n",
      "INFO - 07/22/25 19:15:42 - 0:00:38 -     Found 60/128 solutions in beam hypotheses.\n"
     ]
    },
    {
     "name": "stdout",
     "output_type": "stream",
     "text": [
      "INFO - 07/22/25 19:15:43 - 0:00:39 - (15360/20000) Found 70/128 valid top-1 predictions. Generating solutions ...\n",
      "INFO - 07/22/25 19:15:43 - 0:00:39 -     Found 70/128 solutions in beam hypotheses.\n"
     ]
    },
    {
     "name": "stdout",
     "output_type": "stream",
     "text": [
      "INFO - 07/22/25 19:15:43 - 0:00:39 - (15488/20000) Found 67/128 valid top-1 predictions. Generating solutions ...\n",
      "INFO - 07/22/25 19:15:43 - 0:00:39 -     Found 67/128 solutions in beam hypotheses.\n"
     ]
    },
    {
     "name": "stdout",
     "output_type": "stream",
     "text": [
      "INFO - 07/22/25 19:15:43 - 0:00:39 - (15616/20000) Found 64/128 valid top-1 predictions. Generating solutions ...\n",
      "INFO - 07/22/25 19:15:43 - 0:00:39 -     Found 64/128 solutions in beam hypotheses.\n"
     ]
    },
    {
     "name": "stdout",
     "output_type": "stream",
     "text": [
      "INFO - 07/22/25 19:15:43 - 0:00:40 - (15744/20000) Found 63/128 valid top-1 predictions. Generating solutions ...\n",
      "INFO - 07/22/25 19:15:43 - 0:00:40 -     Found 63/128 solutions in beam hypotheses.\n"
     ]
    },
    {
     "name": "stdout",
     "output_type": "stream",
     "text": [
      "INFO - 07/22/25 19:15:44 - 0:00:40 - (15872/20000) Found 66/128 valid top-1 predictions. Generating solutions ...\n",
      "INFO - 07/22/25 19:15:44 - 0:00:40 -     Found 66/128 solutions in beam hypotheses.\n"
     ]
    },
    {
     "name": "stdout",
     "output_type": "stream",
     "text": [
      "INFO - 07/22/25 19:15:44 - 0:00:40 - (16000/20000) Found 58/128 valid top-1 predictions. Generating solutions ...\n",
      "INFO - 07/22/25 19:15:44 - 0:00:40 -     Found 58/128 solutions in beam hypotheses.\n"
     ]
    },
    {
     "name": "stdout",
     "output_type": "stream",
     "text": [
      "INFO - 07/22/25 19:15:44 - 0:00:41 - (16128/20000) Found 63/128 valid top-1 predictions. Generating solutions ...\n",
      "INFO - 07/22/25 19:15:44 - 0:00:41 -     Found 63/128 solutions in beam hypotheses.\n"
     ]
    },
    {
     "name": "stdout",
     "output_type": "stream",
     "text": [
      "INFO - 07/22/25 19:15:45 - 0:00:41 - (16256/20000) Found 55/128 valid top-1 predictions. Generating solutions ...\n",
      "INFO - 07/22/25 19:15:45 - 0:00:41 -     Found 55/128 solutions in beam hypotheses.\n"
     ]
    },
    {
     "name": "stdout",
     "output_type": "stream",
     "text": [
      "INFO - 07/22/25 19:15:45 - 0:00:41 - (16384/20000) Found 68/128 valid top-1 predictions. Generating solutions ...\n",
      "INFO - 07/22/25 19:15:45 - 0:00:41 -     Found 68/128 solutions in beam hypotheses.\n"
     ]
    },
    {
     "name": "stdout",
     "output_type": "stream",
     "text": [
      "INFO - 07/22/25 19:15:45 - 0:00:41 - (16512/20000) Found 63/128 valid top-1 predictions. Generating solutions ...\n",
      "INFO - 07/22/25 19:15:45 - 0:00:42 -     Found 63/128 solutions in beam hypotheses.\n"
     ]
    },
    {
     "name": "stdout",
     "output_type": "stream",
     "text": [
      "INFO - 07/22/25 19:15:46 - 0:00:42 - (16640/20000) Found 64/128 valid top-1 predictions. Generating solutions ...\n",
      "INFO - 07/22/25 19:15:46 - 0:00:42 -     Found 64/128 solutions in beam hypotheses.\n"
     ]
    },
    {
     "name": "stdout",
     "output_type": "stream",
     "text": [
      "INFO - 07/22/25 19:15:46 - 0:00:42 - (16768/20000) Found 56/128 valid top-1 predictions. Generating solutions ...\n",
      "INFO - 07/22/25 19:15:46 - 0:00:42 -     Found 56/128 solutions in beam hypotheses.\n"
     ]
    },
    {
     "name": "stdout",
     "output_type": "stream",
     "text": [
      "INFO - 07/22/25 19:15:46 - 0:00:42 - (16896/20000) Found 61/128 valid top-1 predictions. Generating solutions ...\n",
      "INFO - 07/22/25 19:15:46 - 0:00:42 -     Found 61/128 solutions in beam hypotheses.\n"
     ]
    },
    {
     "name": "stdout",
     "output_type": "stream",
     "text": [
      "INFO - 07/22/25 19:15:47 - 0:00:43 - (17024/20000) Found 67/128 valid top-1 predictions. Generating solutions ...\n",
      "INFO - 07/22/25 19:15:47 - 0:00:43 -     Found 67/128 solutions in beam hypotheses.\n"
     ]
    },
    {
     "name": "stdout",
     "output_type": "stream",
     "text": [
      "INFO - 07/22/25 19:15:47 - 0:00:43 - (17152/20000) Found 66/128 valid top-1 predictions. Generating solutions ...\n",
      "INFO - 07/22/25 19:15:47 - 0:00:43 -     Found 66/128 solutions in beam hypotheses.\n"
     ]
    },
    {
     "name": "stdout",
     "output_type": "stream",
     "text": [
      "INFO - 07/22/25 19:15:47 - 0:00:43 - (17280/20000) Found 70/128 valid top-1 predictions. Generating solutions ...\n",
      "INFO - 07/22/25 19:15:47 - 0:00:43 -     Found 70/128 solutions in beam hypotheses.\n"
     ]
    },
    {
     "name": "stdout",
     "output_type": "stream",
     "text": [
      "INFO - 07/22/25 19:15:47 - 0:00:44 - (17408/20000) Found 56/128 valid top-1 predictions. Generating solutions ...\n",
      "INFO - 07/22/25 19:15:47 - 0:00:44 -     Found 56/128 solutions in beam hypotheses.\n"
     ]
    },
    {
     "name": "stdout",
     "output_type": "stream",
     "text": [
      "INFO - 07/22/25 19:15:48 - 0:00:44 - (17536/20000) Found 62/128 valid top-1 predictions. Generating solutions ...\n",
      "INFO - 07/22/25 19:15:48 - 0:00:44 -     Found 62/128 solutions in beam hypotheses.\n"
     ]
    },
    {
     "name": "stdout",
     "output_type": "stream",
     "text": [
      "INFO - 07/22/25 19:15:48 - 0:00:44 - (17664/20000) Found 67/128 valid top-1 predictions. Generating solutions ...\n",
      "INFO - 07/22/25 19:15:48 - 0:00:44 -     Found 67/128 solutions in beam hypotheses.\n"
     ]
    },
    {
     "name": "stdout",
     "output_type": "stream",
     "text": [
      "INFO - 07/22/25 19:15:48 - 0:00:45 - (17792/20000) Found 68/128 valid top-1 predictions. Generating solutions ...\n",
      "INFO - 07/22/25 19:15:48 - 0:00:45 -     Found 68/128 solutions in beam hypotheses.\n"
     ]
    },
    {
     "name": "stdout",
     "output_type": "stream",
     "text": [
      "INFO - 07/22/25 19:15:49 - 0:00:45 - (17920/20000) Found 67/128 valid top-1 predictions. Generating solutions ...\n",
      "INFO - 07/22/25 19:15:49 - 0:00:45 -     Found 67/128 solutions in beam hypotheses.\n"
     ]
    },
    {
     "name": "stdout",
     "output_type": "stream",
     "text": [
      "INFO - 07/22/25 19:15:49 - 0:00:45 - (18048/20000) Found 58/128 valid top-1 predictions. Generating solutions ...\n",
      "INFO - 07/22/25 19:15:49 - 0:00:45 -     Found 58/128 solutions in beam hypotheses.\n"
     ]
    },
    {
     "name": "stdout",
     "output_type": "stream",
     "text": [
      "INFO - 07/22/25 19:15:49 - 0:00:45 - (18176/20000) Found 68/128 valid top-1 predictions. Generating solutions ...\n",
      "INFO - 07/22/25 19:15:49 - 0:00:45 -     Found 68/128 solutions in beam hypotheses.\n"
     ]
    },
    {
     "name": "stdout",
     "output_type": "stream",
     "text": [
      "INFO - 07/22/25 19:15:50 - 0:00:46 - (18304/20000) Found 67/128 valid top-1 predictions. Generating solutions ...\n",
      "INFO - 07/22/25 19:15:50 - 0:00:46 -     Found 67/128 solutions in beam hypotheses.\n"
     ]
    },
    {
     "name": "stdout",
     "output_type": "stream",
     "text": [
      "INFO - 07/22/25 19:15:50 - 0:00:46 - (18432/20000) Found 67/128 valid top-1 predictions. Generating solutions ...\n",
      "INFO - 07/22/25 19:15:50 - 0:00:46 -     Found 67/128 solutions in beam hypotheses.\n"
     ]
    },
    {
     "name": "stdout",
     "output_type": "stream",
     "text": [
      "INFO - 07/22/25 19:15:50 - 0:00:46 - (18560/20000) Found 75/128 valid top-1 predictions. Generating solutions ...\n",
      "INFO - 07/22/25 19:15:50 - 0:00:46 -     Found 75/128 solutions in beam hypotheses.\n"
     ]
    },
    {
     "name": "stdout",
     "output_type": "stream",
     "text": [
      "INFO - 07/22/25 19:15:50 - 0:00:47 - (18688/20000) Found 72/128 valid top-1 predictions. Generating solutions ...\n",
      "INFO - 07/22/25 19:15:50 - 0:00:47 -     Found 72/128 solutions in beam hypotheses.\n"
     ]
    },
    {
     "name": "stdout",
     "output_type": "stream",
     "text": [
      "INFO - 07/22/25 19:15:51 - 0:00:47 - (18816/20000) Found 70/128 valid top-1 predictions. Generating solutions ...\n",
      "INFO - 07/22/25 19:15:51 - 0:00:47 -     Found 70/128 solutions in beam hypotheses.\n"
     ]
    },
    {
     "name": "stdout",
     "output_type": "stream",
     "text": [
      "INFO - 07/22/25 19:15:51 - 0:00:47 - (18944/20000) Found 61/128 valid top-1 predictions. Generating solutions ...\n",
      "INFO - 07/22/25 19:15:51 - 0:00:47 -     Found 61/128 solutions in beam hypotheses.\n"
     ]
    },
    {
     "name": "stdout",
     "output_type": "stream",
     "text": [
      "INFO - 07/22/25 19:15:51 - 0:00:48 - (19072/20000) Found 62/128 valid top-1 predictions. Generating solutions ...\n",
      "INFO - 07/22/25 19:15:51 - 0:00:48 -     Found 62/128 solutions in beam hypotheses.\n"
     ]
    },
    {
     "name": "stdout",
     "output_type": "stream",
     "text": [
      "INFO - 07/22/25 19:15:52 - 0:00:48 - (19200/20000) Found 75/128 valid top-1 predictions. Generating solutions ...\n",
      "INFO - 07/22/25 19:15:52 - 0:00:48 -     Found 75/128 solutions in beam hypotheses.\n"
     ]
    },
    {
     "name": "stdout",
     "output_type": "stream",
     "text": [
      "INFO - 07/22/25 19:15:52 - 0:00:48 - (19328/20000) Found 67/128 valid top-1 predictions. Generating solutions ...\n",
      "INFO - 07/22/25 19:15:52 - 0:00:48 -     Found 67/128 solutions in beam hypotheses.\n"
     ]
    },
    {
     "name": "stdout",
     "output_type": "stream",
     "text": [
      "INFO - 07/22/25 19:15:52 - 0:00:48 - (19456/20000) Found 68/128 valid top-1 predictions. Generating solutions ...\n",
      "INFO - 07/22/25 19:15:52 - 0:00:49 -     Found 68/128 solutions in beam hypotheses.\n"
     ]
    },
    {
     "name": "stdout",
     "output_type": "stream",
     "text": [
      "INFO - 07/22/25 19:15:53 - 0:00:49 - (19584/20000) Found 66/128 valid top-1 predictions. Generating solutions ...\n",
      "INFO - 07/22/25 19:15:53 - 0:00:49 -     Found 66/128 solutions in beam hypotheses.\n"
     ]
    },
    {
     "name": "stdout",
     "output_type": "stream",
     "text": [
      "INFO - 07/22/25 19:15:53 - 0:00:49 - (19712/20000) Found 78/128 valid top-1 predictions. Generating solutions ...\n",
      "INFO - 07/22/25 19:15:53 - 0:00:49 -     Found 78/128 solutions in beam hypotheses.\n"
     ]
    },
    {
     "name": "stdout",
     "output_type": "stream",
     "text": [
      "INFO - 07/22/25 19:15:53 - 0:00:49 - (19840/20000) Found 60/128 valid top-1 predictions. Generating solutions ...\n",
      "INFO - 07/22/25 19:15:53 - 0:00:49 -     Found 60/128 solutions in beam hypotheses.\n"
     ]
    },
    {
     "name": "stdout",
     "output_type": "stream",
     "text": [
      "INFO - 07/22/25 19:15:53 - 0:00:50 - (19968/20000) Found 64/128 valid top-1 predictions. Generating solutions ...\n",
      "INFO - 07/22/25 19:15:54 - 0:00:50 -     Found 64/128 solutions in beam hypotheses.\n",
      "INFO - 07/22/25 19:15:54 - 0:00:50 - (20000/20000) Found 16/32 valid top-1 predictions. Generating solutions ...\n",
      "INFO - 07/22/25 19:15:54 - 0:00:50 -     Found 16/32 solutions in beam hypotheses.\n",
      "INFO - 07/22/25 19:15:54 - 0:00:50 - 10171/20000 (50.855%) equations were evaluated correctly.\n",
      "INFO - 07/22/25 19:15:54 - 0:00:50 - 0: 6887 / 7809 (88.19%)\n",
      "INFO - 07/22/25 19:15:54 - 0:00:50 - 1: 2992 / 6072 (49.28%)\n",
      "INFO - 07/22/25 19:15:54 - 0:00:50 - 100: 292 / 6119 (4.77%)\n"
     ]
    },
    {
     "name": "stdout",
     "output_type": "stream",
     "text": [
      "INFO - 07/22/25 19:15:54 - 0:00:50 - epoch -> 295.000000\n",
      "INFO - 07/22/25 19:15:54 - 0:00:50 - valid_arithmetic_xe_loss -> 0.947515\n",
      "INFO - 07/22/25 19:15:54 - 0:00:50 - valid_arithmetic_acc -> 50.855000\n",
      "INFO - 07/22/25 19:15:54 - 0:00:50 - valid_arithmetic_perfect -> 50.855000\n",
      "INFO - 07/22/25 19:15:54 - 0:00:50 - valid_arithmetic_correct -> 50.855000\n",
      "INFO - 07/22/25 19:15:54 - 0:00:50 - valid_arithmetic_acc_d1 -> 50.855000\n",
      "INFO - 07/22/25 19:15:54 - 0:00:50 - valid_arithmetic_acc_d2 -> 50.855000\n",
      "INFO - 07/22/25 19:15:54 - 0:00:50 - valid_arithmetic_acc_d3 -> 70.080000\n",
      "INFO - 07/22/25 19:15:54 - 0:00:50 - valid_arithmetic_acc_0 -> 88.193111\n",
      "INFO - 07/22/25 19:15:54 - 0:00:50 - valid_arithmetic_acc_1 -> 49.275362\n",
      "INFO - 07/22/25 19:15:54 - 0:00:50 - valid_arithmetic_acc_100 -> 4.772022\n",
      "INFO - 07/22/25 19:15:54 - 0:00:50 - __log__:{\"epoch\": 295, \"valid_arithmetic_xe_loss\": 0.9475154834747315, \"valid_arithmetic_acc\": 50.855, \"valid_arithmetic_perfect\": 50.855, \"valid_arithmetic_correct\": 50.855, \"valid_arithmetic_acc_d1\": 50.855, \"valid_arithmetic_acc_d2\": 50.855, \"valid_arithmetic_acc_d3\": 70.08, \"valid_arithmetic_acc_0\": 88.19311051351005, \"valid_arithmetic_acc_1\": 49.27536231884058, \"valid_arithmetic_acc_100\": 4.772021572152313}\n"
     ]
    }
   ],
   "source": [
    "for mu_file in ['mu_only23_correct.txt', 'mu_2_random.txt', 'mu_p_3_random.txt', 'mu_23_random.txt', 'mu_true.txt']:    \n",
    "    subprocess.run(mu_cmd_string.format(mu_file, mu_file + \".record\"), shell=True)"
   ]
  },
  {
   "cell_type": "code",
   "execution_count": 3,
   "id": "f968d2",
   "metadata": {
    "collapsed": false,
    "scrolled": true
   },
   "outputs": [
    {
     "name": "stdout",
     "output_type": "stream",
     "text": [
      "INFO - 07/22/25 19:15:57 - 0:00:00 - ============ Initialized logger ============\n",
      "INFO - 07/22/25 19:15:57 - 0:00:00 - GRU: False\n",
      "                                     accumulate_gradients: 1\n",
      "                                     act_bias: 0\n",
      "                                     act_biased: False\n",
      "                                     act_ponder_coupling: 0.01\n",
      "                                     act_threshold: 0.01\n",
      "                                     amp: -1\n",
      "                                     architecture: encoder_decoder\n",
      "                                     attention_dropout: 0\n",
      "                                     base: 1000\n",
      "                                     batch_load: False\n",
      "                                     batch_size: 32\n",
      "                                     batch_size_eval: 128\n",
      "                                     beam_early_stopping: True\n",
      "                                     beam_eval: False\n",
      "                                     beam_eval_train: 0\n",
      "                                     beam_length_penalty: 1\n",
      "                                     beam_size: 1\n",
      "                                     biased_gates: False\n",
      "                                     bidirectional: False\n",
      "                                     class_by_length: False\n",
      "                                     clip_grad_norm: 5\n",
      "                                     command: python /home/user/Int2Int/train.py --num_workers 0 --dump_path '/home/user/fastdir/dump' --exp_name basicsq --exp_id 2 --eval_only True --eval_data '/home/user/fastdir/data/musq_only23_correct.txt' --eval_size 20000 --data_types 'int[200]:range(-1,2)' --exp_id \"2\"\n",
      "                                     cpu: False\n",
      "                                     data_types: int[200]:range(-1,2)\n",
      "                                     debug: False\n",
      "                                     debug_slurm: False\n",
      "                                     dec_act: False\n",
      "                                     dec_emb_dim: 256\n",
      "                                     dec_gated: False\n",
      "                                     dec_has_pos_emb: True\n",
      "                                     dec_loop_idx: -1\n",
      "                                     dec_loops: 1\n",
      "                                     dim1: 10\n",
      "                                     dim2: 10\n",
      "                                     dropout: 0\n",
      "                                     dump_path: /home/user/fastdir/dump/basicsq/2\n",
      "                                     enc_act: False\n",
      "                                     enc_emb_dim: 256\n",
      "                                     enc_gated: False\n",
      "                                     enc_has_pos_emb: True\n",
      "                                     enc_loop_idx: -1\n",
      "                                     enc_loops: 1\n",
      "                                     env_base_seed: -1\n",
      "                                     env_name: arithmetic\n",
      "                                     epoch_size: 300000\n",
      "                                     eval_data: /home/user/fastdir/data/musq_only23_correct.txt\n",
      "                                     eval_from_exp: \n",
      "                                     eval_only: True\n",
      "                                     eval_size: 20000\n",
      "                                     eval_verbose: 0\n",
      "                                     eval_verbose_print: False\n",
      "                                     exp_id: 2\n",
      "                                     exp_name: basicsq\n",
      "                                     export_data: False\n",
      "                                     first_class_prob: 0.25\n",
      "                                     first_class_size: 1000000\n",
      "                                     fp16: False\n",
      "                                     gate_bias: 0\n",
      "                                     gated: False\n",
      "                                     gelu_activation: False\n",
      "                                     global_rank: 0\n",
      "                                     is_master: True\n",
      "                                     is_slurm_job: False\n",
      "                                     local_gpu: -1\n",
      "                                     local_rank: 0\n",
      "                                     lstm: False\n",
      "                                     lstm_hidden_dim: 2048\n",
      "                                     master_port: -1\n",
      "                                     max_class: 101\n",
      "                                     max_epoch: 100000\n",
      "                                     max_len: 512\n",
      "                                     max_output_len: 512\n",
      "                                     max_src_len: 0\n",
      "                                     maxint: 1000000\n",
      "                                     minint: 1\n",
      "                                     modulus: 67\n",
      "                                     multi_gpu: False\n",
      "                                     multi_node: False\n",
      "                                     n_dec_heads: 8\n",
      "                                     n_dec_hidden_layers: 1\n",
      "                                     n_dec_layers: 4\n",
      "                                     n_enc_heads: 8\n",
      "                                     n_enc_hidden_layers: 1\n",
      "                                     n_enc_layers: 4\n",
      "                                     n_gpu_per_node: 1\n",
      "                                     n_nodes: 1\n",
      "                                     node_id: 0\n",
      "                                     norm_attention: False\n",
      "                                     num_workers: 0\n",
      "                                     operation: data\n",
      "                                     optimizer: adam,lr=0.0001\n",
      "                                     reload_checkpoint: \n",
      "                                     reload_model: \n",
      "                                     reload_size: -1\n",
      "                                     save_periodic: 0\n",
      "                                     scalar_gate: False\n",
      "                                     share_inout_emb: True\n",
      "                                     sinusoidal_embeddings: False\n",
      "                                     stopping_criterion: \n",
      "                                     tasks: arithmetic\n",
      "                                     train_data: \n",
      "                                     two_classes: False\n",
      "                                     validation_metrics: \n",
      "                                     windows: False\n",
      "                                     world_size: 1\n",
      "                                     xav_init: False\n",
      "INFO - 07/22/25 19:15:57 - 0:00:00 - The experiment will be stored in /home/user/fastdir/dump/basicsq/2\n",
      "                                     \n",
      "INFO - 07/22/25 19:15:57 - 0:00:00 - Running command: python /home/user/Int2Int/train.py --num_workers 0 --dump_path '/home/user/fastdir/dump' --exp_name basicsq --exp_id 2 --eval_only True --eval_data '/home/user/fastdir/data/musq_only23_correct.txt' --eval_size 20000 --data_types 'int[200]:range(-1,2)'\n",
      "\n",
      "INFO - 07/22/25 19:15:57 - 0:00:00 - words: {'<eos>': 0, '<pad>': 1, '<sep>': 2, '(': 3, ')': 4, '<SPECIAL_0>': 5, '<SPECIAL_1>': 6, '<SPECIAL_2>': 7, '<SPECIAL_3>': 8, '<SPECIAL_4>': 9, '<SPECIAL_5>': 10, '<SPECIAL_6>': 11, '<SPECIAL_7>': 12, '<SPECIAL_8>': 13, '<SPECIAL_9>': 14, '+': 15, '-': 16, '-1': 17, '0': 18, '1': 19, '10': 20, '100': 21, '101': 22, '102': 23, '103': 24, '104': 25, '105': 26, '106': 27, '107': 28, '108': 29, '109': 30, '11': 31, '110': 32, '111': 33, '112': 34, '113': 35, '114': 36, '115': 37, '116': 38, '117': 39, '118': 40, '119': 41, '12': 42, '120': 43, '121': 44, '122': 45, '123': 46, '124': 47, '125': 48, '126': 49, '127': 50, '128': 51, '129': 52, '13': 53, '130': 54, '131': 55, '132': 56, '133': 57, '134': 58, '135': 59, '136': 60, '137': 61, '138': 62, '139': 63, '14': 64, '140': 65, '141': 66, '142': 67, '143': 68, '144': 69, '145': 70, '146': 71, '147': 72, '148': 73, '149': 74, '15': 75, '150': 76, '151': 77, '152': 78, '153': 79, '154': 80, '155': 81, '156': 82, '157': 83, '158': 84, '159': 85, '16': 86, '160': 87, '161': 88, '162': 89, '163': 90, '164': 91, '165': 92, '166': 93, '167': 94, '168': 95, '169': 96, '17': 97, '170': 98, '171': 99, '172': 100, '173': 101, '174': 102, '175': 103, '176': 104, '177': 105, '178': 106, '179': 107, '18': 108, '180': 109, '181': 110, '182': 111, '183': 112, '184': 113, '185': 114, '186': 115, '187': 116, '188': 117, '189': 118, '19': 119, '190': 120, '191': 121, '192': 122, '193': 123, '194': 124, '195': 125, '196': 126, '197': 127, '198': 128, '199': 129, '2': 130, '20': 131, '200': 132, '201': 133, '202': 134, '203': 135, '204': 136, '205': 137, '206': 138, '207': 139, '208': 140, '209': 141, '21': 142, '210': 143, '211': 144, '212': 145, '213': 146, '214': 147, '215': 148, '216': 149, '217': 150, '218': 151, '219': 152, '22': 153, '220': 154, '221': 155, '222': 156, '223': 157, '224': 158, '225': 159, '226': 160, '227': 161, '228': 162, '229': 163, '23': 164, '230': 165, '231': 166, '232': 167, '233': 168, '234': 169, '235': 170, '236': 171, '237': 172, '238': 173, '239': 174, '24': 175, '240': 176, '241': 177, '242': 178, '243': 179, '244': 180, '245': 181, '246': 182, '247': 183, '248': 184, '249': 185, '25': 186, '250': 187, '251': 188, '252': 189, '253': 190, '254': 191, '255': 192, '256': 193, '257': 194, '258': 195, '259': 196, '26': 197, '260': 198, '261': 199, '262': 200, '263': 201, '264': 202, '265': 203, '266': 204, '267': 205, '268': 206, '269': 207, '27': 208, '270': 209, '271': 210, '272': 211, '273': 212, '274': 213, '275': 214, '276': 215, '277': 216, '278': 217, '279': 218, '28': 219, '280': 220, '281': 221, '282': 222, '283': 223, '284': 224, '285': 225, '286': 226, '287': 227, '288': 228, '289': 229, '29': 230, '290': 231, '291': 232, '292': 233, '293': 234, '294': 235, '295': 236, '296': 237, '297': 238, '298': 239, '299': 240, '3': 241, '30': 242, '300': 243, '301': 244, '302': 245, '303': 246, '304': 247, '305': 248, '306': 249, '307': 250, '308': 251, '309': 252, '31': 253, '310': 254, '311': 255, '312': 256, '313': 257, '314': 258, '315': 259, '316': 260, '317': 261, '318': 262, '319': 263, '32': 264, '320': 265, '321': 266, '322': 267, '323': 268, '324': 269, '325': 270, '326': 271, '327': 272, '328': 273, '329': 274, '33': 275, '330': 276, '331': 277, '332': 278, '333': 279, '334': 280, '335': 281, '336': 282, '337': 283, '338': 284, '339': 285, '34': 286, '340': 287, '341': 288, '342': 289, '343': 290, '344': 291, '345': 292, '346': 293, '347': 294, '348': 295, '349': 296, '35': 297, '350': 298, '351': 299, '352': 300, '353': 301, '354': 302, '355': 303, '356': 304, '357': 305, '358': 306, '359': 307, '36': 308, '360': 309, '361': 310, '362': 311, '363': 312, '364': 313, '365': 314, '366': 315, '367': 316, '368': 317, '369': 318, '37': 319, '370': 320, '371': 321, '372': 322, '373': 323, '374': 324, '375': 325, '376': 326, '377': 327, '378': 328, '379': 329, '38': 330, '380': 331, '381': 332, '382': 333, '383': 334, '384': 335, '385': 336, '386': 337, '387': 338, '388': 339, '389': 340, '39': 341, '390': 342, '391': 343, '392': 344, '393': 345, '394': 346, '395': 347, '396': 348, '397': 349, '398': 350, '399': 351, '4': 352, '40': 353, '400': 354, '401': 355, '402': 356, '403': 357, '404': 358, '405': 359, '406': 360, '407': 361, '408': 362, '409': 363, '41': 364, '410': 365, '411': 366, '412': 367, '413': 368, '414': 369, '415': 370, '416': 371, '417': 372, '418': 373, '419': 374, '42': 375, '420': 376, '421': 377, '422': 378, '423': 379, '424': 380, '425': 381, '426': 382, '427': 383, '428': 384, '429': 385, '43': 386, '430': 387, '431': 388, '432': 389, '433': 390, '434': 391, '435': 392, '436': 393, '437': 394, '438': 395, '439': 396, '44': 397, '440': 398, '441': 399, '442': 400, '443': 401, '444': 402, '445': 403, '446': 404, '447': 405, '448': 406, '449': 407, '45': 408, '450': 409, '451': 410, '452': 411, '453': 412, '454': 413, '455': 414, '456': 415, '457': 416, '458': 417, '459': 418, '46': 419, '460': 420, '461': 421, '462': 422, '463': 423, '464': 424, '465': 425, '466': 426, '467': 427, '468': 428, '469': 429, '47': 430, '470': 431, '471': 432, '472': 433, '473': 434, '474': 435, '475': 436, '476': 437, '477': 438, '478': 439, '479': 440, '48': 441, '480': 442, '481': 443, '482': 444, '483': 445, '484': 446, '485': 447, '486': 448, '487': 449, '488': 450, '489': 451, '49': 452, '490': 453, '491': 454, '492': 455, '493': 456, '494': 457, '495': 458, '496': 459, '497': 460, '498': 461, '499': 462, '5': 463, '50': 464, '500': 465, '501': 466, '502': 467, '503': 468, '504': 469, '505': 470, '506': 471, '507': 472, '508': 473, '509': 474, '51': 475, '510': 476, '511': 477, '512': 478, '513': 479, '514': 480, '515': 481, '516': 482, '517': 483, '518': 484, '519': 485, '52': 486, '520': 487, '521': 488, '522': 489, '523': 490, '524': 491, '525': 492, '526': 493, '527': 494, '528': 495, '529': 496, '53': 497, '530': 498, '531': 499, '532': 500, '533': 501, '534': 502, '535': 503, '536': 504, '537': 505, '538': 506, '539': 507, '54': 508, '540': 509, '541': 510, '542': 511, '543': 512, '544': 513, '545': 514, '546': 515, '547': 516, '548': 517, '549': 518, '55': 519, '550': 520, '551': 521, '552': 522, '553': 523, '554': 524, '555': 525, '556': 526, '557': 527, '558': 528, '559': 529, '56': 530, '560': 531, '561': 532, '562': 533, '563': 534, '564': 535, '565': 536, '566': 537, '567': 538, '568': 539, '569': 540, '57': 541, '570': 542, '571': 543, '572': 544, '573': 545, '574': 546, '575': 547, '576': 548, '577': 549, '578': 550, '579': 551, '58': 552, '580': 553, '581': 554, '582': 555, '583': 556, '584': 557, '585': 558, '586': 559, '587': 560, '588': 561, '589': 562, '59': 563, '590': 564, '591': 565, '592': 566, '593': 567, '594': 568, '595': 569, '596': 570, '597': 571, '598': 572, '599': 573, '6': 574, '60': 575, '600': 576, '601': 577, '602': 578, '603': 579, '604': 580, '605': 581, '606': 582, '607': 583, '608': 584, '609': 585, '61': 586, '610': 587, '611': 588, '612': 589, '613': 590, '614': 591, '615': 592, '616': 593, '617': 594, '618': 595, '619': 596, '62': 597, '620': 598, '621': 599, '622': 600, '623': 601, '624': 602, '625': 603, '626': 604, '627': 605, '628': 606, '629': 607, '63': 608, '630': 609, '631': 610, '632': 611, '633': 612, '634': 613, '635': 614, '636': 615, '637': 616, '638': 617, '639': 618, '64': 619, '640': 620, '641': 621, '642': 622, '643': 623, '644': 624, '645': 625, '646': 626, '647': 627, '648': 628, '649': 629, '65': 630, '650': 631, '651': 632, '652': 633, '653': 634, '654': 635, '655': 636, '656': 637, '657': 638, '658': 639, '659': 640, '66': 641, '660': 642, '661': 643, '662': 644, '663': 645, '664': 646, '665': 647, '666': 648, '667': 649, '668': 650, '669': 651, '67': 652, '670': 653, '671': 654, '672': 655, '673': 656, '674': 657, '675': 658, '676': 659, '677': 660, '678': 661, '679': 662, '68': 663, '680': 664, '681': 665, '682': 666, '683': 667, '684': 668, '685': 669, '686': 670, '687': 671, '688': 672, '689': 673, '69': 674, '690': 675, '691': 676, '692': 677, '693': 678, '694': 679, '695': 680, '696': 681, '697': 682, '698': 683, '699': 684, '7': 685, '70': 686, '700': 687, '701': 688, '702': 689, '703': 690, '704': 691, '705': 692, '706': 693, '707': 694, '708': 695, '709': 696, '71': 697, '710': 698, '711': 699, '712': 700, '713': 701, '714': 702, '715': 703, '716': 704, '717': 705, '718': 706, '719': 707, '72': 708, '720': 709, '721': 710, '722': 711, '723': 712, '724': 713, '725': 714, '726': 715, '727': 716, '728': 717, '729': 718, '73': 719, '730': 720, '731': 721, '732': 722, '733': 723, '734': 724, '735': 725, '736': 726, '737': 727, '738': 728, '739': 729, '74': 730, '740': 731, '741': 732, '742': 733, '743': 734, '744': 735, '745': 736, '746': 737, '747': 738, '748': 739, '749': 740, '75': 741, '750': 742, '751': 743, '752': 744, '753': 745, '754': 746, '755': 747, '756': 748, '757': 749, '758': 750, '759': 751, '76': 752, '760': 753, '761': 754, '762': 755, '763': 756, '764': 757, '765': 758, '766': 759, '767': 760, '768': 761, '769': 762, '77': 763, '770': 764, '771': 765, '772': 766, '773': 767, '774': 768, '775': 769, '776': 770, '777': 771, '778': 772, '779': 773, '78': 774, '780': 775, '781': 776, '782': 777, '783': 778, '784': 779, '785': 780, '786': 781, '787': 782, '788': 783, '789': 784, '79': 785, '790': 786, '791': 787, '792': 788, '793': 789, '794': 790, '795': 791, '796': 792, '797': 793, '798': 794, '799': 795, '8': 796, '80': 797, '800': 798, '801': 799, '802': 800, '803': 801, '804': 802, '805': 803, '806': 804, '807': 805, '808': 806, '809': 807, '81': 808, '810': 809, '811': 810, '812': 811, '813': 812, '814': 813, '815': 814, '816': 815, '817': 816, '818': 817, '819': 818, '82': 819, '820': 820, '821': 821, '822': 822, '823': 823, '824': 824, '825': 825, '826': 826, '827': 827, '828': 828, '829': 829, '83': 830, '830': 831, '831': 832, '832': 833, '833': 834, '834': 835, '835': 836, '836': 837, '837': 838, '838': 839, '839': 840, '84': 841, '840': 842, '841': 843, '842': 844, '843': 845, '844': 846, '845': 847, '846': 848, '847': 849, '848': 850, '849': 851, '85': 852, '850': 853, '851': 854, '852': 855, '853': 856, '854': 857, '855': 858, '856': 859, '857': 860, '858': 861, '859': 862, '86': 863, '860': 864, '861': 865, '862': 866, '863': 867, '864': 868, '865': 869, '866': 870, '867': 871, '868': 872, '869': 873, '87': 874, '870': 875, '871': 876, '872': 877, '873': 878, '874': 879, '875': 880, '876': 881, '877': 882, '878': 883, '879': 884, '88': 885, '880': 886, '881': 887, '882': 888, '883': 889, '884': 890, '885': 891, '886': 892, '887': 893, '888': 894, '889': 895, '89': 896, '890': 897, '891': 898, '892': 899, '893': 900, '894': 901, '895': 902, '896': 903, '897': 904, '898': 905, '899': 906, '9': 907, '90': 908, '900': 909, '901': 910, '902': 911, '903': 912, '904': 913, '905': 914, '906': 915, '907': 916, '908': 917, '909': 918, '91': 919, '910': 920, '911': 921, '912': 922, '913': 923, '914': 924, '915': 925, '916': 926, '917': 927, '918': 928, '919': 929, '92': 930, '920': 931, '921': 932, '922': 933, '923': 934, '924': 935, '925': 936, '926': 937, '927': 938, '928': 939, '929': 940, '93': 941, '930': 942, '931': 943, '932': 944, '933': 945, '934': 946, '935': 947, '936': 948, '937': 949, '938': 950, '939': 951, '94': 952, '940': 953, '941': 954, '942': 955, '943': 956, '944': 957, '945': 958, '946': 959, '947': 960, '948': 961, '949': 962, '95': 963, '950': 964, '951': 965, '952': 966, '953': 967, '954': 968, '955': 969, '956': 970, '957': 971, '958': 972, '959': 973, '96': 974, '960': 975, '961': 976, '962': 977, '963': 978, '964': 979, '965': 980, '966': 981, '967': 982, '968': 983, '969': 984, '97': 985, '970': 986, '971': 987, '972': 988, '973': 989, '974': 990, '975': 991, '976': 992, '977': 993, '978': 994, '979': 995, '98': 996, '980': 997, '981': 998, '982': 999, '983': 1000, '984': 1001, '985': 1002, '986': 1003, '987': 1004, '988': 1005, '989': 1006, '99': 1007, '990': 1008, '991': 1009, '992': 1010, '993': 1011, '994': 1012, '995': 1013, '996': 1014, '997': 1015, '998': 1016, '999': 1017, 'V1': 1018, 'V10': 1019, 'V100': 1020, 'V101': 1021, 'V102': 1022, 'V103': 1023, 'V104': 1024, 'V105': 1025, 'V106': 1026, 'V107': 1027, 'V108': 1028, 'V109': 1029, 'V11': 1030, 'V110': 1031, 'V111': 1032, 'V112': 1033, 'V113': 1034, 'V114': 1035, 'V115': 1036, 'V116': 1037, 'V117': 1038, 'V118': 1039, 'V119': 1040, 'V12': 1041, 'V120': 1042, 'V121': 1043, 'V122': 1044, 'V123': 1045, 'V124': 1046, 'V125': 1047, 'V126': 1048, 'V127': 1049, 'V128': 1050, 'V129': 1051, 'V13': 1052, 'V130': 1053, 'V131': 1054, 'V132': 1055, 'V133': 1056, 'V134': 1057, 'V135': 1058, 'V136': 1059, 'V137': 1060, 'V138': 1061, 'V139': 1062, 'V14': 1063, 'V140': 1064, 'V141': 1065, 'V142': 1066, 'V143': 1067, 'V144': 1068, 'V145': 1069, 'V146': 1070, 'V147': 1071, 'V148': 1072, 'V149': 1073, 'V15': 1074, 'V150': 1075, 'V151': 1076, 'V152': 1077, 'V153': 1078, 'V154': 1079, 'V155': 1080, 'V156': 1081, 'V157': 1082, 'V158': 1083, 'V159': 1084, 'V16': 1085, 'V160': 1086, 'V161': 1087, 'V162': 1088, 'V163': 1089, 'V164': 1090, 'V165': 1091, 'V166': 1092, 'V167': 1093, 'V168': 1094, 'V169': 1095, 'V17': 1096, 'V170': 1097, 'V171': 1098, 'V172': 1099, 'V173': 1100, 'V174': 1101, 'V175': 1102, 'V176': 1103, 'V177': 1104, 'V178': 1105, 'V179': 1106, 'V18': 1107, 'V180': 1108, 'V181': 1109, 'V182': 1110, 'V183': 1111, 'V184': 1112, 'V185': 1113, 'V186': 1114, 'V187': 1115, 'V188': 1116, 'V189': 1117, 'V19': 1118, 'V190': 1119, 'V191': 1120, 'V192': 1121, 'V193': 1122, 'V194': 1123, 'V195': 1124, 'V196': 1125, 'V197': 1126, 'V198': 1127, 'V199': 1128, 'V2': 1129, 'V20': 1130, 'V200': 1131, 'V21': 1132, 'V22': 1133, 'V23': 1134, 'V24': 1135, 'V25': 1136, 'V26': 1137, 'V27': 1138, 'V28': 1139, 'V29': 1140, 'V3': 1141, 'V30': 1142, 'V31': 1143, 'V32': 1144, 'V33': 1145, 'V34': 1146, 'V35': 1147, 'V36': 1148, 'V37': 1149, 'V38': 1150, 'V39': 1151, 'V4': 1152, 'V40': 1153, 'V41': 1154, 'V42': 1155, 'V43': 1156, 'V44': 1157, 'V45': 1158, 'V46': 1159, 'V47': 1160, 'V48': 1161, 'V49': 1162, 'V5': 1163, 'V50': 1164, 'V51': 1165, 'V52': 1166, 'V53': 1167, 'V54': 1168, 'V55': 1169, 'V56': 1170, 'V57': 1171, 'V58': 1172, 'V59': 1173, 'V6': 1174, 'V60': 1175, 'V61': 1176, 'V62': 1177, 'V63': 1178, 'V64': 1179, 'V65': 1180, 'V66': 1181, 'V67': 1182, 'V68': 1183, 'V69': 1184, 'V7': 1185, 'V70': 1186, 'V71': 1187, 'V72': 1188, 'V73': 1189, 'V74': 1190, 'V75': 1191, 'V76': 1192, 'V77': 1193, 'V78': 1194, 'V79': 1195, 'V8': 1196, 'V80': 1197, 'V81': 1198, 'V82': 1199, 'V83': 1200, 'V84': 1201, 'V85': 1202, 'V86': 1203, 'V87': 1204, 'V88': 1205, 'V89': 1206, 'V9': 1207, 'V90': 1208, 'V91': 1209, 'V92': 1210, 'V93': 1211, 'V94': 1212, 'V95': 1213, 'V96': 1214, 'V97': 1215, 'V98': 1216, 'V99': 1217}\n",
      "INFO - 07/22/25 19:15:57 - 0:00:00 - Training tasks: arithmetic\n",
      "INFO - 07/22/25 19:15:57 - 0:00:00 - Number of parameters (encoder): 4519936\n",
      "INFO - 07/22/25 19:15:57 - 0:00:00 - Number of parameters (decoder): 5575874\n"
     ]
    },
    {
     "name": "stdout",
     "output_type": "stream",
     "text": [
      "INFO - 07/22/25 19:15:57 - 0:00:00 - Found 177 parameters in model.\n"
     ]
    },
    {
     "name": "stdout",
     "output_type": "stream",
     "text": [
      "INFO - 07/22/25 19:15:58 - 0:00:01 - Optimizer: <class 'src.optim.Adam'>\n",
      "WARNING - 07/22/25 19:15:58 - 0:00:01 - Reloading checkpoint from /home/user/fastdir/dump/basicsq/2/checkpoint.pth ...\n",
      "/home/user/Int2Int/src/trainer.py:303: FutureWarning: You are using `torch.load` with `weights_only=False` (the current default value), which uses the default pickle module implicitly. It is possible to construct malicious pickle data which will execute arbitrary code during unpickling (See https://github.com/pytorch/pytorch/blob/main/SECURITY.md#untrusted-models for more details). In a future release, the default value for `weights_only` will be flipped to `True`. This limits the functions that could be executed during unpickling. Arbitrary objects will no longer be allowed to be loaded via this mode unless they are explicitly allowlisted by the user via `torch.serialization.add_safe_globals`. We recommend you start setting `weights_only=True` for any use case where you don't have full control of the loaded file. Please open an issue on GitHub for any issues related to this experimental feature.\n",
      "  data = torch.load(checkpoint_path, map_location=\"cpu\")\n",
      "WARNING - 07/22/25 19:15:58 - 0:00:01 - Reloading checkpoint optimizer ...\n",
      "WARNING - 07/22/25 19:15:58 - 0:00:01 - Checkpoint reloaded. Resuming at epoch 227 / iteration 141875 ...\n",
      "INFO - 07/22/25 19:15:58 - 0:00:01 - Creating valid iterator for arithmetic ...\n",
      "INFO - 07/22/25 19:15:58 - 0:00:01 - Loading data from /home/user/fastdir/data/musq_only23_correct.txt ...\n"
     ]
    },
    {
     "name": "stdout",
     "output_type": "stream",
     "text": [
      "INFO - 07/22/25 19:15:58 - 0:00:02 - Loaded 100000 equations from the disk.\n",
      "SLURM job: False\n",
      "0 - Number of nodes: 1\n",
      "0 - Node ID        : 0\n",
      "0 - Local rank     : 0\n",
      "0 - Global rank    : 0\n",
      "0 - World size     : 1\n",
      "0 - GPUs per node  : 1\n",
      "0 - Master         : True\n",
      "0 - Multi-node     : False\n",
      "0 - Multi-GPU      : False\n",
      "0 - Hostname       : compute-server-1\n"
     ]
    },
    {
     "name": "stdout",
     "output_type": "stream",
     "text": [
      "INFO - 07/22/25 19:15:59 - 0:00:03 - (128/20000) Found 78/128 valid top-1 predictions. Generating solutions ...\n",
      "INFO - 07/22/25 19:15:59 - 0:00:03 -     Found 78/128 solutions in beam hypotheses.\n"
     ]
    },
    {
     "name": "stdout",
     "output_type": "stream",
     "text": [
      "INFO - 07/22/25 19:16:00 - 0:00:03 - (256/20000) Found 86/128 valid top-1 predictions. Generating solutions ...\n",
      "INFO - 07/22/25 19:16:00 - 0:00:03 -     Found 86/128 solutions in beam hypotheses.\n"
     ]
    },
    {
     "name": "stdout",
     "output_type": "stream",
     "text": [
      "INFO - 07/22/25 19:16:00 - 0:00:03 - (384/20000) Found 84/128 valid top-1 predictions. Generating solutions ...\n",
      "INFO - 07/22/25 19:16:00 - 0:00:03 -     Found 84/128 solutions in beam hypotheses.\n"
     ]
    },
    {
     "name": "stdout",
     "output_type": "stream",
     "text": [
      "INFO - 07/22/25 19:16:00 - 0:00:04 - (512/20000) Found 91/128 valid top-1 predictions. Generating solutions ...\n",
      "INFO - 07/22/25 19:16:00 - 0:00:04 -     Found 91/128 solutions in beam hypotheses.\n"
     ]
    },
    {
     "name": "stdout",
     "output_type": "stream",
     "text": [
      "INFO - 07/22/25 19:16:00 - 0:00:04 - (640/20000) Found 88/128 valid top-1 predictions. Generating solutions ...\n",
      "INFO - 07/22/25 19:16:00 - 0:00:04 -     Found 88/128 solutions in beam hypotheses.\n"
     ]
    },
    {
     "name": "stdout",
     "output_type": "stream",
     "text": [
      "INFO - 07/22/25 19:16:01 - 0:00:04 - (768/20000) Found 80/128 valid top-1 predictions. Generating solutions ...\n",
      "INFO - 07/22/25 19:16:01 - 0:00:04 -     Found 80/128 solutions in beam hypotheses.\n"
     ]
    },
    {
     "name": "stdout",
     "output_type": "stream",
     "text": [
      "INFO - 07/22/25 19:16:01 - 0:00:04 - (896/20000) Found 91/128 valid top-1 predictions. Generating solutions ...\n",
      "INFO - 07/22/25 19:16:01 - 0:00:04 -     Found 91/128 solutions in beam hypotheses.\n"
     ]
    },
    {
     "name": "stdout",
     "output_type": "stream",
     "text": [
      "INFO - 07/22/25 19:16:01 - 0:00:05 - (1024/20000) Found 88/128 valid top-1 predictions. Generating solutions ...\n",
      "INFO - 07/22/25 19:16:01 - 0:00:05 -     Found 88/128 solutions in beam hypotheses.\n"
     ]
    },
    {
     "name": "stdout",
     "output_type": "stream",
     "text": [
      "INFO - 07/22/25 19:16:02 - 0:00:05 - (1152/20000) Found 91/128 valid top-1 predictions. Generating solutions ...\n",
      "INFO - 07/22/25 19:16:02 - 0:00:05 -     Found 91/128 solutions in beam hypotheses.\n"
     ]
    },
    {
     "name": "stdout",
     "output_type": "stream",
     "text": [
      "INFO - 07/22/25 19:16:02 - 0:00:05 - (1280/20000) Found 91/128 valid top-1 predictions. Generating solutions ...\n",
      "INFO - 07/22/25 19:16:02 - 0:00:05 -     Found 91/128 solutions in beam hypotheses.\n"
     ]
    },
    {
     "name": "stdout",
     "output_type": "stream",
     "text": [
      "INFO - 07/22/25 19:16:02 - 0:00:06 - (1408/20000) Found 90/128 valid top-1 predictions. Generating solutions ...\n",
      "INFO - 07/22/25 19:16:02 - 0:00:06 -     Found 90/128 solutions in beam hypotheses.\n"
     ]
    },
    {
     "name": "stdout",
     "output_type": "stream",
     "text": [
      "INFO - 07/22/25 19:16:03 - 0:00:06 - (1536/20000) Found 88/128 valid top-1 predictions. Generating solutions ...\n",
      "INFO - 07/22/25 19:16:03 - 0:00:06 -     Found 88/128 solutions in beam hypotheses.\n"
     ]
    },
    {
     "name": "stdout",
     "output_type": "stream",
     "text": [
      "INFO - 07/22/25 19:16:03 - 0:00:06 - (1664/20000) Found 91/128 valid top-1 predictions. Generating solutions ...\n",
      "INFO - 07/22/25 19:16:03 - 0:00:06 -     Found 91/128 solutions in beam hypotheses.\n"
     ]
    },
    {
     "name": "stdout",
     "output_type": "stream",
     "text": [
      "INFO - 07/22/25 19:16:03 - 0:00:07 - (1792/20000) Found 86/128 valid top-1 predictions. Generating solutions ...\n",
      "INFO - 07/22/25 19:16:03 - 0:00:07 -     Found 86/128 solutions in beam hypotheses.\n"
     ]
    },
    {
     "name": "stdout",
     "output_type": "stream",
     "text": [
      "INFO - 07/22/25 19:16:03 - 0:00:07 - (1920/20000) Found 94/128 valid top-1 predictions. Generating solutions ...\n",
      "INFO - 07/22/25 19:16:03 - 0:00:07 -     Found 94/128 solutions in beam hypotheses.\n"
     ]
    },
    {
     "name": "stdout",
     "output_type": "stream",
     "text": [
      "INFO - 07/22/25 19:16:04 - 0:00:07 - (2048/20000) Found 90/128 valid top-1 predictions. Generating solutions ...\n",
      "INFO - 07/22/25 19:16:04 - 0:00:07 -     Found 90/128 solutions in beam hypotheses.\n"
     ]
    },
    {
     "name": "stdout",
     "output_type": "stream",
     "text": [
      "INFO - 07/22/25 19:16:04 - 0:00:07 - (2176/20000) Found 98/128 valid top-1 predictions. Generating solutions ...\n",
      "INFO - 07/22/25 19:16:04 - 0:00:08 -     Found 98/128 solutions in beam hypotheses.\n"
     ]
    },
    {
     "name": "stdout",
     "output_type": "stream",
     "text": [
      "INFO - 07/22/25 19:16:04 - 0:00:08 - (2304/20000) Found 89/128 valid top-1 predictions. Generating solutions ...\n",
      "INFO - 07/22/25 19:16:04 - 0:00:08 -     Found 89/128 solutions in beam hypotheses.\n"
     ]
    },
    {
     "name": "stdout",
     "output_type": "stream",
     "text": [
      "INFO - 07/22/25 19:16:05 - 0:00:08 - (2432/20000) Found 85/128 valid top-1 predictions. Generating solutions ...\n",
      "INFO - 07/22/25 19:16:05 - 0:00:08 -     Found 85/128 solutions in beam hypotheses.\n"
     ]
    },
    {
     "name": "stdout",
     "output_type": "stream",
     "text": [
      "INFO - 07/22/25 19:16:05 - 0:00:08 - (2560/20000) Found 90/128 valid top-1 predictions. Generating solutions ...\n",
      "INFO - 07/22/25 19:16:05 - 0:00:08 -     Found 90/128 solutions in beam hypotheses.\n"
     ]
    },
    {
     "name": "stdout",
     "output_type": "stream",
     "text": [
      "INFO - 07/22/25 19:16:05 - 0:00:09 - (2688/20000) Found 80/128 valid top-1 predictions. Generating solutions ...\n",
      "INFO - 07/22/25 19:16:05 - 0:00:09 -     Found 80/128 solutions in beam hypotheses.\n"
     ]
    },
    {
     "name": "stdout",
     "output_type": "stream",
     "text": [
      "INFO - 07/22/25 19:16:06 - 0:00:09 - (2816/20000) Found 86/128 valid top-1 predictions. Generating solutions ...\n",
      "INFO - 07/22/25 19:16:06 - 0:00:09 -     Found 86/128 solutions in beam hypotheses.\n"
     ]
    },
    {
     "name": "stdout",
     "output_type": "stream",
     "text": [
      "INFO - 07/22/25 19:16:06 - 0:00:09 - (2944/20000) Found 90/128 valid top-1 predictions. Generating solutions ...\n",
      "INFO - 07/22/25 19:16:06 - 0:00:09 -     Found 90/128 solutions in beam hypotheses.\n"
     ]
    },
    {
     "name": "stdout",
     "output_type": "stream",
     "text": [
      "INFO - 07/22/25 19:16:06 - 0:00:10 - (3072/20000) Found 87/128 valid top-1 predictions. Generating solutions ...\n",
      "INFO - 07/22/25 19:16:06 - 0:00:10 -     Found 87/128 solutions in beam hypotheses.\n"
     ]
    },
    {
     "name": "stdout",
     "output_type": "stream",
     "text": [
      "INFO - 07/22/25 19:16:06 - 0:00:10 - (3200/20000) Found 87/128 valid top-1 predictions. Generating solutions ...\n",
      "INFO - 07/22/25 19:16:06 - 0:00:10 -     Found 87/128 solutions in beam hypotheses.\n"
     ]
    },
    {
     "name": "stdout",
     "output_type": "stream",
     "text": [
      "INFO - 07/22/25 19:16:07 - 0:00:10 - (3328/20000) Found 93/128 valid top-1 predictions. Generating solutions ...\n",
      "INFO - 07/22/25 19:16:07 - 0:00:10 -     Found 93/128 solutions in beam hypotheses.\n"
     ]
    },
    {
     "name": "stdout",
     "output_type": "stream",
     "text": [
      "INFO - 07/22/25 19:16:07 - 0:00:10 - (3456/20000) Found 89/128 valid top-1 predictions. Generating solutions ...\n",
      "INFO - 07/22/25 19:16:07 - 0:00:11 -     Found 89/128 solutions in beam hypotheses.\n"
     ]
    },
    {
     "name": "stdout",
     "output_type": "stream",
     "text": [
      "INFO - 07/22/25 19:16:07 - 0:00:11 - (3584/20000) Found 87/128 valid top-1 predictions. Generating solutions ...\n",
      "INFO - 07/22/25 19:16:07 - 0:00:11 -     Found 87/128 solutions in beam hypotheses.\n"
     ]
    },
    {
     "name": "stdout",
     "output_type": "stream",
     "text": [
      "INFO - 07/22/25 19:16:08 - 0:00:11 - (3712/20000) Found 86/128 valid top-1 predictions. Generating solutions ...\n",
      "INFO - 07/22/25 19:16:08 - 0:00:11 -     Found 86/128 solutions in beam hypotheses.\n"
     ]
    },
    {
     "name": "stdout",
     "output_type": "stream",
     "text": [
      "INFO - 07/22/25 19:16:08 - 0:00:11 - (3840/20000) Found 85/128 valid top-1 predictions. Generating solutions ...\n",
      "INFO - 07/22/25 19:16:08 - 0:00:11 -     Found 85/128 solutions in beam hypotheses.\n"
     ]
    },
    {
     "name": "stdout",
     "output_type": "stream",
     "text": [
      "INFO - 07/22/25 19:16:08 - 0:00:12 - (3968/20000) Found 90/128 valid top-1 predictions. Generating solutions ...\n",
      "INFO - 07/22/25 19:16:08 - 0:00:12 -     Found 90/128 solutions in beam hypotheses.\n"
     ]
    },
    {
     "name": "stdout",
     "output_type": "stream",
     "text": [
      "INFO - 07/22/25 19:16:09 - 0:00:12 - (4096/20000) Found 93/128 valid top-1 predictions. Generating solutions ...\n",
      "INFO - 07/22/25 19:16:09 - 0:00:12 -     Found 93/128 solutions in beam hypotheses.\n"
     ]
    },
    {
     "name": "stdout",
     "output_type": "stream",
     "text": [
      "INFO - 07/22/25 19:16:09 - 0:00:12 - (4224/20000) Found 93/128 valid top-1 predictions. Generating solutions ...\n",
      "INFO - 07/22/25 19:16:09 - 0:00:12 -     Found 93/128 solutions in beam hypotheses.\n"
     ]
    },
    {
     "name": "stdout",
     "output_type": "stream",
     "text": [
      "INFO - 07/22/25 19:16:09 - 0:00:13 - (4352/20000) Found 86/128 valid top-1 predictions. Generating solutions ...\n",
      "INFO - 07/22/25 19:16:09 - 0:00:13 -     Found 86/128 solutions in beam hypotheses.\n"
     ]
    },
    {
     "name": "stdout",
     "output_type": "stream",
     "text": [
      "INFO - 07/22/25 19:16:09 - 0:00:13 - (4480/20000) Found 90/128 valid top-1 predictions. Generating solutions ...\n",
      "INFO - 07/22/25 19:16:10 - 0:00:13 -     Found 90/128 solutions in beam hypotheses.\n"
     ]
    },
    {
     "name": "stdout",
     "output_type": "stream",
     "text": [
      "INFO - 07/22/25 19:16:10 - 0:00:13 - (4608/20000) Found 83/128 valid top-1 predictions. Generating solutions ...\n",
      "INFO - 07/22/25 19:16:10 - 0:00:13 -     Found 83/128 solutions in beam hypotheses.\n"
     ]
    },
    {
     "name": "stdout",
     "output_type": "stream",
     "text": [
      "INFO - 07/22/25 19:16:10 - 0:00:13 - (4736/20000) Found 86/128 valid top-1 predictions. Generating solutions ...\n",
      "INFO - 07/22/25 19:16:10 - 0:00:14 -     Found 86/128 solutions in beam hypotheses.\n"
     ]
    },
    {
     "name": "stdout",
     "output_type": "stream",
     "text": [
      "INFO - 07/22/25 19:16:10 - 0:00:14 - (4864/20000) Found 86/128 valid top-1 predictions. Generating solutions ...\n",
      "INFO - 07/22/25 19:16:10 - 0:00:14 -     Found 86/128 solutions in beam hypotheses.\n"
     ]
    },
    {
     "name": "stdout",
     "output_type": "stream",
     "text": [
      "INFO - 07/22/25 19:16:11 - 0:00:14 - (4992/20000) Found 94/128 valid top-1 predictions. Generating solutions ...\n",
      "INFO - 07/22/25 19:16:11 - 0:00:14 -     Found 94/128 solutions in beam hypotheses.\n"
     ]
    },
    {
     "name": "stdout",
     "output_type": "stream",
     "text": [
      "INFO - 07/22/25 19:16:11 - 0:00:14 - (5120/20000) Found 89/128 valid top-1 predictions. Generating solutions ...\n",
      "INFO - 07/22/25 19:16:11 - 0:00:14 -     Found 89/128 solutions in beam hypotheses.\n"
     ]
    },
    {
     "name": "stdout",
     "output_type": "stream",
     "text": [
      "INFO - 07/22/25 19:16:11 - 0:00:15 - (5248/20000) Found 99/128 valid top-1 predictions. Generating solutions ...\n",
      "INFO - 07/22/25 19:16:11 - 0:00:15 -     Found 99/128 solutions in beam hypotheses.\n"
     ]
    },
    {
     "name": "stdout",
     "output_type": "stream",
     "text": [
      "INFO - 07/22/25 19:16:12 - 0:00:15 - (5376/20000) Found 83/128 valid top-1 predictions. Generating solutions ...\n",
      "INFO - 07/22/25 19:16:12 - 0:00:15 -     Found 83/128 solutions in beam hypotheses.\n"
     ]
    },
    {
     "name": "stdout",
     "output_type": "stream",
     "text": [
      "INFO - 07/22/25 19:16:12 - 0:00:15 - (5504/20000) Found 86/128 valid top-1 predictions. Generating solutions ...\n",
      "INFO - 07/22/25 19:16:12 - 0:00:15 -     Found 86/128 solutions in beam hypotheses.\n"
     ]
    },
    {
     "name": "stdout",
     "output_type": "stream",
     "text": [
      "INFO - 07/22/25 19:16:12 - 0:00:16 - (5632/20000) Found 78/128 valid top-1 predictions. Generating solutions ...\n",
      "INFO - 07/22/25 19:16:12 - 0:00:16 -     Found 78/128 solutions in beam hypotheses.\n"
     ]
    },
    {
     "name": "stdout",
     "output_type": "stream",
     "text": [
      "INFO - 07/22/25 19:16:12 - 0:00:16 - (5760/20000) Found 88/128 valid top-1 predictions. Generating solutions ...\n",
      "INFO - 07/22/25 19:16:13 - 0:00:16 -     Found 88/128 solutions in beam hypotheses.\n"
     ]
    },
    {
     "name": "stdout",
     "output_type": "stream",
     "text": [
      "INFO - 07/22/25 19:16:13 - 0:00:16 - (5888/20000) Found 86/128 valid top-1 predictions. Generating solutions ...\n",
      "INFO - 07/22/25 19:16:13 - 0:00:16 -     Found 86/128 solutions in beam hypotheses.\n"
     ]
    },
    {
     "name": "stdout",
     "output_type": "stream",
     "text": [
      "INFO - 07/22/25 19:16:13 - 0:00:17 - (6016/20000) Found 83/128 valid top-1 predictions. Generating solutions ...\n",
      "INFO - 07/22/25 19:16:13 - 0:00:17 -     Found 83/128 solutions in beam hypotheses.\n"
     ]
    },
    {
     "name": "stdout",
     "output_type": "stream",
     "text": [
      "INFO - 07/22/25 19:16:13 - 0:00:17 - (6144/20000) Found 91/128 valid top-1 predictions. Generating solutions ...\n",
      "INFO - 07/22/25 19:16:13 - 0:00:17 -     Found 91/128 solutions in beam hypotheses.\n"
     ]
    },
    {
     "name": "stdout",
     "output_type": "stream",
     "text": [
      "INFO - 07/22/25 19:16:14 - 0:00:17 - (6272/20000) Found 81/128 valid top-1 predictions. Generating solutions ...\n",
      "INFO - 07/22/25 19:16:14 - 0:00:17 -     Found 81/128 solutions in beam hypotheses.\n"
     ]
    },
    {
     "name": "stdout",
     "output_type": "stream",
     "text": [
      "INFO - 07/22/25 19:16:14 - 0:00:17 - (6400/20000) Found 89/128 valid top-1 predictions. Generating solutions ...\n",
      "INFO - 07/22/25 19:16:14 - 0:00:17 -     Found 89/128 solutions in beam hypotheses.\n"
     ]
    },
    {
     "name": "stdout",
     "output_type": "stream",
     "text": [
      "INFO - 07/22/25 19:16:14 - 0:00:18 - (6528/20000) Found 90/128 valid top-1 predictions. Generating solutions ...\n",
      "INFO - 07/22/25 19:16:14 - 0:00:18 -     Found 90/128 solutions in beam hypotheses.\n"
     ]
    },
    {
     "name": "stdout",
     "output_type": "stream",
     "text": [
      "INFO - 07/22/25 19:16:15 - 0:00:18 - (6656/20000) Found 79/128 valid top-1 predictions. Generating solutions ...\n",
      "INFO - 07/22/25 19:16:15 - 0:00:18 -     Found 79/128 solutions in beam hypotheses.\n"
     ]
    },
    {
     "name": "stdout",
     "output_type": "stream",
     "text": [
      "INFO - 07/22/25 19:16:15 - 0:00:18 - (6784/20000) Found 84/128 valid top-1 predictions. Generating solutions ...\n",
      "INFO - 07/22/25 19:16:15 - 0:00:18 -     Found 84/128 solutions in beam hypotheses.\n"
     ]
    },
    {
     "name": "stdout",
     "output_type": "stream",
     "text": [
      "INFO - 07/22/25 19:16:15 - 0:00:19 - (6912/20000) Found 84/128 valid top-1 predictions. Generating solutions ...\n",
      "INFO - 07/22/25 19:16:15 - 0:00:19 -     Found 84/128 solutions in beam hypotheses.\n"
     ]
    },
    {
     "name": "stdout",
     "output_type": "stream",
     "text": [
      "INFO - 07/22/25 19:16:16 - 0:00:19 - (7040/20000) Found 81/128 valid top-1 predictions. Generating solutions ...\n",
      "INFO - 07/22/25 19:16:16 - 0:00:19 -     Found 81/128 solutions in beam hypotheses.\n"
     ]
    },
    {
     "name": "stdout",
     "output_type": "stream",
     "text": [
      "INFO - 07/22/25 19:16:16 - 0:00:19 - (7168/20000) Found 89/128 valid top-1 predictions. Generating solutions ...\n",
      "INFO - 07/22/25 19:16:16 - 0:00:19 -     Found 89/128 solutions in beam hypotheses.\n"
     ]
    },
    {
     "name": "stdout",
     "output_type": "stream",
     "text": [
      "INFO - 07/22/25 19:16:16 - 0:00:20 - (7296/20000) Found 87/128 valid top-1 predictions. Generating solutions ...\n",
      "INFO - 07/22/25 19:16:16 - 0:00:20 -     Found 87/128 solutions in beam hypotheses.\n"
     ]
    },
    {
     "name": "stdout",
     "output_type": "stream",
     "text": [
      "INFO - 07/22/25 19:16:16 - 0:00:20 - (7424/20000) Found 79/128 valid top-1 predictions. Generating solutions ...\n",
      "INFO - 07/22/25 19:16:16 - 0:00:20 -     Found 79/128 solutions in beam hypotheses.\n"
     ]
    },
    {
     "name": "stdout",
     "output_type": "stream",
     "text": [
      "INFO - 07/22/25 19:16:17 - 0:00:20 - (7552/20000) Found 85/128 valid top-1 predictions. Generating solutions ...\n",
      "INFO - 07/22/25 19:16:17 - 0:00:20 -     Found 85/128 solutions in beam hypotheses.\n"
     ]
    },
    {
     "name": "stdout",
     "output_type": "stream",
     "text": [
      "INFO - 07/22/25 19:16:17 - 0:00:20 - (7680/20000) Found 89/128 valid top-1 predictions. Generating solutions ...\n",
      "INFO - 07/22/25 19:16:17 - 0:00:21 -     Found 89/128 solutions in beam hypotheses.\n"
     ]
    },
    {
     "name": "stdout",
     "output_type": "stream",
     "text": [
      "INFO - 07/22/25 19:16:17 - 0:00:21 - (7808/20000) Found 82/128 valid top-1 predictions. Generating solutions ...\n",
      "INFO - 07/22/25 19:16:17 - 0:00:21 -     Found 82/128 solutions in beam hypotheses.\n"
     ]
    },
    {
     "name": "stdout",
     "output_type": "stream",
     "text": [
      "INFO - 07/22/25 19:16:18 - 0:00:21 - (7936/20000) Found 89/128 valid top-1 predictions. Generating solutions ...\n",
      "INFO - 07/22/25 19:16:18 - 0:00:21 -     Found 89/128 solutions in beam hypotheses.\n"
     ]
    },
    {
     "name": "stdout",
     "output_type": "stream",
     "text": [
      "INFO - 07/22/25 19:16:18 - 0:00:21 - (8064/20000) Found 89/128 valid top-1 predictions. Generating solutions ...\n",
      "INFO - 07/22/25 19:16:18 - 0:00:21 -     Found 89/128 solutions in beam hypotheses.\n"
     ]
    },
    {
     "name": "stdout",
     "output_type": "stream",
     "text": [
      "INFO - 07/22/25 19:16:18 - 0:00:22 - (8192/20000) Found 77/128 valid top-1 predictions. Generating solutions ...\n",
      "INFO - 07/22/25 19:16:18 - 0:00:22 -     Found 77/128 solutions in beam hypotheses.\n"
     ]
    },
    {
     "name": "stdout",
     "output_type": "stream",
     "text": [
      "INFO - 07/22/25 19:16:19 - 0:00:22 - (8320/20000) Found 92/128 valid top-1 predictions. Generating solutions ...\n",
      "INFO - 07/22/25 19:16:19 - 0:00:22 -     Found 92/128 solutions in beam hypotheses.\n"
     ]
    },
    {
     "name": "stdout",
     "output_type": "stream",
     "text": [
      "INFO - 07/22/25 19:16:19 - 0:00:22 - (8448/20000) Found 95/128 valid top-1 predictions. Generating solutions ...\n",
      "INFO - 07/22/25 19:16:19 - 0:00:22 -     Found 95/128 solutions in beam hypotheses.\n"
     ]
    },
    {
     "name": "stdout",
     "output_type": "stream",
     "text": [
      "INFO - 07/22/25 19:16:19 - 0:00:23 - (8576/20000) Found 90/128 valid top-1 predictions. Generating solutions ...\n",
      "INFO - 07/22/25 19:16:19 - 0:00:23 -     Found 90/128 solutions in beam hypotheses.\n"
     ]
    },
    {
     "name": "stdout",
     "output_type": "stream",
     "text": [
      "INFO - 07/22/25 19:16:19 - 0:00:23 - (8704/20000) Found 84/128 valid top-1 predictions. Generating solutions ...\n",
      "INFO - 07/22/25 19:16:20 - 0:00:23 -     Found 84/128 solutions in beam hypotheses.\n"
     ]
    },
    {
     "name": "stdout",
     "output_type": "stream",
     "text": [
      "INFO - 07/22/25 19:16:20 - 0:00:23 - (8832/20000) Found 94/128 valid top-1 predictions. Generating solutions ...\n",
      "INFO - 07/22/25 19:16:20 - 0:00:23 -     Found 94/128 solutions in beam hypotheses.\n"
     ]
    },
    {
     "name": "stdout",
     "output_type": "stream",
     "text": [
      "INFO - 07/22/25 19:16:20 - 0:00:23 - (8960/20000) Found 81/128 valid top-1 predictions. Generating solutions ...\n",
      "INFO - 07/22/25 19:16:20 - 0:00:24 -     Found 81/128 solutions in beam hypotheses.\n"
     ]
    },
    {
     "name": "stdout",
     "output_type": "stream",
     "text": [
      "INFO - 07/22/25 19:16:20 - 0:00:24 - (9088/20000) Found 87/128 valid top-1 predictions. Generating solutions ...\n",
      "INFO - 07/22/25 19:16:20 - 0:00:24 -     Found 87/128 solutions in beam hypotheses.\n"
     ]
    },
    {
     "name": "stdout",
     "output_type": "stream",
     "text": [
      "INFO - 07/22/25 19:16:21 - 0:00:24 - (9216/20000) Found 85/128 valid top-1 predictions. Generating solutions ...\n",
      "INFO - 07/22/25 19:16:21 - 0:00:24 -     Found 85/128 solutions in beam hypotheses.\n"
     ]
    },
    {
     "name": "stdout",
     "output_type": "stream",
     "text": [
      "INFO - 07/22/25 19:16:21 - 0:00:24 - (9344/20000) Found 84/128 valid top-1 predictions. Generating solutions ...\n",
      "INFO - 07/22/25 19:16:21 - 0:00:24 -     Found 84/128 solutions in beam hypotheses.\n"
     ]
    },
    {
     "name": "stdout",
     "output_type": "stream",
     "text": [
      "INFO - 07/22/25 19:16:21 - 0:00:25 - (9472/20000) Found 84/128 valid top-1 predictions. Generating solutions ...\n",
      "INFO - 07/22/25 19:16:21 - 0:00:25 -     Found 84/128 solutions in beam hypotheses.\n"
     ]
    },
    {
     "name": "stdout",
     "output_type": "stream",
     "text": [
      "INFO - 07/22/25 19:16:22 - 0:00:25 - (9600/20000) Found 85/128 valid top-1 predictions. Generating solutions ...\n",
      "INFO - 07/22/25 19:16:22 - 0:00:25 -     Found 85/128 solutions in beam hypotheses.\n"
     ]
    },
    {
     "name": "stdout",
     "output_type": "stream",
     "text": [
      "INFO - 07/22/25 19:16:22 - 0:00:25 - (9728/20000) Found 75/128 valid top-1 predictions. Generating solutions ...\n",
      "INFO - 07/22/25 19:16:22 - 0:00:25 -     Found 75/128 solutions in beam hypotheses.\n"
     ]
    },
    {
     "name": "stdout",
     "output_type": "stream",
     "text": [
      "INFO - 07/22/25 19:16:22 - 0:00:26 - (9856/20000) Found 71/128 valid top-1 predictions. Generating solutions ...\n",
      "INFO - 07/22/25 19:16:22 - 0:00:26 -     Found 71/128 solutions in beam hypotheses.\n"
     ]
    },
    {
     "name": "stdout",
     "output_type": "stream",
     "text": [
      "INFO - 07/22/25 19:16:22 - 0:00:26 - (9984/20000) Found 79/128 valid top-1 predictions. Generating solutions ...\n",
      "INFO - 07/22/25 19:16:23 - 0:00:26 -     Found 79/128 solutions in beam hypotheses.\n"
     ]
    },
    {
     "name": "stdout",
     "output_type": "stream",
     "text": [
      "INFO - 07/22/25 19:16:23 - 0:00:26 - (10112/20000) Found 89/128 valid top-1 predictions. Generating solutions ...\n",
      "INFO - 07/22/25 19:16:23 - 0:00:26 -     Found 89/128 solutions in beam hypotheses.\n"
     ]
    },
    {
     "name": "stdout",
     "output_type": "stream",
     "text": [
      "INFO - 07/22/25 19:16:23 - 0:00:27 - (10240/20000) Found 92/128 valid top-1 predictions. Generating solutions ...\n",
      "INFO - 07/22/25 19:16:23 - 0:00:27 -     Found 92/128 solutions in beam hypotheses.\n"
     ]
    },
    {
     "name": "stdout",
     "output_type": "stream",
     "text": [
      "INFO - 07/22/25 19:16:23 - 0:00:27 - (10368/20000) Found 82/128 valid top-1 predictions. Generating solutions ...\n",
      "INFO - 07/22/25 19:16:23 - 0:00:27 -     Found 82/128 solutions in beam hypotheses.\n"
     ]
    },
    {
     "name": "stdout",
     "output_type": "stream",
     "text": [
      "INFO - 07/22/25 19:16:24 - 0:00:27 - (10496/20000) Found 80/128 valid top-1 predictions. Generating solutions ...\n",
      "INFO - 07/22/25 19:16:24 - 0:00:27 -     Found 80/128 solutions in beam hypotheses.\n"
     ]
    },
    {
     "name": "stdout",
     "output_type": "stream",
     "text": [
      "INFO - 07/22/25 19:16:24 - 0:00:27 - (10624/20000) Found 91/128 valid top-1 predictions. Generating solutions ...\n",
      "INFO - 07/22/25 19:16:24 - 0:00:27 -     Found 91/128 solutions in beam hypotheses.\n"
     ]
    },
    {
     "name": "stdout",
     "output_type": "stream",
     "text": [
      "INFO - 07/22/25 19:16:24 - 0:00:28 - (10752/20000) Found 90/128 valid top-1 predictions. Generating solutions ...\n",
      "INFO - 07/22/25 19:16:24 - 0:00:28 -     Found 90/128 solutions in beam hypotheses.\n"
     ]
    },
    {
     "name": "stdout",
     "output_type": "stream",
     "text": [
      "INFO - 07/22/25 19:16:25 - 0:00:28 - (10880/20000) Found 84/128 valid top-1 predictions. Generating solutions ...\n",
      "INFO - 07/22/25 19:16:25 - 0:00:28 -     Found 84/128 solutions in beam hypotheses.\n"
     ]
    },
    {
     "name": "stdout",
     "output_type": "stream",
     "text": [
      "INFO - 07/22/25 19:16:25 - 0:00:28 - (11008/20000) Found 87/128 valid top-1 predictions. Generating solutions ...\n",
      "INFO - 07/22/25 19:16:25 - 0:00:28 -     Found 87/128 solutions in beam hypotheses.\n"
     ]
    },
    {
     "name": "stdout",
     "output_type": "stream",
     "text": [
      "INFO - 07/22/25 19:16:25 - 0:00:29 - (11136/20000) Found 90/128 valid top-1 predictions. Generating solutions ...\n",
      "INFO - 07/22/25 19:16:25 - 0:00:29 -     Found 90/128 solutions in beam hypotheses.\n"
     ]
    },
    {
     "name": "stdout",
     "output_type": "stream",
     "text": [
      "INFO - 07/22/25 19:16:26 - 0:00:29 - (11264/20000) Found 77/128 valid top-1 predictions. Generating solutions ...\n",
      "INFO - 07/22/25 19:16:26 - 0:00:29 -     Found 77/128 solutions in beam hypotheses.\n"
     ]
    },
    {
     "name": "stdout",
     "output_type": "stream",
     "text": [
      "INFO - 07/22/25 19:16:26 - 0:00:29 - (11392/20000) Found 96/128 valid top-1 predictions. Generating solutions ...\n",
      "INFO - 07/22/25 19:16:26 - 0:00:29 -     Found 96/128 solutions in beam hypotheses.\n"
     ]
    },
    {
     "name": "stdout",
     "output_type": "stream",
     "text": [
      "INFO - 07/22/25 19:16:26 - 0:00:30 - (11520/20000) Found 89/128 valid top-1 predictions. Generating solutions ...\n",
      "INFO - 07/22/25 19:16:26 - 0:00:30 -     Found 89/128 solutions in beam hypotheses.\n"
     ]
    },
    {
     "name": "stdout",
     "output_type": "stream",
     "text": [
      "INFO - 07/22/25 19:16:26 - 0:00:30 - (11648/20000) Found 86/128 valid top-1 predictions. Generating solutions ...\n",
      "INFO - 07/22/25 19:16:26 - 0:00:30 -     Found 86/128 solutions in beam hypotheses.\n"
     ]
    },
    {
     "name": "stdout",
     "output_type": "stream",
     "text": [
      "INFO - 07/22/25 19:16:27 - 0:00:30 - (11776/20000) Found 92/128 valid top-1 predictions. Generating solutions ...\n",
      "INFO - 07/22/25 19:16:27 - 0:00:30 -     Found 92/128 solutions in beam hypotheses.\n"
     ]
    },
    {
     "name": "stdout",
     "output_type": "stream",
     "text": [
      "INFO - 07/22/25 19:16:27 - 0:00:30 - (11904/20000) Found 90/128 valid top-1 predictions. Generating solutions ...\n",
      "INFO - 07/22/25 19:16:27 - 0:00:31 -     Found 90/128 solutions in beam hypotheses.\n"
     ]
    },
    {
     "name": "stdout",
     "output_type": "stream",
     "text": [
      "INFO - 07/22/25 19:16:27 - 0:00:31 - (12032/20000) Found 81/128 valid top-1 predictions. Generating solutions ...\n",
      "INFO - 07/22/25 19:16:27 - 0:00:31 -     Found 81/128 solutions in beam hypotheses.\n"
     ]
    },
    {
     "name": "stdout",
     "output_type": "stream",
     "text": [
      "INFO - 07/22/25 19:16:28 - 0:00:31 - (12160/20000) Found 88/128 valid top-1 predictions. Generating solutions ...\n",
      "INFO - 07/22/25 19:16:28 - 0:00:31 -     Found 88/128 solutions in beam hypotheses.\n"
     ]
    },
    {
     "name": "stdout",
     "output_type": "stream",
     "text": [
      "INFO - 07/22/25 19:16:28 - 0:00:31 - (12288/20000) Found 87/128 valid top-1 predictions. Generating solutions ...\n",
      "INFO - 07/22/25 19:16:28 - 0:00:31 -     Found 87/128 solutions in beam hypotheses.\n"
     ]
    },
    {
     "name": "stdout",
     "output_type": "stream",
     "text": [
      "INFO - 07/22/25 19:16:28 - 0:00:32 - (12416/20000) Found 86/128 valid top-1 predictions. Generating solutions ...\n",
      "INFO - 07/22/25 19:16:28 - 0:00:32 -     Found 86/128 solutions in beam hypotheses.\n"
     ]
    },
    {
     "name": "stdout",
     "output_type": "stream",
     "text": [
      "INFO - 07/22/25 19:16:29 - 0:00:32 - (12544/20000) Found 84/128 valid top-1 predictions. Generating solutions ...\n",
      "INFO - 07/22/25 19:16:29 - 0:00:32 -     Found 84/128 solutions in beam hypotheses.\n"
     ]
    },
    {
     "name": "stdout",
     "output_type": "stream",
     "text": [
      "INFO - 07/22/25 19:16:29 - 0:00:32 - (12672/20000) Found 90/128 valid top-1 predictions. Generating solutions ...\n",
      "INFO - 07/22/25 19:16:29 - 0:00:32 -     Found 90/128 solutions in beam hypotheses.\n"
     ]
    },
    {
     "name": "stdout",
     "output_type": "stream",
     "text": [
      "INFO - 07/22/25 19:16:29 - 0:00:33 - (12800/20000) Found 83/128 valid top-1 predictions. Generating solutions ...\n",
      "INFO - 07/22/25 19:16:29 - 0:00:33 -     Found 83/128 solutions in beam hypotheses.\n"
     ]
    },
    {
     "name": "stdout",
     "output_type": "stream",
     "text": [
      "INFO - 07/22/25 19:16:29 - 0:00:33 - (12928/20000) Found 89/128 valid top-1 predictions. Generating solutions ...\n",
      "INFO - 07/22/25 19:16:30 - 0:00:33 -     Found 89/128 solutions in beam hypotheses.\n"
     ]
    },
    {
     "name": "stdout",
     "output_type": "stream",
     "text": [
      "INFO - 07/22/25 19:16:30 - 0:00:33 - (13056/20000) Found 81/128 valid top-1 predictions. Generating solutions ...\n",
      "INFO - 07/22/25 19:16:30 - 0:00:33 -     Found 81/128 solutions in beam hypotheses.\n"
     ]
    },
    {
     "name": "stdout",
     "output_type": "stream",
     "text": [
      "INFO - 07/22/25 19:16:30 - 0:00:34 - (13184/20000) Found 93/128 valid top-1 predictions. Generating solutions ...\n",
      "INFO - 07/22/25 19:16:30 - 0:00:34 -     Found 93/128 solutions in beam hypotheses.\n"
     ]
    },
    {
     "name": "stdout",
     "output_type": "stream",
     "text": [
      "INFO - 07/22/25 19:16:30 - 0:00:34 - (13312/20000) Found 94/128 valid top-1 predictions. Generating solutions ...\n",
      "INFO - 07/22/25 19:16:30 - 0:00:34 -     Found 94/128 solutions in beam hypotheses.\n"
     ]
    },
    {
     "name": "stdout",
     "output_type": "stream",
     "text": [
      "INFO - 07/22/25 19:16:31 - 0:00:34 - (13440/20000) Found 89/128 valid top-1 predictions. Generating solutions ...\n",
      "INFO - 07/22/25 19:16:31 - 0:00:34 -     Found 89/128 solutions in beam hypotheses.\n"
     ]
    },
    {
     "name": "stdout",
     "output_type": "stream",
     "text": [
      "INFO - 07/22/25 19:16:31 - 0:00:34 - (13568/20000) Found 89/128 valid top-1 predictions. Generating solutions ...\n",
      "INFO - 07/22/25 19:16:31 - 0:00:34 -     Found 89/128 solutions in beam hypotheses.\n"
     ]
    },
    {
     "name": "stdout",
     "output_type": "stream",
     "text": [
      "INFO - 07/22/25 19:16:31 - 0:00:35 - (13696/20000) Found 89/128 valid top-1 predictions. Generating solutions ...\n",
      "INFO - 07/22/25 19:16:31 - 0:00:35 -     Found 89/128 solutions in beam hypotheses.\n"
     ]
    },
    {
     "name": "stdout",
     "output_type": "stream",
     "text": [
      "INFO - 07/22/25 19:16:32 - 0:00:35 - (13824/20000) Found 88/128 valid top-1 predictions. Generating solutions ...\n",
      "INFO - 07/22/25 19:16:32 - 0:00:35 -     Found 88/128 solutions in beam hypotheses.\n"
     ]
    },
    {
     "name": "stdout",
     "output_type": "stream",
     "text": [
      "INFO - 07/22/25 19:16:32 - 0:00:35 - (13952/20000) Found 85/128 valid top-1 predictions. Generating solutions ...\n",
      "INFO - 07/22/25 19:16:32 - 0:00:35 -     Found 85/128 solutions in beam hypotheses.\n"
     ]
    },
    {
     "name": "stdout",
     "output_type": "stream",
     "text": [
      "INFO - 07/22/25 19:16:32 - 0:00:36 - (14080/20000) Found 84/128 valid top-1 predictions. Generating solutions ...\n",
      "INFO - 07/22/25 19:16:32 - 0:00:36 -     Found 84/128 solutions in beam hypotheses.\n"
     ]
    },
    {
     "name": "stdout",
     "output_type": "stream",
     "text": [
      "INFO - 07/22/25 19:16:33 - 0:00:36 - (14208/20000) Found 87/128 valid top-1 predictions. Generating solutions ...\n",
      "INFO - 07/22/25 19:16:33 - 0:00:36 -     Found 87/128 solutions in beam hypotheses.\n"
     ]
    },
    {
     "name": "stdout",
     "output_type": "stream",
     "text": [
      "INFO - 07/22/25 19:16:33 - 0:00:36 - (14336/20000) Found 88/128 valid top-1 predictions. Generating solutions ...\n",
      "INFO - 07/22/25 19:16:33 - 0:00:36 -     Found 88/128 solutions in beam hypotheses.\n"
     ]
    },
    {
     "name": "stdout",
     "output_type": "stream",
     "text": [
      "INFO - 07/22/25 19:16:33 - 0:00:37 - (14464/20000) Found 92/128 valid top-1 predictions. Generating solutions ...\n",
      "INFO - 07/22/25 19:16:33 - 0:00:37 -     Found 92/128 solutions in beam hypotheses.\n"
     ]
    },
    {
     "name": "stdout",
     "output_type": "stream",
     "text": [
      "INFO - 07/22/25 19:16:33 - 0:00:37 - (14592/20000) Found 88/128 valid top-1 predictions. Generating solutions ...\n",
      "INFO - 07/22/25 19:16:33 - 0:00:37 -     Found 88/128 solutions in beam hypotheses.\n"
     ]
    },
    {
     "name": "stdout",
     "output_type": "stream",
     "text": [
      "INFO - 07/22/25 19:16:34 - 0:00:37 - (14720/20000) Found 85/128 valid top-1 predictions. Generating solutions ...\n",
      "INFO - 07/22/25 19:16:34 - 0:00:37 -     Found 85/128 solutions in beam hypotheses.\n"
     ]
    },
    {
     "name": "stdout",
     "output_type": "stream",
     "text": [
      "INFO - 07/22/25 19:16:34 - 0:00:37 - (14848/20000) Found 88/128 valid top-1 predictions. Generating solutions ...\n",
      "INFO - 07/22/25 19:16:34 - 0:00:37 -     Found 88/128 solutions in beam hypotheses.\n"
     ]
    },
    {
     "name": "stdout",
     "output_type": "stream",
     "text": [
      "INFO - 07/22/25 19:16:34 - 0:00:38 - (14976/20000) Found 81/128 valid top-1 predictions. Generating solutions ...\n",
      "INFO - 07/22/25 19:16:34 - 0:00:38 -     Found 81/128 solutions in beam hypotheses.\n"
     ]
    },
    {
     "name": "stdout",
     "output_type": "stream",
     "text": [
      "INFO - 07/22/25 19:16:35 - 0:00:38 - (15104/20000) Found 94/128 valid top-1 predictions. Generating solutions ...\n",
      "INFO - 07/22/25 19:16:35 - 0:00:38 -     Found 94/128 solutions in beam hypotheses.\n"
     ]
    },
    {
     "name": "stdout",
     "output_type": "stream",
     "text": [
      "INFO - 07/22/25 19:16:35 - 0:00:38 - (15232/20000) Found 93/128 valid top-1 predictions. Generating solutions ...\n",
      "INFO - 07/22/25 19:16:35 - 0:00:38 -     Found 93/128 solutions in beam hypotheses.\n"
     ]
    },
    {
     "name": "stdout",
     "output_type": "stream",
     "text": [
      "INFO - 07/22/25 19:16:35 - 0:00:39 - (15360/20000) Found 90/128 valid top-1 predictions. Generating solutions ...\n",
      "INFO - 07/22/25 19:16:35 - 0:00:39 -     Found 90/128 solutions in beam hypotheses.\n"
     ]
    },
    {
     "name": "stdout",
     "output_type": "stream",
     "text": [
      "INFO - 07/22/25 19:16:36 - 0:00:39 - (15488/20000) Found 85/128 valid top-1 predictions. Generating solutions ...\n",
      "INFO - 07/22/25 19:16:36 - 0:00:39 -     Found 85/128 solutions in beam hypotheses.\n"
     ]
    },
    {
     "name": "stdout",
     "output_type": "stream",
     "text": [
      "INFO - 07/22/25 19:16:36 - 0:00:39 - (15616/20000) Found 89/128 valid top-1 predictions. Generating solutions ...\n",
      "INFO - 07/22/25 19:16:36 - 0:00:39 -     Found 89/128 solutions in beam hypotheses.\n"
     ]
    },
    {
     "name": "stdout",
     "output_type": "stream",
     "text": [
      "INFO - 07/22/25 19:16:36 - 0:00:40 - (15744/20000) Found 87/128 valid top-1 predictions. Generating solutions ...\n",
      "INFO - 07/22/25 19:16:36 - 0:00:40 -     Found 87/128 solutions in beam hypotheses.\n"
     ]
    },
    {
     "name": "stdout",
     "output_type": "stream",
     "text": [
      "INFO - 07/22/25 19:16:36 - 0:00:40 - (15872/20000) Found 88/128 valid top-1 predictions. Generating solutions ...\n",
      "INFO - 07/22/25 19:16:36 - 0:00:40 -     Found 88/128 solutions in beam hypotheses.\n"
     ]
    },
    {
     "name": "stdout",
     "output_type": "stream",
     "text": [
      "INFO - 07/22/25 19:16:37 - 0:00:40 - (16000/20000) Found 87/128 valid top-1 predictions. Generating solutions ...\n",
      "INFO - 07/22/25 19:16:37 - 0:00:40 -     Found 87/128 solutions in beam hypotheses.\n"
     ]
    },
    {
     "name": "stdout",
     "output_type": "stream",
     "text": [
      "INFO - 07/22/25 19:16:37 - 0:00:40 - (16128/20000) Found 81/128 valid top-1 predictions. Generating solutions ...\n",
      "INFO - 07/22/25 19:16:37 - 0:00:41 -     Found 81/128 solutions in beam hypotheses.\n"
     ]
    },
    {
     "name": "stdout",
     "output_type": "stream",
     "text": [
      "INFO - 07/22/25 19:16:37 - 0:00:41 - (16256/20000) Found 84/128 valid top-1 predictions. Generating solutions ...\n",
      "INFO - 07/22/25 19:16:37 - 0:00:41 -     Found 84/128 solutions in beam hypotheses.\n"
     ]
    },
    {
     "name": "stdout",
     "output_type": "stream",
     "text": [
      "INFO - 07/22/25 19:16:38 - 0:00:41 - (16384/20000) Found 87/128 valid top-1 predictions. Generating solutions ...\n",
      "INFO - 07/22/25 19:16:38 - 0:00:41 -     Found 87/128 solutions in beam hypotheses.\n"
     ]
    },
    {
     "name": "stdout",
     "output_type": "stream",
     "text": [
      "INFO - 07/22/25 19:16:38 - 0:00:41 - (16512/20000) Found 89/128 valid top-1 predictions. Generating solutions ...\n",
      "INFO - 07/22/25 19:16:38 - 0:00:41 -     Found 89/128 solutions in beam hypotheses.\n"
     ]
    },
    {
     "name": "stdout",
     "output_type": "stream",
     "text": [
      "INFO - 07/22/25 19:16:38 - 0:00:42 - (16640/20000) Found 80/128 valid top-1 predictions. Generating solutions ...\n",
      "INFO - 07/22/25 19:16:38 - 0:00:42 -     Found 80/128 solutions in beam hypotheses.\n"
     ]
    },
    {
     "name": "stdout",
     "output_type": "stream",
     "text": [
      "INFO - 07/22/25 19:16:39 - 0:00:42 - (16768/20000) Found 86/128 valid top-1 predictions. Generating solutions ...\n",
      "INFO - 07/22/25 19:16:39 - 0:00:42 -     Found 86/128 solutions in beam hypotheses.\n"
     ]
    },
    {
     "name": "stdout",
     "output_type": "stream",
     "text": [
      "INFO - 07/22/25 19:16:39 - 0:00:42 - (16896/20000) Found 87/128 valid top-1 predictions. Generating solutions ...\n",
      "INFO - 07/22/25 19:16:39 - 0:00:42 -     Found 87/128 solutions in beam hypotheses.\n"
     ]
    },
    {
     "name": "stdout",
     "output_type": "stream",
     "text": [
      "INFO - 07/22/25 19:16:39 - 0:00:43 - (17024/20000) Found 91/128 valid top-1 predictions. Generating solutions ...\n",
      "INFO - 07/22/25 19:16:39 - 0:00:43 -     Found 91/128 solutions in beam hypotheses.\n"
     ]
    },
    {
     "name": "stdout",
     "output_type": "stream",
     "text": [
      "INFO - 07/22/25 19:16:39 - 0:00:43 - (17152/20000) Found 92/128 valid top-1 predictions. Generating solutions ...\n",
      "INFO - 07/22/25 19:16:40 - 0:00:43 -     Found 92/128 solutions in beam hypotheses.\n"
     ]
    },
    {
     "name": "stdout",
     "output_type": "stream",
     "text": [
      "INFO - 07/22/25 19:16:40 - 0:00:43 - (17280/20000) Found 87/128 valid top-1 predictions. Generating solutions ...\n",
      "INFO - 07/22/25 19:16:40 - 0:00:43 -     Found 87/128 solutions in beam hypotheses.\n"
     ]
    },
    {
     "name": "stdout",
     "output_type": "stream",
     "text": [
      "INFO - 07/22/25 19:16:40 - 0:00:44 - (17408/20000) Found 88/128 valid top-1 predictions. Generating solutions ...\n",
      "INFO - 07/22/25 19:16:40 - 0:00:44 -     Found 88/128 solutions in beam hypotheses.\n"
     ]
    },
    {
     "name": "stdout",
     "output_type": "stream",
     "text": [
      "INFO - 07/22/25 19:16:40 - 0:00:44 - (17536/20000) Found 90/128 valid top-1 predictions. Generating solutions ...\n",
      "INFO - 07/22/25 19:16:40 - 0:00:44 -     Found 90/128 solutions in beam hypotheses.\n"
     ]
    },
    {
     "name": "stdout",
     "output_type": "stream",
     "text": [
      "INFO - 07/22/25 19:16:41 - 0:00:44 - (17664/20000) Found 84/128 valid top-1 predictions. Generating solutions ...\n",
      "INFO - 07/22/25 19:16:41 - 0:00:44 -     Found 84/128 solutions in beam hypotheses.\n"
     ]
    },
    {
     "name": "stdout",
     "output_type": "stream",
     "text": [
      "INFO - 07/22/25 19:16:41 - 0:00:44 - (17792/20000) Found 90/128 valid top-1 predictions. Generating solutions ...\n",
      "INFO - 07/22/25 19:16:41 - 0:00:44 -     Found 90/128 solutions in beam hypotheses.\n"
     ]
    },
    {
     "name": "stdout",
     "output_type": "stream",
     "text": [
      "INFO - 07/22/25 19:16:41 - 0:00:45 - (17920/20000) Found 93/128 valid top-1 predictions. Generating solutions ...\n",
      "INFO - 07/22/25 19:16:41 - 0:00:45 -     Found 93/128 solutions in beam hypotheses.\n"
     ]
    },
    {
     "name": "stdout",
     "output_type": "stream",
     "text": [
      "INFO - 07/22/25 19:16:42 - 0:00:45 - (18048/20000) Found 85/128 valid top-1 predictions. Generating solutions ...\n",
      "INFO - 07/22/25 19:16:42 - 0:00:45 -     Found 85/128 solutions in beam hypotheses.\n"
     ]
    },
    {
     "name": "stdout",
     "output_type": "stream",
     "text": [
      "INFO - 07/22/25 19:16:42 - 0:00:45 - (18176/20000) Found 93/128 valid top-1 predictions. Generating solutions ...\n",
      "INFO - 07/22/25 19:16:42 - 0:00:45 -     Found 93/128 solutions in beam hypotheses.\n"
     ]
    },
    {
     "name": "stdout",
     "output_type": "stream",
     "text": [
      "INFO - 07/22/25 19:16:42 - 0:00:46 - (18304/20000) Found 87/128 valid top-1 predictions. Generating solutions ...\n",
      "INFO - 07/22/25 19:16:42 - 0:00:46 -     Found 87/128 solutions in beam hypotheses.\n"
     ]
    },
    {
     "name": "stdout",
     "output_type": "stream",
     "text": [
      "INFO - 07/22/25 19:16:43 - 0:00:46 - (18432/20000) Found 85/128 valid top-1 predictions. Generating solutions ...\n",
      "INFO - 07/22/25 19:16:43 - 0:00:46 -     Found 85/128 solutions in beam hypotheses.\n"
     ]
    },
    {
     "name": "stdout",
     "output_type": "stream",
     "text": [
      "INFO - 07/22/25 19:16:43 - 0:00:46 - (18560/20000) Found 92/128 valid top-1 predictions. Generating solutions ...\n",
      "INFO - 07/22/25 19:16:43 - 0:00:46 -     Found 92/128 solutions in beam hypotheses.\n"
     ]
    },
    {
     "name": "stdout",
     "output_type": "stream",
     "text": [
      "INFO - 07/22/25 19:16:43 - 0:00:47 - (18688/20000) Found 88/128 valid top-1 predictions. Generating solutions ...\n",
      "INFO - 07/22/25 19:16:43 - 0:00:47 -     Found 88/128 solutions in beam hypotheses.\n"
     ]
    },
    {
     "name": "stdout",
     "output_type": "stream",
     "text": [
      "INFO - 07/22/25 19:16:43 - 0:00:47 - (18816/20000) Found 90/128 valid top-1 predictions. Generating solutions ...\n",
      "INFO - 07/22/25 19:16:43 - 0:00:47 -     Found 90/128 solutions in beam hypotheses.\n"
     ]
    },
    {
     "name": "stdout",
     "output_type": "stream",
     "text": [
      "INFO - 07/22/25 19:16:44 - 0:00:47 - (18944/20000) Found 87/128 valid top-1 predictions. Generating solutions ...\n",
      "INFO - 07/22/25 19:16:44 - 0:00:47 -     Found 87/128 solutions in beam hypotheses.\n"
     ]
    },
    {
     "name": "stdout",
     "output_type": "stream",
     "text": [
      "INFO - 07/22/25 19:16:44 - 0:00:47 - (19072/20000) Found 92/128 valid top-1 predictions. Generating solutions ...\n",
      "INFO - 07/22/25 19:16:44 - 0:00:48 -     Found 92/128 solutions in beam hypotheses.\n"
     ]
    },
    {
     "name": "stdout",
     "output_type": "stream",
     "text": [
      "INFO - 07/22/25 19:16:44 - 0:00:48 - (19200/20000) Found 93/128 valid top-1 predictions. Generating solutions ...\n",
      "INFO - 07/22/25 19:16:44 - 0:00:48 -     Found 93/128 solutions in beam hypotheses.\n"
     ]
    },
    {
     "name": "stdout",
     "output_type": "stream",
     "text": [
      "INFO - 07/22/25 19:16:45 - 0:00:48 - (19328/20000) Found 84/128 valid top-1 predictions. Generating solutions ...\n",
      "INFO - 07/22/25 19:16:45 - 0:00:48 -     Found 84/128 solutions in beam hypotheses.\n"
     ]
    },
    {
     "name": "stdout",
     "output_type": "stream",
     "text": [
      "INFO - 07/22/25 19:16:45 - 0:00:48 - (19456/20000) Found 87/128 valid top-1 predictions. Generating solutions ...\n",
      "INFO - 07/22/25 19:16:45 - 0:00:48 -     Found 87/128 solutions in beam hypotheses.\n"
     ]
    },
    {
     "name": "stdout",
     "output_type": "stream",
     "text": [
      "INFO - 07/22/25 19:16:45 - 0:00:49 - (19584/20000) Found 91/128 valid top-1 predictions. Generating solutions ...\n",
      "INFO - 07/22/25 19:16:45 - 0:00:49 -     Found 91/128 solutions in beam hypotheses.\n"
     ]
    },
    {
     "name": "stdout",
     "output_type": "stream",
     "text": [
      "INFO - 07/22/25 19:16:46 - 0:00:49 - (19712/20000) Found 88/128 valid top-1 predictions. Generating solutions ...\n",
      "INFO - 07/22/25 19:16:46 - 0:00:49 -     Found 88/128 solutions in beam hypotheses.\n"
     ]
    },
    {
     "name": "stdout",
     "output_type": "stream",
     "text": [
      "INFO - 07/22/25 19:16:46 - 0:00:49 - (19840/20000) Found 87/128 valid top-1 predictions. Generating solutions ...\n",
      "INFO - 07/22/25 19:16:46 - 0:00:49 -     Found 87/128 solutions in beam hypotheses.\n"
     ]
    },
    {
     "name": "stdout",
     "output_type": "stream",
     "text": [
      "INFO - 07/22/25 19:16:46 - 0:00:50 - (19968/20000) Found 85/128 valid top-1 predictions. Generating solutions ...\n",
      "INFO - 07/22/25 19:16:46 - 0:00:50 -     Found 85/128 solutions in beam hypotheses.\n",
      "INFO - 07/22/25 19:16:46 - 0:00:50 - (20000/20000) Found 27/32 valid top-1 predictions. Generating solutions ...\n",
      "INFO - 07/22/25 19:16:46 - 0:00:50 -     Found 27/32 solutions in beam hypotheses.\n",
      "INFO - 07/22/25 19:16:46 - 0:00:50 - 13630/20000 (68.15%) equations were evaluated correctly.\n",
      "INFO - 07/22/25 19:16:46 - 0:00:50 - 0: 4108 / 7809 (52.61%)\n",
      "INFO - 07/22/25 19:16:46 - 0:00:50 - 1: 9522 / 12191 (78.11%)\n"
     ]
    },
    {
     "name": "stdout",
     "output_type": "stream",
     "text": [
      "INFO - 07/22/25 19:16:46 - 0:00:50 - epoch -> 227.000000\n",
      "INFO - 07/22/25 19:16:46 - 0:00:50 - valid_arithmetic_xe_loss -> 0.590629\n",
      "INFO - 07/22/25 19:16:46 - 0:00:50 - valid_arithmetic_acc -> 68.150000\n",
      "INFO - 07/22/25 19:16:46 - 0:00:50 - valid_arithmetic_perfect -> 68.150000\n",
      "INFO - 07/22/25 19:16:46 - 0:00:50 - valid_arithmetic_correct -> 68.150000\n",
      "INFO - 07/22/25 19:16:46 - 0:00:50 - valid_arithmetic_acc_d1 -> 68.150000\n",
      "INFO - 07/22/25 19:16:46 - 0:00:50 - valid_arithmetic_acc_d2 -> 68.150000\n",
      "INFO - 07/22/25 19:16:46 - 0:00:50 - valid_arithmetic_acc_d3 -> 86.655000\n",
      "INFO - 07/22/25 19:16:46 - 0:00:50 - valid_arithmetic_acc_0 -> 52.605967\n",
      "INFO - 07/22/25 19:16:46 - 0:00:50 - valid_arithmetic_acc_1 -> 78.106800\n",
      "INFO - 07/22/25 19:16:46 - 0:00:50 - __log__:{\"epoch\": 227, \"valid_arithmetic_xe_loss\": 0.5906288590431213, \"valid_arithmetic_acc\": 68.15, \"valid_arithmetic_perfect\": 68.15, \"valid_arithmetic_correct\": 68.15, \"valid_arithmetic_acc_d1\": 68.15, \"valid_arithmetic_acc_d2\": 68.15, \"valid_arithmetic_acc_d3\": 86.655, \"valid_arithmetic_acc_0\": 52.605967473428095, \"valid_arithmetic_acc_1\": 78.10680009843327}\n"
     ]
    },
    {
     "name": "stdout",
     "output_type": "stream",
     "text": [
      "INFO - 07/22/25 19:16:49 - 0:00:00 - ============ Initialized logger ============\n",
      "INFO - 07/22/25 19:16:49 - 0:00:00 - GRU: False\n",
      "                                     accumulate_gradients: 1\n",
      "                                     act_bias: 0\n",
      "                                     act_biased: False\n",
      "                                     act_ponder_coupling: 0.01\n",
      "                                     act_threshold: 0.01\n",
      "                                     amp: -1\n",
      "                                     architecture: encoder_decoder\n",
      "                                     attention_dropout: 0\n",
      "                                     base: 1000\n",
      "                                     batch_load: False\n",
      "                                     batch_size: 32\n",
      "                                     batch_size_eval: 128\n",
      "                                     beam_early_stopping: True\n",
      "                                     beam_eval: False\n",
      "                                     beam_eval_train: 0\n",
      "                                     beam_length_penalty: 1\n",
      "                                     beam_size: 1\n",
      "                                     biased_gates: False\n",
      "                                     bidirectional: False\n",
      "                                     class_by_length: False\n",
      "                                     clip_grad_norm: 5\n",
      "                                     command: python /home/user/Int2Int/train.py --num_workers 0 --dump_path '/home/user/fastdir/dump' --exp_name basicsq --exp_id 2 --eval_only True --eval_data '/home/user/fastdir/data/musq_2_random.txt' --eval_size 20000 --data_types 'int[200]:range(-1,2)' --exp_id \"2\"\n",
      "                                     cpu: False\n",
      "                                     data_types: int[200]:range(-1,2)\n",
      "                                     debug: False\n",
      "                                     debug_slurm: False\n",
      "                                     dec_act: False\n",
      "                                     dec_emb_dim: 256\n",
      "                                     dec_gated: False\n",
      "                                     dec_has_pos_emb: True\n",
      "                                     dec_loop_idx: -1\n",
      "                                     dec_loops: 1\n",
      "                                     dim1: 10\n",
      "                                     dim2: 10\n",
      "                                     dropout: 0\n",
      "                                     dump_path: /home/user/fastdir/dump/basicsq/2\n",
      "                                     enc_act: False\n",
      "                                     enc_emb_dim: 256\n",
      "                                     enc_gated: False\n",
      "                                     enc_has_pos_emb: True\n",
      "                                     enc_loop_idx: -1\n",
      "                                     enc_loops: 1\n",
      "                                     env_base_seed: -1\n",
      "                                     env_name: arithmetic\n",
      "                                     epoch_size: 300000\n",
      "                                     eval_data: /home/user/fastdir/data/musq_2_random.txt\n",
      "                                     eval_from_exp: \n",
      "                                     eval_only: True\n",
      "                                     eval_size: 20000\n",
      "                                     eval_verbose: 0\n",
      "                                     eval_verbose_print: False\n",
      "                                     exp_id: 2\n",
      "                                     exp_name: basicsq\n",
      "                                     export_data: False\n",
      "                                     first_class_prob: 0.25\n",
      "                                     first_class_size: 1000000\n",
      "                                     fp16: False\n",
      "                                     gate_bias: 0\n",
      "                                     gated: False\n",
      "                                     gelu_activation: False\n",
      "                                     global_rank: 0\n",
      "                                     is_master: True\n",
      "                                     is_slurm_job: False\n",
      "                                     local_gpu: -1\n",
      "                                     local_rank: 0\n",
      "                                     lstm: False\n",
      "                                     lstm_hidden_dim: 2048\n",
      "                                     master_port: -1\n",
      "                                     max_class: 101\n",
      "                                     max_epoch: 100000\n",
      "                                     max_len: 512\n",
      "                                     max_output_len: 512\n",
      "                                     max_src_len: 0\n",
      "                                     maxint: 1000000\n",
      "                                     minint: 1\n",
      "                                     modulus: 67\n",
      "                                     multi_gpu: False\n",
      "                                     multi_node: False\n",
      "                                     n_dec_heads: 8\n",
      "                                     n_dec_hidden_layers: 1\n",
      "                                     n_dec_layers: 4\n",
      "                                     n_enc_heads: 8\n",
      "                                     n_enc_hidden_layers: 1\n",
      "                                     n_enc_layers: 4\n",
      "                                     n_gpu_per_node: 1\n",
      "                                     n_nodes: 1\n",
      "                                     node_id: 0\n",
      "                                     norm_attention: False\n",
      "                                     num_workers: 0\n",
      "                                     operation: data\n",
      "                                     optimizer: adam,lr=0.0001\n",
      "                                     reload_checkpoint: \n",
      "                                     reload_model: \n",
      "                                     reload_size: -1\n",
      "                                     save_periodic: 0\n",
      "                                     scalar_gate: False\n",
      "                                     share_inout_emb: True\n",
      "                                     sinusoidal_embeddings: False\n",
      "                                     stopping_criterion: \n",
      "                                     tasks: arithmetic\n",
      "                                     train_data: \n",
      "                                     two_classes: False\n",
      "                                     validation_metrics: \n",
      "                                     windows: False\n",
      "                                     world_size: 1\n",
      "                                     xav_init: False\n",
      "INFO - 07/22/25 19:16:49 - 0:00:00 - The experiment will be stored in /home/user/fastdir/dump/basicsq/2\n",
      "                                     \n",
      "INFO - 07/22/25 19:16:49 - 0:00:00 - Running command: python /home/user/Int2Int/train.py --num_workers 0 --dump_path '/home/user/fastdir/dump' --exp_name basicsq --exp_id 2 --eval_only True --eval_data '/home/user/fastdir/data/musq_2_random.txt' --eval_size 20000 --data_types 'int[200]:range(-1,2)'\n",
      "\n",
      "INFO - 07/22/25 19:16:49 - 0:00:00 - words: {'<eos>': 0, '<pad>': 1, '<sep>': 2, '(': 3, ')': 4, '<SPECIAL_0>': 5, '<SPECIAL_1>': 6, '<SPECIAL_2>': 7, '<SPECIAL_3>': 8, '<SPECIAL_4>': 9, '<SPECIAL_5>': 10, '<SPECIAL_6>': 11, '<SPECIAL_7>': 12, '<SPECIAL_8>': 13, '<SPECIAL_9>': 14, '+': 15, '-': 16, '-1': 17, '0': 18, '1': 19, '10': 20, '100': 21, '101': 22, '102': 23, '103': 24, '104': 25, '105': 26, '106': 27, '107': 28, '108': 29, '109': 30, '11': 31, '110': 32, '111': 33, '112': 34, '113': 35, '114': 36, '115': 37, '116': 38, '117': 39, '118': 40, '119': 41, '12': 42, '120': 43, '121': 44, '122': 45, '123': 46, '124': 47, '125': 48, '126': 49, '127': 50, '128': 51, '129': 52, '13': 53, '130': 54, '131': 55, '132': 56, '133': 57, '134': 58, '135': 59, '136': 60, '137': 61, '138': 62, '139': 63, '14': 64, '140': 65, '141': 66, '142': 67, '143': 68, '144': 69, '145': 70, '146': 71, '147': 72, '148': 73, '149': 74, '15': 75, '150': 76, '151': 77, '152': 78, '153': 79, '154': 80, '155': 81, '156': 82, '157': 83, '158': 84, '159': 85, '16': 86, '160': 87, '161': 88, '162': 89, '163': 90, '164': 91, '165': 92, '166': 93, '167': 94, '168': 95, '169': 96, '17': 97, '170': 98, '171': 99, '172': 100, '173': 101, '174': 102, '175': 103, '176': 104, '177': 105, '178': 106, '179': 107, '18': 108, '180': 109, '181': 110, '182': 111, '183': 112, '184': 113, '185': 114, '186': 115, '187': 116, '188': 117, '189': 118, '19': 119, '190': 120, '191': 121, '192': 122, '193': 123, '194': 124, '195': 125, '196': 126, '197': 127, '198': 128, '199': 129, '2': 130, '20': 131, '200': 132, '201': 133, '202': 134, '203': 135, '204': 136, '205': 137, '206': 138, '207': 139, '208': 140, '209': 141, '21': 142, '210': 143, '211': 144, '212': 145, '213': 146, '214': 147, '215': 148, '216': 149, '217': 150, '218': 151, '219': 152, '22': 153, '220': 154, '221': 155, '222': 156, '223': 157, '224': 158, '225': 159, '226': 160, '227': 161, '228': 162, '229': 163, '23': 164, '230': 165, '231': 166, '232': 167, '233': 168, '234': 169, '235': 170, '236': 171, '237': 172, '238': 173, '239': 174, '24': 175, '240': 176, '241': 177, '242': 178, '243': 179, '244': 180, '245': 181, '246': 182, '247': 183, '248': 184, '249': 185, '25': 186, '250': 187, '251': 188, '252': 189, '253': 190, '254': 191, '255': 192, '256': 193, '257': 194, '258': 195, '259': 196, '26': 197, '260': 198, '261': 199, '262': 200, '263': 201, '264': 202, '265': 203, '266': 204, '267': 205, '268': 206, '269': 207, '27': 208, '270': 209, '271': 210, '272': 211, '273': 212, '274': 213, '275': 214, '276': 215, '277': 216, '278': 217, '279': 218, '28': 219, '280': 220, '281': 221, '282': 222, '283': 223, '284': 224, '285': 225, '286': 226, '287': 227, '288': 228, '289': 229, '29': 230, '290': 231, '291': 232, '292': 233, '293': 234, '294': 235, '295': 236, '296': 237, '297': 238, '298': 239, '299': 240, '3': 241, '30': 242, '300': 243, '301': 244, '302': 245, '303': 246, '304': 247, '305': 248, '306': 249, '307': 250, '308': 251, '309': 252, '31': 253, '310': 254, '311': 255, '312': 256, '313': 257, '314': 258, '315': 259, '316': 260, '317': 261, '318': 262, '319': 263, '32': 264, '320': 265, '321': 266, '322': 267, '323': 268, '324': 269, '325': 270, '326': 271, '327': 272, '328': 273, '329': 274, '33': 275, '330': 276, '331': 277, '332': 278, '333': 279, '334': 280, '335': 281, '336': 282, '337': 283, '338': 284, '339': 285, '34': 286, '340': 287, '341': 288, '342': 289, '343': 290, '344': 291, '345': 292, '346': 293, '347': 294, '348': 295, '349': 296, '35': 297, '350': 298, '351': 299, '352': 300, '353': 301, '354': 302, '355': 303, '356': 304, '357': 305, '358': 306, '359': 307, '36': 308, '360': 309, '361': 310, '362': 311, '363': 312, '364': 313, '365': 314, '366': 315, '367': 316, '368': 317, '369': 318, '37': 319, '370': 320, '371': 321, '372': 322, '373': 323, '374': 324, '375': 325, '376': 326, '377': 327, '378': 328, '379': 329, '38': 330, '380': 331, '381': 332, '382': 333, '383': 334, '384': 335, '385': 336, '386': 337, '387': 338, '388': 339, '389': 340, '39': 341, '390': 342, '391': 343, '392': 344, '393': 345, '394': 346, '395': 347, '396': 348, '397': 349, '398': 350, '399': 351, '4': 352, '40': 353, '400': 354, '401': 355, '402': 356, '403': 357, '404': 358, '405': 359, '406': 360, '407': 361, '408': 362, '409': 363, '41': 364, '410': 365, '411': 366, '412': 367, '413': 368, '414': 369, '415': 370, '416': 371, '417': 372, '418': 373, '419': 374, '42': 375, '420': 376, '421': 377, '422': 378, '423': 379, '424': 380, '425': 381, '426': 382, '427': 383, '428': 384, '429': 385, '43': 386, '430': 387, '431': 388, '432': 389, '433': 390, '434': 391, '435': 392, '436': 393, '437': 394, '438': 395, '439': 396, '44': 397, '440': 398, '441': 399, '442': 400, '443': 401, '444': 402, '445': 403, '446': 404, '447': 405, '448': 406, '449': 407, '45': 408, '450': 409, '451': 410, '452': 411, '453': 412, '454': 413, '455': 414, '456': 415, '457': 416, '458': 417, '459': 418, '46': 419, '460': 420, '461': 421, '462': 422, '463': 423, '464': 424, '465': 425, '466': 426, '467': 427, '468': 428, '469': 429, '47': 430, '470': 431, '471': 432, '472': 433, '473': 434, '474': 435, '475': 436, '476': 437, '477': 438, '478': 439, '479': 440, '48': 441, '480': 442, '481': 443, '482': 444, '483': 445, '484': 446, '485': 447, '486': 448, '487': 449, '488': 450, '489': 451, '49': 452, '490': 453, '491': 454, '492': 455, '493': 456, '494': 457, '495': 458, '496': 459, '497': 460, '498': 461, '499': 462, '5': 463, '50': 464, '500': 465, '501': 466, '502': 467, '503': 468, '504': 469, '505': 470, '506': 471, '507': 472, '508': 473, '509': 474, '51': 475, '510': 476, '511': 477, '512': 478, '513': 479, '514': 480, '515': 481, '516': 482, '517': 483, '518': 484, '519': 485, '52': 486, '520': 487, '521': 488, '522': 489, '523': 490, '524': 491, '525': 492, '526': 493, '527': 494, '528': 495, '529': 496, '53': 497, '530': 498, '531': 499, '532': 500, '533': 501, '534': 502, '535': 503, '536': 504, '537': 505, '538': 506, '539': 507, '54': 508, '540': 509, '541': 510, '542': 511, '543': 512, '544': 513, '545': 514, '546': 515, '547': 516, '548': 517, '549': 518, '55': 519, '550': 520, '551': 521, '552': 522, '553': 523, '554': 524, '555': 525, '556': 526, '557': 527, '558': 528, '559': 529, '56': 530, '560': 531, '561': 532, '562': 533, '563': 534, '564': 535, '565': 536, '566': 537, '567': 538, '568': 539, '569': 540, '57': 541, '570': 542, '571': 543, '572': 544, '573': 545, '574': 546, '575': 547, '576': 548, '577': 549, '578': 550, '579': 551, '58': 552, '580': 553, '581': 554, '582': 555, '583': 556, '584': 557, '585': 558, '586': 559, '587': 560, '588': 561, '589': 562, '59': 563, '590': 564, '591': 565, '592': 566, '593': 567, '594': 568, '595': 569, '596': 570, '597': 571, '598': 572, '599': 573, '6': 574, '60': 575, '600': 576, '601': 577, '602': 578, '603': 579, '604': 580, '605': 581, '606': 582, '607': 583, '608': 584, '609': 585, '61': 586, '610': 587, '611': 588, '612': 589, '613': 590, '614': 591, '615': 592, '616': 593, '617': 594, '618': 595, '619': 596, '62': 597, '620': 598, '621': 599, '622': 600, '623': 601, '624': 602, '625': 603, '626': 604, '627': 605, '628': 606, '629': 607, '63': 608, '630': 609, '631': 610, '632': 611, '633': 612, '634': 613, '635': 614, '636': 615, '637': 616, '638': 617, '639': 618, '64': 619, '640': 620, '641': 621, '642': 622, '643': 623, '644': 624, '645': 625, '646': 626, '647': 627, '648': 628, '649': 629, '65': 630, '650': 631, '651': 632, '652': 633, '653': 634, '654': 635, '655': 636, '656': 637, '657': 638, '658': 639, '659': 640, '66': 641, '660': 642, '661': 643, '662': 644, '663': 645, '664': 646, '665': 647, '666': 648, '667': 649, '668': 650, '669': 651, '67': 652, '670': 653, '671': 654, '672': 655, '673': 656, '674': 657, '675': 658, '676': 659, '677': 660, '678': 661, '679': 662, '68': 663, '680': 664, '681': 665, '682': 666, '683': 667, '684': 668, '685': 669, '686': 670, '687': 671, '688': 672, '689': 673, '69': 674, '690': 675, '691': 676, '692': 677, '693': 678, '694': 679, '695': 680, '696': 681, '697': 682, '698': 683, '699': 684, '7': 685, '70': 686, '700': 687, '701': 688, '702': 689, '703': 690, '704': 691, '705': 692, '706': 693, '707': 694, '708': 695, '709': 696, '71': 697, '710': 698, '711': 699, '712': 700, '713': 701, '714': 702, '715': 703, '716': 704, '717': 705, '718': 706, '719': 707, '72': 708, '720': 709, '721': 710, '722': 711, '723': 712, '724': 713, '725': 714, '726': 715, '727': 716, '728': 717, '729': 718, '73': 719, '730': 720, '731': 721, '732': 722, '733': 723, '734': 724, '735': 725, '736': 726, '737': 727, '738': 728, '739': 729, '74': 730, '740': 731, '741': 732, '742': 733, '743': 734, '744': 735, '745': 736, '746': 737, '747': 738, '748': 739, '749': 740, '75': 741, '750': 742, '751': 743, '752': 744, '753': 745, '754': 746, '755': 747, '756': 748, '757': 749, '758': 750, '759': 751, '76': 752, '760': 753, '761': 754, '762': 755, '763': 756, '764': 757, '765': 758, '766': 759, '767': 760, '768': 761, '769': 762, '77': 763, '770': 764, '771': 765, '772': 766, '773': 767, '774': 768, '775': 769, '776': 770, '777': 771, '778': 772, '779': 773, '78': 774, '780': 775, '781': 776, '782': 777, '783': 778, '784': 779, '785': 780, '786': 781, '787': 782, '788': 783, '789': 784, '79': 785, '790': 786, '791': 787, '792': 788, '793': 789, '794': 790, '795': 791, '796': 792, '797': 793, '798': 794, '799': 795, '8': 796, '80': 797, '800': 798, '801': 799, '802': 800, '803': 801, '804': 802, '805': 803, '806': 804, '807': 805, '808': 806, '809': 807, '81': 808, '810': 809, '811': 810, '812': 811, '813': 812, '814': 813, '815': 814, '816': 815, '817': 816, '818': 817, '819': 818, '82': 819, '820': 820, '821': 821, '822': 822, '823': 823, '824': 824, '825': 825, '826': 826, '827': 827, '828': 828, '829': 829, '83': 830, '830': 831, '831': 832, '832': 833, '833': 834, '834': 835, '835': 836, '836': 837, '837': 838, '838': 839, '839': 840, '84': 841, '840': 842, '841': 843, '842': 844, '843': 845, '844': 846, '845': 847, '846': 848, '847': 849, '848': 850, '849': 851, '85': 852, '850': 853, '851': 854, '852': 855, '853': 856, '854': 857, '855': 858, '856': 859, '857': 860, '858': 861, '859': 862, '86': 863, '860': 864, '861': 865, '862': 866, '863': 867, '864': 868, '865': 869, '866': 870, '867': 871, '868': 872, '869': 873, '87': 874, '870': 875, '871': 876, '872': 877, '873': 878, '874': 879, '875': 880, '876': 881, '877': 882, '878': 883, '879': 884, '88': 885, '880': 886, '881': 887, '882': 888, '883': 889, '884': 890, '885': 891, '886': 892, '887': 893, '888': 894, '889': 895, '89': 896, '890': 897, '891': 898, '892': 899, '893': 900, '894': 901, '895': 902, '896': 903, '897': 904, '898': 905, '899': 906, '9': 907, '90': 908, '900': 909, '901': 910, '902': 911, '903': 912, '904': 913, '905': 914, '906': 915, '907': 916, '908': 917, '909': 918, '91': 919, '910': 920, '911': 921, '912': 922, '913': 923, '914': 924, '915': 925, '916': 926, '917': 927, '918': 928, '919': 929, '92': 930, '920': 931, '921': 932, '922': 933, '923': 934, '924': 935, '925': 936, '926': 937, '927': 938, '928': 939, '929': 940, '93': 941, '930': 942, '931': 943, '932': 944, '933': 945, '934': 946, '935': 947, '936': 948, '937': 949, '938': 950, '939': 951, '94': 952, '940': 953, '941': 954, '942': 955, '943': 956, '944': 957, '945': 958, '946': 959, '947': 960, '948': 961, '949': 962, '95': 963, '950': 964, '951': 965, '952': 966, '953': 967, '954': 968, '955': 969, '956': 970, '957': 971, '958': 972, '959': 973, '96': 974, '960': 975, '961': 976, '962': 977, '963': 978, '964': 979, '965': 980, '966': 981, '967': 982, '968': 983, '969': 984, '97': 985, '970': 986, '971': 987, '972': 988, '973': 989, '974': 990, '975': 991, '976': 992, '977': 993, '978': 994, '979': 995, '98': 996, '980': 997, '981': 998, '982': 999, '983': 1000, '984': 1001, '985': 1002, '986': 1003, '987': 1004, '988': 1005, '989': 1006, '99': 1007, '990': 1008, '991': 1009, '992': 1010, '993': 1011, '994': 1012, '995': 1013, '996': 1014, '997': 1015, '998': 1016, '999': 1017, 'V1': 1018, 'V10': 1019, 'V100': 1020, 'V101': 1021, 'V102': 1022, 'V103': 1023, 'V104': 1024, 'V105': 1025, 'V106': 1026, 'V107': 1027, 'V108': 1028, 'V109': 1029, 'V11': 1030, 'V110': 1031, 'V111': 1032, 'V112': 1033, 'V113': 1034, 'V114': 1035, 'V115': 1036, 'V116': 1037, 'V117': 1038, 'V118': 1039, 'V119': 1040, 'V12': 1041, 'V120': 1042, 'V121': 1043, 'V122': 1044, 'V123': 1045, 'V124': 1046, 'V125': 1047, 'V126': 1048, 'V127': 1049, 'V128': 1050, 'V129': 1051, 'V13': 1052, 'V130': 1053, 'V131': 1054, 'V132': 1055, 'V133': 1056, 'V134': 1057, 'V135': 1058, 'V136': 1059, 'V137': 1060, 'V138': 1061, 'V139': 1062, 'V14': 1063, 'V140': 1064, 'V141': 1065, 'V142': 1066, 'V143': 1067, 'V144': 1068, 'V145': 1069, 'V146': 1070, 'V147': 1071, 'V148': 1072, 'V149': 1073, 'V15': 1074, 'V150': 1075, 'V151': 1076, 'V152': 1077, 'V153': 1078, 'V154': 1079, 'V155': 1080, 'V156': 1081, 'V157': 1082, 'V158': 1083, 'V159': 1084, 'V16': 1085, 'V160': 1086, 'V161': 1087, 'V162': 1088, 'V163': 1089, 'V164': 1090, 'V165': 1091, 'V166': 1092, 'V167': 1093, 'V168': 1094, 'V169': 1095, 'V17': 1096, 'V170': 1097, 'V171': 1098, 'V172': 1099, 'V173': 1100, 'V174': 1101, 'V175': 1102, 'V176': 1103, 'V177': 1104, 'V178': 1105, 'V179': 1106, 'V18': 1107, 'V180': 1108, 'V181': 1109, 'V182': 1110, 'V183': 1111, 'V184': 1112, 'V185': 1113, 'V186': 1114, 'V187': 1115, 'V188': 1116, 'V189': 1117, 'V19': 1118, 'V190': 1119, 'V191': 1120, 'V192': 1121, 'V193': 1122, 'V194': 1123, 'V195': 1124, 'V196': 1125, 'V197': 1126, 'V198': 1127, 'V199': 1128, 'V2': 1129, 'V20': 1130, 'V200': 1131, 'V21': 1132, 'V22': 1133, 'V23': 1134, 'V24': 1135, 'V25': 1136, 'V26': 1137, 'V27': 1138, 'V28': 1139, 'V29': 1140, 'V3': 1141, 'V30': 1142, 'V31': 1143, 'V32': 1144, 'V33': 1145, 'V34': 1146, 'V35': 1147, 'V36': 1148, 'V37': 1149, 'V38': 1150, 'V39': 1151, 'V4': 1152, 'V40': 1153, 'V41': 1154, 'V42': 1155, 'V43': 1156, 'V44': 1157, 'V45': 1158, 'V46': 1159, 'V47': 1160, 'V48': 1161, 'V49': 1162, 'V5': 1163, 'V50': 1164, 'V51': 1165, 'V52': 1166, 'V53': 1167, 'V54': 1168, 'V55': 1169, 'V56': 1170, 'V57': 1171, 'V58': 1172, 'V59': 1173, 'V6': 1174, 'V60': 1175, 'V61': 1176, 'V62': 1177, 'V63': 1178, 'V64': 1179, 'V65': 1180, 'V66': 1181, 'V67': 1182, 'V68': 1183, 'V69': 1184, 'V7': 1185, 'V70': 1186, 'V71': 1187, 'V72': 1188, 'V73': 1189, 'V74': 1190, 'V75': 1191, 'V76': 1192, 'V77': 1193, 'V78': 1194, 'V79': 1195, 'V8': 1196, 'V80': 1197, 'V81': 1198, 'V82': 1199, 'V83': 1200, 'V84': 1201, 'V85': 1202, 'V86': 1203, 'V87': 1204, 'V88': 1205, 'V89': 1206, 'V9': 1207, 'V90': 1208, 'V91': 1209, 'V92': 1210, 'V93': 1211, 'V94': 1212, 'V95': 1213, 'V96': 1214, 'V97': 1215, 'V98': 1216, 'V99': 1217}\n",
      "INFO - 07/22/25 19:16:49 - 0:00:00 - Training tasks: arithmetic\n",
      "INFO - 07/22/25 19:16:49 - 0:00:00 - Number of parameters (encoder): 4519936\n",
      "INFO - 07/22/25 19:16:49 - 0:00:00 - Number of parameters (decoder): 5575874\n"
     ]
    },
    {
     "name": "stdout",
     "output_type": "stream",
     "text": [
      "INFO - 07/22/25 19:16:50 - 0:00:00 - Found 177 parameters in model.\n"
     ]
    },
    {
     "name": "stdout",
     "output_type": "stream",
     "text": [
      "INFO - 07/22/25 19:16:50 - 0:00:01 - Optimizer: <class 'src.optim.Adam'>\n",
      "WARNING - 07/22/25 19:16:50 - 0:00:01 - Reloading checkpoint from /home/user/fastdir/dump/basicsq/2/checkpoint.pth ...\n",
      "/home/user/Int2Int/src/trainer.py:303: FutureWarning: You are using `torch.load` with `weights_only=False` (the current default value), which uses the default pickle module implicitly. It is possible to construct malicious pickle data which will execute arbitrary code during unpickling (See https://github.com/pytorch/pytorch/blob/main/SECURITY.md#untrusted-models for more details). In a future release, the default value for `weights_only` will be flipped to `True`. This limits the functions that could be executed during unpickling. Arbitrary objects will no longer be allowed to be loaded via this mode unless they are explicitly allowlisted by the user via `torch.serialization.add_safe_globals`. We recommend you start setting `weights_only=True` for any use case where you don't have full control of the loaded file. Please open an issue on GitHub for any issues related to this experimental feature.\n",
      "  data = torch.load(checkpoint_path, map_location=\"cpu\")\n",
      "WARNING - 07/22/25 19:16:51 - 0:00:01 - Reloading checkpoint optimizer ...\n",
      "WARNING - 07/22/25 19:16:51 - 0:00:01 - Checkpoint reloaded. Resuming at epoch 227 / iteration 141875 ...\n",
      "INFO - 07/22/25 19:16:51 - 0:00:01 - Creating valid iterator for arithmetic ...\n",
      "INFO - 07/22/25 19:16:51 - 0:00:01 - Loading data from /home/user/fastdir/data/musq_2_random.txt ...\n"
     ]
    },
    {
     "name": "stdout",
     "output_type": "stream",
     "text": [
      "INFO - 07/22/25 19:16:51 - 0:00:02 - Loaded 100000 equations from the disk.\n",
      "SLURM job: False\n",
      "0 - Number of nodes: 1\n",
      "0 - Node ID        : 0\n",
      "0 - Local rank     : 0\n",
      "0 - Global rank    : 0\n",
      "0 - World size     : 1\n",
      "0 - GPUs per node  : 1\n",
      "0 - Master         : True\n",
      "0 - Multi-node     : False\n",
      "0 - Multi-GPU      : False\n",
      "0 - Hostname       : compute-server-1\n"
     ]
    },
    {
     "name": "stdout",
     "output_type": "stream",
     "text": [
      "INFO - 07/22/25 19:16:52 - 0:00:03 - (128/20000) Found 71/128 valid top-1 predictions. Generating solutions ...\n",
      "INFO - 07/22/25 19:16:52 - 0:00:03 -     Found 71/128 solutions in beam hypotheses.\n"
     ]
    },
    {
     "name": "stdout",
     "output_type": "stream",
     "text": [
      "INFO - 07/22/25 19:16:52 - 0:00:03 - (256/20000) Found 80/128 valid top-1 predictions. Generating solutions ...\n",
      "INFO - 07/22/25 19:16:52 - 0:00:03 -     Found 80/128 solutions in beam hypotheses.\n"
     ]
    },
    {
     "name": "stdout",
     "output_type": "stream",
     "text": [
      "INFO - 07/22/25 19:16:52 - 0:00:03 - (384/20000) Found 80/128 valid top-1 predictions. Generating solutions ...\n",
      "INFO - 07/22/25 19:16:52 - 0:00:03 -     Found 80/128 solutions in beam hypotheses.\n"
     ]
    },
    {
     "name": "stdout",
     "output_type": "stream",
     "text": [
      "INFO - 07/22/25 19:16:53 - 0:00:04 - (512/20000) Found 80/128 valid top-1 predictions. Generating solutions ...\n",
      "INFO - 07/22/25 19:16:53 - 0:00:04 -     Found 80/128 solutions in beam hypotheses.\n"
     ]
    },
    {
     "name": "stdout",
     "output_type": "stream",
     "text": [
      "INFO - 07/22/25 19:16:53 - 0:00:04 - (640/20000) Found 77/128 valid top-1 predictions. Generating solutions ...\n",
      "INFO - 07/22/25 19:16:53 - 0:00:04 -     Found 77/128 solutions in beam hypotheses.\n"
     ]
    },
    {
     "name": "stdout",
     "output_type": "stream",
     "text": [
      "INFO - 07/22/25 19:16:53 - 0:00:04 - (768/20000) Found 80/128 valid top-1 predictions. Generating solutions ...\n",
      "INFO - 07/22/25 19:16:53 - 0:00:04 -     Found 80/128 solutions in beam hypotheses.\n"
     ]
    },
    {
     "name": "stdout",
     "output_type": "stream",
     "text": [
      "INFO - 07/22/25 19:16:54 - 0:00:04 - (896/20000) Found 78/128 valid top-1 predictions. Generating solutions ...\n",
      "INFO - 07/22/25 19:16:54 - 0:00:04 -     Found 78/128 solutions in beam hypotheses.\n"
     ]
    },
    {
     "name": "stdout",
     "output_type": "stream",
     "text": [
      "INFO - 07/22/25 19:16:54 - 0:00:05 - (1024/20000) Found 73/128 valid top-1 predictions. Generating solutions ...\n",
      "INFO - 07/22/25 19:16:54 - 0:00:05 -     Found 73/128 solutions in beam hypotheses.\n"
     ]
    },
    {
     "name": "stdout",
     "output_type": "stream",
     "text": [
      "INFO - 07/22/25 19:16:54 - 0:00:05 - (1152/20000) Found 83/128 valid top-1 predictions. Generating solutions ...\n",
      "INFO - 07/22/25 19:16:54 - 0:00:05 -     Found 83/128 solutions in beam hypotheses.\n"
     ]
    },
    {
     "name": "stdout",
     "output_type": "stream",
     "text": [
      "INFO - 07/22/25 19:16:55 - 0:00:05 - (1280/20000) Found 71/128 valid top-1 predictions. Generating solutions ...\n",
      "INFO - 07/22/25 19:16:55 - 0:00:05 -     Found 71/128 solutions in beam hypotheses.\n"
     ]
    },
    {
     "name": "stdout",
     "output_type": "stream",
     "text": [
      "INFO - 07/22/25 19:16:55 - 0:00:06 - (1408/20000) Found 70/128 valid top-1 predictions. Generating solutions ...\n",
      "INFO - 07/22/25 19:16:55 - 0:00:06 -     Found 70/128 solutions in beam hypotheses.\n"
     ]
    },
    {
     "name": "stdout",
     "output_type": "stream",
     "text": [
      "INFO - 07/22/25 19:16:55 - 0:00:06 - (1536/20000) Found 77/128 valid top-1 predictions. Generating solutions ...\n",
      "INFO - 07/22/25 19:16:55 - 0:00:06 -     Found 77/128 solutions in beam hypotheses.\n"
     ]
    },
    {
     "name": "stdout",
     "output_type": "stream",
     "text": [
      "INFO - 07/22/25 19:16:55 - 0:00:06 - (1664/20000) Found 74/128 valid top-1 predictions. Generating solutions ...\n",
      "INFO - 07/22/25 19:16:55 - 0:00:06 -     Found 74/128 solutions in beam hypotheses.\n"
     ]
    },
    {
     "name": "stdout",
     "output_type": "stream",
     "text": [
      "INFO - 07/22/25 19:16:56 - 0:00:07 - (1792/20000) Found 78/128 valid top-1 predictions. Generating solutions ...\n",
      "INFO - 07/22/25 19:16:56 - 0:00:07 -     Found 78/128 solutions in beam hypotheses.\n"
     ]
    },
    {
     "name": "stdout",
     "output_type": "stream",
     "text": [
      "INFO - 07/22/25 19:16:56 - 0:00:07 - (1920/20000) Found 81/128 valid top-1 predictions. Generating solutions ...\n",
      "INFO - 07/22/25 19:16:56 - 0:00:07 -     Found 81/128 solutions in beam hypotheses.\n"
     ]
    },
    {
     "name": "stdout",
     "output_type": "stream",
     "text": [
      "INFO - 07/22/25 19:16:56 - 0:00:07 - (2048/20000) Found 69/128 valid top-1 predictions. Generating solutions ...\n",
      "INFO - 07/22/25 19:16:56 - 0:00:07 -     Found 69/128 solutions in beam hypotheses.\n"
     ]
    },
    {
     "name": "stdout",
     "output_type": "stream",
     "text": [
      "INFO - 07/22/25 19:16:57 - 0:00:07 - (2176/20000) Found 70/128 valid top-1 predictions. Generating solutions ...\n",
      "INFO - 07/22/25 19:16:57 - 0:00:08 -     Found 70/128 solutions in beam hypotheses.\n"
     ]
    },
    {
     "name": "stdout",
     "output_type": "stream",
     "text": [
      "INFO - 07/22/25 19:16:57 - 0:00:08 - (2304/20000) Found 69/128 valid top-1 predictions. Generating solutions ...\n",
      "INFO - 07/22/25 19:16:57 - 0:00:08 -     Found 69/128 solutions in beam hypotheses.\n"
     ]
    },
    {
     "name": "stdout",
     "output_type": "stream",
     "text": [
      "INFO - 07/22/25 19:16:57 - 0:00:08 - (2432/20000) Found 72/128 valid top-1 predictions. Generating solutions ...\n",
      "INFO - 07/22/25 19:16:57 - 0:00:08 -     Found 72/128 solutions in beam hypotheses.\n"
     ]
    },
    {
     "name": "stdout",
     "output_type": "stream",
     "text": [
      "INFO - 07/22/25 19:16:58 - 0:00:08 - (2560/20000) Found 76/128 valid top-1 predictions. Generating solutions ...\n",
      "INFO - 07/22/25 19:16:58 - 0:00:08 -     Found 76/128 solutions in beam hypotheses.\n"
     ]
    },
    {
     "name": "stdout",
     "output_type": "stream",
     "text": [
      "INFO - 07/22/25 19:16:58 - 0:00:09 - (2688/20000) Found 72/128 valid top-1 predictions. Generating solutions ...\n",
      "INFO - 07/22/25 19:16:58 - 0:00:09 -     Found 72/128 solutions in beam hypotheses.\n"
     ]
    },
    {
     "name": "stdout",
     "output_type": "stream",
     "text": [
      "INFO - 07/22/25 19:16:58 - 0:00:09 - (2816/20000) Found 76/128 valid top-1 predictions. Generating solutions ...\n",
      "INFO - 07/22/25 19:16:58 - 0:00:09 -     Found 76/128 solutions in beam hypotheses.\n"
     ]
    },
    {
     "name": "stdout",
     "output_type": "stream",
     "text": [
      "INFO - 07/22/25 19:16:58 - 0:00:09 - (2944/20000) Found 81/128 valid top-1 predictions. Generating solutions ...\n",
      "INFO - 07/22/25 19:16:58 - 0:00:09 -     Found 81/128 solutions in beam hypotheses.\n"
     ]
    },
    {
     "name": "stdout",
     "output_type": "stream",
     "text": [
      "INFO - 07/22/25 19:16:59 - 0:00:10 - (3072/20000) Found 80/128 valid top-1 predictions. Generating solutions ...\n",
      "INFO - 07/22/25 19:16:59 - 0:00:10 -     Found 80/128 solutions in beam hypotheses.\n"
     ]
    },
    {
     "name": "stdout",
     "output_type": "stream",
     "text": [
      "INFO - 07/22/25 19:16:59 - 0:00:10 - (3200/20000) Found 70/128 valid top-1 predictions. Generating solutions ...\n",
      "INFO - 07/22/25 19:16:59 - 0:00:10 -     Found 70/128 solutions in beam hypotheses.\n"
     ]
    },
    {
     "name": "stdout",
     "output_type": "stream",
     "text": [
      "INFO - 07/22/25 19:16:59 - 0:00:10 - (3328/20000) Found 76/128 valid top-1 predictions. Generating solutions ...\n",
      "INFO - 07/22/25 19:16:59 - 0:00:10 -     Found 76/128 solutions in beam hypotheses.\n"
     ]
    },
    {
     "name": "stdout",
     "output_type": "stream",
     "text": [
      "INFO - 07/22/25 19:17:00 - 0:00:11 - (3456/20000) Found 68/128 valid top-1 predictions. Generating solutions ...\n",
      "INFO - 07/22/25 19:17:00 - 0:00:11 -     Found 68/128 solutions in beam hypotheses.\n"
     ]
    },
    {
     "name": "stdout",
     "output_type": "stream",
     "text": [
      "INFO - 07/22/25 19:17:00 - 0:00:11 - (3584/20000) Found 72/128 valid top-1 predictions. Generating solutions ...\n",
      "INFO - 07/22/25 19:17:00 - 0:00:11 -     Found 72/128 solutions in beam hypotheses.\n"
     ]
    },
    {
     "name": "stdout",
     "output_type": "stream",
     "text": [
      "INFO - 07/22/25 19:17:00 - 0:00:11 - (3712/20000) Found 76/128 valid top-1 predictions. Generating solutions ...\n",
      "INFO - 07/22/25 19:17:00 - 0:00:11 -     Found 76/128 solutions in beam hypotheses.\n"
     ]
    },
    {
     "name": "stdout",
     "output_type": "stream",
     "text": [
      "INFO - 07/22/25 19:17:01 - 0:00:11 - (3840/20000) Found 78/128 valid top-1 predictions. Generating solutions ...\n",
      "INFO - 07/22/25 19:17:01 - 0:00:11 -     Found 78/128 solutions in beam hypotheses.\n"
     ]
    },
    {
     "name": "stdout",
     "output_type": "stream",
     "text": [
      "INFO - 07/22/25 19:17:01 - 0:00:12 - (3968/20000) Found 71/128 valid top-1 predictions. Generating solutions ...\n",
      "INFO - 07/22/25 19:17:01 - 0:00:12 -     Found 71/128 solutions in beam hypotheses.\n"
     ]
    },
    {
     "name": "stdout",
     "output_type": "stream",
     "text": [
      "INFO - 07/22/25 19:17:01 - 0:00:12 - (4096/20000) Found 74/128 valid top-1 predictions. Generating solutions ...\n",
      "INFO - 07/22/25 19:17:01 - 0:00:12 -     Found 74/128 solutions in beam hypotheses.\n"
     ]
    },
    {
     "name": "stdout",
     "output_type": "stream",
     "text": [
      "INFO - 07/22/25 19:17:01 - 0:00:12 - (4224/20000) Found 79/128 valid top-1 predictions. Generating solutions ...\n",
      "INFO - 07/22/25 19:17:02 - 0:00:12 -     Found 79/128 solutions in beam hypotheses.\n"
     ]
    },
    {
     "name": "stdout",
     "output_type": "stream",
     "text": [
      "INFO - 07/22/25 19:17:02 - 0:00:13 - (4352/20000) Found 72/128 valid top-1 predictions. Generating solutions ...\n",
      "INFO - 07/22/25 19:17:02 - 0:00:13 -     Found 72/128 solutions in beam hypotheses.\n"
     ]
    },
    {
     "name": "stdout",
     "output_type": "stream",
     "text": [
      "INFO - 07/22/25 19:17:02 - 0:00:13 - (4480/20000) Found 73/128 valid top-1 predictions. Generating solutions ...\n",
      "INFO - 07/22/25 19:17:02 - 0:00:13 -     Found 73/128 solutions in beam hypotheses.\n"
     ]
    },
    {
     "name": "stdout",
     "output_type": "stream",
     "text": [
      "INFO - 07/22/25 19:17:02 - 0:00:13 - (4608/20000) Found 66/128 valid top-1 predictions. Generating solutions ...\n",
      "INFO - 07/22/25 19:17:02 - 0:00:13 -     Found 66/128 solutions in beam hypotheses.\n"
     ]
    },
    {
     "name": "stdout",
     "output_type": "stream",
     "text": [
      "INFO - 07/22/25 19:17:03 - 0:00:14 - (4736/20000) Found 72/128 valid top-1 predictions. Generating solutions ...\n",
      "INFO - 07/22/25 19:17:03 - 0:00:14 -     Found 72/128 solutions in beam hypotheses.\n"
     ]
    },
    {
     "name": "stdout",
     "output_type": "stream",
     "text": [
      "INFO - 07/22/25 19:17:03 - 0:00:14 - (4864/20000) Found 70/128 valid top-1 predictions. Generating solutions ...\n",
      "INFO - 07/22/25 19:17:03 - 0:00:14 -     Found 70/128 solutions in beam hypotheses.\n"
     ]
    },
    {
     "name": "stdout",
     "output_type": "stream",
     "text": [
      "INFO - 07/22/25 19:17:03 - 0:00:14 - (4992/20000) Found 76/128 valid top-1 predictions. Generating solutions ...\n",
      "INFO - 07/22/25 19:17:03 - 0:00:14 -     Found 76/128 solutions in beam hypotheses.\n"
     ]
    },
    {
     "name": "stdout",
     "output_type": "stream",
     "text": [
      "INFO - 07/22/25 19:17:04 - 0:00:14 - (5120/20000) Found 71/128 valid top-1 predictions. Generating solutions ...\n",
      "INFO - 07/22/25 19:17:04 - 0:00:14 -     Found 71/128 solutions in beam hypotheses.\n"
     ]
    },
    {
     "name": "stdout",
     "output_type": "stream",
     "text": [
      "INFO - 07/22/25 19:17:04 - 0:00:15 - (5248/20000) Found 79/128 valid top-1 predictions. Generating solutions ...\n",
      "INFO - 07/22/25 19:17:04 - 0:00:15 -     Found 79/128 solutions in beam hypotheses.\n"
     ]
    },
    {
     "name": "stdout",
     "output_type": "stream",
     "text": [
      "INFO - 07/22/25 19:17:04 - 0:00:15 - (5376/20000) Found 73/128 valid top-1 predictions. Generating solutions ...\n",
      "INFO - 07/22/25 19:17:04 - 0:00:15 -     Found 73/128 solutions in beam hypotheses.\n"
     ]
    },
    {
     "name": "stdout",
     "output_type": "stream",
     "text": [
      "INFO - 07/22/25 19:17:05 - 0:00:15 - (5504/20000) Found 72/128 valid top-1 predictions. Generating solutions ...\n",
      "INFO - 07/22/25 19:17:05 - 0:00:15 -     Found 72/128 solutions in beam hypotheses.\n"
     ]
    },
    {
     "name": "stdout",
     "output_type": "stream",
     "text": [
      "INFO - 07/22/25 19:17:05 - 0:00:16 - (5632/20000) Found 82/128 valid top-1 predictions. Generating solutions ...\n",
      "INFO - 07/22/25 19:17:05 - 0:00:16 -     Found 82/128 solutions in beam hypotheses.\n"
     ]
    },
    {
     "name": "stdout",
     "output_type": "stream",
     "text": [
      "INFO - 07/22/25 19:17:05 - 0:00:16 - (5760/20000) Found 79/128 valid top-1 predictions. Generating solutions ...\n",
      "INFO - 07/22/25 19:17:05 - 0:00:16 -     Found 79/128 solutions in beam hypotheses.\n"
     ]
    },
    {
     "name": "stdout",
     "output_type": "stream",
     "text": [
      "INFO - 07/22/25 19:17:05 - 0:00:16 - (5888/20000) Found 86/128 valid top-1 predictions. Generating solutions ...\n",
      "INFO - 07/22/25 19:17:05 - 0:00:16 -     Found 86/128 solutions in beam hypotheses.\n"
     ]
    },
    {
     "name": "stdout",
     "output_type": "stream",
     "text": [
      "INFO - 07/22/25 19:17:06 - 0:00:17 - (6016/20000) Found 66/128 valid top-1 predictions. Generating solutions ...\n",
      "INFO - 07/22/25 19:17:06 - 0:00:17 -     Found 66/128 solutions in beam hypotheses.\n"
     ]
    },
    {
     "name": "stdout",
     "output_type": "stream",
     "text": [
      "INFO - 07/22/25 19:17:06 - 0:00:17 - (6144/20000) Found 77/128 valid top-1 predictions. Generating solutions ...\n",
      "INFO - 07/22/25 19:17:06 - 0:00:17 -     Found 77/128 solutions in beam hypotheses.\n"
     ]
    },
    {
     "name": "stdout",
     "output_type": "stream",
     "text": [
      "INFO - 07/22/25 19:17:06 - 0:00:17 - (6272/20000) Found 71/128 valid top-1 predictions. Generating solutions ...\n",
      "INFO - 07/22/25 19:17:06 - 0:00:17 -     Found 71/128 solutions in beam hypotheses.\n"
     ]
    },
    {
     "name": "stdout",
     "output_type": "stream",
     "text": [
      "INFO - 07/22/25 19:17:07 - 0:00:17 - (6400/20000) Found 75/128 valid top-1 predictions. Generating solutions ...\n",
      "INFO - 07/22/25 19:17:07 - 0:00:18 -     Found 75/128 solutions in beam hypotheses.\n"
     ]
    },
    {
     "name": "stdout",
     "output_type": "stream",
     "text": [
      "INFO - 07/22/25 19:17:07 - 0:00:18 - (6528/20000) Found 79/128 valid top-1 predictions. Generating solutions ...\n",
      "INFO - 07/22/25 19:17:07 - 0:00:18 -     Found 79/128 solutions in beam hypotheses.\n"
     ]
    },
    {
     "name": "stdout",
     "output_type": "stream",
     "text": [
      "INFO - 07/22/25 19:17:07 - 0:00:18 - (6656/20000) Found 75/128 valid top-1 predictions. Generating solutions ...\n",
      "INFO - 07/22/25 19:17:07 - 0:00:18 -     Found 75/128 solutions in beam hypotheses.\n"
     ]
    },
    {
     "name": "stdout",
     "output_type": "stream",
     "text": [
      "INFO - 07/22/25 19:17:08 - 0:00:18 - (6784/20000) Found 74/128 valid top-1 predictions. Generating solutions ...\n",
      "INFO - 07/22/25 19:17:08 - 0:00:18 -     Found 74/128 solutions in beam hypotheses.\n"
     ]
    },
    {
     "name": "stdout",
     "output_type": "stream",
     "text": [
      "INFO - 07/22/25 19:17:08 - 0:00:19 - (6912/20000) Found 80/128 valid top-1 predictions. Generating solutions ...\n",
      "INFO - 07/22/25 19:17:08 - 0:00:19 -     Found 80/128 solutions in beam hypotheses.\n"
     ]
    },
    {
     "name": "stdout",
     "output_type": "stream",
     "text": [
      "INFO - 07/22/25 19:17:08 - 0:00:19 - (7040/20000) Found 78/128 valid top-1 predictions. Generating solutions ...\n",
      "INFO - 07/22/25 19:17:08 - 0:00:19 -     Found 78/128 solutions in beam hypotheses.\n"
     ]
    },
    {
     "name": "stdout",
     "output_type": "stream",
     "text": [
      "INFO - 07/22/25 19:17:08 - 0:00:19 - (7168/20000) Found 76/128 valid top-1 predictions. Generating solutions ...\n",
      "INFO - 07/22/25 19:17:09 - 0:00:19 -     Found 76/128 solutions in beam hypotheses.\n"
     ]
    },
    {
     "name": "stdout",
     "output_type": "stream",
     "text": [
      "INFO - 07/22/25 19:17:09 - 0:00:20 - (7296/20000) Found 73/128 valid top-1 predictions. Generating solutions ...\n",
      "INFO - 07/22/25 19:17:09 - 0:00:20 -     Found 73/128 solutions in beam hypotheses.\n"
     ]
    },
    {
     "name": "stdout",
     "output_type": "stream",
     "text": [
      "INFO - 07/22/25 19:17:09 - 0:00:20 - (7424/20000) Found 82/128 valid top-1 predictions. Generating solutions ...\n",
      "INFO - 07/22/25 19:17:09 - 0:00:20 -     Found 82/128 solutions in beam hypotheses.\n"
     ]
    },
    {
     "name": "stdout",
     "output_type": "stream",
     "text": [
      "INFO - 07/22/25 19:17:09 - 0:00:20 - (7552/20000) Found 76/128 valid top-1 predictions. Generating solutions ...\n",
      "INFO - 07/22/25 19:17:09 - 0:00:20 -     Found 76/128 solutions in beam hypotheses.\n"
     ]
    },
    {
     "name": "stdout",
     "output_type": "stream",
     "text": [
      "INFO - 07/22/25 19:17:10 - 0:00:21 - (7680/20000) Found 71/128 valid top-1 predictions. Generating solutions ...\n",
      "INFO - 07/22/25 19:17:10 - 0:00:21 -     Found 71/128 solutions in beam hypotheses.\n"
     ]
    },
    {
     "name": "stdout",
     "output_type": "stream",
     "text": [
      "INFO - 07/22/25 19:17:10 - 0:00:21 - (7808/20000) Found 69/128 valid top-1 predictions. Generating solutions ...\n",
      "INFO - 07/22/25 19:17:10 - 0:00:21 -     Found 69/128 solutions in beam hypotheses.\n"
     ]
    },
    {
     "name": "stdout",
     "output_type": "stream",
     "text": [
      "INFO - 07/22/25 19:17:10 - 0:00:21 - (7936/20000) Found 74/128 valid top-1 predictions. Generating solutions ...\n",
      "INFO - 07/22/25 19:17:10 - 0:00:21 -     Found 74/128 solutions in beam hypotheses.\n"
     ]
    },
    {
     "name": "stdout",
     "output_type": "stream",
     "text": [
      "INFO - 07/22/25 19:17:11 - 0:00:21 - (8064/20000) Found 63/128 valid top-1 predictions. Generating solutions ...\n",
      "INFO - 07/22/25 19:17:11 - 0:00:21 -     Found 63/128 solutions in beam hypotheses.\n"
     ]
    },
    {
     "name": "stdout",
     "output_type": "stream",
     "text": [
      "INFO - 07/22/25 19:17:11 - 0:00:22 - (8192/20000) Found 73/128 valid top-1 predictions. Generating solutions ...\n",
      "INFO - 07/22/25 19:17:11 - 0:00:22 -     Found 73/128 solutions in beam hypotheses.\n"
     ]
    },
    {
     "name": "stdout",
     "output_type": "stream",
     "text": [
      "INFO - 07/22/25 19:17:11 - 0:00:22 - (8320/20000) Found 79/128 valid top-1 predictions. Generating solutions ...\n",
      "INFO - 07/22/25 19:17:11 - 0:00:22 -     Found 79/128 solutions in beam hypotheses.\n"
     ]
    },
    {
     "name": "stdout",
     "output_type": "stream",
     "text": [
      "INFO - 07/22/25 19:17:12 - 0:00:22 - (8448/20000) Found 76/128 valid top-1 predictions. Generating solutions ...\n",
      "INFO - 07/22/25 19:17:12 - 0:00:22 -     Found 76/128 solutions in beam hypotheses.\n"
     ]
    },
    {
     "name": "stdout",
     "output_type": "stream",
     "text": [
      "INFO - 07/22/25 19:17:12 - 0:00:23 - (8576/20000) Found 74/128 valid top-1 predictions. Generating solutions ...\n",
      "INFO - 07/22/25 19:17:12 - 0:00:23 -     Found 74/128 solutions in beam hypotheses.\n"
     ]
    },
    {
     "name": "stdout",
     "output_type": "stream",
     "text": [
      "INFO - 07/22/25 19:17:12 - 0:00:23 - (8704/20000) Found 79/128 valid top-1 predictions. Generating solutions ...\n",
      "INFO - 07/22/25 19:17:12 - 0:00:23 -     Found 79/128 solutions in beam hypotheses.\n"
     ]
    },
    {
     "name": "stdout",
     "output_type": "stream",
     "text": [
      "INFO - 07/22/25 19:17:12 - 0:00:23 - (8832/20000) Found 69/128 valid top-1 predictions. Generating solutions ...\n",
      "INFO - 07/22/25 19:17:12 - 0:00:23 -     Found 69/128 solutions in beam hypotheses.\n"
     ]
    },
    {
     "name": "stdout",
     "output_type": "stream",
     "text": [
      "INFO - 07/22/25 19:17:13 - 0:00:24 - (8960/20000) Found 67/128 valid top-1 predictions. Generating solutions ...\n",
      "INFO - 07/22/25 19:17:13 - 0:00:24 -     Found 67/128 solutions in beam hypotheses.\n"
     ]
    },
    {
     "name": "stdout",
     "output_type": "stream",
     "text": [
      "INFO - 07/22/25 19:17:13 - 0:00:24 - (9088/20000) Found 81/128 valid top-1 predictions. Generating solutions ...\n",
      "INFO - 07/22/25 19:17:13 - 0:00:24 -     Found 81/128 solutions in beam hypotheses.\n"
     ]
    },
    {
     "name": "stdout",
     "output_type": "stream",
     "text": [
      "INFO - 07/22/25 19:17:13 - 0:00:24 - (9216/20000) Found 75/128 valid top-1 predictions. Generating solutions ...\n",
      "INFO - 07/22/25 19:17:13 - 0:00:24 -     Found 75/128 solutions in beam hypotheses.\n"
     ]
    },
    {
     "name": "stdout",
     "output_type": "stream",
     "text": [
      "INFO - 07/22/25 19:17:14 - 0:00:24 - (9344/20000) Found 75/128 valid top-1 predictions. Generating solutions ...\n",
      "INFO - 07/22/25 19:17:14 - 0:00:25 -     Found 75/128 solutions in beam hypotheses.\n"
     ]
    },
    {
     "name": "stdout",
     "output_type": "stream",
     "text": [
      "INFO - 07/22/25 19:17:14 - 0:00:25 - (9472/20000) Found 74/128 valid top-1 predictions. Generating solutions ...\n",
      "INFO - 07/22/25 19:17:14 - 0:00:25 -     Found 74/128 solutions in beam hypotheses.\n"
     ]
    },
    {
     "name": "stdout",
     "output_type": "stream",
     "text": [
      "INFO - 07/22/25 19:17:14 - 0:00:25 - (9600/20000) Found 81/128 valid top-1 predictions. Generating solutions ...\n",
      "INFO - 07/22/25 19:17:14 - 0:00:25 -     Found 81/128 solutions in beam hypotheses.\n"
     ]
    },
    {
     "name": "stdout",
     "output_type": "stream",
     "text": [
      "INFO - 07/22/25 19:17:15 - 0:00:25 - (9728/20000) Found 67/128 valid top-1 predictions. Generating solutions ...\n",
      "INFO - 07/22/25 19:17:15 - 0:00:25 -     Found 67/128 solutions in beam hypotheses.\n"
     ]
    },
    {
     "name": "stdout",
     "output_type": "stream",
     "text": [
      "INFO - 07/22/25 19:17:15 - 0:00:26 - (9856/20000) Found 69/128 valid top-1 predictions. Generating solutions ...\n",
      "INFO - 07/22/25 19:17:15 - 0:00:26 -     Found 69/128 solutions in beam hypotheses.\n"
     ]
    },
    {
     "name": "stdout",
     "output_type": "stream",
     "text": [
      "INFO - 07/22/25 19:17:15 - 0:00:26 - (9984/20000) Found 76/128 valid top-1 predictions. Generating solutions ...\n",
      "INFO - 07/22/25 19:17:15 - 0:00:26 -     Found 76/128 solutions in beam hypotheses.\n"
     ]
    },
    {
     "name": "stdout",
     "output_type": "stream",
     "text": [
      "INFO - 07/22/25 19:17:15 - 0:00:26 - (10112/20000) Found 79/128 valid top-1 predictions. Generating solutions ...\n",
      "INFO - 07/22/25 19:17:16 - 0:00:26 -     Found 79/128 solutions in beam hypotheses.\n"
     ]
    },
    {
     "name": "stdout",
     "output_type": "stream",
     "text": [
      "INFO - 07/22/25 19:17:16 - 0:00:27 - (10240/20000) Found 72/128 valid top-1 predictions. Generating solutions ...\n",
      "INFO - 07/22/25 19:17:16 - 0:00:27 -     Found 72/128 solutions in beam hypotheses.\n"
     ]
    },
    {
     "name": "stdout",
     "output_type": "stream",
     "text": [
      "INFO - 07/22/25 19:17:16 - 0:00:27 - (10368/20000) Found 70/128 valid top-1 predictions. Generating solutions ...\n",
      "INFO - 07/22/25 19:17:16 - 0:00:27 -     Found 70/128 solutions in beam hypotheses.\n"
     ]
    },
    {
     "name": "stdout",
     "output_type": "stream",
     "text": [
      "INFO - 07/22/25 19:17:16 - 0:00:27 - (10496/20000) Found 68/128 valid top-1 predictions. Generating solutions ...\n",
      "INFO - 07/22/25 19:17:16 - 0:00:27 -     Found 68/128 solutions in beam hypotheses.\n"
     ]
    },
    {
     "name": "stdout",
     "output_type": "stream",
     "text": [
      "INFO - 07/22/25 19:17:17 - 0:00:28 - (10624/20000) Found 92/128 valid top-1 predictions. Generating solutions ...\n",
      "INFO - 07/22/25 19:17:17 - 0:00:28 -     Found 92/128 solutions in beam hypotheses.\n"
     ]
    },
    {
     "name": "stdout",
     "output_type": "stream",
     "text": [
      "INFO - 07/22/25 19:17:17 - 0:00:28 - (10752/20000) Found 82/128 valid top-1 predictions. Generating solutions ...\n",
      "INFO - 07/22/25 19:17:17 - 0:00:28 -     Found 82/128 solutions in beam hypotheses.\n"
     ]
    },
    {
     "name": "stdout",
     "output_type": "stream",
     "text": [
      "INFO - 07/22/25 19:17:17 - 0:00:28 - (10880/20000) Found 72/128 valid top-1 predictions. Generating solutions ...\n",
      "INFO - 07/22/25 19:17:17 - 0:00:28 -     Found 72/128 solutions in beam hypotheses.\n"
     ]
    },
    {
     "name": "stdout",
     "output_type": "stream",
     "text": [
      "INFO - 07/22/25 19:17:18 - 0:00:28 - (11008/20000) Found 76/128 valid top-1 predictions. Generating solutions ...\n",
      "INFO - 07/22/25 19:17:18 - 0:00:28 -     Found 76/128 solutions in beam hypotheses.\n"
     ]
    },
    {
     "name": "stdout",
     "output_type": "stream",
     "text": [
      "INFO - 07/22/25 19:17:18 - 0:00:29 - (11136/20000) Found 81/128 valid top-1 predictions. Generating solutions ...\n",
      "INFO - 07/22/25 19:17:18 - 0:00:29 -     Found 81/128 solutions in beam hypotheses.\n"
     ]
    },
    {
     "name": "stdout",
     "output_type": "stream",
     "text": [
      "INFO - 07/22/25 19:17:18 - 0:00:29 - (11264/20000) Found 75/128 valid top-1 predictions. Generating solutions ...\n",
      "INFO - 07/22/25 19:17:18 - 0:00:29 -     Found 75/128 solutions in beam hypotheses.\n"
     ]
    },
    {
     "name": "stdout",
     "output_type": "stream",
     "text": [
      "INFO - 07/22/25 19:17:19 - 0:00:29 - (11392/20000) Found 73/128 valid top-1 predictions. Generating solutions ...\n",
      "INFO - 07/22/25 19:17:19 - 0:00:29 -     Found 73/128 solutions in beam hypotheses.\n"
     ]
    },
    {
     "name": "stdout",
     "output_type": "stream",
     "text": [
      "INFO - 07/22/25 19:17:19 - 0:00:30 - (11520/20000) Found 64/128 valid top-1 predictions. Generating solutions ...\n",
      "INFO - 07/22/25 19:17:19 - 0:00:30 -     Found 64/128 solutions in beam hypotheses.\n"
     ]
    },
    {
     "name": "stdout",
     "output_type": "stream",
     "text": [
      "INFO - 07/22/25 19:17:19 - 0:00:30 - (11648/20000) Found 75/128 valid top-1 predictions. Generating solutions ...\n",
      "INFO - 07/22/25 19:17:19 - 0:00:30 -     Found 75/128 solutions in beam hypotheses.\n"
     ]
    },
    {
     "name": "stdout",
     "output_type": "stream",
     "text": [
      "INFO - 07/22/25 19:17:19 - 0:00:30 - (11776/20000) Found 67/128 valid top-1 predictions. Generating solutions ...\n",
      "INFO - 07/22/25 19:17:19 - 0:00:30 -     Found 67/128 solutions in beam hypotheses.\n"
     ]
    },
    {
     "name": "stdout",
     "output_type": "stream",
     "text": [
      "INFO - 07/22/25 19:17:20 - 0:00:31 - (11904/20000) Found 70/128 valid top-1 predictions. Generating solutions ...\n",
      "INFO - 07/22/25 19:17:20 - 0:00:31 -     Found 70/128 solutions in beam hypotheses.\n"
     ]
    },
    {
     "name": "stdout",
     "output_type": "stream",
     "text": [
      "INFO - 07/22/25 19:17:20 - 0:00:31 - (12032/20000) Found 70/128 valid top-1 predictions. Generating solutions ...\n",
      "INFO - 07/22/25 19:17:20 - 0:00:31 -     Found 70/128 solutions in beam hypotheses.\n"
     ]
    },
    {
     "name": "stdout",
     "output_type": "stream",
     "text": [
      "INFO - 07/22/25 19:17:20 - 0:00:31 - (12160/20000) Found 71/128 valid top-1 predictions. Generating solutions ...\n",
      "INFO - 07/22/25 19:17:20 - 0:00:31 -     Found 71/128 solutions in beam hypotheses.\n"
     ]
    },
    {
     "name": "stdout",
     "output_type": "stream",
     "text": [
      "INFO - 07/22/25 19:17:21 - 0:00:31 - (12288/20000) Found 82/128 valid top-1 predictions. Generating solutions ...\n",
      "INFO - 07/22/25 19:17:21 - 0:00:32 -     Found 82/128 solutions in beam hypotheses.\n"
     ]
    },
    {
     "name": "stdout",
     "output_type": "stream",
     "text": [
      "INFO - 07/22/25 19:17:21 - 0:00:32 - (12416/20000) Found 75/128 valid top-1 predictions. Generating solutions ...\n",
      "INFO - 07/22/25 19:17:21 - 0:00:32 -     Found 75/128 solutions in beam hypotheses.\n"
     ]
    },
    {
     "name": "stdout",
     "output_type": "stream",
     "text": [
      "INFO - 07/22/25 19:17:21 - 0:00:32 - (12544/20000) Found 66/128 valid top-1 predictions. Generating solutions ...\n",
      "INFO - 07/22/25 19:17:21 - 0:00:32 -     Found 66/128 solutions in beam hypotheses.\n"
     ]
    },
    {
     "name": "stdout",
     "output_type": "stream",
     "text": [
      "INFO - 07/22/25 19:17:22 - 0:00:32 - (12672/20000) Found 67/128 valid top-1 predictions. Generating solutions ...\n",
      "INFO - 07/22/25 19:17:22 - 0:00:32 -     Found 67/128 solutions in beam hypotheses.\n"
     ]
    },
    {
     "name": "stdout",
     "output_type": "stream",
     "text": [
      "INFO - 07/22/25 19:17:22 - 0:00:33 - (12800/20000) Found 75/128 valid top-1 predictions. Generating solutions ...\n",
      "INFO - 07/22/25 19:17:22 - 0:00:33 -     Found 75/128 solutions in beam hypotheses.\n"
     ]
    },
    {
     "name": "stdout",
     "output_type": "stream",
     "text": [
      "INFO - 07/22/25 19:17:22 - 0:00:33 - (12928/20000) Found 68/128 valid top-1 predictions. Generating solutions ...\n",
      "INFO - 07/22/25 19:17:22 - 0:00:33 -     Found 68/128 solutions in beam hypotheses.\n"
     ]
    },
    {
     "name": "stdout",
     "output_type": "stream",
     "text": [
      "INFO - 07/22/25 19:17:22 - 0:00:33 - (13056/20000) Found 70/128 valid top-1 predictions. Generating solutions ...\n",
      "INFO - 07/22/25 19:17:23 - 0:00:33 -     Found 70/128 solutions in beam hypotheses.\n"
     ]
    },
    {
     "name": "stdout",
     "output_type": "stream",
     "text": [
      "INFO - 07/22/25 19:17:23 - 0:00:34 - (13184/20000) Found 72/128 valid top-1 predictions. Generating solutions ...\n",
      "INFO - 07/22/25 19:17:23 - 0:00:34 -     Found 72/128 solutions in beam hypotheses.\n"
     ]
    },
    {
     "name": "stdout",
     "output_type": "stream",
     "text": [
      "INFO - 07/22/25 19:17:23 - 0:00:34 - (13312/20000) Found 69/128 valid top-1 predictions. Generating solutions ...\n",
      "INFO - 07/22/25 19:17:23 - 0:00:34 -     Found 69/128 solutions in beam hypotheses.\n"
     ]
    },
    {
     "name": "stdout",
     "output_type": "stream",
     "text": [
      "INFO - 07/22/25 19:17:23 - 0:00:34 - (13440/20000) Found 75/128 valid top-1 predictions. Generating solutions ...\n",
      "INFO - 07/22/25 19:17:23 - 0:00:34 -     Found 75/128 solutions in beam hypotheses.\n"
     ]
    },
    {
     "name": "stdout",
     "output_type": "stream",
     "text": [
      "INFO - 07/22/25 19:17:24 - 0:00:35 - (13568/20000) Found 80/128 valid top-1 predictions. Generating solutions ...\n",
      "INFO - 07/22/25 19:17:24 - 0:00:35 -     Found 80/128 solutions in beam hypotheses.\n"
     ]
    },
    {
     "name": "stdout",
     "output_type": "stream",
     "text": [
      "INFO - 07/22/25 19:17:24 - 0:00:35 - (13696/20000) Found 84/128 valid top-1 predictions. Generating solutions ...\n",
      "INFO - 07/22/25 19:17:24 - 0:00:35 -     Found 84/128 solutions in beam hypotheses.\n"
     ]
    },
    {
     "name": "stdout",
     "output_type": "stream",
     "text": [
      "INFO - 07/22/25 19:17:24 - 0:00:35 - (13824/20000) Found 78/128 valid top-1 predictions. Generating solutions ...\n",
      "INFO - 07/22/25 19:17:24 - 0:00:35 -     Found 78/128 solutions in beam hypotheses.\n"
     ]
    },
    {
     "name": "stdout",
     "output_type": "stream",
     "text": [
      "INFO - 07/22/25 19:17:25 - 0:00:35 - (13952/20000) Found 76/128 valid top-1 predictions. Generating solutions ...\n",
      "INFO - 07/22/25 19:17:25 - 0:00:35 -     Found 76/128 solutions in beam hypotheses.\n"
     ]
    },
    {
     "name": "stdout",
     "output_type": "stream",
     "text": [
      "INFO - 07/22/25 19:17:25 - 0:00:36 - (14080/20000) Found 87/128 valid top-1 predictions. Generating solutions ...\n",
      "INFO - 07/22/25 19:17:25 - 0:00:36 -     Found 87/128 solutions in beam hypotheses.\n"
     ]
    },
    {
     "name": "stdout",
     "output_type": "stream",
     "text": [
      "INFO - 07/22/25 19:17:25 - 0:00:36 - (14208/20000) Found 81/128 valid top-1 predictions. Generating solutions ...\n",
      "INFO - 07/22/25 19:17:25 - 0:00:36 -     Found 81/128 solutions in beam hypotheses.\n"
     ]
    },
    {
     "name": "stdout",
     "output_type": "stream",
     "text": [
      "INFO - 07/22/25 19:17:26 - 0:00:36 - (14336/20000) Found 66/128 valid top-1 predictions. Generating solutions ...\n",
      "INFO - 07/22/25 19:17:26 - 0:00:36 -     Found 66/128 solutions in beam hypotheses.\n"
     ]
    },
    {
     "name": "stdout",
     "output_type": "stream",
     "text": [
      "INFO - 07/22/25 19:17:26 - 0:00:37 - (14464/20000) Found 74/128 valid top-1 predictions. Generating solutions ...\n",
      "INFO - 07/22/25 19:17:26 - 0:00:37 -     Found 74/128 solutions in beam hypotheses.\n"
     ]
    },
    {
     "name": "stdout",
     "output_type": "stream",
     "text": [
      "INFO - 07/22/25 19:17:26 - 0:00:37 - (14592/20000) Found 79/128 valid top-1 predictions. Generating solutions ...\n",
      "INFO - 07/22/25 19:17:26 - 0:00:37 -     Found 79/128 solutions in beam hypotheses.\n"
     ]
    },
    {
     "name": "stdout",
     "output_type": "stream",
     "text": [
      "INFO - 07/22/25 19:17:26 - 0:00:37 - (14720/20000) Found 80/128 valid top-1 predictions. Generating solutions ...\n",
      "INFO - 07/22/25 19:17:26 - 0:00:37 -     Found 80/128 solutions in beam hypotheses.\n"
     ]
    },
    {
     "name": "stdout",
     "output_type": "stream",
     "text": [
      "INFO - 07/22/25 19:17:27 - 0:00:38 - (14848/20000) Found 75/128 valid top-1 predictions. Generating solutions ...\n",
      "INFO - 07/22/25 19:17:27 - 0:00:38 -     Found 75/128 solutions in beam hypotheses.\n"
     ]
    },
    {
     "name": "stdout",
     "output_type": "stream",
     "text": [
      "INFO - 07/22/25 19:17:27 - 0:00:38 - (14976/20000) Found 72/128 valid top-1 predictions. Generating solutions ...\n",
      "INFO - 07/22/25 19:17:27 - 0:00:38 -     Found 72/128 solutions in beam hypotheses.\n"
     ]
    },
    {
     "name": "stdout",
     "output_type": "stream",
     "text": [
      "INFO - 07/22/25 19:17:27 - 0:00:38 - (15104/20000) Found 69/128 valid top-1 predictions. Generating solutions ...\n",
      "INFO - 07/22/25 19:17:27 - 0:00:38 -     Found 69/128 solutions in beam hypotheses.\n"
     ]
    },
    {
     "name": "stdout",
     "output_type": "stream",
     "text": [
      "INFO - 07/22/25 19:17:28 - 0:00:38 - (15232/20000) Found 79/128 valid top-1 predictions. Generating solutions ...\n",
      "INFO - 07/22/25 19:17:28 - 0:00:39 -     Found 79/128 solutions in beam hypotheses.\n"
     ]
    },
    {
     "name": "stdout",
     "output_type": "stream",
     "text": [
      "INFO - 07/22/25 19:17:28 - 0:00:39 - (15360/20000) Found 72/128 valid top-1 predictions. Generating solutions ...\n",
      "INFO - 07/22/25 19:17:28 - 0:00:39 -     Found 72/128 solutions in beam hypotheses.\n"
     ]
    },
    {
     "name": "stdout",
     "output_type": "stream",
     "text": [
      "INFO - 07/22/25 19:17:28 - 0:00:39 - (15488/20000) Found 71/128 valid top-1 predictions. Generating solutions ...\n",
      "INFO - 07/22/25 19:17:28 - 0:00:39 -     Found 71/128 solutions in beam hypotheses.\n"
     ]
    },
    {
     "name": "stdout",
     "output_type": "stream",
     "text": [
      "INFO - 07/22/25 19:17:29 - 0:00:39 - (15616/20000) Found 80/128 valid top-1 predictions. Generating solutions ...\n",
      "INFO - 07/22/25 19:17:29 - 0:00:39 -     Found 80/128 solutions in beam hypotheses.\n"
     ]
    },
    {
     "name": "stdout",
     "output_type": "stream",
     "text": [
      "INFO - 07/22/25 19:17:29 - 0:00:40 - (15744/20000) Found 69/128 valid top-1 predictions. Generating solutions ...\n",
      "INFO - 07/22/25 19:17:29 - 0:00:40 -     Found 69/128 solutions in beam hypotheses.\n"
     ]
    },
    {
     "name": "stdout",
     "output_type": "stream",
     "text": [
      "INFO - 07/22/25 19:17:29 - 0:00:40 - (15872/20000) Found 76/128 valid top-1 predictions. Generating solutions ...\n",
      "INFO - 07/22/25 19:17:29 - 0:00:40 -     Found 76/128 solutions in beam hypotheses.\n"
     ]
    },
    {
     "name": "stdout",
     "output_type": "stream",
     "text": [
      "INFO - 07/22/25 19:17:30 - 0:00:40 - (16000/20000) Found 73/128 valid top-1 predictions. Generating solutions ...\n",
      "INFO - 07/22/25 19:17:30 - 0:00:40 -     Found 73/128 solutions in beam hypotheses.\n"
     ]
    },
    {
     "name": "stdout",
     "output_type": "stream",
     "text": [
      "INFO - 07/22/25 19:17:30 - 0:00:41 - (16128/20000) Found 64/128 valid top-1 predictions. Generating solutions ...\n",
      "INFO - 07/22/25 19:17:30 - 0:00:41 -     Found 64/128 solutions in beam hypotheses.\n"
     ]
    },
    {
     "name": "stdout",
     "output_type": "stream",
     "text": [
      "INFO - 07/22/25 19:17:30 - 0:00:41 - (16256/20000) Found 75/128 valid top-1 predictions. Generating solutions ...\n",
      "INFO - 07/22/25 19:17:30 - 0:00:41 -     Found 75/128 solutions in beam hypotheses.\n"
     ]
    },
    {
     "name": "stdout",
     "output_type": "stream",
     "text": [
      "INFO - 07/22/25 19:17:30 - 0:00:41 - (16384/20000) Found 77/128 valid top-1 predictions. Generating solutions ...\n",
      "INFO - 07/22/25 19:17:30 - 0:00:41 -     Found 77/128 solutions in beam hypotheses.\n"
     ]
    },
    {
     "name": "stdout",
     "output_type": "stream",
     "text": [
      "INFO - 07/22/25 19:17:31 - 0:00:42 - (16512/20000) Found 78/128 valid top-1 predictions. Generating solutions ...\n",
      "INFO - 07/22/25 19:17:31 - 0:00:42 -     Found 78/128 solutions in beam hypotheses.\n"
     ]
    },
    {
     "name": "stdout",
     "output_type": "stream",
     "text": [
      "INFO - 07/22/25 19:17:31 - 0:00:42 - (16640/20000) Found 75/128 valid top-1 predictions. Generating solutions ...\n",
      "INFO - 07/22/25 19:17:31 - 0:00:42 -     Found 75/128 solutions in beam hypotheses.\n"
     ]
    },
    {
     "name": "stdout",
     "output_type": "stream",
     "text": [
      "INFO - 07/22/25 19:17:31 - 0:00:42 - (16768/20000) Found 74/128 valid top-1 predictions. Generating solutions ...\n",
      "INFO - 07/22/25 19:17:31 - 0:00:42 -     Found 74/128 solutions in beam hypotheses.\n"
     ]
    },
    {
     "name": "stdout",
     "output_type": "stream",
     "text": [
      "INFO - 07/22/25 19:17:32 - 0:00:42 - (16896/20000) Found 76/128 valid top-1 predictions. Generating solutions ...\n",
      "INFO - 07/22/25 19:17:32 - 0:00:43 -     Found 76/128 solutions in beam hypotheses.\n"
     ]
    },
    {
     "name": "stdout",
     "output_type": "stream",
     "text": [
      "INFO - 07/22/25 19:17:32 - 0:00:43 - (17024/20000) Found 75/128 valid top-1 predictions. Generating solutions ...\n",
      "INFO - 07/22/25 19:17:32 - 0:00:43 -     Found 75/128 solutions in beam hypotheses.\n"
     ]
    },
    {
     "name": "stdout",
     "output_type": "stream",
     "text": [
      "INFO - 07/22/25 19:17:32 - 0:00:43 - (17152/20000) Found 66/128 valid top-1 predictions. Generating solutions ...\n",
      "INFO - 07/22/25 19:17:32 - 0:00:43 -     Found 66/128 solutions in beam hypotheses.\n"
     ]
    },
    {
     "name": "stdout",
     "output_type": "stream",
     "text": [
      "INFO - 07/22/25 19:17:33 - 0:00:43 - (17280/20000) Found 72/128 valid top-1 predictions. Generating solutions ...\n",
      "INFO - 07/22/25 19:17:33 - 0:00:43 -     Found 72/128 solutions in beam hypotheses.\n"
     ]
    },
    {
     "name": "stdout",
     "output_type": "stream",
     "text": [
      "INFO - 07/22/25 19:17:33 - 0:00:44 - (17408/20000) Found 75/128 valid top-1 predictions. Generating solutions ...\n",
      "INFO - 07/22/25 19:17:33 - 0:00:44 -     Found 75/128 solutions in beam hypotheses.\n"
     ]
    },
    {
     "name": "stdout",
     "output_type": "stream",
     "text": [
      "INFO - 07/22/25 19:17:33 - 0:00:44 - (17536/20000) Found 77/128 valid top-1 predictions. Generating solutions ...\n",
      "INFO - 07/22/25 19:17:33 - 0:00:44 -     Found 77/128 solutions in beam hypotheses.\n"
     ]
    },
    {
     "name": "stdout",
     "output_type": "stream",
     "text": [
      "INFO - 07/22/25 19:17:34 - 0:00:44 - (17664/20000) Found 73/128 valid top-1 predictions. Generating solutions ...\n",
      "INFO - 07/22/25 19:17:34 - 0:00:44 -     Found 73/128 solutions in beam hypotheses.\n"
     ]
    },
    {
     "name": "stdout",
     "output_type": "stream",
     "text": [
      "INFO - 07/22/25 19:17:34 - 0:00:45 - (17792/20000) Found 70/128 valid top-1 predictions. Generating solutions ...\n",
      "INFO - 07/22/25 19:17:34 - 0:00:45 -     Found 70/128 solutions in beam hypotheses.\n"
     ]
    },
    {
     "name": "stdout",
     "output_type": "stream",
     "text": [
      "INFO - 07/22/25 19:17:34 - 0:00:45 - (17920/20000) Found 80/128 valid top-1 predictions. Generating solutions ...\n",
      "INFO - 07/22/25 19:17:34 - 0:00:45 -     Found 80/128 solutions in beam hypotheses.\n"
     ]
    },
    {
     "name": "stdout",
     "output_type": "stream",
     "text": [
      "INFO - 07/22/25 19:17:34 - 0:00:45 - (18048/20000) Found 81/128 valid top-1 predictions. Generating solutions ...\n",
      "INFO - 07/22/25 19:17:34 - 0:00:45 -     Found 81/128 solutions in beam hypotheses.\n"
     ]
    },
    {
     "name": "stdout",
     "output_type": "stream",
     "text": [
      "INFO - 07/22/25 19:17:35 - 0:00:46 - (18176/20000) Found 77/128 valid top-1 predictions. Generating solutions ...\n",
      "INFO - 07/22/25 19:17:35 - 0:00:46 -     Found 77/128 solutions in beam hypotheses.\n"
     ]
    },
    {
     "name": "stdout",
     "output_type": "stream",
     "text": [
      "INFO - 07/22/25 19:17:35 - 0:00:46 - (18304/20000) Found 75/128 valid top-1 predictions. Generating solutions ...\n",
      "INFO - 07/22/25 19:17:35 - 0:00:46 -     Found 75/128 solutions in beam hypotheses.\n"
     ]
    },
    {
     "name": "stdout",
     "output_type": "stream",
     "text": [
      "INFO - 07/22/25 19:17:35 - 0:00:46 - (18432/20000) Found 78/128 valid top-1 predictions. Generating solutions ...\n",
      "INFO - 07/22/25 19:17:35 - 0:00:46 -     Found 78/128 solutions in beam hypotheses.\n"
     ]
    },
    {
     "name": "stdout",
     "output_type": "stream",
     "text": [
      "INFO - 07/22/25 19:17:36 - 0:00:46 - (18560/20000) Found 76/128 valid top-1 predictions. Generating solutions ...\n",
      "INFO - 07/22/25 19:17:36 - 0:00:47 -     Found 76/128 solutions in beam hypotheses.\n"
     ]
    },
    {
     "name": "stdout",
     "output_type": "stream",
     "text": [
      "INFO - 07/22/25 19:17:36 - 0:00:47 - (18688/20000) Found 74/128 valid top-1 predictions. Generating solutions ...\n",
      "INFO - 07/22/25 19:17:36 - 0:00:47 -     Found 74/128 solutions in beam hypotheses.\n"
     ]
    },
    {
     "name": "stdout",
     "output_type": "stream",
     "text": [
      "INFO - 07/22/25 19:17:36 - 0:00:47 - (18816/20000) Found 66/128 valid top-1 predictions. Generating solutions ...\n",
      "INFO - 07/22/25 19:17:36 - 0:00:47 -     Found 66/128 solutions in beam hypotheses.\n"
     ]
    },
    {
     "name": "stdout",
     "output_type": "stream",
     "text": [
      "INFO - 07/22/25 19:17:37 - 0:00:47 - (18944/20000) Found 74/128 valid top-1 predictions. Generating solutions ...\n",
      "INFO - 07/22/25 19:17:37 - 0:00:47 -     Found 74/128 solutions in beam hypotheses.\n"
     ]
    },
    {
     "name": "stdout",
     "output_type": "stream",
     "text": [
      "INFO - 07/22/25 19:17:37 - 0:00:48 - (19072/20000) Found 78/128 valid top-1 predictions. Generating solutions ...\n",
      "INFO - 07/22/25 19:17:37 - 0:00:48 -     Found 78/128 solutions in beam hypotheses.\n"
     ]
    },
    {
     "name": "stdout",
     "output_type": "stream",
     "text": [
      "INFO - 07/22/25 19:17:37 - 0:00:48 - (19200/20000) Found 75/128 valid top-1 predictions. Generating solutions ...\n",
      "INFO - 07/22/25 19:17:37 - 0:00:48 -     Found 75/128 solutions in beam hypotheses.\n"
     ]
    },
    {
     "name": "stdout",
     "output_type": "stream",
     "text": [
      "INFO - 07/22/25 19:17:38 - 0:00:48 - (19328/20000) Found 78/128 valid top-1 predictions. Generating solutions ...\n",
      "INFO - 07/22/25 19:17:38 - 0:00:48 -     Found 78/128 solutions in beam hypotheses.\n"
     ]
    },
    {
     "name": "stdout",
     "output_type": "stream",
     "text": [
      "INFO - 07/22/25 19:17:38 - 0:00:49 - (19456/20000) Found 66/128 valid top-1 predictions. Generating solutions ...\n",
      "INFO - 07/22/25 19:17:38 - 0:00:49 -     Found 66/128 solutions in beam hypotheses.\n"
     ]
    },
    {
     "name": "stdout",
     "output_type": "stream",
     "text": [
      "INFO - 07/22/25 19:17:38 - 0:00:49 - (19584/20000) Found 76/128 valid top-1 predictions. Generating solutions ...\n",
      "INFO - 07/22/25 19:17:38 - 0:00:49 -     Found 76/128 solutions in beam hypotheses.\n"
     ]
    },
    {
     "name": "stdout",
     "output_type": "stream",
     "text": [
      "INFO - 07/22/25 19:17:38 - 0:00:49 - (19712/20000) Found 74/128 valid top-1 predictions. Generating solutions ...\n",
      "INFO - 07/22/25 19:17:38 - 0:00:49 -     Found 74/128 solutions in beam hypotheses.\n"
     ]
    },
    {
     "name": "stdout",
     "output_type": "stream",
     "text": [
      "INFO - 07/22/25 19:17:39 - 0:00:50 - (19840/20000) Found 76/128 valid top-1 predictions. Generating solutions ...\n",
      "INFO - 07/22/25 19:17:39 - 0:00:50 -     Found 76/128 solutions in beam hypotheses.\n"
     ]
    },
    {
     "name": "stdout",
     "output_type": "stream",
     "text": [
      "INFO - 07/22/25 19:17:39 - 0:00:50 - (19968/20000) Found 73/128 valid top-1 predictions. Generating solutions ...\n",
      "INFO - 07/22/25 19:17:39 - 0:00:50 -     Found 73/128 solutions in beam hypotheses.\n",
      "INFO - 07/22/25 19:17:39 - 0:00:50 - (20000/20000) Found 11/32 valid top-1 predictions. Generating solutions ...\n",
      "INFO - 07/22/25 19:17:39 - 0:00:50 -     Found 11/32 solutions in beam hypotheses.\n",
      "INFO - 07/22/25 19:17:39 - 0:00:50 - 11639/20000 (58.195%) equations were evaluated correctly.\n",
      "INFO - 07/22/25 19:17:39 - 0:00:50 - 0: 3133 / 7809 (40.12%)\n",
      "INFO - 07/22/25 19:17:39 - 0:00:50 - 1: 8506 / 12191 (69.77%)\n"
     ]
    },
    {
     "name": "stdout",
     "output_type": "stream",
     "text": [
      "INFO - 07/22/25 19:17:39 - 0:00:50 - epoch -> 227.000000\n",
      "INFO - 07/22/25 19:17:39 - 0:00:50 - valid_arithmetic_xe_loss -> 0.857812\n",
      "INFO - 07/22/25 19:17:39 - 0:00:50 - valid_arithmetic_acc -> 58.195000\n",
      "INFO - 07/22/25 19:17:39 - 0:00:50 - valid_arithmetic_perfect -> 58.195000\n",
      "INFO - 07/22/25 19:17:39 - 0:00:50 - valid_arithmetic_correct -> 58.195000\n",
      "INFO - 07/22/25 19:17:39 - 0:00:50 - valid_arithmetic_acc_d1 -> 58.195000\n",
      "INFO - 07/22/25 19:17:39 - 0:00:50 - valid_arithmetic_acc_d2 -> 58.195000\n",
      "INFO - 07/22/25 19:17:39 - 0:00:50 - valid_arithmetic_acc_d3 -> 81.575000\n",
      "INFO - 07/22/25 19:17:39 - 0:00:50 - valid_arithmetic_acc_0 -> 40.120374\n",
      "INFO - 07/22/25 19:17:39 - 0:00:50 - valid_arithmetic_acc_1 -> 69.772783\n",
      "INFO - 07/22/25 19:17:39 - 0:00:50 - __log__:{\"epoch\": 227, \"valid_arithmetic_xe_loss\": 0.8578119018554687, \"valid_arithmetic_acc\": 58.195, \"valid_arithmetic_perfect\": 58.195, \"valid_arithmetic_correct\": 58.195, \"valid_arithmetic_acc_d1\": 58.195, \"valid_arithmetic_acc_d2\": 58.195, \"valid_arithmetic_acc_d3\": 81.575, \"valid_arithmetic_acc_0\": 40.12037392751953, \"valid_arithmetic_acc_1\": 69.77278320072185}\n"
     ]
    },
    {
     "name": "stdout",
     "output_type": "stream",
     "text": [
      "INFO - 07/22/25 19:17:42 - 0:00:00 - ============ Initialized logger ============\n",
      "INFO - 07/22/25 19:17:42 - 0:00:00 - GRU: False\n",
      "                                     accumulate_gradients: 1\n",
      "                                     act_bias: 0\n",
      "                                     act_biased: False\n",
      "                                     act_ponder_coupling: 0.01\n",
      "                                     act_threshold: 0.01\n",
      "                                     amp: -1\n",
      "                                     architecture: encoder_decoder\n",
      "                                     attention_dropout: 0\n",
      "                                     base: 1000\n",
      "                                     batch_load: False\n",
      "                                     batch_size: 32\n",
      "                                     batch_size_eval: 128\n",
      "                                     beam_early_stopping: True\n",
      "                                     beam_eval: False\n",
      "                                     beam_eval_train: 0\n",
      "                                     beam_length_penalty: 1\n",
      "                                     beam_size: 1\n",
      "                                     biased_gates: False\n",
      "                                     bidirectional: False\n",
      "                                     class_by_length: False\n",
      "                                     clip_grad_norm: 5\n",
      "                                     command: python /home/user/Int2Int/train.py --num_workers 0 --dump_path '/home/user/fastdir/dump' --exp_name basicsq --exp_id 2 --eval_only True --eval_data '/home/user/fastdir/data/musq_p_3_random.txt' --eval_size 20000 --data_types 'int[200]:range(-1,2)' --exp_id \"2\"\n",
      "                                     cpu: False\n",
      "                                     data_types: int[200]:range(-1,2)\n",
      "                                     debug: False\n",
      "                                     debug_slurm: False\n",
      "                                     dec_act: False\n",
      "                                     dec_emb_dim: 256\n",
      "                                     dec_gated: False\n",
      "                                     dec_has_pos_emb: True\n",
      "                                     dec_loop_idx: -1\n",
      "                                     dec_loops: 1\n",
      "                                     dim1: 10\n",
      "                                     dim2: 10\n",
      "                                     dropout: 0\n",
      "                                     dump_path: /home/user/fastdir/dump/basicsq/2\n",
      "                                     enc_act: False\n",
      "                                     enc_emb_dim: 256\n",
      "                                     enc_gated: False\n",
      "                                     enc_has_pos_emb: True\n",
      "                                     enc_loop_idx: -1\n",
      "                                     enc_loops: 1\n",
      "                                     env_base_seed: -1\n",
      "                                     env_name: arithmetic\n",
      "                                     epoch_size: 300000\n",
      "                                     eval_data: /home/user/fastdir/data/musq_p_3_random.txt\n",
      "                                     eval_from_exp: \n",
      "                                     eval_only: True\n",
      "                                     eval_size: 20000\n",
      "                                     eval_verbose: 0\n",
      "                                     eval_verbose_print: False\n",
      "                                     exp_id: 2\n",
      "                                     exp_name: basicsq\n",
      "                                     export_data: False\n",
      "                                     first_class_prob: 0.25\n",
      "                                     first_class_size: 1000000\n",
      "                                     fp16: False\n",
      "                                     gate_bias: 0\n",
      "                                     gated: False\n",
      "                                     gelu_activation: False\n",
      "                                     global_rank: 0\n",
      "                                     is_master: True\n",
      "                                     is_slurm_job: False\n",
      "                                     local_gpu: -1\n",
      "                                     local_rank: 0\n",
      "                                     lstm: False\n",
      "                                     lstm_hidden_dim: 2048\n",
      "                                     master_port: -1\n",
      "                                     max_class: 101\n",
      "                                     max_epoch: 100000\n",
      "                                     max_len: 512\n",
      "                                     max_output_len: 512\n",
      "                                     max_src_len: 0\n",
      "                                     maxint: 1000000\n",
      "                                     minint: 1\n",
      "                                     modulus: 67\n",
      "                                     multi_gpu: False\n",
      "                                     multi_node: False\n",
      "                                     n_dec_heads: 8\n",
      "                                     n_dec_hidden_layers: 1\n",
      "                                     n_dec_layers: 4\n",
      "                                     n_enc_heads: 8\n",
      "                                     n_enc_hidden_layers: 1\n",
      "                                     n_enc_layers: 4\n",
      "                                     n_gpu_per_node: 1\n",
      "                                     n_nodes: 1\n",
      "                                     node_id: 0\n",
      "                                     norm_attention: False\n",
      "                                     num_workers: 0\n",
      "                                     operation: data\n",
      "                                     optimizer: adam,lr=0.0001\n",
      "                                     reload_checkpoint: \n",
      "                                     reload_model: \n",
      "                                     reload_size: -1\n",
      "                                     save_periodic: 0\n",
      "                                     scalar_gate: False\n",
      "                                     share_inout_emb: True\n",
      "                                     sinusoidal_embeddings: False\n",
      "                                     stopping_criterion: \n",
      "                                     tasks: arithmetic\n",
      "                                     train_data: \n",
      "                                     two_classes: False\n",
      "                                     validation_metrics: \n",
      "                                     windows: False\n",
      "                                     world_size: 1\n",
      "                                     xav_init: False\n",
      "INFO - 07/22/25 19:17:42 - 0:00:00 - The experiment will be stored in /home/user/fastdir/dump/basicsq/2\n",
      "                                     \n",
      "INFO - 07/22/25 19:17:42 - 0:00:00 - Running command: python /home/user/Int2Int/train.py --num_workers 0 --dump_path '/home/user/fastdir/dump' --exp_name basicsq --exp_id 2 --eval_only True --eval_data '/home/user/fastdir/data/musq_p_3_random.txt' --eval_size 20000 --data_types 'int[200]:range(-1,2)'\n",
      "\n",
      "INFO - 07/22/25 19:17:42 - 0:00:00 - words: {'<eos>': 0, '<pad>': 1, '<sep>': 2, '(': 3, ')': 4, '<SPECIAL_0>': 5, '<SPECIAL_1>': 6, '<SPECIAL_2>': 7, '<SPECIAL_3>': 8, '<SPECIAL_4>': 9, '<SPECIAL_5>': 10, '<SPECIAL_6>': 11, '<SPECIAL_7>': 12, '<SPECIAL_8>': 13, '<SPECIAL_9>': 14, '+': 15, '-': 16, '-1': 17, '0': 18, '1': 19, '10': 20, '100': 21, '101': 22, '102': 23, '103': 24, '104': 25, '105': 26, '106': 27, '107': 28, '108': 29, '109': 30, '11': 31, '110': 32, '111': 33, '112': 34, '113': 35, '114': 36, '115': 37, '116': 38, '117': 39, '118': 40, '119': 41, '12': 42, '120': 43, '121': 44, '122': 45, '123': 46, '124': 47, '125': 48, '126': 49, '127': 50, '128': 51, '129': 52, '13': 53, '130': 54, '131': 55, '132': 56, '133': 57, '134': 58, '135': 59, '136': 60, '137': 61, '138': 62, '139': 63, '14': 64, '140': 65, '141': 66, '142': 67, '143': 68, '144': 69, '145': 70, '146': 71, '147': 72, '148': 73, '149': 74, '15': 75, '150': 76, '151': 77, '152': 78, '153': 79, '154': 80, '155': 81, '156': 82, '157': 83, '158': 84, '159': 85, '16': 86, '160': 87, '161': 88, '162': 89, '163': 90, '164': 91, '165': 92, '166': 93, '167': 94, '168': 95, '169': 96, '17': 97, '170': 98, '171': 99, '172': 100, '173': 101, '174': 102, '175': 103, '176': 104, '177': 105, '178': 106, '179': 107, '18': 108, '180': 109, '181': 110, '182': 111, '183': 112, '184': 113, '185': 114, '186': 115, '187': 116, '188': 117, '189': 118, '19': 119, '190': 120, '191': 121, '192': 122, '193': 123, '194': 124, '195': 125, '196': 126, '197': 127, '198': 128, '199': 129, '2': 130, '20': 131, '200': 132, '201': 133, '202': 134, '203': 135, '204': 136, '205': 137, '206': 138, '207': 139, '208': 140, '209': 141, '21': 142, '210': 143, '211': 144, '212': 145, '213': 146, '214': 147, '215': 148, '216': 149, '217': 150, '218': 151, '219': 152, '22': 153, '220': 154, '221': 155, '222': 156, '223': 157, '224': 158, '225': 159, '226': 160, '227': 161, '228': 162, '229': 163, '23': 164, '230': 165, '231': 166, '232': 167, '233': 168, '234': 169, '235': 170, '236': 171, '237': 172, '238': 173, '239': 174, '24': 175, '240': 176, '241': 177, '242': 178, '243': 179, '244': 180, '245': 181, '246': 182, '247': 183, '248': 184, '249': 185, '25': 186, '250': 187, '251': 188, '252': 189, '253': 190, '254': 191, '255': 192, '256': 193, '257': 194, '258': 195, '259': 196, '26': 197, '260': 198, '261': 199, '262': 200, '263': 201, '264': 202, '265': 203, '266': 204, '267': 205, '268': 206, '269': 207, '27': 208, '270': 209, '271': 210, '272': 211, '273': 212, '274': 213, '275': 214, '276': 215, '277': 216, '278': 217, '279': 218, '28': 219, '280': 220, '281': 221, '282': 222, '283': 223, '284': 224, '285': 225, '286': 226, '287': 227, '288': 228, '289': 229, '29': 230, '290': 231, '291': 232, '292': 233, '293': 234, '294': 235, '295': 236, '296': 237, '297': 238, '298': 239, '299': 240, '3': 241, '30': 242, '300': 243, '301': 244, '302': 245, '303': 246, '304': 247, '305': 248, '306': 249, '307': 250, '308': 251, '309': 252, '31': 253, '310': 254, '311': 255, '312': 256, '313': 257, '314': 258, '315': 259, '316': 260, '317': 261, '318': 262, '319': 263, '32': 264, '320': 265, '321': 266, '322': 267, '323': 268, '324': 269, '325': 270, '326': 271, '327': 272, '328': 273, '329': 274, '33': 275, '330': 276, '331': 277, '332': 278, '333': 279, '334': 280, '335': 281, '336': 282, '337': 283, '338': 284, '339': 285, '34': 286, '340': 287, '341': 288, '342': 289, '343': 290, '344': 291, '345': 292, '346': 293, '347': 294, '348': 295, '349': 296, '35': 297, '350': 298, '351': 299, '352': 300, '353': 301, '354': 302, '355': 303, '356': 304, '357': 305, '358': 306, '359': 307, '36': 308, '360': 309, '361': 310, '362': 311, '363': 312, '364': 313, '365': 314, '366': 315, '367': 316, '368': 317, '369': 318, '37': 319, '370': 320, '371': 321, '372': 322, '373': 323, '374': 324, '375': 325, '376': 326, '377': 327, '378': 328, '379': 329, '38': 330, '380': 331, '381': 332, '382': 333, '383': 334, '384': 335, '385': 336, '386': 337, '387': 338, '388': 339, '389': 340, '39': 341, '390': 342, '391': 343, '392': 344, '393': 345, '394': 346, '395': 347, '396': 348, '397': 349, '398': 350, '399': 351, '4': 352, '40': 353, '400': 354, '401': 355, '402': 356, '403': 357, '404': 358, '405': 359, '406': 360, '407': 361, '408': 362, '409': 363, '41': 364, '410': 365, '411': 366, '412': 367, '413': 368, '414': 369, '415': 370, '416': 371, '417': 372, '418': 373, '419': 374, '42': 375, '420': 376, '421': 377, '422': 378, '423': 379, '424': 380, '425': 381, '426': 382, '427': 383, '428': 384, '429': 385, '43': 386, '430': 387, '431': 388, '432': 389, '433': 390, '434': 391, '435': 392, '436': 393, '437': 394, '438': 395, '439': 396, '44': 397, '440': 398, '441': 399, '442': 400, '443': 401, '444': 402, '445': 403, '446': 404, '447': 405, '448': 406, '449': 407, '45': 408, '450': 409, '451': 410, '452': 411, '453': 412, '454': 413, '455': 414, '456': 415, '457': 416, '458': 417, '459': 418, '46': 419, '460': 420, '461': 421, '462': 422, '463': 423, '464': 424, '465': 425, '466': 426, '467': 427, '468': 428, '469': 429, '47': 430, '470': 431, '471': 432, '472': 433, '473': 434, '474': 435, '475': 436, '476': 437, '477': 438, '478': 439, '479': 440, '48': 441, '480': 442, '481': 443, '482': 444, '483': 445, '484': 446, '485': 447, '486': 448, '487': 449, '488': 450, '489': 451, '49': 452, '490': 453, '491': 454, '492': 455, '493': 456, '494': 457, '495': 458, '496': 459, '497': 460, '498': 461, '499': 462, '5': 463, '50': 464, '500': 465, '501': 466, '502': 467, '503': 468, '504': 469, '505': 470, '506': 471, '507': 472, '508': 473, '509': 474, '51': 475, '510': 476, '511': 477, '512': 478, '513': 479, '514': 480, '515': 481, '516': 482, '517': 483, '518': 484, '519': 485, '52': 486, '520': 487, '521': 488, '522': 489, '523': 490, '524': 491, '525': 492, '526': 493, '527': 494, '528': 495, '529': 496, '53': 497, '530': 498, '531': 499, '532': 500, '533': 501, '534': 502, '535': 503, '536': 504, '537': 505, '538': 506, '539': 507, '54': 508, '540': 509, '541': 510, '542': 511, '543': 512, '544': 513, '545': 514, '546': 515, '547': 516, '548': 517, '549': 518, '55': 519, '550': 520, '551': 521, '552': 522, '553': 523, '554': 524, '555': 525, '556': 526, '557': 527, '558': 528, '559': 529, '56': 530, '560': 531, '561': 532, '562': 533, '563': 534, '564': 535, '565': 536, '566': 537, '567': 538, '568': 539, '569': 540, '57': 541, '570': 542, '571': 543, '572': 544, '573': 545, '574': 546, '575': 547, '576': 548, '577': 549, '578': 550, '579': 551, '58': 552, '580': 553, '581': 554, '582': 555, '583': 556, '584': 557, '585': 558, '586': 559, '587': 560, '588': 561, '589': 562, '59': 563, '590': 564, '591': 565, '592': 566, '593': 567, '594': 568, '595': 569, '596': 570, '597': 571, '598': 572, '599': 573, '6': 574, '60': 575, '600': 576, '601': 577, '602': 578, '603': 579, '604': 580, '605': 581, '606': 582, '607': 583, '608': 584, '609': 585, '61': 586, '610': 587, '611': 588, '612': 589, '613': 590, '614': 591, '615': 592, '616': 593, '617': 594, '618': 595, '619': 596, '62': 597, '620': 598, '621': 599, '622': 600, '623': 601, '624': 602, '625': 603, '626': 604, '627': 605, '628': 606, '629': 607, '63': 608, '630': 609, '631': 610, '632': 611, '633': 612, '634': 613, '635': 614, '636': 615, '637': 616, '638': 617, '639': 618, '64': 619, '640': 620, '641': 621, '642': 622, '643': 623, '644': 624, '645': 625, '646': 626, '647': 627, '648': 628, '649': 629, '65': 630, '650': 631, '651': 632, '652': 633, '653': 634, '654': 635, '655': 636, '656': 637, '657': 638, '658': 639, '659': 640, '66': 641, '660': 642, '661': 643, '662': 644, '663': 645, '664': 646, '665': 647, '666': 648, '667': 649, '668': 650, '669': 651, '67': 652, '670': 653, '671': 654, '672': 655, '673': 656, '674': 657, '675': 658, '676': 659, '677': 660, '678': 661, '679': 662, '68': 663, '680': 664, '681': 665, '682': 666, '683': 667, '684': 668, '685': 669, '686': 670, '687': 671, '688': 672, '689': 673, '69': 674, '690': 675, '691': 676, '692': 677, '693': 678, '694': 679, '695': 680, '696': 681, '697': 682, '698': 683, '699': 684, '7': 685, '70': 686, '700': 687, '701': 688, '702': 689, '703': 690, '704': 691, '705': 692, '706': 693, '707': 694, '708': 695, '709': 696, '71': 697, '710': 698, '711': 699, '712': 700, '713': 701, '714': 702, '715': 703, '716': 704, '717': 705, '718': 706, '719': 707, '72': 708, '720': 709, '721': 710, '722': 711, '723': 712, '724': 713, '725': 714, '726': 715, '727': 716, '728': 717, '729': 718, '73': 719, '730': 720, '731': 721, '732': 722, '733': 723, '734': 724, '735': 725, '736': 726, '737': 727, '738': 728, '739': 729, '74': 730, '740': 731, '741': 732, '742': 733, '743': 734, '744': 735, '745': 736, '746': 737, '747': 738, '748': 739, '749': 740, '75': 741, '750': 742, '751': 743, '752': 744, '753': 745, '754': 746, '755': 747, '756': 748, '757': 749, '758': 750, '759': 751, '76': 752, '760': 753, '761': 754, '762': 755, '763': 756, '764': 757, '765': 758, '766': 759, '767': 760, '768': 761, '769': 762, '77': 763, '770': 764, '771': 765, '772': 766, '773': 767, '774': 768, '775': 769, '776': 770, '777': 771, '778': 772, '779': 773, '78': 774, '780': 775, '781': 776, '782': 777, '783': 778, '784': 779, '785': 780, '786': 781, '787': 782, '788': 783, '789': 784, '79': 785, '790': 786, '791': 787, '792': 788, '793': 789, '794': 790, '795': 791, '796': 792, '797': 793, '798': 794, '799': 795, '8': 796, '80': 797, '800': 798, '801': 799, '802': 800, '803': 801, '804': 802, '805': 803, '806': 804, '807': 805, '808': 806, '809': 807, '81': 808, '810': 809, '811': 810, '812': 811, '813': 812, '814': 813, '815': 814, '816': 815, '817': 816, '818': 817, '819': 818, '82': 819, '820': 820, '821': 821, '822': 822, '823': 823, '824': 824, '825': 825, '826': 826, '827': 827, '828': 828, '829': 829, '83': 830, '830': 831, '831': 832, '832': 833, '833': 834, '834': 835, '835': 836, '836': 837, '837': 838, '838': 839, '839': 840, '84': 841, '840': 842, '841': 843, '842': 844, '843': 845, '844': 846, '845': 847, '846': 848, '847': 849, '848': 850, '849': 851, '85': 852, '850': 853, '851': 854, '852': 855, '853': 856, '854': 857, '855': 858, '856': 859, '857': 860, '858': 861, '859': 862, '86': 863, '860': 864, '861': 865, '862': 866, '863': 867, '864': 868, '865': 869, '866': 870, '867': 871, '868': 872, '869': 873, '87': 874, '870': 875, '871': 876, '872': 877, '873': 878, '874': 879, '875': 880, '876': 881, '877': 882, '878': 883, '879': 884, '88': 885, '880': 886, '881': 887, '882': 888, '883': 889, '884': 890, '885': 891, '886': 892, '887': 893, '888': 894, '889': 895, '89': 896, '890': 897, '891': 898, '892': 899, '893': 900, '894': 901, '895': 902, '896': 903, '897': 904, '898': 905, '899': 906, '9': 907, '90': 908, '900': 909, '901': 910, '902': 911, '903': 912, '904': 913, '905': 914, '906': 915, '907': 916, '908': 917, '909': 918, '91': 919, '910': 920, '911': 921, '912': 922, '913': 923, '914': 924, '915': 925, '916': 926, '917': 927, '918': 928, '919': 929, '92': 930, '920': 931, '921': 932, '922': 933, '923': 934, '924': 935, '925': 936, '926': 937, '927': 938, '928': 939, '929': 940, '93': 941, '930': 942, '931': 943, '932': 944, '933': 945, '934': 946, '935': 947, '936': 948, '937': 949, '938': 950, '939': 951, '94': 952, '940': 953, '941': 954, '942': 955, '943': 956, '944': 957, '945': 958, '946': 959, '947': 960, '948': 961, '949': 962, '95': 963, '950': 964, '951': 965, '952': 966, '953': 967, '954': 968, '955': 969, '956': 970, '957': 971, '958': 972, '959': 973, '96': 974, '960': 975, '961': 976, '962': 977, '963': 978, '964': 979, '965': 980, '966': 981, '967': 982, '968': 983, '969': 984, '97': 985, '970': 986, '971': 987, '972': 988, '973': 989, '974': 990, '975': 991, '976': 992, '977': 993, '978': 994, '979': 995, '98': 996, '980': 997, '981': 998, '982': 999, '983': 1000, '984': 1001, '985': 1002, '986': 1003, '987': 1004, '988': 1005, '989': 1006, '99': 1007, '990': 1008, '991': 1009, '992': 1010, '993': 1011, '994': 1012, '995': 1013, '996': 1014, '997': 1015, '998': 1016, '999': 1017, 'V1': 1018, 'V10': 1019, 'V100': 1020, 'V101': 1021, 'V102': 1022, 'V103': 1023, 'V104': 1024, 'V105': 1025, 'V106': 1026, 'V107': 1027, 'V108': 1028, 'V109': 1029, 'V11': 1030, 'V110': 1031, 'V111': 1032, 'V112': 1033, 'V113': 1034, 'V114': 1035, 'V115': 1036, 'V116': 1037, 'V117': 1038, 'V118': 1039, 'V119': 1040, 'V12': 1041, 'V120': 1042, 'V121': 1043, 'V122': 1044, 'V123': 1045, 'V124': 1046, 'V125': 1047, 'V126': 1048, 'V127': 1049, 'V128': 1050, 'V129': 1051, 'V13': 1052, 'V130': 1053, 'V131': 1054, 'V132': 1055, 'V133': 1056, 'V134': 1057, 'V135': 1058, 'V136': 1059, 'V137': 1060, 'V138': 1061, 'V139': 1062, 'V14': 1063, 'V140': 1064, 'V141': 1065, 'V142': 1066, 'V143': 1067, 'V144': 1068, 'V145': 1069, 'V146': 1070, 'V147': 1071, 'V148': 1072, 'V149': 1073, 'V15': 1074, 'V150': 1075, 'V151': 1076, 'V152': 1077, 'V153': 1078, 'V154': 1079, 'V155': 1080, 'V156': 1081, 'V157': 1082, 'V158': 1083, 'V159': 1084, 'V16': 1085, 'V160': 1086, 'V161': 1087, 'V162': 1088, 'V163': 1089, 'V164': 1090, 'V165': 1091, 'V166': 1092, 'V167': 1093, 'V168': 1094, 'V169': 1095, 'V17': 1096, 'V170': 1097, 'V171': 1098, 'V172': 1099, 'V173': 1100, 'V174': 1101, 'V175': 1102, 'V176': 1103, 'V177': 1104, 'V178': 1105, 'V179': 1106, 'V18': 1107, 'V180': 1108, 'V181': 1109, 'V182': 1110, 'V183': 1111, 'V184': 1112, 'V185': 1113, 'V186': 1114, 'V187': 1115, 'V188': 1116, 'V189': 1117, 'V19': 1118, 'V190': 1119, 'V191': 1120, 'V192': 1121, 'V193': 1122, 'V194': 1123, 'V195': 1124, 'V196': 1125, 'V197': 1126, 'V198': 1127, 'V199': 1128, 'V2': 1129, 'V20': 1130, 'V200': 1131, 'V21': 1132, 'V22': 1133, 'V23': 1134, 'V24': 1135, 'V25': 1136, 'V26': 1137, 'V27': 1138, 'V28': 1139, 'V29': 1140, 'V3': 1141, 'V30': 1142, 'V31': 1143, 'V32': 1144, 'V33': 1145, 'V34': 1146, 'V35': 1147, 'V36': 1148, 'V37': 1149, 'V38': 1150, 'V39': 1151, 'V4': 1152, 'V40': 1153, 'V41': 1154, 'V42': 1155, 'V43': 1156, 'V44': 1157, 'V45': 1158, 'V46': 1159, 'V47': 1160, 'V48': 1161, 'V49': 1162, 'V5': 1163, 'V50': 1164, 'V51': 1165, 'V52': 1166, 'V53': 1167, 'V54': 1168, 'V55': 1169, 'V56': 1170, 'V57': 1171, 'V58': 1172, 'V59': 1173, 'V6': 1174, 'V60': 1175, 'V61': 1176, 'V62': 1177, 'V63': 1178, 'V64': 1179, 'V65': 1180, 'V66': 1181, 'V67': 1182, 'V68': 1183, 'V69': 1184, 'V7': 1185, 'V70': 1186, 'V71': 1187, 'V72': 1188, 'V73': 1189, 'V74': 1190, 'V75': 1191, 'V76': 1192, 'V77': 1193, 'V78': 1194, 'V79': 1195, 'V8': 1196, 'V80': 1197, 'V81': 1198, 'V82': 1199, 'V83': 1200, 'V84': 1201, 'V85': 1202, 'V86': 1203, 'V87': 1204, 'V88': 1205, 'V89': 1206, 'V9': 1207, 'V90': 1208, 'V91': 1209, 'V92': 1210, 'V93': 1211, 'V94': 1212, 'V95': 1213, 'V96': 1214, 'V97': 1215, 'V98': 1216, 'V99': 1217}\n",
      "INFO - 07/22/25 19:17:42 - 0:00:00 - Training tasks: arithmetic\n",
      "INFO - 07/22/25 19:17:42 - 0:00:00 - Number of parameters (encoder): 4519936\n",
      "INFO - 07/22/25 19:17:42 - 0:00:00 - Number of parameters (decoder): 5575874\n"
     ]
    },
    {
     "name": "stdout",
     "output_type": "stream",
     "text": [
      "INFO - 07/22/25 19:17:43 - 0:00:00 - Found 177 parameters in model.\n"
     ]
    },
    {
     "name": "stdout",
     "output_type": "stream",
     "text": [
      "INFO - 07/22/25 19:17:43 - 0:00:01 - Optimizer: <class 'src.optim.Adam'>\n",
      "WARNING - 07/22/25 19:17:43 - 0:00:01 - Reloading checkpoint from /home/user/fastdir/dump/basicsq/2/checkpoint.pth ...\n",
      "/home/user/Int2Int/src/trainer.py:303: FutureWarning: You are using `torch.load` with `weights_only=False` (the current default value), which uses the default pickle module implicitly. It is possible to construct malicious pickle data which will execute arbitrary code during unpickling (See https://github.com/pytorch/pytorch/blob/main/SECURITY.md#untrusted-models for more details). In a future release, the default value for `weights_only` will be flipped to `True`. This limits the functions that could be executed during unpickling. Arbitrary objects will no longer be allowed to be loaded via this mode unless they are explicitly allowlisted by the user via `torch.serialization.add_safe_globals`. We recommend you start setting `weights_only=True` for any use case where you don't have full control of the loaded file. Please open an issue on GitHub for any issues related to this experimental feature.\n",
      "  data = torch.load(checkpoint_path, map_location=\"cpu\")\n",
      "WARNING - 07/22/25 19:17:44 - 0:00:01 - Reloading checkpoint optimizer ...\n",
      "WARNING - 07/22/25 19:17:44 - 0:00:02 - Checkpoint reloaded. Resuming at epoch 227 / iteration 141875 ...\n",
      "INFO - 07/22/25 19:17:44 - 0:00:02 - Creating valid iterator for arithmetic ...\n",
      "INFO - 07/22/25 19:17:44 - 0:00:02 - Loading data from /home/user/fastdir/data/musq_p_3_random.txt ...\n"
     ]
    },
    {
     "name": "stdout",
     "output_type": "stream",
     "text": [
      "INFO - 07/22/25 19:17:44 - 0:00:02 - Loaded 100000 equations from the disk.\n",
      "SLURM job: False\n",
      "0 - Number of nodes: 1\n",
      "0 - Node ID        : 0\n",
      "0 - Local rank     : 0\n",
      "0 - Global rank    : 0\n",
      "0 - World size     : 1\n",
      "0 - GPUs per node  : 1\n",
      "0 - Master         : True\n",
      "0 - Multi-node     : False\n",
      "0 - Multi-GPU      : False\n",
      "0 - Hostname       : compute-server-1\n"
     ]
    },
    {
     "name": "stdout",
     "output_type": "stream",
     "text": [
      "INFO - 07/22/25 19:17:45 - 0:00:03 - (128/20000) Found 81/128 valid top-1 predictions. Generating solutions ...\n",
      "INFO - 07/22/25 19:17:45 - 0:00:03 -     Found 81/128 solutions in beam hypotheses.\n"
     ]
    },
    {
     "name": "stdout",
     "output_type": "stream",
     "text": [
      "INFO - 07/22/25 19:17:45 - 0:00:03 - (256/20000) Found 97/128 valid top-1 predictions. Generating solutions ...\n",
      "INFO - 07/22/25 19:17:45 - 0:00:03 -     Found 97/128 solutions in beam hypotheses.\n"
     ]
    },
    {
     "name": "stdout",
     "output_type": "stream",
     "text": [
      "INFO - 07/22/25 19:17:45 - 0:00:03 - (384/20000) Found 82/128 valid top-1 predictions. Generating solutions ...\n",
      "INFO - 07/22/25 19:17:45 - 0:00:03 -     Found 82/128 solutions in beam hypotheses.\n"
     ]
    },
    {
     "name": "stdout",
     "output_type": "stream",
     "text": [
      "INFO - 07/22/25 19:17:46 - 0:00:04 - (512/20000) Found 85/128 valid top-1 predictions. Generating solutions ...\n",
      "INFO - 07/22/25 19:17:46 - 0:00:04 -     Found 85/128 solutions in beam hypotheses.\n"
     ]
    },
    {
     "name": "stdout",
     "output_type": "stream",
     "text": [
      "INFO - 07/22/25 19:17:46 - 0:00:04 - (640/20000) Found 89/128 valid top-1 predictions. Generating solutions ...\n",
      "INFO - 07/22/25 19:17:46 - 0:00:04 -     Found 89/128 solutions in beam hypotheses.\n"
     ]
    },
    {
     "name": "stdout",
     "output_type": "stream",
     "text": [
      "INFO - 07/22/25 19:17:46 - 0:00:04 - (768/20000) Found 91/128 valid top-1 predictions. Generating solutions ...\n",
      "INFO - 07/22/25 19:17:46 - 0:00:04 -     Found 91/128 solutions in beam hypotheses.\n"
     ]
    },
    {
     "name": "stdout",
     "output_type": "stream",
     "text": [
      "INFO - 07/22/25 19:17:47 - 0:00:04 - (896/20000) Found 87/128 valid top-1 predictions. Generating solutions ...\n",
      "INFO - 07/22/25 19:17:47 - 0:00:05 -     Found 87/128 solutions in beam hypotheses.\n"
     ]
    },
    {
     "name": "stdout",
     "output_type": "stream",
     "text": [
      "INFO - 07/22/25 19:17:47 - 0:00:05 - (1024/20000) Found 81/128 valid top-1 predictions. Generating solutions ...\n",
      "INFO - 07/22/25 19:17:47 - 0:00:05 -     Found 81/128 solutions in beam hypotheses.\n"
     ]
    },
    {
     "name": "stdout",
     "output_type": "stream",
     "text": [
      "INFO - 07/22/25 19:17:47 - 0:00:05 - (1152/20000) Found 86/128 valid top-1 predictions. Generating solutions ...\n",
      "INFO - 07/22/25 19:17:47 - 0:00:05 -     Found 86/128 solutions in beam hypotheses.\n"
     ]
    },
    {
     "name": "stdout",
     "output_type": "stream",
     "text": [
      "INFO - 07/22/25 19:17:47 - 0:00:05 - (1280/20000) Found 88/128 valid top-1 predictions. Generating solutions ...\n",
      "INFO - 07/22/25 19:17:48 - 0:00:05 -     Found 88/128 solutions in beam hypotheses.\n"
     ]
    },
    {
     "name": "stdout",
     "output_type": "stream",
     "text": [
      "INFO - 07/22/25 19:17:48 - 0:00:06 - (1408/20000) Found 94/128 valid top-1 predictions. Generating solutions ...\n",
      "INFO - 07/22/25 19:17:48 - 0:00:06 -     Found 94/128 solutions in beam hypotheses.\n"
     ]
    },
    {
     "name": "stdout",
     "output_type": "stream",
     "text": [
      "INFO - 07/22/25 19:17:48 - 0:00:06 - (1536/20000) Found 84/128 valid top-1 predictions. Generating solutions ...\n",
      "INFO - 07/22/25 19:17:48 - 0:00:06 -     Found 84/128 solutions in beam hypotheses.\n"
     ]
    },
    {
     "name": "stdout",
     "output_type": "stream",
     "text": [
      "INFO - 07/22/25 19:17:48 - 0:00:06 - (1664/20000) Found 90/128 valid top-1 predictions. Generating solutions ...\n",
      "INFO - 07/22/25 19:17:48 - 0:00:06 -     Found 90/128 solutions in beam hypotheses.\n"
     ]
    },
    {
     "name": "stdout",
     "output_type": "stream",
     "text": [
      "INFO - 07/22/25 19:17:49 - 0:00:07 - (1792/20000) Found 81/128 valid top-1 predictions. Generating solutions ...\n",
      "INFO - 07/22/25 19:17:49 - 0:00:07 -     Found 81/128 solutions in beam hypotheses.\n"
     ]
    },
    {
     "name": "stdout",
     "output_type": "stream",
     "text": [
      "INFO - 07/22/25 19:17:49 - 0:00:07 - (1920/20000) Found 94/128 valid top-1 predictions. Generating solutions ...\n",
      "INFO - 07/22/25 19:17:49 - 0:00:07 -     Found 94/128 solutions in beam hypotheses.\n"
     ]
    },
    {
     "name": "stdout",
     "output_type": "stream",
     "text": [
      "INFO - 07/22/25 19:17:49 - 0:00:07 - (2048/20000) Found 94/128 valid top-1 predictions. Generating solutions ...\n",
      "INFO - 07/22/25 19:17:49 - 0:00:07 -     Found 94/128 solutions in beam hypotheses.\n"
     ]
    },
    {
     "name": "stdout",
     "output_type": "stream",
     "text": [
      "INFO - 07/22/25 19:17:50 - 0:00:08 - (2176/20000) Found 96/128 valid top-1 predictions. Generating solutions ...\n",
      "INFO - 07/22/25 19:17:50 - 0:00:08 -     Found 96/128 solutions in beam hypotheses.\n"
     ]
    },
    {
     "name": "stdout",
     "output_type": "stream",
     "text": [
      "INFO - 07/22/25 19:17:50 - 0:00:08 - (2304/20000) Found 86/128 valid top-1 predictions. Generating solutions ...\n",
      "INFO - 07/22/25 19:17:50 - 0:00:08 -     Found 86/128 solutions in beam hypotheses.\n"
     ]
    },
    {
     "name": "stdout",
     "output_type": "stream",
     "text": [
      "INFO - 07/22/25 19:17:50 - 0:00:08 - (2432/20000) Found 80/128 valid top-1 predictions. Generating solutions ...\n",
      "INFO - 07/22/25 19:17:50 - 0:00:08 -     Found 80/128 solutions in beam hypotheses.\n"
     ]
    },
    {
     "name": "stdout",
     "output_type": "stream",
     "text": [
      "INFO - 07/22/25 19:17:51 - 0:00:08 - (2560/20000) Found 89/128 valid top-1 predictions. Generating solutions ...\n",
      "INFO - 07/22/25 19:17:51 - 0:00:08 -     Found 89/128 solutions in beam hypotheses.\n"
     ]
    },
    {
     "name": "stdout",
     "output_type": "stream",
     "text": [
      "INFO - 07/22/25 19:17:51 - 0:00:09 - (2688/20000) Found 86/128 valid top-1 predictions. Generating solutions ...\n",
      "INFO - 07/22/25 19:17:51 - 0:00:09 -     Found 86/128 solutions in beam hypotheses.\n"
     ]
    },
    {
     "name": "stdout",
     "output_type": "stream",
     "text": [
      "INFO - 07/22/25 19:17:51 - 0:00:09 - (2816/20000) Found 85/128 valid top-1 predictions. Generating solutions ...\n",
      "INFO - 07/22/25 19:17:51 - 0:00:09 -     Found 85/128 solutions in beam hypotheses.\n"
     ]
    },
    {
     "name": "stdout",
     "output_type": "stream",
     "text": [
      "INFO - 07/22/25 19:17:51 - 0:00:09 - (2944/20000) Found 89/128 valid top-1 predictions. Generating solutions ...\n",
      "INFO - 07/22/25 19:17:51 - 0:00:09 -     Found 89/128 solutions in beam hypotheses.\n"
     ]
    },
    {
     "name": "stdout",
     "output_type": "stream",
     "text": [
      "INFO - 07/22/25 19:17:52 - 0:00:10 - (3072/20000) Found 84/128 valid top-1 predictions. Generating solutions ...\n",
      "INFO - 07/22/25 19:17:52 - 0:00:10 -     Found 84/128 solutions in beam hypotheses.\n"
     ]
    },
    {
     "name": "stdout",
     "output_type": "stream",
     "text": [
      "INFO - 07/22/25 19:17:52 - 0:00:10 - (3200/20000) Found 91/128 valid top-1 predictions. Generating solutions ...\n",
      "INFO - 07/22/25 19:17:52 - 0:00:10 -     Found 91/128 solutions in beam hypotheses.\n"
     ]
    },
    {
     "name": "stdout",
     "output_type": "stream",
     "text": [
      "INFO - 07/22/25 19:17:52 - 0:00:10 - (3328/20000) Found 91/128 valid top-1 predictions. Generating solutions ...\n",
      "INFO - 07/22/25 19:17:52 - 0:00:10 -     Found 91/128 solutions in beam hypotheses.\n"
     ]
    },
    {
     "name": "stdout",
     "output_type": "stream",
     "text": [
      "INFO - 07/22/25 19:17:53 - 0:00:11 - (3456/20000) Found 93/128 valid top-1 predictions. Generating solutions ...\n",
      "INFO - 07/22/25 19:17:53 - 0:00:11 -     Found 93/128 solutions in beam hypotheses.\n"
     ]
    },
    {
     "name": "stdout",
     "output_type": "stream",
     "text": [
      "INFO - 07/22/25 19:17:53 - 0:00:11 - (3584/20000) Found 83/128 valid top-1 predictions. Generating solutions ...\n",
      "INFO - 07/22/25 19:17:53 - 0:00:11 -     Found 83/128 solutions in beam hypotheses.\n"
     ]
    },
    {
     "name": "stdout",
     "output_type": "stream",
     "text": [
      "INFO - 07/22/25 19:17:53 - 0:00:11 - (3712/20000) Found 85/128 valid top-1 predictions. Generating solutions ...\n",
      "INFO - 07/22/25 19:17:53 - 0:00:11 -     Found 85/128 solutions in beam hypotheses.\n"
     ]
    },
    {
     "name": "stdout",
     "output_type": "stream",
     "text": [
      "INFO - 07/22/25 19:17:54 - 0:00:11 - (3840/20000) Found 90/128 valid top-1 predictions. Generating solutions ...\n",
      "INFO - 07/22/25 19:17:54 - 0:00:12 -     Found 90/128 solutions in beam hypotheses.\n"
     ]
    },
    {
     "name": "stdout",
     "output_type": "stream",
     "text": [
      "INFO - 07/22/25 19:17:54 - 0:00:12 - (3968/20000) Found 89/128 valid top-1 predictions. Generating solutions ...\n",
      "INFO - 07/22/25 19:17:54 - 0:00:12 -     Found 89/128 solutions in beam hypotheses.\n"
     ]
    },
    {
     "name": "stdout",
     "output_type": "stream",
     "text": [
      "INFO - 07/22/25 19:17:54 - 0:00:12 - (4096/20000) Found 85/128 valid top-1 predictions. Generating solutions ...\n",
      "INFO - 07/22/25 19:17:54 - 0:00:12 -     Found 85/128 solutions in beam hypotheses.\n"
     ]
    },
    {
     "name": "stdout",
     "output_type": "stream",
     "text": [
      "INFO - 07/22/25 19:17:54 - 0:00:12 - (4224/20000) Found 92/128 valid top-1 predictions. Generating solutions ...\n",
      "INFO - 07/22/25 19:17:54 - 0:00:12 -     Found 92/128 solutions in beam hypotheses.\n"
     ]
    },
    {
     "name": "stdout",
     "output_type": "stream",
     "text": [
      "INFO - 07/22/25 19:17:55 - 0:00:13 - (4352/20000) Found 87/128 valid top-1 predictions. Generating solutions ...\n",
      "INFO - 07/22/25 19:17:55 - 0:00:13 -     Found 87/128 solutions in beam hypotheses.\n"
     ]
    },
    {
     "name": "stdout",
     "output_type": "stream",
     "text": [
      "INFO - 07/22/25 19:17:55 - 0:00:13 - (4480/20000) Found 80/128 valid top-1 predictions. Generating solutions ...\n",
      "INFO - 07/22/25 19:17:55 - 0:00:13 -     Found 80/128 solutions in beam hypotheses.\n"
     ]
    },
    {
     "name": "stdout",
     "output_type": "stream",
     "text": [
      "INFO - 07/22/25 19:17:55 - 0:00:13 - (4608/20000) Found 81/128 valid top-1 predictions. Generating solutions ...\n",
      "INFO - 07/22/25 19:17:55 - 0:00:13 -     Found 81/128 solutions in beam hypotheses.\n"
     ]
    },
    {
     "name": "stdout",
     "output_type": "stream",
     "text": [
      "INFO - 07/22/25 19:17:56 - 0:00:14 - (4736/20000) Found 78/128 valid top-1 predictions. Generating solutions ...\n",
      "INFO - 07/22/25 19:17:56 - 0:00:14 -     Found 78/128 solutions in beam hypotheses.\n"
     ]
    },
    {
     "name": "stdout",
     "output_type": "stream",
     "text": [
      "INFO - 07/22/25 19:17:56 - 0:00:14 - (4864/20000) Found 84/128 valid top-1 predictions. Generating solutions ...\n",
      "INFO - 07/22/25 19:17:56 - 0:00:14 -     Found 84/128 solutions in beam hypotheses.\n"
     ]
    },
    {
     "name": "stdout",
     "output_type": "stream",
     "text": [
      "INFO - 07/22/25 19:17:56 - 0:00:14 - (4992/20000) Found 98/128 valid top-1 predictions. Generating solutions ...\n",
      "INFO - 07/22/25 19:17:56 - 0:00:14 -     Found 98/128 solutions in beam hypotheses.\n"
     ]
    },
    {
     "name": "stdout",
     "output_type": "stream",
     "text": [
      "INFO - 07/22/25 19:17:57 - 0:00:15 - (5120/20000) Found 80/128 valid top-1 predictions. Generating solutions ...\n",
      "INFO - 07/22/25 19:17:57 - 0:00:15 -     Found 80/128 solutions in beam hypotheses.\n"
     ]
    },
    {
     "name": "stdout",
     "output_type": "stream",
     "text": [
      "INFO - 07/22/25 19:17:57 - 0:00:15 - (5248/20000) Found 88/128 valid top-1 predictions. Generating solutions ...\n",
      "INFO - 07/22/25 19:17:57 - 0:00:15 -     Found 88/128 solutions in beam hypotheses.\n"
     ]
    },
    {
     "name": "stdout",
     "output_type": "stream",
     "text": [
      "INFO - 07/22/25 19:17:57 - 0:00:15 - (5376/20000) Found 87/128 valid top-1 predictions. Generating solutions ...\n",
      "INFO - 07/22/25 19:17:57 - 0:00:15 -     Found 87/128 solutions in beam hypotheses.\n"
     ]
    },
    {
     "name": "stdout",
     "output_type": "stream",
     "text": [
      "INFO - 07/22/25 19:17:57 - 0:00:15 - (5504/20000) Found 89/128 valid top-1 predictions. Generating solutions ...\n",
      "INFO - 07/22/25 19:17:58 - 0:00:15 -     Found 89/128 solutions in beam hypotheses.\n"
     ]
    },
    {
     "name": "stdout",
     "output_type": "stream",
     "text": [
      "INFO - 07/22/25 19:17:58 - 0:00:16 - (5632/20000) Found 77/128 valid top-1 predictions. Generating solutions ...\n",
      "INFO - 07/22/25 19:17:58 - 0:00:16 -     Found 77/128 solutions in beam hypotheses.\n"
     ]
    },
    {
     "name": "stdout",
     "output_type": "stream",
     "text": [
      "INFO - 07/22/25 19:17:58 - 0:00:16 - (5760/20000) Found 92/128 valid top-1 predictions. Generating solutions ...\n",
      "INFO - 07/22/25 19:17:58 - 0:00:16 -     Found 92/128 solutions in beam hypotheses.\n"
     ]
    },
    {
     "name": "stdout",
     "output_type": "stream",
     "text": [
      "INFO - 07/22/25 19:17:58 - 0:00:16 - (5888/20000) Found 87/128 valid top-1 predictions. Generating solutions ...\n",
      "INFO - 07/22/25 19:17:58 - 0:00:16 -     Found 87/128 solutions in beam hypotheses.\n"
     ]
    },
    {
     "name": "stdout",
     "output_type": "stream",
     "text": [
      "INFO - 07/22/25 19:17:59 - 0:00:17 - (6016/20000) Found 89/128 valid top-1 predictions. Generating solutions ...\n",
      "INFO - 07/22/25 19:17:59 - 0:00:17 -     Found 89/128 solutions in beam hypotheses.\n"
     ]
    },
    {
     "name": "stdout",
     "output_type": "stream",
     "text": [
      "INFO - 07/22/25 19:17:59 - 0:00:17 - (6144/20000) Found 86/128 valid top-1 predictions. Generating solutions ...\n",
      "INFO - 07/22/25 19:17:59 - 0:00:17 -     Found 86/128 solutions in beam hypotheses.\n"
     ]
    },
    {
     "name": "stdout",
     "output_type": "stream",
     "text": [
      "INFO - 07/22/25 19:17:59 - 0:00:17 - (6272/20000) Found 81/128 valid top-1 predictions. Generating solutions ...\n",
      "INFO - 07/22/25 19:17:59 - 0:00:17 -     Found 81/128 solutions in beam hypotheses.\n"
     ]
    },
    {
     "name": "stdout",
     "output_type": "stream",
     "text": [
      "INFO - 07/22/25 19:18:00 - 0:00:18 - (6400/20000) Found 82/128 valid top-1 predictions. Generating solutions ...\n",
      "INFO - 07/22/25 19:18:00 - 0:00:18 -     Found 82/128 solutions in beam hypotheses.\n"
     ]
    },
    {
     "name": "stdout",
     "output_type": "stream",
     "text": [
      "INFO - 07/22/25 19:18:00 - 0:00:18 - (6528/20000) Found 89/128 valid top-1 predictions. Generating solutions ...\n",
      "INFO - 07/22/25 19:18:00 - 0:00:18 -     Found 89/128 solutions in beam hypotheses.\n"
     ]
    },
    {
     "name": "stdout",
     "output_type": "stream",
     "text": [
      "INFO - 07/22/25 19:18:00 - 0:00:18 - (6656/20000) Found 82/128 valid top-1 predictions. Generating solutions ...\n",
      "INFO - 07/22/25 19:18:00 - 0:00:18 -     Found 82/128 solutions in beam hypotheses.\n"
     ]
    },
    {
     "name": "stdout",
     "output_type": "stream",
     "text": [
      "INFO - 07/22/25 19:18:01 - 0:00:18 - (6784/20000) Found 88/128 valid top-1 predictions. Generating solutions ...\n",
      "INFO - 07/22/25 19:18:01 - 0:00:18 -     Found 88/128 solutions in beam hypotheses.\n"
     ]
    },
    {
     "name": "stdout",
     "output_type": "stream",
     "text": [
      "INFO - 07/22/25 19:18:01 - 0:00:19 - (6912/20000) Found 83/128 valid top-1 predictions. Generating solutions ...\n",
      "INFO - 07/22/25 19:18:01 - 0:00:19 -     Found 83/128 solutions in beam hypotheses.\n"
     ]
    },
    {
     "name": "stdout",
     "output_type": "stream",
     "text": [
      "INFO - 07/22/25 19:18:01 - 0:00:19 - (7040/20000) Found 72/128 valid top-1 predictions. Generating solutions ...\n",
      "INFO - 07/22/25 19:18:01 - 0:00:19 -     Found 72/128 solutions in beam hypotheses.\n"
     ]
    },
    {
     "name": "stdout",
     "output_type": "stream",
     "text": [
      "INFO - 07/22/25 19:18:01 - 0:00:19 - (7168/20000) Found 89/128 valid top-1 predictions. Generating solutions ...\n",
      "INFO - 07/22/25 19:18:01 - 0:00:19 -     Found 89/128 solutions in beam hypotheses.\n"
     ]
    },
    {
     "name": "stdout",
     "output_type": "stream",
     "text": [
      "INFO - 07/22/25 19:18:02 - 0:00:20 - (7296/20000) Found 91/128 valid top-1 predictions. Generating solutions ...\n",
      "INFO - 07/22/25 19:18:02 - 0:00:20 -     Found 91/128 solutions in beam hypotheses.\n"
     ]
    },
    {
     "name": "stdout",
     "output_type": "stream",
     "text": [
      "INFO - 07/22/25 19:18:02 - 0:00:20 - (7424/20000) Found 81/128 valid top-1 predictions. Generating solutions ...\n",
      "INFO - 07/22/25 19:18:02 - 0:00:20 -     Found 81/128 solutions in beam hypotheses.\n"
     ]
    },
    {
     "name": "stdout",
     "output_type": "stream",
     "text": [
      "INFO - 07/22/25 19:18:02 - 0:00:20 - (7552/20000) Found 80/128 valid top-1 predictions. Generating solutions ...\n",
      "INFO - 07/22/25 19:18:02 - 0:00:20 -     Found 80/128 solutions in beam hypotheses.\n"
     ]
    },
    {
     "name": "stdout",
     "output_type": "stream",
     "text": [
      "INFO - 07/22/25 19:18:03 - 0:00:21 - (7680/20000) Found 80/128 valid top-1 predictions. Generating solutions ...\n",
      "INFO - 07/22/25 19:18:03 - 0:00:21 -     Found 80/128 solutions in beam hypotheses.\n"
     ]
    },
    {
     "name": "stdout",
     "output_type": "stream",
     "text": [
      "INFO - 07/22/25 19:18:03 - 0:00:21 - (7808/20000) Found 83/128 valid top-1 predictions. Generating solutions ...\n",
      "INFO - 07/22/25 19:18:03 - 0:00:21 -     Found 83/128 solutions in beam hypotheses.\n"
     ]
    },
    {
     "name": "stdout",
     "output_type": "stream",
     "text": [
      "INFO - 07/22/25 19:18:03 - 0:00:21 - (7936/20000) Found 82/128 valid top-1 predictions. Generating solutions ...\n",
      "INFO - 07/22/25 19:18:03 - 0:00:21 -     Found 82/128 solutions in beam hypotheses.\n"
     ]
    },
    {
     "name": "stdout",
     "output_type": "stream",
     "text": [
      "INFO - 07/22/25 19:18:04 - 0:00:21 - (8064/20000) Found 85/128 valid top-1 predictions. Generating solutions ...\n",
      "INFO - 07/22/25 19:18:04 - 0:00:22 -     Found 85/128 solutions in beam hypotheses.\n"
     ]
    },
    {
     "name": "stdout",
     "output_type": "stream",
     "text": [
      "INFO - 07/22/25 19:18:04 - 0:00:22 - (8192/20000) Found 87/128 valid top-1 predictions. Generating solutions ...\n",
      "INFO - 07/22/25 19:18:04 - 0:00:22 -     Found 87/128 solutions in beam hypotheses.\n"
     ]
    },
    {
     "name": "stdout",
     "output_type": "stream",
     "text": [
      "INFO - 07/22/25 19:18:04 - 0:00:22 - (8320/20000) Found 94/128 valid top-1 predictions. Generating solutions ...\n",
      "INFO - 07/22/25 19:18:04 - 0:00:22 -     Found 94/128 solutions in beam hypotheses.\n"
     ]
    },
    {
     "name": "stdout",
     "output_type": "stream",
     "text": [
      "INFO - 07/22/25 19:18:04 - 0:00:22 - (8448/20000) Found 94/128 valid top-1 predictions. Generating solutions ...\n",
      "INFO - 07/22/25 19:18:04 - 0:00:22 -     Found 94/128 solutions in beam hypotheses.\n"
     ]
    },
    {
     "name": "stdout",
     "output_type": "stream",
     "text": [
      "INFO - 07/22/25 19:18:05 - 0:00:23 - (8576/20000) Found 86/128 valid top-1 predictions. Generating solutions ...\n",
      "INFO - 07/22/25 19:18:05 - 0:00:23 -     Found 86/128 solutions in beam hypotheses.\n"
     ]
    },
    {
     "name": "stdout",
     "output_type": "stream",
     "text": [
      "INFO - 07/22/25 19:18:05 - 0:00:23 - (8704/20000) Found 88/128 valid top-1 predictions. Generating solutions ...\n",
      "INFO - 07/22/25 19:18:05 - 0:00:23 -     Found 88/128 solutions in beam hypotheses.\n"
     ]
    },
    {
     "name": "stdout",
     "output_type": "stream",
     "text": [
      "INFO - 07/22/25 19:18:05 - 0:00:23 - (8832/20000) Found 86/128 valid top-1 predictions. Generating solutions ...\n",
      "INFO - 07/22/25 19:18:05 - 0:00:23 -     Found 86/128 solutions in beam hypotheses.\n"
     ]
    },
    {
     "name": "stdout",
     "output_type": "stream",
     "text": [
      "INFO - 07/22/25 19:18:06 - 0:00:24 - (8960/20000) Found 85/128 valid top-1 predictions. Generating solutions ...\n",
      "INFO - 07/22/25 19:18:06 - 0:00:24 -     Found 85/128 solutions in beam hypotheses.\n"
     ]
    },
    {
     "name": "stdout",
     "output_type": "stream",
     "text": [
      "INFO - 07/22/25 19:18:06 - 0:00:24 - (9088/20000) Found 82/128 valid top-1 predictions. Generating solutions ...\n",
      "INFO - 07/22/25 19:18:06 - 0:00:24 -     Found 82/128 solutions in beam hypotheses.\n"
     ]
    },
    {
     "name": "stdout",
     "output_type": "stream",
     "text": [
      "INFO - 07/22/25 19:18:06 - 0:00:24 - (9216/20000) Found 86/128 valid top-1 predictions. Generating solutions ...\n",
      "INFO - 07/22/25 19:18:06 - 0:00:24 -     Found 86/128 solutions in beam hypotheses.\n"
     ]
    },
    {
     "name": "stdout",
     "output_type": "stream",
     "text": [
      "INFO - 07/22/25 19:18:07 - 0:00:25 - (9344/20000) Found 81/128 valid top-1 predictions. Generating solutions ...\n",
      "INFO - 07/22/25 19:18:07 - 0:00:25 -     Found 81/128 solutions in beam hypotheses.\n"
     ]
    },
    {
     "name": "stdout",
     "output_type": "stream",
     "text": [
      "INFO - 07/22/25 19:18:07 - 0:00:25 - (9472/20000) Found 87/128 valid top-1 predictions. Generating solutions ...\n",
      "INFO - 07/22/25 19:18:07 - 0:00:25 -     Found 87/128 solutions in beam hypotheses.\n"
     ]
    },
    {
     "name": "stdout",
     "output_type": "stream",
     "text": [
      "INFO - 07/22/25 19:18:07 - 0:00:25 - (9600/20000) Found 77/128 valid top-1 predictions. Generating solutions ...\n",
      "INFO - 07/22/25 19:18:07 - 0:00:25 -     Found 77/128 solutions in beam hypotheses.\n"
     ]
    },
    {
     "name": "stdout",
     "output_type": "stream",
     "text": [
      "INFO - 07/22/25 19:18:07 - 0:00:25 - (9728/20000) Found 80/128 valid top-1 predictions. Generating solutions ...\n",
      "INFO - 07/22/25 19:18:08 - 0:00:25 -     Found 80/128 solutions in beam hypotheses.\n"
     ]
    },
    {
     "name": "stdout",
     "output_type": "stream",
     "text": [
      "INFO - 07/22/25 19:18:08 - 0:00:26 - (9856/20000) Found 80/128 valid top-1 predictions. Generating solutions ...\n",
      "INFO - 07/22/25 19:18:08 - 0:00:26 -     Found 80/128 solutions in beam hypotheses.\n"
     ]
    },
    {
     "name": "stdout",
     "output_type": "stream",
     "text": [
      "INFO - 07/22/25 19:18:08 - 0:00:26 - (9984/20000) Found 78/128 valid top-1 predictions. Generating solutions ...\n",
      "INFO - 07/22/25 19:18:08 - 0:00:26 -     Found 78/128 solutions in beam hypotheses.\n"
     ]
    },
    {
     "name": "stdout",
     "output_type": "stream",
     "text": [
      "INFO - 07/22/25 19:18:08 - 0:00:26 - (10112/20000) Found 85/128 valid top-1 predictions. Generating solutions ...\n",
      "INFO - 07/22/25 19:18:08 - 0:00:26 -     Found 85/128 solutions in beam hypotheses.\n"
     ]
    },
    {
     "name": "stdout",
     "output_type": "stream",
     "text": [
      "INFO - 07/22/25 19:18:09 - 0:00:27 - (10240/20000) Found 90/128 valid top-1 predictions. Generating solutions ...\n",
      "INFO - 07/22/25 19:18:09 - 0:00:27 -     Found 90/128 solutions in beam hypotheses.\n"
     ]
    },
    {
     "name": "stdout",
     "output_type": "stream",
     "text": [
      "INFO - 07/22/25 19:18:09 - 0:00:27 - (10368/20000) Found 81/128 valid top-1 predictions. Generating solutions ...\n",
      "INFO - 07/22/25 19:18:09 - 0:00:27 -     Found 81/128 solutions in beam hypotheses.\n"
     ]
    },
    {
     "name": "stdout",
     "output_type": "stream",
     "text": [
      "INFO - 07/22/25 19:18:09 - 0:00:27 - (10496/20000) Found 80/128 valid top-1 predictions. Generating solutions ...\n",
      "INFO - 07/22/25 19:18:09 - 0:00:27 -     Found 80/128 solutions in beam hypotheses.\n"
     ]
    },
    {
     "name": "stdout",
     "output_type": "stream",
     "text": [
      "INFO - 07/22/25 19:18:10 - 0:00:28 - (10624/20000) Found 89/128 valid top-1 predictions. Generating solutions ...\n",
      "INFO - 07/22/25 19:18:10 - 0:00:28 -     Found 89/128 solutions in beam hypotheses.\n"
     ]
    },
    {
     "name": "stdout",
     "output_type": "stream",
     "text": [
      "INFO - 07/22/25 19:18:10 - 0:00:28 - (10752/20000) Found 103/128 valid top-1 predictions. Generating solutions ...\n",
      "INFO - 07/22/25 19:18:10 - 0:00:28 -     Found 103/128 solutions in beam hypotheses.\n"
     ]
    },
    {
     "name": "stdout",
     "output_type": "stream",
     "text": [
      "INFO - 07/22/25 19:18:10 - 0:00:28 - (10880/20000) Found 81/128 valid top-1 predictions. Generating solutions ...\n",
      "INFO - 07/22/25 19:18:10 - 0:00:28 -     Found 81/128 solutions in beam hypotheses.\n"
     ]
    },
    {
     "name": "stdout",
     "output_type": "stream",
     "text": [
      "INFO - 07/22/25 19:18:11 - 0:00:28 - (11008/20000) Found 86/128 valid top-1 predictions. Generating solutions ...\n",
      "INFO - 07/22/25 19:18:11 - 0:00:29 -     Found 86/128 solutions in beam hypotheses.\n"
     ]
    },
    {
     "name": "stdout",
     "output_type": "stream",
     "text": [
      "INFO - 07/22/25 19:18:11 - 0:00:29 - (11136/20000) Found 86/128 valid top-1 predictions. Generating solutions ...\n",
      "INFO - 07/22/25 19:18:11 - 0:00:29 -     Found 86/128 solutions in beam hypotheses.\n"
     ]
    },
    {
     "name": "stdout",
     "output_type": "stream",
     "text": [
      "INFO - 07/22/25 19:18:11 - 0:00:29 - (11264/20000) Found 87/128 valid top-1 predictions. Generating solutions ...\n",
      "INFO - 07/22/25 19:18:11 - 0:00:29 -     Found 87/128 solutions in beam hypotheses.\n"
     ]
    },
    {
     "name": "stdout",
     "output_type": "stream",
     "text": [
      "INFO - 07/22/25 19:18:11 - 0:00:29 - (11392/20000) Found 96/128 valid top-1 predictions. Generating solutions ...\n",
      "INFO - 07/22/25 19:18:11 - 0:00:29 -     Found 96/128 solutions in beam hypotheses.\n"
     ]
    },
    {
     "name": "stdout",
     "output_type": "stream",
     "text": [
      "INFO - 07/22/25 19:18:12 - 0:00:30 - (11520/20000) Found 95/128 valid top-1 predictions. Generating solutions ...\n",
      "INFO - 07/22/25 19:18:12 - 0:00:30 -     Found 95/128 solutions in beam hypotheses.\n"
     ]
    },
    {
     "name": "stdout",
     "output_type": "stream",
     "text": [
      "INFO - 07/22/25 19:18:12 - 0:00:30 - (11648/20000) Found 88/128 valid top-1 predictions. Generating solutions ...\n",
      "INFO - 07/22/25 19:18:12 - 0:00:30 -     Found 88/128 solutions in beam hypotheses.\n"
     ]
    },
    {
     "name": "stdout",
     "output_type": "stream",
     "text": [
      "INFO - 07/22/25 19:18:12 - 0:00:30 - (11776/20000) Found 98/128 valid top-1 predictions. Generating solutions ...\n",
      "INFO - 07/22/25 19:18:12 - 0:00:30 -     Found 98/128 solutions in beam hypotheses.\n"
     ]
    },
    {
     "name": "stdout",
     "output_type": "stream",
     "text": [
      "INFO - 07/22/25 19:18:13 - 0:00:31 - (11904/20000) Found 83/128 valid top-1 predictions. Generating solutions ...\n",
      "INFO - 07/22/25 19:18:13 - 0:00:31 -     Found 83/128 solutions in beam hypotheses.\n"
     ]
    },
    {
     "name": "stdout",
     "output_type": "stream",
     "text": [
      "INFO - 07/22/25 19:18:13 - 0:00:31 - (12032/20000) Found 87/128 valid top-1 predictions. Generating solutions ...\n",
      "INFO - 07/22/25 19:18:13 - 0:00:31 -     Found 87/128 solutions in beam hypotheses.\n"
     ]
    },
    {
     "name": "stdout",
     "output_type": "stream",
     "text": [
      "INFO - 07/22/25 19:18:13 - 0:00:31 - (12160/20000) Found 95/128 valid top-1 predictions. Generating solutions ...\n",
      "INFO - 07/22/25 19:18:13 - 0:00:31 -     Found 95/128 solutions in beam hypotheses.\n"
     ]
    },
    {
     "name": "stdout",
     "output_type": "stream",
     "text": [
      "INFO - 07/22/25 19:18:14 - 0:00:32 - (12288/20000) Found 92/128 valid top-1 predictions. Generating solutions ...\n",
      "INFO - 07/22/25 19:18:14 - 0:00:32 -     Found 92/128 solutions in beam hypotheses.\n"
     ]
    },
    {
     "name": "stdout",
     "output_type": "stream",
     "text": [
      "INFO - 07/22/25 19:18:14 - 0:00:32 - (12416/20000) Found 92/128 valid top-1 predictions. Generating solutions ...\n",
      "INFO - 07/22/25 19:18:14 - 0:00:32 -     Found 92/128 solutions in beam hypotheses.\n"
     ]
    },
    {
     "name": "stdout",
     "output_type": "stream",
     "text": [
      "INFO - 07/22/25 19:18:14 - 0:00:32 - (12544/20000) Found 74/128 valid top-1 predictions. Generating solutions ...\n",
      "INFO - 07/22/25 19:18:14 - 0:00:32 -     Found 74/128 solutions in beam hypotheses.\n"
     ]
    },
    {
     "name": "stdout",
     "output_type": "stream",
     "text": [
      "INFO - 07/22/25 19:18:14 - 0:00:32 - (12672/20000) Found 91/128 valid top-1 predictions. Generating solutions ...\n",
      "INFO - 07/22/25 19:18:15 - 0:00:32 -     Found 91/128 solutions in beam hypotheses.\n"
     ]
    },
    {
     "name": "stdout",
     "output_type": "stream",
     "text": [
      "INFO - 07/22/25 19:18:15 - 0:00:33 - (12800/20000) Found 95/128 valid top-1 predictions. Generating solutions ...\n",
      "INFO - 07/22/25 19:18:15 - 0:00:33 -     Found 95/128 solutions in beam hypotheses.\n"
     ]
    },
    {
     "name": "stdout",
     "output_type": "stream",
     "text": [
      "INFO - 07/22/25 19:18:15 - 0:00:33 - (12928/20000) Found 85/128 valid top-1 predictions. Generating solutions ...\n",
      "INFO - 07/22/25 19:18:15 - 0:00:33 -     Found 85/128 solutions in beam hypotheses.\n"
     ]
    },
    {
     "name": "stdout",
     "output_type": "stream",
     "text": [
      "INFO - 07/22/25 19:18:15 - 0:00:33 - (13056/20000) Found 75/128 valid top-1 predictions. Generating solutions ...\n",
      "INFO - 07/22/25 19:18:15 - 0:00:33 -     Found 75/128 solutions in beam hypotheses.\n"
     ]
    },
    {
     "name": "stdout",
     "output_type": "stream",
     "text": [
      "INFO - 07/22/25 19:18:16 - 0:00:34 - (13184/20000) Found 86/128 valid top-1 predictions. Generating solutions ...\n",
      "INFO - 07/22/25 19:18:16 - 0:00:34 -     Found 86/128 solutions in beam hypotheses.\n"
     ]
    },
    {
     "name": "stdout",
     "output_type": "stream",
     "text": [
      "INFO - 07/22/25 19:18:16 - 0:00:34 - (13312/20000) Found 93/128 valid top-1 predictions. Generating solutions ...\n",
      "INFO - 07/22/25 19:18:16 - 0:00:34 -     Found 93/128 solutions in beam hypotheses.\n"
     ]
    },
    {
     "name": "stdout",
     "output_type": "stream",
     "text": [
      "INFO - 07/22/25 19:18:16 - 0:00:34 - (13440/20000) Found 85/128 valid top-1 predictions. Generating solutions ...\n",
      "INFO - 07/22/25 19:18:16 - 0:00:34 -     Found 85/128 solutions in beam hypotheses.\n"
     ]
    },
    {
     "name": "stdout",
     "output_type": "stream",
     "text": [
      "INFO - 07/22/25 19:18:17 - 0:00:35 - (13568/20000) Found 88/128 valid top-1 predictions. Generating solutions ...\n",
      "INFO - 07/22/25 19:18:17 - 0:00:35 -     Found 88/128 solutions in beam hypotheses.\n"
     ]
    },
    {
     "name": "stdout",
     "output_type": "stream",
     "text": [
      "INFO - 07/22/25 19:18:17 - 0:00:35 - (13696/20000) Found 94/128 valid top-1 predictions. Generating solutions ...\n",
      "INFO - 07/22/25 19:18:17 - 0:00:35 -     Found 94/128 solutions in beam hypotheses.\n"
     ]
    },
    {
     "name": "stdout",
     "output_type": "stream",
     "text": [
      "INFO - 07/22/25 19:18:17 - 0:00:35 - (13824/20000) Found 91/128 valid top-1 predictions. Generating solutions ...\n",
      "INFO - 07/22/25 19:18:17 - 0:00:35 -     Found 91/128 solutions in beam hypotheses.\n"
     ]
    },
    {
     "name": "stdout",
     "output_type": "stream",
     "text": [
      "INFO - 07/22/25 19:18:18 - 0:00:35 - (13952/20000) Found 83/128 valid top-1 predictions. Generating solutions ...\n",
      "INFO - 07/22/25 19:18:18 - 0:00:36 -     Found 83/128 solutions in beam hypotheses.\n"
     ]
    },
    {
     "name": "stdout",
     "output_type": "stream",
     "text": [
      "INFO - 07/22/25 19:18:18 - 0:00:36 - (14080/20000) Found 89/128 valid top-1 predictions. Generating solutions ...\n",
      "INFO - 07/22/25 19:18:18 - 0:00:36 -     Found 89/128 solutions in beam hypotheses.\n"
     ]
    },
    {
     "name": "stdout",
     "output_type": "stream",
     "text": [
      "INFO - 07/22/25 19:18:18 - 0:00:36 - (14208/20000) Found 92/128 valid top-1 predictions. Generating solutions ...\n",
      "INFO - 07/22/25 19:18:18 - 0:00:36 -     Found 92/128 solutions in beam hypotheses.\n"
     ]
    },
    {
     "name": "stdout",
     "output_type": "stream",
     "text": [
      "INFO - 07/22/25 19:18:18 - 0:00:36 - (14336/20000) Found 90/128 valid top-1 predictions. Generating solutions ...\n",
      "INFO - 07/22/25 19:18:18 - 0:00:36 -     Found 90/128 solutions in beam hypotheses.\n"
     ]
    },
    {
     "name": "stdout",
     "output_type": "stream",
     "text": [
      "INFO - 07/22/25 19:18:19 - 0:00:37 - (14464/20000) Found 87/128 valid top-1 predictions. Generating solutions ...\n",
      "INFO - 07/22/25 19:18:19 - 0:00:37 -     Found 87/128 solutions in beam hypotheses.\n"
     ]
    },
    {
     "name": "stdout",
     "output_type": "stream",
     "text": [
      "INFO - 07/22/25 19:18:19 - 0:00:37 - (14592/20000) Found 89/128 valid top-1 predictions. Generating solutions ...\n",
      "INFO - 07/22/25 19:18:19 - 0:00:37 -     Found 89/128 solutions in beam hypotheses.\n"
     ]
    },
    {
     "name": "stdout",
     "output_type": "stream",
     "text": [
      "INFO - 07/22/25 19:18:19 - 0:00:37 - (14720/20000) Found 87/128 valid top-1 predictions. Generating solutions ...\n",
      "INFO - 07/22/25 19:18:19 - 0:00:37 -     Found 87/128 solutions in beam hypotheses.\n"
     ]
    },
    {
     "name": "stdout",
     "output_type": "stream",
     "text": [
      "INFO - 07/22/25 19:18:20 - 0:00:38 - (14848/20000) Found 88/128 valid top-1 predictions. Generating solutions ...\n",
      "INFO - 07/22/25 19:18:20 - 0:00:38 -     Found 88/128 solutions in beam hypotheses.\n"
     ]
    },
    {
     "name": "stdout",
     "output_type": "stream",
     "text": [
      "INFO - 07/22/25 19:18:20 - 0:00:38 - (14976/20000) Found 82/128 valid top-1 predictions. Generating solutions ...\n",
      "INFO - 07/22/25 19:18:20 - 0:00:38 -     Found 82/128 solutions in beam hypotheses.\n"
     ]
    },
    {
     "name": "stdout",
     "output_type": "stream",
     "text": [
      "INFO - 07/22/25 19:18:20 - 0:00:38 - (15104/20000) Found 96/128 valid top-1 predictions. Generating solutions ...\n",
      "INFO - 07/22/25 19:18:20 - 0:00:38 -     Found 96/128 solutions in beam hypotheses.\n"
     ]
    },
    {
     "name": "stdout",
     "output_type": "stream",
     "text": [
      "INFO - 07/22/25 19:18:21 - 0:00:39 - (15232/20000) Found 86/128 valid top-1 predictions. Generating solutions ...\n",
      "INFO - 07/22/25 19:18:21 - 0:00:39 -     Found 86/128 solutions in beam hypotheses.\n"
     ]
    },
    {
     "name": "stdout",
     "output_type": "stream",
     "text": [
      "INFO - 07/22/25 19:18:21 - 0:00:39 - (15360/20000) Found 86/128 valid top-1 predictions. Generating solutions ...\n",
      "INFO - 07/22/25 19:18:21 - 0:00:39 -     Found 86/128 solutions in beam hypotheses.\n"
     ]
    },
    {
     "name": "stdout",
     "output_type": "stream",
     "text": [
      "INFO - 07/22/25 19:18:21 - 0:00:39 - (15488/20000) Found 82/128 valid top-1 predictions. Generating solutions ...\n",
      "INFO - 07/22/25 19:18:21 - 0:00:39 -     Found 82/128 solutions in beam hypotheses.\n"
     ]
    },
    {
     "name": "stdout",
     "output_type": "stream",
     "text": [
      "INFO - 07/22/25 19:18:21 - 0:00:39 - (15616/20000) Found 93/128 valid top-1 predictions. Generating solutions ...\n",
      "INFO - 07/22/25 19:18:22 - 0:00:39 -     Found 93/128 solutions in beam hypotheses.\n"
     ]
    },
    {
     "name": "stdout",
     "output_type": "stream",
     "text": [
      "INFO - 07/22/25 19:18:22 - 0:00:40 - (15744/20000) Found 87/128 valid top-1 predictions. Generating solutions ...\n",
      "INFO - 07/22/25 19:18:22 - 0:00:40 -     Found 87/128 solutions in beam hypotheses.\n"
     ]
    },
    {
     "name": "stdout",
     "output_type": "stream",
     "text": [
      "INFO - 07/22/25 19:18:22 - 0:00:40 - (15872/20000) Found 91/128 valid top-1 predictions. Generating solutions ...\n",
      "INFO - 07/22/25 19:18:22 - 0:00:40 -     Found 91/128 solutions in beam hypotheses.\n"
     ]
    },
    {
     "name": "stdout",
     "output_type": "stream",
     "text": [
      "INFO - 07/22/25 19:18:22 - 0:00:40 - (16000/20000) Found 87/128 valid top-1 predictions. Generating solutions ...\n",
      "INFO - 07/22/25 19:18:22 - 0:00:40 -     Found 87/128 solutions in beam hypotheses.\n"
     ]
    },
    {
     "name": "stdout",
     "output_type": "stream",
     "text": [
      "INFO - 07/22/25 19:18:23 - 0:00:41 - (16128/20000) Found 83/128 valid top-1 predictions. Generating solutions ...\n",
      "INFO - 07/22/25 19:18:23 - 0:00:41 -     Found 83/128 solutions in beam hypotheses.\n"
     ]
    },
    {
     "name": "stdout",
     "output_type": "stream",
     "text": [
      "INFO - 07/22/25 19:18:23 - 0:00:41 - (16256/20000) Found 74/128 valid top-1 predictions. Generating solutions ...\n",
      "INFO - 07/22/25 19:18:23 - 0:00:41 -     Found 74/128 solutions in beam hypotheses.\n"
     ]
    },
    {
     "name": "stdout",
     "output_type": "stream",
     "text": [
      "INFO - 07/22/25 19:18:23 - 0:00:41 - (16384/20000) Found 88/128 valid top-1 predictions. Generating solutions ...\n",
      "INFO - 07/22/25 19:18:23 - 0:00:41 -     Found 88/128 solutions in beam hypotheses.\n"
     ]
    },
    {
     "name": "stdout",
     "output_type": "stream",
     "text": [
      "INFO - 07/22/25 19:18:24 - 0:00:42 - (16512/20000) Found 84/128 valid top-1 predictions. Generating solutions ...\n",
      "INFO - 07/22/25 19:18:24 - 0:00:42 -     Found 84/128 solutions in beam hypotheses.\n"
     ]
    },
    {
     "name": "stdout",
     "output_type": "stream",
     "text": [
      "INFO - 07/22/25 19:18:24 - 0:00:42 - (16640/20000) Found 87/128 valid top-1 predictions. Generating solutions ...\n",
      "INFO - 07/22/25 19:18:24 - 0:00:42 -     Found 87/128 solutions in beam hypotheses.\n"
     ]
    },
    {
     "name": "stdout",
     "output_type": "stream",
     "text": [
      "INFO - 07/22/25 19:18:24 - 0:00:42 - (16768/20000) Found 82/128 valid top-1 predictions. Generating solutions ...\n",
      "INFO - 07/22/25 19:18:24 - 0:00:42 -     Found 82/128 solutions in beam hypotheses.\n"
     ]
    },
    {
     "name": "stdout",
     "output_type": "stream",
     "text": [
      "INFO - 07/22/25 19:18:25 - 0:00:42 - (16896/20000) Found 91/128 valid top-1 predictions. Generating solutions ...\n",
      "INFO - 07/22/25 19:18:25 - 0:00:43 -     Found 91/128 solutions in beam hypotheses.\n"
     ]
    },
    {
     "name": "stdout",
     "output_type": "stream",
     "text": [
      "INFO - 07/22/25 19:18:25 - 0:00:43 - (17024/20000) Found 88/128 valid top-1 predictions. Generating solutions ...\n",
      "INFO - 07/22/25 19:18:25 - 0:00:43 -     Found 88/128 solutions in beam hypotheses.\n"
     ]
    },
    {
     "name": "stdout",
     "output_type": "stream",
     "text": [
      "INFO - 07/22/25 19:18:25 - 0:00:43 - (17152/20000) Found 82/128 valid top-1 predictions. Generating solutions ...\n",
      "INFO - 07/22/25 19:18:25 - 0:00:43 -     Found 82/128 solutions in beam hypotheses.\n"
     ]
    },
    {
     "name": "stdout",
     "output_type": "stream",
     "text": [
      "INFO - 07/22/25 19:18:25 - 0:00:43 - (17280/20000) Found 89/128 valid top-1 predictions. Generating solutions ...\n",
      "INFO - 07/22/25 19:18:25 - 0:00:43 -     Found 89/128 solutions in beam hypotheses.\n"
     ]
    },
    {
     "name": "stdout",
     "output_type": "stream",
     "text": [
      "INFO - 07/22/25 19:18:26 - 0:00:44 - (17408/20000) Found 82/128 valid top-1 predictions. Generating solutions ...\n",
      "INFO - 07/22/25 19:18:26 - 0:00:44 -     Found 82/128 solutions in beam hypotheses.\n"
     ]
    },
    {
     "name": "stdout",
     "output_type": "stream",
     "text": [
      "INFO - 07/22/25 19:18:26 - 0:00:44 - (17536/20000) Found 86/128 valid top-1 predictions. Generating solutions ...\n",
      "INFO - 07/22/25 19:18:26 - 0:00:44 -     Found 86/128 solutions in beam hypotheses.\n"
     ]
    },
    {
     "name": "stdout",
     "output_type": "stream",
     "text": [
      "INFO - 07/22/25 19:18:26 - 0:00:44 - (17664/20000) Found 85/128 valid top-1 predictions. Generating solutions ...\n",
      "INFO - 07/22/25 19:18:26 - 0:00:44 -     Found 85/128 solutions in beam hypotheses.\n"
     ]
    },
    {
     "name": "stdout",
     "output_type": "stream",
     "text": [
      "INFO - 07/22/25 19:18:27 - 0:00:45 - (17792/20000) Found 92/128 valid top-1 predictions. Generating solutions ...\n",
      "INFO - 07/22/25 19:18:27 - 0:00:45 -     Found 92/128 solutions in beam hypotheses.\n"
     ]
    },
    {
     "name": "stdout",
     "output_type": "stream",
     "text": [
      "INFO - 07/22/25 19:18:27 - 0:00:45 - (17920/20000) Found 93/128 valid top-1 predictions. Generating solutions ...\n",
      "INFO - 07/22/25 19:18:27 - 0:00:45 -     Found 93/128 solutions in beam hypotheses.\n"
     ]
    },
    {
     "name": "stdout",
     "output_type": "stream",
     "text": [
      "INFO - 07/22/25 19:18:27 - 0:00:45 - (18048/20000) Found 80/128 valid top-1 predictions. Generating solutions ...\n",
      "INFO - 07/22/25 19:18:27 - 0:00:45 -     Found 80/128 solutions in beam hypotheses.\n"
     ]
    },
    {
     "name": "stdout",
     "output_type": "stream",
     "text": [
      "INFO - 07/22/25 19:18:28 - 0:00:46 - (18176/20000) Found 87/128 valid top-1 predictions. Generating solutions ...\n",
      "INFO - 07/22/25 19:18:28 - 0:00:46 -     Found 87/128 solutions in beam hypotheses.\n"
     ]
    },
    {
     "name": "stdout",
     "output_type": "stream",
     "text": [
      "INFO - 07/22/25 19:18:28 - 0:00:46 - (18304/20000) Found 94/128 valid top-1 predictions. Generating solutions ...\n",
      "INFO - 07/22/25 19:18:28 - 0:00:46 -     Found 94/128 solutions in beam hypotheses.\n"
     ]
    },
    {
     "name": "stdout",
     "output_type": "stream",
     "text": [
      "INFO - 07/22/25 19:18:28 - 0:00:46 - (18432/20000) Found 83/128 valid top-1 predictions. Generating solutions ...\n",
      "INFO - 07/22/25 19:18:28 - 0:00:46 -     Found 83/128 solutions in beam hypotheses.\n"
     ]
    },
    {
     "name": "stdout",
     "output_type": "stream",
     "text": [
      "INFO - 07/22/25 19:18:29 - 0:00:46 - (18560/20000) Found 85/128 valid top-1 predictions. Generating solutions ...\n",
      "INFO - 07/22/25 19:18:29 - 0:00:46 -     Found 85/128 solutions in beam hypotheses.\n"
     ]
    },
    {
     "name": "stdout",
     "output_type": "stream",
     "text": [
      "INFO - 07/22/25 19:18:29 - 0:00:47 - (18688/20000) Found 91/128 valid top-1 predictions. Generating solutions ...\n",
      "INFO - 07/22/25 19:18:29 - 0:00:47 -     Found 91/128 solutions in beam hypotheses.\n"
     ]
    },
    {
     "name": "stdout",
     "output_type": "stream",
     "text": [
      "INFO - 07/22/25 19:18:29 - 0:00:47 - (18816/20000) Found 92/128 valid top-1 predictions. Generating solutions ...\n",
      "INFO - 07/22/25 19:18:29 - 0:00:47 -     Found 92/128 solutions in beam hypotheses.\n"
     ]
    },
    {
     "name": "stdout",
     "output_type": "stream",
     "text": [
      "INFO - 07/22/25 19:18:29 - 0:00:47 - (18944/20000) Found 87/128 valid top-1 predictions. Generating solutions ...\n",
      "INFO - 07/22/25 19:18:29 - 0:00:47 -     Found 87/128 solutions in beam hypotheses.\n"
     ]
    },
    {
     "name": "stdout",
     "output_type": "stream",
     "text": [
      "INFO - 07/22/25 19:18:30 - 0:00:48 - (19072/20000) Found 89/128 valid top-1 predictions. Generating solutions ...\n",
      "INFO - 07/22/25 19:18:30 - 0:00:48 -     Found 89/128 solutions in beam hypotheses.\n"
     ]
    },
    {
     "name": "stdout",
     "output_type": "stream",
     "text": [
      "INFO - 07/22/25 19:18:30 - 0:00:48 - (19200/20000) Found 94/128 valid top-1 predictions. Generating solutions ...\n",
      "INFO - 07/22/25 19:18:30 - 0:00:48 -     Found 94/128 solutions in beam hypotheses.\n"
     ]
    },
    {
     "name": "stdout",
     "output_type": "stream",
     "text": [
      "INFO - 07/22/25 19:18:30 - 0:00:48 - (19328/20000) Found 86/128 valid top-1 predictions. Generating solutions ...\n",
      "INFO - 07/22/25 19:18:30 - 0:00:48 -     Found 86/128 solutions in beam hypotheses.\n"
     ]
    },
    {
     "name": "stdout",
     "output_type": "stream",
     "text": [
      "INFO - 07/22/25 19:18:31 - 0:00:49 - (19456/20000) Found 76/128 valid top-1 predictions. Generating solutions ...\n",
      "INFO - 07/22/25 19:18:31 - 0:00:49 -     Found 76/128 solutions in beam hypotheses.\n"
     ]
    },
    {
     "name": "stdout",
     "output_type": "stream",
     "text": [
      "INFO - 07/22/25 19:18:31 - 0:00:49 - (19584/20000) Found 86/128 valid top-1 predictions. Generating solutions ...\n",
      "INFO - 07/22/25 19:18:31 - 0:00:49 -     Found 86/128 solutions in beam hypotheses.\n"
     ]
    },
    {
     "name": "stdout",
     "output_type": "stream",
     "text": [
      "INFO - 07/22/25 19:18:31 - 0:00:49 - (19712/20000) Found 88/128 valid top-1 predictions. Generating solutions ...\n",
      "INFO - 07/22/25 19:18:31 - 0:00:49 -     Found 88/128 solutions in beam hypotheses.\n"
     ]
    },
    {
     "name": "stdout",
     "output_type": "stream",
     "text": [
      "INFO - 07/22/25 19:18:32 - 0:00:49 - (19840/20000) Found 93/128 valid top-1 predictions. Generating solutions ...\n",
      "INFO - 07/22/25 19:18:32 - 0:00:50 -     Found 93/128 solutions in beam hypotheses.\n"
     ]
    },
    {
     "name": "stdout",
     "output_type": "stream",
     "text": [
      "INFO - 07/22/25 19:18:32 - 0:00:50 - (19968/20000) Found 91/128 valid top-1 predictions. Generating solutions ...\n",
      "INFO - 07/22/25 19:18:32 - 0:00:50 -     Found 91/128 solutions in beam hypotheses.\n",
      "INFO - 07/22/25 19:18:32 - 0:00:50 - (20000/20000) Found 20/32 valid top-1 predictions. Generating solutions ...\n",
      "INFO - 07/22/25 19:18:32 - 0:00:50 -     Found 20/32 solutions in beam hypotheses.\n",
      "INFO - 07/22/25 19:18:32 - 0:00:50 - 13554/20000 (67.77%) equations were evaluated correctly.\n",
      "INFO - 07/22/25 19:18:32 - 0:00:50 - 0: 4068 / 7809 (52.09%)\n",
      "INFO - 07/22/25 19:18:32 - 0:00:50 - 1: 9486 / 12191 (77.81%)\n"
     ]
    },
    {
     "name": "stdout",
     "output_type": "stream",
     "text": [
      "INFO - 07/22/25 19:18:32 - 0:00:50 - epoch -> 227.000000\n",
      "INFO - 07/22/25 19:18:32 - 0:00:50 - valid_arithmetic_xe_loss -> 0.646300\n",
      "INFO - 07/22/25 19:18:32 - 0:00:50 - valid_arithmetic_acc -> 67.770000\n",
      "INFO - 07/22/25 19:18:32 - 0:00:50 - valid_arithmetic_perfect -> 67.770000\n",
      "INFO - 07/22/25 19:18:32 - 0:00:50 - valid_arithmetic_correct -> 67.770000\n",
      "INFO - 07/22/25 19:18:32 - 0:00:50 - valid_arithmetic_acc_d1 -> 67.770000\n",
      "INFO - 07/22/25 19:18:32 - 0:00:50 - valid_arithmetic_acc_d2 -> 67.770000\n",
      "INFO - 07/22/25 19:18:32 - 0:00:50 - valid_arithmetic_acc_d3 -> 86.475000\n",
      "INFO - 07/22/25 19:18:32 - 0:00:50 - valid_arithmetic_acc_0 -> 52.093738\n",
      "INFO - 07/22/25 19:18:32 - 0:00:50 - valid_arithmetic_acc_1 -> 77.811500\n",
      "INFO - 07/22/25 19:18:32 - 0:00:50 - __log__:{\"epoch\": 227, \"valid_arithmetic_xe_loss\": 0.6462999513626099, \"valid_arithmetic_acc\": 67.77, \"valid_arithmetic_perfect\": 67.77, \"valid_arithmetic_correct\": 67.77, \"valid_arithmetic_acc_d1\": 67.77, \"valid_arithmetic_acc_d2\": 67.77, \"valid_arithmetic_acc_d3\": 86.475, \"valid_arithmetic_acc_0\": 52.09373799462159, \"valid_arithmetic_acc_1\": 77.81150028709703}\n"
     ]
    },
    {
     "name": "stdout",
     "output_type": "stream",
     "text": [
      "INFO - 07/22/25 19:18:35 - 0:00:00 - ============ Initialized logger ============\n",
      "INFO - 07/22/25 19:18:35 - 0:00:00 - GRU: False\n",
      "                                     accumulate_gradients: 1\n",
      "                                     act_bias: 0\n",
      "                                     act_biased: False\n",
      "                                     act_ponder_coupling: 0.01\n",
      "                                     act_threshold: 0.01\n",
      "                                     amp: -1\n",
      "                                     architecture: encoder_decoder\n",
      "                                     attention_dropout: 0\n",
      "                                     base: 1000\n",
      "                                     batch_load: False\n",
      "                                     batch_size: 32\n",
      "                                     batch_size_eval: 128\n",
      "                                     beam_early_stopping: True\n",
      "                                     beam_eval: False\n",
      "                                     beam_eval_train: 0\n",
      "                                     beam_length_penalty: 1\n",
      "                                     beam_size: 1\n",
      "                                     biased_gates: False\n",
      "                                     bidirectional: False\n",
      "                                     class_by_length: False\n",
      "                                     clip_grad_norm: 5\n",
      "                                     command: python /home/user/Int2Int/train.py --num_workers 0 --dump_path '/home/user/fastdir/dump' --exp_name basicsq --exp_id 2 --eval_only True --eval_data '/home/user/fastdir/data/musq_23_random.txt' --eval_size 20000 --data_types 'int[200]:range(-1,2)' --exp_id \"2\"\n",
      "                                     cpu: False\n",
      "                                     data_types: int[200]:range(-1,2)\n",
      "                                     debug: False\n",
      "                                     debug_slurm: False\n",
      "                                     dec_act: False\n",
      "                                     dec_emb_dim: 256\n",
      "                                     dec_gated: False\n",
      "                                     dec_has_pos_emb: True\n",
      "                                     dec_loop_idx: -1\n",
      "                                     dec_loops: 1\n",
      "                                     dim1: 10\n",
      "                                     dim2: 10\n",
      "                                     dropout: 0\n",
      "                                     dump_path: /home/user/fastdir/dump/basicsq/2\n",
      "                                     enc_act: False\n",
      "                                     enc_emb_dim: 256\n",
      "                                     enc_gated: False\n",
      "                                     enc_has_pos_emb: True\n",
      "                                     enc_loop_idx: -1\n",
      "                                     enc_loops: 1\n",
      "                                     env_base_seed: -1\n",
      "                                     env_name: arithmetic\n",
      "                                     epoch_size: 300000\n",
      "                                     eval_data: /home/user/fastdir/data/musq_23_random.txt\n",
      "                                     eval_from_exp: \n",
      "                                     eval_only: True\n",
      "                                     eval_size: 20000\n",
      "                                     eval_verbose: 0\n",
      "                                     eval_verbose_print: False\n",
      "                                     exp_id: 2\n",
      "                                     exp_name: basicsq\n",
      "                                     export_data: False\n",
      "                                     first_class_prob: 0.25\n",
      "                                     first_class_size: 1000000\n",
      "                                     fp16: False\n",
      "                                     gate_bias: 0\n",
      "                                     gated: False\n",
      "                                     gelu_activation: False\n",
      "                                     global_rank: 0\n",
      "                                     is_master: True\n",
      "                                     is_slurm_job: False\n",
      "                                     local_gpu: -1\n",
      "                                     local_rank: 0\n",
      "                                     lstm: False\n",
      "                                     lstm_hidden_dim: 2048\n",
      "                                     master_port: -1\n",
      "                                     max_class: 101\n",
      "                                     max_epoch: 100000\n",
      "                                     max_len: 512\n",
      "                                     max_output_len: 512\n",
      "                                     max_src_len: 0\n",
      "                                     maxint: 1000000\n",
      "                                     minint: 1\n",
      "                                     modulus: 67\n",
      "                                     multi_gpu: False\n",
      "                                     multi_node: False\n",
      "                                     n_dec_heads: 8\n",
      "                                     n_dec_hidden_layers: 1\n",
      "                                     n_dec_layers: 4\n",
      "                                     n_enc_heads: 8\n",
      "                                     n_enc_hidden_layers: 1\n",
      "                                     n_enc_layers: 4\n",
      "                                     n_gpu_per_node: 1\n",
      "                                     n_nodes: 1\n",
      "                                     node_id: 0\n",
      "                                     norm_attention: False\n",
      "                                     num_workers: 0\n",
      "                                     operation: data\n",
      "                                     optimizer: adam,lr=0.0001\n",
      "                                     reload_checkpoint: \n",
      "                                     reload_model: \n",
      "                                     reload_size: -1\n",
      "                                     save_periodic: 0\n",
      "                                     scalar_gate: False\n",
      "                                     share_inout_emb: True\n",
      "                                     sinusoidal_embeddings: False\n",
      "                                     stopping_criterion: \n",
      "                                     tasks: arithmetic\n",
      "                                     train_data: \n",
      "                                     two_classes: False\n",
      "                                     validation_metrics: \n",
      "                                     windows: False\n",
      "                                     world_size: 1\n",
      "                                     xav_init: False\n",
      "INFO - 07/22/25 19:18:35 - 0:00:00 - The experiment will be stored in /home/user/fastdir/dump/basicsq/2\n",
      "                                     \n",
      "INFO - 07/22/25 19:18:35 - 0:00:00 - Running command: python /home/user/Int2Int/train.py --num_workers 0 --dump_path '/home/user/fastdir/dump' --exp_name basicsq --exp_id 2 --eval_only True --eval_data '/home/user/fastdir/data/musq_23_random.txt' --eval_size 20000 --data_types 'int[200]:range(-1,2)'\n",
      "\n",
      "INFO - 07/22/25 19:18:35 - 0:00:00 - words: {'<eos>': 0, '<pad>': 1, '<sep>': 2, '(': 3, ')': 4, '<SPECIAL_0>': 5, '<SPECIAL_1>': 6, '<SPECIAL_2>': 7, '<SPECIAL_3>': 8, '<SPECIAL_4>': 9, '<SPECIAL_5>': 10, '<SPECIAL_6>': 11, '<SPECIAL_7>': 12, '<SPECIAL_8>': 13, '<SPECIAL_9>': 14, '+': 15, '-': 16, '-1': 17, '0': 18, '1': 19, '10': 20, '100': 21, '101': 22, '102': 23, '103': 24, '104': 25, '105': 26, '106': 27, '107': 28, '108': 29, '109': 30, '11': 31, '110': 32, '111': 33, '112': 34, '113': 35, '114': 36, '115': 37, '116': 38, '117': 39, '118': 40, '119': 41, '12': 42, '120': 43, '121': 44, '122': 45, '123': 46, '124': 47, '125': 48, '126': 49, '127': 50, '128': 51, '129': 52, '13': 53, '130': 54, '131': 55, '132': 56, '133': 57, '134': 58, '135': 59, '136': 60, '137': 61, '138': 62, '139': 63, '14': 64, '140': 65, '141': 66, '142': 67, '143': 68, '144': 69, '145': 70, '146': 71, '147': 72, '148': 73, '149': 74, '15': 75, '150': 76, '151': 77, '152': 78, '153': 79, '154': 80, '155': 81, '156': 82, '157': 83, '158': 84, '159': 85, '16': 86, '160': 87, '161': 88, '162': 89, '163': 90, '164': 91, '165': 92, '166': 93, '167': 94, '168': 95, '169': 96, '17': 97, '170': 98, '171': 99, '172': 100, '173': 101, '174': 102, '175': 103, '176': 104, '177': 105, '178': 106, '179': 107, '18': 108, '180': 109, '181': 110, '182': 111, '183': 112, '184': 113, '185': 114, '186': 115, '187': 116, '188': 117, '189': 118, '19': 119, '190': 120, '191': 121, '192': 122, '193': 123, '194': 124, '195': 125, '196': 126, '197': 127, '198': 128, '199': 129, '2': 130, '20': 131, '200': 132, '201': 133, '202': 134, '203': 135, '204': 136, '205': 137, '206': 138, '207': 139, '208': 140, '209': 141, '21': 142, '210': 143, '211': 144, '212': 145, '213': 146, '214': 147, '215': 148, '216': 149, '217': 150, '218': 151, '219': 152, '22': 153, '220': 154, '221': 155, '222': 156, '223': 157, '224': 158, '225': 159, '226': 160, '227': 161, '228': 162, '229': 163, '23': 164, '230': 165, '231': 166, '232': 167, '233': 168, '234': 169, '235': 170, '236': 171, '237': 172, '238': 173, '239': 174, '24': 175, '240': 176, '241': 177, '242': 178, '243': 179, '244': 180, '245': 181, '246': 182, '247': 183, '248': 184, '249': 185, '25': 186, '250': 187, '251': 188, '252': 189, '253': 190, '254': 191, '255': 192, '256': 193, '257': 194, '258': 195, '259': 196, '26': 197, '260': 198, '261': 199, '262': 200, '263': 201, '264': 202, '265': 203, '266': 204, '267': 205, '268': 206, '269': 207, '27': 208, '270': 209, '271': 210, '272': 211, '273': 212, '274': 213, '275': 214, '276': 215, '277': 216, '278': 217, '279': 218, '28': 219, '280': 220, '281': 221, '282': 222, '283': 223, '284': 224, '285': 225, '286': 226, '287': 227, '288': 228, '289': 229, '29': 230, '290': 231, '291': 232, '292': 233, '293': 234, '294': 235, '295': 236, '296': 237, '297': 238, '298': 239, '299': 240, '3': 241, '30': 242, '300': 243, '301': 244, '302': 245, '303': 246, '304': 247, '305': 248, '306': 249, '307': 250, '308': 251, '309': 252, '31': 253, '310': 254, '311': 255, '312': 256, '313': 257, '314': 258, '315': 259, '316': 260, '317': 261, '318': 262, '319': 263, '32': 264, '320': 265, '321': 266, '322': 267, '323': 268, '324': 269, '325': 270, '326': 271, '327': 272, '328': 273, '329': 274, '33': 275, '330': 276, '331': 277, '332': 278, '333': 279, '334': 280, '335': 281, '336': 282, '337': 283, '338': 284, '339': 285, '34': 286, '340': 287, '341': 288, '342': 289, '343': 290, '344': 291, '345': 292, '346': 293, '347': 294, '348': 295, '349': 296, '35': 297, '350': 298, '351': 299, '352': 300, '353': 301, '354': 302, '355': 303, '356': 304, '357': 305, '358': 306, '359': 307, '36': 308, '360': 309, '361': 310, '362': 311, '363': 312, '364': 313, '365': 314, '366': 315, '367': 316, '368': 317, '369': 318, '37': 319, '370': 320, '371': 321, '372': 322, '373': 323, '374': 324, '375': 325, '376': 326, '377': 327, '378': 328, '379': 329, '38': 330, '380': 331, '381': 332, '382': 333, '383': 334, '384': 335, '385': 336, '386': 337, '387': 338, '388': 339, '389': 340, '39': 341, '390': 342, '391': 343, '392': 344, '393': 345, '394': 346, '395': 347, '396': 348, '397': 349, '398': 350, '399': 351, '4': 352, '40': 353, '400': 354, '401': 355, '402': 356, '403': 357, '404': 358, '405': 359, '406': 360, '407': 361, '408': 362, '409': 363, '41': 364, '410': 365, '411': 366, '412': 367, '413': 368, '414': 369, '415': 370, '416': 371, '417': 372, '418': 373, '419': 374, '42': 375, '420': 376, '421': 377, '422': 378, '423': 379, '424': 380, '425': 381, '426': 382, '427': 383, '428': 384, '429': 385, '43': 386, '430': 387, '431': 388, '432': 389, '433': 390, '434': 391, '435': 392, '436': 393, '437': 394, '438': 395, '439': 396, '44': 397, '440': 398, '441': 399, '442': 400, '443': 401, '444': 402, '445': 403, '446': 404, '447': 405, '448': 406, '449': 407, '45': 408, '450': 409, '451': 410, '452': 411, '453': 412, '454': 413, '455': 414, '456': 415, '457': 416, '458': 417, '459': 418, '46': 419, '460': 420, '461': 421, '462': 422, '463': 423, '464': 424, '465': 425, '466': 426, '467': 427, '468': 428, '469': 429, '47': 430, '470': 431, '471': 432, '472': 433, '473': 434, '474': 435, '475': 436, '476': 437, '477': 438, '478': 439, '479': 440, '48': 441, '480': 442, '481': 443, '482': 444, '483': 445, '484': 446, '485': 447, '486': 448, '487': 449, '488': 450, '489': 451, '49': 452, '490': 453, '491': 454, '492': 455, '493': 456, '494': 457, '495': 458, '496': 459, '497': 460, '498': 461, '499': 462, '5': 463, '50': 464, '500': 465, '501': 466, '502': 467, '503': 468, '504': 469, '505': 470, '506': 471, '507': 472, '508': 473, '509': 474, '51': 475, '510': 476, '511': 477, '512': 478, '513': 479, '514': 480, '515': 481, '516': 482, '517': 483, '518': 484, '519': 485, '52': 486, '520': 487, '521': 488, '522': 489, '523': 490, '524': 491, '525': 492, '526': 493, '527': 494, '528': 495, '529': 496, '53': 497, '530': 498, '531': 499, '532': 500, '533': 501, '534': 502, '535': 503, '536': 504, '537': 505, '538': 506, '539': 507, '54': 508, '540': 509, '541': 510, '542': 511, '543': 512, '544': 513, '545': 514, '546': 515, '547': 516, '548': 517, '549': 518, '55': 519, '550': 520, '551': 521, '552': 522, '553': 523, '554': 524, '555': 525, '556': 526, '557': 527, '558': 528, '559': 529, '56': 530, '560': 531, '561': 532, '562': 533, '563': 534, '564': 535, '565': 536, '566': 537, '567': 538, '568': 539, '569': 540, '57': 541, '570': 542, '571': 543, '572': 544, '573': 545, '574': 546, '575': 547, '576': 548, '577': 549, '578': 550, '579': 551, '58': 552, '580': 553, '581': 554, '582': 555, '583': 556, '584': 557, '585': 558, '586': 559, '587': 560, '588': 561, '589': 562, '59': 563, '590': 564, '591': 565, '592': 566, '593': 567, '594': 568, '595': 569, '596': 570, '597': 571, '598': 572, '599': 573, '6': 574, '60': 575, '600': 576, '601': 577, '602': 578, '603': 579, '604': 580, '605': 581, '606': 582, '607': 583, '608': 584, '609': 585, '61': 586, '610': 587, '611': 588, '612': 589, '613': 590, '614': 591, '615': 592, '616': 593, '617': 594, '618': 595, '619': 596, '62': 597, '620': 598, '621': 599, '622': 600, '623': 601, '624': 602, '625': 603, '626': 604, '627': 605, '628': 606, '629': 607, '63': 608, '630': 609, '631': 610, '632': 611, '633': 612, '634': 613, '635': 614, '636': 615, '637': 616, '638': 617, '639': 618, '64': 619, '640': 620, '641': 621, '642': 622, '643': 623, '644': 624, '645': 625, '646': 626, '647': 627, '648': 628, '649': 629, '65': 630, '650': 631, '651': 632, '652': 633, '653': 634, '654': 635, '655': 636, '656': 637, '657': 638, '658': 639, '659': 640, '66': 641, '660': 642, '661': 643, '662': 644, '663': 645, '664': 646, '665': 647, '666': 648, '667': 649, '668': 650, '669': 651, '67': 652, '670': 653, '671': 654, '672': 655, '673': 656, '674': 657, '675': 658, '676': 659, '677': 660, '678': 661, '679': 662, '68': 663, '680': 664, '681': 665, '682': 666, '683': 667, '684': 668, '685': 669, '686': 670, '687': 671, '688': 672, '689': 673, '69': 674, '690': 675, '691': 676, '692': 677, '693': 678, '694': 679, '695': 680, '696': 681, '697': 682, '698': 683, '699': 684, '7': 685, '70': 686, '700': 687, '701': 688, '702': 689, '703': 690, '704': 691, '705': 692, '706': 693, '707': 694, '708': 695, '709': 696, '71': 697, '710': 698, '711': 699, '712': 700, '713': 701, '714': 702, '715': 703, '716': 704, '717': 705, '718': 706, '719': 707, '72': 708, '720': 709, '721': 710, '722': 711, '723': 712, '724': 713, '725': 714, '726': 715, '727': 716, '728': 717, '729': 718, '73': 719, '730': 720, '731': 721, '732': 722, '733': 723, '734': 724, '735': 725, '736': 726, '737': 727, '738': 728, '739': 729, '74': 730, '740': 731, '741': 732, '742': 733, '743': 734, '744': 735, '745': 736, '746': 737, '747': 738, '748': 739, '749': 740, '75': 741, '750': 742, '751': 743, '752': 744, '753': 745, '754': 746, '755': 747, '756': 748, '757': 749, '758': 750, '759': 751, '76': 752, '760': 753, '761': 754, '762': 755, '763': 756, '764': 757, '765': 758, '766': 759, '767': 760, '768': 761, '769': 762, '77': 763, '770': 764, '771': 765, '772': 766, '773': 767, '774': 768, '775': 769, '776': 770, '777': 771, '778': 772, '779': 773, '78': 774, '780': 775, '781': 776, '782': 777, '783': 778, '784': 779, '785': 780, '786': 781, '787': 782, '788': 783, '789': 784, '79': 785, '790': 786, '791': 787, '792': 788, '793': 789, '794': 790, '795': 791, '796': 792, '797': 793, '798': 794, '799': 795, '8': 796, '80': 797, '800': 798, '801': 799, '802': 800, '803': 801, '804': 802, '805': 803, '806': 804, '807': 805, '808': 806, '809': 807, '81': 808, '810': 809, '811': 810, '812': 811, '813': 812, '814': 813, '815': 814, '816': 815, '817': 816, '818': 817, '819': 818, '82': 819, '820': 820, '821': 821, '822': 822, '823': 823, '824': 824, '825': 825, '826': 826, '827': 827, '828': 828, '829': 829, '83': 830, '830': 831, '831': 832, '832': 833, '833': 834, '834': 835, '835': 836, '836': 837, '837': 838, '838': 839, '839': 840, '84': 841, '840': 842, '841': 843, '842': 844, '843': 845, '844': 846, '845': 847, '846': 848, '847': 849, '848': 850, '849': 851, '85': 852, '850': 853, '851': 854, '852': 855, '853': 856, '854': 857, '855': 858, '856': 859, '857': 860, '858': 861, '859': 862, '86': 863, '860': 864, '861': 865, '862': 866, '863': 867, '864': 868, '865': 869, '866': 870, '867': 871, '868': 872, '869': 873, '87': 874, '870': 875, '871': 876, '872': 877, '873': 878, '874': 879, '875': 880, '876': 881, '877': 882, '878': 883, '879': 884, '88': 885, '880': 886, '881': 887, '882': 888, '883': 889, '884': 890, '885': 891, '886': 892, '887': 893, '888': 894, '889': 895, '89': 896, '890': 897, '891': 898, '892': 899, '893': 900, '894': 901, '895': 902, '896': 903, '897': 904, '898': 905, '899': 906, '9': 907, '90': 908, '900': 909, '901': 910, '902': 911, '903': 912, '904': 913, '905': 914, '906': 915, '907': 916, '908': 917, '909': 918, '91': 919, '910': 920, '911': 921, '912': 922, '913': 923, '914': 924, '915': 925, '916': 926, '917': 927, '918': 928, '919': 929, '92': 930, '920': 931, '921': 932, '922': 933, '923': 934, '924': 935, '925': 936, '926': 937, '927': 938, '928': 939, '929': 940, '93': 941, '930': 942, '931': 943, '932': 944, '933': 945, '934': 946, '935': 947, '936': 948, '937': 949, '938': 950, '939': 951, '94': 952, '940': 953, '941': 954, '942': 955, '943': 956, '944': 957, '945': 958, '946': 959, '947': 960, '948': 961, '949': 962, '95': 963, '950': 964, '951': 965, '952': 966, '953': 967, '954': 968, '955': 969, '956': 970, '957': 971, '958': 972, '959': 973, '96': 974, '960': 975, '961': 976, '962': 977, '963': 978, '964': 979, '965': 980, '966': 981, '967': 982, '968': 983, '969': 984, '97': 985, '970': 986, '971': 987, '972': 988, '973': 989, '974': 990, '975': 991, '976': 992, '977': 993, '978': 994, '979': 995, '98': 996, '980': 997, '981': 998, '982': 999, '983': 1000, '984': 1001, '985': 1002, '986': 1003, '987': 1004, '988': 1005, '989': 1006, '99': 1007, '990': 1008, '991': 1009, '992': 1010, '993': 1011, '994': 1012, '995': 1013, '996': 1014, '997': 1015, '998': 1016, '999': 1017, 'V1': 1018, 'V10': 1019, 'V100': 1020, 'V101': 1021, 'V102': 1022, 'V103': 1023, 'V104': 1024, 'V105': 1025, 'V106': 1026, 'V107': 1027, 'V108': 1028, 'V109': 1029, 'V11': 1030, 'V110': 1031, 'V111': 1032, 'V112': 1033, 'V113': 1034, 'V114': 1035, 'V115': 1036, 'V116': 1037, 'V117': 1038, 'V118': 1039, 'V119': 1040, 'V12': 1041, 'V120': 1042, 'V121': 1043, 'V122': 1044, 'V123': 1045, 'V124': 1046, 'V125': 1047, 'V126': 1048, 'V127': 1049, 'V128': 1050, 'V129': 1051, 'V13': 1052, 'V130': 1053, 'V131': 1054, 'V132': 1055, 'V133': 1056, 'V134': 1057, 'V135': 1058, 'V136': 1059, 'V137': 1060, 'V138': 1061, 'V139': 1062, 'V14': 1063, 'V140': 1064, 'V141': 1065, 'V142': 1066, 'V143': 1067, 'V144': 1068, 'V145': 1069, 'V146': 1070, 'V147': 1071, 'V148': 1072, 'V149': 1073, 'V15': 1074, 'V150': 1075, 'V151': 1076, 'V152': 1077, 'V153': 1078, 'V154': 1079, 'V155': 1080, 'V156': 1081, 'V157': 1082, 'V158': 1083, 'V159': 1084, 'V16': 1085, 'V160': 1086, 'V161': 1087, 'V162': 1088, 'V163': 1089, 'V164': 1090, 'V165': 1091, 'V166': 1092, 'V167': 1093, 'V168': 1094, 'V169': 1095, 'V17': 1096, 'V170': 1097, 'V171': 1098, 'V172': 1099, 'V173': 1100, 'V174': 1101, 'V175': 1102, 'V176': 1103, 'V177': 1104, 'V178': 1105, 'V179': 1106, 'V18': 1107, 'V180': 1108, 'V181': 1109, 'V182': 1110, 'V183': 1111, 'V184': 1112, 'V185': 1113, 'V186': 1114, 'V187': 1115, 'V188': 1116, 'V189': 1117, 'V19': 1118, 'V190': 1119, 'V191': 1120, 'V192': 1121, 'V193': 1122, 'V194': 1123, 'V195': 1124, 'V196': 1125, 'V197': 1126, 'V198': 1127, 'V199': 1128, 'V2': 1129, 'V20': 1130, 'V200': 1131, 'V21': 1132, 'V22': 1133, 'V23': 1134, 'V24': 1135, 'V25': 1136, 'V26': 1137, 'V27': 1138, 'V28': 1139, 'V29': 1140, 'V3': 1141, 'V30': 1142, 'V31': 1143, 'V32': 1144, 'V33': 1145, 'V34': 1146, 'V35': 1147, 'V36': 1148, 'V37': 1149, 'V38': 1150, 'V39': 1151, 'V4': 1152, 'V40': 1153, 'V41': 1154, 'V42': 1155, 'V43': 1156, 'V44': 1157, 'V45': 1158, 'V46': 1159, 'V47': 1160, 'V48': 1161, 'V49': 1162, 'V5': 1163, 'V50': 1164, 'V51': 1165, 'V52': 1166, 'V53': 1167, 'V54': 1168, 'V55': 1169, 'V56': 1170, 'V57': 1171, 'V58': 1172, 'V59': 1173, 'V6': 1174, 'V60': 1175, 'V61': 1176, 'V62': 1177, 'V63': 1178, 'V64': 1179, 'V65': 1180, 'V66': 1181, 'V67': 1182, 'V68': 1183, 'V69': 1184, 'V7': 1185, 'V70': 1186, 'V71': 1187, 'V72': 1188, 'V73': 1189, 'V74': 1190, 'V75': 1191, 'V76': 1192, 'V77': 1193, 'V78': 1194, 'V79': 1195, 'V8': 1196, 'V80': 1197, 'V81': 1198, 'V82': 1199, 'V83': 1200, 'V84': 1201, 'V85': 1202, 'V86': 1203, 'V87': 1204, 'V88': 1205, 'V89': 1206, 'V9': 1207, 'V90': 1208, 'V91': 1209, 'V92': 1210, 'V93': 1211, 'V94': 1212, 'V95': 1213, 'V96': 1214, 'V97': 1215, 'V98': 1216, 'V99': 1217}\n",
      "INFO - 07/22/25 19:18:35 - 0:00:00 - Training tasks: arithmetic\n",
      "INFO - 07/22/25 19:18:35 - 0:00:00 - Number of parameters (encoder): 4519936\n",
      "INFO - 07/22/25 19:18:35 - 0:00:00 - Number of parameters (decoder): 5575874\n"
     ]
    },
    {
     "name": "stdout",
     "output_type": "stream",
     "text": [
      "INFO - 07/22/25 19:18:35 - 0:00:00 - Found 177 parameters in model.\n"
     ]
    },
    {
     "name": "stdout",
     "output_type": "stream",
     "text": [
      "INFO - 07/22/25 19:18:36 - 0:00:01 - Optimizer: <class 'src.optim.Adam'>\n",
      "WARNING - 07/22/25 19:18:36 - 0:00:01 - Reloading checkpoint from /home/user/fastdir/dump/basicsq/2/checkpoint.pth ...\n",
      "/home/user/Int2Int/src/trainer.py:303: FutureWarning: You are using `torch.load` with `weights_only=False` (the current default value), which uses the default pickle module implicitly. It is possible to construct malicious pickle data which will execute arbitrary code during unpickling (See https://github.com/pytorch/pytorch/blob/main/SECURITY.md#untrusted-models for more details). In a future release, the default value for `weights_only` will be flipped to `True`. This limits the functions that could be executed during unpickling. Arbitrary objects will no longer be allowed to be loaded via this mode unless they are explicitly allowlisted by the user via `torch.serialization.add_safe_globals`. We recommend you start setting `weights_only=True` for any use case where you don't have full control of the loaded file. Please open an issue on GitHub for any issues related to this experimental feature.\n",
      "  data = torch.load(checkpoint_path, map_location=\"cpu\")\n",
      "WARNING - 07/22/25 19:18:36 - 0:00:01 - Reloading checkpoint optimizer ...\n",
      "WARNING - 07/22/25 19:18:36 - 0:00:01 - Checkpoint reloaded. Resuming at epoch 227 / iteration 141875 ...\n",
      "INFO - 07/22/25 19:18:36 - 0:00:01 - Creating valid iterator for arithmetic ...\n",
      "INFO - 07/22/25 19:18:36 - 0:00:01 - Loading data from /home/user/fastdir/data/musq_23_random.txt ...\n"
     ]
    },
    {
     "name": "stdout",
     "output_type": "stream",
     "text": [
      "INFO - 07/22/25 19:18:37 - 0:00:02 - Loaded 100000 equations from the disk.\n",
      "SLURM job: False\n",
      "0 - Number of nodes: 1\n",
      "0 - Node ID        : 0\n",
      "0 - Local rank     : 0\n",
      "0 - Global rank    : 0\n",
      "0 - World size     : 1\n",
      "0 - GPUs per node  : 1\n",
      "0 - Master         : True\n",
      "0 - Multi-node     : False\n",
      "0 - Multi-GPU      : False\n",
      "0 - Hostname       : compute-server-1\n"
     ]
    },
    {
     "name": "stdout",
     "output_type": "stream",
     "text": [
      "INFO - 07/22/25 19:18:37 - 0:00:03 - (128/20000) Found 74/128 valid top-1 predictions. Generating solutions ...\n",
      "INFO - 07/22/25 19:18:37 - 0:00:03 -     Found 74/128 solutions in beam hypotheses.\n"
     ]
    },
    {
     "name": "stdout",
     "output_type": "stream",
     "text": [
      "INFO - 07/22/25 19:18:38 - 0:00:03 - (256/20000) Found 72/128 valid top-1 predictions. Generating solutions ...\n",
      "INFO - 07/22/25 19:18:38 - 0:00:03 -     Found 72/128 solutions in beam hypotheses.\n"
     ]
    },
    {
     "name": "stdout",
     "output_type": "stream",
     "text": [
      "INFO - 07/22/25 19:18:38 - 0:00:03 - (384/20000) Found 65/128 valid top-1 predictions. Generating solutions ...\n",
      "INFO - 07/22/25 19:18:38 - 0:00:03 -     Found 65/128 solutions in beam hypotheses.\n"
     ]
    },
    {
     "name": "stdout",
     "output_type": "stream",
     "text": [
      "INFO - 07/22/25 19:18:38 - 0:00:04 - (512/20000) Found 69/128 valid top-1 predictions. Generating solutions ...\n",
      "INFO - 07/22/25 19:18:38 - 0:00:04 -     Found 69/128 solutions in beam hypotheses.\n"
     ]
    },
    {
     "name": "stdout",
     "output_type": "stream",
     "text": [
      "INFO - 07/22/25 19:18:39 - 0:00:04 - (640/20000) Found 62/128 valid top-1 predictions. Generating solutions ...\n",
      "INFO - 07/22/25 19:18:39 - 0:00:04 -     Found 62/128 solutions in beam hypotheses.\n"
     ]
    },
    {
     "name": "stdout",
     "output_type": "stream",
     "text": [
      "INFO - 07/22/25 19:18:39 - 0:00:04 - (768/20000) Found 66/128 valid top-1 predictions. Generating solutions ...\n",
      "INFO - 07/22/25 19:18:39 - 0:00:04 -     Found 66/128 solutions in beam hypotheses.\n"
     ]
    },
    {
     "name": "stdout",
     "output_type": "stream",
     "text": [
      "INFO - 07/22/25 19:18:39 - 0:00:04 - (896/20000) Found 72/128 valid top-1 predictions. Generating solutions ...\n",
      "INFO - 07/22/25 19:18:39 - 0:00:04 -     Found 72/128 solutions in beam hypotheses.\n"
     ]
    },
    {
     "name": "stdout",
     "output_type": "stream",
     "text": [
      "INFO - 07/22/25 19:18:40 - 0:00:05 - (1024/20000) Found 56/128 valid top-1 predictions. Generating solutions ...\n",
      "INFO - 07/22/25 19:18:40 - 0:00:05 -     Found 56/128 solutions in beam hypotheses.\n"
     ]
    },
    {
     "name": "stdout",
     "output_type": "stream",
     "text": [
      "INFO - 07/22/25 19:18:40 - 0:00:05 - (1152/20000) Found 81/128 valid top-1 predictions. Generating solutions ...\n",
      "INFO - 07/22/25 19:18:40 - 0:00:05 -     Found 81/128 solutions in beam hypotheses.\n"
     ]
    },
    {
     "name": "stdout",
     "output_type": "stream",
     "text": [
      "INFO - 07/22/25 19:18:40 - 0:00:05 - (1280/20000) Found 68/128 valid top-1 predictions. Generating solutions ...\n",
      "INFO - 07/22/25 19:18:40 - 0:00:05 -     Found 68/128 solutions in beam hypotheses.\n"
     ]
    },
    {
     "name": "stdout",
     "output_type": "stream",
     "text": [
      "INFO - 07/22/25 19:18:40 - 0:00:06 - (1408/20000) Found 64/128 valid top-1 predictions. Generating solutions ...\n",
      "INFO - 07/22/25 19:18:41 - 0:00:06 -     Found 64/128 solutions in beam hypotheses.\n"
     ]
    },
    {
     "name": "stdout",
     "output_type": "stream",
     "text": [
      "INFO - 07/22/25 19:18:41 - 0:00:06 - (1536/20000) Found 68/128 valid top-1 predictions. Generating solutions ...\n",
      "INFO - 07/22/25 19:18:41 - 0:00:06 -     Found 68/128 solutions in beam hypotheses.\n"
     ]
    },
    {
     "name": "stdout",
     "output_type": "stream",
     "text": [
      "INFO - 07/22/25 19:18:41 - 0:00:06 - (1664/20000) Found 74/128 valid top-1 predictions. Generating solutions ...\n",
      "INFO - 07/22/25 19:18:41 - 0:00:06 -     Found 74/128 solutions in beam hypotheses.\n"
     ]
    },
    {
     "name": "stdout",
     "output_type": "stream",
     "text": [
      "INFO - 07/22/25 19:18:41 - 0:00:07 - (1792/20000) Found 70/128 valid top-1 predictions. Generating solutions ...\n",
      "INFO - 07/22/25 19:18:41 - 0:00:07 -     Found 70/128 solutions in beam hypotheses.\n"
     ]
    },
    {
     "name": "stdout",
     "output_type": "stream",
     "text": [
      "INFO - 07/22/25 19:18:42 - 0:00:07 - (1920/20000) Found 74/128 valid top-1 predictions. Generating solutions ...\n",
      "INFO - 07/22/25 19:18:42 - 0:00:07 -     Found 74/128 solutions in beam hypotheses.\n"
     ]
    },
    {
     "name": "stdout",
     "output_type": "stream",
     "text": [
      "INFO - 07/22/25 19:18:42 - 0:00:07 - (2048/20000) Found 88/128 valid top-1 predictions. Generating solutions ...\n",
      "INFO - 07/22/25 19:18:42 - 0:00:07 -     Found 88/128 solutions in beam hypotheses.\n"
     ]
    },
    {
     "name": "stdout",
     "output_type": "stream",
     "text": [
      "INFO - 07/22/25 19:18:42 - 0:00:07 - (2176/20000) Found 78/128 valid top-1 predictions. Generating solutions ...\n",
      "INFO - 07/22/25 19:18:42 - 0:00:08 -     Found 78/128 solutions in beam hypotheses.\n"
     ]
    },
    {
     "name": "stdout",
     "output_type": "stream",
     "text": [
      "INFO - 07/22/25 19:18:43 - 0:00:08 - (2304/20000) Found 66/128 valid top-1 predictions. Generating solutions ...\n",
      "INFO - 07/22/25 19:18:43 - 0:00:08 -     Found 66/128 solutions in beam hypotheses.\n"
     ]
    },
    {
     "name": "stdout",
     "output_type": "stream",
     "text": [
      "INFO - 07/22/25 19:18:43 - 0:00:08 - (2432/20000) Found 69/128 valid top-1 predictions. Generating solutions ...\n",
      "INFO - 07/22/25 19:18:43 - 0:00:08 -     Found 69/128 solutions in beam hypotheses.\n"
     ]
    },
    {
     "name": "stdout",
     "output_type": "stream",
     "text": [
      "INFO - 07/22/25 19:18:43 - 0:00:08 - (2560/20000) Found 58/128 valid top-1 predictions. Generating solutions ...\n",
      "INFO - 07/22/25 19:18:43 - 0:00:08 -     Found 58/128 solutions in beam hypotheses.\n"
     ]
    },
    {
     "name": "stdout",
     "output_type": "stream",
     "text": [
      "INFO - 07/22/25 19:18:44 - 0:00:09 - (2688/20000) Found 67/128 valid top-1 predictions. Generating solutions ...\n",
      "INFO - 07/22/25 19:18:44 - 0:00:09 -     Found 67/128 solutions in beam hypotheses.\n"
     ]
    },
    {
     "name": "stdout",
     "output_type": "stream",
     "text": [
      "INFO - 07/22/25 19:18:44 - 0:00:09 - (2816/20000) Found 84/128 valid top-1 predictions. Generating solutions ...\n",
      "INFO - 07/22/25 19:18:44 - 0:00:09 -     Found 84/128 solutions in beam hypotheses.\n"
     ]
    },
    {
     "name": "stdout",
     "output_type": "stream",
     "text": [
      "INFO - 07/22/25 19:18:44 - 0:00:09 - (2944/20000) Found 70/128 valid top-1 predictions. Generating solutions ...\n",
      "INFO - 07/22/25 19:18:44 - 0:00:09 -     Found 70/128 solutions in beam hypotheses.\n"
     ]
    },
    {
     "name": "stdout",
     "output_type": "stream",
     "text": [
      "INFO - 07/22/25 19:18:44 - 0:00:10 - (3072/20000) Found 68/128 valid top-1 predictions. Generating solutions ...\n",
      "INFO - 07/22/25 19:18:44 - 0:00:10 -     Found 68/128 solutions in beam hypotheses.\n"
     ]
    },
    {
     "name": "stdout",
     "output_type": "stream",
     "text": [
      "INFO - 07/22/25 19:18:45 - 0:00:10 - (3200/20000) Found 69/128 valid top-1 predictions. Generating solutions ...\n",
      "INFO - 07/22/25 19:18:45 - 0:00:10 -     Found 69/128 solutions in beam hypotheses.\n"
     ]
    },
    {
     "name": "stdout",
     "output_type": "stream",
     "text": [
      "INFO - 07/22/25 19:18:45 - 0:00:10 - (3328/20000) Found 67/128 valid top-1 predictions. Generating solutions ...\n",
      "INFO - 07/22/25 19:18:45 - 0:00:10 -     Found 67/128 solutions in beam hypotheses.\n"
     ]
    },
    {
     "name": "stdout",
     "output_type": "stream",
     "text": [
      "INFO - 07/22/25 19:18:45 - 0:00:11 - (3456/20000) Found 75/128 valid top-1 predictions. Generating solutions ...\n",
      "INFO - 07/22/25 19:18:45 - 0:00:11 -     Found 75/128 solutions in beam hypotheses.\n"
     ]
    },
    {
     "name": "stdout",
     "output_type": "stream",
     "text": [
      "INFO - 07/22/25 19:18:46 - 0:00:11 - (3584/20000) Found 62/128 valid top-1 predictions. Generating solutions ...\n",
      "INFO - 07/22/25 19:18:46 - 0:00:11 -     Found 62/128 solutions in beam hypotheses.\n"
     ]
    },
    {
     "name": "stdout",
     "output_type": "stream",
     "text": [
      "INFO - 07/22/25 19:18:46 - 0:00:11 - (3712/20000) Found 65/128 valid top-1 predictions. Generating solutions ...\n",
      "INFO - 07/22/25 19:18:46 - 0:00:11 -     Found 65/128 solutions in beam hypotheses.\n"
     ]
    },
    {
     "name": "stdout",
     "output_type": "stream",
     "text": [
      "INFO - 07/22/25 19:18:46 - 0:00:11 - (3840/20000) Found 76/128 valid top-1 predictions. Generating solutions ...\n",
      "INFO - 07/22/25 19:18:46 - 0:00:11 -     Found 76/128 solutions in beam hypotheses.\n"
     ]
    },
    {
     "name": "stdout",
     "output_type": "stream",
     "text": [
      "INFO - 07/22/25 19:18:47 - 0:00:12 - (3968/20000) Found 74/128 valid top-1 predictions. Generating solutions ...\n",
      "INFO - 07/22/25 19:18:47 - 0:00:12 -     Found 74/128 solutions in beam hypotheses.\n"
     ]
    },
    {
     "name": "stdout",
     "output_type": "stream",
     "text": [
      "INFO - 07/22/25 19:18:47 - 0:00:12 - (4096/20000) Found 68/128 valid top-1 predictions. Generating solutions ...\n",
      "INFO - 07/22/25 19:18:47 - 0:00:12 -     Found 68/128 solutions in beam hypotheses.\n"
     ]
    },
    {
     "name": "stdout",
     "output_type": "stream",
     "text": [
      "INFO - 07/22/25 19:18:47 - 0:00:12 - (4224/20000) Found 69/128 valid top-1 predictions. Generating solutions ...\n",
      "INFO - 07/22/25 19:18:47 - 0:00:12 -     Found 69/128 solutions in beam hypotheses.\n"
     ]
    },
    {
     "name": "stdout",
     "output_type": "stream",
     "text": [
      "INFO - 07/22/25 19:18:47 - 0:00:13 - (4352/20000) Found 60/128 valid top-1 predictions. Generating solutions ...\n",
      "INFO - 07/22/25 19:18:48 - 0:00:13 -     Found 60/128 solutions in beam hypotheses.\n"
     ]
    },
    {
     "name": "stdout",
     "output_type": "stream",
     "text": [
      "INFO - 07/22/25 19:18:48 - 0:00:13 - (4480/20000) Found 64/128 valid top-1 predictions. Generating solutions ...\n",
      "INFO - 07/22/25 19:18:48 - 0:00:13 -     Found 64/128 solutions in beam hypotheses.\n"
     ]
    },
    {
     "name": "stdout",
     "output_type": "stream",
     "text": [
      "INFO - 07/22/25 19:18:48 - 0:00:13 - (4608/20000) Found 72/128 valid top-1 predictions. Generating solutions ...\n",
      "INFO - 07/22/25 19:18:48 - 0:00:13 -     Found 72/128 solutions in beam hypotheses.\n"
     ]
    },
    {
     "name": "stdout",
     "output_type": "stream",
     "text": [
      "INFO - 07/22/25 19:18:48 - 0:00:14 - (4736/20000) Found 66/128 valid top-1 predictions. Generating solutions ...\n",
      "INFO - 07/22/25 19:18:48 - 0:00:14 -     Found 66/128 solutions in beam hypotheses.\n"
     ]
    },
    {
     "name": "stdout",
     "output_type": "stream",
     "text": [
      "INFO - 07/22/25 19:18:49 - 0:00:14 - (4864/20000) Found 66/128 valid top-1 predictions. Generating solutions ...\n",
      "INFO - 07/22/25 19:18:49 - 0:00:14 -     Found 66/128 solutions in beam hypotheses.\n"
     ]
    },
    {
     "name": "stdout",
     "output_type": "stream",
     "text": [
      "INFO - 07/22/25 19:18:49 - 0:00:14 - (4992/20000) Found 71/128 valid top-1 predictions. Generating solutions ...\n",
      "INFO - 07/22/25 19:18:49 - 0:00:14 -     Found 71/128 solutions in beam hypotheses.\n"
     ]
    },
    {
     "name": "stdout",
     "output_type": "stream",
     "text": [
      "INFO - 07/22/25 19:18:49 - 0:00:14 - (5120/20000) Found 71/128 valid top-1 predictions. Generating solutions ...\n",
      "INFO - 07/22/25 19:18:49 - 0:00:15 -     Found 71/128 solutions in beam hypotheses.\n"
     ]
    },
    {
     "name": "stdout",
     "output_type": "stream",
     "text": [
      "INFO - 07/22/25 19:18:50 - 0:00:15 - (5248/20000) Found 71/128 valid top-1 predictions. Generating solutions ...\n",
      "INFO - 07/22/25 19:18:50 - 0:00:15 -     Found 71/128 solutions in beam hypotheses.\n"
     ]
    },
    {
     "name": "stdout",
     "output_type": "stream",
     "text": [
      "INFO - 07/22/25 19:18:50 - 0:00:15 - (5376/20000) Found 76/128 valid top-1 predictions. Generating solutions ...\n",
      "INFO - 07/22/25 19:18:50 - 0:00:15 -     Found 76/128 solutions in beam hypotheses.\n"
     ]
    },
    {
     "name": "stdout",
     "output_type": "stream",
     "text": [
      "INFO - 07/22/25 19:18:50 - 0:00:15 - (5504/20000) Found 72/128 valid top-1 predictions. Generating solutions ...\n",
      "INFO - 07/22/25 19:18:50 - 0:00:15 -     Found 72/128 solutions in beam hypotheses.\n"
     ]
    },
    {
     "name": "stdout",
     "output_type": "stream",
     "text": [
      "INFO - 07/22/25 19:18:51 - 0:00:16 - (5632/20000) Found 69/128 valid top-1 predictions. Generating solutions ...\n",
      "INFO - 07/22/25 19:18:51 - 0:00:16 -     Found 69/128 solutions in beam hypotheses.\n"
     ]
    },
    {
     "name": "stdout",
     "output_type": "stream",
     "text": [
      "INFO - 07/22/25 19:18:51 - 0:00:16 - (5760/20000) Found 80/128 valid top-1 predictions. Generating solutions ...\n",
      "INFO - 07/22/25 19:18:51 - 0:00:16 -     Found 80/128 solutions in beam hypotheses.\n"
     ]
    },
    {
     "name": "stdout",
     "output_type": "stream",
     "text": [
      "INFO - 07/22/25 19:18:51 - 0:00:16 - (5888/20000) Found 71/128 valid top-1 predictions. Generating solutions ...\n",
      "INFO - 07/22/25 19:18:51 - 0:00:16 -     Found 71/128 solutions in beam hypotheses.\n"
     ]
    },
    {
     "name": "stdout",
     "output_type": "stream",
     "text": [
      "INFO - 07/22/25 19:18:51 - 0:00:17 - (6016/20000) Found 73/128 valid top-1 predictions. Generating solutions ...\n",
      "INFO - 07/22/25 19:18:51 - 0:00:17 -     Found 73/128 solutions in beam hypotheses.\n"
     ]
    },
    {
     "name": "stdout",
     "output_type": "stream",
     "text": [
      "INFO - 07/22/25 19:18:52 - 0:00:17 - (6144/20000) Found 77/128 valid top-1 predictions. Generating solutions ...\n",
      "INFO - 07/22/25 19:18:52 - 0:00:17 -     Found 77/128 solutions in beam hypotheses.\n"
     ]
    },
    {
     "name": "stdout",
     "output_type": "stream",
     "text": [
      "INFO - 07/22/25 19:18:52 - 0:00:17 - (6272/20000) Found 67/128 valid top-1 predictions. Generating solutions ...\n",
      "INFO - 07/22/25 19:18:52 - 0:00:17 -     Found 67/128 solutions in beam hypotheses.\n"
     ]
    },
    {
     "name": "stdout",
     "output_type": "stream",
     "text": [
      "INFO - 07/22/25 19:18:52 - 0:00:18 - (6400/20000) Found 64/128 valid top-1 predictions. Generating solutions ...\n",
      "INFO - 07/22/25 19:18:52 - 0:00:18 -     Found 64/128 solutions in beam hypotheses.\n"
     ]
    },
    {
     "name": "stdout",
     "output_type": "stream",
     "text": [
      "INFO - 07/22/25 19:18:53 - 0:00:18 - (6528/20000) Found 65/128 valid top-1 predictions. Generating solutions ...\n",
      "INFO - 07/22/25 19:18:53 - 0:00:18 -     Found 65/128 solutions in beam hypotheses.\n"
     ]
    },
    {
     "name": "stdout",
     "output_type": "stream",
     "text": [
      "INFO - 07/22/25 19:18:53 - 0:00:18 - (6656/20000) Found 74/128 valid top-1 predictions. Generating solutions ...\n",
      "INFO - 07/22/25 19:18:53 - 0:00:18 -     Found 74/128 solutions in beam hypotheses.\n"
     ]
    },
    {
     "name": "stdout",
     "output_type": "stream",
     "text": [
      "INFO - 07/22/25 19:18:53 - 0:00:18 - (6784/20000) Found 77/128 valid top-1 predictions. Generating solutions ...\n",
      "INFO - 07/22/25 19:18:53 - 0:00:18 -     Found 77/128 solutions in beam hypotheses.\n"
     ]
    },
    {
     "name": "stdout",
     "output_type": "stream",
     "text": [
      "INFO - 07/22/25 19:18:54 - 0:00:19 - (6912/20000) Found 66/128 valid top-1 predictions. Generating solutions ...\n",
      "INFO - 07/22/25 19:18:54 - 0:00:19 -     Found 66/128 solutions in beam hypotheses.\n"
     ]
    },
    {
     "name": "stdout",
     "output_type": "stream",
     "text": [
      "INFO - 07/22/25 19:18:54 - 0:00:19 - (7040/20000) Found 68/128 valid top-1 predictions. Generating solutions ...\n",
      "INFO - 07/22/25 19:18:54 - 0:00:19 -     Found 68/128 solutions in beam hypotheses.\n"
     ]
    },
    {
     "name": "stdout",
     "output_type": "stream",
     "text": [
      "INFO - 07/22/25 19:18:54 - 0:00:19 - (7168/20000) Found 66/128 valid top-1 predictions. Generating solutions ...\n",
      "INFO - 07/22/25 19:18:54 - 0:00:19 -     Found 66/128 solutions in beam hypotheses.\n"
     ]
    },
    {
     "name": "stdout",
     "output_type": "stream",
     "text": [
      "INFO - 07/22/25 19:18:54 - 0:00:20 - (7296/20000) Found 70/128 valid top-1 predictions. Generating solutions ...\n",
      "INFO - 07/22/25 19:18:55 - 0:00:20 -     Found 70/128 solutions in beam hypotheses.\n"
     ]
    },
    {
     "name": "stdout",
     "output_type": "stream",
     "text": [
      "INFO - 07/22/25 19:18:55 - 0:00:20 - (7424/20000) Found 61/128 valid top-1 predictions. Generating solutions ...\n",
      "INFO - 07/22/25 19:18:55 - 0:00:20 -     Found 61/128 solutions in beam hypotheses.\n"
     ]
    },
    {
     "name": "stdout",
     "output_type": "stream",
     "text": [
      "INFO - 07/22/25 19:18:55 - 0:00:20 - (7552/20000) Found 70/128 valid top-1 predictions. Generating solutions ...\n",
      "INFO - 07/22/25 19:18:55 - 0:00:20 -     Found 70/128 solutions in beam hypotheses.\n"
     ]
    },
    {
     "name": "stdout",
     "output_type": "stream",
     "text": [
      "INFO - 07/22/25 19:18:55 - 0:00:21 - (7680/20000) Found 69/128 valid top-1 predictions. Generating solutions ...\n",
      "INFO - 07/22/25 19:18:55 - 0:00:21 -     Found 69/128 solutions in beam hypotheses.\n"
     ]
    },
    {
     "name": "stdout",
     "output_type": "stream",
     "text": [
      "INFO - 07/22/25 19:18:56 - 0:00:21 - (7808/20000) Found 59/128 valid top-1 predictions. Generating solutions ...\n",
      "INFO - 07/22/25 19:18:56 - 0:00:21 -     Found 59/128 solutions in beam hypotheses.\n"
     ]
    },
    {
     "name": "stdout",
     "output_type": "stream",
     "text": [
      "INFO - 07/22/25 19:18:56 - 0:00:21 - (7936/20000) Found 83/128 valid top-1 predictions. Generating solutions ...\n",
      "INFO - 07/22/25 19:18:56 - 0:00:21 -     Found 83/128 solutions in beam hypotheses.\n"
     ]
    },
    {
     "name": "stdout",
     "output_type": "stream",
     "text": [
      "INFO - 07/22/25 19:18:56 - 0:00:21 - (8064/20000) Found 72/128 valid top-1 predictions. Generating solutions ...\n",
      "INFO - 07/22/25 19:18:56 - 0:00:22 -     Found 72/128 solutions in beam hypotheses.\n"
     ]
    },
    {
     "name": "stdout",
     "output_type": "stream",
     "text": [
      "INFO - 07/22/25 19:18:57 - 0:00:22 - (8192/20000) Found 63/128 valid top-1 predictions. Generating solutions ...\n",
      "INFO - 07/22/25 19:18:57 - 0:00:22 -     Found 63/128 solutions in beam hypotheses.\n"
     ]
    },
    {
     "name": "stdout",
     "output_type": "stream",
     "text": [
      "INFO - 07/22/25 19:18:57 - 0:00:22 - (8320/20000) Found 73/128 valid top-1 predictions. Generating solutions ...\n",
      "INFO - 07/22/25 19:18:57 - 0:00:22 -     Found 73/128 solutions in beam hypotheses.\n"
     ]
    },
    {
     "name": "stdout",
     "output_type": "stream",
     "text": [
      "INFO - 07/22/25 19:18:57 - 0:00:22 - (8448/20000) Found 65/128 valid top-1 predictions. Generating solutions ...\n",
      "INFO - 07/22/25 19:18:57 - 0:00:22 -     Found 65/128 solutions in beam hypotheses.\n"
     ]
    },
    {
     "name": "stdout",
     "output_type": "stream",
     "text": [
      "INFO - 07/22/25 19:18:58 - 0:00:23 - (8576/20000) Found 74/128 valid top-1 predictions. Generating solutions ...\n",
      "INFO - 07/22/25 19:18:58 - 0:00:23 -     Found 74/128 solutions in beam hypotheses.\n"
     ]
    },
    {
     "name": "stdout",
     "output_type": "stream",
     "text": [
      "INFO - 07/22/25 19:18:58 - 0:00:23 - (8704/20000) Found 69/128 valid top-1 predictions. Generating solutions ...\n",
      "INFO - 07/22/25 19:18:58 - 0:00:23 -     Found 69/128 solutions in beam hypotheses.\n"
     ]
    },
    {
     "name": "stdout",
     "output_type": "stream",
     "text": [
      "INFO - 07/22/25 19:18:58 - 0:00:23 - (8832/20000) Found 70/128 valid top-1 predictions. Generating solutions ...\n",
      "INFO - 07/22/25 19:18:58 - 0:00:23 -     Found 70/128 solutions in beam hypotheses.\n"
     ]
    },
    {
     "name": "stdout",
     "output_type": "stream",
     "text": [
      "INFO - 07/22/25 19:18:58 - 0:00:24 - (8960/20000) Found 61/128 valid top-1 predictions. Generating solutions ...\n",
      "INFO - 07/22/25 19:18:59 - 0:00:24 -     Found 61/128 solutions in beam hypotheses.\n"
     ]
    },
    {
     "name": "stdout",
     "output_type": "stream",
     "text": [
      "INFO - 07/22/25 19:18:59 - 0:00:24 - (9088/20000) Found 75/128 valid top-1 predictions. Generating solutions ...\n",
      "INFO - 07/22/25 19:18:59 - 0:00:24 -     Found 75/128 solutions in beam hypotheses.\n"
     ]
    },
    {
     "name": "stdout",
     "output_type": "stream",
     "text": [
      "INFO - 07/22/25 19:18:59 - 0:00:24 - (9216/20000) Found 68/128 valid top-1 predictions. Generating solutions ...\n",
      "INFO - 07/22/25 19:18:59 - 0:00:24 -     Found 68/128 solutions in beam hypotheses.\n"
     ]
    },
    {
     "name": "stdout",
     "output_type": "stream",
     "text": [
      "INFO - 07/22/25 19:18:59 - 0:00:25 - (9344/20000) Found 70/128 valid top-1 predictions. Generating solutions ...\n",
      "INFO - 07/22/25 19:18:59 - 0:00:25 -     Found 70/128 solutions in beam hypotheses.\n"
     ]
    },
    {
     "name": "stdout",
     "output_type": "stream",
     "text": [
      "INFO - 07/22/25 19:19:00 - 0:00:25 - (9472/20000) Found 69/128 valid top-1 predictions. Generating solutions ...\n",
      "INFO - 07/22/25 19:19:00 - 0:00:25 -     Found 69/128 solutions in beam hypotheses.\n"
     ]
    },
    {
     "name": "stdout",
     "output_type": "stream",
     "text": [
      "INFO - 07/22/25 19:19:00 - 0:00:25 - (9600/20000) Found 72/128 valid top-1 predictions. Generating solutions ...\n",
      "INFO - 07/22/25 19:19:00 - 0:00:25 -     Found 72/128 solutions in beam hypotheses.\n"
     ]
    },
    {
     "name": "stdout",
     "output_type": "stream",
     "text": [
      "INFO - 07/22/25 19:19:00 - 0:00:25 - (9728/20000) Found 63/128 valid top-1 predictions. Generating solutions ...\n",
      "INFO - 07/22/25 19:19:00 - 0:00:26 -     Found 63/128 solutions in beam hypotheses.\n"
     ]
    },
    {
     "name": "stdout",
     "output_type": "stream",
     "text": [
      "INFO - 07/22/25 19:19:01 - 0:00:26 - (9856/20000) Found 65/128 valid top-1 predictions. Generating solutions ...\n",
      "INFO - 07/22/25 19:19:01 - 0:00:26 -     Found 65/128 solutions in beam hypotheses.\n"
     ]
    },
    {
     "name": "stdout",
     "output_type": "stream",
     "text": [
      "INFO - 07/22/25 19:19:01 - 0:00:26 - (9984/20000) Found 69/128 valid top-1 predictions. Generating solutions ...\n",
      "INFO - 07/22/25 19:19:01 - 0:00:26 -     Found 69/128 solutions in beam hypotheses.\n"
     ]
    },
    {
     "name": "stdout",
     "output_type": "stream",
     "text": [
      "INFO - 07/22/25 19:19:01 - 0:00:26 - (10112/20000) Found 71/128 valid top-1 predictions. Generating solutions ...\n",
      "INFO - 07/22/25 19:19:01 - 0:00:26 -     Found 71/128 solutions in beam hypotheses.\n"
     ]
    },
    {
     "name": "stdout",
     "output_type": "stream",
     "text": [
      "INFO - 07/22/25 19:19:02 - 0:00:27 - (10240/20000) Found 69/128 valid top-1 predictions. Generating solutions ...\n",
      "INFO - 07/22/25 19:19:02 - 0:00:27 -     Found 69/128 solutions in beam hypotheses.\n"
     ]
    },
    {
     "name": "stdout",
     "output_type": "stream",
     "text": [
      "INFO - 07/22/25 19:19:02 - 0:00:27 - (10368/20000) Found 68/128 valid top-1 predictions. Generating solutions ...\n",
      "INFO - 07/22/25 19:19:02 - 0:00:27 -     Found 68/128 solutions in beam hypotheses.\n"
     ]
    },
    {
     "name": "stdout",
     "output_type": "stream",
     "text": [
      "INFO - 07/22/25 19:19:02 - 0:00:27 - (10496/20000) Found 64/128 valid top-1 predictions. Generating solutions ...\n",
      "INFO - 07/22/25 19:19:02 - 0:00:27 -     Found 64/128 solutions in beam hypotheses.\n"
     ]
    },
    {
     "name": "stdout",
     "output_type": "stream",
     "text": [
      "INFO - 07/22/25 19:19:02 - 0:00:28 - (10624/20000) Found 84/128 valid top-1 predictions. Generating solutions ...\n",
      "INFO - 07/22/25 19:19:03 - 0:00:28 -     Found 84/128 solutions in beam hypotheses.\n"
     ]
    },
    {
     "name": "stdout",
     "output_type": "stream",
     "text": [
      "INFO - 07/22/25 19:19:03 - 0:00:28 - (10752/20000) Found 69/128 valid top-1 predictions. Generating solutions ...\n",
      "INFO - 07/22/25 19:19:03 - 0:00:28 -     Found 69/128 solutions in beam hypotheses.\n"
     ]
    },
    {
     "name": "stdout",
     "output_type": "stream",
     "text": [
      "INFO - 07/22/25 19:19:03 - 0:00:28 - (10880/20000) Found 77/128 valid top-1 predictions. Generating solutions ...\n",
      "INFO - 07/22/25 19:19:03 - 0:00:28 -     Found 77/128 solutions in beam hypotheses.\n"
     ]
    },
    {
     "name": "stdout",
     "output_type": "stream",
     "text": [
      "INFO - 07/22/25 19:19:03 - 0:00:29 - (11008/20000) Found 66/128 valid top-1 predictions. Generating solutions ...\n",
      "INFO - 07/22/25 19:19:03 - 0:00:29 -     Found 66/128 solutions in beam hypotheses.\n"
     ]
    },
    {
     "name": "stdout",
     "output_type": "stream",
     "text": [
      "INFO - 07/22/25 19:19:04 - 0:00:29 - (11136/20000) Found 73/128 valid top-1 predictions. Generating solutions ...\n",
      "INFO - 07/22/25 19:19:04 - 0:00:29 -     Found 73/128 solutions in beam hypotheses.\n"
     ]
    },
    {
     "name": "stdout",
     "output_type": "stream",
     "text": [
      "INFO - 07/22/25 19:19:04 - 0:00:29 - (11264/20000) Found 76/128 valid top-1 predictions. Generating solutions ...\n",
      "INFO - 07/22/25 19:19:04 - 0:00:29 -     Found 76/128 solutions in beam hypotheses.\n"
     ]
    },
    {
     "name": "stdout",
     "output_type": "stream",
     "text": [
      "INFO - 07/22/25 19:19:04 - 0:00:29 - (11392/20000) Found 76/128 valid top-1 predictions. Generating solutions ...\n",
      "INFO - 07/22/25 19:19:04 - 0:00:30 -     Found 76/128 solutions in beam hypotheses.\n"
     ]
    },
    {
     "name": "stdout",
     "output_type": "stream",
     "text": [
      "INFO - 07/22/25 19:19:05 - 0:00:30 - (11520/20000) Found 70/128 valid top-1 predictions. Generating solutions ...\n",
      "INFO - 07/22/25 19:19:05 - 0:00:30 -     Found 70/128 solutions in beam hypotheses.\n"
     ]
    },
    {
     "name": "stdout",
     "output_type": "stream",
     "text": [
      "INFO - 07/22/25 19:19:05 - 0:00:30 - (11648/20000) Found 70/128 valid top-1 predictions. Generating solutions ...\n",
      "INFO - 07/22/25 19:19:05 - 0:00:30 -     Found 70/128 solutions in beam hypotheses.\n"
     ]
    },
    {
     "name": "stdout",
     "output_type": "stream",
     "text": [
      "INFO - 07/22/25 19:19:05 - 0:00:30 - (11776/20000) Found 73/128 valid top-1 predictions. Generating solutions ...\n",
      "INFO - 07/22/25 19:19:05 - 0:00:30 -     Found 73/128 solutions in beam hypotheses.\n"
     ]
    },
    {
     "name": "stdout",
     "output_type": "stream",
     "text": [
      "INFO - 07/22/25 19:19:06 - 0:00:31 - (11904/20000) Found 68/128 valid top-1 predictions. Generating solutions ...\n",
      "INFO - 07/22/25 19:19:06 - 0:00:31 -     Found 68/128 solutions in beam hypotheses.\n"
     ]
    },
    {
     "name": "stdout",
     "output_type": "stream",
     "text": [
      "INFO - 07/22/25 19:19:06 - 0:00:31 - (12032/20000) Found 68/128 valid top-1 predictions. Generating solutions ...\n",
      "INFO - 07/22/25 19:19:06 - 0:00:31 -     Found 68/128 solutions in beam hypotheses.\n"
     ]
    },
    {
     "name": "stdout",
     "output_type": "stream",
     "text": [
      "INFO - 07/22/25 19:19:06 - 0:00:31 - (12160/20000) Found 54/128 valid top-1 predictions. Generating solutions ...\n",
      "INFO - 07/22/25 19:19:06 - 0:00:31 -     Found 54/128 solutions in beam hypotheses.\n"
     ]
    },
    {
     "name": "stdout",
     "output_type": "stream",
     "text": [
      "INFO - 07/22/25 19:19:06 - 0:00:32 - (12288/20000) Found 79/128 valid top-1 predictions. Generating solutions ...\n",
      "INFO - 07/22/25 19:19:06 - 0:00:32 -     Found 79/128 solutions in beam hypotheses.\n"
     ]
    },
    {
     "name": "stdout",
     "output_type": "stream",
     "text": [
      "INFO - 07/22/25 19:19:07 - 0:00:32 - (12416/20000) Found 72/128 valid top-1 predictions. Generating solutions ...\n",
      "INFO - 07/22/25 19:19:07 - 0:00:32 -     Found 72/128 solutions in beam hypotheses.\n"
     ]
    },
    {
     "name": "stdout",
     "output_type": "stream",
     "text": [
      "INFO - 07/22/25 19:19:07 - 0:00:32 - (12544/20000) Found 62/128 valid top-1 predictions. Generating solutions ...\n",
      "INFO - 07/22/25 19:19:07 - 0:00:32 -     Found 62/128 solutions in beam hypotheses.\n"
     ]
    },
    {
     "name": "stdout",
     "output_type": "stream",
     "text": [
      "INFO - 07/22/25 19:19:07 - 0:00:33 - (12672/20000) Found 76/128 valid top-1 predictions. Generating solutions ...\n",
      "INFO - 07/22/25 19:19:07 - 0:00:33 -     Found 76/128 solutions in beam hypotheses.\n"
     ]
    },
    {
     "name": "stdout",
     "output_type": "stream",
     "text": [
      "INFO - 07/22/25 19:19:08 - 0:00:33 - (12800/20000) Found 78/128 valid top-1 predictions. Generating solutions ...\n",
      "INFO - 07/22/25 19:19:08 - 0:00:33 -     Found 78/128 solutions in beam hypotheses.\n"
     ]
    },
    {
     "name": "stdout",
     "output_type": "stream",
     "text": [
      "INFO - 07/22/25 19:19:08 - 0:00:33 - (12928/20000) Found 60/128 valid top-1 predictions. Generating solutions ...\n",
      "INFO - 07/22/25 19:19:08 - 0:00:33 -     Found 60/128 solutions in beam hypotheses.\n"
     ]
    },
    {
     "name": "stdout",
     "output_type": "stream",
     "text": [
      "INFO - 07/22/25 19:19:08 - 0:00:33 - (13056/20000) Found 72/128 valid top-1 predictions. Generating solutions ...\n",
      "INFO - 07/22/25 19:19:08 - 0:00:34 -     Found 72/128 solutions in beam hypotheses.\n"
     ]
    },
    {
     "name": "stdout",
     "output_type": "stream",
     "text": [
      "INFO - 07/22/25 19:19:09 - 0:00:34 - (13184/20000) Found 65/128 valid top-1 predictions. Generating solutions ...\n",
      "INFO - 07/22/25 19:19:09 - 0:00:34 -     Found 65/128 solutions in beam hypotheses.\n"
     ]
    },
    {
     "name": "stdout",
     "output_type": "stream",
     "text": [
      "INFO - 07/22/25 19:19:09 - 0:00:34 - (13312/20000) Found 76/128 valid top-1 predictions. Generating solutions ...\n",
      "INFO - 07/22/25 19:19:09 - 0:00:34 -     Found 76/128 solutions in beam hypotheses.\n"
     ]
    },
    {
     "name": "stdout",
     "output_type": "stream",
     "text": [
      "INFO - 07/22/25 19:19:09 - 0:00:34 - (13440/20000) Found 76/128 valid top-1 predictions. Generating solutions ...\n",
      "INFO - 07/22/25 19:19:09 - 0:00:34 -     Found 76/128 solutions in beam hypotheses.\n"
     ]
    },
    {
     "name": "stdout",
     "output_type": "stream",
     "text": [
      "INFO - 07/22/25 19:19:10 - 0:00:35 - (13568/20000) Found 74/128 valid top-1 predictions. Generating solutions ...\n",
      "INFO - 07/22/25 19:19:10 - 0:00:35 -     Found 74/128 solutions in beam hypotheses.\n"
     ]
    },
    {
     "name": "stdout",
     "output_type": "stream",
     "text": [
      "INFO - 07/22/25 19:19:10 - 0:00:35 - (13696/20000) Found 74/128 valid top-1 predictions. Generating solutions ...\n",
      "INFO - 07/22/25 19:19:10 - 0:00:35 -     Found 74/128 solutions in beam hypotheses.\n"
     ]
    },
    {
     "name": "stdout",
     "output_type": "stream",
     "text": [
      "INFO - 07/22/25 19:19:10 - 0:00:35 - (13824/20000) Found 74/128 valid top-1 predictions. Generating solutions ...\n",
      "INFO - 07/22/25 19:19:10 - 0:00:35 -     Found 74/128 solutions in beam hypotheses.\n"
     ]
    },
    {
     "name": "stdout",
     "output_type": "stream",
     "text": [
      "INFO - 07/22/25 19:19:10 - 0:00:36 - (13952/20000) Found 73/128 valid top-1 predictions. Generating solutions ...\n",
      "INFO - 07/22/25 19:19:11 - 0:00:36 -     Found 73/128 solutions in beam hypotheses.\n"
     ]
    },
    {
     "name": "stdout",
     "output_type": "stream",
     "text": [
      "INFO - 07/22/25 19:19:11 - 0:00:36 - (14080/20000) Found 69/128 valid top-1 predictions. Generating solutions ...\n",
      "INFO - 07/22/25 19:19:11 - 0:00:36 -     Found 69/128 solutions in beam hypotheses.\n"
     ]
    },
    {
     "name": "stdout",
     "output_type": "stream",
     "text": [
      "INFO - 07/22/25 19:19:11 - 0:00:36 - (14208/20000) Found 74/128 valid top-1 predictions. Generating solutions ...\n",
      "INFO - 07/22/25 19:19:11 - 0:00:36 -     Found 74/128 solutions in beam hypotheses.\n"
     ]
    },
    {
     "name": "stdout",
     "output_type": "stream",
     "text": [
      "INFO - 07/22/25 19:19:11 - 0:00:37 - (14336/20000) Found 69/128 valid top-1 predictions. Generating solutions ...\n",
      "INFO - 07/22/25 19:19:11 - 0:00:37 -     Found 69/128 solutions in beam hypotheses.\n"
     ]
    },
    {
     "name": "stdout",
     "output_type": "stream",
     "text": [
      "INFO - 07/22/25 19:19:12 - 0:00:37 - (14464/20000) Found 73/128 valid top-1 predictions. Generating solutions ...\n",
      "INFO - 07/22/25 19:19:12 - 0:00:37 -     Found 73/128 solutions in beam hypotheses.\n"
     ]
    },
    {
     "name": "stdout",
     "output_type": "stream",
     "text": [
      "INFO - 07/22/25 19:19:12 - 0:00:37 - (14592/20000) Found 74/128 valid top-1 predictions. Generating solutions ...\n",
      "INFO - 07/22/25 19:19:12 - 0:00:37 -     Found 74/128 solutions in beam hypotheses.\n"
     ]
    },
    {
     "name": "stdout",
     "output_type": "stream",
     "text": [
      "INFO - 07/22/25 19:19:12 - 0:00:37 - (14720/20000) Found 76/128 valid top-1 predictions. Generating solutions ...\n",
      "INFO - 07/22/25 19:19:12 - 0:00:38 -     Found 76/128 solutions in beam hypotheses.\n"
     ]
    },
    {
     "name": "stdout",
     "output_type": "stream",
     "text": [
      "INFO - 07/22/25 19:19:13 - 0:00:38 - (14848/20000) Found 73/128 valid top-1 predictions. Generating solutions ...\n",
      "INFO - 07/22/25 19:19:13 - 0:00:38 -     Found 73/128 solutions in beam hypotheses.\n"
     ]
    },
    {
     "name": "stdout",
     "output_type": "stream",
     "text": [
      "INFO - 07/22/25 19:19:13 - 0:00:38 - (14976/20000) Found 74/128 valid top-1 predictions. Generating solutions ...\n",
      "INFO - 07/22/25 19:19:13 - 0:00:38 -     Found 74/128 solutions in beam hypotheses.\n"
     ]
    },
    {
     "name": "stdout",
     "output_type": "stream",
     "text": [
      "INFO - 07/22/25 19:19:13 - 0:00:38 - (15104/20000) Found 68/128 valid top-1 predictions. Generating solutions ...\n",
      "INFO - 07/22/25 19:19:13 - 0:00:38 -     Found 68/128 solutions in beam hypotheses.\n"
     ]
    },
    {
     "name": "stdout",
     "output_type": "stream",
     "text": [
      "INFO - 07/22/25 19:19:14 - 0:00:39 - (15232/20000) Found 80/128 valid top-1 predictions. Generating solutions ...\n",
      "INFO - 07/22/25 19:19:14 - 0:00:39 -     Found 80/128 solutions in beam hypotheses.\n"
     ]
    },
    {
     "name": "stdout",
     "output_type": "stream",
     "text": [
      "INFO - 07/22/25 19:19:14 - 0:00:39 - (15360/20000) Found 72/128 valid top-1 predictions. Generating solutions ...\n",
      "INFO - 07/22/25 19:19:14 - 0:00:39 -     Found 72/128 solutions in beam hypotheses.\n"
     ]
    },
    {
     "name": "stdout",
     "output_type": "stream",
     "text": [
      "INFO - 07/22/25 19:19:14 - 0:00:39 - (15488/20000) Found 76/128 valid top-1 predictions. Generating solutions ...\n",
      "INFO - 07/22/25 19:19:14 - 0:00:39 -     Found 76/128 solutions in beam hypotheses.\n"
     ]
    },
    {
     "name": "stdout",
     "output_type": "stream",
     "text": [
      "INFO - 07/22/25 19:19:14 - 0:00:40 - (15616/20000) Found 79/128 valid top-1 predictions. Generating solutions ...\n",
      "INFO - 07/22/25 19:19:15 - 0:00:40 -     Found 79/128 solutions in beam hypotheses.\n"
     ]
    },
    {
     "name": "stdout",
     "output_type": "stream",
     "text": [
      "INFO - 07/22/25 19:19:15 - 0:00:40 - (15744/20000) Found 81/128 valid top-1 predictions. Generating solutions ...\n",
      "INFO - 07/22/25 19:19:15 - 0:00:40 -     Found 81/128 solutions in beam hypotheses.\n"
     ]
    },
    {
     "name": "stdout",
     "output_type": "stream",
     "text": [
      "INFO - 07/22/25 19:19:15 - 0:00:40 - (15872/20000) Found 81/128 valid top-1 predictions. Generating solutions ...\n",
      "INFO - 07/22/25 19:19:15 - 0:00:40 -     Found 81/128 solutions in beam hypotheses.\n"
     ]
    },
    {
     "name": "stdout",
     "output_type": "stream",
     "text": [
      "INFO - 07/22/25 19:19:15 - 0:00:41 - (16000/20000) Found 73/128 valid top-1 predictions. Generating solutions ...\n",
      "INFO - 07/22/25 19:19:15 - 0:00:41 -     Found 73/128 solutions in beam hypotheses.\n"
     ]
    },
    {
     "name": "stdout",
     "output_type": "stream",
     "text": [
      "INFO - 07/22/25 19:19:16 - 0:00:41 - (16128/20000) Found 78/128 valid top-1 predictions. Generating solutions ...\n",
      "INFO - 07/22/25 19:19:16 - 0:00:41 -     Found 78/128 solutions in beam hypotheses.\n"
     ]
    },
    {
     "name": "stdout",
     "output_type": "stream",
     "text": [
      "INFO - 07/22/25 19:19:16 - 0:00:41 - (16256/20000) Found 72/128 valid top-1 predictions. Generating solutions ...\n",
      "INFO - 07/22/25 19:19:16 - 0:00:41 -     Found 72/128 solutions in beam hypotheses.\n"
     ]
    },
    {
     "name": "stdout",
     "output_type": "stream",
     "text": [
      "INFO - 07/22/25 19:19:16 - 0:00:41 - (16384/20000) Found 76/128 valid top-1 predictions. Generating solutions ...\n",
      "INFO - 07/22/25 19:19:16 - 0:00:42 -     Found 76/128 solutions in beam hypotheses.\n"
     ]
    },
    {
     "name": "stdout",
     "output_type": "stream",
     "text": [
      "INFO - 07/22/25 19:19:17 - 0:00:42 - (16512/20000) Found 66/128 valid top-1 predictions. Generating solutions ...\n",
      "INFO - 07/22/25 19:19:17 - 0:00:42 -     Found 66/128 solutions in beam hypotheses.\n"
     ]
    },
    {
     "name": "stdout",
     "output_type": "stream",
     "text": [
      "INFO - 07/22/25 19:19:17 - 0:00:42 - (16640/20000) Found 69/128 valid top-1 predictions. Generating solutions ...\n",
      "INFO - 07/22/25 19:19:17 - 0:00:42 -     Found 69/128 solutions in beam hypotheses.\n"
     ]
    },
    {
     "name": "stdout",
     "output_type": "stream",
     "text": [
      "INFO - 07/22/25 19:19:17 - 0:00:42 - (16768/20000) Found 66/128 valid top-1 predictions. Generating solutions ...\n",
      "INFO - 07/22/25 19:19:17 - 0:00:42 -     Found 66/128 solutions in beam hypotheses.\n"
     ]
    },
    {
     "name": "stdout",
     "output_type": "stream",
     "text": [
      "INFO - 07/22/25 19:19:18 - 0:00:43 - (16896/20000) Found 73/128 valid top-1 predictions. Generating solutions ...\n",
      "INFO - 07/22/25 19:19:18 - 0:00:43 -     Found 73/128 solutions in beam hypotheses.\n"
     ]
    },
    {
     "name": "stdout",
     "output_type": "stream",
     "text": [
      "INFO - 07/22/25 19:19:18 - 0:00:43 - (17024/20000) Found 60/128 valid top-1 predictions. Generating solutions ...\n",
      "INFO - 07/22/25 19:19:18 - 0:00:43 -     Found 60/128 solutions in beam hypotheses.\n"
     ]
    },
    {
     "name": "stdout",
     "output_type": "stream",
     "text": [
      "INFO - 07/22/25 19:19:18 - 0:00:43 - (17152/20000) Found 59/128 valid top-1 predictions. Generating solutions ...\n",
      "INFO - 07/22/25 19:19:18 - 0:00:43 -     Found 59/128 solutions in beam hypotheses.\n"
     ]
    },
    {
     "name": "stdout",
     "output_type": "stream",
     "text": [
      "INFO - 07/22/25 19:19:18 - 0:00:44 - (17280/20000) Found 58/128 valid top-1 predictions. Generating solutions ...\n",
      "INFO - 07/22/25 19:19:19 - 0:00:44 -     Found 58/128 solutions in beam hypotheses.\n"
     ]
    },
    {
     "name": "stdout",
     "output_type": "stream",
     "text": [
      "INFO - 07/22/25 19:19:19 - 0:00:44 - (17408/20000) Found 76/128 valid top-1 predictions. Generating solutions ...\n",
      "INFO - 07/22/25 19:19:19 - 0:00:44 -     Found 76/128 solutions in beam hypotheses.\n"
     ]
    },
    {
     "name": "stdout",
     "output_type": "stream",
     "text": [
      "INFO - 07/22/25 19:19:19 - 0:00:44 - (17536/20000) Found 70/128 valid top-1 predictions. Generating solutions ...\n",
      "INFO - 07/22/25 19:19:19 - 0:00:44 -     Found 70/128 solutions in beam hypotheses.\n"
     ]
    },
    {
     "name": "stdout",
     "output_type": "stream",
     "text": [
      "INFO - 07/22/25 19:19:19 - 0:00:45 - (17664/20000) Found 70/128 valid top-1 predictions. Generating solutions ...\n",
      "INFO - 07/22/25 19:19:19 - 0:00:45 -     Found 70/128 solutions in beam hypotheses.\n"
     ]
    },
    {
     "name": "stdout",
     "output_type": "stream",
     "text": [
      "INFO - 07/22/25 19:19:20 - 0:00:45 - (17792/20000) Found 70/128 valid top-1 predictions. Generating solutions ...\n",
      "INFO - 07/22/25 19:19:20 - 0:00:45 -     Found 70/128 solutions in beam hypotheses.\n"
     ]
    },
    {
     "name": "stdout",
     "output_type": "stream",
     "text": [
      "INFO - 07/22/25 19:19:20 - 0:00:45 - (17920/20000) Found 70/128 valid top-1 predictions. Generating solutions ...\n",
      "INFO - 07/22/25 19:19:20 - 0:00:45 -     Found 70/128 solutions in beam hypotheses.\n"
     ]
    },
    {
     "name": "stdout",
     "output_type": "stream",
     "text": [
      "INFO - 07/22/25 19:19:20 - 0:00:45 - (18048/20000) Found 73/128 valid top-1 predictions. Generating solutions ...\n",
      "INFO - 07/22/25 19:19:20 - 0:00:46 -     Found 73/128 solutions in beam hypotheses.\n"
     ]
    },
    {
     "name": "stdout",
     "output_type": "stream",
     "text": [
      "INFO - 07/22/25 19:19:21 - 0:00:46 - (18176/20000) Found 70/128 valid top-1 predictions. Generating solutions ...\n",
      "INFO - 07/22/25 19:19:21 - 0:00:46 -     Found 70/128 solutions in beam hypotheses.\n"
     ]
    },
    {
     "name": "stdout",
     "output_type": "stream",
     "text": [
      "INFO - 07/22/25 19:19:21 - 0:00:46 - (18304/20000) Found 74/128 valid top-1 predictions. Generating solutions ...\n",
      "INFO - 07/22/25 19:19:21 - 0:00:46 -     Found 74/128 solutions in beam hypotheses.\n"
     ]
    },
    {
     "name": "stdout",
     "output_type": "stream",
     "text": [
      "INFO - 07/22/25 19:19:21 - 0:00:46 - (18432/20000) Found 72/128 valid top-1 predictions. Generating solutions ...\n",
      "INFO - 07/22/25 19:19:21 - 0:00:46 -     Found 72/128 solutions in beam hypotheses.\n"
     ]
    },
    {
     "name": "stdout",
     "output_type": "stream",
     "text": [
      "INFO - 07/22/25 19:19:22 - 0:00:47 - (18560/20000) Found 75/128 valid top-1 predictions. Generating solutions ...\n",
      "INFO - 07/22/25 19:19:22 - 0:00:47 -     Found 75/128 solutions in beam hypotheses.\n"
     ]
    },
    {
     "name": "stdout",
     "output_type": "stream",
     "text": [
      "INFO - 07/22/25 19:19:22 - 0:00:47 - (18688/20000) Found 76/128 valid top-1 predictions. Generating solutions ...\n",
      "INFO - 07/22/25 19:19:22 - 0:00:47 -     Found 76/128 solutions in beam hypotheses.\n"
     ]
    },
    {
     "name": "stdout",
     "output_type": "stream",
     "text": [
      "INFO - 07/22/25 19:19:22 - 0:00:47 - (18816/20000) Found 77/128 valid top-1 predictions. Generating solutions ...\n",
      "INFO - 07/22/25 19:19:22 - 0:00:47 -     Found 77/128 solutions in beam hypotheses.\n"
     ]
    },
    {
     "name": "stdout",
     "output_type": "stream",
     "text": [
      "INFO - 07/22/25 19:19:22 - 0:00:48 - (18944/20000) Found 71/128 valid top-1 predictions. Generating solutions ...\n",
      "INFO - 07/22/25 19:19:23 - 0:00:48 -     Found 71/128 solutions in beam hypotheses.\n"
     ]
    },
    {
     "name": "stdout",
     "output_type": "stream",
     "text": [
      "INFO - 07/22/25 19:19:23 - 0:00:48 - (19072/20000) Found 73/128 valid top-1 predictions. Generating solutions ...\n",
      "INFO - 07/22/25 19:19:23 - 0:00:48 -     Found 73/128 solutions in beam hypotheses.\n"
     ]
    },
    {
     "name": "stdout",
     "output_type": "stream",
     "text": [
      "INFO - 07/22/25 19:19:23 - 0:00:48 - (19200/20000) Found 74/128 valid top-1 predictions. Generating solutions ...\n",
      "INFO - 07/22/25 19:19:23 - 0:00:48 -     Found 74/128 solutions in beam hypotheses.\n"
     ]
    },
    {
     "name": "stdout",
     "output_type": "stream",
     "text": [
      "INFO - 07/22/25 19:19:23 - 0:00:49 - (19328/20000) Found 73/128 valid top-1 predictions. Generating solutions ...\n",
      "INFO - 07/22/25 19:19:23 - 0:00:49 -     Found 73/128 solutions in beam hypotheses.\n"
     ]
    },
    {
     "name": "stdout",
     "output_type": "stream",
     "text": [
      "INFO - 07/22/25 19:19:24 - 0:00:49 - (19456/20000) Found 61/128 valid top-1 predictions. Generating solutions ...\n",
      "INFO - 07/22/25 19:19:24 - 0:00:49 -     Found 61/128 solutions in beam hypotheses.\n"
     ]
    },
    {
     "name": "stdout",
     "output_type": "stream",
     "text": [
      "INFO - 07/22/25 19:19:24 - 0:00:49 - (19584/20000) Found 72/128 valid top-1 predictions. Generating solutions ...\n",
      "INFO - 07/22/25 19:19:24 - 0:00:49 -     Found 72/128 solutions in beam hypotheses.\n"
     ]
    },
    {
     "name": "stdout",
     "output_type": "stream",
     "text": [
      "INFO - 07/22/25 19:19:24 - 0:00:49 - (19712/20000) Found 71/128 valid top-1 predictions. Generating solutions ...\n",
      "INFO - 07/22/25 19:19:24 - 0:00:50 -     Found 71/128 solutions in beam hypotheses.\n"
     ]
    },
    {
     "name": "stdout",
     "output_type": "stream",
     "text": [
      "INFO - 07/22/25 19:19:25 - 0:00:50 - (19840/20000) Found 81/128 valid top-1 predictions. Generating solutions ...\n",
      "INFO - 07/22/25 19:19:25 - 0:00:50 -     Found 81/128 solutions in beam hypotheses.\n"
     ]
    },
    {
     "name": "stdout",
     "output_type": "stream",
     "text": [
      "INFO - 07/22/25 19:19:25 - 0:00:50 - (19968/20000) Found 63/128 valid top-1 predictions. Generating solutions ...\n",
      "INFO - 07/22/25 19:19:25 - 0:00:50 -     Found 63/128 solutions in beam hypotheses.\n",
      "INFO - 07/22/25 19:19:25 - 0:00:50 - (20000/20000) Found 23/32 valid top-1 predictions. Generating solutions ...\n",
      "INFO - 07/22/25 19:19:25 - 0:00:50 -     Found 23/32 solutions in beam hypotheses.\n",
      "INFO - 07/22/25 19:19:25 - 0:00:50 - 11035/20000 (55.175%) equations were evaluated correctly.\n",
      "INFO - 07/22/25 19:19:25 - 0:00:50 - 0: 2833 / 7809 (36.28%)\n",
      "INFO - 07/22/25 19:19:25 - 0:00:50 - 1: 8202 / 12191 (67.28%)\n"
     ]
    },
    {
     "name": "stdout",
     "output_type": "stream",
     "text": [
      "INFO - 07/22/25 19:19:25 - 0:00:50 - epoch -> 227.000000\n",
      "INFO - 07/22/25 19:19:25 - 0:00:50 - valid_arithmetic_xe_loss -> 0.967488\n",
      "INFO - 07/22/25 19:19:25 - 0:00:50 - valid_arithmetic_acc -> 55.175000\n",
      "INFO - 07/22/25 19:19:25 - 0:00:50 - valid_arithmetic_perfect -> 55.175000\n",
      "INFO - 07/22/25 19:19:25 - 0:00:50 - valid_arithmetic_correct -> 55.175000\n",
      "INFO - 07/22/25 19:19:25 - 0:00:50 - valid_arithmetic_acc_d1 -> 55.175000\n",
      "INFO - 07/22/25 19:19:25 - 0:00:50 - valid_arithmetic_acc_d2 -> 55.175000\n",
      "INFO - 07/22/25 19:19:25 - 0:00:50 - valid_arithmetic_acc_d3 -> 80.055000\n",
      "INFO - 07/22/25 19:19:25 - 0:00:50 - valid_arithmetic_acc_0 -> 36.278653\n",
      "INFO - 07/22/25 19:19:25 - 0:00:50 - valid_arithmetic_acc_1 -> 67.279140\n",
      "INFO - 07/22/25 19:19:25 - 0:00:50 - __log__:{\"epoch\": 227, \"valid_arithmetic_xe_loss\": 0.9674876953125, \"valid_arithmetic_acc\": 55.175, \"valid_arithmetic_perfect\": 55.175, \"valid_arithmetic_correct\": 55.175, \"valid_arithmetic_acc_d1\": 55.175, \"valid_arithmetic_acc_d2\": 55.175, \"valid_arithmetic_acc_d3\": 80.055, \"valid_arithmetic_acc_0\": 36.27865283647074, \"valid_arithmetic_acc_1\": 67.27914034943811}\n"
     ]
    },
    {
     "name": "stdout",
     "output_type": "stream",
     "text": [
      "INFO - 07/22/25 19:19:28 - 0:00:00 - ============ Initialized logger ============\n",
      "INFO - 07/22/25 19:19:28 - 0:00:00 - GRU: False\n",
      "                                     accumulate_gradients: 1\n",
      "                                     act_bias: 0\n",
      "                                     act_biased: False\n",
      "                                     act_ponder_coupling: 0.01\n",
      "                                     act_threshold: 0.01\n",
      "                                     amp: -1\n",
      "                                     architecture: encoder_decoder\n",
      "                                     attention_dropout: 0\n",
      "                                     base: 1000\n",
      "                                     batch_load: False\n",
      "                                     batch_size: 32\n",
      "                                     batch_size_eval: 128\n",
      "                                     beam_early_stopping: True\n",
      "                                     beam_eval: False\n",
      "                                     beam_eval_train: 0\n",
      "                                     beam_length_penalty: 1\n",
      "                                     beam_size: 1\n",
      "                                     biased_gates: False\n",
      "                                     bidirectional: False\n",
      "                                     class_by_length: False\n",
      "                                     clip_grad_norm: 5\n",
      "                                     command: python /home/user/Int2Int/train.py --num_workers 0 --dump_path '/home/user/fastdir/dump' --exp_name basicsq --exp_id 2 --eval_only True --eval_data '/home/user/fastdir/data/musq_true.txt' --eval_size 20000 --data_types 'int[200]:range(-1,2)' --exp_id \"2\"\n",
      "                                     cpu: False\n",
      "                                     data_types: int[200]:range(-1,2)\n",
      "                                     debug: False\n",
      "                                     debug_slurm: False\n",
      "                                     dec_act: False\n",
      "                                     dec_emb_dim: 256\n",
      "                                     dec_gated: False\n",
      "                                     dec_has_pos_emb: True\n",
      "                                     dec_loop_idx: -1\n",
      "                                     dec_loops: 1\n",
      "                                     dim1: 10\n",
      "                                     dim2: 10\n",
      "                                     dropout: 0\n",
      "                                     dump_path: /home/user/fastdir/dump/basicsq/2\n",
      "                                     enc_act: False\n",
      "                                     enc_emb_dim: 256\n",
      "                                     enc_gated: False\n",
      "                                     enc_has_pos_emb: True\n",
      "                                     enc_loop_idx: -1\n",
      "                                     enc_loops: 1\n",
      "                                     env_base_seed: -1\n",
      "                                     env_name: arithmetic\n",
      "                                     epoch_size: 300000\n",
      "                                     eval_data: /home/user/fastdir/data/musq_true.txt\n",
      "                                     eval_from_exp: \n",
      "                                     eval_only: True\n",
      "                                     eval_size: 20000\n",
      "                                     eval_verbose: 0\n",
      "                                     eval_verbose_print: False\n",
      "                                     exp_id: 2\n",
      "                                     exp_name: basicsq\n",
      "                                     export_data: False\n",
      "                                     first_class_prob: 0.25\n",
      "                                     first_class_size: 1000000\n",
      "                                     fp16: False\n",
      "                                     gate_bias: 0\n",
      "                                     gated: False\n",
      "                                     gelu_activation: False\n",
      "                                     global_rank: 0\n",
      "                                     is_master: True\n",
      "                                     is_slurm_job: False\n",
      "                                     local_gpu: -1\n",
      "                                     local_rank: 0\n",
      "                                     lstm: False\n",
      "                                     lstm_hidden_dim: 2048\n",
      "                                     master_port: -1\n",
      "                                     max_class: 101\n",
      "                                     max_epoch: 100000\n",
      "                                     max_len: 512\n",
      "                                     max_output_len: 512\n",
      "                                     max_src_len: 0\n",
      "                                     maxint: 1000000\n",
      "                                     minint: 1\n",
      "                                     modulus: 67\n",
      "                                     multi_gpu: False\n",
      "                                     multi_node: False\n",
      "                                     n_dec_heads: 8\n",
      "                                     n_dec_hidden_layers: 1\n",
      "                                     n_dec_layers: 4\n",
      "                                     n_enc_heads: 8\n",
      "                                     n_enc_hidden_layers: 1\n",
      "                                     n_enc_layers: 4\n",
      "                                     n_gpu_per_node: 1\n",
      "                                     n_nodes: 1\n",
      "                                     node_id: 0\n",
      "                                     norm_attention: False\n",
      "                                     num_workers: 0\n",
      "                                     operation: data\n",
      "                                     optimizer: adam,lr=0.0001\n",
      "                                     reload_checkpoint: \n",
      "                                     reload_model: \n",
      "                                     reload_size: -1\n",
      "                                     save_periodic: 0\n",
      "                                     scalar_gate: False\n",
      "                                     share_inout_emb: True\n",
      "                                     sinusoidal_embeddings: False\n",
      "                                     stopping_criterion: \n",
      "                                     tasks: arithmetic\n",
      "                                     train_data: \n",
      "                                     two_classes: False\n",
      "                                     validation_metrics: \n",
      "                                     windows: False\n",
      "                                     world_size: 1\n",
      "                                     xav_init: False\n",
      "INFO - 07/22/25 19:19:28 - 0:00:00 - The experiment will be stored in /home/user/fastdir/dump/basicsq/2\n",
      "                                     \n",
      "INFO - 07/22/25 19:19:28 - 0:00:00 - Running command: python /home/user/Int2Int/train.py --num_workers 0 --dump_path '/home/user/fastdir/dump' --exp_name basicsq --exp_id 2 --eval_only True --eval_data '/home/user/fastdir/data/musq_true.txt' --eval_size 20000 --data_types 'int[200]:range(-1,2)'\n",
      "\n",
      "INFO - 07/22/25 19:19:28 - 0:00:00 - words: {'<eos>': 0, '<pad>': 1, '<sep>': 2, '(': 3, ')': 4, '<SPECIAL_0>': 5, '<SPECIAL_1>': 6, '<SPECIAL_2>': 7, '<SPECIAL_3>': 8, '<SPECIAL_4>': 9, '<SPECIAL_5>': 10, '<SPECIAL_6>': 11, '<SPECIAL_7>': 12, '<SPECIAL_8>': 13, '<SPECIAL_9>': 14, '+': 15, '-': 16, '-1': 17, '0': 18, '1': 19, '10': 20, '100': 21, '101': 22, '102': 23, '103': 24, '104': 25, '105': 26, '106': 27, '107': 28, '108': 29, '109': 30, '11': 31, '110': 32, '111': 33, '112': 34, '113': 35, '114': 36, '115': 37, '116': 38, '117': 39, '118': 40, '119': 41, '12': 42, '120': 43, '121': 44, '122': 45, '123': 46, '124': 47, '125': 48, '126': 49, '127': 50, '128': 51, '129': 52, '13': 53, '130': 54, '131': 55, '132': 56, '133': 57, '134': 58, '135': 59, '136': 60, '137': 61, '138': 62, '139': 63, '14': 64, '140': 65, '141': 66, '142': 67, '143': 68, '144': 69, '145': 70, '146': 71, '147': 72, '148': 73, '149': 74, '15': 75, '150': 76, '151': 77, '152': 78, '153': 79, '154': 80, '155': 81, '156': 82, '157': 83, '158': 84, '159': 85, '16': 86, '160': 87, '161': 88, '162': 89, '163': 90, '164': 91, '165': 92, '166': 93, '167': 94, '168': 95, '169': 96, '17': 97, '170': 98, '171': 99, '172': 100, '173': 101, '174': 102, '175': 103, '176': 104, '177': 105, '178': 106, '179': 107, '18': 108, '180': 109, '181': 110, '182': 111, '183': 112, '184': 113, '185': 114, '186': 115, '187': 116, '188': 117, '189': 118, '19': 119, '190': 120, '191': 121, '192': 122, '193': 123, '194': 124, '195': 125, '196': 126, '197': 127, '198': 128, '199': 129, '2': 130, '20': 131, '200': 132, '201': 133, '202': 134, '203': 135, '204': 136, '205': 137, '206': 138, '207': 139, '208': 140, '209': 141, '21': 142, '210': 143, '211': 144, '212': 145, '213': 146, '214': 147, '215': 148, '216': 149, '217': 150, '218': 151, '219': 152, '22': 153, '220': 154, '221': 155, '222': 156, '223': 157, '224': 158, '225': 159, '226': 160, '227': 161, '228': 162, '229': 163, '23': 164, '230': 165, '231': 166, '232': 167, '233': 168, '234': 169, '235': 170, '236': 171, '237': 172, '238': 173, '239': 174, '24': 175, '240': 176, '241': 177, '242': 178, '243': 179, '244': 180, '245': 181, '246': 182, '247': 183, '248': 184, '249': 185, '25': 186, '250': 187, '251': 188, '252': 189, '253': 190, '254': 191, '255': 192, '256': 193, '257': 194, '258': 195, '259': 196, '26': 197, '260': 198, '261': 199, '262': 200, '263': 201, '264': 202, '265': 203, '266': 204, '267': 205, '268': 206, '269': 207, '27': 208, '270': 209, '271': 210, '272': 211, '273': 212, '274': 213, '275': 214, '276': 215, '277': 216, '278': 217, '279': 218, '28': 219, '280': 220, '281': 221, '282': 222, '283': 223, '284': 224, '285': 225, '286': 226, '287': 227, '288': 228, '289': 229, '29': 230, '290': 231, '291': 232, '292': 233, '293': 234, '294': 235, '295': 236, '296': 237, '297': 238, '298': 239, '299': 240, '3': 241, '30': 242, '300': 243, '301': 244, '302': 245, '303': 246, '304': 247, '305': 248, '306': 249, '307': 250, '308': 251, '309': 252, '31': 253, '310': 254, '311': 255, '312': 256, '313': 257, '314': 258, '315': 259, '316': 260, '317': 261, '318': 262, '319': 263, '32': 264, '320': 265, '321': 266, '322': 267, '323': 268, '324': 269, '325': 270, '326': 271, '327': 272, '328': 273, '329': 274, '33': 275, '330': 276, '331': 277, '332': 278, '333': 279, '334': 280, '335': 281, '336': 282, '337': 283, '338': 284, '339': 285, '34': 286, '340': 287, '341': 288, '342': 289, '343': 290, '344': 291, '345': 292, '346': 293, '347': 294, '348': 295, '349': 296, '35': 297, '350': 298, '351': 299, '352': 300, '353': 301, '354': 302, '355': 303, '356': 304, '357': 305, '358': 306, '359': 307, '36': 308, '360': 309, '361': 310, '362': 311, '363': 312, '364': 313, '365': 314, '366': 315, '367': 316, '368': 317, '369': 318, '37': 319, '370': 320, '371': 321, '372': 322, '373': 323, '374': 324, '375': 325, '376': 326, '377': 327, '378': 328, '379': 329, '38': 330, '380': 331, '381': 332, '382': 333, '383': 334, '384': 335, '385': 336, '386': 337, '387': 338, '388': 339, '389': 340, '39': 341, '390': 342, '391': 343, '392': 344, '393': 345, '394': 346, '395': 347, '396': 348, '397': 349, '398': 350, '399': 351, '4': 352, '40': 353, '400': 354, '401': 355, '402': 356, '403': 357, '404': 358, '405': 359, '406': 360, '407': 361, '408': 362, '409': 363, '41': 364, '410': 365, '411': 366, '412': 367, '413': 368, '414': 369, '415': 370, '416': 371, '417': 372, '418': 373, '419': 374, '42': 375, '420': 376, '421': 377, '422': 378, '423': 379, '424': 380, '425': 381, '426': 382, '427': 383, '428': 384, '429': 385, '43': 386, '430': 387, '431': 388, '432': 389, '433': 390, '434': 391, '435': 392, '436': 393, '437': 394, '438': 395, '439': 396, '44': 397, '440': 398, '441': 399, '442': 400, '443': 401, '444': 402, '445': 403, '446': 404, '447': 405, '448': 406, '449': 407, '45': 408, '450': 409, '451': 410, '452': 411, '453': 412, '454': 413, '455': 414, '456': 415, '457': 416, '458': 417, '459': 418, '46': 419, '460': 420, '461': 421, '462': 422, '463': 423, '464': 424, '465': 425, '466': 426, '467': 427, '468': 428, '469': 429, '47': 430, '470': 431, '471': 432, '472': 433, '473': 434, '474': 435, '475': 436, '476': 437, '477': 438, '478': 439, '479': 440, '48': 441, '480': 442, '481': 443, '482': 444, '483': 445, '484': 446, '485': 447, '486': 448, '487': 449, '488': 450, '489': 451, '49': 452, '490': 453, '491': 454, '492': 455, '493': 456, '494': 457, '495': 458, '496': 459, '497': 460, '498': 461, '499': 462, '5': 463, '50': 464, '500': 465, '501': 466, '502': 467, '503': 468, '504': 469, '505': 470, '506': 471, '507': 472, '508': 473, '509': 474, '51': 475, '510': 476, '511': 477, '512': 478, '513': 479, '514': 480, '515': 481, '516': 482, '517': 483, '518': 484, '519': 485, '52': 486, '520': 487, '521': 488, '522': 489, '523': 490, '524': 491, '525': 492, '526': 493, '527': 494, '528': 495, '529': 496, '53': 497, '530': 498, '531': 499, '532': 500, '533': 501, '534': 502, '535': 503, '536': 504, '537': 505, '538': 506, '539': 507, '54': 508, '540': 509, '541': 510, '542': 511, '543': 512, '544': 513, '545': 514, '546': 515, '547': 516, '548': 517, '549': 518, '55': 519, '550': 520, '551': 521, '552': 522, '553': 523, '554': 524, '555': 525, '556': 526, '557': 527, '558': 528, '559': 529, '56': 530, '560': 531, '561': 532, '562': 533, '563': 534, '564': 535, '565': 536, '566': 537, '567': 538, '568': 539, '569': 540, '57': 541, '570': 542, '571': 543, '572': 544, '573': 545, '574': 546, '575': 547, '576': 548, '577': 549, '578': 550, '579': 551, '58': 552, '580': 553, '581': 554, '582': 555, '583': 556, '584': 557, '585': 558, '586': 559, '587': 560, '588': 561, '589': 562, '59': 563, '590': 564, '591': 565, '592': 566, '593': 567, '594': 568, '595': 569, '596': 570, '597': 571, '598': 572, '599': 573, '6': 574, '60': 575, '600': 576, '601': 577, '602': 578, '603': 579, '604': 580, '605': 581, '606': 582, '607': 583, '608': 584, '609': 585, '61': 586, '610': 587, '611': 588, '612': 589, '613': 590, '614': 591, '615': 592, '616': 593, '617': 594, '618': 595, '619': 596, '62': 597, '620': 598, '621': 599, '622': 600, '623': 601, '624': 602, '625': 603, '626': 604, '627': 605, '628': 606, '629': 607, '63': 608, '630': 609, '631': 610, '632': 611, '633': 612, '634': 613, '635': 614, '636': 615, '637': 616, '638': 617, '639': 618, '64': 619, '640': 620, '641': 621, '642': 622, '643': 623, '644': 624, '645': 625, '646': 626, '647': 627, '648': 628, '649': 629, '65': 630, '650': 631, '651': 632, '652': 633, '653': 634, '654': 635, '655': 636, '656': 637, '657': 638, '658': 639, '659': 640, '66': 641, '660': 642, '661': 643, '662': 644, '663': 645, '664': 646, '665': 647, '666': 648, '667': 649, '668': 650, '669': 651, '67': 652, '670': 653, '671': 654, '672': 655, '673': 656, '674': 657, '675': 658, '676': 659, '677': 660, '678': 661, '679': 662, '68': 663, '680': 664, '681': 665, '682': 666, '683': 667, '684': 668, '685': 669, '686': 670, '687': 671, '688': 672, '689': 673, '69': 674, '690': 675, '691': 676, '692': 677, '693': 678, '694': 679, '695': 680, '696': 681, '697': 682, '698': 683, '699': 684, '7': 685, '70': 686, '700': 687, '701': 688, '702': 689, '703': 690, '704': 691, '705': 692, '706': 693, '707': 694, '708': 695, '709': 696, '71': 697, '710': 698, '711': 699, '712': 700, '713': 701, '714': 702, '715': 703, '716': 704, '717': 705, '718': 706, '719': 707, '72': 708, '720': 709, '721': 710, '722': 711, '723': 712, '724': 713, '725': 714, '726': 715, '727': 716, '728': 717, '729': 718, '73': 719, '730': 720, '731': 721, '732': 722, '733': 723, '734': 724, '735': 725, '736': 726, '737': 727, '738': 728, '739': 729, '74': 730, '740': 731, '741': 732, '742': 733, '743': 734, '744': 735, '745': 736, '746': 737, '747': 738, '748': 739, '749': 740, '75': 741, '750': 742, '751': 743, '752': 744, '753': 745, '754': 746, '755': 747, '756': 748, '757': 749, '758': 750, '759': 751, '76': 752, '760': 753, '761': 754, '762': 755, '763': 756, '764': 757, '765': 758, '766': 759, '767': 760, '768': 761, '769': 762, '77': 763, '770': 764, '771': 765, '772': 766, '773': 767, '774': 768, '775': 769, '776': 770, '777': 771, '778': 772, '779': 773, '78': 774, '780': 775, '781': 776, '782': 777, '783': 778, '784': 779, '785': 780, '786': 781, '787': 782, '788': 783, '789': 784, '79': 785, '790': 786, '791': 787, '792': 788, '793': 789, '794': 790, '795': 791, '796': 792, '797': 793, '798': 794, '799': 795, '8': 796, '80': 797, '800': 798, '801': 799, '802': 800, '803': 801, '804': 802, '805': 803, '806': 804, '807': 805, '808': 806, '809': 807, '81': 808, '810': 809, '811': 810, '812': 811, '813': 812, '814': 813, '815': 814, '816': 815, '817': 816, '818': 817, '819': 818, '82': 819, '820': 820, '821': 821, '822': 822, '823': 823, '824': 824, '825': 825, '826': 826, '827': 827, '828': 828, '829': 829, '83': 830, '830': 831, '831': 832, '832': 833, '833': 834, '834': 835, '835': 836, '836': 837, '837': 838, '838': 839, '839': 840, '84': 841, '840': 842, '841': 843, '842': 844, '843': 845, '844': 846, '845': 847, '846': 848, '847': 849, '848': 850, '849': 851, '85': 852, '850': 853, '851': 854, '852': 855, '853': 856, '854': 857, '855': 858, '856': 859, '857': 860, '858': 861, '859': 862, '86': 863, '860': 864, '861': 865, '862': 866, '863': 867, '864': 868, '865': 869, '866': 870, '867': 871, '868': 872, '869': 873, '87': 874, '870': 875, '871': 876, '872': 877, '873': 878, '874': 879, '875': 880, '876': 881, '877': 882, '878': 883, '879': 884, '88': 885, '880': 886, '881': 887, '882': 888, '883': 889, '884': 890, '885': 891, '886': 892, '887': 893, '888': 894, '889': 895, '89': 896, '890': 897, '891': 898, '892': 899, '893': 900, '894': 901, '895': 902, '896': 903, '897': 904, '898': 905, '899': 906, '9': 907, '90': 908, '900': 909, '901': 910, '902': 911, '903': 912, '904': 913, '905': 914, '906': 915, '907': 916, '908': 917, '909': 918, '91': 919, '910': 920, '911': 921, '912': 922, '913': 923, '914': 924, '915': 925, '916': 926, '917': 927, '918': 928, '919': 929, '92': 930, '920': 931, '921': 932, '922': 933, '923': 934, '924': 935, '925': 936, '926': 937, '927': 938, '928': 939, '929': 940, '93': 941, '930': 942, '931': 943, '932': 944, '933': 945, '934': 946, '935': 947, '936': 948, '937': 949, '938': 950, '939': 951, '94': 952, '940': 953, '941': 954, '942': 955, '943': 956, '944': 957, '945': 958, '946': 959, '947': 960, '948': 961, '949': 962, '95': 963, '950': 964, '951': 965, '952': 966, '953': 967, '954': 968, '955': 969, '956': 970, '957': 971, '958': 972, '959': 973, '96': 974, '960': 975, '961': 976, '962': 977, '963': 978, '964': 979, '965': 980, '966': 981, '967': 982, '968': 983, '969': 984, '97': 985, '970': 986, '971': 987, '972': 988, '973': 989, '974': 990, '975': 991, '976': 992, '977': 993, '978': 994, '979': 995, '98': 996, '980': 997, '981': 998, '982': 999, '983': 1000, '984': 1001, '985': 1002, '986': 1003, '987': 1004, '988': 1005, '989': 1006, '99': 1007, '990': 1008, '991': 1009, '992': 1010, '993': 1011, '994': 1012, '995': 1013, '996': 1014, '997': 1015, '998': 1016, '999': 1017, 'V1': 1018, 'V10': 1019, 'V100': 1020, 'V101': 1021, 'V102': 1022, 'V103': 1023, 'V104': 1024, 'V105': 1025, 'V106': 1026, 'V107': 1027, 'V108': 1028, 'V109': 1029, 'V11': 1030, 'V110': 1031, 'V111': 1032, 'V112': 1033, 'V113': 1034, 'V114': 1035, 'V115': 1036, 'V116': 1037, 'V117': 1038, 'V118': 1039, 'V119': 1040, 'V12': 1041, 'V120': 1042, 'V121': 1043, 'V122': 1044, 'V123': 1045, 'V124': 1046, 'V125': 1047, 'V126': 1048, 'V127': 1049, 'V128': 1050, 'V129': 1051, 'V13': 1052, 'V130': 1053, 'V131': 1054, 'V132': 1055, 'V133': 1056, 'V134': 1057, 'V135': 1058, 'V136': 1059, 'V137': 1060, 'V138': 1061, 'V139': 1062, 'V14': 1063, 'V140': 1064, 'V141': 1065, 'V142': 1066, 'V143': 1067, 'V144': 1068, 'V145': 1069, 'V146': 1070, 'V147': 1071, 'V148': 1072, 'V149': 1073, 'V15': 1074, 'V150': 1075, 'V151': 1076, 'V152': 1077, 'V153': 1078, 'V154': 1079, 'V155': 1080, 'V156': 1081, 'V157': 1082, 'V158': 1083, 'V159': 1084, 'V16': 1085, 'V160': 1086, 'V161': 1087, 'V162': 1088, 'V163': 1089, 'V164': 1090, 'V165': 1091, 'V166': 1092, 'V167': 1093, 'V168': 1094, 'V169': 1095, 'V17': 1096, 'V170': 1097, 'V171': 1098, 'V172': 1099, 'V173': 1100, 'V174': 1101, 'V175': 1102, 'V176': 1103, 'V177': 1104, 'V178': 1105, 'V179': 1106, 'V18': 1107, 'V180': 1108, 'V181': 1109, 'V182': 1110, 'V183': 1111, 'V184': 1112, 'V185': 1113, 'V186': 1114, 'V187': 1115, 'V188': 1116, 'V189': 1117, 'V19': 1118, 'V190': 1119, 'V191': 1120, 'V192': 1121, 'V193': 1122, 'V194': 1123, 'V195': 1124, 'V196': 1125, 'V197': 1126, 'V198': 1127, 'V199': 1128, 'V2': 1129, 'V20': 1130, 'V200': 1131, 'V21': 1132, 'V22': 1133, 'V23': 1134, 'V24': 1135, 'V25': 1136, 'V26': 1137, 'V27': 1138, 'V28': 1139, 'V29': 1140, 'V3': 1141, 'V30': 1142, 'V31': 1143, 'V32': 1144, 'V33': 1145, 'V34': 1146, 'V35': 1147, 'V36': 1148, 'V37': 1149, 'V38': 1150, 'V39': 1151, 'V4': 1152, 'V40': 1153, 'V41': 1154, 'V42': 1155, 'V43': 1156, 'V44': 1157, 'V45': 1158, 'V46': 1159, 'V47': 1160, 'V48': 1161, 'V49': 1162, 'V5': 1163, 'V50': 1164, 'V51': 1165, 'V52': 1166, 'V53': 1167, 'V54': 1168, 'V55': 1169, 'V56': 1170, 'V57': 1171, 'V58': 1172, 'V59': 1173, 'V6': 1174, 'V60': 1175, 'V61': 1176, 'V62': 1177, 'V63': 1178, 'V64': 1179, 'V65': 1180, 'V66': 1181, 'V67': 1182, 'V68': 1183, 'V69': 1184, 'V7': 1185, 'V70': 1186, 'V71': 1187, 'V72': 1188, 'V73': 1189, 'V74': 1190, 'V75': 1191, 'V76': 1192, 'V77': 1193, 'V78': 1194, 'V79': 1195, 'V8': 1196, 'V80': 1197, 'V81': 1198, 'V82': 1199, 'V83': 1200, 'V84': 1201, 'V85': 1202, 'V86': 1203, 'V87': 1204, 'V88': 1205, 'V89': 1206, 'V9': 1207, 'V90': 1208, 'V91': 1209, 'V92': 1210, 'V93': 1211, 'V94': 1212, 'V95': 1213, 'V96': 1214, 'V97': 1215, 'V98': 1216, 'V99': 1217}\n",
      "INFO - 07/22/25 19:19:28 - 0:00:00 - Training tasks: arithmetic\n",
      "INFO - 07/22/25 19:19:28 - 0:00:00 - Number of parameters (encoder): 4519936\n",
      "INFO - 07/22/25 19:19:28 - 0:00:00 - Number of parameters (decoder): 5575874\n"
     ]
    },
    {
     "name": "stdout",
     "output_type": "stream",
     "text": [
      "INFO - 07/22/25 19:19:28 - 0:00:00 - Found 177 parameters in model.\n"
     ]
    },
    {
     "name": "stdout",
     "output_type": "stream",
     "text": [
      "INFO - 07/22/25 19:19:29 - 0:00:01 - Optimizer: <class 'src.optim.Adam'>\n",
      "WARNING - 07/22/25 19:19:29 - 0:00:01 - Reloading checkpoint from /home/user/fastdir/dump/basicsq/2/checkpoint.pth ...\n",
      "/home/user/Int2Int/src/trainer.py:303: FutureWarning: You are using `torch.load` with `weights_only=False` (the current default value), which uses the default pickle module implicitly. It is possible to construct malicious pickle data which will execute arbitrary code during unpickling (See https://github.com/pytorch/pytorch/blob/main/SECURITY.md#untrusted-models for more details). In a future release, the default value for `weights_only` will be flipped to `True`. This limits the functions that could be executed during unpickling. Arbitrary objects will no longer be allowed to be loaded via this mode unless they are explicitly allowlisted by the user via `torch.serialization.add_safe_globals`. We recommend you start setting `weights_only=True` for any use case where you don't have full control of the loaded file. Please open an issue on GitHub for any issues related to this experimental feature.\n",
      "  data = torch.load(checkpoint_path, map_location=\"cpu\")\n",
      "WARNING - 07/22/25 19:19:29 - 0:00:01 - Reloading checkpoint optimizer ...\n",
      "WARNING - 07/22/25 19:19:30 - 0:00:02 - Checkpoint reloaded. Resuming at epoch 227 / iteration 141875 ...\n",
      "INFO - 07/22/25 19:19:30 - 0:00:02 - Creating valid iterator for arithmetic ...\n",
      "INFO - 07/22/25 19:19:30 - 0:00:02 - Loading data from /home/user/fastdir/data/musq_true.txt ...\n"
     ]
    },
    {
     "name": "stdout",
     "output_type": "stream",
     "text": [
      "INFO - 07/22/25 19:19:30 - 0:00:02 - Loaded 100000 equations from the disk.\n",
      "SLURM job: False\n",
      "0 - Number of nodes: 1\n",
      "0 - Node ID        : 0\n",
      "0 - Local rank     : 0\n",
      "0 - Global rank    : 0\n",
      "0 - World size     : 1\n",
      "0 - GPUs per node  : 1\n",
      "0 - Master         : True\n",
      "0 - Multi-node     : False\n",
      "0 - Multi-GPU      : False\n",
      "0 - Hostname       : compute-server-1\n"
     ]
    },
    {
     "name": "stdout",
     "output_type": "stream",
     "text": [
      "INFO - 07/22/25 19:19:31 - 0:00:03 - (128/20000) Found 85/128 valid top-1 predictions. Generating solutions ...\n",
      "INFO - 07/22/25 19:19:31 - 0:00:03 -     Found 85/128 solutions in beam hypotheses.\n"
     ]
    },
    {
     "name": "stdout",
     "output_type": "stream",
     "text": [
      "INFO - 07/22/25 19:19:31 - 0:00:03 - (256/20000) Found 100/128 valid top-1 predictions. Generating solutions ...\n",
      "INFO - 07/22/25 19:19:31 - 0:00:03 -     Found 100/128 solutions in beam hypotheses.\n"
     ]
    },
    {
     "name": "stdout",
     "output_type": "stream",
     "text": [
      "INFO - 07/22/25 19:19:31 - 0:00:03 - (384/20000) Found 83/128 valid top-1 predictions. Generating solutions ...\n",
      "INFO - 07/22/25 19:19:31 - 0:00:03 -     Found 83/128 solutions in beam hypotheses.\n"
     ]
    },
    {
     "name": "stdout",
     "output_type": "stream",
     "text": [
      "INFO - 07/22/25 19:19:32 - 0:00:04 - (512/20000) Found 88/128 valid top-1 predictions. Generating solutions ...\n",
      "INFO - 07/22/25 19:19:32 - 0:00:04 -     Found 88/128 solutions in beam hypotheses.\n"
     ]
    },
    {
     "name": "stdout",
     "output_type": "stream",
     "text": [
      "INFO - 07/22/25 19:19:32 - 0:00:04 - (640/20000) Found 95/128 valid top-1 predictions. Generating solutions ...\n",
      "INFO - 07/22/25 19:19:32 - 0:00:04 -     Found 95/128 solutions in beam hypotheses.\n"
     ]
    },
    {
     "name": "stdout",
     "output_type": "stream",
     "text": [
      "INFO - 07/22/25 19:19:32 - 0:00:04 - (768/20000) Found 95/128 valid top-1 predictions. Generating solutions ...\n",
      "INFO - 07/22/25 19:19:32 - 0:00:04 -     Found 95/128 solutions in beam hypotheses.\n"
     ]
    },
    {
     "name": "stdout",
     "output_type": "stream",
     "text": [
      "INFO - 07/22/25 19:19:33 - 0:00:05 - (896/20000) Found 93/128 valid top-1 predictions. Generating solutions ...\n",
      "INFO - 07/22/25 19:19:33 - 0:00:05 -     Found 93/128 solutions in beam hypotheses.\n"
     ]
    },
    {
     "name": "stdout",
     "output_type": "stream",
     "text": [
      "INFO - 07/22/25 19:19:33 - 0:00:05 - (1024/20000) Found 87/128 valid top-1 predictions. Generating solutions ...\n",
      "INFO - 07/22/25 19:19:33 - 0:00:05 -     Found 87/128 solutions in beam hypotheses.\n"
     ]
    },
    {
     "name": "stdout",
     "output_type": "stream",
     "text": [
      "INFO - 07/22/25 19:19:33 - 0:00:05 - (1152/20000) Found 87/128 valid top-1 predictions. Generating solutions ...\n",
      "INFO - 07/22/25 19:19:33 - 0:00:05 -     Found 87/128 solutions in beam hypotheses.\n"
     ]
    },
    {
     "name": "stdout",
     "output_type": "stream",
     "text": [
      "INFO - 07/22/25 19:19:33 - 0:00:05 - (1280/20000) Found 92/128 valid top-1 predictions. Generating solutions ...\n",
      "INFO - 07/22/25 19:19:33 - 0:00:05 -     Found 92/128 solutions in beam hypotheses.\n"
     ]
    },
    {
     "name": "stdout",
     "output_type": "stream",
     "text": [
      "INFO - 07/22/25 19:19:34 - 0:00:06 - (1408/20000) Found 91/128 valid top-1 predictions. Generating solutions ...\n",
      "INFO - 07/22/25 19:19:34 - 0:00:06 -     Found 91/128 solutions in beam hypotheses.\n"
     ]
    },
    {
     "name": "stdout",
     "output_type": "stream",
     "text": [
      "INFO - 07/22/25 19:19:34 - 0:00:06 - (1536/20000) Found 89/128 valid top-1 predictions. Generating solutions ...\n",
      "INFO - 07/22/25 19:19:34 - 0:00:06 -     Found 89/128 solutions in beam hypotheses.\n"
     ]
    },
    {
     "name": "stdout",
     "output_type": "stream",
     "text": [
      "INFO - 07/22/25 19:19:34 - 0:00:06 - (1664/20000) Found 92/128 valid top-1 predictions. Generating solutions ...\n",
      "INFO - 07/22/25 19:19:34 - 0:00:06 -     Found 92/128 solutions in beam hypotheses.\n"
     ]
    },
    {
     "name": "stdout",
     "output_type": "stream",
     "text": [
      "INFO - 07/22/25 19:19:35 - 0:00:07 - (1792/20000) Found 86/128 valid top-1 predictions. Generating solutions ...\n",
      "INFO - 07/22/25 19:19:35 - 0:00:07 -     Found 86/128 solutions in beam hypotheses.\n"
     ]
    },
    {
     "name": "stdout",
     "output_type": "stream",
     "text": [
      "INFO - 07/22/25 19:19:35 - 0:00:07 - (1920/20000) Found 100/128 valid top-1 predictions. Generating solutions ...\n",
      "INFO - 07/22/25 19:19:35 - 0:00:07 -     Found 100/128 solutions in beam hypotheses.\n"
     ]
    },
    {
     "name": "stdout",
     "output_type": "stream",
     "text": [
      "INFO - 07/22/25 19:19:35 - 0:00:07 - (2048/20000) Found 102/128 valid top-1 predictions. Generating solutions ...\n",
      "INFO - 07/22/25 19:19:35 - 0:00:07 -     Found 102/128 solutions in beam hypotheses.\n"
     ]
    },
    {
     "name": "stdout",
     "output_type": "stream",
     "text": [
      "INFO - 07/22/25 19:19:36 - 0:00:08 - (2176/20000) Found 98/128 valid top-1 predictions. Generating solutions ...\n",
      "INFO - 07/22/25 19:19:36 - 0:00:08 -     Found 98/128 solutions in beam hypotheses.\n"
     ]
    },
    {
     "name": "stdout",
     "output_type": "stream",
     "text": [
      "INFO - 07/22/25 19:19:36 - 0:00:08 - (2304/20000) Found 89/128 valid top-1 predictions. Generating solutions ...\n",
      "INFO - 07/22/25 19:19:36 - 0:00:08 -     Found 89/128 solutions in beam hypotheses.\n"
     ]
    },
    {
     "name": "stdout",
     "output_type": "stream",
     "text": [
      "INFO - 07/22/25 19:19:36 - 0:00:08 - (2432/20000) Found 92/128 valid top-1 predictions. Generating solutions ...\n",
      "INFO - 07/22/25 19:19:36 - 0:00:08 -     Found 92/128 solutions in beam hypotheses.\n"
     ]
    },
    {
     "name": "stdout",
     "output_type": "stream",
     "text": [
      "INFO - 07/22/25 19:19:36 - 0:00:08 - (2560/20000) Found 91/128 valid top-1 predictions. Generating solutions ...\n",
      "INFO - 07/22/25 19:19:36 - 0:00:09 -     Found 91/128 solutions in beam hypotheses.\n"
     ]
    },
    {
     "name": "stdout",
     "output_type": "stream",
     "text": [
      "INFO - 07/22/25 19:19:37 - 0:00:09 - (2688/20000) Found 79/128 valid top-1 predictions. Generating solutions ...\n",
      "INFO - 07/22/25 19:19:37 - 0:00:09 -     Found 79/128 solutions in beam hypotheses.\n"
     ]
    },
    {
     "name": "stdout",
     "output_type": "stream",
     "text": [
      "INFO - 07/22/25 19:19:37 - 0:00:09 - (2816/20000) Found 94/128 valid top-1 predictions. Generating solutions ...\n",
      "INFO - 07/22/25 19:19:37 - 0:00:09 -     Found 94/128 solutions in beam hypotheses.\n"
     ]
    },
    {
     "name": "stdout",
     "output_type": "stream",
     "text": [
      "INFO - 07/22/25 19:19:37 - 0:00:09 - (2944/20000) Found 92/128 valid top-1 predictions. Generating solutions ...\n",
      "INFO - 07/22/25 19:19:37 - 0:00:09 -     Found 92/128 solutions in beam hypotheses.\n"
     ]
    },
    {
     "name": "stdout",
     "output_type": "stream",
     "text": [
      "INFO - 07/22/25 19:19:38 - 0:00:10 - (3072/20000) Found 93/128 valid top-1 predictions. Generating solutions ...\n",
      "INFO - 07/22/25 19:19:38 - 0:00:10 -     Found 93/128 solutions in beam hypotheses.\n"
     ]
    },
    {
     "name": "stdout",
     "output_type": "stream",
     "text": [
      "INFO - 07/22/25 19:19:38 - 0:00:10 - (3200/20000) Found 92/128 valid top-1 predictions. Generating solutions ...\n",
      "INFO - 07/22/25 19:19:38 - 0:00:10 -     Found 92/128 solutions in beam hypotheses.\n"
     ]
    },
    {
     "name": "stdout",
     "output_type": "stream",
     "text": [
      "INFO - 07/22/25 19:19:38 - 0:00:10 - (3328/20000) Found 91/128 valid top-1 predictions. Generating solutions ...\n",
      "INFO - 07/22/25 19:19:38 - 0:00:10 -     Found 91/128 solutions in beam hypotheses.\n"
     ]
    },
    {
     "name": "stdout",
     "output_type": "stream",
     "text": [
      "INFO - 07/22/25 19:19:39 - 0:00:11 - (3456/20000) Found 93/128 valid top-1 predictions. Generating solutions ...\n",
      "INFO - 07/22/25 19:19:39 - 0:00:11 -     Found 93/128 solutions in beam hypotheses.\n"
     ]
    },
    {
     "name": "stdout",
     "output_type": "stream",
     "text": [
      "INFO - 07/22/25 19:19:39 - 0:00:11 - (3584/20000) Found 85/128 valid top-1 predictions. Generating solutions ...\n",
      "INFO - 07/22/25 19:19:39 - 0:00:11 -     Found 85/128 solutions in beam hypotheses.\n"
     ]
    },
    {
     "name": "stdout",
     "output_type": "stream",
     "text": [
      "INFO - 07/22/25 19:19:39 - 0:00:11 - (3712/20000) Found 85/128 valid top-1 predictions. Generating solutions ...\n",
      "INFO - 07/22/25 19:19:39 - 0:00:11 -     Found 85/128 solutions in beam hypotheses.\n"
     ]
    },
    {
     "name": "stdout",
     "output_type": "stream",
     "text": [
      "INFO - 07/22/25 19:19:39 - 0:00:11 - (3840/20000) Found 93/128 valid top-1 predictions. Generating solutions ...\n",
      "INFO - 07/22/25 19:19:40 - 0:00:12 -     Found 93/128 solutions in beam hypotheses.\n"
     ]
    },
    {
     "name": "stdout",
     "output_type": "stream",
     "text": [
      "INFO - 07/22/25 19:19:40 - 0:00:12 - (3968/20000) Found 94/128 valid top-1 predictions. Generating solutions ...\n",
      "INFO - 07/22/25 19:19:40 - 0:00:12 -     Found 94/128 solutions in beam hypotheses.\n"
     ]
    },
    {
     "name": "stdout",
     "output_type": "stream",
     "text": [
      "INFO - 07/22/25 19:19:40 - 0:00:12 - (4096/20000) Found 86/128 valid top-1 predictions. Generating solutions ...\n",
      "INFO - 07/22/25 19:19:40 - 0:00:12 -     Found 86/128 solutions in beam hypotheses.\n"
     ]
    },
    {
     "name": "stdout",
     "output_type": "stream",
     "text": [
      "INFO - 07/22/25 19:19:40 - 0:00:12 - (4224/20000) Found 95/128 valid top-1 predictions. Generating solutions ...\n",
      "INFO - 07/22/25 19:19:40 - 0:00:12 -     Found 95/128 solutions in beam hypotheses.\n"
     ]
    },
    {
     "name": "stdout",
     "output_type": "stream",
     "text": [
      "INFO - 07/22/25 19:19:41 - 0:00:13 - (4352/20000) Found 92/128 valid top-1 predictions. Generating solutions ...\n",
      "INFO - 07/22/25 19:19:41 - 0:00:13 -     Found 92/128 solutions in beam hypotheses.\n"
     ]
    },
    {
     "name": "stdout",
     "output_type": "stream",
     "text": [
      "INFO - 07/22/25 19:19:41 - 0:00:13 - (4480/20000) Found 86/128 valid top-1 predictions. Generating solutions ...\n",
      "INFO - 07/22/25 19:19:41 - 0:00:13 -     Found 86/128 solutions in beam hypotheses.\n"
     ]
    },
    {
     "name": "stdout",
     "output_type": "stream",
     "text": [
      "INFO - 07/22/25 19:19:41 - 0:00:13 - (4608/20000) Found 87/128 valid top-1 predictions. Generating solutions ...\n",
      "INFO - 07/22/25 19:19:41 - 0:00:13 -     Found 87/128 solutions in beam hypotheses.\n"
     ]
    },
    {
     "name": "stdout",
     "output_type": "stream",
     "text": [
      "INFO - 07/22/25 19:19:42 - 0:00:14 - (4736/20000) Found 87/128 valid top-1 predictions. Generating solutions ...\n",
      "INFO - 07/22/25 19:19:42 - 0:00:14 -     Found 87/128 solutions in beam hypotheses.\n"
     ]
    },
    {
     "name": "stdout",
     "output_type": "stream",
     "text": [
      "INFO - 07/22/25 19:19:42 - 0:00:14 - (4864/20000) Found 85/128 valid top-1 predictions. Generating solutions ...\n",
      "INFO - 07/22/25 19:19:42 - 0:00:14 -     Found 85/128 solutions in beam hypotheses.\n"
     ]
    },
    {
     "name": "stdout",
     "output_type": "stream",
     "text": [
      "INFO - 07/22/25 19:19:42 - 0:00:14 - (4992/20000) Found 96/128 valid top-1 predictions. Generating solutions ...\n",
      "INFO - 07/22/25 19:19:42 - 0:00:14 -     Found 96/128 solutions in beam hypotheses.\n"
     ]
    },
    {
     "name": "stdout",
     "output_type": "stream",
     "text": [
      "INFO - 07/22/25 19:19:43 - 0:00:15 - (5120/20000) Found 84/128 valid top-1 predictions. Generating solutions ...\n",
      "INFO - 07/22/25 19:19:43 - 0:00:15 -     Found 84/128 solutions in beam hypotheses.\n"
     ]
    },
    {
     "name": "stdout",
     "output_type": "stream",
     "text": [
      "INFO - 07/22/25 19:19:43 - 0:00:15 - (5248/20000) Found 89/128 valid top-1 predictions. Generating solutions ...\n",
      "INFO - 07/22/25 19:19:43 - 0:00:15 -     Found 89/128 solutions in beam hypotheses.\n"
     ]
    },
    {
     "name": "stdout",
     "output_type": "stream",
     "text": [
      "INFO - 07/22/25 19:19:43 - 0:00:15 - (5376/20000) Found 88/128 valid top-1 predictions. Generating solutions ...\n",
      "INFO - 07/22/25 19:19:43 - 0:00:15 -     Found 88/128 solutions in beam hypotheses.\n"
     ]
    },
    {
     "name": "stdout",
     "output_type": "stream",
     "text": [
      "INFO - 07/22/25 19:19:43 - 0:00:15 - (5504/20000) Found 89/128 valid top-1 predictions. Generating solutions ...\n",
      "INFO - 07/22/25 19:19:43 - 0:00:15 -     Found 89/128 solutions in beam hypotheses.\n"
     ]
    },
    {
     "name": "stdout",
     "output_type": "stream",
     "text": [
      "INFO - 07/22/25 19:19:44 - 0:00:16 - (5632/20000) Found 83/128 valid top-1 predictions. Generating solutions ...\n",
      "INFO - 07/22/25 19:19:44 - 0:00:16 -     Found 83/128 solutions in beam hypotheses.\n"
     ]
    },
    {
     "name": "stdout",
     "output_type": "stream",
     "text": [
      "INFO - 07/22/25 19:19:44 - 0:00:16 - (5760/20000) Found 88/128 valid top-1 predictions. Generating solutions ...\n",
      "INFO - 07/22/25 19:19:44 - 0:00:16 -     Found 88/128 solutions in beam hypotheses.\n"
     ]
    },
    {
     "name": "stdout",
     "output_type": "stream",
     "text": [
      "INFO - 07/22/25 19:19:44 - 0:00:16 - (5888/20000) Found 93/128 valid top-1 predictions. Generating solutions ...\n",
      "INFO - 07/22/25 19:19:44 - 0:00:16 -     Found 93/128 solutions in beam hypotheses.\n"
     ]
    },
    {
     "name": "stdout",
     "output_type": "stream",
     "text": [
      "INFO - 07/22/25 19:19:45 - 0:00:17 - (6016/20000) Found 79/128 valid top-1 predictions. Generating solutions ...\n",
      "INFO - 07/22/25 19:19:45 - 0:00:17 -     Found 79/128 solutions in beam hypotheses.\n"
     ]
    },
    {
     "name": "stdout",
     "output_type": "stream",
     "text": [
      "INFO - 07/22/25 19:19:45 - 0:00:17 - (6144/20000) Found 90/128 valid top-1 predictions. Generating solutions ...\n",
      "INFO - 07/22/25 19:19:45 - 0:00:17 -     Found 90/128 solutions in beam hypotheses.\n"
     ]
    },
    {
     "name": "stdout",
     "output_type": "stream",
     "text": [
      "INFO - 07/22/25 19:19:45 - 0:00:17 - (6272/20000) Found 86/128 valid top-1 predictions. Generating solutions ...\n",
      "INFO - 07/22/25 19:19:45 - 0:00:17 -     Found 86/128 solutions in beam hypotheses.\n"
     ]
    },
    {
     "name": "stdout",
     "output_type": "stream",
     "text": [
      "INFO - 07/22/25 19:19:46 - 0:00:18 - (6400/20000) Found 83/128 valid top-1 predictions. Generating solutions ...\n",
      "INFO - 07/22/25 19:19:46 - 0:00:18 -     Found 83/128 solutions in beam hypotheses.\n"
     ]
    },
    {
     "name": "stdout",
     "output_type": "stream",
     "text": [
      "INFO - 07/22/25 19:19:46 - 0:00:18 - (6528/20000) Found 88/128 valid top-1 predictions. Generating solutions ...\n",
      "INFO - 07/22/25 19:19:46 - 0:00:18 -     Found 88/128 solutions in beam hypotheses.\n"
     ]
    },
    {
     "name": "stdout",
     "output_type": "stream",
     "text": [
      "INFO - 07/22/25 19:19:46 - 0:00:18 - (6656/20000) Found 87/128 valid top-1 predictions. Generating solutions ...\n",
      "INFO - 07/22/25 19:19:46 - 0:00:18 -     Found 87/128 solutions in beam hypotheses.\n"
     ]
    },
    {
     "name": "stdout",
     "output_type": "stream",
     "text": [
      "INFO - 07/22/25 19:19:46 - 0:00:18 - (6784/20000) Found 86/128 valid top-1 predictions. Generating solutions ...\n",
      "INFO - 07/22/25 19:19:47 - 0:00:19 -     Found 86/128 solutions in beam hypotheses.\n"
     ]
    },
    {
     "name": "stdout",
     "output_type": "stream",
     "text": [
      "INFO - 07/22/25 19:19:47 - 0:00:19 - (6912/20000) Found 85/128 valid top-1 predictions. Generating solutions ...\n",
      "INFO - 07/22/25 19:19:47 - 0:00:19 -     Found 85/128 solutions in beam hypotheses.\n"
     ]
    },
    {
     "name": "stdout",
     "output_type": "stream",
     "text": [
      "INFO - 07/22/25 19:19:47 - 0:00:19 - (7040/20000) Found 85/128 valid top-1 predictions. Generating solutions ...\n",
      "INFO - 07/22/25 19:19:47 - 0:00:19 -     Found 85/128 solutions in beam hypotheses.\n"
     ]
    },
    {
     "name": "stdout",
     "output_type": "stream",
     "text": [
      "INFO - 07/22/25 19:19:47 - 0:00:19 - (7168/20000) Found 90/128 valid top-1 predictions. Generating solutions ...\n",
      "INFO - 07/22/25 19:19:47 - 0:00:19 -     Found 90/128 solutions in beam hypotheses.\n"
     ]
    },
    {
     "name": "stdout",
     "output_type": "stream",
     "text": [
      "INFO - 07/22/25 19:19:48 - 0:00:20 - (7296/20000) Found 93/128 valid top-1 predictions. Generating solutions ...\n",
      "INFO - 07/22/25 19:19:48 - 0:00:20 -     Found 93/128 solutions in beam hypotheses.\n"
     ]
    },
    {
     "name": "stdout",
     "output_type": "stream",
     "text": [
      "INFO - 07/22/25 19:19:48 - 0:00:20 - (7424/20000) Found 89/128 valid top-1 predictions. Generating solutions ...\n",
      "INFO - 07/22/25 19:19:48 - 0:00:20 -     Found 89/128 solutions in beam hypotheses.\n"
     ]
    },
    {
     "name": "stdout",
     "output_type": "stream",
     "text": [
      "INFO - 07/22/25 19:19:48 - 0:00:20 - (7552/20000) Found 86/128 valid top-1 predictions. Generating solutions ...\n",
      "INFO - 07/22/25 19:19:48 - 0:00:20 -     Found 86/128 solutions in beam hypotheses.\n"
     ]
    },
    {
     "name": "stdout",
     "output_type": "stream",
     "text": [
      "INFO - 07/22/25 19:19:49 - 0:00:21 - (7680/20000) Found 85/128 valid top-1 predictions. Generating solutions ...\n",
      "INFO - 07/22/25 19:19:49 - 0:00:21 -     Found 85/128 solutions in beam hypotheses.\n"
     ]
    },
    {
     "name": "stdout",
     "output_type": "stream",
     "text": [
      "INFO - 07/22/25 19:19:49 - 0:00:21 - (7808/20000) Found 82/128 valid top-1 predictions. Generating solutions ...\n",
      "INFO - 07/22/25 19:19:49 - 0:00:21 -     Found 82/128 solutions in beam hypotheses.\n"
     ]
    },
    {
     "name": "stdout",
     "output_type": "stream",
     "text": [
      "INFO - 07/22/25 19:19:49 - 0:00:21 - (7936/20000) Found 90/128 valid top-1 predictions. Generating solutions ...\n",
      "INFO - 07/22/25 19:19:49 - 0:00:21 -     Found 90/128 solutions in beam hypotheses.\n"
     ]
    },
    {
     "name": "stdout",
     "output_type": "stream",
     "text": [
      "INFO - 07/22/25 19:19:49 - 0:00:21 - (8064/20000) Found 85/128 valid top-1 predictions. Generating solutions ...\n",
      "INFO - 07/22/25 19:19:50 - 0:00:22 -     Found 85/128 solutions in beam hypotheses.\n"
     ]
    },
    {
     "name": "stdout",
     "output_type": "stream",
     "text": [
      "INFO - 07/22/25 19:19:50 - 0:00:22 - (8192/20000) Found 87/128 valid top-1 predictions. Generating solutions ...\n",
      "INFO - 07/22/25 19:19:50 - 0:00:22 -     Found 87/128 solutions in beam hypotheses.\n"
     ]
    },
    {
     "name": "stdout",
     "output_type": "stream",
     "text": [
      "INFO - 07/22/25 19:19:50 - 0:00:22 - (8320/20000) Found 98/128 valid top-1 predictions. Generating solutions ...\n",
      "INFO - 07/22/25 19:19:50 - 0:00:22 -     Found 98/128 solutions in beam hypotheses.\n"
     ]
    },
    {
     "name": "stdout",
     "output_type": "stream",
     "text": [
      "INFO - 07/22/25 19:19:50 - 0:00:22 - (8448/20000) Found 97/128 valid top-1 predictions. Generating solutions ...\n",
      "INFO - 07/22/25 19:19:50 - 0:00:22 -     Found 97/128 solutions in beam hypotheses.\n"
     ]
    },
    {
     "name": "stdout",
     "output_type": "stream",
     "text": [
      "INFO - 07/22/25 19:19:51 - 0:00:23 - (8576/20000) Found 89/128 valid top-1 predictions. Generating solutions ...\n",
      "INFO - 07/22/25 19:19:51 - 0:00:23 -     Found 89/128 solutions in beam hypotheses.\n"
     ]
    },
    {
     "name": "stdout",
     "output_type": "stream",
     "text": [
      "INFO - 07/22/25 19:19:51 - 0:00:23 - (8704/20000) Found 89/128 valid top-1 predictions. Generating solutions ...\n",
      "INFO - 07/22/25 19:19:51 - 0:00:23 -     Found 89/128 solutions in beam hypotheses.\n"
     ]
    },
    {
     "name": "stdout",
     "output_type": "stream",
     "text": [
      "INFO - 07/22/25 19:19:51 - 0:00:23 - (8832/20000) Found 93/128 valid top-1 predictions. Generating solutions ...\n",
      "INFO - 07/22/25 19:19:51 - 0:00:23 -     Found 93/128 solutions in beam hypotheses.\n"
     ]
    },
    {
     "name": "stdout",
     "output_type": "stream",
     "text": [
      "INFO - 07/22/25 19:19:52 - 0:00:24 - (8960/20000) Found 83/128 valid top-1 predictions. Generating solutions ...\n",
      "INFO - 07/22/25 19:19:52 - 0:00:24 -     Found 83/128 solutions in beam hypotheses.\n"
     ]
    },
    {
     "name": "stdout",
     "output_type": "stream",
     "text": [
      "INFO - 07/22/25 19:19:52 - 0:00:24 - (9088/20000) Found 89/128 valid top-1 predictions. Generating solutions ...\n",
      "INFO - 07/22/25 19:19:52 - 0:00:24 -     Found 89/128 solutions in beam hypotheses.\n"
     ]
    },
    {
     "name": "stdout",
     "output_type": "stream",
     "text": [
      "INFO - 07/22/25 19:19:52 - 0:00:24 - (9216/20000) Found 89/128 valid top-1 predictions. Generating solutions ...\n",
      "INFO - 07/22/25 19:19:52 - 0:00:24 -     Found 89/128 solutions in beam hypotheses.\n"
     ]
    },
    {
     "name": "stdout",
     "output_type": "stream",
     "text": [
      "INFO - 07/22/25 19:19:53 - 0:00:25 - (9344/20000) Found 84/128 valid top-1 predictions. Generating solutions ...\n",
      "INFO - 07/22/25 19:19:53 - 0:00:25 -     Found 84/128 solutions in beam hypotheses.\n"
     ]
    },
    {
     "name": "stdout",
     "output_type": "stream",
     "text": [
      "INFO - 07/22/25 19:19:53 - 0:00:25 - (9472/20000) Found 93/128 valid top-1 predictions. Generating solutions ...\n",
      "INFO - 07/22/25 19:19:53 - 0:00:25 -     Found 93/128 solutions in beam hypotheses.\n"
     ]
    },
    {
     "name": "stdout",
     "output_type": "stream",
     "text": [
      "INFO - 07/22/25 19:19:53 - 0:00:25 - (9600/20000) Found 85/128 valid top-1 predictions. Generating solutions ...\n",
      "INFO - 07/22/25 19:19:53 - 0:00:25 -     Found 85/128 solutions in beam hypotheses.\n"
     ]
    },
    {
     "name": "stdout",
     "output_type": "stream",
     "text": [
      "INFO - 07/22/25 19:19:53 - 0:00:25 - (9728/20000) Found 73/128 valid top-1 predictions. Generating solutions ...\n",
      "INFO - 07/22/25 19:19:53 - 0:00:25 -     Found 73/128 solutions in beam hypotheses.\n"
     ]
    },
    {
     "name": "stdout",
     "output_type": "stream",
     "text": [
      "INFO - 07/22/25 19:19:54 - 0:00:26 - (9856/20000) Found 79/128 valid top-1 predictions. Generating solutions ...\n",
      "INFO - 07/22/25 19:19:54 - 0:00:26 -     Found 79/128 solutions in beam hypotheses.\n"
     ]
    },
    {
     "name": "stdout",
     "output_type": "stream",
     "text": [
      "INFO - 07/22/25 19:19:54 - 0:00:26 - (9984/20000) Found 82/128 valid top-1 predictions. Generating solutions ...\n",
      "INFO - 07/22/25 19:19:54 - 0:00:26 -     Found 82/128 solutions in beam hypotheses.\n"
     ]
    },
    {
     "name": "stdout",
     "output_type": "stream",
     "text": [
      "INFO - 07/22/25 19:19:54 - 0:00:26 - (10112/20000) Found 88/128 valid top-1 predictions. Generating solutions ...\n",
      "INFO - 07/22/25 19:19:54 - 0:00:26 -     Found 88/128 solutions in beam hypotheses.\n"
     ]
    },
    {
     "name": "stdout",
     "output_type": "stream",
     "text": [
      "INFO - 07/22/25 19:19:55 - 0:00:27 - (10240/20000) Found 98/128 valid top-1 predictions. Generating solutions ...\n",
      "INFO - 07/22/25 19:19:55 - 0:00:27 -     Found 98/128 solutions in beam hypotheses.\n"
     ]
    },
    {
     "name": "stdout",
     "output_type": "stream",
     "text": [
      "INFO - 07/22/25 19:19:55 - 0:00:27 - (10368/20000) Found 87/128 valid top-1 predictions. Generating solutions ...\n",
      "INFO - 07/22/25 19:19:55 - 0:00:27 -     Found 87/128 solutions in beam hypotheses.\n"
     ]
    },
    {
     "name": "stdout",
     "output_type": "stream",
     "text": [
      "INFO - 07/22/25 19:19:55 - 0:00:27 - (10496/20000) Found 88/128 valid top-1 predictions. Generating solutions ...\n",
      "INFO - 07/22/25 19:19:55 - 0:00:27 -     Found 88/128 solutions in beam hypotheses.\n"
     ]
    },
    {
     "name": "stdout",
     "output_type": "stream",
     "text": [
      "INFO - 07/22/25 19:19:56 - 0:00:28 - (10624/20000) Found 91/128 valid top-1 predictions. Generating solutions ...\n",
      "INFO - 07/22/25 19:19:56 - 0:00:28 -     Found 91/128 solutions in beam hypotheses.\n"
     ]
    },
    {
     "name": "stdout",
     "output_type": "stream",
     "text": [
      "INFO - 07/22/25 19:19:56 - 0:00:28 - (10752/20000) Found 100/128 valid top-1 predictions. Generating solutions ...\n",
      "INFO - 07/22/25 19:19:56 - 0:00:28 -     Found 100/128 solutions in beam hypotheses.\n"
     ]
    },
    {
     "name": "stdout",
     "output_type": "stream",
     "text": [
      "INFO - 07/22/25 19:19:56 - 0:00:28 - (10880/20000) Found 85/128 valid top-1 predictions. Generating solutions ...\n",
      "INFO - 07/22/25 19:19:56 - 0:00:28 -     Found 85/128 solutions in beam hypotheses.\n"
     ]
    },
    {
     "name": "stdout",
     "output_type": "stream",
     "text": [
      "INFO - 07/22/25 19:19:56 - 0:00:28 - (11008/20000) Found 85/128 valid top-1 predictions. Generating solutions ...\n",
      "INFO - 07/22/25 19:19:57 - 0:00:29 -     Found 85/128 solutions in beam hypotheses.\n"
     ]
    },
    {
     "name": "stdout",
     "output_type": "stream",
     "text": [
      "INFO - 07/22/25 19:19:57 - 0:00:29 - (11136/20000) Found 93/128 valid top-1 predictions. Generating solutions ...\n",
      "INFO - 07/22/25 19:19:57 - 0:00:29 -     Found 93/128 solutions in beam hypotheses.\n"
     ]
    },
    {
     "name": "stdout",
     "output_type": "stream",
     "text": [
      "INFO - 07/22/25 19:19:57 - 0:00:29 - (11264/20000) Found 84/128 valid top-1 predictions. Generating solutions ...\n",
      "INFO - 07/22/25 19:19:57 - 0:00:29 -     Found 84/128 solutions in beam hypotheses.\n"
     ]
    },
    {
     "name": "stdout",
     "output_type": "stream",
     "text": [
      "INFO - 07/22/25 19:19:57 - 0:00:29 - (11392/20000) Found 97/128 valid top-1 predictions. Generating solutions ...\n",
      "INFO - 07/22/25 19:19:57 - 0:00:29 -     Found 97/128 solutions in beam hypotheses.\n"
     ]
    },
    {
     "name": "stdout",
     "output_type": "stream",
     "text": [
      "INFO - 07/22/25 19:19:58 - 0:00:30 - (11520/20000) Found 86/128 valid top-1 predictions. Generating solutions ...\n",
      "INFO - 07/22/25 19:19:58 - 0:00:30 -     Found 86/128 solutions in beam hypotheses.\n"
     ]
    },
    {
     "name": "stdout",
     "output_type": "stream",
     "text": [
      "INFO - 07/22/25 19:19:58 - 0:00:30 - (11648/20000) Found 93/128 valid top-1 predictions. Generating solutions ...\n",
      "INFO - 07/22/25 19:19:58 - 0:00:30 -     Found 93/128 solutions in beam hypotheses.\n"
     ]
    },
    {
     "name": "stdout",
     "output_type": "stream",
     "text": [
      "INFO - 07/22/25 19:19:58 - 0:00:30 - (11776/20000) Found 88/128 valid top-1 predictions. Generating solutions ...\n",
      "INFO - 07/22/25 19:19:58 - 0:00:30 -     Found 88/128 solutions in beam hypotheses.\n"
     ]
    },
    {
     "name": "stdout",
     "output_type": "stream",
     "text": [
      "INFO - 07/22/25 19:19:59 - 0:00:31 - (11904/20000) Found 85/128 valid top-1 predictions. Generating solutions ...\n",
      "INFO - 07/22/25 19:19:59 - 0:00:31 -     Found 85/128 solutions in beam hypotheses.\n"
     ]
    },
    {
     "name": "stdout",
     "output_type": "stream",
     "text": [
      "INFO - 07/22/25 19:19:59 - 0:00:31 - (12032/20000) Found 89/128 valid top-1 predictions. Generating solutions ...\n",
      "INFO - 07/22/25 19:19:59 - 0:00:31 -     Found 89/128 solutions in beam hypotheses.\n"
     ]
    },
    {
     "name": "stdout",
     "output_type": "stream",
     "text": [
      "INFO - 07/22/25 19:19:59 - 0:00:31 - (12160/20000) Found 95/128 valid top-1 predictions. Generating solutions ...\n",
      "INFO - 07/22/25 19:19:59 - 0:00:31 -     Found 95/128 solutions in beam hypotheses.\n"
     ]
    },
    {
     "name": "stdout",
     "output_type": "stream",
     "text": [
      "INFO - 07/22/25 19:20:00 - 0:00:32 - (12288/20000) Found 88/128 valid top-1 predictions. Generating solutions ...\n",
      "INFO - 07/22/25 19:20:00 - 0:00:32 -     Found 88/128 solutions in beam hypotheses.\n"
     ]
    },
    {
     "name": "stdout",
     "output_type": "stream",
     "text": [
      "INFO - 07/22/25 19:20:00 - 0:00:32 - (12416/20000) Found 88/128 valid top-1 predictions. Generating solutions ...\n",
      "INFO - 07/22/25 19:20:00 - 0:00:32 -     Found 88/128 solutions in beam hypotheses.\n"
     ]
    },
    {
     "name": "stdout",
     "output_type": "stream",
     "text": [
      "INFO - 07/22/25 19:20:00 - 0:00:32 - (12544/20000) Found 84/128 valid top-1 predictions. Generating solutions ...\n",
      "INFO - 07/22/25 19:20:00 - 0:00:32 -     Found 84/128 solutions in beam hypotheses.\n"
     ]
    },
    {
     "name": "stdout",
     "output_type": "stream",
     "text": [
      "INFO - 07/22/25 19:20:00 - 0:00:32 - (12672/20000) Found 93/128 valid top-1 predictions. Generating solutions ...\n",
      "INFO - 07/22/25 19:20:00 - 0:00:32 -     Found 93/128 solutions in beam hypotheses.\n"
     ]
    },
    {
     "name": "stdout",
     "output_type": "stream",
     "text": [
      "INFO - 07/22/25 19:20:01 - 0:00:33 - (12800/20000) Found 99/128 valid top-1 predictions. Generating solutions ...\n",
      "INFO - 07/22/25 19:20:01 - 0:00:33 -     Found 99/128 solutions in beam hypotheses.\n"
     ]
    },
    {
     "name": "stdout",
     "output_type": "stream",
     "text": [
      "INFO - 07/22/25 19:20:01 - 0:00:33 - (12928/20000) Found 86/128 valid top-1 predictions. Generating solutions ...\n",
      "INFO - 07/22/25 19:20:01 - 0:00:33 -     Found 86/128 solutions in beam hypotheses.\n"
     ]
    },
    {
     "name": "stdout",
     "output_type": "stream",
     "text": [
      "INFO - 07/22/25 19:20:01 - 0:00:33 - (13056/20000) Found 83/128 valid top-1 predictions. Generating solutions ...\n",
      "INFO - 07/22/25 19:20:01 - 0:00:33 -     Found 83/128 solutions in beam hypotheses.\n"
     ]
    },
    {
     "name": "stdout",
     "output_type": "stream",
     "text": [
      "INFO - 07/22/25 19:20:02 - 0:00:34 - (13184/20000) Found 88/128 valid top-1 predictions. Generating solutions ...\n",
      "INFO - 07/22/25 19:20:02 - 0:00:34 -     Found 88/128 solutions in beam hypotheses.\n"
     ]
    },
    {
     "name": "stdout",
     "output_type": "stream",
     "text": [
      "INFO - 07/22/25 19:20:02 - 0:00:34 - (13312/20000) Found 95/128 valid top-1 predictions. Generating solutions ...\n",
      "INFO - 07/22/25 19:20:02 - 0:00:34 -     Found 95/128 solutions in beam hypotheses.\n"
     ]
    },
    {
     "name": "stdout",
     "output_type": "stream",
     "text": [
      "INFO - 07/22/25 19:20:02 - 0:00:34 - (13440/20000) Found 98/128 valid top-1 predictions. Generating solutions ...\n",
      "INFO - 07/22/25 19:20:02 - 0:00:34 -     Found 98/128 solutions in beam hypotheses.\n"
     ]
    },
    {
     "name": "stdout",
     "output_type": "stream",
     "text": [
      "INFO - 07/22/25 19:20:03 - 0:00:35 - (13568/20000) Found 89/128 valid top-1 predictions. Generating solutions ...\n",
      "INFO - 07/22/25 19:20:03 - 0:00:35 -     Found 89/128 solutions in beam hypotheses.\n"
     ]
    },
    {
     "name": "stdout",
     "output_type": "stream",
     "text": [
      "INFO - 07/22/25 19:20:03 - 0:00:35 - (13696/20000) Found 92/128 valid top-1 predictions. Generating solutions ...\n",
      "INFO - 07/22/25 19:20:03 - 0:00:35 -     Found 92/128 solutions in beam hypotheses.\n"
     ]
    },
    {
     "name": "stdout",
     "output_type": "stream",
     "text": [
      "INFO - 07/22/25 19:20:03 - 0:00:35 - (13824/20000) Found 93/128 valid top-1 predictions. Generating solutions ...\n",
      "INFO - 07/22/25 19:20:03 - 0:00:35 -     Found 93/128 solutions in beam hypotheses.\n"
     ]
    },
    {
     "name": "stdout",
     "output_type": "stream",
     "text": [
      "INFO - 07/22/25 19:20:04 - 0:00:36 - (13952/20000) Found 85/128 valid top-1 predictions. Generating solutions ...\n",
      "INFO - 07/22/25 19:20:04 - 0:00:36 -     Found 85/128 solutions in beam hypotheses.\n"
     ]
    },
    {
     "name": "stdout",
     "output_type": "stream",
     "text": [
      "INFO - 07/22/25 19:20:04 - 0:00:36 - (14080/20000) Found 90/128 valid top-1 predictions. Generating solutions ...\n",
      "INFO - 07/22/25 19:20:04 - 0:00:36 -     Found 90/128 solutions in beam hypotheses.\n"
     ]
    },
    {
     "name": "stdout",
     "output_type": "stream",
     "text": [
      "INFO - 07/22/25 19:20:04 - 0:00:36 - (14208/20000) Found 95/128 valid top-1 predictions. Generating solutions ...\n",
      "INFO - 07/22/25 19:20:04 - 0:00:36 -     Found 95/128 solutions in beam hypotheses.\n"
     ]
    },
    {
     "name": "stdout",
     "output_type": "stream",
     "text": [
      "INFO - 07/22/25 19:20:04 - 0:00:36 - (14336/20000) Found 95/128 valid top-1 predictions. Generating solutions ...\n",
      "INFO - 07/22/25 19:20:04 - 0:00:36 -     Found 95/128 solutions in beam hypotheses.\n"
     ]
    },
    {
     "name": "stdout",
     "output_type": "stream",
     "text": [
      "INFO - 07/22/25 19:20:05 - 0:00:37 - (14464/20000) Found 96/128 valid top-1 predictions. Generating solutions ...\n",
      "INFO - 07/22/25 19:20:05 - 0:00:37 -     Found 96/128 solutions in beam hypotheses.\n"
     ]
    },
    {
     "name": "stdout",
     "output_type": "stream",
     "text": [
      "INFO - 07/22/25 19:20:05 - 0:00:37 - (14592/20000) Found 91/128 valid top-1 predictions. Generating solutions ...\n",
      "INFO - 07/22/25 19:20:05 - 0:00:37 -     Found 91/128 solutions in beam hypotheses.\n"
     ]
    },
    {
     "name": "stdout",
     "output_type": "stream",
     "text": [
      "INFO - 07/22/25 19:20:05 - 0:00:37 - (14720/20000) Found 86/128 valid top-1 predictions. Generating solutions ...\n",
      "INFO - 07/22/25 19:20:05 - 0:00:37 -     Found 86/128 solutions in beam hypotheses.\n"
     ]
    },
    {
     "name": "stdout",
     "output_type": "stream",
     "text": [
      "INFO - 07/22/25 19:20:06 - 0:00:38 - (14848/20000) Found 86/128 valid top-1 predictions. Generating solutions ...\n",
      "INFO - 07/22/25 19:20:06 - 0:00:38 -     Found 86/128 solutions in beam hypotheses.\n"
     ]
    },
    {
     "name": "stdout",
     "output_type": "stream",
     "text": [
      "INFO - 07/22/25 19:20:06 - 0:00:38 - (14976/20000) Found 83/128 valid top-1 predictions. Generating solutions ...\n",
      "INFO - 07/22/25 19:20:06 - 0:00:38 -     Found 83/128 solutions in beam hypotheses.\n"
     ]
    },
    {
     "name": "stdout",
     "output_type": "stream",
     "text": [
      "INFO - 07/22/25 19:20:06 - 0:00:38 - (15104/20000) Found 92/128 valid top-1 predictions. Generating solutions ...\n",
      "INFO - 07/22/25 19:20:06 - 0:00:38 -     Found 92/128 solutions in beam hypotheses.\n"
     ]
    },
    {
     "name": "stdout",
     "output_type": "stream",
     "text": [
      "INFO - 07/22/25 19:20:07 - 0:00:39 - (15232/20000) Found 92/128 valid top-1 predictions. Generating solutions ...\n",
      "INFO - 07/22/25 19:20:07 - 0:00:39 -     Found 92/128 solutions in beam hypotheses.\n"
     ]
    },
    {
     "name": "stdout",
     "output_type": "stream",
     "text": [
      "INFO - 07/22/25 19:20:07 - 0:00:39 - (15360/20000) Found 90/128 valid top-1 predictions. Generating solutions ...\n",
      "INFO - 07/22/25 19:20:07 - 0:00:39 -     Found 90/128 solutions in beam hypotheses.\n"
     ]
    },
    {
     "name": "stdout",
     "output_type": "stream",
     "text": [
      "INFO - 07/22/25 19:20:07 - 0:00:39 - (15488/20000) Found 89/128 valid top-1 predictions. Generating solutions ...\n",
      "INFO - 07/22/25 19:20:07 - 0:00:39 -     Found 89/128 solutions in beam hypotheses.\n"
     ]
    },
    {
     "name": "stdout",
     "output_type": "stream",
     "text": [
      "INFO - 07/22/25 19:20:07 - 0:00:39 - (15616/20000) Found 92/128 valid top-1 predictions. Generating solutions ...\n",
      "INFO - 07/22/25 19:20:08 - 0:00:40 -     Found 92/128 solutions in beam hypotheses.\n"
     ]
    },
    {
     "name": "stdout",
     "output_type": "stream",
     "text": [
      "INFO - 07/22/25 19:20:08 - 0:00:40 - (15744/20000) Found 86/128 valid top-1 predictions. Generating solutions ...\n",
      "INFO - 07/22/25 19:20:08 - 0:00:40 -     Found 86/128 solutions in beam hypotheses.\n"
     ]
    },
    {
     "name": "stdout",
     "output_type": "stream",
     "text": [
      "INFO - 07/22/25 19:20:08 - 0:00:40 - (15872/20000) Found 93/128 valid top-1 predictions. Generating solutions ...\n",
      "INFO - 07/22/25 19:20:08 - 0:00:40 -     Found 93/128 solutions in beam hypotheses.\n"
     ]
    },
    {
     "name": "stdout",
     "output_type": "stream",
     "text": [
      "INFO - 07/22/25 19:20:08 - 0:00:40 - (16000/20000) Found 83/128 valid top-1 predictions. Generating solutions ...\n",
      "INFO - 07/22/25 19:20:08 - 0:00:40 -     Found 83/128 solutions in beam hypotheses.\n"
     ]
    },
    {
     "name": "stdout",
     "output_type": "stream",
     "text": [
      "INFO - 07/22/25 19:20:09 - 0:00:41 - (16128/20000) Found 82/128 valid top-1 predictions. Generating solutions ...\n",
      "INFO - 07/22/25 19:20:09 - 0:00:41 -     Found 82/128 solutions in beam hypotheses.\n"
     ]
    },
    {
     "name": "stdout",
     "output_type": "stream",
     "text": [
      "INFO - 07/22/25 19:20:09 - 0:00:41 - (16256/20000) Found 76/128 valid top-1 predictions. Generating solutions ...\n",
      "INFO - 07/22/25 19:20:09 - 0:00:41 -     Found 76/128 solutions in beam hypotheses.\n"
     ]
    },
    {
     "name": "stdout",
     "output_type": "stream",
     "text": [
      "INFO - 07/22/25 19:20:09 - 0:00:41 - (16384/20000) Found 87/128 valid top-1 predictions. Generating solutions ...\n",
      "INFO - 07/22/25 19:20:09 - 0:00:41 -     Found 87/128 solutions in beam hypotheses.\n"
     ]
    },
    {
     "name": "stdout",
     "output_type": "stream",
     "text": [
      "INFO - 07/22/25 19:20:10 - 0:00:42 - (16512/20000) Found 97/128 valid top-1 predictions. Generating solutions ...\n",
      "INFO - 07/22/25 19:20:10 - 0:00:42 -     Found 97/128 solutions in beam hypotheses.\n"
     ]
    },
    {
     "name": "stdout",
     "output_type": "stream",
     "text": [
      "INFO - 07/22/25 19:20:10 - 0:00:42 - (16640/20000) Found 83/128 valid top-1 predictions. Generating solutions ...\n",
      "INFO - 07/22/25 19:20:10 - 0:00:42 -     Found 83/128 solutions in beam hypotheses.\n"
     ]
    },
    {
     "name": "stdout",
     "output_type": "stream",
     "text": [
      "INFO - 07/22/25 19:20:10 - 0:00:42 - (16768/20000) Found 84/128 valid top-1 predictions. Generating solutions ...\n",
      "INFO - 07/22/25 19:20:10 - 0:00:42 -     Found 84/128 solutions in beam hypotheses.\n"
     ]
    },
    {
     "name": "stdout",
     "output_type": "stream",
     "text": [
      "INFO - 07/22/25 19:20:11 - 0:00:43 - (16896/20000) Found 93/128 valid top-1 predictions. Generating solutions ...\n",
      "INFO - 07/22/25 19:20:11 - 0:00:43 -     Found 93/128 solutions in beam hypotheses.\n"
     ]
    },
    {
     "name": "stdout",
     "output_type": "stream",
     "text": [
      "INFO - 07/22/25 19:20:11 - 0:00:43 - (17024/20000) Found 89/128 valid top-1 predictions. Generating solutions ...\n",
      "INFO - 07/22/25 19:20:11 - 0:00:43 -     Found 89/128 solutions in beam hypotheses.\n"
     ]
    },
    {
     "name": "stdout",
     "output_type": "stream",
     "text": [
      "INFO - 07/22/25 19:20:11 - 0:00:43 - (17152/20000) Found 86/128 valid top-1 predictions. Generating solutions ...\n",
      "INFO - 07/22/25 19:20:11 - 0:00:43 -     Found 86/128 solutions in beam hypotheses.\n"
     ]
    },
    {
     "name": "stdout",
     "output_type": "stream",
     "text": [
      "INFO - 07/22/25 19:20:11 - 0:00:43 - (17280/20000) Found 92/128 valid top-1 predictions. Generating solutions ...\n",
      "INFO - 07/22/25 19:20:12 - 0:00:44 -     Found 92/128 solutions in beam hypotheses.\n"
     ]
    },
    {
     "name": "stdout",
     "output_type": "stream",
     "text": [
      "INFO - 07/22/25 19:20:12 - 0:00:44 - (17408/20000) Found 89/128 valid top-1 predictions. Generating solutions ...\n",
      "INFO - 07/22/25 19:20:12 - 0:00:44 -     Found 89/128 solutions in beam hypotheses.\n"
     ]
    },
    {
     "name": "stdout",
     "output_type": "stream",
     "text": [
      "INFO - 07/22/25 19:20:12 - 0:00:44 - (17536/20000) Found 93/128 valid top-1 predictions. Generating solutions ...\n",
      "INFO - 07/22/25 19:20:12 - 0:00:44 -     Found 93/128 solutions in beam hypotheses.\n"
     ]
    },
    {
     "name": "stdout",
     "output_type": "stream",
     "text": [
      "INFO - 07/22/25 19:20:12 - 0:00:44 - (17664/20000) Found 85/128 valid top-1 predictions. Generating solutions ...\n",
      "INFO - 07/22/25 19:20:12 - 0:00:44 -     Found 85/128 solutions in beam hypotheses.\n"
     ]
    },
    {
     "name": "stdout",
     "output_type": "stream",
     "text": [
      "INFO - 07/22/25 19:20:13 - 0:00:45 - (17792/20000) Found 91/128 valid top-1 predictions. Generating solutions ...\n",
      "INFO - 07/22/25 19:20:13 - 0:00:45 -     Found 91/128 solutions in beam hypotheses.\n"
     ]
    },
    {
     "name": "stdout",
     "output_type": "stream",
     "text": [
      "INFO - 07/22/25 19:20:13 - 0:00:45 - (17920/20000) Found 94/128 valid top-1 predictions. Generating solutions ...\n",
      "INFO - 07/22/25 19:20:13 - 0:00:45 -     Found 94/128 solutions in beam hypotheses.\n"
     ]
    },
    {
     "name": "stdout",
     "output_type": "stream",
     "text": [
      "INFO - 07/22/25 19:20:13 - 0:00:45 - (18048/20000) Found 87/128 valid top-1 predictions. Generating solutions ...\n",
      "INFO - 07/22/25 19:20:13 - 0:00:45 -     Found 87/128 solutions in beam hypotheses.\n"
     ]
    },
    {
     "name": "stdout",
     "output_type": "stream",
     "text": [
      "INFO - 07/22/25 19:20:14 - 0:00:46 - (18176/20000) Found 89/128 valid top-1 predictions. Generating solutions ...\n",
      "INFO - 07/22/25 19:20:14 - 0:00:46 -     Found 89/128 solutions in beam hypotheses.\n"
     ]
    },
    {
     "name": "stdout",
     "output_type": "stream",
     "text": [
      "INFO - 07/22/25 19:20:14 - 0:00:46 - (18304/20000) Found 90/128 valid top-1 predictions. Generating solutions ...\n",
      "INFO - 07/22/25 19:20:14 - 0:00:46 -     Found 90/128 solutions in beam hypotheses.\n"
     ]
    },
    {
     "name": "stdout",
     "output_type": "stream",
     "text": [
      "INFO - 07/22/25 19:20:14 - 0:00:46 - (18432/20000) Found 92/128 valid top-1 predictions. Generating solutions ...\n",
      "INFO - 07/22/25 19:20:14 - 0:00:46 -     Found 92/128 solutions in beam hypotheses.\n"
     ]
    },
    {
     "name": "stdout",
     "output_type": "stream",
     "text": [
      "INFO - 07/22/25 19:20:15 - 0:00:47 - (18560/20000) Found 90/128 valid top-1 predictions. Generating solutions ...\n",
      "INFO - 07/22/25 19:20:15 - 0:00:47 -     Found 90/128 solutions in beam hypotheses.\n"
     ]
    },
    {
     "name": "stdout",
     "output_type": "stream",
     "text": [
      "INFO - 07/22/25 19:20:15 - 0:00:47 - (18688/20000) Found 97/128 valid top-1 predictions. Generating solutions ...\n",
      "INFO - 07/22/25 19:20:15 - 0:00:47 -     Found 97/128 solutions in beam hypotheses.\n"
     ]
    },
    {
     "name": "stdout",
     "output_type": "stream",
     "text": [
      "INFO - 07/22/25 19:20:15 - 0:00:47 - (18816/20000) Found 90/128 valid top-1 predictions. Generating solutions ...\n",
      "INFO - 07/22/25 19:20:15 - 0:00:47 -     Found 90/128 solutions in beam hypotheses.\n"
     ]
    },
    {
     "name": "stdout",
     "output_type": "stream",
     "text": [
      "INFO - 07/22/25 19:20:15 - 0:00:47 - (18944/20000) Found 89/128 valid top-1 predictions. Generating solutions ...\n",
      "INFO - 07/22/25 19:20:16 - 0:00:48 -     Found 89/128 solutions in beam hypotheses.\n"
     ]
    },
    {
     "name": "stdout",
     "output_type": "stream",
     "text": [
      "INFO - 07/22/25 19:20:16 - 0:00:48 - (19072/20000) Found 92/128 valid top-1 predictions. Generating solutions ...\n",
      "INFO - 07/22/25 19:20:16 - 0:00:48 -     Found 92/128 solutions in beam hypotheses.\n"
     ]
    },
    {
     "name": "stdout",
     "output_type": "stream",
     "text": [
      "INFO - 07/22/25 19:20:16 - 0:00:48 - (19200/20000) Found 91/128 valid top-1 predictions. Generating solutions ...\n",
      "INFO - 07/22/25 19:20:16 - 0:00:48 -     Found 91/128 solutions in beam hypotheses.\n"
     ]
    },
    {
     "name": "stdout",
     "output_type": "stream",
     "text": [
      "INFO - 07/22/25 19:20:16 - 0:00:48 - (19328/20000) Found 85/128 valid top-1 predictions. Generating solutions ...\n",
      "INFO - 07/22/25 19:20:16 - 0:00:48 -     Found 85/128 solutions in beam hypotheses.\n"
     ]
    },
    {
     "name": "stdout",
     "output_type": "stream",
     "text": [
      "INFO - 07/22/25 19:20:17 - 0:00:49 - (19456/20000) Found 84/128 valid top-1 predictions. Generating solutions ...\n",
      "INFO - 07/22/25 19:20:17 - 0:00:49 -     Found 84/128 solutions in beam hypotheses.\n"
     ]
    },
    {
     "name": "stdout",
     "output_type": "stream",
     "text": [
      "INFO - 07/22/25 19:20:17 - 0:00:49 - (19584/20000) Found 92/128 valid top-1 predictions. Generating solutions ...\n",
      "INFO - 07/22/25 19:20:17 - 0:00:49 -     Found 92/128 solutions in beam hypotheses.\n"
     ]
    },
    {
     "name": "stdout",
     "output_type": "stream",
     "text": [
      "INFO - 07/22/25 19:20:17 - 0:00:49 - (19712/20000) Found 88/128 valid top-1 predictions. Generating solutions ...\n",
      "INFO - 07/22/25 19:20:17 - 0:00:49 -     Found 88/128 solutions in beam hypotheses.\n"
     ]
    },
    {
     "name": "stdout",
     "output_type": "stream",
     "text": [
      "INFO - 07/22/25 19:20:18 - 0:00:50 - (19840/20000) Found 94/128 valid top-1 predictions. Generating solutions ...\n",
      "INFO - 07/22/25 19:20:18 - 0:00:50 -     Found 94/128 solutions in beam hypotheses.\n"
     ]
    },
    {
     "name": "stdout",
     "output_type": "stream",
     "text": [
      "INFO - 07/22/25 19:20:18 - 0:00:50 - (19968/20000) Found 87/128 valid top-1 predictions. Generating solutions ...\n",
      "INFO - 07/22/25 19:20:18 - 0:00:50 -     Found 87/128 solutions in beam hypotheses.\n",
      "INFO - 07/22/25 19:20:18 - 0:00:50 - (20000/20000) Found 21/32 valid top-1 predictions. Generating solutions ...\n",
      "INFO - 07/22/25 19:20:18 - 0:00:50 -     Found 21/32 solutions in beam hypotheses.\n",
      "INFO - 07/22/25 19:20:18 - 0:00:50 - 13944/20000 (69.72%) equations were evaluated correctly.\n",
      "INFO - 07/22/25 19:20:18 - 0:00:50 - 0: 4261 / 7809 (54.57%)\n",
      "INFO - 07/22/25 19:20:18 - 0:00:50 - 1: 9683 / 12191 (79.43%)\n"
     ]
    },
    {
     "name": "stdout",
     "output_type": "stream",
     "text": [
      "INFO - 07/22/25 19:20:18 - 0:00:50 - epoch -> 227.000000\n",
      "INFO - 07/22/25 19:20:18 - 0:00:50 - valid_arithmetic_xe_loss -> 0.525209\n",
      "INFO - 07/22/25 19:20:18 - 0:00:50 - valid_arithmetic_acc -> 69.720000\n",
      "INFO - 07/22/25 19:20:18 - 0:00:50 - valid_arithmetic_perfect -> 69.720000\n",
      "INFO - 07/22/25 19:20:18 - 0:00:50 - valid_arithmetic_correct -> 69.720000\n",
      "INFO - 07/22/25 19:20:18 - 0:00:50 - valid_arithmetic_acc_d1 -> 69.720000\n",
      "INFO - 07/22/25 19:20:18 - 0:00:50 - valid_arithmetic_acc_d2 -> 69.720000\n",
      "INFO - 07/22/25 19:20:18 - 0:00:50 - valid_arithmetic_acc_d3 -> 87.460000\n",
      "INFO - 07/22/25 19:20:18 - 0:00:50 - valid_arithmetic_acc_0 -> 54.565245\n",
      "INFO - 07/22/25 19:20:18 - 0:00:50 - valid_arithmetic_acc_1 -> 79.427446\n",
      "INFO - 07/22/25 19:20:18 - 0:00:50 - __log__:{\"epoch\": 227, \"valid_arithmetic_xe_loss\": 0.5252087972640991, \"valid_arithmetic_acc\": 69.72, \"valid_arithmetic_perfect\": 69.72, \"valid_arithmetic_correct\": 69.72, \"valid_arithmetic_acc_d1\": 69.72, \"valid_arithmetic_acc_d2\": 69.72, \"valid_arithmetic_acc_d3\": 87.46, \"valid_arithmetic_acc_0\": 54.56524522986298, \"valid_arithmetic_acc_1\": 79.4274464769092}\n"
     ]
    }
   ],
   "source": [
    "for musq_file in ['musq_only23_correct.txt', 'musq_2_random.txt', 'musq_p_3_random.txt', 'musq_23_random.txt', 'musq_true.txt']:    \n",
    "    subprocess.run(musq_cmd_string.format(musq_file, musq_file + \".record\"), shell=True)"
   ]
  },
  {
   "cell_type": "code",
   "execution_count": 4,
   "id": "32a9f0",
   "metadata": {
    "collapsed": false
   },
   "outputs": [
   ],
   "source": [
    "import ast\n",
    "\n",
    "\n",
    "def parse_record_file(fname):\n",
    "    \"\"\"\n",
    "    Extracts the log from the evaluation record file.\n",
    "    \"\"\"\n",
    "    with open(fname, \"r\", encoding=\"utf8\") as recordfile:\n",
    "        lines = recordfile.readlines()\n",
    "        if not lines:\n",
    "            raise IOError(\"Error parsing {}\".format(fname))\n",
    "        line = lines[-1]\n",
    "    if \"__log__\" not in line:\n",
    "        raise ValueError(\"log line not lst line in {}\".format(fname))\n",
    "    pre, _, post = line.partition(\"__log__\")\n",
    "    log_dict = ast.literal_eval(post[1:])\n",
    "    return log_dict"
   ]
  },
  {
   "cell_type": "code",
   "execution_count": 5,
   "id": "40de47",
   "metadata": {
    "collapsed": false
   },
   "outputs": [
   ],
   "source": [
    "all_files = [\n",
    "    'mu_only23_correct.txt', 'mu_2_random.txt', 'mu_p_3_random.txt', 'mu_23_random.txt', 'mu_true.txt',\n",
    "    'musq_only23_correct.txt', 'musq_2_random.txt', 'musq_p_3_random.txt', 'musq_23_random.txt', 'musq_true.txt',\n",
    "]\n",
    "\n",
    "record = {}\n",
    "\n",
    "for fname in all_files:\n",
    "    record_fname = fname + \".record\"\n",
    "    record[fname] = parse_record_file(\"/home/user/fastdir/records/\" + record_fname)"
   ]
  },
  {
   "cell_type": "code",
   "execution_count": 6,
   "id": "54d854",
   "metadata": {
    "collapsed": false
   },
   "outputs": [
    {
     "data": {
      "text/plain": [
       "{'mu_only23_correct.txt': {'epoch': 295,\n",
       "  'valid_arithmetic_xe_loss': 1.0048168704986573,\n",
       "  'valid_arithmetic_acc': 50.905,\n",
       "  'valid_arithmetic_perfect': 50.905,\n",
       "  'valid_arithmetic_correct': 50.905,\n",
       "  'valid_arithmetic_acc_d1': 50.905,\n",
       "  'valid_arithmetic_acc_d2': 50.905,\n",
       "  'valid_arithmetic_acc_d3': 70.44,\n",
       "  'valid_arithmetic_acc_0': 87.16865155589704,\n",
       "  'valid_arithmetic_acc_1': 49.6870882740448,\n",
       "  'valid_arithmetic_acc_100': 5.834286648145122},\n",
       " 'mu_2_random.txt': {'epoch': 295,\n",
       "  'valid_arithmetic_xe_loss': 1.2454938941955567,\n",
       "  'valid_arithmetic_acc': 38.495,\n",
       "  'valid_arithmetic_perfect': 38.495,\n",
       "  'valid_arithmetic_correct': 38.495,\n",
       "  'valid_arithmetic_acc_d1': 38.495,\n",
       "  'valid_arithmetic_acc_d2': 38.495,\n",
       "  'valid_arithmetic_acc_d3': 61.7,\n",
       "  'valid_arithmetic_acc_0': 66.82033551030862,\n",
       "  'valid_arithmetic_acc_1': 36.62714097496706,\n",
       "  'valid_arithmetic_acc_100': 4.200032685079261},\n",
       " 'mu_p_3_random.txt': {'epoch': 295,\n",
       "  'valid_arithmetic_xe_loss': 1.055877096748352,\n",
       "  'valid_arithmetic_acc': 47.56,\n",
       "  'valid_arithmetic_perfect': 47.56,\n",
       "  'valid_arithmetic_correct': 47.56,\n",
       "  'valid_arithmetic_acc_d1': 47.56,\n",
       "  'valid_arithmetic_acc_d2': 47.56,\n",
       "  'valid_arithmetic_acc_d3': 67.805,\n",
       "  'valid_arithmetic_acc_0': 82.16160840056345,\n",
       "  'valid_arithmetic_acc_1': 46.26152832674572,\n",
       "  'valid_arithmetic_acc_100': 4.69030887399902},\n",
       " 'mu_23_random.txt': {'epoch': 295,\n",
       "  'valid_arithmetic_xe_loss': 1.327496562576294,\n",
       "  'valid_arithmetic_acc': 35.86,\n",
       "  'valid_arithmetic_perfect': 35.86,\n",
       "  'valid_arithmetic_correct': 35.86,\n",
       "  'valid_arithmetic_acc_d1': 35.86,\n",
       "  'valid_arithmetic_acc_d2': 35.86,\n",
       "  'valid_arithmetic_acc_d3': 59.485,\n",
       "  'valid_arithmetic_acc_0': 62.38955051863235,\n",
       "  'valid_arithmetic_acc_1': 34.60144927536232,\n",
       "  'valid_arithmetic_acc_100': 3.2521653865010625},\n",
       " 'mu_true.txt': {'epoch': 295,\n",
       "  'valid_arithmetic_xe_loss': 0.9475154834747315,\n",
       "  'valid_arithmetic_acc': 50.855,\n",
       "  'valid_arithmetic_perfect': 50.855,\n",
       "  'valid_arithmetic_correct': 50.855,\n",
       "  'valid_arithmetic_acc_d1': 50.855,\n",
       "  'valid_arithmetic_acc_d2': 50.855,\n",
       "  'valid_arithmetic_acc_d3': 70.08,\n",
       "  'valid_arithmetic_acc_0': 88.19311051351005,\n",
       "  'valid_arithmetic_acc_1': 49.27536231884058,\n",
       "  'valid_arithmetic_acc_100': 4.772021572152313},\n",
       " 'musq_only23_correct.txt': {'epoch': 227,\n",
       "  'valid_arithmetic_xe_loss': 0.5906288590431213,\n",
       "  'valid_arithmetic_acc': 68.15,\n",
       "  'valid_arithmetic_perfect': 68.15,\n",
       "  'valid_arithmetic_correct': 68.15,\n",
       "  'valid_arithmetic_acc_d1': 68.15,\n",
       "  'valid_arithmetic_acc_d2': 68.15,\n",
       "  'valid_arithmetic_acc_d3': 86.655,\n",
       "  'valid_arithmetic_acc_0': 52.605967473428095,\n",
       "  'valid_arithmetic_acc_1': 78.10680009843327},\n",
       " 'musq_2_random.txt': {'epoch': 227,\n",
       "  'valid_arithmetic_xe_loss': 0.8578119018554687,\n",
       "  'valid_arithmetic_acc': 58.195,\n",
       "  'valid_arithmetic_perfect': 58.195,\n",
       "  'valid_arithmetic_correct': 58.195,\n",
       "  'valid_arithmetic_acc_d1': 58.195,\n",
       "  'valid_arithmetic_acc_d2': 58.195,\n",
       "  'valid_arithmetic_acc_d3': 81.575,\n",
       "  'valid_arithmetic_acc_0': 40.12037392751953,\n",
       "  'valid_arithmetic_acc_1': 69.77278320072185},\n",
       " 'musq_p_3_random.txt': {'epoch': 227,\n",
       "  'valid_arithmetic_xe_loss': 0.6462999513626099,\n",
       "  'valid_arithmetic_acc': 67.77,\n",
       "  'valid_arithmetic_perfect': 67.77,\n",
       "  'valid_arithmetic_correct': 67.77,\n",
       "  'valid_arithmetic_acc_d1': 67.77,\n",
       "  'valid_arithmetic_acc_d2': 67.77,\n",
       "  'valid_arithmetic_acc_d3': 86.475,\n",
       "  'valid_arithmetic_acc_0': 52.09373799462159,\n",
       "  'valid_arithmetic_acc_1': 77.81150028709703},\n",
       " 'musq_23_random.txt': {'epoch': 227,\n",
       "  'valid_arithmetic_xe_loss': 0.9674876953125,\n",
       "  'valid_arithmetic_acc': 55.175,\n",
       "  'valid_arithmetic_perfect': 55.175,\n",
       "  'valid_arithmetic_correct': 55.175,\n",
       "  'valid_arithmetic_acc_d1': 55.175,\n",
       "  'valid_arithmetic_acc_d2': 55.175,\n",
       "  'valid_arithmetic_acc_d3': 80.055,\n",
       "  'valid_arithmetic_acc_0': 36.27865283647074,\n",
       "  'valid_arithmetic_acc_1': 67.27914034943811},\n",
       " 'musq_true.txt': {'epoch': 227,\n",
       "  'valid_arithmetic_xe_loss': 0.5252087972640991,\n",
       "  'valid_arithmetic_acc': 69.72,\n",
       "  'valid_arithmetic_perfect': 69.72,\n",
       "  'valid_arithmetic_correct': 69.72,\n",
       "  'valid_arithmetic_acc_d1': 69.72,\n",
       "  'valid_arithmetic_acc_d2': 69.72,\n",
       "  'valid_arithmetic_acc_d3': 87.46,\n",
       "  'valid_arithmetic_acc_0': 54.56524522986298,\n",
       "  'valid_arithmetic_acc_1': 79.4274464769092}}"
      ]
     },
     "execution_count": 6,
     "metadata": {
     },
     "output_type": "execute_result"
    }
   ],
   "source": [
    "record"
   ]
  },
  {
   "cell_type": "code",
   "execution_count": 7,
   "id": "568755",
   "metadata": {
    "collapsed": false
   },
   "outputs": [
    {
     "name": "stdout",
     "output_type": "stream",
     "text": [
      "mu_only23_correct.txt 50.905\n",
      "mu_2_random.txt 38.495\n",
      "mu_p_3_random.txt 47.56\n",
      "mu_23_random.txt 35.86\n",
      "mu_true.txt 50.855\n",
      "musq_only23_correct.txt 68.15\n",
      "musq_2_random.txt 58.195\n",
      "musq_p_3_random.txt 67.77\n",
      "musq_23_random.txt 55.175\n",
      "musq_true.txt 69.72\n"
     ]
    }
   ],
   "source": [
    "for key, subdict in record.items():\n",
    "    print(key, subdict['valid_arithmetic_correct'])"
   ]
  },
  {
   "cell_type": "code",
   "execution_count": 8,
   "id": "daee34",
   "metadata": {
    "collapsed": false
   },
   "outputs": [
    {
     "data": {
      "image/png": "[encoded data removed]",
      "text/plain": [
       "<Figure size 400x300 with 1 Axes>"
      ]
     },
     "execution_count": 8,
     "metadata": {
     },
     "output_type": "execute_result"
    }
   ],
   "source": [
    "import matplotlib.pyplot as plt\n",
    "import numpy as np\n",
    "\n",
    "\n",
    "variants = (\n",
    "    \"true\",\n",
    "    \"only23_correct\",\n",
    "    \"2_random\",\n",
    "    \"p_3_random\",\n",
    "    \"23_random\",\n",
    ")\n",
    "label_dict = {\n",
    "    'true': \"Actual\",\n",
    "    'only23_correct': \"only_23\",\n",
    "    '2_random': 'bad_2',\n",
    "    'p_3_random': 'bad_3',\n",
    "    '23_random': 'bad_2,3'\n",
    "}\n",
    "mu_dict = {}\n",
    "musq_dict = {}\n",
    "\n",
    "for v in variants:\n",
    "    mu_key = \"mu_\" + v + \".txt\"\n",
    "    musq_key = \"musq_\" + v + \".txt\"\n",
    "    mu_dict[v] = record[mu_key]['valid_arithmetic_correct']\n",
    "    musq_dict[v] = record[musq_key]['valid_arithmetic_correct']\n",
    "\n",
    "x = np.arange(len(variants))\n",
    "width = 0.33\n",
    "multiplier = 0\n",
    "\n",
    "fig, ax = plt.subplots(layout='constrained', figsize=[4, 3])\n",
    "\n",
    "for rdict in (mu_dict, musq_dict):\n",
    "    offset = width * multiplier\n",
    "    if rdict == mu_dict:\n",
    "        _label = \"mu\"\n",
    "    else:\n",
    "        _label = \"musq\"\n",
    "    heights = []\n",
    "    for v in variants:\n",
    "        heights.append(rdict[v])\n",
    "    rects = ax.bar(x + offset + 0.165, heights, width, label=_label)\n",
    "    #ax.bar_label(rects, padding=3)\n",
    "    multiplier += 1\n",
    "    \n",
    "ax.set_ylabel(\"Percent Correct\")\n",
    "ax.set_title(\"Model Accuracy on Corrupted Inputs\")\n",
    "ax.set_xticks(x + width, variants, rotation=30)\n",
    "ax.legend(loc='upper right', ncols=2)\n",
    "ax.set_ylim(25, 80)\n",
    "\n",
    "plt.show()"
   ]
  },
  {
   "cell_type": "markdown",
   "id": "10166f",
   "metadata": {
    "collapsed": false
   },
   "source": [
    "There is only a small difference between having all correct inputs and using only $2$ and $3$, as expected. The parity mod $2$ seems more important to the classifier than remainder mod $3$. But both $2$ and $3$ affect the results. When both are random, the performance is worse than the \"trivial\" strategy of always guessing the largest class ($1$ for $\\mu^2(n)$ and $0$ for $\\mu(n)$)."
   ]
  },
  {
   "cell_type": "code",
   "execution_count": 0,
   "id": "2b5aab",
   "metadata": {
    "collapsed": false
   },
   "outputs": [
   ],
   "source": [
   ]
  }
 ],
 "metadata": {
  "kernelspec": {
   "argv": [
    "/usr/bin/python3",
    "-m",
    "ipykernel_launcher",
    "-f",
    "{connection_file}"
   ],
   "display_name": "Python 3.10.12",
   "env": {
   },
   "language": "python",
   "metadata": {
    "debugger": true
   },
   "name": "python3",
   "resource_dir": "/usr/local/share/jupyter/kernels/python3"
  },
  "language_info": {
   "codemirror_mode": {
    "name": "ipython",
    "version": 3
   },
   "file_extension": ".py",
   "mimetype": "text/x-python",
   "name": "python",
   "nbconvert_exporter": "python",
   "pygments_lexer": "ipython3",
   "version": "3.10.12"
  }
 },
 "nbformat": 4,
 "nbformat_minor": 4
}